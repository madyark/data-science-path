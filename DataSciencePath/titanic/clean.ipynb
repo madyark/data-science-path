{
 "cells": [
  {
   "cell_type": "code",
   "execution_count": 60,
   "metadata": {},
   "outputs": [],
   "source": [
    "import polars as pl\n",
    "from collections.abc import Iterable"
   ]
  },
  {
   "cell_type": "code",
   "execution_count": 11,
   "metadata": {},
   "outputs": [
    {
     "data": {
      "text/plain": [
       "polars.config.Config"
      ]
     },
     "execution_count": 11,
     "metadata": {},
     "output_type": "execute_result"
    }
   ],
   "source": [
    "pl.Config.set_tbl_cols(300)"
   ]
  },
  {
   "cell_type": "code",
   "execution_count": 68,
   "metadata": {},
   "outputs": [],
   "source": [
    "def print_distribution_null_values(df: pl.DataFrame) -> None: \n",
    "    for col in df.columns:\n",
    "        if df[col].is_null().any():\n",
    "            null_percentage = (df[col].null_count()) / (len(df[col]))\n",
    "\n",
    "            print(f'{col} contains \\'Null\\' values: {null_percentage:.3f} of total')"
   ]
  },
  {
   "cell_type": "code",
   "execution_count": 78,
   "metadata": {},
   "outputs": [],
   "source": [
    "def print_min_max_values(df: pl.DataFrame, **kwargs) -> None:\n",
    "    for col in df.columns:\n",
    "        print(f'{col} - Min: {df[col].min()} Max: {df[col].max()}')"
   ]
  },
  {
   "cell_type": "code",
   "execution_count": 61,
   "metadata": {},
   "outputs": [],
   "source": [
    "def print_column_distribution(df: pl.DataFrame, **kwargs) -> None:\n",
    "    cols_to_exclude = kwargs.get('cols_to_exclude', None)\n",
    "\n",
    "    for col in df.columns:\n",
    "        if cols_to_exclude:\n",
    "            assert isinstance(cols_to_exclude, Iterable)\n",
    "            if col in cols_to_exclude:\n",
    "                continue\n",
    "\n",
    "        print(col + ':', \n",
    "            df\n",
    "            .group_by(pl.col(col)).count()\n",
    "            .with_columns((pl.col('count') / pl.sum('count')).alias('percentage'))\n",
    "            .sort(by='percentage', descending=True)\n",
    "        )"
   ]
  },
  {
   "cell_type": "code",
   "execution_count": null,
   "metadata": {},
   "outputs": [],
   "source": [
    "# 1. Review given files - analyze structure and content"
   ]
  },
  {
   "cell_type": "code",
   "execution_count": 12,
   "metadata": {},
   "outputs": [
    {
     "name": "stdout",
     "output_type": "stream",
     "text": [
      "891\n"
     ]
    },
    {
     "data": {
      "text/html": [
       "<div><style>\n",
       ".dataframe > thead > tr,\n",
       ".dataframe > tbody > tr {\n",
       "  text-align: right;\n",
       "  white-space: pre-wrap;\n",
       "}\n",
       "</style>\n",
       "<small>shape: (5, 12)</small><table border=\"1\" class=\"dataframe\"><thead><tr><th>PassengerId</th><th>Survived</th><th>Pclass</th><th>Name</th><th>Sex</th><th>Age</th><th>SibSp</th><th>Parch</th><th>Ticket</th><th>Fare</th><th>Cabin</th><th>Embarked</th></tr><tr><td>i64</td><td>i64</td><td>i64</td><td>str</td><td>str</td><td>f64</td><td>i64</td><td>i64</td><td>str</td><td>f64</td><td>str</td><td>str</td></tr></thead><tbody><tr><td>1</td><td>0</td><td>3</td><td>&quot;Braund, Mr. Owen Harris&quot;</td><td>&quot;male&quot;</td><td>22.0</td><td>1</td><td>0</td><td>&quot;A/5 21171&quot;</td><td>7.25</td><td>null</td><td>&quot;S&quot;</td></tr><tr><td>2</td><td>1</td><td>1</td><td>&quot;Cumings, Mrs. John Bradley (Fl…</td><td>&quot;female&quot;</td><td>38.0</td><td>1</td><td>0</td><td>&quot;PC 17599&quot;</td><td>71.2833</td><td>&quot;C85&quot;</td><td>&quot;C&quot;</td></tr><tr><td>3</td><td>1</td><td>3</td><td>&quot;Heikkinen, Miss. Laina&quot;</td><td>&quot;female&quot;</td><td>26.0</td><td>0</td><td>0</td><td>&quot;STON/O2. 3101282&quot;</td><td>7.925</td><td>null</td><td>&quot;S&quot;</td></tr><tr><td>4</td><td>1</td><td>1</td><td>&quot;Futrelle, Mrs. Jacques Heath (…</td><td>&quot;female&quot;</td><td>35.0</td><td>1</td><td>0</td><td>&quot;113803&quot;</td><td>53.1</td><td>&quot;C123&quot;</td><td>&quot;S&quot;</td></tr><tr><td>5</td><td>0</td><td>3</td><td>&quot;Allen, Mr. William Henry&quot;</td><td>&quot;male&quot;</td><td>35.0</td><td>0</td><td>0</td><td>&quot;373450&quot;</td><td>8.05</td><td>null</td><td>&quot;S&quot;</td></tr></tbody></table></div>"
      ],
      "text/plain": [
       "shape: (5, 12)\n",
       "┌────────┬────────┬────────┬────────┬───────┬──────┬───────┬───────┬───────┬───────┬───────┬───────┐\n",
       "│ Passen ┆ Surviv ┆ Pclass ┆ Name   ┆ Sex   ┆ Age  ┆ SibSp ┆ Parch ┆ Ticke ┆ Fare  ┆ Cabin ┆ Embar │\n",
       "│ gerId  ┆ ed     ┆ ---    ┆ ---    ┆ ---   ┆ ---  ┆ ---   ┆ ---   ┆ t     ┆ ---   ┆ ---   ┆ ked   │\n",
       "│ ---    ┆ ---    ┆ i64    ┆ str    ┆ str   ┆ f64  ┆ i64   ┆ i64   ┆ ---   ┆ f64   ┆ str   ┆ ---   │\n",
       "│ i64    ┆ i64    ┆        ┆        ┆       ┆      ┆       ┆       ┆ str   ┆       ┆       ┆ str   │\n",
       "╞════════╪════════╪════════╪════════╪═══════╪══════╪═══════╪═══════╪═══════╪═══════╪═══════╪═══════╡\n",
       "│ 1      ┆ 0      ┆ 3      ┆ Braund ┆ male  ┆ 22.0 ┆ 1     ┆ 0     ┆ A/5   ┆ 7.25  ┆ null  ┆ S     │\n",
       "│        ┆        ┆        ┆ , Mr.  ┆       ┆      ┆       ┆       ┆ 21171 ┆       ┆       ┆       │\n",
       "│        ┆        ┆        ┆ Owen   ┆       ┆      ┆       ┆       ┆       ┆       ┆       ┆       │\n",
       "│        ┆        ┆        ┆ Harris ┆       ┆      ┆       ┆       ┆       ┆       ┆       ┆       │\n",
       "│ 2      ┆ 1      ┆ 1      ┆ Cuming ┆ femal ┆ 38.0 ┆ 1     ┆ 0     ┆ PC    ┆ 71.28 ┆ C85   ┆ C     │\n",
       "│        ┆        ┆        ┆ s,     ┆ e     ┆      ┆       ┆       ┆ 17599 ┆ 33    ┆       ┆       │\n",
       "│        ┆        ┆        ┆ Mrs.   ┆       ┆      ┆       ┆       ┆       ┆       ┆       ┆       │\n",
       "│        ┆        ┆        ┆ John   ┆       ┆      ┆       ┆       ┆       ┆       ┆       ┆       │\n",
       "│        ┆        ┆        ┆ Bradle ┆       ┆      ┆       ┆       ┆       ┆       ┆       ┆       │\n",
       "│        ┆        ┆        ┆ y (Fl… ┆       ┆      ┆       ┆       ┆       ┆       ┆       ┆       │\n",
       "│ 3      ┆ 1      ┆ 3      ┆ Heikki ┆ femal ┆ 26.0 ┆ 0     ┆ 0     ┆ STON/ ┆ 7.925 ┆ null  ┆ S     │\n",
       "│        ┆        ┆        ┆ nen,   ┆ e     ┆      ┆       ┆       ┆ O2.   ┆       ┆       ┆       │\n",
       "│        ┆        ┆        ┆ Miss.  ┆       ┆      ┆       ┆       ┆ 31012 ┆       ┆       ┆       │\n",
       "│        ┆        ┆        ┆ Laina  ┆       ┆      ┆       ┆       ┆ 82    ┆       ┆       ┆       │\n",
       "│ 4      ┆ 1      ┆ 1      ┆ Futrel ┆ femal ┆ 35.0 ┆ 1     ┆ 0     ┆ 11380 ┆ 53.1  ┆ C123  ┆ S     │\n",
       "│        ┆        ┆        ┆ le,    ┆ e     ┆      ┆       ┆       ┆ 3     ┆       ┆       ┆       │\n",
       "│        ┆        ┆        ┆ Mrs.   ┆       ┆      ┆       ┆       ┆       ┆       ┆       ┆       │\n",
       "│        ┆        ┆        ┆ Jacque ┆       ┆      ┆       ┆       ┆       ┆       ┆       ┆       │\n",
       "│        ┆        ┆        ┆ s      ┆       ┆      ┆       ┆       ┆       ┆       ┆       ┆       │\n",
       "│        ┆        ┆        ┆ Heath  ┆       ┆      ┆       ┆       ┆       ┆       ┆       ┆       │\n",
       "│        ┆        ┆        ┆ (…     ┆       ┆      ┆       ┆       ┆       ┆       ┆       ┆       │\n",
       "│ 5      ┆ 0      ┆ 3      ┆ Allen, ┆ male  ┆ 35.0 ┆ 0     ┆ 0     ┆ 37345 ┆ 8.05  ┆ null  ┆ S     │\n",
       "│        ┆        ┆        ┆ Mr.    ┆       ┆      ┆       ┆       ┆ 0     ┆       ┆       ┆       │\n",
       "│        ┆        ┆        ┆ Willia ┆       ┆      ┆       ┆       ┆       ┆       ┆       ┆       │\n",
       "│        ┆        ┆        ┆ m      ┆       ┆      ┆       ┆       ┆       ┆       ┆       ┆       │\n",
       "│        ┆        ┆        ┆ Henry  ┆       ┆      ┆       ┆       ┆       ┆       ┆       ┆       │\n",
       "└────────┴────────┴────────┴────────┴───────┴──────┴───────┴───────┴───────┴───────┴───────┴───────┘"
      ]
     },
     "execution_count": 12,
     "metadata": {},
     "output_type": "execute_result"
    }
   ],
   "source": [
    "train_df = pl.read_csv(\n",
    "    'source/train.csv', \n",
    "    infer_schema_length=10000\n",
    ")\n",
    "\n",
    "print(len(train_df))\n",
    "train_df.head()"
   ]
  },
  {
   "cell_type": "code",
   "execution_count": 13,
   "metadata": {},
   "outputs": [
    {
     "name": "stdout",
     "output_type": "stream",
     "text": [
      "418\n"
     ]
    },
    {
     "data": {
      "text/html": [
       "<div><style>\n",
       ".dataframe > thead > tr,\n",
       ".dataframe > tbody > tr {\n",
       "  text-align: right;\n",
       "  white-space: pre-wrap;\n",
       "}\n",
       "</style>\n",
       "<small>shape: (5, 11)</small><table border=\"1\" class=\"dataframe\"><thead><tr><th>PassengerId</th><th>Pclass</th><th>Name</th><th>Sex</th><th>Age</th><th>SibSp</th><th>Parch</th><th>Ticket</th><th>Fare</th><th>Cabin</th><th>Embarked</th></tr><tr><td>i64</td><td>i64</td><td>str</td><td>str</td><td>f64</td><td>i64</td><td>i64</td><td>str</td><td>f64</td><td>str</td><td>str</td></tr></thead><tbody><tr><td>892</td><td>3</td><td>&quot;Kelly, Mr. James&quot;</td><td>&quot;male&quot;</td><td>34.5</td><td>0</td><td>0</td><td>&quot;330911&quot;</td><td>7.8292</td><td>null</td><td>&quot;Q&quot;</td></tr><tr><td>893</td><td>3</td><td>&quot;Wilkes, Mrs. James (Ellen Need…</td><td>&quot;female&quot;</td><td>47.0</td><td>1</td><td>0</td><td>&quot;363272&quot;</td><td>7.0</td><td>null</td><td>&quot;S&quot;</td></tr><tr><td>894</td><td>2</td><td>&quot;Myles, Mr. Thomas Francis&quot;</td><td>&quot;male&quot;</td><td>62.0</td><td>0</td><td>0</td><td>&quot;240276&quot;</td><td>9.6875</td><td>null</td><td>&quot;Q&quot;</td></tr><tr><td>895</td><td>3</td><td>&quot;Wirz, Mr. Albert&quot;</td><td>&quot;male&quot;</td><td>27.0</td><td>0</td><td>0</td><td>&quot;315154&quot;</td><td>8.6625</td><td>null</td><td>&quot;S&quot;</td></tr><tr><td>896</td><td>3</td><td>&quot;Hirvonen, Mrs. Alexander (Helg…</td><td>&quot;female&quot;</td><td>22.0</td><td>1</td><td>1</td><td>&quot;3101298&quot;</td><td>12.2875</td><td>null</td><td>&quot;S&quot;</td></tr></tbody></table></div>"
      ],
      "text/plain": [
       "shape: (5, 11)\n",
       "┌─────────┬────────┬─────────┬────────┬──────┬───────┬───────┬─────────┬─────────┬───────┬─────────┐\n",
       "│ Passeng ┆ Pclass ┆ Name    ┆ Sex    ┆ Age  ┆ SibSp ┆ Parch ┆ Ticket  ┆ Fare    ┆ Cabin ┆ Embarke │\n",
       "│ erId    ┆ ---    ┆ ---     ┆ ---    ┆ ---  ┆ ---   ┆ ---   ┆ ---     ┆ ---     ┆ ---   ┆ d       │\n",
       "│ ---     ┆ i64    ┆ str     ┆ str    ┆ f64  ┆ i64   ┆ i64   ┆ str     ┆ f64     ┆ str   ┆ ---     │\n",
       "│ i64     ┆        ┆         ┆        ┆      ┆       ┆       ┆         ┆         ┆       ┆ str     │\n",
       "╞═════════╪════════╪═════════╪════════╪══════╪═══════╪═══════╪═════════╪═════════╪═══════╪═════════╡\n",
       "│ 892     ┆ 3      ┆ Kelly,  ┆ male   ┆ 34.5 ┆ 0     ┆ 0     ┆ 330911  ┆ 7.8292  ┆ null  ┆ Q       │\n",
       "│         ┆        ┆ Mr.     ┆        ┆      ┆       ┆       ┆         ┆         ┆       ┆         │\n",
       "│         ┆        ┆ James   ┆        ┆      ┆       ┆       ┆         ┆         ┆       ┆         │\n",
       "│ 893     ┆ 3      ┆ Wilkes, ┆ female ┆ 47.0 ┆ 1     ┆ 0     ┆ 363272  ┆ 7.0     ┆ null  ┆ S       │\n",
       "│         ┆        ┆ Mrs.    ┆        ┆      ┆       ┆       ┆         ┆         ┆       ┆         │\n",
       "│         ┆        ┆ James   ┆        ┆      ┆       ┆       ┆         ┆         ┆       ┆         │\n",
       "│         ┆        ┆ (Ellen  ┆        ┆      ┆       ┆       ┆         ┆         ┆       ┆         │\n",
       "│         ┆        ┆ Need…   ┆        ┆      ┆       ┆       ┆         ┆         ┆       ┆         │\n",
       "│ 894     ┆ 2      ┆ Myles,  ┆ male   ┆ 62.0 ┆ 0     ┆ 0     ┆ 240276  ┆ 9.6875  ┆ null  ┆ Q       │\n",
       "│         ┆        ┆ Mr.     ┆        ┆      ┆       ┆       ┆         ┆         ┆       ┆         │\n",
       "│         ┆        ┆ Thomas  ┆        ┆      ┆       ┆       ┆         ┆         ┆       ┆         │\n",
       "│         ┆        ┆ Francis ┆        ┆      ┆       ┆       ┆         ┆         ┆       ┆         │\n",
       "│ 895     ┆ 3      ┆ Wirz,   ┆ male   ┆ 27.0 ┆ 0     ┆ 0     ┆ 315154  ┆ 8.6625  ┆ null  ┆ S       │\n",
       "│         ┆        ┆ Mr.     ┆        ┆      ┆       ┆       ┆         ┆         ┆       ┆         │\n",
       "│         ┆        ┆ Albert  ┆        ┆      ┆       ┆       ┆         ┆         ┆       ┆         │\n",
       "│ 896     ┆ 3      ┆ Hirvone ┆ female ┆ 22.0 ┆ 1     ┆ 1     ┆ 3101298 ┆ 12.2875 ┆ null  ┆ S       │\n",
       "│         ┆        ┆ n, Mrs. ┆        ┆      ┆       ┆       ┆         ┆         ┆       ┆         │\n",
       "│         ┆        ┆ Alexand ┆        ┆      ┆       ┆       ┆         ┆         ┆       ┆         │\n",
       "│         ┆        ┆ er      ┆        ┆      ┆       ┆       ┆         ┆         ┆       ┆         │\n",
       "│         ┆        ┆ (Helg…  ┆        ┆      ┆       ┆       ┆         ┆         ┆       ┆         │\n",
       "└─────────┴────────┴─────────┴────────┴──────┴───────┴───────┴─────────┴─────────┴───────┴─────────┘"
      ]
     },
     "execution_count": 13,
     "metadata": {},
     "output_type": "execute_result"
    }
   ],
   "source": [
    "test_df = pl.read_csv(\n",
    "    'source/test.csv',\n",
    "    infer_schema_length=10000\n",
    ")\n",
    "\n",
    "print(len(test_df))\n",
    "test_df.head() \n",
    "\n",
    "# Test df missing 'Survived' column"
   ]
  },
  {
   "cell_type": "code",
   "execution_count": 10,
   "metadata": {},
   "outputs": [
    {
     "name": "stdout",
     "output_type": "stream",
     "text": [
      "418\n"
     ]
    },
    {
     "data": {
      "text/html": [
       "<div><style>\n",
       ".dataframe > thead > tr,\n",
       ".dataframe > tbody > tr {\n",
       "  text-align: right;\n",
       "  white-space: pre-wrap;\n",
       "}\n",
       "</style>\n",
       "<small>shape: (5, 2)</small><table border=\"1\" class=\"dataframe\"><thead><tr><th>PassengerId</th><th>Survived</th></tr><tr><td>i64</td><td>i64</td></tr></thead><tbody><tr><td>892</td><td>0</td></tr><tr><td>893</td><td>1</td></tr><tr><td>894</td><td>0</td></tr><tr><td>895</td><td>0</td></tr><tr><td>896</td><td>1</td></tr></tbody></table></div>"
      ],
      "text/plain": [
       "shape: (5, 2)\n",
       "┌─────────────┬──────────┐\n",
       "│ PassengerId ┆ Survived │\n",
       "│ ---         ┆ ---      │\n",
       "│ i64         ┆ i64      │\n",
       "╞═════════════╪══════════╡\n",
       "│ 892         ┆ 0        │\n",
       "│ 893         ┆ 1        │\n",
       "│ 894         ┆ 0        │\n",
       "│ 895         ┆ 0        │\n",
       "│ 896         ┆ 1        │\n",
       "└─────────────┴──────────┘"
      ]
     },
     "execution_count": 10,
     "metadata": {},
     "output_type": "execute_result"
    }
   ],
   "source": [
    "submission_sample_df = pl.read_csv(\n",
    "    'source/gender_submission.csv',\n",
    "    infer_schema_length=10000\n",
    ")\n",
    "\n",
    "print(len(submission_sample_df))\n",
    "submission_sample_df.head()"
   ]
  },
  {
   "cell_type": "code",
   "execution_count": 15,
   "metadata": {},
   "outputs": [],
   "source": [
    "# 2.1 Start EDA on Train df"
   ]
  },
  {
   "cell_type": "code",
   "execution_count": 17,
   "metadata": {},
   "outputs": [
    {
     "name": "stdout",
     "output_type": "stream",
     "text": [
      "891\n"
     ]
    },
    {
     "data": {
      "text/html": [
       "<div><style>\n",
       ".dataframe > thead > tr,\n",
       ".dataframe > tbody > tr {\n",
       "  text-align: right;\n",
       "  white-space: pre-wrap;\n",
       "}\n",
       "</style>\n",
       "<small>shape: (5, 12)</small><table border=\"1\" class=\"dataframe\"><thead><tr><th>PassengerId</th><th>Survived</th><th>Pclass</th><th>Name</th><th>Sex</th><th>Age</th><th>SibSp</th><th>Parch</th><th>Ticket</th><th>Fare</th><th>Cabin</th><th>Embarked</th></tr><tr><td>i64</td><td>i64</td><td>i64</td><td>str</td><td>str</td><td>f64</td><td>i64</td><td>i64</td><td>str</td><td>f64</td><td>str</td><td>str</td></tr></thead><tbody><tr><td>1</td><td>0</td><td>3</td><td>&quot;Braund, Mr. Owen Harris&quot;</td><td>&quot;male&quot;</td><td>22.0</td><td>1</td><td>0</td><td>&quot;A/5 21171&quot;</td><td>7.25</td><td>null</td><td>&quot;S&quot;</td></tr><tr><td>2</td><td>1</td><td>1</td><td>&quot;Cumings, Mrs. John Bradley (Fl…</td><td>&quot;female&quot;</td><td>38.0</td><td>1</td><td>0</td><td>&quot;PC 17599&quot;</td><td>71.2833</td><td>&quot;C85&quot;</td><td>&quot;C&quot;</td></tr><tr><td>3</td><td>1</td><td>3</td><td>&quot;Heikkinen, Miss. Laina&quot;</td><td>&quot;female&quot;</td><td>26.0</td><td>0</td><td>0</td><td>&quot;STON/O2. 3101282&quot;</td><td>7.925</td><td>null</td><td>&quot;S&quot;</td></tr><tr><td>4</td><td>1</td><td>1</td><td>&quot;Futrelle, Mrs. Jacques Heath (…</td><td>&quot;female&quot;</td><td>35.0</td><td>1</td><td>0</td><td>&quot;113803&quot;</td><td>53.1</td><td>&quot;C123&quot;</td><td>&quot;S&quot;</td></tr><tr><td>5</td><td>0</td><td>3</td><td>&quot;Allen, Mr. William Henry&quot;</td><td>&quot;male&quot;</td><td>35.0</td><td>0</td><td>0</td><td>&quot;373450&quot;</td><td>8.05</td><td>null</td><td>&quot;S&quot;</td></tr></tbody></table></div>"
      ],
      "text/plain": [
       "shape: (5, 12)\n",
       "┌────────┬────────┬────────┬────────┬───────┬──────┬───────┬───────┬───────┬───────┬───────┬───────┐\n",
       "│ Passen ┆ Surviv ┆ Pclass ┆ Name   ┆ Sex   ┆ Age  ┆ SibSp ┆ Parch ┆ Ticke ┆ Fare  ┆ Cabin ┆ Embar │\n",
       "│ gerId  ┆ ed     ┆ ---    ┆ ---    ┆ ---   ┆ ---  ┆ ---   ┆ ---   ┆ t     ┆ ---   ┆ ---   ┆ ked   │\n",
       "│ ---    ┆ ---    ┆ i64    ┆ str    ┆ str   ┆ f64  ┆ i64   ┆ i64   ┆ ---   ┆ f64   ┆ str   ┆ ---   │\n",
       "│ i64    ┆ i64    ┆        ┆        ┆       ┆      ┆       ┆       ┆ str   ┆       ┆       ┆ str   │\n",
       "╞════════╪════════╪════════╪════════╪═══════╪══════╪═══════╪═══════╪═══════╪═══════╪═══════╪═══════╡\n",
       "│ 1      ┆ 0      ┆ 3      ┆ Braund ┆ male  ┆ 22.0 ┆ 1     ┆ 0     ┆ A/5   ┆ 7.25  ┆ null  ┆ S     │\n",
       "│        ┆        ┆        ┆ , Mr.  ┆       ┆      ┆       ┆       ┆ 21171 ┆       ┆       ┆       │\n",
       "│        ┆        ┆        ┆ Owen   ┆       ┆      ┆       ┆       ┆       ┆       ┆       ┆       │\n",
       "│        ┆        ┆        ┆ Harris ┆       ┆      ┆       ┆       ┆       ┆       ┆       ┆       │\n",
       "│ 2      ┆ 1      ┆ 1      ┆ Cuming ┆ femal ┆ 38.0 ┆ 1     ┆ 0     ┆ PC    ┆ 71.28 ┆ C85   ┆ C     │\n",
       "│        ┆        ┆        ┆ s,     ┆ e     ┆      ┆       ┆       ┆ 17599 ┆ 33    ┆       ┆       │\n",
       "│        ┆        ┆        ┆ Mrs.   ┆       ┆      ┆       ┆       ┆       ┆       ┆       ┆       │\n",
       "│        ┆        ┆        ┆ John   ┆       ┆      ┆       ┆       ┆       ┆       ┆       ┆       │\n",
       "│        ┆        ┆        ┆ Bradle ┆       ┆      ┆       ┆       ┆       ┆       ┆       ┆       │\n",
       "│        ┆        ┆        ┆ y (Fl… ┆       ┆      ┆       ┆       ┆       ┆       ┆       ┆       │\n",
       "│ 3      ┆ 1      ┆ 3      ┆ Heikki ┆ femal ┆ 26.0 ┆ 0     ┆ 0     ┆ STON/ ┆ 7.925 ┆ null  ┆ S     │\n",
       "│        ┆        ┆        ┆ nen,   ┆ e     ┆      ┆       ┆       ┆ O2.   ┆       ┆       ┆       │\n",
       "│        ┆        ┆        ┆ Miss.  ┆       ┆      ┆       ┆       ┆ 31012 ┆       ┆       ┆       │\n",
       "│        ┆        ┆        ┆ Laina  ┆       ┆      ┆       ┆       ┆ 82    ┆       ┆       ┆       │\n",
       "│ 4      ┆ 1      ┆ 1      ┆ Futrel ┆ femal ┆ 35.0 ┆ 1     ┆ 0     ┆ 11380 ┆ 53.1  ┆ C123  ┆ S     │\n",
       "│        ┆        ┆        ┆ le,    ┆ e     ┆      ┆       ┆       ┆ 3     ┆       ┆       ┆       │\n",
       "│        ┆        ┆        ┆ Mrs.   ┆       ┆      ┆       ┆       ┆       ┆       ┆       ┆       │\n",
       "│        ┆        ┆        ┆ Jacque ┆       ┆      ┆       ┆       ┆       ┆       ┆       ┆       │\n",
       "│        ┆        ┆        ┆ s      ┆       ┆      ┆       ┆       ┆       ┆       ┆       ┆       │\n",
       "│        ┆        ┆        ┆ Heath  ┆       ┆      ┆       ┆       ┆       ┆       ┆       ┆       │\n",
       "│        ┆        ┆        ┆ (…     ┆       ┆      ┆       ┆       ┆       ┆       ┆       ┆       │\n",
       "│ 5      ┆ 0      ┆ 3      ┆ Allen, ┆ male  ┆ 35.0 ┆ 0     ┆ 0     ┆ 37345 ┆ 8.05  ┆ null  ┆ S     │\n",
       "│        ┆        ┆        ┆ Mr.    ┆       ┆      ┆       ┆       ┆ 0     ┆       ┆       ┆       │\n",
       "│        ┆        ┆        ┆ Willia ┆       ┆      ┆       ┆       ┆       ┆       ┆       ┆       │\n",
       "│        ┆        ┆        ┆ m      ┆       ┆      ┆       ┆       ┆       ┆       ┆       ┆       │\n",
       "│        ┆        ┆        ┆ Henry  ┆       ┆      ┆       ┆       ┆       ┆       ┆       ┆       │\n",
       "└────────┴────────┴────────┴────────┴───────┴──────┴───────┴───────┴───────┴───────┴───────┴───────┘"
      ]
     },
     "execution_count": 17,
     "metadata": {},
     "output_type": "execute_result"
    }
   ],
   "source": [
    "print(len(train_df))\n",
    "train_df.head()"
   ]
  },
  {
   "cell_type": "code",
   "execution_count": 71,
   "metadata": {},
   "outputs": [
    {
     "name": "stdout",
     "output_type": "stream",
     "text": [
      "Age contains 'Null' values: 0.199 of total\n",
      "Cabin contains 'Null' values: 0.771 of total\n",
      "Embarked contains 'Null' values: 0.002 of total\n"
     ]
    }
   ],
   "source": [
    "print_distribution_null_values(train_df)\n",
    "\n",
    "        # Age: 20% of values are null -> (is field suitable for predictions?)\n",
    "        # Cabin: 77% of values are null -> (is field suitable for predictions?)\n",
    "        # Embarked: 2% of values are null -> Negligible"
   ]
  },
  {
   "cell_type": "code",
   "execution_count": 24,
   "metadata": {},
   "outputs": [],
   "source": [
    "assert len(train_df['PassengerId'].unique()) == len(train_df['PassengerId']) # Assert Id column only contains unique values"
   ]
  },
  {
   "cell_type": "code",
   "execution_count": 79,
   "metadata": {},
   "outputs": [
    {
     "name": "stdout",
     "output_type": "stream",
     "text": [
      "PassengerId - Min: 1 Max: 891\n",
      "Survived - Min: 0 Max: 1\n",
      "Pclass - Min: 1 Max: 3\n",
      "Name - Min: Abbing, Mr. Anthony Max: van Melkebeke, Mr. Philemon\n",
      "Sex - Min: female Max: male\n",
      "Age - Min: 0.42 Max: 80.0\n",
      "SibSp - Min: 0 Max: 8\n",
      "Parch - Min: 0 Max: 6\n",
      "Ticket - Min: 110152 Max: WE/P 5735\n",
      "Fare - Min: 0.0 Max: 512.3292\n",
      "Cabin - Min: A10 Max: T\n",
      "Embarked - Min: C Max: S\n"
     ]
    }
   ],
   "source": [
    "print_min_max_values(train_df)"
   ]
  },
  {
   "cell_type": "code",
   "execution_count": 81,
   "metadata": {},
   "outputs": [],
   "source": [
    "# Create buckets for Age, SibSp, Parch, and Fare fields\n",
    "\n",
    "train_df = train_df.with_columns(\n",
    "    pl.when(pl.col('Age') <= 20).then(pl.lit('0-20'))\n",
    "    .when(pl.col('Age') <= 40).then(pl.lit('21-40'))\n",
    "    .when(pl.col('Age') <= 60).then(pl.lit('41-60'))\n",
    "    .otherwise(pl.lit('61+'))\n",
    "    .alias('Age_Bucket'),\n",
    "\n",
    "    pl.when(pl.col('SibSp') <= 1).then(pl.lit('0-1'))\n",
    "    .when(pl.col('SibSp') <= 4).then(pl.lit('2-4'))\n",
    "    .otherwise(pl.lit('4+'))\n",
    "    .alias('SibSp_Bucket'),\n",
    "\n",
    "    pl.when(pl.col('Parch') <= 1).then(pl.lit('0-1'))\n",
    "    .when(pl.col('Parch') <= 4).then(pl.lit('2-4'))\n",
    "    .otherwise(pl.lit('4+'))\n",
    "    .alias('Parch_Bucket'),\n",
    "    \n",
    "    pl.when(pl.col('Fare') <= 100).then(pl.lit('0-100'))\n",
    "    .when(pl.col('Fare') <= 200).then(pl.lit('101-200'))\n",
    "    .when(pl.col('Fare') <= 300).then(pl.lit('201-300'))\n",
    "    .when(pl.col('Fare') <= 400).then(pl.lit('301-400'))\n",
    "    .otherwise(pl.lit('400+'))\n",
    "    .alias('Fare_Bucket'),\n",
    ")"
   ]
  },
  {
   "cell_type": "code",
   "execution_count": 82,
   "metadata": {},
   "outputs": [
    {
     "name": "stdout",
     "output_type": "stream",
     "text": [
      "Survived: shape: (2, 3)\n",
      "┌──────────┬───────┬────────────┐\n",
      "│ Survived ┆ count ┆ percentage │\n",
      "│ ---      ┆ ---   ┆ ---        │\n",
      "│ i64      ┆ u32   ┆ f64        │\n",
      "╞══════════╪═══════╪════════════╡\n",
      "│ 0        ┆ 549   ┆ 0.616162   │\n",
      "│ 1        ┆ 342   ┆ 0.383838   │\n",
      "└──────────┴───────┴────────────┘\n",
      "Pclass: shape: (3, 3)\n",
      "┌────────┬───────┬────────────┐\n",
      "│ Pclass ┆ count ┆ percentage │\n",
      "│ ---    ┆ ---   ┆ ---        │\n",
      "│ i64    ┆ u32   ┆ f64        │\n",
      "╞════════╪═══════╪════════════╡\n",
      "│ 3      ┆ 491   ┆ 0.551066   │\n",
      "│ 1      ┆ 216   ┆ 0.242424   │\n",
      "│ 2      ┆ 184   ┆ 0.20651    │\n",
      "└────────┴───────┴────────────┘\n",
      "Sex: shape: (2, 3)\n",
      "┌────────┬───────┬────────────┐\n",
      "│ Sex    ┆ count ┆ percentage │\n",
      "│ ---    ┆ ---   ┆ ---        │\n",
      "│ str    ┆ u32   ┆ f64        │\n",
      "╞════════╪═══════╪════════════╡\n",
      "│ male   ┆ 577   ┆ 0.647587   │\n",
      "│ female ┆ 314   ┆ 0.352413   │\n",
      "└────────┴───────┴────────────┘\n",
      "Age: shape: (89, 3)\n",
      "┌──────┬───────┬────────────┐\n",
      "│ Age  ┆ count ┆ percentage │\n",
      "│ ---  ┆ ---   ┆ ---        │\n",
      "│ f64  ┆ u32   ┆ f64        │\n",
      "╞══════╪═══════╪════════════╡\n",
      "│ null ┆ 177   ┆ 0.198653   │\n",
      "│ 24.0 ┆ 30    ┆ 0.03367    │\n",
      "│ 22.0 ┆ 27    ┆ 0.030303   │\n",
      "│ 18.0 ┆ 26    ┆ 0.029181   │\n",
      "│ 30.0 ┆ 25    ┆ 0.028058   │\n",
      "│ …    ┆ …     ┆ …          │\n",
      "│ 0.42 ┆ 1     ┆ 0.001122   │\n",
      "│ 53.0 ┆ 1     ┆ 0.001122   │\n",
      "│ 34.5 ┆ 1     ┆ 0.001122   │\n",
      "│ 74.0 ┆ 1     ┆ 0.001122   │\n",
      "│ 0.92 ┆ 1     ┆ 0.001122   │\n",
      "└──────┴───────┴────────────┘\n",
      "SibSp: shape: (7, 3)\n",
      "┌───────┬───────┬────────────┐\n",
      "│ SibSp ┆ count ┆ percentage │\n",
      "│ ---   ┆ ---   ┆ ---        │\n",
      "│ i64   ┆ u32   ┆ f64        │\n",
      "╞═══════╪═══════╪════════════╡\n",
      "│ 0     ┆ 608   ┆ 0.682379   │\n",
      "│ 1     ┆ 209   ┆ 0.234568   │\n",
      "│ 2     ┆ 28    ┆ 0.031425   │\n",
      "│ 4     ┆ 18    ┆ 0.020202   │\n",
      "│ 3     ┆ 16    ┆ 0.017957   │\n",
      "│ 8     ┆ 7     ┆ 0.007856   │\n",
      "│ 5     ┆ 5     ┆ 0.005612   │\n",
      "└───────┴───────┴────────────┘\n",
      "Parch: shape: (7, 3)\n",
      "┌───────┬───────┬────────────┐\n",
      "│ Parch ┆ count ┆ percentage │\n",
      "│ ---   ┆ ---   ┆ ---        │\n",
      "│ i64   ┆ u32   ┆ f64        │\n",
      "╞═══════╪═══════╪════════════╡\n",
      "│ 0     ┆ 678   ┆ 0.760943   │\n",
      "│ 1     ┆ 118   ┆ 0.132435   │\n",
      "│ 2     ┆ 80    ┆ 0.089787   │\n",
      "│ 3     ┆ 5     ┆ 0.005612   │\n",
      "│ 5     ┆ 5     ┆ 0.005612   │\n",
      "│ 4     ┆ 4     ┆ 0.004489   │\n",
      "│ 6     ┆ 1     ┆ 0.001122   │\n",
      "└───────┴───────┴────────────┘\n",
      "Cabin: shape: (148, 3)\n",
      "┌─────────────┬───────┬────────────┐\n",
      "│ Cabin       ┆ count ┆ percentage │\n",
      "│ ---         ┆ ---   ┆ ---        │\n",
      "│ str         ┆ u32   ┆ f64        │\n",
      "╞═════════════╪═══════╪════════════╡\n",
      "│ null        ┆ 687   ┆ 0.771044   │\n",
      "│ C23 C25 C27 ┆ 4     ┆ 0.004489   │\n",
      "│ B96 B98     ┆ 4     ┆ 0.004489   │\n",
      "│ G6          ┆ 4     ┆ 0.004489   │\n",
      "│ F33         ┆ 3     ┆ 0.003367   │\n",
      "│ …           ┆ …     ┆ …          │\n",
      "│ C70         ┆ 1     ┆ 0.001122   │\n",
      "│ C7          ┆ 1     ┆ 0.001122   │\n",
      "│ D49         ┆ 1     ┆ 0.001122   │\n",
      "│ B39         ┆ 1     ┆ 0.001122   │\n",
      "│ B73         ┆ 1     ┆ 0.001122   │\n",
      "└─────────────┴───────┴────────────┘\n",
      "Embarked: shape: (4, 3)\n",
      "┌──────────┬───────┬────────────┐\n",
      "│ Embarked ┆ count ┆ percentage │\n",
      "│ ---      ┆ ---   ┆ ---        │\n",
      "│ str      ┆ u32   ┆ f64        │\n",
      "╞══════════╪═══════╪════════════╡\n",
      "│ S        ┆ 644   ┆ 0.722783   │\n",
      "│ C        ┆ 168   ┆ 0.188552   │\n",
      "│ Q        ┆ 77    ┆ 0.08642    │\n",
      "│ null     ┆ 2     ┆ 0.002245   │\n",
      "└──────────┴───────┴────────────┘\n",
      "Age_Bucket: shape: (4, 3)\n",
      "┌────────────┬───────┬────────────┐\n",
      "│ Age_Bucket ┆ count ┆ percentage │\n",
      "│ ---        ┆ ---   ┆ ---        │\n",
      "│ str        ┆ u32   ┆ f64        │\n",
      "╞════════════╪═══════╪════════════╡\n",
      "│ 21-40      ┆ 385   ┆ 0.432099   │\n",
      "│ 61+        ┆ 199   ┆ 0.223345   │\n",
      "│ 0-20       ┆ 179   ┆ 0.200898   │\n",
      "│ 41-60      ┆ 128   ┆ 0.143659   │\n",
      "└────────────┴───────┴────────────┘\n",
      "SibSp_Bucket: shape: (3, 3)\n",
      "┌──────────────┬───────┬────────────┐\n",
      "│ SibSp_Bucket ┆ count ┆ percentage │\n",
      "│ ---          ┆ ---   ┆ ---        │\n",
      "│ str          ┆ u32   ┆ f64        │\n",
      "╞══════════════╪═══════╪════════════╡\n",
      "│ 0-1          ┆ 817   ┆ 0.916947   │\n",
      "│ 2-4          ┆ 62    ┆ 0.069585   │\n",
      "│ 4+           ┆ 12    ┆ 0.013468   │\n",
      "└──────────────┴───────┴────────────┘\n",
      "Parch_Bucket: shape: (3, 3)\n",
      "┌──────────────┬───────┬────────────┐\n",
      "│ Parch_Bucket ┆ count ┆ percentage │\n",
      "│ ---          ┆ ---   ┆ ---        │\n",
      "│ str          ┆ u32   ┆ f64        │\n",
      "╞══════════════╪═══════╪════════════╡\n",
      "│ 0-1          ┆ 796   ┆ 0.893378   │\n",
      "│ 2-4          ┆ 89    ┆ 0.099888   │\n",
      "│ 4+           ┆ 6     ┆ 0.006734   │\n",
      "└──────────────┴───────┴────────────┘\n",
      "Fare_Bucket: shape: (4, 3)\n",
      "┌─────────────┬───────┬────────────┐\n",
      "│ Fare_Bucket ┆ count ┆ percentage │\n",
      "│ ---         ┆ ---   ┆ ---        │\n",
      "│ str         ┆ u32   ┆ f64        │\n",
      "╞═════════════╪═══════╪════════════╡\n",
      "│ 0-100       ┆ 838   ┆ 0.940516   │\n",
      "│ 101-200     ┆ 33    ┆ 0.037037   │\n",
      "│ 201-300     ┆ 17    ┆ 0.01908    │\n",
      "│ 400+        ┆ 3     ┆ 0.003367   │\n",
      "└─────────────┴───────┴────────────┘\n"
     ]
    },
    {
     "name": "stderr",
     "output_type": "stream",
     "text": [
      "C:\\Users\\kozha\\AppData\\Local\\Temp\\ipykernel_6616\\849605509.py:12: DeprecationWarning: `GroupBy.count` is deprecated. It has been renamed to `len`.\n",
      "  .group_by(pl.col(col)).count()\n"
     ]
    }
   ],
   "source": [
    "# See distribution of values for all columns (except for columns with high distributions)\n",
    "\n",
    "print_column_distribution(train_df, cols_to_exclude = ['PassengerId', 'Name', 'Fare', 'Ticket',])"
   ]
  },
  {
   "cell_type": "code",
   "execution_count": null,
   "metadata": {},
   "outputs": [],
   "source": []
  }
 ],
 "metadata": {
  "kernelspec": {
   "display_name": "datascience_env",
   "language": "python",
   "name": "python3"
  },
  "language_info": {
   "codemirror_mode": {
    "name": "ipython",
    "version": 3
   },
   "file_extension": ".py",
   "mimetype": "text/x-python",
   "name": "python",
   "nbconvert_exporter": "python",
   "pygments_lexer": "ipython3",
   "version": "3.12.9"
  }
 },
 "nbformat": 4,
 "nbformat_minor": 2
}
