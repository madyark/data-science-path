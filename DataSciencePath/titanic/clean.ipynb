{
 "cells": [
  {
   "cell_type": "code",
   "execution_count": 1,
   "metadata": {},
   "outputs": [],
   "source": [
    "import polars as pl"
   ]
  },
  {
   "cell_type": "code",
   "execution_count": 11,
   "metadata": {},
   "outputs": [
    {
     "data": {
      "text/plain": [
       "polars.config.Config"
      ]
     },
     "execution_count": 11,
     "metadata": {},
     "output_type": "execute_result"
    }
   ],
   "source": [
    "pl.Config.set_tbl_cols(300)"
   ]
  },
  {
   "cell_type": "code",
   "execution_count": null,
   "metadata": {},
   "outputs": [],
   "source": [
    "# 1. Review given files - analyze structure and content"
   ]
  },
  {
   "cell_type": "code",
   "execution_count": 12,
   "metadata": {},
   "outputs": [
    {
     "name": "stdout",
     "output_type": "stream",
     "text": [
      "891\n"
     ]
    },
    {
     "data": {
      "text/html": [
       "<div><style>\n",
       ".dataframe > thead > tr,\n",
       ".dataframe > tbody > tr {\n",
       "  text-align: right;\n",
       "  white-space: pre-wrap;\n",
       "}\n",
       "</style>\n",
       "<small>shape: (5, 12)</small><table border=\"1\" class=\"dataframe\"><thead><tr><th>PassengerId</th><th>Survived</th><th>Pclass</th><th>Name</th><th>Sex</th><th>Age</th><th>SibSp</th><th>Parch</th><th>Ticket</th><th>Fare</th><th>Cabin</th><th>Embarked</th></tr><tr><td>i64</td><td>i64</td><td>i64</td><td>str</td><td>str</td><td>f64</td><td>i64</td><td>i64</td><td>str</td><td>f64</td><td>str</td><td>str</td></tr></thead><tbody><tr><td>1</td><td>0</td><td>3</td><td>&quot;Braund, Mr. Owen Harris&quot;</td><td>&quot;male&quot;</td><td>22.0</td><td>1</td><td>0</td><td>&quot;A/5 21171&quot;</td><td>7.25</td><td>null</td><td>&quot;S&quot;</td></tr><tr><td>2</td><td>1</td><td>1</td><td>&quot;Cumings, Mrs. John Bradley (Fl…</td><td>&quot;female&quot;</td><td>38.0</td><td>1</td><td>0</td><td>&quot;PC 17599&quot;</td><td>71.2833</td><td>&quot;C85&quot;</td><td>&quot;C&quot;</td></tr><tr><td>3</td><td>1</td><td>3</td><td>&quot;Heikkinen, Miss. Laina&quot;</td><td>&quot;female&quot;</td><td>26.0</td><td>0</td><td>0</td><td>&quot;STON/O2. 3101282&quot;</td><td>7.925</td><td>null</td><td>&quot;S&quot;</td></tr><tr><td>4</td><td>1</td><td>1</td><td>&quot;Futrelle, Mrs. Jacques Heath (…</td><td>&quot;female&quot;</td><td>35.0</td><td>1</td><td>0</td><td>&quot;113803&quot;</td><td>53.1</td><td>&quot;C123&quot;</td><td>&quot;S&quot;</td></tr><tr><td>5</td><td>0</td><td>3</td><td>&quot;Allen, Mr. William Henry&quot;</td><td>&quot;male&quot;</td><td>35.0</td><td>0</td><td>0</td><td>&quot;373450&quot;</td><td>8.05</td><td>null</td><td>&quot;S&quot;</td></tr></tbody></table></div>"
      ],
      "text/plain": [
       "shape: (5, 12)\n",
       "┌────────┬────────┬────────┬────────┬───────┬──────┬───────┬───────┬───────┬───────┬───────┬───────┐\n",
       "│ Passen ┆ Surviv ┆ Pclass ┆ Name   ┆ Sex   ┆ Age  ┆ SibSp ┆ Parch ┆ Ticke ┆ Fare  ┆ Cabin ┆ Embar │\n",
       "│ gerId  ┆ ed     ┆ ---    ┆ ---    ┆ ---   ┆ ---  ┆ ---   ┆ ---   ┆ t     ┆ ---   ┆ ---   ┆ ked   │\n",
       "│ ---    ┆ ---    ┆ i64    ┆ str    ┆ str   ┆ f64  ┆ i64   ┆ i64   ┆ ---   ┆ f64   ┆ str   ┆ ---   │\n",
       "│ i64    ┆ i64    ┆        ┆        ┆       ┆      ┆       ┆       ┆ str   ┆       ┆       ┆ str   │\n",
       "╞════════╪════════╪════════╪════════╪═══════╪══════╪═══════╪═══════╪═══════╪═══════╪═══════╪═══════╡\n",
       "│ 1      ┆ 0      ┆ 3      ┆ Braund ┆ male  ┆ 22.0 ┆ 1     ┆ 0     ┆ A/5   ┆ 7.25  ┆ null  ┆ S     │\n",
       "│        ┆        ┆        ┆ , Mr.  ┆       ┆      ┆       ┆       ┆ 21171 ┆       ┆       ┆       │\n",
       "│        ┆        ┆        ┆ Owen   ┆       ┆      ┆       ┆       ┆       ┆       ┆       ┆       │\n",
       "│        ┆        ┆        ┆ Harris ┆       ┆      ┆       ┆       ┆       ┆       ┆       ┆       │\n",
       "│ 2      ┆ 1      ┆ 1      ┆ Cuming ┆ femal ┆ 38.0 ┆ 1     ┆ 0     ┆ PC    ┆ 71.28 ┆ C85   ┆ C     │\n",
       "│        ┆        ┆        ┆ s,     ┆ e     ┆      ┆       ┆       ┆ 17599 ┆ 33    ┆       ┆       │\n",
       "│        ┆        ┆        ┆ Mrs.   ┆       ┆      ┆       ┆       ┆       ┆       ┆       ┆       │\n",
       "│        ┆        ┆        ┆ John   ┆       ┆      ┆       ┆       ┆       ┆       ┆       ┆       │\n",
       "│        ┆        ┆        ┆ Bradle ┆       ┆      ┆       ┆       ┆       ┆       ┆       ┆       │\n",
       "│        ┆        ┆        ┆ y (Fl… ┆       ┆      ┆       ┆       ┆       ┆       ┆       ┆       │\n",
       "│ 3      ┆ 1      ┆ 3      ┆ Heikki ┆ femal ┆ 26.0 ┆ 0     ┆ 0     ┆ STON/ ┆ 7.925 ┆ null  ┆ S     │\n",
       "│        ┆        ┆        ┆ nen,   ┆ e     ┆      ┆       ┆       ┆ O2.   ┆       ┆       ┆       │\n",
       "│        ┆        ┆        ┆ Miss.  ┆       ┆      ┆       ┆       ┆ 31012 ┆       ┆       ┆       │\n",
       "│        ┆        ┆        ┆ Laina  ┆       ┆      ┆       ┆       ┆ 82    ┆       ┆       ┆       │\n",
       "│ 4      ┆ 1      ┆ 1      ┆ Futrel ┆ femal ┆ 35.0 ┆ 1     ┆ 0     ┆ 11380 ┆ 53.1  ┆ C123  ┆ S     │\n",
       "│        ┆        ┆        ┆ le,    ┆ e     ┆      ┆       ┆       ┆ 3     ┆       ┆       ┆       │\n",
       "│        ┆        ┆        ┆ Mrs.   ┆       ┆      ┆       ┆       ┆       ┆       ┆       ┆       │\n",
       "│        ┆        ┆        ┆ Jacque ┆       ┆      ┆       ┆       ┆       ┆       ┆       ┆       │\n",
       "│        ┆        ┆        ┆ s      ┆       ┆      ┆       ┆       ┆       ┆       ┆       ┆       │\n",
       "│        ┆        ┆        ┆ Heath  ┆       ┆      ┆       ┆       ┆       ┆       ┆       ┆       │\n",
       "│        ┆        ┆        ┆ (…     ┆       ┆      ┆       ┆       ┆       ┆       ┆       ┆       │\n",
       "│ 5      ┆ 0      ┆ 3      ┆ Allen, ┆ male  ┆ 35.0 ┆ 0     ┆ 0     ┆ 37345 ┆ 8.05  ┆ null  ┆ S     │\n",
       "│        ┆        ┆        ┆ Mr.    ┆       ┆      ┆       ┆       ┆ 0     ┆       ┆       ┆       │\n",
       "│        ┆        ┆        ┆ Willia ┆       ┆      ┆       ┆       ┆       ┆       ┆       ┆       │\n",
       "│        ┆        ┆        ┆ m      ┆       ┆      ┆       ┆       ┆       ┆       ┆       ┆       │\n",
       "│        ┆        ┆        ┆ Henry  ┆       ┆      ┆       ┆       ┆       ┆       ┆       ┆       │\n",
       "└────────┴────────┴────────┴────────┴───────┴──────┴───────┴───────┴───────┴───────┴───────┴───────┘"
      ]
     },
     "execution_count": 12,
     "metadata": {},
     "output_type": "execute_result"
    }
   ],
   "source": [
    "train_df = pl.read_csv(\n",
    "    'source/train.csv', \n",
    "    infer_schema_length=10000\n",
    ")\n",
    "\n",
    "print(len(train_df))\n",
    "train_df.head()"
   ]
  },
  {
   "cell_type": "code",
   "execution_count": 13,
   "metadata": {},
   "outputs": [
    {
     "name": "stdout",
     "output_type": "stream",
     "text": [
      "418\n"
     ]
    },
    {
     "data": {
      "text/html": [
       "<div><style>\n",
       ".dataframe > thead > tr,\n",
       ".dataframe > tbody > tr {\n",
       "  text-align: right;\n",
       "  white-space: pre-wrap;\n",
       "}\n",
       "</style>\n",
       "<small>shape: (5, 11)</small><table border=\"1\" class=\"dataframe\"><thead><tr><th>PassengerId</th><th>Pclass</th><th>Name</th><th>Sex</th><th>Age</th><th>SibSp</th><th>Parch</th><th>Ticket</th><th>Fare</th><th>Cabin</th><th>Embarked</th></tr><tr><td>i64</td><td>i64</td><td>str</td><td>str</td><td>f64</td><td>i64</td><td>i64</td><td>str</td><td>f64</td><td>str</td><td>str</td></tr></thead><tbody><tr><td>892</td><td>3</td><td>&quot;Kelly, Mr. James&quot;</td><td>&quot;male&quot;</td><td>34.5</td><td>0</td><td>0</td><td>&quot;330911&quot;</td><td>7.8292</td><td>null</td><td>&quot;Q&quot;</td></tr><tr><td>893</td><td>3</td><td>&quot;Wilkes, Mrs. James (Ellen Need…</td><td>&quot;female&quot;</td><td>47.0</td><td>1</td><td>0</td><td>&quot;363272&quot;</td><td>7.0</td><td>null</td><td>&quot;S&quot;</td></tr><tr><td>894</td><td>2</td><td>&quot;Myles, Mr. Thomas Francis&quot;</td><td>&quot;male&quot;</td><td>62.0</td><td>0</td><td>0</td><td>&quot;240276&quot;</td><td>9.6875</td><td>null</td><td>&quot;Q&quot;</td></tr><tr><td>895</td><td>3</td><td>&quot;Wirz, Mr. Albert&quot;</td><td>&quot;male&quot;</td><td>27.0</td><td>0</td><td>0</td><td>&quot;315154&quot;</td><td>8.6625</td><td>null</td><td>&quot;S&quot;</td></tr><tr><td>896</td><td>3</td><td>&quot;Hirvonen, Mrs. Alexander (Helg…</td><td>&quot;female&quot;</td><td>22.0</td><td>1</td><td>1</td><td>&quot;3101298&quot;</td><td>12.2875</td><td>null</td><td>&quot;S&quot;</td></tr></tbody></table></div>"
      ],
      "text/plain": [
       "shape: (5, 11)\n",
       "┌─────────┬────────┬─────────┬────────┬──────┬───────┬───────┬─────────┬─────────┬───────┬─────────┐\n",
       "│ Passeng ┆ Pclass ┆ Name    ┆ Sex    ┆ Age  ┆ SibSp ┆ Parch ┆ Ticket  ┆ Fare    ┆ Cabin ┆ Embarke │\n",
       "│ erId    ┆ ---    ┆ ---     ┆ ---    ┆ ---  ┆ ---   ┆ ---   ┆ ---     ┆ ---     ┆ ---   ┆ d       │\n",
       "│ ---     ┆ i64    ┆ str     ┆ str    ┆ f64  ┆ i64   ┆ i64   ┆ str     ┆ f64     ┆ str   ┆ ---     │\n",
       "│ i64     ┆        ┆         ┆        ┆      ┆       ┆       ┆         ┆         ┆       ┆ str     │\n",
       "╞═════════╪════════╪═════════╪════════╪══════╪═══════╪═══════╪═════════╪═════════╪═══════╪═════════╡\n",
       "│ 892     ┆ 3      ┆ Kelly,  ┆ male   ┆ 34.5 ┆ 0     ┆ 0     ┆ 330911  ┆ 7.8292  ┆ null  ┆ Q       │\n",
       "│         ┆        ┆ Mr.     ┆        ┆      ┆       ┆       ┆         ┆         ┆       ┆         │\n",
       "│         ┆        ┆ James   ┆        ┆      ┆       ┆       ┆         ┆         ┆       ┆         │\n",
       "│ 893     ┆ 3      ┆ Wilkes, ┆ female ┆ 47.0 ┆ 1     ┆ 0     ┆ 363272  ┆ 7.0     ┆ null  ┆ S       │\n",
       "│         ┆        ┆ Mrs.    ┆        ┆      ┆       ┆       ┆         ┆         ┆       ┆         │\n",
       "│         ┆        ┆ James   ┆        ┆      ┆       ┆       ┆         ┆         ┆       ┆         │\n",
       "│         ┆        ┆ (Ellen  ┆        ┆      ┆       ┆       ┆         ┆         ┆       ┆         │\n",
       "│         ┆        ┆ Need…   ┆        ┆      ┆       ┆       ┆         ┆         ┆       ┆         │\n",
       "│ 894     ┆ 2      ┆ Myles,  ┆ male   ┆ 62.0 ┆ 0     ┆ 0     ┆ 240276  ┆ 9.6875  ┆ null  ┆ Q       │\n",
       "│         ┆        ┆ Mr.     ┆        ┆      ┆       ┆       ┆         ┆         ┆       ┆         │\n",
       "│         ┆        ┆ Thomas  ┆        ┆      ┆       ┆       ┆         ┆         ┆       ┆         │\n",
       "│         ┆        ┆ Francis ┆        ┆      ┆       ┆       ┆         ┆         ┆       ┆         │\n",
       "│ 895     ┆ 3      ┆ Wirz,   ┆ male   ┆ 27.0 ┆ 0     ┆ 0     ┆ 315154  ┆ 8.6625  ┆ null  ┆ S       │\n",
       "│         ┆        ┆ Mr.     ┆        ┆      ┆       ┆       ┆         ┆         ┆       ┆         │\n",
       "│         ┆        ┆ Albert  ┆        ┆      ┆       ┆       ┆         ┆         ┆       ┆         │\n",
       "│ 896     ┆ 3      ┆ Hirvone ┆ female ┆ 22.0 ┆ 1     ┆ 1     ┆ 3101298 ┆ 12.2875 ┆ null  ┆ S       │\n",
       "│         ┆        ┆ n, Mrs. ┆        ┆      ┆       ┆       ┆         ┆         ┆       ┆         │\n",
       "│         ┆        ┆ Alexand ┆        ┆      ┆       ┆       ┆         ┆         ┆       ┆         │\n",
       "│         ┆        ┆ er      ┆        ┆      ┆       ┆       ┆         ┆         ┆       ┆         │\n",
       "│         ┆        ┆ (Helg…  ┆        ┆      ┆       ┆       ┆         ┆         ┆       ┆         │\n",
       "└─────────┴────────┴─────────┴────────┴──────┴───────┴───────┴─────────┴─────────┴───────┴─────────┘"
      ]
     },
     "execution_count": 13,
     "metadata": {},
     "output_type": "execute_result"
    }
   ],
   "source": [
    "test_df = pl.read_csv(\n",
    "    'source/test.csv',\n",
    "    infer_schema_length=10000\n",
    ")\n",
    "\n",
    "print(len(test_df))\n",
    "test_df.head() \n",
    "\n",
    "# Test df missing 'Survived' column"
   ]
  },
  {
   "cell_type": "code",
   "execution_count": 10,
   "metadata": {},
   "outputs": [
    {
     "name": "stdout",
     "output_type": "stream",
     "text": [
      "418\n"
     ]
    },
    {
     "data": {
      "text/html": [
       "<div><style>\n",
       ".dataframe > thead > tr,\n",
       ".dataframe > tbody > tr {\n",
       "  text-align: right;\n",
       "  white-space: pre-wrap;\n",
       "}\n",
       "</style>\n",
       "<small>shape: (5, 2)</small><table border=\"1\" class=\"dataframe\"><thead><tr><th>PassengerId</th><th>Survived</th></tr><tr><td>i64</td><td>i64</td></tr></thead><tbody><tr><td>892</td><td>0</td></tr><tr><td>893</td><td>1</td></tr><tr><td>894</td><td>0</td></tr><tr><td>895</td><td>0</td></tr><tr><td>896</td><td>1</td></tr></tbody></table></div>"
      ],
      "text/plain": [
       "shape: (5, 2)\n",
       "┌─────────────┬──────────┐\n",
       "│ PassengerId ┆ Survived │\n",
       "│ ---         ┆ ---      │\n",
       "│ i64         ┆ i64      │\n",
       "╞═════════════╪══════════╡\n",
       "│ 892         ┆ 0        │\n",
       "│ 893         ┆ 1        │\n",
       "│ 894         ┆ 0        │\n",
       "│ 895         ┆ 0        │\n",
       "│ 896         ┆ 1        │\n",
       "└─────────────┴──────────┘"
      ]
     },
     "execution_count": 10,
     "metadata": {},
     "output_type": "execute_result"
    }
   ],
   "source": [
    "submission_sample_df = pl.read_csv(\n",
    "    'source/gender_submission.csv',\n",
    "    infer_schema_length=10000\n",
    ")\n",
    "\n",
    "print(len(submission_sample_df))\n",
    "submission_sample_df.head()"
   ]
  },
  {
   "cell_type": "code",
   "execution_count": 15,
   "metadata": {},
   "outputs": [],
   "source": [
    "# 2.1 Start EDA on Train df"
   ]
  },
  {
   "cell_type": "code",
   "execution_count": null,
   "metadata": {},
   "outputs": [],
   "source": []
  }
 ],
 "metadata": {
  "kernelspec": {
   "display_name": "datascience_env",
   "language": "python",
   "name": "python3"
  },
  "language_info": {
   "codemirror_mode": {
    "name": "ipython",
    "version": 3
   },
   "file_extension": ".py",
   "mimetype": "text/x-python",
   "name": "python",
   "nbconvert_exporter": "python",
   "pygments_lexer": "ipython3",
   "version": "3.12.9"
  }
 },
 "nbformat": 4,
 "nbformat_minor": 2
}
