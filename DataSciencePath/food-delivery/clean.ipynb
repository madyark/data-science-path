{
 "cells": [
  {
   "cell_type": "code",
   "execution_count": 6,
   "metadata": {},
   "outputs": [],
   "source": [
    "import pandas as pd\n",
    "import polars as pl"
   ]
  },
  {
   "cell_type": "code",
   "execution_count": 7,
   "metadata": {},
   "outputs": [
    {
     "data": {
      "text/plain": [
       "polars.config.Config"
      ]
     },
     "execution_count": 7,
     "metadata": {},
     "output_type": "execute_result"
    }
   ],
   "source": [
    "pl.Config.set_tbl_cols(300)"
   ]
  },
  {
   "cell_type": "code",
   "execution_count": 8,
   "metadata": {},
   "outputs": [
    {
     "data": {
      "text/plain": [
       "polars.config.Config"
      ]
     },
     "execution_count": 8,
     "metadata": {},
     "output_type": "execute_result"
    }
   ],
   "source": [
    "pl.Config.set_tbl_rows(20)"
   ]
  },
  {
   "cell_type": "code",
   "execution_count": 11,
   "metadata": {},
   "outputs": [
    {
     "name": "stdout",
     "output_type": "stream",
     "text": [
      "21321\n"
     ]
    },
    {
     "data": {
      "text/html": [
       "<div><style>\n",
       ".dataframe > thead > tr,\n",
       ".dataframe > tbody > tr {\n",
       "  text-align: right;\n",
       "  white-space: pre-wrap;\n",
       "}\n",
       "</style>\n",
       "<small>shape: (5, 29)</small><table border=\"1\" class=\"dataframe\"><thead><tr><th>Restaurant ID</th><th>Restaurant name</th><th>Subzone</th><th>City</th><th>Order ID</th><th>Order Placed At</th><th>Order Status</th><th>Delivery</th><th>Distance</th><th>Items in order</th><th>Instructions</th><th>Discount construct</th><th>Bill subtotal</th><th>Packaging charges</th><th>Restaurant discount (Promo)</th><th>Restaurant discount (Flat offs, Freebies &amp; others)</th><th>Gold discount</th><th>Brand pack discount</th><th>Total</th><th>Rating</th><th>Review</th><th>Cancellation / Rejection reason</th><th>Restaurant compensation (Cancellation)</th><th>Restaurant penalty (Rejection)</th><th>KPT duration (minutes)</th><th>Rider wait time (minutes)</th><th>Order Ready Marked</th><th>Customer complaint tag</th><th>Customer ID</th></tr><tr><td>i64</td><td>str</td><td>str</td><td>str</td><td>i64</td><td>str</td><td>str</td><td>str</td><td>str</td><td>str</td><td>str</td><td>str</td><td>f64</td><td>f64</td><td>f64</td><td>f64</td><td>f64</td><td>f64</td><td>f64</td><td>f64</td><td>str</td><td>str</td><td>f64</td><td>f64</td><td>f64</td><td>f64</td><td>str</td><td>str</td><td>str</td></tr></thead><tbody><tr><td>20320607</td><td>&quot;Swaad&quot;</td><td>&quot;Sector 4&quot;</td><td>&quot;Delhi NCR&quot;</td><td>6168884918</td><td>&quot;11:38 PM, September 10 2024&quot;</td><td>&quot;Delivered&quot;</td><td>&quot;Zomato Delivery&quot;</td><td>&quot;3km&quot;</td><td>&quot;1 x Grilled Chicken Jamaican T…</td><td>null</td><td>&quot;40% off upto Rs.80&quot;</td><td>715.0</td><td>31.75</td><td>80.0</td><td>0.0</td><td>0.0</td><td>0.0</td><td>666.75</td><td>null</td><td>null</td><td>null</td><td>null</td><td>null</td><td>18.35</td><td>11.6</td><td>&quot;Correctly&quot;</td><td>null</td><td>&quot;5d6c2b96db963098bc69768bea504c…</td></tr><tr><td>20320607</td><td>&quot;Swaad&quot;</td><td>&quot;Sector 4&quot;</td><td>&quot;Delhi NCR&quot;</td><td>6170707559</td><td>&quot;11:34 PM, September 10 2024&quot;</td><td>&quot;Delivered&quot;</td><td>&quot;Zomato Delivery&quot;</td><td>&quot;2km&quot;</td><td>&quot;1 x Peri Peri Fries, 1 x Fried…</td><td>null</td><td>&quot;Flat Rs.175 off&quot;</td><td>1179.0</td><td>50.2</td><td>175.0</td><td>0.0</td><td>0.0</td><td>0.0</td><td>1054.2</td><td>null</td><td>null</td><td>null</td><td>null</td><td>null</td><td>16.95</td><td>3.6</td><td>&quot;Correctly&quot;</td><td>null</td><td>&quot;0781815deb4a10a574e9fee4fa0b86…</td></tr><tr><td>20320607</td><td>&quot;Swaad&quot;</td><td>&quot;Sector 4&quot;</td><td>&quot;Delhi NCR&quot;</td><td>6169375019</td><td>&quot;03:52 PM, September 10 2024&quot;</td><td>&quot;Delivered&quot;</td><td>&quot;Zomato Delivery&quot;</td><td>&quot;&lt;1km&quot;</td><td>&quot;1 x Bone in Peri Peri Grilled …</td><td>null</td><td>&quot;40% off upto Rs.80&quot;</td><td>310.0</td><td>11.5</td><td>80.0</td><td>0.0</td><td>0.0</td><td>0.0</td><td>241.5</td><td>null</td><td>null</td><td>null</td><td>null</td><td>null</td><td>14.05</td><td>12.2</td><td>&quot;Correctly&quot;</td><td>null</td><td>&quot;f93362f5ce5382657482d164e36818…</td></tr><tr><td>20320607</td><td>&quot;Swaad&quot;</td><td>&quot;Sector 4&quot;</td><td>&quot;Delhi NCR&quot;</td><td>6151677434</td><td>&quot;03:45 PM, September 10 2024&quot;</td><td>&quot;Delivered&quot;</td><td>&quot;Zomato Delivery&quot;</td><td>&quot;2km&quot;</td><td>&quot;1 x Fried Chicken Ghostbuster …</td><td>null</td><td>&quot;40% off upto Rs.80&quot;</td><td>620.0</td><td>27.0</td><td>80.0</td><td>0.0</td><td>0.0</td><td>0.0</td><td>567.0</td><td>4.0</td><td>null</td><td>null</td><td>null</td><td>null</td><td>19.0</td><td>3.3</td><td>&quot;Correctly&quot;</td><td>null</td><td>&quot;1ed226d1b8a5f7acee12fc1d667655…</td></tr><tr><td>20320607</td><td>&quot;Swaad&quot;</td><td>&quot;Sector 4&quot;</td><td>&quot;Delhi NCR&quot;</td><td>6167540897</td><td>&quot;03:04 PM, September 10 2024&quot;</td><td>&quot;Delivered&quot;</td><td>&quot;Zomato Delivery&quot;</td><td>&quot;2km&quot;</td><td>&quot;1 x Peri Peri Krispers, 1 x Fr…</td><td>null</td><td>&quot;40% off upto Rs.80&quot;</td><td>584.0</td><td>25.2</td><td>80.0</td><td>0.0</td><td>0.0</td><td>0.0</td><td>529.2</td><td>null</td><td>null</td><td>null</td><td>null</td><td>null</td><td>15.97</td><td>1.0</td><td>&quot;Correctly&quot;</td><td>null</td><td>&quot;d21a2ac6ea06b31cc3288ab20c4ef2…</td></tr></tbody></table></div>"
      ],
      "text/plain": [
       "shape: (5, 29)\n",
       "┌─────┬─────┬─────┬─────┬─────┬─────┬─────┬─────┬─────┬─────┬─────┬─────┬─────┬─────┬─────┬─────┬─────┬─────┬─────┬─────┬─────┬─────┬─────┬─────┬─────┬─────┬─────┬─────┬─────┐\n",
       "│ Res ┆ Res ┆ Sub ┆ Cit ┆ Ord ┆ Ord ┆ Ord ┆ Del ┆ Dis ┆ Ite ┆ Ins ┆ Dis ┆ Bil ┆ Pac ┆ Res ┆ Res ┆ Gol ┆ Bra ┆ Tot ┆ Rat ┆ Rev ┆ Can ┆ Res ┆ Res ┆ KPT ┆ Rid ┆ Ord ┆ Cus ┆ Cus │\n",
       "│ tau ┆ tau ┆ zon ┆ y   ┆ er  ┆ er  ┆ er  ┆ ive ┆ tan ┆ ms  ┆ tru ┆ cou ┆ l   ┆ kag ┆ tau ┆ tau ┆ d   ┆ nd  ┆ al  ┆ ing ┆ iew ┆ cel ┆ tau ┆ tau ┆ dur ┆ er  ┆ er  ┆ tom ┆ tom │\n",
       "│ ran ┆ ran ┆ e   ┆ --- ┆ ID  ┆ Pla ┆ Sta ┆ ry  ┆ ce  ┆ in  ┆ cti ┆ nt  ┆ sub ┆ ing ┆ ran ┆ ran ┆ dis ┆ pac ┆ --- ┆ --- ┆ --- ┆ lat ┆ ran ┆ ran ┆ ati ┆ wai ┆ Rea ┆ er  ┆ er  │\n",
       "│ t   ┆ t   ┆ --- ┆ str ┆ --- ┆ ced ┆ tus ┆ --- ┆ --- ┆ ord ┆ ons ┆ con ┆ tot ┆ cha ┆ t   ┆ t   ┆ cou ┆ k   ┆ f64 ┆ f64 ┆ str ┆ ion ┆ t   ┆ t   ┆ on  ┆ t   ┆ dy  ┆ com ┆ ID  │\n",
       "│ ID  ┆ nam ┆ str ┆     ┆ i64 ┆ At  ┆ --- ┆ str ┆ str ┆ er  ┆ --- ┆ str ┆ al  ┆ rge ┆ dis ┆ dis ┆ nt  ┆ dis ┆     ┆     ┆     ┆ /   ┆ com ┆ pen ┆ (mi ┆ tim ┆ Mar ┆ pla ┆ --- │\n",
       "│ --- ┆ e   ┆     ┆     ┆     ┆ --- ┆ str ┆     ┆     ┆ --- ┆ str ┆ uct ┆ --- ┆ s   ┆ cou ┆ cou ┆ --- ┆ cou ┆     ┆     ┆     ┆ Rej ┆ pen ┆ alt ┆ nut ┆ e   ┆ ked ┆ int ┆ str │\n",
       "│ i64 ┆ --- ┆     ┆     ┆     ┆ str ┆     ┆     ┆     ┆ str ┆     ┆ --- ┆ f64 ┆ --- ┆ nt  ┆ nt  ┆ f64 ┆ nt  ┆     ┆     ┆     ┆ ect ┆ sat ┆ y   ┆ es) ┆ (mi ┆ --- ┆ tag ┆     │\n",
       "│     ┆ str ┆     ┆     ┆     ┆     ┆     ┆     ┆     ┆     ┆     ┆ str ┆     ┆ f64 ┆ (Pr ┆ (Fl ┆     ┆ --- ┆     ┆     ┆     ┆ ion ┆ ion ┆ (Re ┆ --- ┆ nut ┆ str ┆ --- ┆     │\n",
       "│     ┆     ┆     ┆     ┆     ┆     ┆     ┆     ┆     ┆     ┆     ┆     ┆     ┆     ┆ omo ┆ at  ┆     ┆ f64 ┆     ┆     ┆     ┆ rea ┆ (Ca ┆ jec ┆ f64 ┆ es) ┆     ┆ str ┆     │\n",
       "│     ┆     ┆     ┆     ┆     ┆     ┆     ┆     ┆     ┆     ┆     ┆     ┆     ┆     ┆ )   ┆ off ┆     ┆     ┆     ┆     ┆     ┆ so… ┆ nce ┆ tio ┆     ┆ --- ┆     ┆     ┆     │\n",
       "│     ┆     ┆     ┆     ┆     ┆     ┆     ┆     ┆     ┆     ┆     ┆     ┆     ┆     ┆ --- ┆ s…  ┆     ┆     ┆     ┆     ┆     ┆ --- ┆ …   ┆ n)  ┆     ┆ f64 ┆     ┆     ┆     │\n",
       "│     ┆     ┆     ┆     ┆     ┆     ┆     ┆     ┆     ┆     ┆     ┆     ┆     ┆     ┆ f64 ┆ --- ┆     ┆     ┆     ┆     ┆     ┆ str ┆ --- ┆ --- ┆     ┆     ┆     ┆     ┆     │\n",
       "│     ┆     ┆     ┆     ┆     ┆     ┆     ┆     ┆     ┆     ┆     ┆     ┆     ┆     ┆     ┆ f64 ┆     ┆     ┆     ┆     ┆     ┆     ┆ f64 ┆ f64 ┆     ┆     ┆     ┆     ┆     │\n",
       "╞═════╪═════╪═════╪═════╪═════╪═════╪═════╪═════╪═════╪═════╪═════╪═════╪═════╪═════╪═════╪═════╪═════╪═════╪═════╪═════╪═════╪═════╪═════╪═════╪═════╪═════╪═════╪═════╪═════╡\n",
       "│ 203 ┆ Swa ┆ Sec ┆ Del ┆ 616 ┆ 11: ┆ Del ┆ Zom ┆ 3km ┆ 1 x ┆ nul ┆ 40% ┆ 715 ┆ 31. ┆ 80. ┆ 0.0 ┆ 0.0 ┆ 0.0 ┆ 666 ┆ nul ┆ nul ┆ nul ┆ nul ┆ nul ┆ 18. ┆ 11. ┆ Cor ┆ nul ┆ 5d6 │\n",
       "│ 206 ┆ ad  ┆ tor ┆ hi  ┆ 888 ┆ 38  ┆ ive ┆ ato ┆     ┆ Gri ┆ l   ┆ off ┆ .0  ┆ 75  ┆ 0   ┆     ┆     ┆     ┆ .75 ┆ l   ┆ l   ┆ l   ┆ l   ┆ l   ┆ 35  ┆ 6   ┆ rec ┆ l   ┆ c2b │\n",
       "│ 07  ┆     ┆ 4   ┆ NCR ┆ 491 ┆ PM, ┆ red ┆ Del ┆     ┆ lle ┆     ┆ upt ┆     ┆     ┆     ┆     ┆     ┆     ┆     ┆     ┆     ┆     ┆     ┆     ┆     ┆     ┆ tly ┆     ┆ 96d │\n",
       "│     ┆     ┆     ┆     ┆ 8   ┆ Sep ┆     ┆ ive ┆     ┆ d   ┆     ┆ o   ┆     ┆     ┆     ┆     ┆     ┆     ┆     ┆     ┆     ┆     ┆     ┆     ┆     ┆     ┆     ┆     ┆ b96 │\n",
       "│     ┆     ┆     ┆     ┆     ┆ tem ┆     ┆ ry  ┆     ┆ Chi ┆     ┆ Rs. ┆     ┆     ┆     ┆     ┆     ┆     ┆     ┆     ┆     ┆     ┆     ┆     ┆     ┆     ┆     ┆     ┆ 309 │\n",
       "│     ┆     ┆     ┆     ┆     ┆ ber ┆     ┆     ┆     ┆ cke ┆     ┆ 80  ┆     ┆     ┆     ┆     ┆     ┆     ┆     ┆     ┆     ┆     ┆     ┆     ┆     ┆     ┆     ┆     ┆ 8bc │\n",
       "│     ┆     ┆     ┆     ┆     ┆ 10  ┆     ┆     ┆     ┆ n   ┆     ┆     ┆     ┆     ┆     ┆     ┆     ┆     ┆     ┆     ┆     ┆     ┆     ┆     ┆     ┆     ┆     ┆     ┆ 697 │\n",
       "│     ┆     ┆     ┆     ┆     ┆ 202 ┆     ┆     ┆     ┆ Jam ┆     ┆     ┆     ┆     ┆     ┆     ┆     ┆     ┆     ┆     ┆     ┆     ┆     ┆     ┆     ┆     ┆     ┆     ┆ 68b │\n",
       "│     ┆     ┆     ┆     ┆     ┆ 4   ┆     ┆     ┆     ┆ aic ┆     ┆     ┆     ┆     ┆     ┆     ┆     ┆     ┆     ┆     ┆     ┆     ┆     ┆     ┆     ┆     ┆     ┆     ┆ ea5 │\n",
       "│     ┆     ┆     ┆     ┆     ┆     ┆     ┆     ┆     ┆ an  ┆     ┆     ┆     ┆     ┆     ┆     ┆     ┆     ┆     ┆     ┆     ┆     ┆     ┆     ┆     ┆     ┆     ┆     ┆ 04c │\n",
       "│     ┆     ┆     ┆     ┆     ┆     ┆     ┆     ┆     ┆ T…  ┆     ┆     ┆     ┆     ┆     ┆     ┆     ┆     ┆     ┆     ┆     ┆     ┆     ┆     ┆     ┆     ┆     ┆     ┆ …   │\n",
       "│ 203 ┆ Swa ┆ Sec ┆ Del ┆ 617 ┆ 11: ┆ Del ┆ Zom ┆ 2km ┆ 1 x ┆ nul ┆ Fla ┆ 117 ┆ 50. ┆ 175 ┆ 0.0 ┆ 0.0 ┆ 0.0 ┆ 105 ┆ nul ┆ nul ┆ nul ┆ nul ┆ nul ┆ 16. ┆ 3.6 ┆ Cor ┆ nul ┆ 078 │\n",
       "│ 206 ┆ ad  ┆ tor ┆ hi  ┆ 070 ┆ 34  ┆ ive ┆ ato ┆     ┆ Per ┆ l   ┆ t   ┆ 9.0 ┆ 2   ┆ .0  ┆     ┆     ┆     ┆ 4.2 ┆ l   ┆ l   ┆ l   ┆ l   ┆ l   ┆ 95  ┆     ┆ rec ┆ l   ┆ 181 │\n",
       "│ 07  ┆     ┆ 4   ┆ NCR ┆ 755 ┆ PM, ┆ red ┆ Del ┆     ┆ i   ┆     ┆ Rs. ┆     ┆     ┆     ┆     ┆     ┆     ┆     ┆     ┆     ┆     ┆     ┆     ┆     ┆     ┆ tly ┆     ┆ 5de │\n",
       "│     ┆     ┆     ┆     ┆ 9   ┆ Sep ┆     ┆ ive ┆     ┆ Per ┆     ┆ 175 ┆     ┆     ┆     ┆     ┆     ┆     ┆     ┆     ┆     ┆     ┆     ┆     ┆     ┆     ┆     ┆     ┆ b4a │\n",
       "│     ┆     ┆     ┆     ┆     ┆ tem ┆     ┆ ry  ┆     ┆ i   ┆     ┆ off ┆     ┆     ┆     ┆     ┆     ┆     ┆     ┆     ┆     ┆     ┆     ┆     ┆     ┆     ┆     ┆     ┆ 10a │\n",
       "│     ┆     ┆     ┆     ┆     ┆ ber ┆     ┆     ┆     ┆ Fri ┆     ┆     ┆     ┆     ┆     ┆     ┆     ┆     ┆     ┆     ┆     ┆     ┆     ┆     ┆     ┆     ┆     ┆     ┆ 574 │\n",
       "│     ┆     ┆     ┆     ┆     ┆ 10  ┆     ┆     ┆     ┆ es, ┆     ┆     ┆     ┆     ┆     ┆     ┆     ┆     ┆     ┆     ┆     ┆     ┆     ┆     ┆     ┆     ┆     ┆     ┆ e9f │\n",
       "│     ┆     ┆     ┆     ┆     ┆ 202 ┆     ┆     ┆     ┆ 1 x ┆     ┆     ┆     ┆     ┆     ┆     ┆     ┆     ┆     ┆     ┆     ┆     ┆     ┆     ┆     ┆     ┆     ┆     ┆ ee4 │\n",
       "│     ┆     ┆     ┆     ┆     ┆ 4   ┆     ┆     ┆     ┆ Fri ┆     ┆     ┆     ┆     ┆     ┆     ┆     ┆     ┆     ┆     ┆     ┆     ┆     ┆     ┆     ┆     ┆     ┆     ┆ fa0 │\n",
       "│     ┆     ┆     ┆     ┆     ┆     ┆     ┆     ┆     ┆ ed… ┆     ┆     ┆     ┆     ┆     ┆     ┆     ┆     ┆     ┆     ┆     ┆     ┆     ┆     ┆     ┆     ┆     ┆     ┆ b86 │\n",
       "│     ┆     ┆     ┆     ┆     ┆     ┆     ┆     ┆     ┆     ┆     ┆     ┆     ┆     ┆     ┆     ┆     ┆     ┆     ┆     ┆     ┆     ┆     ┆     ┆     ┆     ┆     ┆     ┆ …   │\n",
       "│ 203 ┆ Swa ┆ Sec ┆ Del ┆ 616 ┆ 03: ┆ Del ┆ Zom ┆ <1k ┆ 1 x ┆ nul ┆ 40% ┆ 310 ┆ 11. ┆ 80. ┆ 0.0 ┆ 0.0 ┆ 0.0 ┆ 241 ┆ nul ┆ nul ┆ nul ┆ nul ┆ nul ┆ 14. ┆ 12. ┆ Cor ┆ nul ┆ f93 │\n",
       "│ 206 ┆ ad  ┆ tor ┆ hi  ┆ 937 ┆ 52  ┆ ive ┆ ato ┆ m   ┆ Bon ┆ l   ┆ off ┆ .0  ┆ 5   ┆ 0   ┆     ┆     ┆     ┆ .5  ┆ l   ┆ l   ┆ l   ┆ l   ┆ l   ┆ 05  ┆ 2   ┆ rec ┆ l   ┆ 362 │\n",
       "│ 07  ┆     ┆ 4   ┆ NCR ┆ 501 ┆ PM, ┆ red ┆ Del ┆     ┆ e   ┆     ┆ upt ┆     ┆     ┆     ┆     ┆     ┆     ┆     ┆     ┆     ┆     ┆     ┆     ┆     ┆     ┆ tly ┆     ┆ f5c │\n",
       "│     ┆     ┆     ┆     ┆ 9   ┆ Sep ┆     ┆ ive ┆     ┆ in  ┆     ┆ o   ┆     ┆     ┆     ┆     ┆     ┆     ┆     ┆     ┆     ┆     ┆     ┆     ┆     ┆     ┆     ┆     ┆ e53 │\n",
       "│     ┆     ┆     ┆     ┆     ┆ tem ┆     ┆ ry  ┆     ┆ Per ┆     ┆ Rs. ┆     ┆     ┆     ┆     ┆     ┆     ┆     ┆     ┆     ┆     ┆     ┆     ┆     ┆     ┆     ┆     ┆ 826 │\n",
       "│     ┆     ┆     ┆     ┆     ┆ ber ┆     ┆     ┆     ┆ i   ┆     ┆ 80  ┆     ┆     ┆     ┆     ┆     ┆     ┆     ┆     ┆     ┆     ┆     ┆     ┆     ┆     ┆     ┆     ┆ 574 │\n",
       "│     ┆     ┆     ┆     ┆     ┆ 10  ┆     ┆     ┆     ┆ Per ┆     ┆     ┆     ┆     ┆     ┆     ┆     ┆     ┆     ┆     ┆     ┆     ┆     ┆     ┆     ┆     ┆     ┆     ┆ 82d │\n",
       "│     ┆     ┆     ┆     ┆     ┆ 202 ┆     ┆     ┆     ┆ i   ┆     ┆     ┆     ┆     ┆     ┆     ┆     ┆     ┆     ┆     ┆     ┆     ┆     ┆     ┆     ┆     ┆     ┆     ┆ 164 │\n",
       "│     ┆     ┆     ┆     ┆     ┆ 4   ┆     ┆     ┆     ┆ Gri ┆     ┆     ┆     ┆     ┆     ┆     ┆     ┆     ┆     ┆     ┆     ┆     ┆     ┆     ┆     ┆     ┆     ┆     ┆ e36 │\n",
       "│     ┆     ┆     ┆     ┆     ┆     ┆     ┆     ┆     ┆ lle ┆     ┆     ┆     ┆     ┆     ┆     ┆     ┆     ┆     ┆     ┆     ┆     ┆     ┆     ┆     ┆     ┆     ┆     ┆ 818 │\n",
       "│     ┆     ┆     ┆     ┆     ┆     ┆     ┆     ┆     ┆ d … ┆     ┆     ┆     ┆     ┆     ┆     ┆     ┆     ┆     ┆     ┆     ┆     ┆     ┆     ┆     ┆     ┆     ┆     ┆ …   │\n",
       "│ 203 ┆ Swa ┆ Sec ┆ Del ┆ 615 ┆ 03: ┆ Del ┆ Zom ┆ 2km ┆ 1 x ┆ nul ┆ 40% ┆ 620 ┆ 27. ┆ 80. ┆ 0.0 ┆ 0.0 ┆ 0.0 ┆ 567 ┆ 4.0 ┆ nul ┆ nul ┆ nul ┆ nul ┆ 19. ┆ 3.3 ┆ Cor ┆ nul ┆ 1ed │\n",
       "│ 206 ┆ ad  ┆ tor ┆ hi  ┆ 167 ┆ 45  ┆ ive ┆ ato ┆     ┆ Fri ┆ l   ┆ off ┆ .0  ┆ 0   ┆ 0   ┆     ┆     ┆     ┆ .0  ┆     ┆ l   ┆ l   ┆ l   ┆ l   ┆ 0   ┆     ┆ rec ┆ l   ┆ 226 │\n",
       "│ 07  ┆     ┆ 4   ┆ NCR ┆ 743 ┆ PM, ┆ red ┆ Del ┆     ┆ ed  ┆     ┆ upt ┆     ┆     ┆     ┆     ┆     ┆     ┆     ┆     ┆     ┆     ┆     ┆     ┆     ┆     ┆ tly ┆     ┆ d1b │\n",
       "│     ┆     ┆     ┆     ┆ 4   ┆ Sep ┆     ┆ ive ┆     ┆ Chi ┆     ┆ o   ┆     ┆     ┆     ┆     ┆     ┆     ┆     ┆     ┆     ┆     ┆     ┆     ┆     ┆     ┆     ┆     ┆ 8a5 │\n",
       "│     ┆     ┆     ┆     ┆     ┆ tem ┆     ┆ ry  ┆     ┆ cke ┆     ┆ Rs. ┆     ┆     ┆     ┆     ┆     ┆     ┆     ┆     ┆     ┆     ┆     ┆     ┆     ┆     ┆     ┆     ┆ f7a │\n",
       "│     ┆     ┆     ┆     ┆     ┆ ber ┆     ┆     ┆     ┆ n   ┆     ┆ 80  ┆     ┆     ┆     ┆     ┆     ┆     ┆     ┆     ┆     ┆     ┆     ┆     ┆     ┆     ┆     ┆     ┆ cee │\n",
       "│     ┆     ┆     ┆     ┆     ┆ 10  ┆     ┆     ┆     ┆ Gho ┆     ┆     ┆     ┆     ┆     ┆     ┆     ┆     ┆     ┆     ┆     ┆     ┆     ┆     ┆     ┆     ┆     ┆     ┆ 12f │\n",
       "│     ┆     ┆     ┆     ┆     ┆ 202 ┆     ┆     ┆     ┆ stb ┆     ┆     ┆     ┆     ┆     ┆     ┆     ┆     ┆     ┆     ┆     ┆     ┆     ┆     ┆     ┆     ┆     ┆     ┆ c1d │\n",
       "│     ┆     ┆     ┆     ┆     ┆ 4   ┆     ┆     ┆     ┆ ust ┆     ┆     ┆     ┆     ┆     ┆     ┆     ┆     ┆     ┆     ┆     ┆     ┆     ┆     ┆     ┆     ┆     ┆     ┆ 667 │\n",
       "│     ┆     ┆     ┆     ┆     ┆     ┆     ┆     ┆     ┆ er  ┆     ┆     ┆     ┆     ┆     ┆     ┆     ┆     ┆     ┆     ┆     ┆     ┆     ┆     ┆     ┆     ┆     ┆     ┆ 655 │\n",
       "│     ┆     ┆     ┆     ┆     ┆     ┆     ┆     ┆     ┆ …   ┆     ┆     ┆     ┆     ┆     ┆     ┆     ┆     ┆     ┆     ┆     ┆     ┆     ┆     ┆     ┆     ┆     ┆     ┆ …   │\n",
       "│ 203 ┆ Swa ┆ Sec ┆ Del ┆ 616 ┆ 03: ┆ Del ┆ Zom ┆ 2km ┆ 1 x ┆ nul ┆ 40% ┆ 584 ┆ 25. ┆ 80. ┆ 0.0 ┆ 0.0 ┆ 0.0 ┆ 529 ┆ nul ┆ nul ┆ nul ┆ nul ┆ nul ┆ 15. ┆ 1.0 ┆ Cor ┆ nul ┆ d21 │\n",
       "│ 206 ┆ ad  ┆ tor ┆ hi  ┆ 754 ┆ 04  ┆ ive ┆ ato ┆     ┆ Per ┆ l   ┆ off ┆ .0  ┆ 2   ┆ 0   ┆     ┆     ┆     ┆ .2  ┆ l   ┆ l   ┆ l   ┆ l   ┆ l   ┆ 97  ┆     ┆ rec ┆ l   ┆ a2a │\n",
       "│ 07  ┆     ┆ 4   ┆ NCR ┆ 089 ┆ PM, ┆ red ┆ Del ┆     ┆ i   ┆     ┆ upt ┆     ┆     ┆     ┆     ┆     ┆     ┆     ┆     ┆     ┆     ┆     ┆     ┆     ┆     ┆ tly ┆     ┆ c6e │\n",
       "│     ┆     ┆     ┆     ┆ 7   ┆ Sep ┆     ┆ ive ┆     ┆ Per ┆     ┆ o   ┆     ┆     ┆     ┆     ┆     ┆     ┆     ┆     ┆     ┆     ┆     ┆     ┆     ┆     ┆     ┆     ┆ a06 │\n",
       "│     ┆     ┆     ┆     ┆     ┆ tem ┆     ┆ ry  ┆     ┆ i   ┆     ┆ Rs. ┆     ┆     ┆     ┆     ┆     ┆     ┆     ┆     ┆     ┆     ┆     ┆     ┆     ┆     ┆     ┆     ┆ b31 │\n",
       "│     ┆     ┆     ┆     ┆     ┆ ber ┆     ┆     ┆     ┆ Kri ┆     ┆ 80  ┆     ┆     ┆     ┆     ┆     ┆     ┆     ┆     ┆     ┆     ┆     ┆     ┆     ┆     ┆     ┆     ┆ cc3 │\n",
       "│     ┆     ┆     ┆     ┆     ┆ 10  ┆     ┆     ┆     ┆ spe ┆     ┆     ┆     ┆     ┆     ┆     ┆     ┆     ┆     ┆     ┆     ┆     ┆     ┆     ┆     ┆     ┆     ┆     ┆ 288 │\n",
       "│     ┆     ┆     ┆     ┆     ┆ 202 ┆     ┆     ┆     ┆ rs, ┆     ┆     ┆     ┆     ┆     ┆     ┆     ┆     ┆     ┆     ┆     ┆     ┆     ┆     ┆     ┆     ┆     ┆     ┆ ab2 │\n",
       "│     ┆     ┆     ┆     ┆     ┆ 4   ┆     ┆     ┆     ┆ 1 x ┆     ┆     ┆     ┆     ┆     ┆     ┆     ┆     ┆     ┆     ┆     ┆     ┆     ┆     ┆     ┆     ┆     ┆     ┆ 0c4 │\n",
       "│     ┆     ┆     ┆     ┆     ┆     ┆     ┆     ┆     ┆ Fr… ┆     ┆     ┆     ┆     ┆     ┆     ┆     ┆     ┆     ┆     ┆     ┆     ┆     ┆     ┆     ┆     ┆     ┆     ┆ ef2 │\n",
       "│     ┆     ┆     ┆     ┆     ┆     ┆     ┆     ┆     ┆     ┆     ┆     ┆     ┆     ┆     ┆     ┆     ┆     ┆     ┆     ┆     ┆     ┆     ┆     ┆     ┆     ┆     ┆     ┆ …   │\n",
       "└─────┴─────┴─────┴─────┴─────┴─────┴─────┴─────┴─────┴─────┴─────┴─────┴─────┴─────┴─────┴─────┴─────┴─────┴─────┴─────┴─────┴─────┴─────┴─────┴─────┴─────┴─────┴─────┴─────┘"
      ]
     },
     "execution_count": 11,
     "metadata": {},
     "output_type": "execute_result"
    }
   ],
   "source": [
    "df = pl.read_csv(\n",
    "    'source/order_history_kaggle_data.csv',\n",
    "    infer_schema_length=10000,\n",
    ")\n",
    "print(len(df))\n",
    "df.head()"
   ]
  },
  {
   "cell_type": "markdown",
   "metadata": {},
   "source": [
    "Run a check on column data types - are the types being loaded correctly? "
   ]
  },
  {
   "cell_type": "code",
   "execution_count": 5,
   "metadata": {},
   "outputs": [
    {
     "data": {
      "text/plain": [
       "{'Restaurant ID': Int64,\n",
       " 'Restaurant name': String,\n",
       " 'Subzone': String,\n",
       " 'City': String,\n",
       " 'Order ID': Int64,\n",
       " 'Order Placed At': String,\n",
       " 'Order Status': String,\n",
       " 'Delivery': String,\n",
       " 'Distance': String,\n",
       " 'Items in order': String,\n",
       " 'Instructions': String,\n",
       " 'Discount construct': String,\n",
       " 'Bill subtotal': Float64,\n",
       " 'Packaging charges': Float64,\n",
       " 'Restaurant discount (Promo)': Float64,\n",
       " 'Restaurant discount (Flat offs, Freebies & others)': Float64,\n",
       " 'Gold discount': Float64,\n",
       " 'Brand pack discount': Float64,\n",
       " 'Total': Float64,\n",
       " 'Rating': Float64,\n",
       " 'Review': String,\n",
       " 'Cancellation / Rejection reason': String,\n",
       " 'Restaurant compensation (Cancellation)': Float64,\n",
       " 'Restaurant penalty (Rejection)': String,\n",
       " 'KPT duration (minutes)': Float64,\n",
       " 'Rider wait time (minutes)': Float64,\n",
       " 'Order Ready Marked': String,\n",
       " 'Customer complaint tag': String,\n",
       " 'Customer ID': String}"
      ]
     },
     "execution_count": 5,
     "metadata": {},
     "output_type": "execute_result"
    }
   ],
   "source": [
    "df_schema = dict(df.schema)\n",
    "df_schema"
   ]
  },
  {
   "cell_type": "markdown",
   "metadata": {},
   "source": [
    "Initial observations:\n",
    "- ID columns ('Restaurant ID', 'Order ID') come as large int objects, Customer ID is a hash string\n",
    "  - Assert all values are not null & unique\n",
    "  - Can certain IDs with leading zeroes be getting removed? (Thus, should column be read as string?)\n",
    "- 'Order Placed At' parsed as string (find a way to convert it to timestamp)\n",
    "- 'Delivery' + 'Cancellation / Rejection reason' + 'Order Ready Marked' seem to be dropdown strings\n",
    "  - See examples of values\n",
    "- 'Distance' parsed as string (**convert it to to float**)\n",
    "- Billing + Discount columns all come in correctly as floating-point numbers\n",
    "- 'Rating' is a float (find min, max values)\n",
    "- 'Instructions', 'Review', 'Customer complaint tag' are strings (see a few examples of types of values + note value length)\n",
    "  -  Are columns needed for future storage? Replace values with placeholder (e.g. 1s and 0s)?\n",
    "- 'Restaurant Penalty' is a string (what does the column represent? see a few examples)\n",
    "- KPT duration + Rider wait time coming in correctly as floating-point numbers\n",
    "\n",
    "Other notes: \n",
    "1. Split df into different parts (multiple business cases in one df)? \n",
    "1. Decide what business question(s) to answer using df"
   ]
  },
  {
   "cell_type": "code",
   "execution_count": 12,
   "metadata": {},
   "outputs": [
    {
     "data": {
      "text/html": [
       "<div><style>\n",
       ".dataframe > thead > tr,\n",
       ".dataframe > tbody > tr {\n",
       "  text-align: right;\n",
       "  white-space: pre-wrap;\n",
       "}\n",
       "</style>\n",
       "<small>shape: (9, 30)</small><table border=\"1\" class=\"dataframe\"><thead><tr><th>statistic</th><th>Restaurant ID</th><th>Restaurant name</th><th>Subzone</th><th>City</th><th>Order ID</th><th>Order Placed At</th><th>Order Status</th><th>Delivery</th><th>Distance</th><th>Items in order</th><th>Instructions</th><th>Discount construct</th><th>Bill subtotal</th><th>Packaging charges</th><th>Restaurant discount (Promo)</th><th>Restaurant discount (Flat offs, Freebies &amp; others)</th><th>Gold discount</th><th>Brand pack discount</th><th>Total</th><th>Rating</th><th>Review</th><th>Cancellation / Rejection reason</th><th>Restaurant compensation (Cancellation)</th><th>Restaurant penalty (Rejection)</th><th>KPT duration (minutes)</th><th>Rider wait time (minutes)</th><th>Order Ready Marked</th><th>Customer complaint tag</th><th>Customer ID</th></tr><tr><td>str</td><td>f64</td><td>str</td><td>str</td><td>str</td><td>f64</td><td>str</td><td>str</td><td>str</td><td>str</td><td>str</td><td>str</td><td>str</td><td>f64</td><td>f64</td><td>f64</td><td>f64</td><td>f64</td><td>f64</td><td>f64</td><td>f64</td><td>str</td><td>str</td><td>f64</td><td>f64</td><td>f64</td><td>f64</td><td>str</td><td>str</td><td>str</td></tr></thead><tbody><tr><td>&quot;count&quot;</td><td>21321.0</td><td>&quot;21321&quot;</td><td>&quot;21321&quot;</td><td>&quot;21321&quot;</td><td>21321.0</td><td>&quot;21321&quot;</td><td>&quot;21321&quot;</td><td>&quot;21321&quot;</td><td>&quot;21321&quot;</td><td>&quot;21321&quot;</td><td>&quot;720&quot;</td><td>&quot;15823&quot;</td><td>21321.0</td><td>21321.0</td><td>21321.0</td><td>21321.0</td><td>21321.0</td><td>21321.0</td><td>21321.0</td><td>2491.0</td><td>&quot;296&quot;</td><td>&quot;186&quot;</td><td>133.0</td><td>3.0</td><td>21026.0</td><td>21153.0</td><td>&quot;21321&quot;</td><td>&quot;469&quot;</td><td>&quot;21321&quot;</td></tr><tr><td>&quot;null_count&quot;</td><td>0.0</td><td>&quot;0&quot;</td><td>&quot;0&quot;</td><td>&quot;0&quot;</td><td>0.0</td><td>&quot;0&quot;</td><td>&quot;0&quot;</td><td>&quot;0&quot;</td><td>&quot;0&quot;</td><td>&quot;0&quot;</td><td>&quot;20601&quot;</td><td>&quot;5498&quot;</td><td>0.0</td><td>0.0</td><td>0.0</td><td>0.0</td><td>0.0</td><td>0.0</td><td>0.0</td><td>18830.0</td><td>&quot;21025&quot;</td><td>&quot;21135&quot;</td><td>21188.0</td><td>21318.0</td><td>295.0</td><td>168.0</td><td>&quot;0&quot;</td><td>&quot;20852&quot;</td><td>&quot;0&quot;</td></tr><tr><td>&quot;mean&quot;</td><td>2.0744e7</td><td>null</td><td>null</td><td>null</td><td>6.3546e9</td><td>null</td><td>null</td><td>null</td><td>null</td><td>null</td><td>null</td><td>null</td><td>750.076838</td><td>32.564592</td><td>65.091816</td><td>31.795058</td><td>0.099128</td><td>3.039324</td><td>682.616113</td><td>4.356885</td><td>null</td><td>null</td><td>356.409549</td><td>0.0</td><td>17.33296</td><td>4.82507</td><td>null</td><td>null</td><td>null</td></tr><tr><td>&quot;std&quot;</td><td>244719.265249</td><td>null</td><td>null</td><td>null</td><td>1.2303e8</td><td>null</td><td>null</td><td>null</td><td>null</td><td>null</td><td>null</td><td>null</td><td>498.759428</td><td>22.235898</td><td>85.401604</td><td>131.487091</td><td>3.264261</td><td>17.07078</td><td>465.313977</td><td>1.181472</td><td>null</td><td>null</td><td>328.12824</td><td>0.0</td><td>6.283388</td><td>4.982591</td><td>null</td><td>null</td><td>null</td></tr><tr><td>&quot;min&quot;</td><td>2.0320607e7</td><td>&quot;Aura Pizzas&quot;</td><td>&quot;Chittaranjan Park&quot;</td><td>&quot;Delhi NCR&quot;</td><td>6.0868e9</td><td>&quot;01:00 AM, December 08 2024&quot;</td><td>&quot;Delivered&quot;</td><td>&quot;Zomato Delivery&quot;</td><td>&quot;10km&quot;</td><td>&quot;1 x AAC Fried Chicken Burger, …</td><td>&quot;Order: 1. Send extra dips.\n",
       "2. …</td><td>&quot;20% off upto Rs.50&quot;</td><td>50.0</td><td>0.0</td><td>0.0</td><td>0.0</td><td>0.0</td><td>0.0</td><td>52.5</td><td>1.0</td><td>&quot;Absolutely amazing food.. tast…</td><td>&quot;Cancelled by Customer&quot;</td><td>83.58</td><td>0.0</td><td>0.0</td><td>0.1</td><td>&quot;Correctly&quot;</td><td>&quot;Item(s) missing or not deliver…</td><td>&quot;000285ae83ecf06a92b936d4f5b743…</td></tr><tr><td>&quot;25%&quot;</td><td>2.0635699e7</td><td>null</td><td>null</td><td>null</td><td>6.2508e9</td><td>null</td><td>null</td><td>null</td><td>null</td><td>null</td><td>null</td><td>null</td><td>459.0</td><td>18.45</td><td>0.0</td><td>0.0</td><td>0.0</td><td>0.0</td><td>387.45</td><td>4.0</td><td>null</td><td>null</td><td>191.95</td><td>0.0</td><td>13.38</td><td>1.0</td><td>null</td><td>null</td><td>null</td></tr><tr><td>&quot;50%&quot;</td><td>2.0659868e7</td><td>null</td><td>null</td><td>null</td><td>6.3577e9</td><td>null</td><td>null</td><td>null</td><td>null</td><td>null</td><td>null</td><td>null</td><td>629.0</td><td>28.45</td><td>80.0</td><td>0.0</td><td>0.0</td><td>0.0</td><td>597.45</td><td>5.0</td><td>null</td><td>null</td><td>272.58</td><td>0.0</td><td>16.33</td><td>3.1</td><td>null</td><td>null</td><td>null</td></tr><tr><td>&quot;75%&quot;</td><td>2.0882652e7</td><td>null</td><td>null</td><td>null</td><td>6.4568e9</td><td>null</td><td>null</td><td>null</td><td>null</td><td>null</td><td>null</td><td>null</td><td>899.0</td><td>39.95</td><td>100.0</td><td>0.0</td><td>0.0</td><td>0.0</td><td>837.9</td><td>5.0</td><td>null</td><td>null</td><td>397.84</td><td>0.0</td><td>20.05</td><td>7.4</td><td>null</td><td>null</td><td>null</td></tr><tr><td>&quot;max&quot;</td><td>2.1523055e7</td><td>&quot;The Chicken Junction&quot;</td><td>&quot;Vasant Kunj&quot;</td><td>&quot;Delhi NCR&quot;</td><td>6.5734e9</td><td>&quot;12:59 PM, October 30 2024&quot;</td><td>&quot;Timed out&quot;</td><td>&quot;Zomato Delivery&quot;</td><td>&quot;&lt;1km&quot;</td><td>&quot;8 x Tipsy Tiger Ginger Ale, 2 …</td><td>&quot;Order: will pick up from the r…</td><td>&quot;₹ 0.00&quot;</td><td>16080.0</td><td>603.0</td><td>4020.0</td><td>7787.0</td><td>280.1</td><td>554.8</td><td>12663.0</td><td>5.0</td><td>&quot;yummiest pizza i have eaten in…</td><td>&quot;Merchant device issue&quot;</td><td>3236.98</td><td>0.0</td><td>90.87</td><td>73.8</td><td>&quot;Missed&quot;</td><td>&quot;Wrong item(s) delivered&quot;</td><td>&quot;fff9f622424297b6dc5a5a66725896…</td></tr></tbody></table></div>"
      ],
      "text/plain": [
       "shape: (9, 30)\n",
       "┌─────┬─────┬─────┬─────┬─────┬─────┬─────┬─────┬─────┬─────┬─────┬─────┬─────┬─────┬─────┬─────┬─────┬─────┬─────┬─────┬─────┬─────┬─────┬─────┬─────┬─────┬─────┬─────┬─────┬─────┐\n",
       "│ sta ┆ Res ┆ Res ┆ Sub ┆ Cit ┆ Ord ┆ Ord ┆ Ord ┆ Del ┆ Dis ┆ Ite ┆ Ins ┆ Dis ┆ Bil ┆ Pac ┆ Res ┆ Res ┆ Gol ┆ Bra ┆ Tot ┆ Rat ┆ Rev ┆ Can ┆ Res ┆ Res ┆ KPT ┆ Rid ┆ Ord ┆ Cus ┆ Cus │\n",
       "│ tis ┆ tau ┆ tau ┆ zon ┆ y   ┆ er  ┆ er  ┆ er  ┆ ive ┆ tan ┆ ms  ┆ tru ┆ cou ┆ l   ┆ kag ┆ tau ┆ tau ┆ d   ┆ nd  ┆ al  ┆ ing ┆ iew ┆ cel ┆ tau ┆ tau ┆ dur ┆ er  ┆ er  ┆ tom ┆ tom │\n",
       "│ tic ┆ ran ┆ ran ┆ e   ┆ --- ┆ ID  ┆ Pla ┆ Sta ┆ ry  ┆ ce  ┆ in  ┆ cti ┆ nt  ┆ sub ┆ ing ┆ ran ┆ ran ┆ dis ┆ pac ┆ --- ┆ --- ┆ --- ┆ lat ┆ ran ┆ ran ┆ ati ┆ wai ┆ Rea ┆ er  ┆ er  │\n",
       "│ --- ┆ t   ┆ t   ┆ --- ┆ str ┆ --- ┆ ced ┆ tus ┆ --- ┆ --- ┆ ord ┆ ons ┆ con ┆ tot ┆ cha ┆ t   ┆ t   ┆ cou ┆ k   ┆ f64 ┆ f64 ┆ str ┆ ion ┆ t   ┆ t   ┆ on  ┆ t   ┆ dy  ┆ com ┆ ID  │\n",
       "│ str ┆ ID  ┆ nam ┆ str ┆     ┆ f64 ┆ At  ┆ --- ┆ str ┆ str ┆ er  ┆ --- ┆ str ┆ al  ┆ rge ┆ dis ┆ dis ┆ nt  ┆ dis ┆     ┆     ┆     ┆ /   ┆ com ┆ pen ┆ (mi ┆ tim ┆ Mar ┆ pla ┆ --- │\n",
       "│     ┆ --- ┆ e   ┆     ┆     ┆     ┆ --- ┆ str ┆     ┆     ┆ --- ┆ str ┆ uct ┆ --- ┆ s   ┆ cou ┆ cou ┆ --- ┆ cou ┆     ┆     ┆     ┆ Rej ┆ pen ┆ alt ┆ nut ┆ e   ┆ ked ┆ int ┆ str │\n",
       "│     ┆ f64 ┆ --- ┆     ┆     ┆     ┆ str ┆     ┆     ┆     ┆ str ┆     ┆ --- ┆ f64 ┆ --- ┆ nt  ┆ nt  ┆ f64 ┆ nt  ┆     ┆     ┆     ┆ ect ┆ sat ┆ y   ┆ es) ┆ (mi ┆ --- ┆ tag ┆     │\n",
       "│     ┆     ┆ str ┆     ┆     ┆     ┆     ┆     ┆     ┆     ┆     ┆     ┆ str ┆     ┆ f64 ┆ (Pr ┆ (Fl ┆     ┆ --- ┆     ┆     ┆     ┆ ion ┆ ion ┆ (Re ┆ --- ┆ nut ┆ str ┆ --- ┆     │\n",
       "│     ┆     ┆     ┆     ┆     ┆     ┆     ┆     ┆     ┆     ┆     ┆     ┆     ┆     ┆     ┆ omo ┆ at  ┆     ┆ f64 ┆     ┆     ┆     ┆ rea ┆ (Ca ┆ jec ┆ f64 ┆ es) ┆     ┆ str ┆     │\n",
       "│     ┆     ┆     ┆     ┆     ┆     ┆     ┆     ┆     ┆     ┆     ┆     ┆     ┆     ┆     ┆ )   ┆ off ┆     ┆     ┆     ┆     ┆     ┆ so… ┆ nce ┆ tio ┆     ┆ --- ┆     ┆     ┆     │\n",
       "│     ┆     ┆     ┆     ┆     ┆     ┆     ┆     ┆     ┆     ┆     ┆     ┆     ┆     ┆     ┆ --- ┆ s…  ┆     ┆     ┆     ┆     ┆     ┆ --- ┆ …   ┆ n)  ┆     ┆ f64 ┆     ┆     ┆     │\n",
       "│     ┆     ┆     ┆     ┆     ┆     ┆     ┆     ┆     ┆     ┆     ┆     ┆     ┆     ┆     ┆ f64 ┆ --- ┆     ┆     ┆     ┆     ┆     ┆ str ┆ --- ┆ --- ┆     ┆     ┆     ┆     ┆     │\n",
       "│     ┆     ┆     ┆     ┆     ┆     ┆     ┆     ┆     ┆     ┆     ┆     ┆     ┆     ┆     ┆     ┆ f64 ┆     ┆     ┆     ┆     ┆     ┆     ┆ f64 ┆ f64 ┆     ┆     ┆     ┆     ┆     │\n",
       "╞═════╪═════╪═════╪═════╪═════╪═════╪═════╪═════╪═════╪═════╪═════╪═════╪═════╪═════╪═════╪═════╪═════╪═════╪═════╪═════╪═════╪═════╪═════╪═════╪═════╪═════╪═════╪═════╪═════╪═════╡\n",
       "│ cou ┆ 213 ┆ 213 ┆ 213 ┆ 213 ┆ 213 ┆ 213 ┆ 213 ┆ 213 ┆ 213 ┆ 213 ┆ 720 ┆ 158 ┆ 213 ┆ 213 ┆ 213 ┆ 213 ┆ 213 ┆ 213 ┆ 213 ┆ 249 ┆ 296 ┆ 186 ┆ 133 ┆ 3.0 ┆ 210 ┆ 211 ┆ 213 ┆ 469 ┆ 213 │\n",
       "│ nt  ┆ 21. ┆ 21  ┆ 21  ┆ 21  ┆ 21. ┆ 21  ┆ 21  ┆ 21  ┆ 21  ┆ 21  ┆     ┆ 23  ┆ 21. ┆ 21. ┆ 21. ┆ 21. ┆ 21. ┆ 21. ┆ 21. ┆ 1.0 ┆     ┆     ┆ .0  ┆     ┆ 26. ┆ 53. ┆ 21  ┆     ┆ 21  │\n",
       "│     ┆ 0   ┆     ┆     ┆     ┆ 0   ┆     ┆     ┆     ┆     ┆     ┆     ┆     ┆ 0   ┆ 0   ┆ 0   ┆ 0   ┆ 0   ┆ 0   ┆ 0   ┆     ┆     ┆     ┆     ┆     ┆ 0   ┆ 0   ┆     ┆     ┆     │\n",
       "│ nul ┆ 0.0 ┆ 0   ┆ 0   ┆ 0   ┆ 0.0 ┆ 0   ┆ 0   ┆ 0   ┆ 0   ┆ 0   ┆ 206 ┆ 549 ┆ 0.0 ┆ 0.0 ┆ 0.0 ┆ 0.0 ┆ 0.0 ┆ 0.0 ┆ 0.0 ┆ 188 ┆ 210 ┆ 211 ┆ 211 ┆ 213 ┆ 295 ┆ 168 ┆ 0   ┆ 208 ┆ 0   │\n",
       "│ l_c ┆     ┆     ┆     ┆     ┆     ┆     ┆     ┆     ┆     ┆     ┆ 01  ┆ 8   ┆     ┆     ┆     ┆     ┆     ┆     ┆     ┆ 30. ┆ 25  ┆ 35  ┆ 88. ┆ 18. ┆ .0  ┆ .0  ┆     ┆ 52  ┆     │\n",
       "│ oun ┆     ┆     ┆     ┆     ┆     ┆     ┆     ┆     ┆     ┆     ┆     ┆     ┆     ┆     ┆     ┆     ┆     ┆     ┆     ┆ 0   ┆     ┆     ┆ 0   ┆ 0   ┆     ┆     ┆     ┆     ┆     │\n",
       "│ t   ┆     ┆     ┆     ┆     ┆     ┆     ┆     ┆     ┆     ┆     ┆     ┆     ┆     ┆     ┆     ┆     ┆     ┆     ┆     ┆     ┆     ┆     ┆     ┆     ┆     ┆     ┆     ┆     ┆     │\n",
       "│ mea ┆ 2.0 ┆ nul ┆ nul ┆ nul ┆ 6.3 ┆ nul ┆ nul ┆ nul ┆ nul ┆ nul ┆ nul ┆ nul ┆ 750 ┆ 32. ┆ 65. ┆ 31. ┆ 0.0 ┆ 3.0 ┆ 682 ┆ 4.3 ┆ nul ┆ nul ┆ 356 ┆ 0.0 ┆ 17. ┆ 4.8 ┆ nul ┆ nul ┆ nul │\n",
       "│ n   ┆ 744 ┆ l   ┆ l   ┆ l   ┆ 546 ┆ l   ┆ l   ┆ l   ┆ l   ┆ l   ┆ l   ┆ l   ┆ .07 ┆ 564 ┆ 091 ┆ 795 ┆ 991 ┆ 393 ┆ .61 ┆ 568 ┆ l   ┆ l   ┆ .40 ┆     ┆ 332 ┆ 250 ┆ l   ┆ l   ┆ l   │\n",
       "│     ┆ e7  ┆     ┆     ┆     ┆ e9  ┆     ┆     ┆     ┆     ┆     ┆     ┆     ┆ 683 ┆ 592 ┆ 816 ┆ 058 ┆ 28  ┆ 24  ┆ 611 ┆ 85  ┆     ┆     ┆ 954 ┆     ┆ 96  ┆ 7   ┆     ┆     ┆     │\n",
       "│     ┆     ┆     ┆     ┆     ┆     ┆     ┆     ┆     ┆     ┆     ┆     ┆     ┆ 8   ┆     ┆     ┆     ┆     ┆     ┆ 3   ┆     ┆     ┆     ┆ 9   ┆     ┆     ┆     ┆     ┆     ┆     │\n",
       "│ std ┆ 244 ┆ nul ┆ nul ┆ nul ┆ 1.2 ┆ nul ┆ nul ┆ nul ┆ nul ┆ nul ┆ nul ┆ nul ┆ 498 ┆ 22. ┆ 85. ┆ 131 ┆ 3.2 ┆ 17. ┆ 465 ┆ 1.1 ┆ nul ┆ nul ┆ 328 ┆ 0.0 ┆ 6.2 ┆ 4.9 ┆ nul ┆ nul ┆ nul │\n",
       "│     ┆ 719 ┆ l   ┆ l   ┆ l   ┆ 303 ┆ l   ┆ l   ┆ l   ┆ l   ┆ l   ┆ l   ┆ l   ┆ .75 ┆ 235 ┆ 401 ┆ .48 ┆ 642 ┆ 070 ┆ .31 ┆ 814 ┆ l   ┆ l   ┆ .12 ┆     ┆ 833 ┆ 825 ┆ l   ┆ l   ┆ l   │\n",
       "│     ┆ .26 ┆     ┆     ┆     ┆ e8  ┆     ┆     ┆     ┆     ┆     ┆     ┆     ┆ 942 ┆ 898 ┆ 604 ┆ 709 ┆ 61  ┆ 78  ┆ 397 ┆ 72  ┆     ┆     ┆ 824 ┆     ┆ 88  ┆ 91  ┆     ┆     ┆     │\n",
       "│     ┆ 524 ┆     ┆     ┆     ┆     ┆     ┆     ┆     ┆     ┆     ┆     ┆     ┆ 8   ┆     ┆     ┆ 1   ┆     ┆     ┆ 7   ┆     ┆     ┆     ┆     ┆     ┆     ┆     ┆     ┆     ┆     │\n",
       "│     ┆ 9   ┆     ┆     ┆     ┆     ┆     ┆     ┆     ┆     ┆     ┆     ┆     ┆     ┆     ┆     ┆     ┆     ┆     ┆     ┆     ┆     ┆     ┆     ┆     ┆     ┆     ┆     ┆     ┆     │\n",
       "│ min ┆ 2.0 ┆ Aur ┆ Chi ┆ Del ┆ 6.0 ┆ 01: ┆ Del ┆ Zom ┆ 10k ┆ 1 x ┆ Ord ┆ 20% ┆ 50. ┆ 0.0 ┆ 0.0 ┆ 0.0 ┆ 0.0 ┆ 0.0 ┆ 52. ┆ 1.0 ┆ Abs ┆ Can ┆ 83. ┆ 0.0 ┆ 0.0 ┆ 0.1 ┆ Cor ┆ Ite ┆ 000 │\n",
       "│     ┆ 320 ┆ a   ┆ tta ┆ hi  ┆ 868 ┆ 00  ┆ ive ┆ ato ┆ m   ┆ AAC ┆ er: ┆ off ┆ 0   ┆     ┆     ┆     ┆     ┆     ┆ 5   ┆     ┆ olu ┆ cel ┆ 58  ┆     ┆     ┆     ┆ rec ┆ m(s ┆ 285 │\n",
       "│     ┆ 607 ┆ Piz ┆ ran ┆ NCR ┆ e9  ┆ AM, ┆ red ┆ Del ┆     ┆ Fri ┆ 1.  ┆ upt ┆     ┆     ┆     ┆     ┆     ┆     ┆     ┆     ┆ tel ┆ led ┆     ┆     ┆     ┆     ┆ tly ┆ )   ┆ ae8 │\n",
       "│     ┆ e7  ┆ zas ┆ jan ┆     ┆     ┆ Dec ┆     ┆ ive ┆     ┆ ed  ┆ Sen ┆ o   ┆     ┆     ┆     ┆     ┆     ┆     ┆     ┆     ┆ y   ┆ by  ┆     ┆     ┆     ┆     ┆     ┆ mis ┆ 3ec │\n",
       "│     ┆     ┆     ┆ Par ┆     ┆     ┆ emb ┆     ┆ ry  ┆     ┆ Chi ┆ d   ┆ Rs. ┆     ┆     ┆     ┆     ┆     ┆     ┆     ┆     ┆ ama ┆ Cus ┆     ┆     ┆     ┆     ┆     ┆ sin ┆ f06 │\n",
       "│     ┆     ┆     ┆ k   ┆     ┆     ┆ er  ┆     ┆     ┆     ┆ cke ┆ ext ┆ 50  ┆     ┆     ┆     ┆     ┆     ┆     ┆     ┆     ┆ zin ┆ tom ┆     ┆     ┆     ┆     ┆     ┆ g   ┆ a92 │\n",
       "│     ┆     ┆     ┆     ┆     ┆     ┆ 08  ┆     ┆     ┆     ┆ n   ┆ ra  ┆     ┆     ┆     ┆     ┆     ┆     ┆     ┆     ┆     ┆ g   ┆ er  ┆     ┆     ┆     ┆     ┆     ┆ or  ┆ b93 │\n",
       "│     ┆     ┆     ┆     ┆     ┆     ┆ 202 ┆     ┆     ┆     ┆ Bur ┆ dip ┆     ┆     ┆     ┆     ┆     ┆     ┆     ┆     ┆     ┆ foo ┆     ┆     ┆     ┆     ┆     ┆     ┆ not ┆ 6d4 │\n",
       "│     ┆     ┆     ┆     ┆     ┆     ┆ 4   ┆     ┆     ┆     ┆ ger ┆ s.  ┆     ┆     ┆     ┆     ┆     ┆     ┆     ┆     ┆     ┆ d.. ┆     ┆     ┆     ┆     ┆     ┆     ┆ del ┆ f5b │\n",
       "│     ┆     ┆     ┆     ┆     ┆     ┆     ┆     ┆     ┆     ┆ , … ┆ 2.  ┆     ┆     ┆     ┆     ┆     ┆     ┆     ┆     ┆     ┆ tas ┆     ┆     ┆     ┆     ┆     ┆     ┆ ive ┆ 743 │\n",
       "│     ┆     ┆     ┆     ┆     ┆     ┆     ┆     ┆     ┆     ┆     ┆ …   ┆     ┆     ┆     ┆     ┆     ┆     ┆     ┆     ┆     ┆ t…  ┆     ┆     ┆     ┆     ┆     ┆     ┆ r…  ┆ …   │\n",
       "│ 25% ┆ 2.0 ┆ nul ┆ nul ┆ nul ┆ 6.2 ┆ nul ┆ nul ┆ nul ┆ nul ┆ nul ┆ nul ┆ nul ┆ 459 ┆ 18. ┆ 0.0 ┆ 0.0 ┆ 0.0 ┆ 0.0 ┆ 387 ┆ 4.0 ┆ nul ┆ nul ┆ 191 ┆ 0.0 ┆ 13. ┆ 1.0 ┆ nul ┆ nul ┆ nul │\n",
       "│     ┆ 635 ┆ l   ┆ l   ┆ l   ┆ 508 ┆ l   ┆ l   ┆ l   ┆ l   ┆ l   ┆ l   ┆ l   ┆ .0  ┆ 45  ┆     ┆     ┆     ┆     ┆ .45 ┆     ┆ l   ┆ l   ┆ .95 ┆     ┆ 38  ┆     ┆ l   ┆ l   ┆ l   │\n",
       "│     ┆ 699 ┆     ┆     ┆     ┆ e9  ┆     ┆     ┆     ┆     ┆     ┆     ┆     ┆     ┆     ┆     ┆     ┆     ┆     ┆     ┆     ┆     ┆     ┆     ┆     ┆     ┆     ┆     ┆     ┆     │\n",
       "│     ┆ e7  ┆     ┆     ┆     ┆     ┆     ┆     ┆     ┆     ┆     ┆     ┆     ┆     ┆     ┆     ┆     ┆     ┆     ┆     ┆     ┆     ┆     ┆     ┆     ┆     ┆     ┆     ┆     ┆     │\n",
       "│ 50% ┆ 2.0 ┆ nul ┆ nul ┆ nul ┆ 6.3 ┆ nul ┆ nul ┆ nul ┆ nul ┆ nul ┆ nul ┆ nul ┆ 629 ┆ 28. ┆ 80. ┆ 0.0 ┆ 0.0 ┆ 0.0 ┆ 597 ┆ 5.0 ┆ nul ┆ nul ┆ 272 ┆ 0.0 ┆ 16. ┆ 3.1 ┆ nul ┆ nul ┆ nul │\n",
       "│     ┆ 659 ┆ l   ┆ l   ┆ l   ┆ 577 ┆ l   ┆ l   ┆ l   ┆ l   ┆ l   ┆ l   ┆ l   ┆ .0  ┆ 45  ┆ 0   ┆     ┆     ┆     ┆ .45 ┆     ┆ l   ┆ l   ┆ .58 ┆     ┆ 33  ┆     ┆ l   ┆ l   ┆ l   │\n",
       "│     ┆ 868 ┆     ┆     ┆     ┆ e9  ┆     ┆     ┆     ┆     ┆     ┆     ┆     ┆     ┆     ┆     ┆     ┆     ┆     ┆     ┆     ┆     ┆     ┆     ┆     ┆     ┆     ┆     ┆     ┆     │\n",
       "│     ┆ e7  ┆     ┆     ┆     ┆     ┆     ┆     ┆     ┆     ┆     ┆     ┆     ┆     ┆     ┆     ┆     ┆     ┆     ┆     ┆     ┆     ┆     ┆     ┆     ┆     ┆     ┆     ┆     ┆     │\n",
       "│ 75% ┆ 2.0 ┆ nul ┆ nul ┆ nul ┆ 6.4 ┆ nul ┆ nul ┆ nul ┆ nul ┆ nul ┆ nul ┆ nul ┆ 899 ┆ 39. ┆ 100 ┆ 0.0 ┆ 0.0 ┆ 0.0 ┆ 837 ┆ 5.0 ┆ nul ┆ nul ┆ 397 ┆ 0.0 ┆ 20. ┆ 7.4 ┆ nul ┆ nul ┆ nul │\n",
       "│     ┆ 882 ┆ l   ┆ l   ┆ l   ┆ 568 ┆ l   ┆ l   ┆ l   ┆ l   ┆ l   ┆ l   ┆ l   ┆ .0  ┆ 95  ┆ .0  ┆     ┆     ┆     ┆ .9  ┆     ┆ l   ┆ l   ┆ .84 ┆     ┆ 05  ┆     ┆ l   ┆ l   ┆ l   │\n",
       "│     ┆ 652 ┆     ┆     ┆     ┆ e9  ┆     ┆     ┆     ┆     ┆     ┆     ┆     ┆     ┆     ┆     ┆     ┆     ┆     ┆     ┆     ┆     ┆     ┆     ┆     ┆     ┆     ┆     ┆     ┆     │\n",
       "│     ┆ e7  ┆     ┆     ┆     ┆     ┆     ┆     ┆     ┆     ┆     ┆     ┆     ┆     ┆     ┆     ┆     ┆     ┆     ┆     ┆     ┆     ┆     ┆     ┆     ┆     ┆     ┆     ┆     ┆     │\n",
       "│ max ┆ 2.1 ┆ The ┆ Vas ┆ Del ┆ 6.5 ┆ 12: ┆ Tim ┆ Zom ┆ <1k ┆ 8 x ┆ Ord ┆ ₹ 0 ┆ 160 ┆ 603 ┆ 402 ┆ 778 ┆ 280 ┆ 554 ┆ 126 ┆ 5.0 ┆ yum ┆ Mer ┆ 323 ┆ 0.0 ┆ 90. ┆ 73. ┆ Mis ┆ Wro ┆ fff │\n",
       "│     ┆ 523 ┆ Chi ┆ ant ┆ hi  ┆ 734 ┆ 59  ┆ ed  ┆ ato ┆ m   ┆ Tip ┆ er: ┆ .00 ┆ 80. ┆ .0  ┆ 0.0 ┆ 7.0 ┆ .1  ┆ .8  ┆ 63. ┆     ┆ mie ┆ cha ┆ 6.9 ┆     ┆ 87  ┆ 8   ┆ sed ┆ ng  ┆ 9f6 │\n",
       "│     ┆ 055 ┆ cke ┆ Kun ┆ NCR ┆ e9  ┆ PM, ┆ out ┆ Del ┆     ┆ sy  ┆ wil ┆     ┆ 0   ┆     ┆     ┆     ┆     ┆     ┆ 0   ┆     ┆ st  ┆ nt  ┆ 8   ┆     ┆     ┆     ┆     ┆ ite ┆ 224 │\n",
       "│     ┆ e7  ┆ n   ┆ j   ┆     ┆     ┆ Oct ┆     ┆ ive ┆     ┆ Tig ┆ l   ┆     ┆     ┆     ┆     ┆     ┆     ┆     ┆     ┆     ┆ piz ┆ dev ┆     ┆     ┆     ┆     ┆     ┆ m(s ┆ 242 │\n",
       "│     ┆     ┆ Jun ┆     ┆     ┆     ┆ obe ┆     ┆ ry  ┆     ┆ er  ┆ pic ┆     ┆     ┆     ┆     ┆     ┆     ┆     ┆     ┆     ┆ za  ┆ ice ┆     ┆     ┆     ┆     ┆     ┆ )   ┆ 97b │\n",
       "│     ┆     ┆ cti ┆     ┆     ┆     ┆ r   ┆     ┆     ┆     ┆ Gin ┆ k   ┆     ┆     ┆     ┆     ┆     ┆     ┆     ┆     ┆     ┆ i   ┆ iss ┆     ┆     ┆     ┆     ┆     ┆ del ┆ 6dc │\n",
       "│     ┆     ┆ on  ┆     ┆     ┆     ┆ 30  ┆     ┆     ┆     ┆ ger ┆ up  ┆     ┆     ┆     ┆     ┆     ┆     ┆     ┆     ┆     ┆ hav ┆ ue  ┆     ┆     ┆     ┆     ┆     ┆ ive ┆ 5a5 │\n",
       "│     ┆     ┆     ┆     ┆     ┆     ┆ 202 ┆     ┆     ┆     ┆ Ale ┆ fro ┆     ┆     ┆     ┆     ┆     ┆     ┆     ┆     ┆     ┆ e   ┆     ┆     ┆     ┆     ┆     ┆     ┆ red ┆ a66 │\n",
       "│     ┆     ┆     ┆     ┆     ┆     ┆ 4   ┆     ┆     ┆     ┆ , 2 ┆ m   ┆     ┆     ┆     ┆     ┆     ┆     ┆     ┆     ┆     ┆ eat ┆     ┆     ┆     ┆     ┆     ┆     ┆     ┆ 725 │\n",
       "│     ┆     ┆     ┆     ┆     ┆     ┆     ┆     ┆     ┆     ┆ …   ┆ the ┆     ┆     ┆     ┆     ┆     ┆     ┆     ┆     ┆     ┆ en  ┆     ┆     ┆     ┆     ┆     ┆     ┆     ┆ 896 │\n",
       "│     ┆     ┆     ┆     ┆     ┆     ┆     ┆     ┆     ┆     ┆     ┆ r…  ┆     ┆     ┆     ┆     ┆     ┆     ┆     ┆     ┆     ┆ in… ┆     ┆     ┆     ┆     ┆     ┆     ┆     ┆ …   │\n",
       "└─────┴─────┴─────┴─────┴─────┴─────┴─────┴─────┴─────┴─────┴─────┴─────┴─────┴─────┴─────┴─────┴─────┴─────┴─────┴─────┴─────┴─────┴─────┴─────┴─────┴─────┴─────┴─────┴─────┴─────┘"
      ]
     },
     "execution_count": 12,
     "metadata": {},
     "output_type": "execute_result"
    }
   ],
   "source": [
    "df.describe()"
   ]
  },
  {
   "cell_type": "markdown",
   "metadata": {},
   "source": [
    "### Goal: Build an ML modeling pipeline to train a regressor to predict the KPT duration (kitchen preparation time)"
   ]
  },
  {
   "cell_type": "markdown",
   "metadata": {},
   "source": [
    "#### 1. Quantify count and percentage of nulls in each column"
   ]
  },
  {
   "cell_type": "code",
   "execution_count": 24,
   "metadata": {},
   "outputs": [
    {
     "name": "stdout",
     "output_type": "stream",
     "text": [
      "29\n"
     ]
    },
    {
     "data": {
      "text/html": [
       "<div><style>\n",
       ".dataframe > thead > tr,\n",
       ".dataframe > tbody > tr {\n",
       "  text-align: right;\n",
       "  white-space: pre-wrap;\n",
       "}\n",
       "</style>\n",
       "<small>shape: (5, 3)</small><table border=\"1\" class=\"dataframe\"><thead><tr><th>column_name</th><th>null_count</th><th>null_percentage</th></tr><tr><td>str</td><td>u32</td><td>f64</td></tr></thead><tbody><tr><td>&quot;Restaurant ID&quot;</td><td>0</td><td>0.0</td></tr><tr><td>&quot;Restaurant name&quot;</td><td>0</td><td>0.0</td></tr><tr><td>&quot;Subzone&quot;</td><td>0</td><td>0.0</td></tr><tr><td>&quot;City&quot;</td><td>0</td><td>0.0</td></tr><tr><td>&quot;Order ID&quot;</td><td>0</td><td>0.0</td></tr></tbody></table></div>"
      ],
      "text/plain": [
       "shape: (5, 3)\n",
       "┌─────────────────┬────────────┬─────────────────┐\n",
       "│ column_name     ┆ null_count ┆ null_percentage │\n",
       "│ ---             ┆ ---        ┆ ---             │\n",
       "│ str             ┆ u32        ┆ f64             │\n",
       "╞═════════════════╪════════════╪═════════════════╡\n",
       "│ Restaurant ID   ┆ 0          ┆ 0.0             │\n",
       "│ Restaurant name ┆ 0          ┆ 0.0             │\n",
       "│ Subzone         ┆ 0          ┆ 0.0             │\n",
       "│ City            ┆ 0          ┆ 0.0             │\n",
       "│ Order ID        ┆ 0          ┆ 0.0             │\n",
       "└─────────────────┴────────────┴─────────────────┘"
      ]
     },
     "execution_count": 24,
     "metadata": {},
     "output_type": "execute_result"
    }
   ],
   "source": [
    "df_length = len(df)\n",
    "\n",
    "nulls_df = df.null_count().unpivot(\n",
    "    variable_name='column_name',\n",
    "    value_name='null_count'\n",
    ").with_columns(\n",
    "    (pl.col('null_count') / df_length).round(4).alias('null_percentage')\n",
    ")\n",
    "\n",
    "print(len(nulls_df))\n",
    "nulls_df.head()"
   ]
  },
  {
   "cell_type": "code",
   "execution_count": 31,
   "metadata": {},
   "outputs": [
    {
     "data": {
      "text/html": [
       "<div><style>\n",
       ".dataframe > thead > tr,\n",
       ".dataframe > tbody > tr {\n",
       "  text-align: right;\n",
       "  white-space: pre-wrap;\n",
       "}\n",
       "</style>\n",
       "<small>shape: (8, 3)</small><table border=\"1\" class=\"dataframe\"><thead><tr><th>column_name</th><th>null_count</th><th>null_percentage</th></tr><tr><td>str</td><td>u32</td><td>f64</td></tr></thead><tbody><tr><td>&quot;Instructions&quot;</td><td>20601</td><td>0.9662</td></tr><tr><td>&quot;Discount construct&quot;</td><td>5498</td><td>0.2579</td></tr><tr><td>&quot;Rating&quot;</td><td>18830</td><td>0.8832</td></tr><tr><td>&quot;Review&quot;</td><td>21025</td><td>0.9861</td></tr><tr><td>&quot;Cancellation / Rejection reaso…</td><td>21135</td><td>0.9913</td></tr><tr><td>&quot;Restaurant compensation (Cance…</td><td>21188</td><td>0.9938</td></tr><tr><td>&quot;Restaurant penalty (Rejection)&quot;</td><td>21318</td><td>0.9999</td></tr><tr><td>&quot;Customer complaint tag&quot;</td><td>20852</td><td>0.978</td></tr></tbody></table></div>"
      ],
      "text/plain": [
       "shape: (8, 3)\n",
       "┌─────────────────────────────────┬────────────┬─────────────────┐\n",
       "│ column_name                     ┆ null_count ┆ null_percentage │\n",
       "│ ---                             ┆ ---        ┆ ---             │\n",
       "│ str                             ┆ u32        ┆ f64             │\n",
       "╞═════════════════════════════════╪════════════╪═════════════════╡\n",
       "│ Instructions                    ┆ 20601      ┆ 0.9662          │\n",
       "│ Discount construct              ┆ 5498       ┆ 0.2579          │\n",
       "│ Rating                          ┆ 18830      ┆ 0.8832          │\n",
       "│ Review                          ┆ 21025      ┆ 0.9861          │\n",
       "│ Cancellation / Rejection reaso… ┆ 21135      ┆ 0.9913          │\n",
       "│ Restaurant compensation (Cance… ┆ 21188      ┆ 0.9938          │\n",
       "│ Restaurant penalty (Rejection)  ┆ 21318      ┆ 0.9999          │\n",
       "│ Customer complaint tag          ┆ 20852      ┆ 0.978           │\n",
       "└─────────────────────────────────┴────────────┴─────────────────┘"
      ]
     },
     "execution_count": 31,
     "metadata": {},
     "output_type": "execute_result"
    }
   ],
   "source": [
    "null_metric = 0.1 # To discuss with Steven what is the most optimal percentage metric to assess nulls\n",
    "\n",
    "highly_null_fields = set(nulls_df.filter(pl.col('null_percentage') > 0.5)['column_name'])\n",
    "\n",
    "nulls_df.filter(\n",
    "    pl.col('null_percentage') > null_metric\n",
    ")"
   ]
  },
  {
   "cell_type": "code",
   "execution_count": 41,
   "metadata": {},
   "outputs": [
    {
     "data": {
      "text/html": [
       "<div><style>\n",
       ".dataframe > thead > tr,\n",
       ".dataframe > tbody > tr {\n",
       "  text-align: right;\n",
       "  white-space: pre-wrap;\n",
       "}\n",
       "</style>\n",
       "<small>shape: (3, 3)</small><table border=\"1\" class=\"dataframe\"><thead><tr><th>column_name</th><th>null_count</th><th>null_percentage</th></tr><tr><td>str</td><td>u32</td><td>f64</td></tr></thead><tbody><tr><td>&quot;Restaurant ID&quot;</td><td>0</td><td>0.0</td></tr><tr><td>&quot;Order ID&quot;</td><td>0</td><td>0.0</td></tr><tr><td>&quot;Customer ID&quot;</td><td>0</td><td>0.0</td></tr></tbody></table></div>"
      ],
      "text/plain": [
       "shape: (3, 3)\n",
       "┌───────────────┬────────────┬─────────────────┐\n",
       "│ column_name   ┆ null_count ┆ null_percentage │\n",
       "│ ---           ┆ ---        ┆ ---             │\n",
       "│ str           ┆ u32        ┆ f64             │\n",
       "╞═══════════════╪════════════╪═════════════════╡\n",
       "│ Restaurant ID ┆ 0          ┆ 0.0             │\n",
       "│ Order ID      ┆ 0          ┆ 0.0             │\n",
       "│ Customer ID   ┆ 0          ┆ 0.0             │\n",
       "└───────────────┴────────────┴─────────────────┘"
      ]
     },
     "execution_count": 41,
     "metadata": {},
     "output_type": "execute_result"
    }
   ],
   "source": [
    "# See if ID columns have any null values\n",
    "nulls_df.filter(\n",
    "    pl.col('column_name').str.contains('ID')\n",
    ")"
   ]
  },
  {
   "cell_type": "code",
   "execution_count": 42,
   "metadata": {},
   "outputs": [],
   "source": [
    "# Create an assert statement on ID columns not having any nulls (potential for future use if new source files come in)\n",
    "assert nulls_df.filter(pl.col('column_name').str.contains('ID'))['null_count'].sum() == 0"
   ]
  },
  {
   "cell_type": "code",
   "execution_count": 43,
   "metadata": {},
   "outputs": [
    {
     "data": {
      "text/html": [
       "<div><style>\n",
       ".dataframe > thead > tr,\n",
       ".dataframe > tbody > tr {\n",
       "  text-align: right;\n",
       "  white-space: pre-wrap;\n",
       "}\n",
       "</style>\n",
       "<small>shape: (10, 3)</small><table border=\"1\" class=\"dataframe\"><thead><tr><th>column_name</th><th>null_count</th><th>null_percentage</th></tr><tr><td>str</td><td>u32</td><td>f64</td></tr></thead><tbody><tr><td>&quot;Instructions&quot;</td><td>20601</td><td>0.9662</td></tr><tr><td>&quot;Discount construct&quot;</td><td>5498</td><td>0.2579</td></tr><tr><td>&quot;Rating&quot;</td><td>18830</td><td>0.8832</td></tr><tr><td>&quot;Review&quot;</td><td>21025</td><td>0.9861</td></tr><tr><td>&quot;Cancellation / Rejection reaso…</td><td>21135</td><td>0.9913</td></tr><tr><td>&quot;Restaurant compensation (Cance…</td><td>21188</td><td>0.9938</td></tr><tr><td>&quot;Restaurant penalty (Rejection)&quot;</td><td>21318</td><td>0.9999</td></tr><tr><td>&quot;KPT duration (minutes)&quot;</td><td>295</td><td>0.0138</td></tr><tr><td>&quot;Rider wait time (minutes)&quot;</td><td>168</td><td>0.0079</td></tr><tr><td>&quot;Customer complaint tag&quot;</td><td>20852</td><td>0.978</td></tr></tbody></table></div>"
      ],
      "text/plain": [
       "shape: (10, 3)\n",
       "┌─────────────────────────────────┬────────────┬─────────────────┐\n",
       "│ column_name                     ┆ null_count ┆ null_percentage │\n",
       "│ ---                             ┆ ---        ┆ ---             │\n",
       "│ str                             ┆ u32        ┆ f64             │\n",
       "╞═════════════════════════════════╪════════════╪═════════════════╡\n",
       "│ Instructions                    ┆ 20601      ┆ 0.9662          │\n",
       "│ Discount construct              ┆ 5498       ┆ 0.2579          │\n",
       "│ Rating                          ┆ 18830      ┆ 0.8832          │\n",
       "│ Review                          ┆ 21025      ┆ 0.9861          │\n",
       "│ Cancellation / Rejection reaso… ┆ 21135      ┆ 0.9913          │\n",
       "│ Restaurant compensation (Cance… ┆ 21188      ┆ 0.9938          │\n",
       "│ Restaurant penalty (Rejection)  ┆ 21318      ┆ 0.9999          │\n",
       "│ KPT duration (minutes)          ┆ 295        ┆ 0.0138          │\n",
       "│ Rider wait time (minutes)       ┆ 168        ┆ 0.0079          │\n",
       "│ Customer complaint tag          ┆ 20852      ┆ 0.978           │\n",
       "└─────────────────────────────────┴────────────┴─────────────────┘"
      ]
     },
     "execution_count": 43,
     "metadata": {},
     "output_type": "execute_result"
    }
   ],
   "source": [
    "null_fields = set(nulls_df.filter(pl.col('null_count') > 0)['column_name'])\n",
    "\n",
    "nulls_df.filter(\n",
    "    pl.col('null_count') > 0\n",
    ")\n",
    "\n",
    "# Notes: \n",
    "# - KPT duration (target variable) contains null in 1.4% of cases\n",
    "# - Ride wait time (possible classifier?) contains nulls in 0.8% of cases"
   ]
  },
  {
   "cell_type": "code",
   "execution_count": 46,
   "metadata": {},
   "outputs": [
    {
     "name": "stdout",
     "output_type": "stream",
     "text": [
      "295\n"
     ]
    },
    {
     "data": {
      "text/html": [
       "<div><style>\n",
       ".dataframe > thead > tr,\n",
       ".dataframe > tbody > tr {\n",
       "  text-align: right;\n",
       "  white-space: pre-wrap;\n",
       "}\n",
       "</style>\n",
       "<small>shape: (5, 29)</small><table border=\"1\" class=\"dataframe\"><thead><tr><th>Restaurant ID</th><th>Restaurant name</th><th>Subzone</th><th>City</th><th>Order ID</th><th>Order Placed At</th><th>Order Status</th><th>Delivery</th><th>Distance</th><th>Items in order</th><th>Instructions</th><th>Discount construct</th><th>Bill subtotal</th><th>Packaging charges</th><th>Restaurant discount (Promo)</th><th>Restaurant discount (Flat offs, Freebies &amp; others)</th><th>Gold discount</th><th>Brand pack discount</th><th>Total</th><th>Rating</th><th>Review</th><th>Cancellation / Rejection reason</th><th>Restaurant compensation (Cancellation)</th><th>Restaurant penalty (Rejection)</th><th>KPT duration (minutes)</th><th>Rider wait time (minutes)</th><th>Order Ready Marked</th><th>Customer complaint tag</th><th>Customer ID</th></tr><tr><td>i64</td><td>str</td><td>str</td><td>str</td><td>i64</td><td>str</td><td>str</td><td>str</td><td>str</td><td>str</td><td>str</td><td>str</td><td>f64</td><td>f64</td><td>f64</td><td>f64</td><td>f64</td><td>f64</td><td>f64</td><td>f64</td><td>str</td><td>str</td><td>f64</td><td>f64</td><td>f64</td><td>f64</td><td>str</td><td>str</td><td>str</td></tr></thead><tbody><tr><td>20320607</td><td>&quot;Swaad&quot;</td><td>&quot;Sector 4&quot;</td><td>&quot;Delhi NCR&quot;</td><td>6160420881</td><td>&quot;08:35 PM, September 07 2024&quot;</td><td>&quot;Delivered&quot;</td><td>&quot;Zomato Delivery&quot;</td><td>&quot;2km&quot;</td><td>&quot;1 x Bone in Jamaican Grilled C…</td><td>null</td><td>&quot;40% off upto Rs.80&quot;</td><td>310.0</td><td>11.5</td><td>80.0</td><td>0.0</td><td>0.0</td><td>0.0</td><td>241.5</td><td>null</td><td>null</td><td>null</td><td>null</td><td>null</td><td>null</td><td>3.2</td><td>&quot;Missed&quot;</td><td>null</td><td>&quot;31e6e136219f784a75bb09e36e5ed5…</td></tr><tr><td>20320607</td><td>&quot;Swaad&quot;</td><td>&quot;Sector 4&quot;</td><td>&quot;Delhi NCR&quot;</td><td>6148418552</td><td>&quot;11:27 PM, September 04 2024&quot;</td><td>&quot;Delivered&quot;</td><td>&quot;Zomato Delivery&quot;</td><td>&quot;1km&quot;</td><td>&quot;1 x Bone in Jamaican Grilled C…</td><td>null</td><td>null</td><td>745.0</td><td>21.75</td><td>0.0</td><td>310.0</td><td>0.0</td><td>0.0</td><td>456.75</td><td>null</td><td>null</td><td>null</td><td>null</td><td>null</td><td>null</td><td>5.6</td><td>&quot;Missed&quot;</td><td>null</td><td>&quot;096a9f7a0c5cf71b57729f2de20cf0…</td></tr><tr><td>20320607</td><td>&quot;Swaad&quot;</td><td>&quot;Sector 4&quot;</td><td>&quot;Delhi NCR&quot;</td><td>6137221693</td><td>&quot;07:31 PM, September 01 2024&quot;</td><td>&quot;Delivered&quot;</td><td>&quot;Zomato Delivery&quot;</td><td>&quot;6km&quot;</td><td>&quot;1 x Bone in Smoky Bbq Grilled …</td><td>null</td><td>&quot;Flat Rs.175 off&quot;</td><td>1790.0</td><td>80.75</td><td>175.0</td><td>0.0</td><td>0.0</td><td>0.0</td><td>1695.75</td><td>null</td><td>null</td><td>null</td><td>null</td><td>null</td><td>null</td><td>16.6</td><td>&quot;Missed&quot;</td><td>null</td><td>&quot;e33afa09633ab31d30c14d93c78529…</td></tr><tr><td>20554001</td><td>&quot;Swaad&quot;</td><td>&quot;Greater Kailash 2 (GK2)&quot;</td><td>&quot;Delhi NCR&quot;</td><td>6165976485</td><td>&quot;12:43 PM, September 10 2024&quot;</td><td>&quot;Delivered&quot;</td><td>&quot;Zomato Delivery&quot;</td><td>&quot;2km&quot;</td><td>&quot;1 x Bone in Smoky Bbq Grilled …</td><td>null</td><td>&quot;50% off upto Rs.100&quot;</td><td>420.0</td><td>16.0</td><td>100.0</td><td>0.0</td><td>0.0</td><td>0.0</td><td>336.0</td><td>null</td><td>null</td><td>null</td><td>null</td><td>null</td><td>null</td><td>5.9</td><td>&quot;Missed&quot;</td><td>null</td><td>&quot;22ef48e9b486ef7ce92cb80ad133cf…</td></tr><tr><td>20554001</td><td>&quot;Swaad&quot;</td><td>&quot;Greater Kailash 2 (GK2)&quot;</td><td>&quot;Delhi NCR&quot;</td><td>6151212614</td><td>&quot;01:26 PM, September 04 2024&quot;</td><td>&quot;Delivered&quot;</td><td>&quot;Zomato Delivery&quot;</td><td>&quot;5km&quot;</td><td>&quot;1 x Bone in Jamaican Grilled C…</td><td>null</td><td>null</td><td>2090.0</td><td>52.25</td><td>0.0</td><td>1045.0</td><td>0.0</td><td>0.0</td><td>1097.25</td><td>5.0</td><td>null</td><td>null</td><td>null</td><td>null</td><td>null</td><td>9.5</td><td>&quot;Missed&quot;</td><td>null</td><td>&quot;feaeeaa1d9d90bdbdd0ac0261a39cb…</td></tr></tbody></table></div>"
      ],
      "text/plain": [
       "shape: (5, 29)\n",
       "┌─────┬─────┬─────┬─────┬─────┬─────┬─────┬─────┬─────┬─────┬─────┬─────┬─────┬─────┬─────┬─────┬─────┬─────┬─────┬─────┬─────┬─────┬─────┬─────┬─────┬─────┬─────┬─────┬─────┐\n",
       "│ Res ┆ Res ┆ Sub ┆ Cit ┆ Ord ┆ Ord ┆ Ord ┆ Del ┆ Dis ┆ Ite ┆ Ins ┆ Dis ┆ Bil ┆ Pac ┆ Res ┆ Res ┆ Gol ┆ Bra ┆ Tot ┆ Rat ┆ Rev ┆ Can ┆ Res ┆ Res ┆ KPT ┆ Rid ┆ Ord ┆ Cus ┆ Cus │\n",
       "│ tau ┆ tau ┆ zon ┆ y   ┆ er  ┆ er  ┆ er  ┆ ive ┆ tan ┆ ms  ┆ tru ┆ cou ┆ l   ┆ kag ┆ tau ┆ tau ┆ d   ┆ nd  ┆ al  ┆ ing ┆ iew ┆ cel ┆ tau ┆ tau ┆ dur ┆ er  ┆ er  ┆ tom ┆ tom │\n",
       "│ ran ┆ ran ┆ e   ┆ --- ┆ ID  ┆ Pla ┆ Sta ┆ ry  ┆ ce  ┆ in  ┆ cti ┆ nt  ┆ sub ┆ ing ┆ ran ┆ ran ┆ dis ┆ pac ┆ --- ┆ --- ┆ --- ┆ lat ┆ ran ┆ ran ┆ ati ┆ wai ┆ Rea ┆ er  ┆ er  │\n",
       "│ t   ┆ t   ┆ --- ┆ str ┆ --- ┆ ced ┆ tus ┆ --- ┆ --- ┆ ord ┆ ons ┆ con ┆ tot ┆ cha ┆ t   ┆ t   ┆ cou ┆ k   ┆ f64 ┆ f64 ┆ str ┆ ion ┆ t   ┆ t   ┆ on  ┆ t   ┆ dy  ┆ com ┆ ID  │\n",
       "│ ID  ┆ nam ┆ str ┆     ┆ i64 ┆ At  ┆ --- ┆ str ┆ str ┆ er  ┆ --- ┆ str ┆ al  ┆ rge ┆ dis ┆ dis ┆ nt  ┆ dis ┆     ┆     ┆     ┆ /   ┆ com ┆ pen ┆ (mi ┆ tim ┆ Mar ┆ pla ┆ --- │\n",
       "│ --- ┆ e   ┆     ┆     ┆     ┆ --- ┆ str ┆     ┆     ┆ --- ┆ str ┆ uct ┆ --- ┆ s   ┆ cou ┆ cou ┆ --- ┆ cou ┆     ┆     ┆     ┆ Rej ┆ pen ┆ alt ┆ nut ┆ e   ┆ ked ┆ int ┆ str │\n",
       "│ i64 ┆ --- ┆     ┆     ┆     ┆ str ┆     ┆     ┆     ┆ str ┆     ┆ --- ┆ f64 ┆ --- ┆ nt  ┆ nt  ┆ f64 ┆ nt  ┆     ┆     ┆     ┆ ect ┆ sat ┆ y   ┆ es) ┆ (mi ┆ --- ┆ tag ┆     │\n",
       "│     ┆ str ┆     ┆     ┆     ┆     ┆     ┆     ┆     ┆     ┆     ┆ str ┆     ┆ f64 ┆ (Pr ┆ (Fl ┆     ┆ --- ┆     ┆     ┆     ┆ ion ┆ ion ┆ (Re ┆ --- ┆ nut ┆ str ┆ --- ┆     │\n",
       "│     ┆     ┆     ┆     ┆     ┆     ┆     ┆     ┆     ┆     ┆     ┆     ┆     ┆     ┆ omo ┆ at  ┆     ┆ f64 ┆     ┆     ┆     ┆ rea ┆ (Ca ┆ jec ┆ f64 ┆ es) ┆     ┆ str ┆     │\n",
       "│     ┆     ┆     ┆     ┆     ┆     ┆     ┆     ┆     ┆     ┆     ┆     ┆     ┆     ┆ )   ┆ off ┆     ┆     ┆     ┆     ┆     ┆ so… ┆ nce ┆ tio ┆     ┆ --- ┆     ┆     ┆     │\n",
       "│     ┆     ┆     ┆     ┆     ┆     ┆     ┆     ┆     ┆     ┆     ┆     ┆     ┆     ┆ --- ┆ s…  ┆     ┆     ┆     ┆     ┆     ┆ --- ┆ …   ┆ n)  ┆     ┆ f64 ┆     ┆     ┆     │\n",
       "│     ┆     ┆     ┆     ┆     ┆     ┆     ┆     ┆     ┆     ┆     ┆     ┆     ┆     ┆ f64 ┆ --- ┆     ┆     ┆     ┆     ┆     ┆ str ┆ --- ┆ --- ┆     ┆     ┆     ┆     ┆     │\n",
       "│     ┆     ┆     ┆     ┆     ┆     ┆     ┆     ┆     ┆     ┆     ┆     ┆     ┆     ┆     ┆ f64 ┆     ┆     ┆     ┆     ┆     ┆     ┆ f64 ┆ f64 ┆     ┆     ┆     ┆     ┆     │\n",
       "╞═════╪═════╪═════╪═════╪═════╪═════╪═════╪═════╪═════╪═════╪═════╪═════╪═════╪═════╪═════╪═════╪═════╪═════╪═════╪═════╪═════╪═════╪═════╪═════╪═════╪═════╪═════╪═════╪═════╡\n",
       "│ 203 ┆ Swa ┆ Sec ┆ Del ┆ 616 ┆ 08: ┆ Del ┆ Zom ┆ 2km ┆ 1 x ┆ nul ┆ 40% ┆ 310 ┆ 11. ┆ 80. ┆ 0.0 ┆ 0.0 ┆ 0.0 ┆ 241 ┆ nul ┆ nul ┆ nul ┆ nul ┆ nul ┆ nul ┆ 3.2 ┆ Mis ┆ nul ┆ 31e │\n",
       "│ 206 ┆ ad  ┆ tor ┆ hi  ┆ 042 ┆ 35  ┆ ive ┆ ato ┆     ┆ Bon ┆ l   ┆ off ┆ .0  ┆ 5   ┆ 0   ┆     ┆     ┆     ┆ .5  ┆ l   ┆ l   ┆ l   ┆ l   ┆ l   ┆ l   ┆     ┆ sed ┆ l   ┆ 6e1 │\n",
       "│ 07  ┆     ┆ 4   ┆ NCR ┆ 088 ┆ PM, ┆ red ┆ Del ┆     ┆ e   ┆     ┆ upt ┆     ┆     ┆     ┆     ┆     ┆     ┆     ┆     ┆     ┆     ┆     ┆     ┆     ┆     ┆     ┆     ┆ 362 │\n",
       "│     ┆     ┆     ┆     ┆ 1   ┆ Sep ┆     ┆ ive ┆     ┆ in  ┆     ┆ o   ┆     ┆     ┆     ┆     ┆     ┆     ┆     ┆     ┆     ┆     ┆     ┆     ┆     ┆     ┆     ┆     ┆ 19f │\n",
       "│     ┆     ┆     ┆     ┆     ┆ tem ┆     ┆ ry  ┆     ┆ Jam ┆     ┆ Rs. ┆     ┆     ┆     ┆     ┆     ┆     ┆     ┆     ┆     ┆     ┆     ┆     ┆     ┆     ┆     ┆     ┆ 784 │\n",
       "│     ┆     ┆     ┆     ┆     ┆ ber ┆     ┆     ┆     ┆ aic ┆     ┆ 80  ┆     ┆     ┆     ┆     ┆     ┆     ┆     ┆     ┆     ┆     ┆     ┆     ┆     ┆     ┆     ┆     ┆ a75 │\n",
       "│     ┆     ┆     ┆     ┆     ┆ 07  ┆     ┆     ┆     ┆ an  ┆     ┆     ┆     ┆     ┆     ┆     ┆     ┆     ┆     ┆     ┆     ┆     ┆     ┆     ┆     ┆     ┆     ┆     ┆ bb0 │\n",
       "│     ┆     ┆     ┆     ┆     ┆ 202 ┆     ┆     ┆     ┆ Gri ┆     ┆     ┆     ┆     ┆     ┆     ┆     ┆     ┆     ┆     ┆     ┆     ┆     ┆     ┆     ┆     ┆     ┆     ┆ 9e3 │\n",
       "│     ┆     ┆     ┆     ┆     ┆ 4   ┆     ┆     ┆     ┆ lle ┆     ┆     ┆     ┆     ┆     ┆     ┆     ┆     ┆     ┆     ┆     ┆     ┆     ┆     ┆     ┆     ┆     ┆     ┆ 6e5 │\n",
       "│     ┆     ┆     ┆     ┆     ┆     ┆     ┆     ┆     ┆ d   ┆     ┆     ┆     ┆     ┆     ┆     ┆     ┆     ┆     ┆     ┆     ┆     ┆     ┆     ┆     ┆     ┆     ┆     ┆ ed5 │\n",
       "│     ┆     ┆     ┆     ┆     ┆     ┆     ┆     ┆     ┆ C…  ┆     ┆     ┆     ┆     ┆     ┆     ┆     ┆     ┆     ┆     ┆     ┆     ┆     ┆     ┆     ┆     ┆     ┆     ┆ …   │\n",
       "│ 203 ┆ Swa ┆ Sec ┆ Del ┆ 614 ┆ 11: ┆ Del ┆ Zom ┆ 1km ┆ 1 x ┆ nul ┆ nul ┆ 745 ┆ 21. ┆ 0.0 ┆ 310 ┆ 0.0 ┆ 0.0 ┆ 456 ┆ nul ┆ nul ┆ nul ┆ nul ┆ nul ┆ nul ┆ 5.6 ┆ Mis ┆ nul ┆ 096 │\n",
       "│ 206 ┆ ad  ┆ tor ┆ hi  ┆ 841 ┆ 27  ┆ ive ┆ ato ┆     ┆ Bon ┆ l   ┆ l   ┆ .0  ┆ 75  ┆     ┆ .0  ┆     ┆     ┆ .75 ┆ l   ┆ l   ┆ l   ┆ l   ┆ l   ┆ l   ┆     ┆ sed ┆ l   ┆ a9f │\n",
       "│ 07  ┆     ┆ 4   ┆ NCR ┆ 855 ┆ PM, ┆ red ┆ Del ┆     ┆ e   ┆     ┆     ┆     ┆     ┆     ┆     ┆     ┆     ┆     ┆     ┆     ┆     ┆     ┆     ┆     ┆     ┆     ┆     ┆ 7a0 │\n",
       "│     ┆     ┆     ┆     ┆ 2   ┆ Sep ┆     ┆ ive ┆     ┆ in  ┆     ┆     ┆     ┆     ┆     ┆     ┆     ┆     ┆     ┆     ┆     ┆     ┆     ┆     ┆     ┆     ┆     ┆     ┆ c5c │\n",
       "│     ┆     ┆     ┆     ┆     ┆ tem ┆     ┆ ry  ┆     ┆ Jam ┆     ┆     ┆     ┆     ┆     ┆     ┆     ┆     ┆     ┆     ┆     ┆     ┆     ┆     ┆     ┆     ┆     ┆     ┆ f71 │\n",
       "│     ┆     ┆     ┆     ┆     ┆ ber ┆     ┆     ┆     ┆ aic ┆     ┆     ┆     ┆     ┆     ┆     ┆     ┆     ┆     ┆     ┆     ┆     ┆     ┆     ┆     ┆     ┆     ┆     ┆ b57 │\n",
       "│     ┆     ┆     ┆     ┆     ┆ 04  ┆     ┆     ┆     ┆ an  ┆     ┆     ┆     ┆     ┆     ┆     ┆     ┆     ┆     ┆     ┆     ┆     ┆     ┆     ┆     ┆     ┆     ┆     ┆ 729 │\n",
       "│     ┆     ┆     ┆     ┆     ┆ 202 ┆     ┆     ┆     ┆ Gri ┆     ┆     ┆     ┆     ┆     ┆     ┆     ┆     ┆     ┆     ┆     ┆     ┆     ┆     ┆     ┆     ┆     ┆     ┆ f2d │\n",
       "│     ┆     ┆     ┆     ┆     ┆ 4   ┆     ┆     ┆     ┆ lle ┆     ┆     ┆     ┆     ┆     ┆     ┆     ┆     ┆     ┆     ┆     ┆     ┆     ┆     ┆     ┆     ┆     ┆     ┆ e20 │\n",
       "│     ┆     ┆     ┆     ┆     ┆     ┆     ┆     ┆     ┆ d   ┆     ┆     ┆     ┆     ┆     ┆     ┆     ┆     ┆     ┆     ┆     ┆     ┆     ┆     ┆     ┆     ┆     ┆     ┆ cf0 │\n",
       "│     ┆     ┆     ┆     ┆     ┆     ┆     ┆     ┆     ┆ C…  ┆     ┆     ┆     ┆     ┆     ┆     ┆     ┆     ┆     ┆     ┆     ┆     ┆     ┆     ┆     ┆     ┆     ┆     ┆ …   │\n",
       "│ 203 ┆ Swa ┆ Sec ┆ Del ┆ 613 ┆ 07: ┆ Del ┆ Zom ┆ 6km ┆ 1 x ┆ nul ┆ Fla ┆ 179 ┆ 80. ┆ 175 ┆ 0.0 ┆ 0.0 ┆ 0.0 ┆ 169 ┆ nul ┆ nul ┆ nul ┆ nul ┆ nul ┆ nul ┆ 16. ┆ Mis ┆ nul ┆ e33 │\n",
       "│ 206 ┆ ad  ┆ tor ┆ hi  ┆ 722 ┆ 31  ┆ ive ┆ ato ┆     ┆ Bon ┆ l   ┆ t   ┆ 0.0 ┆ 75  ┆ .0  ┆     ┆     ┆     ┆ 5.7 ┆ l   ┆ l   ┆ l   ┆ l   ┆ l   ┆ l   ┆ 6   ┆ sed ┆ l   ┆ afa │\n",
       "│ 07  ┆     ┆ 4   ┆ NCR ┆ 169 ┆ PM, ┆ red ┆ Del ┆     ┆ e   ┆     ┆ Rs. ┆     ┆     ┆     ┆     ┆     ┆     ┆ 5   ┆     ┆     ┆     ┆     ┆     ┆     ┆     ┆     ┆     ┆ 096 │\n",
       "│     ┆     ┆     ┆     ┆ 3   ┆ Sep ┆     ┆ ive ┆     ┆ in  ┆     ┆ 175 ┆     ┆     ┆     ┆     ┆     ┆     ┆     ┆     ┆     ┆     ┆     ┆     ┆     ┆     ┆     ┆     ┆ 33a │\n",
       "│     ┆     ┆     ┆     ┆     ┆ tem ┆     ┆ ry  ┆     ┆ Smo ┆     ┆ off ┆     ┆     ┆     ┆     ┆     ┆     ┆     ┆     ┆     ┆     ┆     ┆     ┆     ┆     ┆     ┆     ┆ b31 │\n",
       "│     ┆     ┆     ┆     ┆     ┆ ber ┆     ┆     ┆     ┆ ky  ┆     ┆     ┆     ┆     ┆     ┆     ┆     ┆     ┆     ┆     ┆     ┆     ┆     ┆     ┆     ┆     ┆     ┆     ┆ d30 │\n",
       "│     ┆     ┆     ┆     ┆     ┆ 01  ┆     ┆     ┆     ┆ Bbq ┆     ┆     ┆     ┆     ┆     ┆     ┆     ┆     ┆     ┆     ┆     ┆     ┆     ┆     ┆     ┆     ┆     ┆     ┆ c14 │\n",
       "│     ┆     ┆     ┆     ┆     ┆ 202 ┆     ┆     ┆     ┆ Gri ┆     ┆     ┆     ┆     ┆     ┆     ┆     ┆     ┆     ┆     ┆     ┆     ┆     ┆     ┆     ┆     ┆     ┆     ┆ d93 │\n",
       "│     ┆     ┆     ┆     ┆     ┆ 4   ┆     ┆     ┆     ┆ lle ┆     ┆     ┆     ┆     ┆     ┆     ┆     ┆     ┆     ┆     ┆     ┆     ┆     ┆     ┆     ┆     ┆     ┆     ┆ c78 │\n",
       "│     ┆     ┆     ┆     ┆     ┆     ┆     ┆     ┆     ┆ d … ┆     ┆     ┆     ┆     ┆     ┆     ┆     ┆     ┆     ┆     ┆     ┆     ┆     ┆     ┆     ┆     ┆     ┆     ┆ 529 │\n",
       "│     ┆     ┆     ┆     ┆     ┆     ┆     ┆     ┆     ┆     ┆     ┆     ┆     ┆     ┆     ┆     ┆     ┆     ┆     ┆     ┆     ┆     ┆     ┆     ┆     ┆     ┆     ┆     ┆ …   │\n",
       "│ 205 ┆ Swa ┆ Gre ┆ Del ┆ 616 ┆ 12: ┆ Del ┆ Zom ┆ 2km ┆ 1 x ┆ nul ┆ 50% ┆ 420 ┆ 16. ┆ 100 ┆ 0.0 ┆ 0.0 ┆ 0.0 ┆ 336 ┆ nul ┆ nul ┆ nul ┆ nul ┆ nul ┆ nul ┆ 5.9 ┆ Mis ┆ nul ┆ 22e │\n",
       "│ 540 ┆ ad  ┆ ate ┆ hi  ┆ 597 ┆ 43  ┆ ive ┆ ato ┆     ┆ Bon ┆ l   ┆ off ┆ .0  ┆ 0   ┆ .0  ┆     ┆     ┆     ┆ .0  ┆ l   ┆ l   ┆ l   ┆ l   ┆ l   ┆ l   ┆     ┆ sed ┆ l   ┆ f48 │\n",
       "│ 01  ┆     ┆ r   ┆ NCR ┆ 648 ┆ PM, ┆ red ┆ Del ┆     ┆ e   ┆     ┆ upt ┆     ┆     ┆     ┆     ┆     ┆     ┆     ┆     ┆     ┆     ┆     ┆     ┆     ┆     ┆     ┆     ┆ e9b │\n",
       "│     ┆     ┆ Kai ┆     ┆ 5   ┆ Sep ┆     ┆ ive ┆     ┆ in  ┆     ┆ o   ┆     ┆     ┆     ┆     ┆     ┆     ┆     ┆     ┆     ┆     ┆     ┆     ┆     ┆     ┆     ┆     ┆ 486 │\n",
       "│     ┆     ┆ las ┆     ┆     ┆ tem ┆     ┆ ry  ┆     ┆ Smo ┆     ┆ Rs. ┆     ┆     ┆     ┆     ┆     ┆     ┆     ┆     ┆     ┆     ┆     ┆     ┆     ┆     ┆     ┆     ┆ ef7 │\n",
       "│     ┆     ┆ h 2 ┆     ┆     ┆ ber ┆     ┆     ┆     ┆ ky  ┆     ┆ 100 ┆     ┆     ┆     ┆     ┆     ┆     ┆     ┆     ┆     ┆     ┆     ┆     ┆     ┆     ┆     ┆     ┆ ce9 │\n",
       "│     ┆     ┆ (GK ┆     ┆     ┆ 10  ┆     ┆     ┆     ┆ Bbq ┆     ┆     ┆     ┆     ┆     ┆     ┆     ┆     ┆     ┆     ┆     ┆     ┆     ┆     ┆     ┆     ┆     ┆     ┆ 2cb │\n",
       "│     ┆     ┆ 2)  ┆     ┆     ┆ 202 ┆     ┆     ┆     ┆ Gri ┆     ┆     ┆     ┆     ┆     ┆     ┆     ┆     ┆     ┆     ┆     ┆     ┆     ┆     ┆     ┆     ┆     ┆     ┆ 80a │\n",
       "│     ┆     ┆     ┆     ┆     ┆ 4   ┆     ┆     ┆     ┆ lle ┆     ┆     ┆     ┆     ┆     ┆     ┆     ┆     ┆     ┆     ┆     ┆     ┆     ┆     ┆     ┆     ┆     ┆     ┆ d13 │\n",
       "│     ┆     ┆     ┆     ┆     ┆     ┆     ┆     ┆     ┆ d … ┆     ┆     ┆     ┆     ┆     ┆     ┆     ┆     ┆     ┆     ┆     ┆     ┆     ┆     ┆     ┆     ┆     ┆     ┆ 3cf │\n",
       "│     ┆     ┆     ┆     ┆     ┆     ┆     ┆     ┆     ┆     ┆     ┆     ┆     ┆     ┆     ┆     ┆     ┆     ┆     ┆     ┆     ┆     ┆     ┆     ┆     ┆     ┆     ┆     ┆ …   │\n",
       "│ 205 ┆ Swa ┆ Gre ┆ Del ┆ 615 ┆ 01: ┆ Del ┆ Zom ┆ 5km ┆ 1 x ┆ nul ┆ nul ┆ 209 ┆ 52. ┆ 0.0 ┆ 104 ┆ 0.0 ┆ 0.0 ┆ 109 ┆ 5.0 ┆ nul ┆ nul ┆ nul ┆ nul ┆ nul ┆ 9.5 ┆ Mis ┆ nul ┆ fea │\n",
       "│ 540 ┆ ad  ┆ ate ┆ hi  ┆ 121 ┆ 26  ┆ ive ┆ ato ┆     ┆ Bon ┆ l   ┆ l   ┆ 0.0 ┆ 25  ┆     ┆ 5.0 ┆     ┆     ┆ 7.2 ┆     ┆ l   ┆ l   ┆ l   ┆ l   ┆ l   ┆     ┆ sed ┆ l   ┆ eea │\n",
       "│ 01  ┆     ┆ r   ┆ NCR ┆ 261 ┆ PM, ┆ red ┆ Del ┆     ┆ e   ┆     ┆     ┆     ┆     ┆     ┆     ┆     ┆     ┆ 5   ┆     ┆     ┆     ┆     ┆     ┆     ┆     ┆     ┆     ┆ a1d │\n",
       "│     ┆     ┆ Kai ┆     ┆ 4   ┆ Sep ┆     ┆ ive ┆     ┆ in  ┆     ┆     ┆     ┆     ┆     ┆     ┆     ┆     ┆     ┆     ┆     ┆     ┆     ┆     ┆     ┆     ┆     ┆     ┆ 9d9 │\n",
       "│     ┆     ┆ las ┆     ┆     ┆ tem ┆     ┆ ry  ┆     ┆ Jam ┆     ┆     ┆     ┆     ┆     ┆     ┆     ┆     ┆     ┆     ┆     ┆     ┆     ┆     ┆     ┆     ┆     ┆     ┆ 0bd │\n",
       "│     ┆     ┆ h 2 ┆     ┆     ┆ ber ┆     ┆     ┆     ┆ aic ┆     ┆     ┆     ┆     ┆     ┆     ┆     ┆     ┆     ┆     ┆     ┆     ┆     ┆     ┆     ┆     ┆     ┆     ┆ bdd │\n",
       "│     ┆     ┆ (GK ┆     ┆     ┆ 04  ┆     ┆     ┆     ┆ an  ┆     ┆     ┆     ┆     ┆     ┆     ┆     ┆     ┆     ┆     ┆     ┆     ┆     ┆     ┆     ┆     ┆     ┆     ┆ 0ac │\n",
       "│     ┆     ┆ 2)  ┆     ┆     ┆ 202 ┆     ┆     ┆     ┆ Gri ┆     ┆     ┆     ┆     ┆     ┆     ┆     ┆     ┆     ┆     ┆     ┆     ┆     ┆     ┆     ┆     ┆     ┆     ┆ 026 │\n",
       "│     ┆     ┆     ┆     ┆     ┆ 4   ┆     ┆     ┆     ┆ lle ┆     ┆     ┆     ┆     ┆     ┆     ┆     ┆     ┆     ┆     ┆     ┆     ┆     ┆     ┆     ┆     ┆     ┆     ┆ 1a3 │\n",
       "│     ┆     ┆     ┆     ┆     ┆     ┆     ┆     ┆     ┆ d   ┆     ┆     ┆     ┆     ┆     ┆     ┆     ┆     ┆     ┆     ┆     ┆     ┆     ┆     ┆     ┆     ┆     ┆     ┆ 9cb │\n",
       "│     ┆     ┆     ┆     ┆     ┆     ┆     ┆     ┆     ┆ C…  ┆     ┆     ┆     ┆     ┆     ┆     ┆     ┆     ┆     ┆     ┆     ┆     ┆     ┆     ┆     ┆     ┆     ┆     ┆ …   │\n",
       "└─────┴─────┴─────┴─────┴─────┴─────┴─────┴─────┴─────┴─────┴─────┴─────┴─────┴─────┴─────┴─────┴─────┴─────┴─────┴─────┴─────┴─────┴─────┴─────┴─────┴─────┴─────┴─────┴─────┘"
      ]
     },
     "execution_count": 46,
     "metadata": {},
     "output_type": "execute_result"
    }
   ],
   "source": [
    "# Filter on records where KPT duration is null\n",
    "target_null_df = df.filter(\n",
    "    pl.col('KPT duration (minutes)').is_null()\n",
    ")\n",
    "\n",
    "print(len(target_null_df))\n",
    "target_null_df.head()"
   ]
  },
  {
   "cell_type": "code",
   "execution_count": 52,
   "metadata": {},
   "outputs": [
    {
     "data": {
      "text/html": [
       "<div><style>\n",
       ".dataframe > thead > tr,\n",
       ".dataframe > tbody > tr {\n",
       "  text-align: right;\n",
       "  white-space: pre-wrap;\n",
       "}\n",
       "</style>\n",
       "<small>shape: (4, 2)</small><table border=\"1\" class=\"dataframe\"><thead><tr><th>column_name</th><th>unique_count</th></tr><tr><td>str</td><td>u32</td></tr></thead><tbody><tr><td>&quot;City&quot;</td><td>1</td></tr><tr><td>&quot;Delivery&quot;</td><td>1</td></tr><tr><td>&quot;KPT duration (minutes)&quot;</td><td>1</td></tr><tr><td>&quot;Order Ready Marked&quot;</td><td>1</td></tr></tbody></table></div>"
      ],
      "text/plain": [
       "shape: (4, 2)\n",
       "┌────────────────────────┬──────────────┐\n",
       "│ column_name            ┆ unique_count │\n",
       "│ ---                    ┆ ---          │\n",
       "│ str                    ┆ u32          │\n",
       "╞════════════════════════╪══════════════╡\n",
       "│ City                   ┆ 1            │\n",
       "│ Delivery               ┆ 1            │\n",
       "│ KPT duration (minutes) ┆ 1            │\n",
       "│ Order Ready Marked     ┆ 1            │\n",
       "└────────────────────────┴──────────────┘"
      ]
     },
     "execution_count": 52,
     "metadata": {},
     "output_type": "execute_result"
    }
   ],
   "source": [
    "# Find fields that could be the reason for why null values are coming in for target variable\n",
    "target_null_df.select(\n",
    "    pl.all().n_unique()\n",
    ").unpivot(\n",
    "    variable_name='column_name',\n",
    "    value_name='unique_count'\n",
    ").filter(\n",
    "    pl.col('unique_count') == 1\n",
    ")"
   ]
  },
  {
   "cell_type": "code",
   "execution_count": 62,
   "metadata": {},
   "outputs": [
    {
     "data": {
      "text/html": [
       "<div><style>\n",
       ".dataframe > thead > tr,\n",
       ".dataframe > tbody > tr {\n",
       "  text-align: right;\n",
       "  white-space: pre-wrap;\n",
       "}\n",
       "</style>\n",
       "<small>shape: (1, 4)</small><table border=\"1\" class=\"dataframe\"><thead><tr><th>Order Ready Marked</th><th>Delivery</th><th>KPT duration (minutes)</th><th>City</th></tr><tr><td>str</td><td>str</td><td>f64</td><td>str</td></tr></thead><tbody><tr><td>&quot;Missed&quot;</td><td>&quot;Zomato Delivery&quot;</td><td>null</td><td>&quot;Delhi NCR&quot;</td></tr></tbody></table></div>"
      ],
      "text/plain": [
       "shape: (1, 4)\n",
       "┌────────────────────┬─────────────────┬────────────────────────┬───────────┐\n",
       "│ Order Ready Marked ┆ Delivery        ┆ KPT duration (minutes) ┆ City      │\n",
       "│ ---                ┆ ---             ┆ ---                    ┆ ---       │\n",
       "│ str                ┆ str             ┆ f64                    ┆ str       │\n",
       "╞════════════════════╪═════════════════╪════════════════════════╪═══════════╡\n",
       "│ Missed             ┆ Zomato Delivery ┆ null                   ┆ Delhi NCR │\n",
       "└────────────────────┴─────────────────┴────────────────────────┴───────────┘"
      ]
     },
     "execution_count": 62,
     "metadata": {},
     "output_type": "execute_result"
    }
   ],
   "source": [
    "target_null_assess_fields = set(target_null_df.select(\n",
    "    pl.all().n_unique()\n",
    ").unpivot(\n",
    "    variable_name='column_name',\n",
    "    value_name='unique_count'\n",
    ").filter(\n",
    "    pl.col('unique_count') == 1\n",
    ")['column_name'])\n",
    "\n",
    "target_null_df.select(target_null_assess_fields).unique()\n",
    "\n",
    "# Notes:\n",
    "# - Order Ready Marked is 'Missed' for all values"
   ]
  },
  {
   "cell_type": "code",
   "execution_count": 67,
   "metadata": {},
   "outputs": [
    {
     "data": {
      "text/html": [
       "<div><style>\n",
       ".dataframe > thead > tr,\n",
       ".dataframe > tbody > tr {\n",
       "  text-align: right;\n",
       "  white-space: pre-wrap;\n",
       "}\n",
       "</style>\n",
       "<small>shape: (1, 1)</small><table border=\"1\" class=\"dataframe\"><thead><tr><th>KPT duration (minutes)</th></tr><tr><td>u32</td></tr></thead><tbody><tr><td>44</td></tr></tbody></table></div>"
      ],
      "text/plain": [
       "shape: (1, 1)\n",
       "┌────────────────────────┐\n",
       "│ KPT duration (minutes) │\n",
       "│ ---                    │\n",
       "│ u32                    │\n",
       "╞════════════════════════╡\n",
       "│ 44                     │\n",
       "└────────────────────────┘"
      ]
     },
     "execution_count": 67,
     "metadata": {},
     "output_type": "execute_result"
    }
   ],
   "source": [
    "df.filter(pl.col('Order Ready Marked') == 'Missed').select(\n",
    "    pl.col('KPT duration (minutes)').n_unique()\n",
    ")\n",
    "\n",
    "# Notes:\n",
    "# - Wherever KPT duration is null then Order Ready Marked = 'Missed'\n",
    "# - However when Order Ready Marked = 'Missed', many values for KPT duration\n",
    "# - (one to many relationship)"
   ]
  },
  {
   "cell_type": "code",
   "execution_count": null,
   "metadata": {},
   "outputs": [],
   "source": []
  },
  {
   "cell_type": "code",
   "execution_count": null,
   "metadata": {},
   "outputs": [],
   "source": []
  }
 ],
 "metadata": {
  "kernelspec": {
   "display_name": "datascience_env",
   "language": "python",
   "name": "python3"
  },
  "language_info": {
   "codemirror_mode": {
    "name": "ipython",
    "version": 3
   },
   "file_extension": ".py",
   "mimetype": "text/x-python",
   "name": "python",
   "nbconvert_exporter": "python",
   "pygments_lexer": "ipython3",
   "version": "3.12.9"
  }
 },
 "nbformat": 4,
 "nbformat_minor": 2
}
