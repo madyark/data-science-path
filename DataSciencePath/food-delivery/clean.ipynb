{
 "cells": [
  {
   "cell_type": "code",
   "execution_count": 349,
   "metadata": {},
   "outputs": [],
   "source": [
    "import pandas as pd\n",
    "import polars as pl\n",
    "import plotly.express as px"
   ]
  },
  {
   "cell_type": "code",
   "execution_count": 350,
   "metadata": {},
   "outputs": [
    {
     "data": {
      "text/plain": [
       "polars.config.Config"
      ]
     },
     "execution_count": 350,
     "metadata": {},
     "output_type": "execute_result"
    }
   ],
   "source": [
    "pl.Config.set_tbl_cols(300)"
   ]
  },
  {
   "cell_type": "code",
   "execution_count": 351,
   "metadata": {},
   "outputs": [
    {
     "data": {
      "text/plain": [
       "polars.config.Config"
      ]
     },
     "execution_count": 351,
     "metadata": {},
     "output_type": "execute_result"
    }
   ],
   "source": [
    "pl.Config.set_tbl_rows(20)"
   ]
  },
  {
   "cell_type": "code",
   "execution_count": 352,
   "metadata": {},
   "outputs": [
    {
     "name": "stdout",
     "output_type": "stream",
     "text": [
      "21321\n"
     ]
    },
    {
     "data": {
      "text/html": [
       "<div><style>\n",
       ".dataframe > thead > tr,\n",
       ".dataframe > tbody > tr {\n",
       "  text-align: right;\n",
       "  white-space: pre-wrap;\n",
       "}\n",
       "</style>\n",
       "<small>shape: (5, 29)</small><table border=\"1\" class=\"dataframe\"><thead><tr><th>Restaurant ID</th><th>Restaurant name</th><th>Subzone</th><th>City</th><th>Order ID</th><th>Order Placed At</th><th>Order Status</th><th>Delivery</th><th>Distance</th><th>Items in order</th><th>Instructions</th><th>Discount construct</th><th>Bill subtotal</th><th>Packaging charges</th><th>Restaurant discount (Promo)</th><th>Restaurant discount (Flat offs, Freebies &amp; others)</th><th>Gold discount</th><th>Brand pack discount</th><th>Total</th><th>Rating</th><th>Review</th><th>Cancellation / Rejection reason</th><th>Restaurant compensation (Cancellation)</th><th>Restaurant penalty (Rejection)</th><th>KPT duration (minutes)</th><th>Rider wait time (minutes)</th><th>Order Ready Marked</th><th>Customer complaint tag</th><th>Customer ID</th></tr><tr><td>i64</td><td>str</td><td>str</td><td>str</td><td>i64</td><td>str</td><td>str</td><td>str</td><td>str</td><td>str</td><td>str</td><td>str</td><td>f64</td><td>f64</td><td>f64</td><td>f64</td><td>f64</td><td>f64</td><td>f64</td><td>f64</td><td>str</td><td>str</td><td>f64</td><td>f64</td><td>f64</td><td>f64</td><td>str</td><td>str</td><td>str</td></tr></thead><tbody><tr><td>20320607</td><td>&quot;Swaad&quot;</td><td>&quot;Sector 4&quot;</td><td>&quot;Delhi NCR&quot;</td><td>6168884918</td><td>&quot;11:38 PM, September 10 2024&quot;</td><td>&quot;Delivered&quot;</td><td>&quot;Zomato Delivery&quot;</td><td>&quot;3km&quot;</td><td>&quot;1 x Grilled Chicken Jamaican T…</td><td>null</td><td>&quot;40% off upto Rs.80&quot;</td><td>715.0</td><td>31.75</td><td>80.0</td><td>0.0</td><td>0.0</td><td>0.0</td><td>666.75</td><td>null</td><td>null</td><td>null</td><td>null</td><td>null</td><td>18.35</td><td>11.6</td><td>&quot;Correctly&quot;</td><td>null</td><td>&quot;5d6c2b96db963098bc69768bea504c…</td></tr><tr><td>20320607</td><td>&quot;Swaad&quot;</td><td>&quot;Sector 4&quot;</td><td>&quot;Delhi NCR&quot;</td><td>6170707559</td><td>&quot;11:34 PM, September 10 2024&quot;</td><td>&quot;Delivered&quot;</td><td>&quot;Zomato Delivery&quot;</td><td>&quot;2km&quot;</td><td>&quot;1 x Peri Peri Fries, 1 x Fried…</td><td>null</td><td>&quot;Flat Rs.175 off&quot;</td><td>1179.0</td><td>50.2</td><td>175.0</td><td>0.0</td><td>0.0</td><td>0.0</td><td>1054.2</td><td>null</td><td>null</td><td>null</td><td>null</td><td>null</td><td>16.95</td><td>3.6</td><td>&quot;Correctly&quot;</td><td>null</td><td>&quot;0781815deb4a10a574e9fee4fa0b86…</td></tr><tr><td>20320607</td><td>&quot;Swaad&quot;</td><td>&quot;Sector 4&quot;</td><td>&quot;Delhi NCR&quot;</td><td>6169375019</td><td>&quot;03:52 PM, September 10 2024&quot;</td><td>&quot;Delivered&quot;</td><td>&quot;Zomato Delivery&quot;</td><td>&quot;&lt;1km&quot;</td><td>&quot;1 x Bone in Peri Peri Grilled …</td><td>null</td><td>&quot;40% off upto Rs.80&quot;</td><td>310.0</td><td>11.5</td><td>80.0</td><td>0.0</td><td>0.0</td><td>0.0</td><td>241.5</td><td>null</td><td>null</td><td>null</td><td>null</td><td>null</td><td>14.05</td><td>12.2</td><td>&quot;Correctly&quot;</td><td>null</td><td>&quot;f93362f5ce5382657482d164e36818…</td></tr><tr><td>20320607</td><td>&quot;Swaad&quot;</td><td>&quot;Sector 4&quot;</td><td>&quot;Delhi NCR&quot;</td><td>6151677434</td><td>&quot;03:45 PM, September 10 2024&quot;</td><td>&quot;Delivered&quot;</td><td>&quot;Zomato Delivery&quot;</td><td>&quot;2km&quot;</td><td>&quot;1 x Fried Chicken Ghostbuster …</td><td>null</td><td>&quot;40% off upto Rs.80&quot;</td><td>620.0</td><td>27.0</td><td>80.0</td><td>0.0</td><td>0.0</td><td>0.0</td><td>567.0</td><td>4.0</td><td>null</td><td>null</td><td>null</td><td>null</td><td>19.0</td><td>3.3</td><td>&quot;Correctly&quot;</td><td>null</td><td>&quot;1ed226d1b8a5f7acee12fc1d667655…</td></tr><tr><td>20320607</td><td>&quot;Swaad&quot;</td><td>&quot;Sector 4&quot;</td><td>&quot;Delhi NCR&quot;</td><td>6167540897</td><td>&quot;03:04 PM, September 10 2024&quot;</td><td>&quot;Delivered&quot;</td><td>&quot;Zomato Delivery&quot;</td><td>&quot;2km&quot;</td><td>&quot;1 x Peri Peri Krispers, 1 x Fr…</td><td>null</td><td>&quot;40% off upto Rs.80&quot;</td><td>584.0</td><td>25.2</td><td>80.0</td><td>0.0</td><td>0.0</td><td>0.0</td><td>529.2</td><td>null</td><td>null</td><td>null</td><td>null</td><td>null</td><td>15.97</td><td>1.0</td><td>&quot;Correctly&quot;</td><td>null</td><td>&quot;d21a2ac6ea06b31cc3288ab20c4ef2…</td></tr></tbody></table></div>"
      ],
      "text/plain": [
       "shape: (5, 29)\n",
       "┌─────┬─────┬─────┬─────┬─────┬─────┬─────┬─────┬─────┬─────┬─────┬─────┬─────┬─────┬─────┬─────┬─────┬─────┬─────┬─────┬─────┬─────┬─────┬─────┬─────┬─────┬─────┬─────┬─────┐\n",
       "│ Res ┆ Res ┆ Sub ┆ Cit ┆ Ord ┆ Ord ┆ Ord ┆ Del ┆ Dis ┆ Ite ┆ Ins ┆ Dis ┆ Bil ┆ Pac ┆ Res ┆ Res ┆ Gol ┆ Bra ┆ Tot ┆ Rat ┆ Rev ┆ Can ┆ Res ┆ Res ┆ KPT ┆ Rid ┆ Ord ┆ Cus ┆ Cus │\n",
       "│ tau ┆ tau ┆ zon ┆ y   ┆ er  ┆ er  ┆ er  ┆ ive ┆ tan ┆ ms  ┆ tru ┆ cou ┆ l   ┆ kag ┆ tau ┆ tau ┆ d   ┆ nd  ┆ al  ┆ ing ┆ iew ┆ cel ┆ tau ┆ tau ┆ dur ┆ er  ┆ er  ┆ tom ┆ tom │\n",
       "│ ran ┆ ran ┆ e   ┆ --- ┆ ID  ┆ Pla ┆ Sta ┆ ry  ┆ ce  ┆ in  ┆ cti ┆ nt  ┆ sub ┆ ing ┆ ran ┆ ran ┆ dis ┆ pac ┆ --- ┆ --- ┆ --- ┆ lat ┆ ran ┆ ran ┆ ati ┆ wai ┆ Rea ┆ er  ┆ er  │\n",
       "│ t   ┆ t   ┆ --- ┆ str ┆ --- ┆ ced ┆ tus ┆ --- ┆ --- ┆ ord ┆ ons ┆ con ┆ tot ┆ cha ┆ t   ┆ t   ┆ cou ┆ k   ┆ f64 ┆ f64 ┆ str ┆ ion ┆ t   ┆ t   ┆ on  ┆ t   ┆ dy  ┆ com ┆ ID  │\n",
       "│ ID  ┆ nam ┆ str ┆     ┆ i64 ┆ At  ┆ --- ┆ str ┆ str ┆ er  ┆ --- ┆ str ┆ al  ┆ rge ┆ dis ┆ dis ┆ nt  ┆ dis ┆     ┆     ┆     ┆ /   ┆ com ┆ pen ┆ (mi ┆ tim ┆ Mar ┆ pla ┆ --- │\n",
       "│ --- ┆ e   ┆     ┆     ┆     ┆ --- ┆ str ┆     ┆     ┆ --- ┆ str ┆ uct ┆ --- ┆ s   ┆ cou ┆ cou ┆ --- ┆ cou ┆     ┆     ┆     ┆ Rej ┆ pen ┆ alt ┆ nut ┆ e   ┆ ked ┆ int ┆ str │\n",
       "│ i64 ┆ --- ┆     ┆     ┆     ┆ str ┆     ┆     ┆     ┆ str ┆     ┆ --- ┆ f64 ┆ --- ┆ nt  ┆ nt  ┆ f64 ┆ nt  ┆     ┆     ┆     ┆ ect ┆ sat ┆ y   ┆ es) ┆ (mi ┆ --- ┆ tag ┆     │\n",
       "│     ┆ str ┆     ┆     ┆     ┆     ┆     ┆     ┆     ┆     ┆     ┆ str ┆     ┆ f64 ┆ (Pr ┆ (Fl ┆     ┆ --- ┆     ┆     ┆     ┆ ion ┆ ion ┆ (Re ┆ --- ┆ nut ┆ str ┆ --- ┆     │\n",
       "│     ┆     ┆     ┆     ┆     ┆     ┆     ┆     ┆     ┆     ┆     ┆     ┆     ┆     ┆ omo ┆ at  ┆     ┆ f64 ┆     ┆     ┆     ┆ rea ┆ (Ca ┆ jec ┆ f64 ┆ es) ┆     ┆ str ┆     │\n",
       "│     ┆     ┆     ┆     ┆     ┆     ┆     ┆     ┆     ┆     ┆     ┆     ┆     ┆     ┆ )   ┆ off ┆     ┆     ┆     ┆     ┆     ┆ so… ┆ nce ┆ tio ┆     ┆ --- ┆     ┆     ┆     │\n",
       "│     ┆     ┆     ┆     ┆     ┆     ┆     ┆     ┆     ┆     ┆     ┆     ┆     ┆     ┆ --- ┆ s…  ┆     ┆     ┆     ┆     ┆     ┆ --- ┆ …   ┆ n)  ┆     ┆ f64 ┆     ┆     ┆     │\n",
       "│     ┆     ┆     ┆     ┆     ┆     ┆     ┆     ┆     ┆     ┆     ┆     ┆     ┆     ┆ f64 ┆ --- ┆     ┆     ┆     ┆     ┆     ┆ str ┆ --- ┆ --- ┆     ┆     ┆     ┆     ┆     │\n",
       "│     ┆     ┆     ┆     ┆     ┆     ┆     ┆     ┆     ┆     ┆     ┆     ┆     ┆     ┆     ┆ f64 ┆     ┆     ┆     ┆     ┆     ┆     ┆ f64 ┆ f64 ┆     ┆     ┆     ┆     ┆     │\n",
       "╞═════╪═════╪═════╪═════╪═════╪═════╪═════╪═════╪═════╪═════╪═════╪═════╪═════╪═════╪═════╪═════╪═════╪═════╪═════╪═════╪═════╪═════╪═════╪═════╪═════╪═════╪═════╪═════╪═════╡\n",
       "│ 203 ┆ Swa ┆ Sec ┆ Del ┆ 616 ┆ 11: ┆ Del ┆ Zom ┆ 3km ┆ 1 x ┆ nul ┆ 40% ┆ 715 ┆ 31. ┆ 80. ┆ 0.0 ┆ 0.0 ┆ 0.0 ┆ 666 ┆ nul ┆ nul ┆ nul ┆ nul ┆ nul ┆ 18. ┆ 11. ┆ Cor ┆ nul ┆ 5d6 │\n",
       "│ 206 ┆ ad  ┆ tor ┆ hi  ┆ 888 ┆ 38  ┆ ive ┆ ato ┆     ┆ Gri ┆ l   ┆ off ┆ .0  ┆ 75  ┆ 0   ┆     ┆     ┆     ┆ .75 ┆ l   ┆ l   ┆ l   ┆ l   ┆ l   ┆ 35  ┆ 6   ┆ rec ┆ l   ┆ c2b │\n",
       "│ 07  ┆     ┆ 4   ┆ NCR ┆ 491 ┆ PM, ┆ red ┆ Del ┆     ┆ lle ┆     ┆ upt ┆     ┆     ┆     ┆     ┆     ┆     ┆     ┆     ┆     ┆     ┆     ┆     ┆     ┆     ┆ tly ┆     ┆ 96d │\n",
       "│     ┆     ┆     ┆     ┆ 8   ┆ Sep ┆     ┆ ive ┆     ┆ d   ┆     ┆ o   ┆     ┆     ┆     ┆     ┆     ┆     ┆     ┆     ┆     ┆     ┆     ┆     ┆     ┆     ┆     ┆     ┆ b96 │\n",
       "│     ┆     ┆     ┆     ┆     ┆ tem ┆     ┆ ry  ┆     ┆ Chi ┆     ┆ Rs. ┆     ┆     ┆     ┆     ┆     ┆     ┆     ┆     ┆     ┆     ┆     ┆     ┆     ┆     ┆     ┆     ┆ 309 │\n",
       "│     ┆     ┆     ┆     ┆     ┆ ber ┆     ┆     ┆     ┆ cke ┆     ┆ 80  ┆     ┆     ┆     ┆     ┆     ┆     ┆     ┆     ┆     ┆     ┆     ┆     ┆     ┆     ┆     ┆     ┆ 8bc │\n",
       "│     ┆     ┆     ┆     ┆     ┆ 10  ┆     ┆     ┆     ┆ n   ┆     ┆     ┆     ┆     ┆     ┆     ┆     ┆     ┆     ┆     ┆     ┆     ┆     ┆     ┆     ┆     ┆     ┆     ┆ 697 │\n",
       "│     ┆     ┆     ┆     ┆     ┆ 202 ┆     ┆     ┆     ┆ Jam ┆     ┆     ┆     ┆     ┆     ┆     ┆     ┆     ┆     ┆     ┆     ┆     ┆     ┆     ┆     ┆     ┆     ┆     ┆ 68b │\n",
       "│     ┆     ┆     ┆     ┆     ┆ 4   ┆     ┆     ┆     ┆ aic ┆     ┆     ┆     ┆     ┆     ┆     ┆     ┆     ┆     ┆     ┆     ┆     ┆     ┆     ┆     ┆     ┆     ┆     ┆ ea5 │\n",
       "│     ┆     ┆     ┆     ┆     ┆     ┆     ┆     ┆     ┆ an  ┆     ┆     ┆     ┆     ┆     ┆     ┆     ┆     ┆     ┆     ┆     ┆     ┆     ┆     ┆     ┆     ┆     ┆     ┆ 04c │\n",
       "│     ┆     ┆     ┆     ┆     ┆     ┆     ┆     ┆     ┆ T…  ┆     ┆     ┆     ┆     ┆     ┆     ┆     ┆     ┆     ┆     ┆     ┆     ┆     ┆     ┆     ┆     ┆     ┆     ┆ …   │\n",
       "│ 203 ┆ Swa ┆ Sec ┆ Del ┆ 617 ┆ 11: ┆ Del ┆ Zom ┆ 2km ┆ 1 x ┆ nul ┆ Fla ┆ 117 ┆ 50. ┆ 175 ┆ 0.0 ┆ 0.0 ┆ 0.0 ┆ 105 ┆ nul ┆ nul ┆ nul ┆ nul ┆ nul ┆ 16. ┆ 3.6 ┆ Cor ┆ nul ┆ 078 │\n",
       "│ 206 ┆ ad  ┆ tor ┆ hi  ┆ 070 ┆ 34  ┆ ive ┆ ato ┆     ┆ Per ┆ l   ┆ t   ┆ 9.0 ┆ 2   ┆ .0  ┆     ┆     ┆     ┆ 4.2 ┆ l   ┆ l   ┆ l   ┆ l   ┆ l   ┆ 95  ┆     ┆ rec ┆ l   ┆ 181 │\n",
       "│ 07  ┆     ┆ 4   ┆ NCR ┆ 755 ┆ PM, ┆ red ┆ Del ┆     ┆ i   ┆     ┆ Rs. ┆     ┆     ┆     ┆     ┆     ┆     ┆     ┆     ┆     ┆     ┆     ┆     ┆     ┆     ┆ tly ┆     ┆ 5de │\n",
       "│     ┆     ┆     ┆     ┆ 9   ┆ Sep ┆     ┆ ive ┆     ┆ Per ┆     ┆ 175 ┆     ┆     ┆     ┆     ┆     ┆     ┆     ┆     ┆     ┆     ┆     ┆     ┆     ┆     ┆     ┆     ┆ b4a │\n",
       "│     ┆     ┆     ┆     ┆     ┆ tem ┆     ┆ ry  ┆     ┆ i   ┆     ┆ off ┆     ┆     ┆     ┆     ┆     ┆     ┆     ┆     ┆     ┆     ┆     ┆     ┆     ┆     ┆     ┆     ┆ 10a │\n",
       "│     ┆     ┆     ┆     ┆     ┆ ber ┆     ┆     ┆     ┆ Fri ┆     ┆     ┆     ┆     ┆     ┆     ┆     ┆     ┆     ┆     ┆     ┆     ┆     ┆     ┆     ┆     ┆     ┆     ┆ 574 │\n",
       "│     ┆     ┆     ┆     ┆     ┆ 10  ┆     ┆     ┆     ┆ es, ┆     ┆     ┆     ┆     ┆     ┆     ┆     ┆     ┆     ┆     ┆     ┆     ┆     ┆     ┆     ┆     ┆     ┆     ┆ e9f │\n",
       "│     ┆     ┆     ┆     ┆     ┆ 202 ┆     ┆     ┆     ┆ 1 x ┆     ┆     ┆     ┆     ┆     ┆     ┆     ┆     ┆     ┆     ┆     ┆     ┆     ┆     ┆     ┆     ┆     ┆     ┆ ee4 │\n",
       "│     ┆     ┆     ┆     ┆     ┆ 4   ┆     ┆     ┆     ┆ Fri ┆     ┆     ┆     ┆     ┆     ┆     ┆     ┆     ┆     ┆     ┆     ┆     ┆     ┆     ┆     ┆     ┆     ┆     ┆ fa0 │\n",
       "│     ┆     ┆     ┆     ┆     ┆     ┆     ┆     ┆     ┆ ed… ┆     ┆     ┆     ┆     ┆     ┆     ┆     ┆     ┆     ┆     ┆     ┆     ┆     ┆     ┆     ┆     ┆     ┆     ┆ b86 │\n",
       "│     ┆     ┆     ┆     ┆     ┆     ┆     ┆     ┆     ┆     ┆     ┆     ┆     ┆     ┆     ┆     ┆     ┆     ┆     ┆     ┆     ┆     ┆     ┆     ┆     ┆     ┆     ┆     ┆ …   │\n",
       "│ 203 ┆ Swa ┆ Sec ┆ Del ┆ 616 ┆ 03: ┆ Del ┆ Zom ┆ <1k ┆ 1 x ┆ nul ┆ 40% ┆ 310 ┆ 11. ┆ 80. ┆ 0.0 ┆ 0.0 ┆ 0.0 ┆ 241 ┆ nul ┆ nul ┆ nul ┆ nul ┆ nul ┆ 14. ┆ 12. ┆ Cor ┆ nul ┆ f93 │\n",
       "│ 206 ┆ ad  ┆ tor ┆ hi  ┆ 937 ┆ 52  ┆ ive ┆ ato ┆ m   ┆ Bon ┆ l   ┆ off ┆ .0  ┆ 5   ┆ 0   ┆     ┆     ┆     ┆ .5  ┆ l   ┆ l   ┆ l   ┆ l   ┆ l   ┆ 05  ┆ 2   ┆ rec ┆ l   ┆ 362 │\n",
       "│ 07  ┆     ┆ 4   ┆ NCR ┆ 501 ┆ PM, ┆ red ┆ Del ┆     ┆ e   ┆     ┆ upt ┆     ┆     ┆     ┆     ┆     ┆     ┆     ┆     ┆     ┆     ┆     ┆     ┆     ┆     ┆ tly ┆     ┆ f5c │\n",
       "│     ┆     ┆     ┆     ┆ 9   ┆ Sep ┆     ┆ ive ┆     ┆ in  ┆     ┆ o   ┆     ┆     ┆     ┆     ┆     ┆     ┆     ┆     ┆     ┆     ┆     ┆     ┆     ┆     ┆     ┆     ┆ e53 │\n",
       "│     ┆     ┆     ┆     ┆     ┆ tem ┆     ┆ ry  ┆     ┆ Per ┆     ┆ Rs. ┆     ┆     ┆     ┆     ┆     ┆     ┆     ┆     ┆     ┆     ┆     ┆     ┆     ┆     ┆     ┆     ┆ 826 │\n",
       "│     ┆     ┆     ┆     ┆     ┆ ber ┆     ┆     ┆     ┆ i   ┆     ┆ 80  ┆     ┆     ┆     ┆     ┆     ┆     ┆     ┆     ┆     ┆     ┆     ┆     ┆     ┆     ┆     ┆     ┆ 574 │\n",
       "│     ┆     ┆     ┆     ┆     ┆ 10  ┆     ┆     ┆     ┆ Per ┆     ┆     ┆     ┆     ┆     ┆     ┆     ┆     ┆     ┆     ┆     ┆     ┆     ┆     ┆     ┆     ┆     ┆     ┆ 82d │\n",
       "│     ┆     ┆     ┆     ┆     ┆ 202 ┆     ┆     ┆     ┆ i   ┆     ┆     ┆     ┆     ┆     ┆     ┆     ┆     ┆     ┆     ┆     ┆     ┆     ┆     ┆     ┆     ┆     ┆     ┆ 164 │\n",
       "│     ┆     ┆     ┆     ┆     ┆ 4   ┆     ┆     ┆     ┆ Gri ┆     ┆     ┆     ┆     ┆     ┆     ┆     ┆     ┆     ┆     ┆     ┆     ┆     ┆     ┆     ┆     ┆     ┆     ┆ e36 │\n",
       "│     ┆     ┆     ┆     ┆     ┆     ┆     ┆     ┆     ┆ lle ┆     ┆     ┆     ┆     ┆     ┆     ┆     ┆     ┆     ┆     ┆     ┆     ┆     ┆     ┆     ┆     ┆     ┆     ┆ 818 │\n",
       "│     ┆     ┆     ┆     ┆     ┆     ┆     ┆     ┆     ┆ d … ┆     ┆     ┆     ┆     ┆     ┆     ┆     ┆     ┆     ┆     ┆     ┆     ┆     ┆     ┆     ┆     ┆     ┆     ┆ …   │\n",
       "│ 203 ┆ Swa ┆ Sec ┆ Del ┆ 615 ┆ 03: ┆ Del ┆ Zom ┆ 2km ┆ 1 x ┆ nul ┆ 40% ┆ 620 ┆ 27. ┆ 80. ┆ 0.0 ┆ 0.0 ┆ 0.0 ┆ 567 ┆ 4.0 ┆ nul ┆ nul ┆ nul ┆ nul ┆ 19. ┆ 3.3 ┆ Cor ┆ nul ┆ 1ed │\n",
       "│ 206 ┆ ad  ┆ tor ┆ hi  ┆ 167 ┆ 45  ┆ ive ┆ ato ┆     ┆ Fri ┆ l   ┆ off ┆ .0  ┆ 0   ┆ 0   ┆     ┆     ┆     ┆ .0  ┆     ┆ l   ┆ l   ┆ l   ┆ l   ┆ 0   ┆     ┆ rec ┆ l   ┆ 226 │\n",
       "│ 07  ┆     ┆ 4   ┆ NCR ┆ 743 ┆ PM, ┆ red ┆ Del ┆     ┆ ed  ┆     ┆ upt ┆     ┆     ┆     ┆     ┆     ┆     ┆     ┆     ┆     ┆     ┆     ┆     ┆     ┆     ┆ tly ┆     ┆ d1b │\n",
       "│     ┆     ┆     ┆     ┆ 4   ┆ Sep ┆     ┆ ive ┆     ┆ Chi ┆     ┆ o   ┆     ┆     ┆     ┆     ┆     ┆     ┆     ┆     ┆     ┆     ┆     ┆     ┆     ┆     ┆     ┆     ┆ 8a5 │\n",
       "│     ┆     ┆     ┆     ┆     ┆ tem ┆     ┆ ry  ┆     ┆ cke ┆     ┆ Rs. ┆     ┆     ┆     ┆     ┆     ┆     ┆     ┆     ┆     ┆     ┆     ┆     ┆     ┆     ┆     ┆     ┆ f7a │\n",
       "│     ┆     ┆     ┆     ┆     ┆ ber ┆     ┆     ┆     ┆ n   ┆     ┆ 80  ┆     ┆     ┆     ┆     ┆     ┆     ┆     ┆     ┆     ┆     ┆     ┆     ┆     ┆     ┆     ┆     ┆ cee │\n",
       "│     ┆     ┆     ┆     ┆     ┆ 10  ┆     ┆     ┆     ┆ Gho ┆     ┆     ┆     ┆     ┆     ┆     ┆     ┆     ┆     ┆     ┆     ┆     ┆     ┆     ┆     ┆     ┆     ┆     ┆ 12f │\n",
       "│     ┆     ┆     ┆     ┆     ┆ 202 ┆     ┆     ┆     ┆ stb ┆     ┆     ┆     ┆     ┆     ┆     ┆     ┆     ┆     ┆     ┆     ┆     ┆     ┆     ┆     ┆     ┆     ┆     ┆ c1d │\n",
       "│     ┆     ┆     ┆     ┆     ┆ 4   ┆     ┆     ┆     ┆ ust ┆     ┆     ┆     ┆     ┆     ┆     ┆     ┆     ┆     ┆     ┆     ┆     ┆     ┆     ┆     ┆     ┆     ┆     ┆ 667 │\n",
       "│     ┆     ┆     ┆     ┆     ┆     ┆     ┆     ┆     ┆ er  ┆     ┆     ┆     ┆     ┆     ┆     ┆     ┆     ┆     ┆     ┆     ┆     ┆     ┆     ┆     ┆     ┆     ┆     ┆ 655 │\n",
       "│     ┆     ┆     ┆     ┆     ┆     ┆     ┆     ┆     ┆ …   ┆     ┆     ┆     ┆     ┆     ┆     ┆     ┆     ┆     ┆     ┆     ┆     ┆     ┆     ┆     ┆     ┆     ┆     ┆ …   │\n",
       "│ 203 ┆ Swa ┆ Sec ┆ Del ┆ 616 ┆ 03: ┆ Del ┆ Zom ┆ 2km ┆ 1 x ┆ nul ┆ 40% ┆ 584 ┆ 25. ┆ 80. ┆ 0.0 ┆ 0.0 ┆ 0.0 ┆ 529 ┆ nul ┆ nul ┆ nul ┆ nul ┆ nul ┆ 15. ┆ 1.0 ┆ Cor ┆ nul ┆ d21 │\n",
       "│ 206 ┆ ad  ┆ tor ┆ hi  ┆ 754 ┆ 04  ┆ ive ┆ ato ┆     ┆ Per ┆ l   ┆ off ┆ .0  ┆ 2   ┆ 0   ┆     ┆     ┆     ┆ .2  ┆ l   ┆ l   ┆ l   ┆ l   ┆ l   ┆ 97  ┆     ┆ rec ┆ l   ┆ a2a │\n",
       "│ 07  ┆     ┆ 4   ┆ NCR ┆ 089 ┆ PM, ┆ red ┆ Del ┆     ┆ i   ┆     ┆ upt ┆     ┆     ┆     ┆     ┆     ┆     ┆     ┆     ┆     ┆     ┆     ┆     ┆     ┆     ┆ tly ┆     ┆ c6e │\n",
       "│     ┆     ┆     ┆     ┆ 7   ┆ Sep ┆     ┆ ive ┆     ┆ Per ┆     ┆ o   ┆     ┆     ┆     ┆     ┆     ┆     ┆     ┆     ┆     ┆     ┆     ┆     ┆     ┆     ┆     ┆     ┆ a06 │\n",
       "│     ┆     ┆     ┆     ┆     ┆ tem ┆     ┆ ry  ┆     ┆ i   ┆     ┆ Rs. ┆     ┆     ┆     ┆     ┆     ┆     ┆     ┆     ┆     ┆     ┆     ┆     ┆     ┆     ┆     ┆     ┆ b31 │\n",
       "│     ┆     ┆     ┆     ┆     ┆ ber ┆     ┆     ┆     ┆ Kri ┆     ┆ 80  ┆     ┆     ┆     ┆     ┆     ┆     ┆     ┆     ┆     ┆     ┆     ┆     ┆     ┆     ┆     ┆     ┆ cc3 │\n",
       "│     ┆     ┆     ┆     ┆     ┆ 10  ┆     ┆     ┆     ┆ spe ┆     ┆     ┆     ┆     ┆     ┆     ┆     ┆     ┆     ┆     ┆     ┆     ┆     ┆     ┆     ┆     ┆     ┆     ┆ 288 │\n",
       "│     ┆     ┆     ┆     ┆     ┆ 202 ┆     ┆     ┆     ┆ rs, ┆     ┆     ┆     ┆     ┆     ┆     ┆     ┆     ┆     ┆     ┆     ┆     ┆     ┆     ┆     ┆     ┆     ┆     ┆ ab2 │\n",
       "│     ┆     ┆     ┆     ┆     ┆ 4   ┆     ┆     ┆     ┆ 1 x ┆     ┆     ┆     ┆     ┆     ┆     ┆     ┆     ┆     ┆     ┆     ┆     ┆     ┆     ┆     ┆     ┆     ┆     ┆ 0c4 │\n",
       "│     ┆     ┆     ┆     ┆     ┆     ┆     ┆     ┆     ┆ Fr… ┆     ┆     ┆     ┆     ┆     ┆     ┆     ┆     ┆     ┆     ┆     ┆     ┆     ┆     ┆     ┆     ┆     ┆     ┆ ef2 │\n",
       "│     ┆     ┆     ┆     ┆     ┆     ┆     ┆     ┆     ┆     ┆     ┆     ┆     ┆     ┆     ┆     ┆     ┆     ┆     ┆     ┆     ┆     ┆     ┆     ┆     ┆     ┆     ┆     ┆ …   │\n",
       "└─────┴─────┴─────┴─────┴─────┴─────┴─────┴─────┴─────┴─────┴─────┴─────┴─────┴─────┴─────┴─────┴─────┴─────┴─────┴─────┴─────┴─────┴─────┴─────┴─────┴─────┴─────┴─────┴─────┘"
      ]
     },
     "execution_count": 352,
     "metadata": {},
     "output_type": "execute_result"
    }
   ],
   "source": [
    "raw_df = pl.read_csv(\n",
    "    'source/order_history_kaggle_data.csv',\n",
    "    infer_schema_length=10000,\n",
    ")\n",
    "\n",
    "df = raw_df.clone()\n",
    "\n",
    "print(len(df))\n",
    "df.head()"
   ]
  },
  {
   "cell_type": "markdown",
   "metadata": {},
   "source": [
    "Run a check on column data types - are the types being loaded correctly? "
   ]
  },
  {
   "cell_type": "code",
   "execution_count": 353,
   "metadata": {},
   "outputs": [
    {
     "data": {
      "text/plain": [
       "{'Restaurant ID': Int64,\n",
       " 'Restaurant name': String,\n",
       " 'Subzone': String,\n",
       " 'City': String,\n",
       " 'Order ID': Int64,\n",
       " 'Order Placed At': String,\n",
       " 'Order Status': String,\n",
       " 'Delivery': String,\n",
       " 'Distance': String,\n",
       " 'Items in order': String,\n",
       " 'Instructions': String,\n",
       " 'Discount construct': String,\n",
       " 'Bill subtotal': Float64,\n",
       " 'Packaging charges': Float64,\n",
       " 'Restaurant discount (Promo)': Float64,\n",
       " 'Restaurant discount (Flat offs, Freebies & others)': Float64,\n",
       " 'Gold discount': Float64,\n",
       " 'Brand pack discount': Float64,\n",
       " 'Total': Float64,\n",
       " 'Rating': Float64,\n",
       " 'Review': String,\n",
       " 'Cancellation / Rejection reason': String,\n",
       " 'Restaurant compensation (Cancellation)': Float64,\n",
       " 'Restaurant penalty (Rejection)': Float64,\n",
       " 'KPT duration (minutes)': Float64,\n",
       " 'Rider wait time (minutes)': Float64,\n",
       " 'Order Ready Marked': String,\n",
       " 'Customer complaint tag': String,\n",
       " 'Customer ID': String}"
      ]
     },
     "execution_count": 353,
     "metadata": {},
     "output_type": "execute_result"
    }
   ],
   "source": [
    "df_schema = dict(df.schema)\n",
    "df_schema"
   ]
  },
  {
   "cell_type": "markdown",
   "metadata": {},
   "source": [
    "Initial observations:\n",
    "- ID columns ('Restaurant ID', 'Order ID') come as large int objects, Customer ID is a hash string\n",
    "  - Assert all values are not null & unique\n",
    "  - Can certain IDs with leading zeroes be getting removed? (Thus, should column be read as string?)\n",
    "- 'Order Placed At' parsed as string (find a way to convert it to timestamp)\n",
    "- 'Delivery' + 'Cancellation / Rejection reason' + 'Order Ready Marked' seem to be dropdown strings\n",
    "  - See examples of values\n",
    "- 'Distance' parsed as string (**convert it to to float**)\n",
    "- Billing + Discount columns all come in correctly as floating-point numbers\n",
    "- 'Rating' is a float (find min, max values)\n",
    "- 'Instructions', 'Review', 'Customer complaint tag' are strings (see a few examples of types of values + note value length)\n",
    "  -  Are columns needed for future storage? Replace values with placeholder (e.g. 1s and 0s)?\n",
    "- 'Restaurant Penalty' is a string (what does the column represent? see a few examples)\n",
    "- KPT duration + Rider wait time coming in correctly as floating-point numbers\n",
    "\n",
    "Other notes: \n",
    "1. Split df into different parts (multiple business cases in one df)? \n",
    "1. Decide what business question(s) to answer using df"
   ]
  },
  {
   "cell_type": "code",
   "execution_count": 354,
   "metadata": {},
   "outputs": [
    {
     "data": {
      "text/html": [
       "<div><style>\n",
       ".dataframe > thead > tr,\n",
       ".dataframe > tbody > tr {\n",
       "  text-align: right;\n",
       "  white-space: pre-wrap;\n",
       "}\n",
       "</style>\n",
       "<small>shape: (9, 30)</small><table border=\"1\" class=\"dataframe\"><thead><tr><th>statistic</th><th>Restaurant ID</th><th>Restaurant name</th><th>Subzone</th><th>City</th><th>Order ID</th><th>Order Placed At</th><th>Order Status</th><th>Delivery</th><th>Distance</th><th>Items in order</th><th>Instructions</th><th>Discount construct</th><th>Bill subtotal</th><th>Packaging charges</th><th>Restaurant discount (Promo)</th><th>Restaurant discount (Flat offs, Freebies &amp; others)</th><th>Gold discount</th><th>Brand pack discount</th><th>Total</th><th>Rating</th><th>Review</th><th>Cancellation / Rejection reason</th><th>Restaurant compensation (Cancellation)</th><th>Restaurant penalty (Rejection)</th><th>KPT duration (minutes)</th><th>Rider wait time (minutes)</th><th>Order Ready Marked</th><th>Customer complaint tag</th><th>Customer ID</th></tr><tr><td>str</td><td>f64</td><td>str</td><td>str</td><td>str</td><td>f64</td><td>str</td><td>str</td><td>str</td><td>str</td><td>str</td><td>str</td><td>str</td><td>f64</td><td>f64</td><td>f64</td><td>f64</td><td>f64</td><td>f64</td><td>f64</td><td>f64</td><td>str</td><td>str</td><td>f64</td><td>f64</td><td>f64</td><td>f64</td><td>str</td><td>str</td><td>str</td></tr></thead><tbody><tr><td>&quot;count&quot;</td><td>21321.0</td><td>&quot;21321&quot;</td><td>&quot;21321&quot;</td><td>&quot;21321&quot;</td><td>21321.0</td><td>&quot;21321&quot;</td><td>&quot;21321&quot;</td><td>&quot;21321&quot;</td><td>&quot;21321&quot;</td><td>&quot;21321&quot;</td><td>&quot;720&quot;</td><td>&quot;15823&quot;</td><td>21321.0</td><td>21321.0</td><td>21321.0</td><td>21321.0</td><td>21321.0</td><td>21321.0</td><td>21321.0</td><td>2491.0</td><td>&quot;296&quot;</td><td>&quot;186&quot;</td><td>133.0</td><td>3.0</td><td>21026.0</td><td>21153.0</td><td>&quot;21321&quot;</td><td>&quot;469&quot;</td><td>&quot;21321&quot;</td></tr><tr><td>&quot;null_count&quot;</td><td>0.0</td><td>&quot;0&quot;</td><td>&quot;0&quot;</td><td>&quot;0&quot;</td><td>0.0</td><td>&quot;0&quot;</td><td>&quot;0&quot;</td><td>&quot;0&quot;</td><td>&quot;0&quot;</td><td>&quot;0&quot;</td><td>&quot;20601&quot;</td><td>&quot;5498&quot;</td><td>0.0</td><td>0.0</td><td>0.0</td><td>0.0</td><td>0.0</td><td>0.0</td><td>0.0</td><td>18830.0</td><td>&quot;21025&quot;</td><td>&quot;21135&quot;</td><td>21188.0</td><td>21318.0</td><td>295.0</td><td>168.0</td><td>&quot;0&quot;</td><td>&quot;20852&quot;</td><td>&quot;0&quot;</td></tr><tr><td>&quot;mean&quot;</td><td>2.0744e7</td><td>null</td><td>null</td><td>null</td><td>6.3546e9</td><td>null</td><td>null</td><td>null</td><td>null</td><td>null</td><td>null</td><td>null</td><td>750.076838</td><td>32.564592</td><td>65.091816</td><td>31.795058</td><td>0.099128</td><td>3.039324</td><td>682.616113</td><td>4.356885</td><td>null</td><td>null</td><td>356.409549</td><td>0.0</td><td>17.33296</td><td>4.82507</td><td>null</td><td>null</td><td>null</td></tr><tr><td>&quot;std&quot;</td><td>244719.265249</td><td>null</td><td>null</td><td>null</td><td>1.2303e8</td><td>null</td><td>null</td><td>null</td><td>null</td><td>null</td><td>null</td><td>null</td><td>498.759428</td><td>22.235898</td><td>85.401604</td><td>131.487091</td><td>3.264261</td><td>17.07078</td><td>465.313977</td><td>1.181472</td><td>null</td><td>null</td><td>328.12824</td><td>0.0</td><td>6.283388</td><td>4.982591</td><td>null</td><td>null</td><td>null</td></tr><tr><td>&quot;min&quot;</td><td>2.0320607e7</td><td>&quot;Aura Pizzas&quot;</td><td>&quot;Chittaranjan Park&quot;</td><td>&quot;Delhi NCR&quot;</td><td>6.0868e9</td><td>&quot;01:00 AM, December 08 2024&quot;</td><td>&quot;Delivered&quot;</td><td>&quot;Zomato Delivery&quot;</td><td>&quot;10km&quot;</td><td>&quot;1 x AAC Fried Chicken Burger, …</td><td>&quot;Order: 1. Send extra dips.\n",
       "2. …</td><td>&quot;20% off upto Rs.50&quot;</td><td>50.0</td><td>0.0</td><td>0.0</td><td>0.0</td><td>0.0</td><td>0.0</td><td>52.5</td><td>1.0</td><td>&quot;Absolutely amazing food.. tast…</td><td>&quot;Cancelled by Customer&quot;</td><td>83.58</td><td>0.0</td><td>0.0</td><td>0.1</td><td>&quot;Correctly&quot;</td><td>&quot;Item(s) missing or not deliver…</td><td>&quot;000285ae83ecf06a92b936d4f5b743…</td></tr><tr><td>&quot;25%&quot;</td><td>2.0635699e7</td><td>null</td><td>null</td><td>null</td><td>6.2508e9</td><td>null</td><td>null</td><td>null</td><td>null</td><td>null</td><td>null</td><td>null</td><td>459.0</td><td>18.45</td><td>0.0</td><td>0.0</td><td>0.0</td><td>0.0</td><td>387.45</td><td>4.0</td><td>null</td><td>null</td><td>191.95</td><td>0.0</td><td>13.38</td><td>1.0</td><td>null</td><td>null</td><td>null</td></tr><tr><td>&quot;50%&quot;</td><td>2.0659868e7</td><td>null</td><td>null</td><td>null</td><td>6.3577e9</td><td>null</td><td>null</td><td>null</td><td>null</td><td>null</td><td>null</td><td>null</td><td>629.0</td><td>28.45</td><td>80.0</td><td>0.0</td><td>0.0</td><td>0.0</td><td>597.45</td><td>5.0</td><td>null</td><td>null</td><td>272.58</td><td>0.0</td><td>16.33</td><td>3.1</td><td>null</td><td>null</td><td>null</td></tr><tr><td>&quot;75%&quot;</td><td>2.0882652e7</td><td>null</td><td>null</td><td>null</td><td>6.4568e9</td><td>null</td><td>null</td><td>null</td><td>null</td><td>null</td><td>null</td><td>null</td><td>899.0</td><td>39.95</td><td>100.0</td><td>0.0</td><td>0.0</td><td>0.0</td><td>837.9</td><td>5.0</td><td>null</td><td>null</td><td>397.84</td><td>0.0</td><td>20.05</td><td>7.4</td><td>null</td><td>null</td><td>null</td></tr><tr><td>&quot;max&quot;</td><td>2.1523055e7</td><td>&quot;The Chicken Junction&quot;</td><td>&quot;Vasant Kunj&quot;</td><td>&quot;Delhi NCR&quot;</td><td>6.5734e9</td><td>&quot;12:59 PM, October 30 2024&quot;</td><td>&quot;Timed out&quot;</td><td>&quot;Zomato Delivery&quot;</td><td>&quot;&lt;1km&quot;</td><td>&quot;8 x Tipsy Tiger Ginger Ale, 2 …</td><td>&quot;Order: will pick up from the r…</td><td>&quot;₹ 0.00&quot;</td><td>16080.0</td><td>603.0</td><td>4020.0</td><td>7787.0</td><td>280.1</td><td>554.8</td><td>12663.0</td><td>5.0</td><td>&quot;yummiest pizza i have eaten in…</td><td>&quot;Merchant device issue&quot;</td><td>3236.98</td><td>0.0</td><td>90.87</td><td>73.8</td><td>&quot;Missed&quot;</td><td>&quot;Wrong item(s) delivered&quot;</td><td>&quot;fff9f622424297b6dc5a5a66725896…</td></tr></tbody></table></div>"
      ],
      "text/plain": [
       "shape: (9, 30)\n",
       "┌─────┬─────┬─────┬─────┬─────┬─────┬─────┬─────┬─────┬─────┬─────┬─────┬─────┬─────┬─────┬─────┬─────┬─────┬─────┬─────┬─────┬─────┬─────┬─────┬─────┬─────┬─────┬─────┬─────┬─────┐\n",
       "│ sta ┆ Res ┆ Res ┆ Sub ┆ Cit ┆ Ord ┆ Ord ┆ Ord ┆ Del ┆ Dis ┆ Ite ┆ Ins ┆ Dis ┆ Bil ┆ Pac ┆ Res ┆ Res ┆ Gol ┆ Bra ┆ Tot ┆ Rat ┆ Rev ┆ Can ┆ Res ┆ Res ┆ KPT ┆ Rid ┆ Ord ┆ Cus ┆ Cus │\n",
       "│ tis ┆ tau ┆ tau ┆ zon ┆ y   ┆ er  ┆ er  ┆ er  ┆ ive ┆ tan ┆ ms  ┆ tru ┆ cou ┆ l   ┆ kag ┆ tau ┆ tau ┆ d   ┆ nd  ┆ al  ┆ ing ┆ iew ┆ cel ┆ tau ┆ tau ┆ dur ┆ er  ┆ er  ┆ tom ┆ tom │\n",
       "│ tic ┆ ran ┆ ran ┆ e   ┆ --- ┆ ID  ┆ Pla ┆ Sta ┆ ry  ┆ ce  ┆ in  ┆ cti ┆ nt  ┆ sub ┆ ing ┆ ran ┆ ran ┆ dis ┆ pac ┆ --- ┆ --- ┆ --- ┆ lat ┆ ran ┆ ran ┆ ati ┆ wai ┆ Rea ┆ er  ┆ er  │\n",
       "│ --- ┆ t   ┆ t   ┆ --- ┆ str ┆ --- ┆ ced ┆ tus ┆ --- ┆ --- ┆ ord ┆ ons ┆ con ┆ tot ┆ cha ┆ t   ┆ t   ┆ cou ┆ k   ┆ f64 ┆ f64 ┆ str ┆ ion ┆ t   ┆ t   ┆ on  ┆ t   ┆ dy  ┆ com ┆ ID  │\n",
       "│ str ┆ ID  ┆ nam ┆ str ┆     ┆ f64 ┆ At  ┆ --- ┆ str ┆ str ┆ er  ┆ --- ┆ str ┆ al  ┆ rge ┆ dis ┆ dis ┆ nt  ┆ dis ┆     ┆     ┆     ┆ /   ┆ com ┆ pen ┆ (mi ┆ tim ┆ Mar ┆ pla ┆ --- │\n",
       "│     ┆ --- ┆ e   ┆     ┆     ┆     ┆ --- ┆ str ┆     ┆     ┆ --- ┆ str ┆ uct ┆ --- ┆ s   ┆ cou ┆ cou ┆ --- ┆ cou ┆     ┆     ┆     ┆ Rej ┆ pen ┆ alt ┆ nut ┆ e   ┆ ked ┆ int ┆ str │\n",
       "│     ┆ f64 ┆ --- ┆     ┆     ┆     ┆ str ┆     ┆     ┆     ┆ str ┆     ┆ --- ┆ f64 ┆ --- ┆ nt  ┆ nt  ┆ f64 ┆ nt  ┆     ┆     ┆     ┆ ect ┆ sat ┆ y   ┆ es) ┆ (mi ┆ --- ┆ tag ┆     │\n",
       "│     ┆     ┆ str ┆     ┆     ┆     ┆     ┆     ┆     ┆     ┆     ┆     ┆ str ┆     ┆ f64 ┆ (Pr ┆ (Fl ┆     ┆ --- ┆     ┆     ┆     ┆ ion ┆ ion ┆ (Re ┆ --- ┆ nut ┆ str ┆ --- ┆     │\n",
       "│     ┆     ┆     ┆     ┆     ┆     ┆     ┆     ┆     ┆     ┆     ┆     ┆     ┆     ┆     ┆ omo ┆ at  ┆     ┆ f64 ┆     ┆     ┆     ┆ rea ┆ (Ca ┆ jec ┆ f64 ┆ es) ┆     ┆ str ┆     │\n",
       "│     ┆     ┆     ┆     ┆     ┆     ┆     ┆     ┆     ┆     ┆     ┆     ┆     ┆     ┆     ┆ )   ┆ off ┆     ┆     ┆     ┆     ┆     ┆ so… ┆ nce ┆ tio ┆     ┆ --- ┆     ┆     ┆     │\n",
       "│     ┆     ┆     ┆     ┆     ┆     ┆     ┆     ┆     ┆     ┆     ┆     ┆     ┆     ┆     ┆ --- ┆ s…  ┆     ┆     ┆     ┆     ┆     ┆ --- ┆ …   ┆ n)  ┆     ┆ f64 ┆     ┆     ┆     │\n",
       "│     ┆     ┆     ┆     ┆     ┆     ┆     ┆     ┆     ┆     ┆     ┆     ┆     ┆     ┆     ┆ f64 ┆ --- ┆     ┆     ┆     ┆     ┆     ┆ str ┆ --- ┆ --- ┆     ┆     ┆     ┆     ┆     │\n",
       "│     ┆     ┆     ┆     ┆     ┆     ┆     ┆     ┆     ┆     ┆     ┆     ┆     ┆     ┆     ┆     ┆ f64 ┆     ┆     ┆     ┆     ┆     ┆     ┆ f64 ┆ f64 ┆     ┆     ┆     ┆     ┆     │\n",
       "╞═════╪═════╪═════╪═════╪═════╪═════╪═════╪═════╪═════╪═════╪═════╪═════╪═════╪═════╪═════╪═════╪═════╪═════╪═════╪═════╪═════╪═════╪═════╪═════╪═════╪═════╪═════╪═════╪═════╪═════╡\n",
       "│ cou ┆ 213 ┆ 213 ┆ 213 ┆ 213 ┆ 213 ┆ 213 ┆ 213 ┆ 213 ┆ 213 ┆ 213 ┆ 720 ┆ 158 ┆ 213 ┆ 213 ┆ 213 ┆ 213 ┆ 213 ┆ 213 ┆ 213 ┆ 249 ┆ 296 ┆ 186 ┆ 133 ┆ 3.0 ┆ 210 ┆ 211 ┆ 213 ┆ 469 ┆ 213 │\n",
       "│ nt  ┆ 21. ┆ 21  ┆ 21  ┆ 21  ┆ 21. ┆ 21  ┆ 21  ┆ 21  ┆ 21  ┆ 21  ┆     ┆ 23  ┆ 21. ┆ 21. ┆ 21. ┆ 21. ┆ 21. ┆ 21. ┆ 21. ┆ 1.0 ┆     ┆     ┆ .0  ┆     ┆ 26. ┆ 53. ┆ 21  ┆     ┆ 21  │\n",
       "│     ┆ 0   ┆     ┆     ┆     ┆ 0   ┆     ┆     ┆     ┆     ┆     ┆     ┆     ┆ 0   ┆ 0   ┆ 0   ┆ 0   ┆ 0   ┆ 0   ┆ 0   ┆     ┆     ┆     ┆     ┆     ┆ 0   ┆ 0   ┆     ┆     ┆     │\n",
       "│ nul ┆ 0.0 ┆ 0   ┆ 0   ┆ 0   ┆ 0.0 ┆ 0   ┆ 0   ┆ 0   ┆ 0   ┆ 0   ┆ 206 ┆ 549 ┆ 0.0 ┆ 0.0 ┆ 0.0 ┆ 0.0 ┆ 0.0 ┆ 0.0 ┆ 0.0 ┆ 188 ┆ 210 ┆ 211 ┆ 211 ┆ 213 ┆ 295 ┆ 168 ┆ 0   ┆ 208 ┆ 0   │\n",
       "│ l_c ┆     ┆     ┆     ┆     ┆     ┆     ┆     ┆     ┆     ┆     ┆ 01  ┆ 8   ┆     ┆     ┆     ┆     ┆     ┆     ┆     ┆ 30. ┆ 25  ┆ 35  ┆ 88. ┆ 18. ┆ .0  ┆ .0  ┆     ┆ 52  ┆     │\n",
       "│ oun ┆     ┆     ┆     ┆     ┆     ┆     ┆     ┆     ┆     ┆     ┆     ┆     ┆     ┆     ┆     ┆     ┆     ┆     ┆     ┆ 0   ┆     ┆     ┆ 0   ┆ 0   ┆     ┆     ┆     ┆     ┆     │\n",
       "│ t   ┆     ┆     ┆     ┆     ┆     ┆     ┆     ┆     ┆     ┆     ┆     ┆     ┆     ┆     ┆     ┆     ┆     ┆     ┆     ┆     ┆     ┆     ┆     ┆     ┆     ┆     ┆     ┆     ┆     │\n",
       "│ mea ┆ 2.0 ┆ nul ┆ nul ┆ nul ┆ 6.3 ┆ nul ┆ nul ┆ nul ┆ nul ┆ nul ┆ nul ┆ nul ┆ 750 ┆ 32. ┆ 65. ┆ 31. ┆ 0.0 ┆ 3.0 ┆ 682 ┆ 4.3 ┆ nul ┆ nul ┆ 356 ┆ 0.0 ┆ 17. ┆ 4.8 ┆ nul ┆ nul ┆ nul │\n",
       "│ n   ┆ 744 ┆ l   ┆ l   ┆ l   ┆ 546 ┆ l   ┆ l   ┆ l   ┆ l   ┆ l   ┆ l   ┆ l   ┆ .07 ┆ 564 ┆ 091 ┆ 795 ┆ 991 ┆ 393 ┆ .61 ┆ 568 ┆ l   ┆ l   ┆ .40 ┆     ┆ 332 ┆ 250 ┆ l   ┆ l   ┆ l   │\n",
       "│     ┆ e7  ┆     ┆     ┆     ┆ e9  ┆     ┆     ┆     ┆     ┆     ┆     ┆     ┆ 683 ┆ 592 ┆ 816 ┆ 058 ┆ 28  ┆ 24  ┆ 611 ┆ 85  ┆     ┆     ┆ 954 ┆     ┆ 96  ┆ 7   ┆     ┆     ┆     │\n",
       "│     ┆     ┆     ┆     ┆     ┆     ┆     ┆     ┆     ┆     ┆     ┆     ┆     ┆ 8   ┆     ┆     ┆     ┆     ┆     ┆ 3   ┆     ┆     ┆     ┆ 9   ┆     ┆     ┆     ┆     ┆     ┆     │\n",
       "│ std ┆ 244 ┆ nul ┆ nul ┆ nul ┆ 1.2 ┆ nul ┆ nul ┆ nul ┆ nul ┆ nul ┆ nul ┆ nul ┆ 498 ┆ 22. ┆ 85. ┆ 131 ┆ 3.2 ┆ 17. ┆ 465 ┆ 1.1 ┆ nul ┆ nul ┆ 328 ┆ 0.0 ┆ 6.2 ┆ 4.9 ┆ nul ┆ nul ┆ nul │\n",
       "│     ┆ 719 ┆ l   ┆ l   ┆ l   ┆ 303 ┆ l   ┆ l   ┆ l   ┆ l   ┆ l   ┆ l   ┆ l   ┆ .75 ┆ 235 ┆ 401 ┆ .48 ┆ 642 ┆ 070 ┆ .31 ┆ 814 ┆ l   ┆ l   ┆ .12 ┆     ┆ 833 ┆ 825 ┆ l   ┆ l   ┆ l   │\n",
       "│     ┆ .26 ┆     ┆     ┆     ┆ e8  ┆     ┆     ┆     ┆     ┆     ┆     ┆     ┆ 942 ┆ 898 ┆ 604 ┆ 709 ┆ 61  ┆ 78  ┆ 397 ┆ 72  ┆     ┆     ┆ 824 ┆     ┆ 88  ┆ 91  ┆     ┆     ┆     │\n",
       "│     ┆ 524 ┆     ┆     ┆     ┆     ┆     ┆     ┆     ┆     ┆     ┆     ┆     ┆ 8   ┆     ┆     ┆ 1   ┆     ┆     ┆ 7   ┆     ┆     ┆     ┆     ┆     ┆     ┆     ┆     ┆     ┆     │\n",
       "│     ┆ 9   ┆     ┆     ┆     ┆     ┆     ┆     ┆     ┆     ┆     ┆     ┆     ┆     ┆     ┆     ┆     ┆     ┆     ┆     ┆     ┆     ┆     ┆     ┆     ┆     ┆     ┆     ┆     ┆     │\n",
       "│ min ┆ 2.0 ┆ Aur ┆ Chi ┆ Del ┆ 6.0 ┆ 01: ┆ Del ┆ Zom ┆ 10k ┆ 1 x ┆ Ord ┆ 20% ┆ 50. ┆ 0.0 ┆ 0.0 ┆ 0.0 ┆ 0.0 ┆ 0.0 ┆ 52. ┆ 1.0 ┆ Abs ┆ Can ┆ 83. ┆ 0.0 ┆ 0.0 ┆ 0.1 ┆ Cor ┆ Ite ┆ 000 │\n",
       "│     ┆ 320 ┆ a   ┆ tta ┆ hi  ┆ 868 ┆ 00  ┆ ive ┆ ato ┆ m   ┆ AAC ┆ er: ┆ off ┆ 0   ┆     ┆     ┆     ┆     ┆     ┆ 5   ┆     ┆ olu ┆ cel ┆ 58  ┆     ┆     ┆     ┆ rec ┆ m(s ┆ 285 │\n",
       "│     ┆ 607 ┆ Piz ┆ ran ┆ NCR ┆ e9  ┆ AM, ┆ red ┆ Del ┆     ┆ Fri ┆ 1.  ┆ upt ┆     ┆     ┆     ┆     ┆     ┆     ┆     ┆     ┆ tel ┆ led ┆     ┆     ┆     ┆     ┆ tly ┆ )   ┆ ae8 │\n",
       "│     ┆ e7  ┆ zas ┆ jan ┆     ┆     ┆ Dec ┆     ┆ ive ┆     ┆ ed  ┆ Sen ┆ o   ┆     ┆     ┆     ┆     ┆     ┆     ┆     ┆     ┆ y   ┆ by  ┆     ┆     ┆     ┆     ┆     ┆ mis ┆ 3ec │\n",
       "│     ┆     ┆     ┆ Par ┆     ┆     ┆ emb ┆     ┆ ry  ┆     ┆ Chi ┆ d   ┆ Rs. ┆     ┆     ┆     ┆     ┆     ┆     ┆     ┆     ┆ ama ┆ Cus ┆     ┆     ┆     ┆     ┆     ┆ sin ┆ f06 │\n",
       "│     ┆     ┆     ┆ k   ┆     ┆     ┆ er  ┆     ┆     ┆     ┆ cke ┆ ext ┆ 50  ┆     ┆     ┆     ┆     ┆     ┆     ┆     ┆     ┆ zin ┆ tom ┆     ┆     ┆     ┆     ┆     ┆ g   ┆ a92 │\n",
       "│     ┆     ┆     ┆     ┆     ┆     ┆ 08  ┆     ┆     ┆     ┆ n   ┆ ra  ┆     ┆     ┆     ┆     ┆     ┆     ┆     ┆     ┆     ┆ g   ┆ er  ┆     ┆     ┆     ┆     ┆     ┆ or  ┆ b93 │\n",
       "│     ┆     ┆     ┆     ┆     ┆     ┆ 202 ┆     ┆     ┆     ┆ Bur ┆ dip ┆     ┆     ┆     ┆     ┆     ┆     ┆     ┆     ┆     ┆ foo ┆     ┆     ┆     ┆     ┆     ┆     ┆ not ┆ 6d4 │\n",
       "│     ┆     ┆     ┆     ┆     ┆     ┆ 4   ┆     ┆     ┆     ┆ ger ┆ s.  ┆     ┆     ┆     ┆     ┆     ┆     ┆     ┆     ┆     ┆ d.. ┆     ┆     ┆     ┆     ┆     ┆     ┆ del ┆ f5b │\n",
       "│     ┆     ┆     ┆     ┆     ┆     ┆     ┆     ┆     ┆     ┆ , … ┆ 2.  ┆     ┆     ┆     ┆     ┆     ┆     ┆     ┆     ┆     ┆ tas ┆     ┆     ┆     ┆     ┆     ┆     ┆ ive ┆ 743 │\n",
       "│     ┆     ┆     ┆     ┆     ┆     ┆     ┆     ┆     ┆     ┆     ┆ …   ┆     ┆     ┆     ┆     ┆     ┆     ┆     ┆     ┆     ┆ t…  ┆     ┆     ┆     ┆     ┆     ┆     ┆ r…  ┆ …   │\n",
       "│ 25% ┆ 2.0 ┆ nul ┆ nul ┆ nul ┆ 6.2 ┆ nul ┆ nul ┆ nul ┆ nul ┆ nul ┆ nul ┆ nul ┆ 459 ┆ 18. ┆ 0.0 ┆ 0.0 ┆ 0.0 ┆ 0.0 ┆ 387 ┆ 4.0 ┆ nul ┆ nul ┆ 191 ┆ 0.0 ┆ 13. ┆ 1.0 ┆ nul ┆ nul ┆ nul │\n",
       "│     ┆ 635 ┆ l   ┆ l   ┆ l   ┆ 508 ┆ l   ┆ l   ┆ l   ┆ l   ┆ l   ┆ l   ┆ l   ┆ .0  ┆ 45  ┆     ┆     ┆     ┆     ┆ .45 ┆     ┆ l   ┆ l   ┆ .95 ┆     ┆ 38  ┆     ┆ l   ┆ l   ┆ l   │\n",
       "│     ┆ 699 ┆     ┆     ┆     ┆ e9  ┆     ┆     ┆     ┆     ┆     ┆     ┆     ┆     ┆     ┆     ┆     ┆     ┆     ┆     ┆     ┆     ┆     ┆     ┆     ┆     ┆     ┆     ┆     ┆     │\n",
       "│     ┆ e7  ┆     ┆     ┆     ┆     ┆     ┆     ┆     ┆     ┆     ┆     ┆     ┆     ┆     ┆     ┆     ┆     ┆     ┆     ┆     ┆     ┆     ┆     ┆     ┆     ┆     ┆     ┆     ┆     │\n",
       "│ 50% ┆ 2.0 ┆ nul ┆ nul ┆ nul ┆ 6.3 ┆ nul ┆ nul ┆ nul ┆ nul ┆ nul ┆ nul ┆ nul ┆ 629 ┆ 28. ┆ 80. ┆ 0.0 ┆ 0.0 ┆ 0.0 ┆ 597 ┆ 5.0 ┆ nul ┆ nul ┆ 272 ┆ 0.0 ┆ 16. ┆ 3.1 ┆ nul ┆ nul ┆ nul │\n",
       "│     ┆ 659 ┆ l   ┆ l   ┆ l   ┆ 577 ┆ l   ┆ l   ┆ l   ┆ l   ┆ l   ┆ l   ┆ l   ┆ .0  ┆ 45  ┆ 0   ┆     ┆     ┆     ┆ .45 ┆     ┆ l   ┆ l   ┆ .58 ┆     ┆ 33  ┆     ┆ l   ┆ l   ┆ l   │\n",
       "│     ┆ 868 ┆     ┆     ┆     ┆ e9  ┆     ┆     ┆     ┆     ┆     ┆     ┆     ┆     ┆     ┆     ┆     ┆     ┆     ┆     ┆     ┆     ┆     ┆     ┆     ┆     ┆     ┆     ┆     ┆     │\n",
       "│     ┆ e7  ┆     ┆     ┆     ┆     ┆     ┆     ┆     ┆     ┆     ┆     ┆     ┆     ┆     ┆     ┆     ┆     ┆     ┆     ┆     ┆     ┆     ┆     ┆     ┆     ┆     ┆     ┆     ┆     │\n",
       "│ 75% ┆ 2.0 ┆ nul ┆ nul ┆ nul ┆ 6.4 ┆ nul ┆ nul ┆ nul ┆ nul ┆ nul ┆ nul ┆ nul ┆ 899 ┆ 39. ┆ 100 ┆ 0.0 ┆ 0.0 ┆ 0.0 ┆ 837 ┆ 5.0 ┆ nul ┆ nul ┆ 397 ┆ 0.0 ┆ 20. ┆ 7.4 ┆ nul ┆ nul ┆ nul │\n",
       "│     ┆ 882 ┆ l   ┆ l   ┆ l   ┆ 568 ┆ l   ┆ l   ┆ l   ┆ l   ┆ l   ┆ l   ┆ l   ┆ .0  ┆ 95  ┆ .0  ┆     ┆     ┆     ┆ .9  ┆     ┆ l   ┆ l   ┆ .84 ┆     ┆ 05  ┆     ┆ l   ┆ l   ┆ l   │\n",
       "│     ┆ 652 ┆     ┆     ┆     ┆ e9  ┆     ┆     ┆     ┆     ┆     ┆     ┆     ┆     ┆     ┆     ┆     ┆     ┆     ┆     ┆     ┆     ┆     ┆     ┆     ┆     ┆     ┆     ┆     ┆     │\n",
       "│     ┆ e7  ┆     ┆     ┆     ┆     ┆     ┆     ┆     ┆     ┆     ┆     ┆     ┆     ┆     ┆     ┆     ┆     ┆     ┆     ┆     ┆     ┆     ┆     ┆     ┆     ┆     ┆     ┆     ┆     │\n",
       "│ max ┆ 2.1 ┆ The ┆ Vas ┆ Del ┆ 6.5 ┆ 12: ┆ Tim ┆ Zom ┆ <1k ┆ 8 x ┆ Ord ┆ ₹ 0 ┆ 160 ┆ 603 ┆ 402 ┆ 778 ┆ 280 ┆ 554 ┆ 126 ┆ 5.0 ┆ yum ┆ Mer ┆ 323 ┆ 0.0 ┆ 90. ┆ 73. ┆ Mis ┆ Wro ┆ fff │\n",
       "│     ┆ 523 ┆ Chi ┆ ant ┆ hi  ┆ 734 ┆ 59  ┆ ed  ┆ ato ┆ m   ┆ Tip ┆ er: ┆ .00 ┆ 80. ┆ .0  ┆ 0.0 ┆ 7.0 ┆ .1  ┆ .8  ┆ 63. ┆     ┆ mie ┆ cha ┆ 6.9 ┆     ┆ 87  ┆ 8   ┆ sed ┆ ng  ┆ 9f6 │\n",
       "│     ┆ 055 ┆ cke ┆ Kun ┆ NCR ┆ e9  ┆ PM, ┆ out ┆ Del ┆     ┆ sy  ┆ wil ┆     ┆ 0   ┆     ┆     ┆     ┆     ┆     ┆ 0   ┆     ┆ st  ┆ nt  ┆ 8   ┆     ┆     ┆     ┆     ┆ ite ┆ 224 │\n",
       "│     ┆ e7  ┆ n   ┆ j   ┆     ┆     ┆ Oct ┆     ┆ ive ┆     ┆ Tig ┆ l   ┆     ┆     ┆     ┆     ┆     ┆     ┆     ┆     ┆     ┆ piz ┆ dev ┆     ┆     ┆     ┆     ┆     ┆ m(s ┆ 242 │\n",
       "│     ┆     ┆ Jun ┆     ┆     ┆     ┆ obe ┆     ┆ ry  ┆     ┆ er  ┆ pic ┆     ┆     ┆     ┆     ┆     ┆     ┆     ┆     ┆     ┆ za  ┆ ice ┆     ┆     ┆     ┆     ┆     ┆ )   ┆ 97b │\n",
       "│     ┆     ┆ cti ┆     ┆     ┆     ┆ r   ┆     ┆     ┆     ┆ Gin ┆ k   ┆     ┆     ┆     ┆     ┆     ┆     ┆     ┆     ┆     ┆ i   ┆ iss ┆     ┆     ┆     ┆     ┆     ┆ del ┆ 6dc │\n",
       "│     ┆     ┆ on  ┆     ┆     ┆     ┆ 30  ┆     ┆     ┆     ┆ ger ┆ up  ┆     ┆     ┆     ┆     ┆     ┆     ┆     ┆     ┆     ┆ hav ┆ ue  ┆     ┆     ┆     ┆     ┆     ┆ ive ┆ 5a5 │\n",
       "│     ┆     ┆     ┆     ┆     ┆     ┆ 202 ┆     ┆     ┆     ┆ Ale ┆ fro ┆     ┆     ┆     ┆     ┆     ┆     ┆     ┆     ┆     ┆ e   ┆     ┆     ┆     ┆     ┆     ┆     ┆ red ┆ a66 │\n",
       "│     ┆     ┆     ┆     ┆     ┆     ┆ 4   ┆     ┆     ┆     ┆ , 2 ┆ m   ┆     ┆     ┆     ┆     ┆     ┆     ┆     ┆     ┆     ┆ eat ┆     ┆     ┆     ┆     ┆     ┆     ┆     ┆ 725 │\n",
       "│     ┆     ┆     ┆     ┆     ┆     ┆     ┆     ┆     ┆     ┆ …   ┆ the ┆     ┆     ┆     ┆     ┆     ┆     ┆     ┆     ┆     ┆ en  ┆     ┆     ┆     ┆     ┆     ┆     ┆     ┆ 896 │\n",
       "│     ┆     ┆     ┆     ┆     ┆     ┆     ┆     ┆     ┆     ┆     ┆ r…  ┆     ┆     ┆     ┆     ┆     ┆     ┆     ┆     ┆     ┆ in… ┆     ┆     ┆     ┆     ┆     ┆     ┆     ┆ …   │\n",
       "└─────┴─────┴─────┴─────┴─────┴─────┴─────┴─────┴─────┴─────┴─────┴─────┴─────┴─────┴─────┴─────┴─────┴─────┴─────┴─────┴─────┴─────┴─────┴─────┴─────┴─────┴─────┴─────┴─────┴─────┘"
      ]
     },
     "execution_count": 354,
     "metadata": {},
     "output_type": "execute_result"
    }
   ],
   "source": [
    "df.describe()"
   ]
  },
  {
   "cell_type": "markdown",
   "metadata": {},
   "source": [
    "### Goal: Build an ML modeling pipeline to train a regressor to predict the KPT duration (kitchen preparation time)"
   ]
  },
  {
   "cell_type": "markdown",
   "metadata": {},
   "source": [
    "#### 1. Quantify count and percentage of nulls in each column"
   ]
  },
  {
   "cell_type": "code",
   "execution_count": 355,
   "metadata": {},
   "outputs": [
    {
     "name": "stdout",
     "output_type": "stream",
     "text": [
      "29\n"
     ]
    },
    {
     "data": {
      "text/html": [
       "<div><style>\n",
       ".dataframe > thead > tr,\n",
       ".dataframe > tbody > tr {\n",
       "  text-align: right;\n",
       "  white-space: pre-wrap;\n",
       "}\n",
       "</style>\n",
       "<small>shape: (5, 3)</small><table border=\"1\" class=\"dataframe\"><thead><tr><th>column_name</th><th>null_count</th><th>null_percentage</th></tr><tr><td>str</td><td>u32</td><td>f64</td></tr></thead><tbody><tr><td>&quot;Restaurant ID&quot;</td><td>0</td><td>0.0</td></tr><tr><td>&quot;Restaurant name&quot;</td><td>0</td><td>0.0</td></tr><tr><td>&quot;Subzone&quot;</td><td>0</td><td>0.0</td></tr><tr><td>&quot;City&quot;</td><td>0</td><td>0.0</td></tr><tr><td>&quot;Order ID&quot;</td><td>0</td><td>0.0</td></tr></tbody></table></div>"
      ],
      "text/plain": [
       "shape: (5, 3)\n",
       "┌─────────────────┬────────────┬─────────────────┐\n",
       "│ column_name     ┆ null_count ┆ null_percentage │\n",
       "│ ---             ┆ ---        ┆ ---             │\n",
       "│ str             ┆ u32        ┆ f64             │\n",
       "╞═════════════════╪════════════╪═════════════════╡\n",
       "│ Restaurant ID   ┆ 0          ┆ 0.0             │\n",
       "│ Restaurant name ┆ 0          ┆ 0.0             │\n",
       "│ Subzone         ┆ 0          ┆ 0.0             │\n",
       "│ City            ┆ 0          ┆ 0.0             │\n",
       "│ Order ID        ┆ 0          ┆ 0.0             │\n",
       "└─────────────────┴────────────┴─────────────────┘"
      ]
     },
     "execution_count": 355,
     "metadata": {},
     "output_type": "execute_result"
    }
   ],
   "source": [
    "df_length = len(df)\n",
    "\n",
    "nulls_df = df.null_count().unpivot(\n",
    "    variable_name='column_name',\n",
    "    value_name='null_count'\n",
    ").with_columns(\n",
    "    (pl.col('null_count') / df_length).round(4).alias('null_percentage')\n",
    ")\n",
    "\n",
    "print(len(nulls_df))\n",
    "nulls_df.head()"
   ]
  },
  {
   "cell_type": "code",
   "execution_count": 356,
   "metadata": {},
   "outputs": [
    {
     "data": {
      "text/html": [
       "<div><style>\n",
       ".dataframe > thead > tr,\n",
       ".dataframe > tbody > tr {\n",
       "  text-align: right;\n",
       "  white-space: pre-wrap;\n",
       "}\n",
       "</style>\n",
       "<small>shape: (8, 3)</small><table border=\"1\" class=\"dataframe\"><thead><tr><th>column_name</th><th>null_count</th><th>null_percentage</th></tr><tr><td>str</td><td>u32</td><td>f64</td></tr></thead><tbody><tr><td>&quot;Instructions&quot;</td><td>20601</td><td>0.9662</td></tr><tr><td>&quot;Discount construct&quot;</td><td>5498</td><td>0.2579</td></tr><tr><td>&quot;Rating&quot;</td><td>18830</td><td>0.8832</td></tr><tr><td>&quot;Review&quot;</td><td>21025</td><td>0.9861</td></tr><tr><td>&quot;Cancellation / Rejection reaso…</td><td>21135</td><td>0.9913</td></tr><tr><td>&quot;Restaurant compensation (Cance…</td><td>21188</td><td>0.9938</td></tr><tr><td>&quot;Restaurant penalty (Rejection)&quot;</td><td>21318</td><td>0.9999</td></tr><tr><td>&quot;Customer complaint tag&quot;</td><td>20852</td><td>0.978</td></tr></tbody></table></div>"
      ],
      "text/plain": [
       "shape: (8, 3)\n",
       "┌─────────────────────────────────┬────────────┬─────────────────┐\n",
       "│ column_name                     ┆ null_count ┆ null_percentage │\n",
       "│ ---                             ┆ ---        ┆ ---             │\n",
       "│ str                             ┆ u32        ┆ f64             │\n",
       "╞═════════════════════════════════╪════════════╪═════════════════╡\n",
       "│ Instructions                    ┆ 20601      ┆ 0.9662          │\n",
       "│ Discount construct              ┆ 5498       ┆ 0.2579          │\n",
       "│ Rating                          ┆ 18830      ┆ 0.8832          │\n",
       "│ Review                          ┆ 21025      ┆ 0.9861          │\n",
       "│ Cancellation / Rejection reaso… ┆ 21135      ┆ 0.9913          │\n",
       "│ Restaurant compensation (Cance… ┆ 21188      ┆ 0.9938          │\n",
       "│ Restaurant penalty (Rejection)  ┆ 21318      ┆ 0.9999          │\n",
       "│ Customer complaint tag          ┆ 20852      ┆ 0.978           │\n",
       "└─────────────────────────────────┴────────────┴─────────────────┘"
      ]
     },
     "execution_count": 356,
     "metadata": {},
     "output_type": "execute_result"
    }
   ],
   "source": [
    "null_metric = 0.1 # To discuss with Steven what is the most optimal percentage metric to assess nulls\n",
    "\n",
    "highly_null_fields = set(nulls_df.filter(pl.col('null_percentage') > 0.5)['column_name'])\n",
    "\n",
    "nulls_df.filter(\n",
    "    pl.col('null_percentage') > null_metric\n",
    ")"
   ]
  },
  {
   "cell_type": "code",
   "execution_count": 357,
   "metadata": {},
   "outputs": [
    {
     "data": {
      "text/html": [
       "<div><style>\n",
       ".dataframe > thead > tr,\n",
       ".dataframe > tbody > tr {\n",
       "  text-align: right;\n",
       "  white-space: pre-wrap;\n",
       "}\n",
       "</style>\n",
       "<small>shape: (3, 3)</small><table border=\"1\" class=\"dataframe\"><thead><tr><th>column_name</th><th>null_count</th><th>null_percentage</th></tr><tr><td>str</td><td>u32</td><td>f64</td></tr></thead><tbody><tr><td>&quot;Restaurant ID&quot;</td><td>0</td><td>0.0</td></tr><tr><td>&quot;Order ID&quot;</td><td>0</td><td>0.0</td></tr><tr><td>&quot;Customer ID&quot;</td><td>0</td><td>0.0</td></tr></tbody></table></div>"
      ],
      "text/plain": [
       "shape: (3, 3)\n",
       "┌───────────────┬────────────┬─────────────────┐\n",
       "│ column_name   ┆ null_count ┆ null_percentage │\n",
       "│ ---           ┆ ---        ┆ ---             │\n",
       "│ str           ┆ u32        ┆ f64             │\n",
       "╞═══════════════╪════════════╪═════════════════╡\n",
       "│ Restaurant ID ┆ 0          ┆ 0.0             │\n",
       "│ Order ID      ┆ 0          ┆ 0.0             │\n",
       "│ Customer ID   ┆ 0          ┆ 0.0             │\n",
       "└───────────────┴────────────┴─────────────────┘"
      ]
     },
     "execution_count": 357,
     "metadata": {},
     "output_type": "execute_result"
    }
   ],
   "source": [
    "# See if ID columns have any null values\n",
    "nulls_df.filter(\n",
    "    pl.col('column_name').str.contains('ID')\n",
    ")"
   ]
  },
  {
   "cell_type": "code",
   "execution_count": 358,
   "metadata": {},
   "outputs": [],
   "source": [
    "# Create an assert statement on ID columns not having any nulls (potential for future use if new source files come in)\n",
    "assert nulls_df.filter(pl.col('column_name').str.contains('ID'))['null_count'].sum() == 0"
   ]
  },
  {
   "cell_type": "code",
   "execution_count": 369,
   "metadata": {},
   "outputs": [
    {
     "data": {
      "text/plain": [
       "{'Cancellation / Rejection reason',\n",
       " 'Customer complaint tag',\n",
       " 'Discount construct',\n",
       " 'Instructions',\n",
       " 'KPT duration (minutes)',\n",
       " 'Rating',\n",
       " 'Restaurant compensation (Cancellation)',\n",
       " 'Restaurant penalty (Rejection)',\n",
       " 'Review',\n",
       " 'Rider wait time (minutes)'}"
      ]
     },
     "execution_count": 369,
     "metadata": {},
     "output_type": "execute_result"
    }
   ],
   "source": [
    "null_fields"
   ]
  },
  {
   "cell_type": "code",
   "execution_count": 371,
   "metadata": {},
   "outputs": [
    {
     "data": {
      "text/html": [
       "<div><style>\n",
       ".dataframe > thead > tr,\n",
       ".dataframe > tbody > tr {\n",
       "  text-align: right;\n",
       "  white-space: pre-wrap;\n",
       "}\n",
       "</style>\n",
       "<small>shape: (10, 3)</small><table border=\"1\" class=\"dataframe\"><thead><tr><th>column_name</th><th>null_count</th><th>null_percentage</th></tr><tr><td>str</td><td>u32</td><td>f64</td></tr></thead><tbody><tr><td>&quot;Instructions&quot;</td><td>20601</td><td>0.9662</td></tr><tr><td>&quot;Discount construct&quot;</td><td>5498</td><td>0.2579</td></tr><tr><td>&quot;Rating&quot;</td><td>18830</td><td>0.8832</td></tr><tr><td>&quot;Review&quot;</td><td>21025</td><td>0.9861</td></tr><tr><td>&quot;Cancellation / Rejection reaso…</td><td>21135</td><td>0.9913</td></tr><tr><td>&quot;Restaurant compensation (Cance…</td><td>21188</td><td>0.9938</td></tr><tr><td>&quot;Restaurant penalty (Rejection)&quot;</td><td>21318</td><td>0.9999</td></tr><tr><td>&quot;KPT duration (minutes)&quot;</td><td>295</td><td>0.0138</td></tr><tr><td>&quot;Rider wait time (minutes)&quot;</td><td>168</td><td>0.0079</td></tr><tr><td>&quot;Customer complaint tag&quot;</td><td>20852</td><td>0.978</td></tr></tbody></table></div>"
      ],
      "text/plain": [
       "shape: (10, 3)\n",
       "┌─────────────────────────────────┬────────────┬─────────────────┐\n",
       "│ column_name                     ┆ null_count ┆ null_percentage │\n",
       "│ ---                             ┆ ---        ┆ ---             │\n",
       "│ str                             ┆ u32        ┆ f64             │\n",
       "╞═════════════════════════════════╪════════════╪═════════════════╡\n",
       "│ Instructions                    ┆ 20601      ┆ 0.9662          │\n",
       "│ Discount construct              ┆ 5498       ┆ 0.2579          │\n",
       "│ Rating                          ┆ 18830      ┆ 0.8832          │\n",
       "│ Review                          ┆ 21025      ┆ 0.9861          │\n",
       "│ Cancellation / Rejection reaso… ┆ 21135      ┆ 0.9913          │\n",
       "│ Restaurant compensation (Cance… ┆ 21188      ┆ 0.9938          │\n",
       "│ Restaurant penalty (Rejection)  ┆ 21318      ┆ 0.9999          │\n",
       "│ KPT duration (minutes)          ┆ 295        ┆ 0.0138          │\n",
       "│ Rider wait time (minutes)       ┆ 168        ┆ 0.0079          │\n",
       "│ Customer complaint tag          ┆ 20852      ┆ 0.978           │\n",
       "└─────────────────────────────────┴────────────┴─────────────────┘"
      ]
     },
     "execution_count": 371,
     "metadata": {},
     "output_type": "execute_result"
    }
   ],
   "source": [
    "null_fields = set(nulls_df.filter(pl.col('null_count') > 0)['column_name'])\n",
    "\n",
    "nulls_df.filter(\n",
    "    pl.col('null_count') > 0\n",
    ")\n",
    "\n",
    "# Notes: \n",
    "# - KPT duration (target variable) contains null in 1.4% of cases\n",
    "# - Ride wait timer (possible classifier?) contains nulls in 0.8% of cases\n",
    "\n",
    "# - All other fields ('Instructions', 'Discount construct', 'Rating', 'Review', 'Cancellation / Rejection reason', \n",
    "#  'Restaurant compensation (Cancellation)', 'Restaurant penalty (Rejection)', 'Cancellation / Rejection reason') \n",
    "#   all expected to be null due to the nature of the fields\n",
    "\n",
    "# - 'Discount construct' is not null in 75% of cases -> does that mean 75% of orders come with a discount attached? is this the way the raw data is expected to be? "
   ]
  },
  {
   "cell_type": "code",
   "execution_count": 360,
   "metadata": {},
   "outputs": [
    {
     "name": "stdout",
     "output_type": "stream",
     "text": [
      "295\n"
     ]
    },
    {
     "data": {
      "text/html": [
       "<div><style>\n",
       ".dataframe > thead > tr,\n",
       ".dataframe > tbody > tr {\n",
       "  text-align: right;\n",
       "  white-space: pre-wrap;\n",
       "}\n",
       "</style>\n",
       "<small>shape: (5, 29)</small><table border=\"1\" class=\"dataframe\"><thead><tr><th>Restaurant ID</th><th>Restaurant name</th><th>Subzone</th><th>City</th><th>Order ID</th><th>Order Placed At</th><th>Order Status</th><th>Delivery</th><th>Distance</th><th>Items in order</th><th>Instructions</th><th>Discount construct</th><th>Bill subtotal</th><th>Packaging charges</th><th>Restaurant discount (Promo)</th><th>Restaurant discount (Flat offs, Freebies &amp; others)</th><th>Gold discount</th><th>Brand pack discount</th><th>Total</th><th>Rating</th><th>Review</th><th>Cancellation / Rejection reason</th><th>Restaurant compensation (Cancellation)</th><th>Restaurant penalty (Rejection)</th><th>KPT duration (minutes)</th><th>Rider wait time (minutes)</th><th>Order Ready Marked</th><th>Customer complaint tag</th><th>Customer ID</th></tr><tr><td>i64</td><td>str</td><td>str</td><td>str</td><td>i64</td><td>str</td><td>str</td><td>str</td><td>str</td><td>str</td><td>str</td><td>str</td><td>f64</td><td>f64</td><td>f64</td><td>f64</td><td>f64</td><td>f64</td><td>f64</td><td>f64</td><td>str</td><td>str</td><td>f64</td><td>f64</td><td>f64</td><td>f64</td><td>str</td><td>str</td><td>str</td></tr></thead><tbody><tr><td>20320607</td><td>&quot;Swaad&quot;</td><td>&quot;Sector 4&quot;</td><td>&quot;Delhi NCR&quot;</td><td>6160420881</td><td>&quot;08:35 PM, September 07 2024&quot;</td><td>&quot;Delivered&quot;</td><td>&quot;Zomato Delivery&quot;</td><td>&quot;2km&quot;</td><td>&quot;1 x Bone in Jamaican Grilled C…</td><td>null</td><td>&quot;40% off upto Rs.80&quot;</td><td>310.0</td><td>11.5</td><td>80.0</td><td>0.0</td><td>0.0</td><td>0.0</td><td>241.5</td><td>null</td><td>null</td><td>null</td><td>null</td><td>null</td><td>null</td><td>3.2</td><td>&quot;Missed&quot;</td><td>null</td><td>&quot;31e6e136219f784a75bb09e36e5ed5…</td></tr><tr><td>20320607</td><td>&quot;Swaad&quot;</td><td>&quot;Sector 4&quot;</td><td>&quot;Delhi NCR&quot;</td><td>6148418552</td><td>&quot;11:27 PM, September 04 2024&quot;</td><td>&quot;Delivered&quot;</td><td>&quot;Zomato Delivery&quot;</td><td>&quot;1km&quot;</td><td>&quot;1 x Bone in Jamaican Grilled C…</td><td>null</td><td>null</td><td>745.0</td><td>21.75</td><td>0.0</td><td>310.0</td><td>0.0</td><td>0.0</td><td>456.75</td><td>null</td><td>null</td><td>null</td><td>null</td><td>null</td><td>null</td><td>5.6</td><td>&quot;Missed&quot;</td><td>null</td><td>&quot;096a9f7a0c5cf71b57729f2de20cf0…</td></tr><tr><td>20320607</td><td>&quot;Swaad&quot;</td><td>&quot;Sector 4&quot;</td><td>&quot;Delhi NCR&quot;</td><td>6137221693</td><td>&quot;07:31 PM, September 01 2024&quot;</td><td>&quot;Delivered&quot;</td><td>&quot;Zomato Delivery&quot;</td><td>&quot;6km&quot;</td><td>&quot;1 x Bone in Smoky Bbq Grilled …</td><td>null</td><td>&quot;Flat Rs.175 off&quot;</td><td>1790.0</td><td>80.75</td><td>175.0</td><td>0.0</td><td>0.0</td><td>0.0</td><td>1695.75</td><td>null</td><td>null</td><td>null</td><td>null</td><td>null</td><td>null</td><td>16.6</td><td>&quot;Missed&quot;</td><td>null</td><td>&quot;e33afa09633ab31d30c14d93c78529…</td></tr><tr><td>20554001</td><td>&quot;Swaad&quot;</td><td>&quot;Greater Kailash 2 (GK2)&quot;</td><td>&quot;Delhi NCR&quot;</td><td>6165976485</td><td>&quot;12:43 PM, September 10 2024&quot;</td><td>&quot;Delivered&quot;</td><td>&quot;Zomato Delivery&quot;</td><td>&quot;2km&quot;</td><td>&quot;1 x Bone in Smoky Bbq Grilled …</td><td>null</td><td>&quot;50% off upto Rs.100&quot;</td><td>420.0</td><td>16.0</td><td>100.0</td><td>0.0</td><td>0.0</td><td>0.0</td><td>336.0</td><td>null</td><td>null</td><td>null</td><td>null</td><td>null</td><td>null</td><td>5.9</td><td>&quot;Missed&quot;</td><td>null</td><td>&quot;22ef48e9b486ef7ce92cb80ad133cf…</td></tr><tr><td>20554001</td><td>&quot;Swaad&quot;</td><td>&quot;Greater Kailash 2 (GK2)&quot;</td><td>&quot;Delhi NCR&quot;</td><td>6151212614</td><td>&quot;01:26 PM, September 04 2024&quot;</td><td>&quot;Delivered&quot;</td><td>&quot;Zomato Delivery&quot;</td><td>&quot;5km&quot;</td><td>&quot;1 x Bone in Jamaican Grilled C…</td><td>null</td><td>null</td><td>2090.0</td><td>52.25</td><td>0.0</td><td>1045.0</td><td>0.0</td><td>0.0</td><td>1097.25</td><td>5.0</td><td>null</td><td>null</td><td>null</td><td>null</td><td>null</td><td>9.5</td><td>&quot;Missed&quot;</td><td>null</td><td>&quot;feaeeaa1d9d90bdbdd0ac0261a39cb…</td></tr></tbody></table></div>"
      ],
      "text/plain": [
       "shape: (5, 29)\n",
       "┌─────┬─────┬─────┬─────┬─────┬─────┬─────┬─────┬─────┬─────┬─────┬─────┬─────┬─────┬─────┬─────┬─────┬─────┬─────┬─────┬─────┬─────┬─────┬─────┬─────┬─────┬─────┬─────┬─────┐\n",
       "│ Res ┆ Res ┆ Sub ┆ Cit ┆ Ord ┆ Ord ┆ Ord ┆ Del ┆ Dis ┆ Ite ┆ Ins ┆ Dis ┆ Bil ┆ Pac ┆ Res ┆ Res ┆ Gol ┆ Bra ┆ Tot ┆ Rat ┆ Rev ┆ Can ┆ Res ┆ Res ┆ KPT ┆ Rid ┆ Ord ┆ Cus ┆ Cus │\n",
       "│ tau ┆ tau ┆ zon ┆ y   ┆ er  ┆ er  ┆ er  ┆ ive ┆ tan ┆ ms  ┆ tru ┆ cou ┆ l   ┆ kag ┆ tau ┆ tau ┆ d   ┆ nd  ┆ al  ┆ ing ┆ iew ┆ cel ┆ tau ┆ tau ┆ dur ┆ er  ┆ er  ┆ tom ┆ tom │\n",
       "│ ran ┆ ran ┆ e   ┆ --- ┆ ID  ┆ Pla ┆ Sta ┆ ry  ┆ ce  ┆ in  ┆ cti ┆ nt  ┆ sub ┆ ing ┆ ran ┆ ran ┆ dis ┆ pac ┆ --- ┆ --- ┆ --- ┆ lat ┆ ran ┆ ran ┆ ati ┆ wai ┆ Rea ┆ er  ┆ er  │\n",
       "│ t   ┆ t   ┆ --- ┆ str ┆ --- ┆ ced ┆ tus ┆ --- ┆ --- ┆ ord ┆ ons ┆ con ┆ tot ┆ cha ┆ t   ┆ t   ┆ cou ┆ k   ┆ f64 ┆ f64 ┆ str ┆ ion ┆ t   ┆ t   ┆ on  ┆ t   ┆ dy  ┆ com ┆ ID  │\n",
       "│ ID  ┆ nam ┆ str ┆     ┆ i64 ┆ At  ┆ --- ┆ str ┆ str ┆ er  ┆ --- ┆ str ┆ al  ┆ rge ┆ dis ┆ dis ┆ nt  ┆ dis ┆     ┆     ┆     ┆ /   ┆ com ┆ pen ┆ (mi ┆ tim ┆ Mar ┆ pla ┆ --- │\n",
       "│ --- ┆ e   ┆     ┆     ┆     ┆ --- ┆ str ┆     ┆     ┆ --- ┆ str ┆ uct ┆ --- ┆ s   ┆ cou ┆ cou ┆ --- ┆ cou ┆     ┆     ┆     ┆ Rej ┆ pen ┆ alt ┆ nut ┆ e   ┆ ked ┆ int ┆ str │\n",
       "│ i64 ┆ --- ┆     ┆     ┆     ┆ str ┆     ┆     ┆     ┆ str ┆     ┆ --- ┆ f64 ┆ --- ┆ nt  ┆ nt  ┆ f64 ┆ nt  ┆     ┆     ┆     ┆ ect ┆ sat ┆ y   ┆ es) ┆ (mi ┆ --- ┆ tag ┆     │\n",
       "│     ┆ str ┆     ┆     ┆     ┆     ┆     ┆     ┆     ┆     ┆     ┆ str ┆     ┆ f64 ┆ (Pr ┆ (Fl ┆     ┆ --- ┆     ┆     ┆     ┆ ion ┆ ion ┆ (Re ┆ --- ┆ nut ┆ str ┆ --- ┆     │\n",
       "│     ┆     ┆     ┆     ┆     ┆     ┆     ┆     ┆     ┆     ┆     ┆     ┆     ┆     ┆ omo ┆ at  ┆     ┆ f64 ┆     ┆     ┆     ┆ rea ┆ (Ca ┆ jec ┆ f64 ┆ es) ┆     ┆ str ┆     │\n",
       "│     ┆     ┆     ┆     ┆     ┆     ┆     ┆     ┆     ┆     ┆     ┆     ┆     ┆     ┆ )   ┆ off ┆     ┆     ┆     ┆     ┆     ┆ so… ┆ nce ┆ tio ┆     ┆ --- ┆     ┆     ┆     │\n",
       "│     ┆     ┆     ┆     ┆     ┆     ┆     ┆     ┆     ┆     ┆     ┆     ┆     ┆     ┆ --- ┆ s…  ┆     ┆     ┆     ┆     ┆     ┆ --- ┆ …   ┆ n)  ┆     ┆ f64 ┆     ┆     ┆     │\n",
       "│     ┆     ┆     ┆     ┆     ┆     ┆     ┆     ┆     ┆     ┆     ┆     ┆     ┆     ┆ f64 ┆ --- ┆     ┆     ┆     ┆     ┆     ┆ str ┆ --- ┆ --- ┆     ┆     ┆     ┆     ┆     │\n",
       "│     ┆     ┆     ┆     ┆     ┆     ┆     ┆     ┆     ┆     ┆     ┆     ┆     ┆     ┆     ┆ f64 ┆     ┆     ┆     ┆     ┆     ┆     ┆ f64 ┆ f64 ┆     ┆     ┆     ┆     ┆     │\n",
       "╞═════╪═════╪═════╪═════╪═════╪═════╪═════╪═════╪═════╪═════╪═════╪═════╪═════╪═════╪═════╪═════╪═════╪═════╪═════╪═════╪═════╪═════╪═════╪═════╪═════╪═════╪═════╪═════╪═════╡\n",
       "│ 203 ┆ Swa ┆ Sec ┆ Del ┆ 616 ┆ 08: ┆ Del ┆ Zom ┆ 2km ┆ 1 x ┆ nul ┆ 40% ┆ 310 ┆ 11. ┆ 80. ┆ 0.0 ┆ 0.0 ┆ 0.0 ┆ 241 ┆ nul ┆ nul ┆ nul ┆ nul ┆ nul ┆ nul ┆ 3.2 ┆ Mis ┆ nul ┆ 31e │\n",
       "│ 206 ┆ ad  ┆ tor ┆ hi  ┆ 042 ┆ 35  ┆ ive ┆ ato ┆     ┆ Bon ┆ l   ┆ off ┆ .0  ┆ 5   ┆ 0   ┆     ┆     ┆     ┆ .5  ┆ l   ┆ l   ┆ l   ┆ l   ┆ l   ┆ l   ┆     ┆ sed ┆ l   ┆ 6e1 │\n",
       "│ 07  ┆     ┆ 4   ┆ NCR ┆ 088 ┆ PM, ┆ red ┆ Del ┆     ┆ e   ┆     ┆ upt ┆     ┆     ┆     ┆     ┆     ┆     ┆     ┆     ┆     ┆     ┆     ┆     ┆     ┆     ┆     ┆     ┆ 362 │\n",
       "│     ┆     ┆     ┆     ┆ 1   ┆ Sep ┆     ┆ ive ┆     ┆ in  ┆     ┆ o   ┆     ┆     ┆     ┆     ┆     ┆     ┆     ┆     ┆     ┆     ┆     ┆     ┆     ┆     ┆     ┆     ┆ 19f │\n",
       "│     ┆     ┆     ┆     ┆     ┆ tem ┆     ┆ ry  ┆     ┆ Jam ┆     ┆ Rs. ┆     ┆     ┆     ┆     ┆     ┆     ┆     ┆     ┆     ┆     ┆     ┆     ┆     ┆     ┆     ┆     ┆ 784 │\n",
       "│     ┆     ┆     ┆     ┆     ┆ ber ┆     ┆     ┆     ┆ aic ┆     ┆ 80  ┆     ┆     ┆     ┆     ┆     ┆     ┆     ┆     ┆     ┆     ┆     ┆     ┆     ┆     ┆     ┆     ┆ a75 │\n",
       "│     ┆     ┆     ┆     ┆     ┆ 07  ┆     ┆     ┆     ┆ an  ┆     ┆     ┆     ┆     ┆     ┆     ┆     ┆     ┆     ┆     ┆     ┆     ┆     ┆     ┆     ┆     ┆     ┆     ┆ bb0 │\n",
       "│     ┆     ┆     ┆     ┆     ┆ 202 ┆     ┆     ┆     ┆ Gri ┆     ┆     ┆     ┆     ┆     ┆     ┆     ┆     ┆     ┆     ┆     ┆     ┆     ┆     ┆     ┆     ┆     ┆     ┆ 9e3 │\n",
       "│     ┆     ┆     ┆     ┆     ┆ 4   ┆     ┆     ┆     ┆ lle ┆     ┆     ┆     ┆     ┆     ┆     ┆     ┆     ┆     ┆     ┆     ┆     ┆     ┆     ┆     ┆     ┆     ┆     ┆ 6e5 │\n",
       "│     ┆     ┆     ┆     ┆     ┆     ┆     ┆     ┆     ┆ d   ┆     ┆     ┆     ┆     ┆     ┆     ┆     ┆     ┆     ┆     ┆     ┆     ┆     ┆     ┆     ┆     ┆     ┆     ┆ ed5 │\n",
       "│     ┆     ┆     ┆     ┆     ┆     ┆     ┆     ┆     ┆ C…  ┆     ┆     ┆     ┆     ┆     ┆     ┆     ┆     ┆     ┆     ┆     ┆     ┆     ┆     ┆     ┆     ┆     ┆     ┆ …   │\n",
       "│ 203 ┆ Swa ┆ Sec ┆ Del ┆ 614 ┆ 11: ┆ Del ┆ Zom ┆ 1km ┆ 1 x ┆ nul ┆ nul ┆ 745 ┆ 21. ┆ 0.0 ┆ 310 ┆ 0.0 ┆ 0.0 ┆ 456 ┆ nul ┆ nul ┆ nul ┆ nul ┆ nul ┆ nul ┆ 5.6 ┆ Mis ┆ nul ┆ 096 │\n",
       "│ 206 ┆ ad  ┆ tor ┆ hi  ┆ 841 ┆ 27  ┆ ive ┆ ato ┆     ┆ Bon ┆ l   ┆ l   ┆ .0  ┆ 75  ┆     ┆ .0  ┆     ┆     ┆ .75 ┆ l   ┆ l   ┆ l   ┆ l   ┆ l   ┆ l   ┆     ┆ sed ┆ l   ┆ a9f │\n",
       "│ 07  ┆     ┆ 4   ┆ NCR ┆ 855 ┆ PM, ┆ red ┆ Del ┆     ┆ e   ┆     ┆     ┆     ┆     ┆     ┆     ┆     ┆     ┆     ┆     ┆     ┆     ┆     ┆     ┆     ┆     ┆     ┆     ┆ 7a0 │\n",
       "│     ┆     ┆     ┆     ┆ 2   ┆ Sep ┆     ┆ ive ┆     ┆ in  ┆     ┆     ┆     ┆     ┆     ┆     ┆     ┆     ┆     ┆     ┆     ┆     ┆     ┆     ┆     ┆     ┆     ┆     ┆ c5c │\n",
       "│     ┆     ┆     ┆     ┆     ┆ tem ┆     ┆ ry  ┆     ┆ Jam ┆     ┆     ┆     ┆     ┆     ┆     ┆     ┆     ┆     ┆     ┆     ┆     ┆     ┆     ┆     ┆     ┆     ┆     ┆ f71 │\n",
       "│     ┆     ┆     ┆     ┆     ┆ ber ┆     ┆     ┆     ┆ aic ┆     ┆     ┆     ┆     ┆     ┆     ┆     ┆     ┆     ┆     ┆     ┆     ┆     ┆     ┆     ┆     ┆     ┆     ┆ b57 │\n",
       "│     ┆     ┆     ┆     ┆     ┆ 04  ┆     ┆     ┆     ┆ an  ┆     ┆     ┆     ┆     ┆     ┆     ┆     ┆     ┆     ┆     ┆     ┆     ┆     ┆     ┆     ┆     ┆     ┆     ┆ 729 │\n",
       "│     ┆     ┆     ┆     ┆     ┆ 202 ┆     ┆     ┆     ┆ Gri ┆     ┆     ┆     ┆     ┆     ┆     ┆     ┆     ┆     ┆     ┆     ┆     ┆     ┆     ┆     ┆     ┆     ┆     ┆ f2d │\n",
       "│     ┆     ┆     ┆     ┆     ┆ 4   ┆     ┆     ┆     ┆ lle ┆     ┆     ┆     ┆     ┆     ┆     ┆     ┆     ┆     ┆     ┆     ┆     ┆     ┆     ┆     ┆     ┆     ┆     ┆ e20 │\n",
       "│     ┆     ┆     ┆     ┆     ┆     ┆     ┆     ┆     ┆ d   ┆     ┆     ┆     ┆     ┆     ┆     ┆     ┆     ┆     ┆     ┆     ┆     ┆     ┆     ┆     ┆     ┆     ┆     ┆ cf0 │\n",
       "│     ┆     ┆     ┆     ┆     ┆     ┆     ┆     ┆     ┆ C…  ┆     ┆     ┆     ┆     ┆     ┆     ┆     ┆     ┆     ┆     ┆     ┆     ┆     ┆     ┆     ┆     ┆     ┆     ┆ …   │\n",
       "│ 203 ┆ Swa ┆ Sec ┆ Del ┆ 613 ┆ 07: ┆ Del ┆ Zom ┆ 6km ┆ 1 x ┆ nul ┆ Fla ┆ 179 ┆ 80. ┆ 175 ┆ 0.0 ┆ 0.0 ┆ 0.0 ┆ 169 ┆ nul ┆ nul ┆ nul ┆ nul ┆ nul ┆ nul ┆ 16. ┆ Mis ┆ nul ┆ e33 │\n",
       "│ 206 ┆ ad  ┆ tor ┆ hi  ┆ 722 ┆ 31  ┆ ive ┆ ato ┆     ┆ Bon ┆ l   ┆ t   ┆ 0.0 ┆ 75  ┆ .0  ┆     ┆     ┆     ┆ 5.7 ┆ l   ┆ l   ┆ l   ┆ l   ┆ l   ┆ l   ┆ 6   ┆ sed ┆ l   ┆ afa │\n",
       "│ 07  ┆     ┆ 4   ┆ NCR ┆ 169 ┆ PM, ┆ red ┆ Del ┆     ┆ e   ┆     ┆ Rs. ┆     ┆     ┆     ┆     ┆     ┆     ┆ 5   ┆     ┆     ┆     ┆     ┆     ┆     ┆     ┆     ┆     ┆ 096 │\n",
       "│     ┆     ┆     ┆     ┆ 3   ┆ Sep ┆     ┆ ive ┆     ┆ in  ┆     ┆ 175 ┆     ┆     ┆     ┆     ┆     ┆     ┆     ┆     ┆     ┆     ┆     ┆     ┆     ┆     ┆     ┆     ┆ 33a │\n",
       "│     ┆     ┆     ┆     ┆     ┆ tem ┆     ┆ ry  ┆     ┆ Smo ┆     ┆ off ┆     ┆     ┆     ┆     ┆     ┆     ┆     ┆     ┆     ┆     ┆     ┆     ┆     ┆     ┆     ┆     ┆ b31 │\n",
       "│     ┆     ┆     ┆     ┆     ┆ ber ┆     ┆     ┆     ┆ ky  ┆     ┆     ┆     ┆     ┆     ┆     ┆     ┆     ┆     ┆     ┆     ┆     ┆     ┆     ┆     ┆     ┆     ┆     ┆ d30 │\n",
       "│     ┆     ┆     ┆     ┆     ┆ 01  ┆     ┆     ┆     ┆ Bbq ┆     ┆     ┆     ┆     ┆     ┆     ┆     ┆     ┆     ┆     ┆     ┆     ┆     ┆     ┆     ┆     ┆     ┆     ┆ c14 │\n",
       "│     ┆     ┆     ┆     ┆     ┆ 202 ┆     ┆     ┆     ┆ Gri ┆     ┆     ┆     ┆     ┆     ┆     ┆     ┆     ┆     ┆     ┆     ┆     ┆     ┆     ┆     ┆     ┆     ┆     ┆ d93 │\n",
       "│     ┆     ┆     ┆     ┆     ┆ 4   ┆     ┆     ┆     ┆ lle ┆     ┆     ┆     ┆     ┆     ┆     ┆     ┆     ┆     ┆     ┆     ┆     ┆     ┆     ┆     ┆     ┆     ┆     ┆ c78 │\n",
       "│     ┆     ┆     ┆     ┆     ┆     ┆     ┆     ┆     ┆ d … ┆     ┆     ┆     ┆     ┆     ┆     ┆     ┆     ┆     ┆     ┆     ┆     ┆     ┆     ┆     ┆     ┆     ┆     ┆ 529 │\n",
       "│     ┆     ┆     ┆     ┆     ┆     ┆     ┆     ┆     ┆     ┆     ┆     ┆     ┆     ┆     ┆     ┆     ┆     ┆     ┆     ┆     ┆     ┆     ┆     ┆     ┆     ┆     ┆     ┆ …   │\n",
       "│ 205 ┆ Swa ┆ Gre ┆ Del ┆ 616 ┆ 12: ┆ Del ┆ Zom ┆ 2km ┆ 1 x ┆ nul ┆ 50% ┆ 420 ┆ 16. ┆ 100 ┆ 0.0 ┆ 0.0 ┆ 0.0 ┆ 336 ┆ nul ┆ nul ┆ nul ┆ nul ┆ nul ┆ nul ┆ 5.9 ┆ Mis ┆ nul ┆ 22e │\n",
       "│ 540 ┆ ad  ┆ ate ┆ hi  ┆ 597 ┆ 43  ┆ ive ┆ ato ┆     ┆ Bon ┆ l   ┆ off ┆ .0  ┆ 0   ┆ .0  ┆     ┆     ┆     ┆ .0  ┆ l   ┆ l   ┆ l   ┆ l   ┆ l   ┆ l   ┆     ┆ sed ┆ l   ┆ f48 │\n",
       "│ 01  ┆     ┆ r   ┆ NCR ┆ 648 ┆ PM, ┆ red ┆ Del ┆     ┆ e   ┆     ┆ upt ┆     ┆     ┆     ┆     ┆     ┆     ┆     ┆     ┆     ┆     ┆     ┆     ┆     ┆     ┆     ┆     ┆ e9b │\n",
       "│     ┆     ┆ Kai ┆     ┆ 5   ┆ Sep ┆     ┆ ive ┆     ┆ in  ┆     ┆ o   ┆     ┆     ┆     ┆     ┆     ┆     ┆     ┆     ┆     ┆     ┆     ┆     ┆     ┆     ┆     ┆     ┆ 486 │\n",
       "│     ┆     ┆ las ┆     ┆     ┆ tem ┆     ┆ ry  ┆     ┆ Smo ┆     ┆ Rs. ┆     ┆     ┆     ┆     ┆     ┆     ┆     ┆     ┆     ┆     ┆     ┆     ┆     ┆     ┆     ┆     ┆ ef7 │\n",
       "│     ┆     ┆ h 2 ┆     ┆     ┆ ber ┆     ┆     ┆     ┆ ky  ┆     ┆ 100 ┆     ┆     ┆     ┆     ┆     ┆     ┆     ┆     ┆     ┆     ┆     ┆     ┆     ┆     ┆     ┆     ┆ ce9 │\n",
       "│     ┆     ┆ (GK ┆     ┆     ┆ 10  ┆     ┆     ┆     ┆ Bbq ┆     ┆     ┆     ┆     ┆     ┆     ┆     ┆     ┆     ┆     ┆     ┆     ┆     ┆     ┆     ┆     ┆     ┆     ┆ 2cb │\n",
       "│     ┆     ┆ 2)  ┆     ┆     ┆ 202 ┆     ┆     ┆     ┆ Gri ┆     ┆     ┆     ┆     ┆     ┆     ┆     ┆     ┆     ┆     ┆     ┆     ┆     ┆     ┆     ┆     ┆     ┆     ┆ 80a │\n",
       "│     ┆     ┆     ┆     ┆     ┆ 4   ┆     ┆     ┆     ┆ lle ┆     ┆     ┆     ┆     ┆     ┆     ┆     ┆     ┆     ┆     ┆     ┆     ┆     ┆     ┆     ┆     ┆     ┆     ┆ d13 │\n",
       "│     ┆     ┆     ┆     ┆     ┆     ┆     ┆     ┆     ┆ d … ┆     ┆     ┆     ┆     ┆     ┆     ┆     ┆     ┆     ┆     ┆     ┆     ┆     ┆     ┆     ┆     ┆     ┆     ┆ 3cf │\n",
       "│     ┆     ┆     ┆     ┆     ┆     ┆     ┆     ┆     ┆     ┆     ┆     ┆     ┆     ┆     ┆     ┆     ┆     ┆     ┆     ┆     ┆     ┆     ┆     ┆     ┆     ┆     ┆     ┆ …   │\n",
       "│ 205 ┆ Swa ┆ Gre ┆ Del ┆ 615 ┆ 01: ┆ Del ┆ Zom ┆ 5km ┆ 1 x ┆ nul ┆ nul ┆ 209 ┆ 52. ┆ 0.0 ┆ 104 ┆ 0.0 ┆ 0.0 ┆ 109 ┆ 5.0 ┆ nul ┆ nul ┆ nul ┆ nul ┆ nul ┆ 9.5 ┆ Mis ┆ nul ┆ fea │\n",
       "│ 540 ┆ ad  ┆ ate ┆ hi  ┆ 121 ┆ 26  ┆ ive ┆ ato ┆     ┆ Bon ┆ l   ┆ l   ┆ 0.0 ┆ 25  ┆     ┆ 5.0 ┆     ┆     ┆ 7.2 ┆     ┆ l   ┆ l   ┆ l   ┆ l   ┆ l   ┆     ┆ sed ┆ l   ┆ eea │\n",
       "│ 01  ┆     ┆ r   ┆ NCR ┆ 261 ┆ PM, ┆ red ┆ Del ┆     ┆ e   ┆     ┆     ┆     ┆     ┆     ┆     ┆     ┆     ┆ 5   ┆     ┆     ┆     ┆     ┆     ┆     ┆     ┆     ┆     ┆ a1d │\n",
       "│     ┆     ┆ Kai ┆     ┆ 4   ┆ Sep ┆     ┆ ive ┆     ┆ in  ┆     ┆     ┆     ┆     ┆     ┆     ┆     ┆     ┆     ┆     ┆     ┆     ┆     ┆     ┆     ┆     ┆     ┆     ┆ 9d9 │\n",
       "│     ┆     ┆ las ┆     ┆     ┆ tem ┆     ┆ ry  ┆     ┆ Jam ┆     ┆     ┆     ┆     ┆     ┆     ┆     ┆     ┆     ┆     ┆     ┆     ┆     ┆     ┆     ┆     ┆     ┆     ┆ 0bd │\n",
       "│     ┆     ┆ h 2 ┆     ┆     ┆ ber ┆     ┆     ┆     ┆ aic ┆     ┆     ┆     ┆     ┆     ┆     ┆     ┆     ┆     ┆     ┆     ┆     ┆     ┆     ┆     ┆     ┆     ┆     ┆ bdd │\n",
       "│     ┆     ┆ (GK ┆     ┆     ┆ 04  ┆     ┆     ┆     ┆ an  ┆     ┆     ┆     ┆     ┆     ┆     ┆     ┆     ┆     ┆     ┆     ┆     ┆     ┆     ┆     ┆     ┆     ┆     ┆ 0ac │\n",
       "│     ┆     ┆ 2)  ┆     ┆     ┆ 202 ┆     ┆     ┆     ┆ Gri ┆     ┆     ┆     ┆     ┆     ┆     ┆     ┆     ┆     ┆     ┆     ┆     ┆     ┆     ┆     ┆     ┆     ┆     ┆ 026 │\n",
       "│     ┆     ┆     ┆     ┆     ┆ 4   ┆     ┆     ┆     ┆ lle ┆     ┆     ┆     ┆     ┆     ┆     ┆     ┆     ┆     ┆     ┆     ┆     ┆     ┆     ┆     ┆     ┆     ┆     ┆ 1a3 │\n",
       "│     ┆     ┆     ┆     ┆     ┆     ┆     ┆     ┆     ┆ d   ┆     ┆     ┆     ┆     ┆     ┆     ┆     ┆     ┆     ┆     ┆     ┆     ┆     ┆     ┆     ┆     ┆     ┆     ┆ 9cb │\n",
       "│     ┆     ┆     ┆     ┆     ┆     ┆     ┆     ┆     ┆ C…  ┆     ┆     ┆     ┆     ┆     ┆     ┆     ┆     ┆     ┆     ┆     ┆     ┆     ┆     ┆     ┆     ┆     ┆     ┆ …   │\n",
       "└─────┴─────┴─────┴─────┴─────┴─────┴─────┴─────┴─────┴─────┴─────┴─────┴─────┴─────┴─────┴─────┴─────┴─────┴─────┴─────┴─────┴─────┴─────┴─────┴─────┴─────┴─────┴─────┴─────┘"
      ]
     },
     "execution_count": 360,
     "metadata": {},
     "output_type": "execute_result"
    }
   ],
   "source": [
    "# Filter on records where KPT duration is null\n",
    "target_field = 'KPT duration (minutes)'\n",
    "\n",
    "target_null_df = df.filter(\n",
    "    pl.col(target_field).is_null()\n",
    ")\n",
    "\n",
    "print(len(target_null_df))\n",
    "target_null_df.head()"
   ]
  },
  {
   "cell_type": "code",
   "execution_count": 361,
   "metadata": {},
   "outputs": [
    {
     "data": {
      "text/html": [
       "<div><style>\n",
       ".dataframe > thead > tr,\n",
       ".dataframe > tbody > tr {\n",
       "  text-align: right;\n",
       "  white-space: pre-wrap;\n",
       "}\n",
       "</style>\n",
       "<small>shape: (4, 2)</small><table border=\"1\" class=\"dataframe\"><thead><tr><th>column_name</th><th>unique_count</th></tr><tr><td>str</td><td>u32</td></tr></thead><tbody><tr><td>&quot;City&quot;</td><td>1</td></tr><tr><td>&quot;Delivery&quot;</td><td>1</td></tr><tr><td>&quot;KPT duration (minutes)&quot;</td><td>1</td></tr><tr><td>&quot;Order Ready Marked&quot;</td><td>1</td></tr></tbody></table></div>"
      ],
      "text/plain": [
       "shape: (4, 2)\n",
       "┌────────────────────────┬──────────────┐\n",
       "│ column_name            ┆ unique_count │\n",
       "│ ---                    ┆ ---          │\n",
       "│ str                    ┆ u32          │\n",
       "╞════════════════════════╪══════════════╡\n",
       "│ City                   ┆ 1            │\n",
       "│ Delivery               ┆ 1            │\n",
       "│ KPT duration (minutes) ┆ 1            │\n",
       "│ Order Ready Marked     ┆ 1            │\n",
       "└────────────────────────┴──────────────┘"
      ]
     },
     "execution_count": 361,
     "metadata": {},
     "output_type": "execute_result"
    }
   ],
   "source": [
    "# Find fields that could be the reason for why null values are coming in for target variable\n",
    "target_null_df.select(\n",
    "    pl.all().n_unique()\n",
    ").unpivot(\n",
    "    variable_name='column_name',\n",
    "    value_name='unique_count'\n",
    ").filter(\n",
    "    pl.col('unique_count') == 1\n",
    ")"
   ]
  },
  {
   "cell_type": "code",
   "execution_count": 362,
   "metadata": {},
   "outputs": [
    {
     "data": {
      "text/html": [
       "<div><style>\n",
       ".dataframe > thead > tr,\n",
       ".dataframe > tbody > tr {\n",
       "  text-align: right;\n",
       "  white-space: pre-wrap;\n",
       "}\n",
       "</style>\n",
       "<small>shape: (1, 4)</small><table border=\"1\" class=\"dataframe\"><thead><tr><th>Order Ready Marked</th><th>Delivery</th><th>KPT duration (minutes)</th><th>City</th></tr><tr><td>str</td><td>str</td><td>f64</td><td>str</td></tr></thead><tbody><tr><td>&quot;Missed&quot;</td><td>&quot;Zomato Delivery&quot;</td><td>null</td><td>&quot;Delhi NCR&quot;</td></tr></tbody></table></div>"
      ],
      "text/plain": [
       "shape: (1, 4)\n",
       "┌────────────────────┬─────────────────┬────────────────────────┬───────────┐\n",
       "│ Order Ready Marked ┆ Delivery        ┆ KPT duration (minutes) ┆ City      │\n",
       "│ ---                ┆ ---             ┆ ---                    ┆ ---       │\n",
       "│ str                ┆ str             ┆ f64                    ┆ str       │\n",
       "╞════════════════════╪═════════════════╪════════════════════════╪═══════════╡\n",
       "│ Missed             ┆ Zomato Delivery ┆ null                   ┆ Delhi NCR │\n",
       "└────────────────────┴─────────────────┴────────────────────────┴───────────┘"
      ]
     },
     "execution_count": 362,
     "metadata": {},
     "output_type": "execute_result"
    }
   ],
   "source": [
    "target_null_assess_fields = set(target_null_df.select(\n",
    "    pl.all().n_unique()\n",
    ").unpivot(\n",
    "    variable_name='column_name',\n",
    "    value_name='unique_count'\n",
    ").filter(\n",
    "    pl.col('unique_count') == 1\n",
    ")['column_name'])\n",
    "\n",
    "target_null_df.select(target_null_assess_fields).unique()\n",
    "\n",
    "# Notes:\n",
    "# - Order Ready Marked is 'Missed' for all values"
   ]
  },
  {
   "cell_type": "code",
   "execution_count": 363,
   "metadata": {},
   "outputs": [
    {
     "data": {
      "text/html": [
       "<div><style>\n",
       ".dataframe > thead > tr,\n",
       ".dataframe > tbody > tr {\n",
       "  text-align: right;\n",
       "  white-space: pre-wrap;\n",
       "}\n",
       "</style>\n",
       "<small>shape: (1, 1)</small><table border=\"1\" class=\"dataframe\"><thead><tr><th>KPT duration (minutes)</th></tr><tr><td>u32</td></tr></thead><tbody><tr><td>44</td></tr></tbody></table></div>"
      ],
      "text/plain": [
       "shape: (1, 1)\n",
       "┌────────────────────────┐\n",
       "│ KPT duration (minutes) │\n",
       "│ ---                    │\n",
       "│ u32                    │\n",
       "╞════════════════════════╡\n",
       "│ 44                     │\n",
       "└────────────────────────┘"
      ]
     },
     "execution_count": 363,
     "metadata": {},
     "output_type": "execute_result"
    }
   ],
   "source": [
    "df.filter(\n",
    "    pl.col('Order Ready Marked') == 'Missed'\n",
    ").select(\n",
    "    pl.col('KPT duration (minutes)').n_unique()\n",
    ")\n",
    "\n",
    "# Notes:\n",
    "# - Wherever KPT duration is null then Order Ready Marked = 'Missed'\n",
    "# - However when Order Ready Marked = 'Missed', many values for KPT duration\n",
    "# - (one to many relationship)"
   ]
  },
  {
   "cell_type": "code",
   "execution_count": 368,
   "metadata": {},
   "outputs": [
    {
     "data": {
      "text/plain": [
       "{'Correctly', 'Incorrectly', 'Missed'}"
      ]
     },
     "execution_count": 368,
     "metadata": {},
     "output_type": "execute_result"
    }
   ],
   "source": [
    "set(df['Order Ready Marked'])\n",
    "\n",
    "# Notes:\n",
    "# - Does 'Order Ready Marked' values influence KPT duration\n",
    "# - e.g. When 'Order Ready Marked' = 'Incorrectly' -> is KPT duration marked correctly? Should those values be dropped? \n",
    "# - e.g. When 'Order Ready Marked' = 'Missed' and KPT duration is not null -> is KPT duration marked correctly? Should those values be dropped?\n",
    "\n",
    "# To check: !!!\n",
    "# - When plotting KPT duration an grouping by features, see how taking subset of data on different 'Order Ready Marked' values affects the results"
   ]
  },
  {
   "cell_type": "markdown",
   "metadata": {},
   "source": [
    "#### 2. Standardize column names"
   ]
  },
  {
   "cell_type": "code",
   "execution_count": 105,
   "metadata": {},
   "outputs": [
    {
     "data": {
      "text/plain": [
       "['Restaurant ID',\n",
       " 'Restaurant name',\n",
       " 'Subzone',\n",
       " 'City',\n",
       " 'Order ID',\n",
       " 'Order Placed At',\n",
       " 'Order Status',\n",
       " 'Delivery',\n",
       " 'Distance',\n",
       " 'Items in order',\n",
       " 'Instructions',\n",
       " 'Discount construct',\n",
       " 'Bill subtotal',\n",
       " 'Packaging charges',\n",
       " 'Restaurant discount (Promo)',\n",
       " 'Restaurant discount (Flat offs, Freebies & others)',\n",
       " 'Gold discount',\n",
       " 'Brand pack discount',\n",
       " 'Total',\n",
       " 'Rating',\n",
       " 'Review',\n",
       " 'Cancellation / Rejection reason',\n",
       " 'Restaurant compensation (Cancellation)',\n",
       " 'Restaurant penalty (Rejection)',\n",
       " 'KPT duration (minutes)',\n",
       " 'Rider wait time (minutes)',\n",
       " 'Order Ready Marked',\n",
       " 'Customer complaint tag',\n",
       " 'Customer ID']"
      ]
     },
     "execution_count": 105,
     "metadata": {},
     "output_type": "execute_result"
    }
   ],
   "source": [
    "df.columns"
   ]
  },
  {
   "cell_type": "code",
   "execution_count": 106,
   "metadata": {},
   "outputs": [
    {
     "name": "stdout",
     "output_type": "stream",
     "text": [
      "21321\n"
     ]
    },
    {
     "data": {
      "text/html": [
       "<div><style>\n",
       ".dataframe > thead > tr,\n",
       ".dataframe > tbody > tr {\n",
       "  text-align: right;\n",
       "  white-space: pre-wrap;\n",
       "}\n",
       "</style>\n",
       "<small>shape: (5, 29)</small><table border=\"1\" class=\"dataframe\"><thead><tr><th>restaurant_id</th><th>restaurant_name</th><th>subzone</th><th>city</th><th>order_id</th><th>order_placed_at</th><th>order_status</th><th>delivery</th><th>distance</th><th>items_in_order</th><th>instructions</th><th>discount_construct</th><th>bill_subtotal</th><th>packaging_charges</th><th>restaurant_discount_promo</th><th>restaurant_discount_others</th><th>gold_discount</th><th>brand_pack_discount</th><th>total</th><th>rating</th><th>review</th><th>cancellation_rejection_reason</th><th>restaurant_compensation_cancellation</th><th>restaurant_penalty_rejection</th><th>kpt_duration_minutes</th><th>rider_wait_time_minutes</th><th>order_ready_marked</th><th>customer_complaint_tag</th><th>customer_id</th></tr><tr><td>i64</td><td>str</td><td>str</td><td>str</td><td>i64</td><td>str</td><td>str</td><td>str</td><td>str</td><td>str</td><td>str</td><td>str</td><td>f64</td><td>f64</td><td>f64</td><td>f64</td><td>f64</td><td>f64</td><td>f64</td><td>f64</td><td>str</td><td>str</td><td>f64</td><td>f64</td><td>f64</td><td>f64</td><td>str</td><td>str</td><td>str</td></tr></thead><tbody><tr><td>20320607</td><td>&quot;Swaad&quot;</td><td>&quot;Sector 4&quot;</td><td>&quot;Delhi NCR&quot;</td><td>6168884918</td><td>&quot;11:38 PM, September 10 2024&quot;</td><td>&quot;Delivered&quot;</td><td>&quot;Zomato Delivery&quot;</td><td>&quot;3km&quot;</td><td>&quot;1 x Grilled Chicken Jamaican T…</td><td>null</td><td>&quot;40% off upto Rs.80&quot;</td><td>715.0</td><td>31.75</td><td>80.0</td><td>0.0</td><td>0.0</td><td>0.0</td><td>666.75</td><td>null</td><td>null</td><td>null</td><td>null</td><td>null</td><td>18.35</td><td>11.6</td><td>&quot;Correctly&quot;</td><td>null</td><td>&quot;5d6c2b96db963098bc69768bea504c…</td></tr><tr><td>20320607</td><td>&quot;Swaad&quot;</td><td>&quot;Sector 4&quot;</td><td>&quot;Delhi NCR&quot;</td><td>6170707559</td><td>&quot;11:34 PM, September 10 2024&quot;</td><td>&quot;Delivered&quot;</td><td>&quot;Zomato Delivery&quot;</td><td>&quot;2km&quot;</td><td>&quot;1 x Peri Peri Fries, 1 x Fried…</td><td>null</td><td>&quot;Flat Rs.175 off&quot;</td><td>1179.0</td><td>50.2</td><td>175.0</td><td>0.0</td><td>0.0</td><td>0.0</td><td>1054.2</td><td>null</td><td>null</td><td>null</td><td>null</td><td>null</td><td>16.95</td><td>3.6</td><td>&quot;Correctly&quot;</td><td>null</td><td>&quot;0781815deb4a10a574e9fee4fa0b86…</td></tr><tr><td>20320607</td><td>&quot;Swaad&quot;</td><td>&quot;Sector 4&quot;</td><td>&quot;Delhi NCR&quot;</td><td>6169375019</td><td>&quot;03:52 PM, September 10 2024&quot;</td><td>&quot;Delivered&quot;</td><td>&quot;Zomato Delivery&quot;</td><td>&quot;&lt;1km&quot;</td><td>&quot;1 x Bone in Peri Peri Grilled …</td><td>null</td><td>&quot;40% off upto Rs.80&quot;</td><td>310.0</td><td>11.5</td><td>80.0</td><td>0.0</td><td>0.0</td><td>0.0</td><td>241.5</td><td>null</td><td>null</td><td>null</td><td>null</td><td>null</td><td>14.05</td><td>12.2</td><td>&quot;Correctly&quot;</td><td>null</td><td>&quot;f93362f5ce5382657482d164e36818…</td></tr><tr><td>20320607</td><td>&quot;Swaad&quot;</td><td>&quot;Sector 4&quot;</td><td>&quot;Delhi NCR&quot;</td><td>6151677434</td><td>&quot;03:45 PM, September 10 2024&quot;</td><td>&quot;Delivered&quot;</td><td>&quot;Zomato Delivery&quot;</td><td>&quot;2km&quot;</td><td>&quot;1 x Fried Chicken Ghostbuster …</td><td>null</td><td>&quot;40% off upto Rs.80&quot;</td><td>620.0</td><td>27.0</td><td>80.0</td><td>0.0</td><td>0.0</td><td>0.0</td><td>567.0</td><td>4.0</td><td>null</td><td>null</td><td>null</td><td>null</td><td>19.0</td><td>3.3</td><td>&quot;Correctly&quot;</td><td>null</td><td>&quot;1ed226d1b8a5f7acee12fc1d667655…</td></tr><tr><td>20320607</td><td>&quot;Swaad&quot;</td><td>&quot;Sector 4&quot;</td><td>&quot;Delhi NCR&quot;</td><td>6167540897</td><td>&quot;03:04 PM, September 10 2024&quot;</td><td>&quot;Delivered&quot;</td><td>&quot;Zomato Delivery&quot;</td><td>&quot;2km&quot;</td><td>&quot;1 x Peri Peri Krispers, 1 x Fr…</td><td>null</td><td>&quot;40% off upto Rs.80&quot;</td><td>584.0</td><td>25.2</td><td>80.0</td><td>0.0</td><td>0.0</td><td>0.0</td><td>529.2</td><td>null</td><td>null</td><td>null</td><td>null</td><td>null</td><td>15.97</td><td>1.0</td><td>&quot;Correctly&quot;</td><td>null</td><td>&quot;d21a2ac6ea06b31cc3288ab20c4ef2…</td></tr></tbody></table></div>"
      ],
      "text/plain": [
       "shape: (5, 29)\n",
       "┌─────┬─────┬─────┬─────┬─────┬─────┬─────┬─────┬─────┬─────┬─────┬─────┬─────┬─────┬─────┬─────┬─────┬─────┬─────┬─────┬─────┬─────┬─────┬─────┬─────┬─────┬─────┬─────┬─────┐\n",
       "│ res ┆ res ┆ sub ┆ cit ┆ ord ┆ ord ┆ ord ┆ del ┆ dis ┆ ite ┆ ins ┆ dis ┆ bil ┆ pac ┆ res ┆ res ┆ gol ┆ bra ┆ tot ┆ rat ┆ rev ┆ can ┆ res ┆ res ┆ kpt ┆ rid ┆ ord ┆ cus ┆ cus │\n",
       "│ tau ┆ tau ┆ zon ┆ y   ┆ er_ ┆ er_ ┆ er_ ┆ ive ┆ tan ┆ ms_ ┆ tru ┆ cou ┆ l_s ┆ kag ┆ tau ┆ tau ┆ d_d ┆ nd_ ┆ al  ┆ ing ┆ iew ┆ cel ┆ tau ┆ tau ┆ _du ┆ er_ ┆ er_ ┆ tom ┆ tom │\n",
       "│ ran ┆ ran ┆ e   ┆ --- ┆ id  ┆ pla ┆ sta ┆ ry  ┆ ce  ┆ in_ ┆ cti ┆ nt_ ┆ ubt ┆ ing ┆ ran ┆ ran ┆ isc ┆ pac ┆ --- ┆ --- ┆ --- ┆ lat ┆ ran ┆ ran ┆ rat ┆ wai ┆ rea ┆ er_ ┆ er_ │\n",
       "│ t_i ┆ t_n ┆ --- ┆ str ┆ --- ┆ ced ┆ tus ┆ --- ┆ --- ┆ ord ┆ ons ┆ con ┆ ota ┆ _ch ┆ t_d ┆ t_d ┆ oun ┆ k_d ┆ f64 ┆ f64 ┆ str ┆ ion ┆ t_c ┆ t_p ┆ ion ┆ t_t ┆ dy_ ┆ com ┆ id  │\n",
       "│ d   ┆ ame ┆ str ┆     ┆ i64 ┆ _at ┆ --- ┆ str ┆ str ┆ er  ┆ --- ┆ str ┆ l   ┆ arg ┆ isc ┆ isc ┆ t   ┆ isc ┆     ┆     ┆     ┆ _re ┆ omp ┆ ena ┆ _mi ┆ ime ┆ mar ┆ pla ┆ --- │\n",
       "│ --- ┆ --- ┆     ┆     ┆     ┆ --- ┆ str ┆     ┆     ┆ --- ┆ str ┆ uct ┆ --- ┆ es  ┆ oun ┆ oun ┆ --- ┆ oun ┆     ┆     ┆     ┆ jec ┆ ens ┆ lty ┆ nut ┆ _mi ┆ ked ┆ int ┆ str │\n",
       "│ i64 ┆ str ┆     ┆     ┆     ┆ str ┆     ┆     ┆     ┆ str ┆     ┆ --- ┆ f64 ┆ --- ┆ t_p ┆ t_o ┆ f64 ┆ t   ┆     ┆     ┆     ┆ tio ┆ ati ┆ _re ┆ es  ┆ nut ┆ --- ┆ _ta ┆     │\n",
       "│     ┆     ┆     ┆     ┆     ┆     ┆     ┆     ┆     ┆     ┆     ┆ str ┆     ┆ f64 ┆ rom ┆ the ┆     ┆ --- ┆     ┆     ┆     ┆ n_r ┆ on_ ┆ jec ┆ --- ┆ es  ┆ str ┆ g   ┆     │\n",
       "│     ┆     ┆     ┆     ┆     ┆     ┆     ┆     ┆     ┆     ┆     ┆     ┆     ┆     ┆ o   ┆ rs  ┆     ┆ f64 ┆     ┆     ┆     ┆ eas ┆ can ┆ tio ┆ f64 ┆ --- ┆     ┆ --- ┆     │\n",
       "│     ┆     ┆     ┆     ┆     ┆     ┆     ┆     ┆     ┆     ┆     ┆     ┆     ┆     ┆ --- ┆ --- ┆     ┆     ┆     ┆     ┆     ┆ on  ┆ cel ┆ n   ┆     ┆ f64 ┆     ┆ str ┆     │\n",
       "│     ┆     ┆     ┆     ┆     ┆     ┆     ┆     ┆     ┆     ┆     ┆     ┆     ┆     ┆ f64 ┆ f64 ┆     ┆     ┆     ┆     ┆     ┆ --- ┆ …   ┆ --- ┆     ┆     ┆     ┆     ┆     │\n",
       "│     ┆     ┆     ┆     ┆     ┆     ┆     ┆     ┆     ┆     ┆     ┆     ┆     ┆     ┆     ┆     ┆     ┆     ┆     ┆     ┆     ┆ str ┆ --- ┆ f64 ┆     ┆     ┆     ┆     ┆     │\n",
       "│     ┆     ┆     ┆     ┆     ┆     ┆     ┆     ┆     ┆     ┆     ┆     ┆     ┆     ┆     ┆     ┆     ┆     ┆     ┆     ┆     ┆     ┆ f64 ┆     ┆     ┆     ┆     ┆     ┆     │\n",
       "╞═════╪═════╪═════╪═════╪═════╪═════╪═════╪═════╪═════╪═════╪═════╪═════╪═════╪═════╪═════╪═════╪═════╪═════╪═════╪═════╪═════╪═════╪═════╪═════╪═════╪═════╪═════╪═════╪═════╡\n",
       "│ 203 ┆ Swa ┆ Sec ┆ Del ┆ 616 ┆ 11: ┆ Del ┆ Zom ┆ 3km ┆ 1 x ┆ nul ┆ 40% ┆ 715 ┆ 31. ┆ 80. ┆ 0.0 ┆ 0.0 ┆ 0.0 ┆ 666 ┆ nul ┆ nul ┆ nul ┆ nul ┆ nul ┆ 18. ┆ 11. ┆ Cor ┆ nul ┆ 5d6 │\n",
       "│ 206 ┆ ad  ┆ tor ┆ hi  ┆ 888 ┆ 38  ┆ ive ┆ ato ┆     ┆ Gri ┆ l   ┆ off ┆ .0  ┆ 75  ┆ 0   ┆     ┆     ┆     ┆ .75 ┆ l   ┆ l   ┆ l   ┆ l   ┆ l   ┆ 35  ┆ 6   ┆ rec ┆ l   ┆ c2b │\n",
       "│ 07  ┆     ┆ 4   ┆ NCR ┆ 491 ┆ PM, ┆ red ┆ Del ┆     ┆ lle ┆     ┆ upt ┆     ┆     ┆     ┆     ┆     ┆     ┆     ┆     ┆     ┆     ┆     ┆     ┆     ┆     ┆ tly ┆     ┆ 96d │\n",
       "│     ┆     ┆     ┆     ┆ 8   ┆ Sep ┆     ┆ ive ┆     ┆ d   ┆     ┆ o   ┆     ┆     ┆     ┆     ┆     ┆     ┆     ┆     ┆     ┆     ┆     ┆     ┆     ┆     ┆     ┆     ┆ b96 │\n",
       "│     ┆     ┆     ┆     ┆     ┆ tem ┆     ┆ ry  ┆     ┆ Chi ┆     ┆ Rs. ┆     ┆     ┆     ┆     ┆     ┆     ┆     ┆     ┆     ┆     ┆     ┆     ┆     ┆     ┆     ┆     ┆ 309 │\n",
       "│     ┆     ┆     ┆     ┆     ┆ ber ┆     ┆     ┆     ┆ cke ┆     ┆ 80  ┆     ┆     ┆     ┆     ┆     ┆     ┆     ┆     ┆     ┆     ┆     ┆     ┆     ┆     ┆     ┆     ┆ 8bc │\n",
       "│     ┆     ┆     ┆     ┆     ┆ 10  ┆     ┆     ┆     ┆ n   ┆     ┆     ┆     ┆     ┆     ┆     ┆     ┆     ┆     ┆     ┆     ┆     ┆     ┆     ┆     ┆     ┆     ┆     ┆ 697 │\n",
       "│     ┆     ┆     ┆     ┆     ┆ 202 ┆     ┆     ┆     ┆ Jam ┆     ┆     ┆     ┆     ┆     ┆     ┆     ┆     ┆     ┆     ┆     ┆     ┆     ┆     ┆     ┆     ┆     ┆     ┆ 68b │\n",
       "│     ┆     ┆     ┆     ┆     ┆ 4   ┆     ┆     ┆     ┆ aic ┆     ┆     ┆     ┆     ┆     ┆     ┆     ┆     ┆     ┆     ┆     ┆     ┆     ┆     ┆     ┆     ┆     ┆     ┆ ea5 │\n",
       "│     ┆     ┆     ┆     ┆     ┆     ┆     ┆     ┆     ┆ an  ┆     ┆     ┆     ┆     ┆     ┆     ┆     ┆     ┆     ┆     ┆     ┆     ┆     ┆     ┆     ┆     ┆     ┆     ┆ 04c │\n",
       "│     ┆     ┆     ┆     ┆     ┆     ┆     ┆     ┆     ┆ T…  ┆     ┆     ┆     ┆     ┆     ┆     ┆     ┆     ┆     ┆     ┆     ┆     ┆     ┆     ┆     ┆     ┆     ┆     ┆ …   │\n",
       "│ 203 ┆ Swa ┆ Sec ┆ Del ┆ 617 ┆ 11: ┆ Del ┆ Zom ┆ 2km ┆ 1 x ┆ nul ┆ Fla ┆ 117 ┆ 50. ┆ 175 ┆ 0.0 ┆ 0.0 ┆ 0.0 ┆ 105 ┆ nul ┆ nul ┆ nul ┆ nul ┆ nul ┆ 16. ┆ 3.6 ┆ Cor ┆ nul ┆ 078 │\n",
       "│ 206 ┆ ad  ┆ tor ┆ hi  ┆ 070 ┆ 34  ┆ ive ┆ ato ┆     ┆ Per ┆ l   ┆ t   ┆ 9.0 ┆ 2   ┆ .0  ┆     ┆     ┆     ┆ 4.2 ┆ l   ┆ l   ┆ l   ┆ l   ┆ l   ┆ 95  ┆     ┆ rec ┆ l   ┆ 181 │\n",
       "│ 07  ┆     ┆ 4   ┆ NCR ┆ 755 ┆ PM, ┆ red ┆ Del ┆     ┆ i   ┆     ┆ Rs. ┆     ┆     ┆     ┆     ┆     ┆     ┆     ┆     ┆     ┆     ┆     ┆     ┆     ┆     ┆ tly ┆     ┆ 5de │\n",
       "│     ┆     ┆     ┆     ┆ 9   ┆ Sep ┆     ┆ ive ┆     ┆ Per ┆     ┆ 175 ┆     ┆     ┆     ┆     ┆     ┆     ┆     ┆     ┆     ┆     ┆     ┆     ┆     ┆     ┆     ┆     ┆ b4a │\n",
       "│     ┆     ┆     ┆     ┆     ┆ tem ┆     ┆ ry  ┆     ┆ i   ┆     ┆ off ┆     ┆     ┆     ┆     ┆     ┆     ┆     ┆     ┆     ┆     ┆     ┆     ┆     ┆     ┆     ┆     ┆ 10a │\n",
       "│     ┆     ┆     ┆     ┆     ┆ ber ┆     ┆     ┆     ┆ Fri ┆     ┆     ┆     ┆     ┆     ┆     ┆     ┆     ┆     ┆     ┆     ┆     ┆     ┆     ┆     ┆     ┆     ┆     ┆ 574 │\n",
       "│     ┆     ┆     ┆     ┆     ┆ 10  ┆     ┆     ┆     ┆ es, ┆     ┆     ┆     ┆     ┆     ┆     ┆     ┆     ┆     ┆     ┆     ┆     ┆     ┆     ┆     ┆     ┆     ┆     ┆ e9f │\n",
       "│     ┆     ┆     ┆     ┆     ┆ 202 ┆     ┆     ┆     ┆ 1 x ┆     ┆     ┆     ┆     ┆     ┆     ┆     ┆     ┆     ┆     ┆     ┆     ┆     ┆     ┆     ┆     ┆     ┆     ┆ ee4 │\n",
       "│     ┆     ┆     ┆     ┆     ┆ 4   ┆     ┆     ┆     ┆ Fri ┆     ┆     ┆     ┆     ┆     ┆     ┆     ┆     ┆     ┆     ┆     ┆     ┆     ┆     ┆     ┆     ┆     ┆     ┆ fa0 │\n",
       "│     ┆     ┆     ┆     ┆     ┆     ┆     ┆     ┆     ┆ ed… ┆     ┆     ┆     ┆     ┆     ┆     ┆     ┆     ┆     ┆     ┆     ┆     ┆     ┆     ┆     ┆     ┆     ┆     ┆ b86 │\n",
       "│     ┆     ┆     ┆     ┆     ┆     ┆     ┆     ┆     ┆     ┆     ┆     ┆     ┆     ┆     ┆     ┆     ┆     ┆     ┆     ┆     ┆     ┆     ┆     ┆     ┆     ┆     ┆     ┆ …   │\n",
       "│ 203 ┆ Swa ┆ Sec ┆ Del ┆ 616 ┆ 03: ┆ Del ┆ Zom ┆ <1k ┆ 1 x ┆ nul ┆ 40% ┆ 310 ┆ 11. ┆ 80. ┆ 0.0 ┆ 0.0 ┆ 0.0 ┆ 241 ┆ nul ┆ nul ┆ nul ┆ nul ┆ nul ┆ 14. ┆ 12. ┆ Cor ┆ nul ┆ f93 │\n",
       "│ 206 ┆ ad  ┆ tor ┆ hi  ┆ 937 ┆ 52  ┆ ive ┆ ato ┆ m   ┆ Bon ┆ l   ┆ off ┆ .0  ┆ 5   ┆ 0   ┆     ┆     ┆     ┆ .5  ┆ l   ┆ l   ┆ l   ┆ l   ┆ l   ┆ 05  ┆ 2   ┆ rec ┆ l   ┆ 362 │\n",
       "│ 07  ┆     ┆ 4   ┆ NCR ┆ 501 ┆ PM, ┆ red ┆ Del ┆     ┆ e   ┆     ┆ upt ┆     ┆     ┆     ┆     ┆     ┆     ┆     ┆     ┆     ┆     ┆     ┆     ┆     ┆     ┆ tly ┆     ┆ f5c │\n",
       "│     ┆     ┆     ┆     ┆ 9   ┆ Sep ┆     ┆ ive ┆     ┆ in  ┆     ┆ o   ┆     ┆     ┆     ┆     ┆     ┆     ┆     ┆     ┆     ┆     ┆     ┆     ┆     ┆     ┆     ┆     ┆ e53 │\n",
       "│     ┆     ┆     ┆     ┆     ┆ tem ┆     ┆ ry  ┆     ┆ Per ┆     ┆ Rs. ┆     ┆     ┆     ┆     ┆     ┆     ┆     ┆     ┆     ┆     ┆     ┆     ┆     ┆     ┆     ┆     ┆ 826 │\n",
       "│     ┆     ┆     ┆     ┆     ┆ ber ┆     ┆     ┆     ┆ i   ┆     ┆ 80  ┆     ┆     ┆     ┆     ┆     ┆     ┆     ┆     ┆     ┆     ┆     ┆     ┆     ┆     ┆     ┆     ┆ 574 │\n",
       "│     ┆     ┆     ┆     ┆     ┆ 10  ┆     ┆     ┆     ┆ Per ┆     ┆     ┆     ┆     ┆     ┆     ┆     ┆     ┆     ┆     ┆     ┆     ┆     ┆     ┆     ┆     ┆     ┆     ┆ 82d │\n",
       "│     ┆     ┆     ┆     ┆     ┆ 202 ┆     ┆     ┆     ┆ i   ┆     ┆     ┆     ┆     ┆     ┆     ┆     ┆     ┆     ┆     ┆     ┆     ┆     ┆     ┆     ┆     ┆     ┆     ┆ 164 │\n",
       "│     ┆     ┆     ┆     ┆     ┆ 4   ┆     ┆     ┆     ┆ Gri ┆     ┆     ┆     ┆     ┆     ┆     ┆     ┆     ┆     ┆     ┆     ┆     ┆     ┆     ┆     ┆     ┆     ┆     ┆ e36 │\n",
       "│     ┆     ┆     ┆     ┆     ┆     ┆     ┆     ┆     ┆ lle ┆     ┆     ┆     ┆     ┆     ┆     ┆     ┆     ┆     ┆     ┆     ┆     ┆     ┆     ┆     ┆     ┆     ┆     ┆ 818 │\n",
       "│     ┆     ┆     ┆     ┆     ┆     ┆     ┆     ┆     ┆ d … ┆     ┆     ┆     ┆     ┆     ┆     ┆     ┆     ┆     ┆     ┆     ┆     ┆     ┆     ┆     ┆     ┆     ┆     ┆ …   │\n",
       "│ 203 ┆ Swa ┆ Sec ┆ Del ┆ 615 ┆ 03: ┆ Del ┆ Zom ┆ 2km ┆ 1 x ┆ nul ┆ 40% ┆ 620 ┆ 27. ┆ 80. ┆ 0.0 ┆ 0.0 ┆ 0.0 ┆ 567 ┆ 4.0 ┆ nul ┆ nul ┆ nul ┆ nul ┆ 19. ┆ 3.3 ┆ Cor ┆ nul ┆ 1ed │\n",
       "│ 206 ┆ ad  ┆ tor ┆ hi  ┆ 167 ┆ 45  ┆ ive ┆ ato ┆     ┆ Fri ┆ l   ┆ off ┆ .0  ┆ 0   ┆ 0   ┆     ┆     ┆     ┆ .0  ┆     ┆ l   ┆ l   ┆ l   ┆ l   ┆ 0   ┆     ┆ rec ┆ l   ┆ 226 │\n",
       "│ 07  ┆     ┆ 4   ┆ NCR ┆ 743 ┆ PM, ┆ red ┆ Del ┆     ┆ ed  ┆     ┆ upt ┆     ┆     ┆     ┆     ┆     ┆     ┆     ┆     ┆     ┆     ┆     ┆     ┆     ┆     ┆ tly ┆     ┆ d1b │\n",
       "│     ┆     ┆     ┆     ┆ 4   ┆ Sep ┆     ┆ ive ┆     ┆ Chi ┆     ┆ o   ┆     ┆     ┆     ┆     ┆     ┆     ┆     ┆     ┆     ┆     ┆     ┆     ┆     ┆     ┆     ┆     ┆ 8a5 │\n",
       "│     ┆     ┆     ┆     ┆     ┆ tem ┆     ┆ ry  ┆     ┆ cke ┆     ┆ Rs. ┆     ┆     ┆     ┆     ┆     ┆     ┆     ┆     ┆     ┆     ┆     ┆     ┆     ┆     ┆     ┆     ┆ f7a │\n",
       "│     ┆     ┆     ┆     ┆     ┆ ber ┆     ┆     ┆     ┆ n   ┆     ┆ 80  ┆     ┆     ┆     ┆     ┆     ┆     ┆     ┆     ┆     ┆     ┆     ┆     ┆     ┆     ┆     ┆     ┆ cee │\n",
       "│     ┆     ┆     ┆     ┆     ┆ 10  ┆     ┆     ┆     ┆ Gho ┆     ┆     ┆     ┆     ┆     ┆     ┆     ┆     ┆     ┆     ┆     ┆     ┆     ┆     ┆     ┆     ┆     ┆     ┆ 12f │\n",
       "│     ┆     ┆     ┆     ┆     ┆ 202 ┆     ┆     ┆     ┆ stb ┆     ┆     ┆     ┆     ┆     ┆     ┆     ┆     ┆     ┆     ┆     ┆     ┆     ┆     ┆     ┆     ┆     ┆     ┆ c1d │\n",
       "│     ┆     ┆     ┆     ┆     ┆ 4   ┆     ┆     ┆     ┆ ust ┆     ┆     ┆     ┆     ┆     ┆     ┆     ┆     ┆     ┆     ┆     ┆     ┆     ┆     ┆     ┆     ┆     ┆     ┆ 667 │\n",
       "│     ┆     ┆     ┆     ┆     ┆     ┆     ┆     ┆     ┆ er  ┆     ┆     ┆     ┆     ┆     ┆     ┆     ┆     ┆     ┆     ┆     ┆     ┆     ┆     ┆     ┆     ┆     ┆     ┆ 655 │\n",
       "│     ┆     ┆     ┆     ┆     ┆     ┆     ┆     ┆     ┆ …   ┆     ┆     ┆     ┆     ┆     ┆     ┆     ┆     ┆     ┆     ┆     ┆     ┆     ┆     ┆     ┆     ┆     ┆     ┆ …   │\n",
       "│ 203 ┆ Swa ┆ Sec ┆ Del ┆ 616 ┆ 03: ┆ Del ┆ Zom ┆ 2km ┆ 1 x ┆ nul ┆ 40% ┆ 584 ┆ 25. ┆ 80. ┆ 0.0 ┆ 0.0 ┆ 0.0 ┆ 529 ┆ nul ┆ nul ┆ nul ┆ nul ┆ nul ┆ 15. ┆ 1.0 ┆ Cor ┆ nul ┆ d21 │\n",
       "│ 206 ┆ ad  ┆ tor ┆ hi  ┆ 754 ┆ 04  ┆ ive ┆ ato ┆     ┆ Per ┆ l   ┆ off ┆ .0  ┆ 2   ┆ 0   ┆     ┆     ┆     ┆ .2  ┆ l   ┆ l   ┆ l   ┆ l   ┆ l   ┆ 97  ┆     ┆ rec ┆ l   ┆ a2a │\n",
       "│ 07  ┆     ┆ 4   ┆ NCR ┆ 089 ┆ PM, ┆ red ┆ Del ┆     ┆ i   ┆     ┆ upt ┆     ┆     ┆     ┆     ┆     ┆     ┆     ┆     ┆     ┆     ┆     ┆     ┆     ┆     ┆ tly ┆     ┆ c6e │\n",
       "│     ┆     ┆     ┆     ┆ 7   ┆ Sep ┆     ┆ ive ┆     ┆ Per ┆     ┆ o   ┆     ┆     ┆     ┆     ┆     ┆     ┆     ┆     ┆     ┆     ┆     ┆     ┆     ┆     ┆     ┆     ┆ a06 │\n",
       "│     ┆     ┆     ┆     ┆     ┆ tem ┆     ┆ ry  ┆     ┆ i   ┆     ┆ Rs. ┆     ┆     ┆     ┆     ┆     ┆     ┆     ┆     ┆     ┆     ┆     ┆     ┆     ┆     ┆     ┆     ┆ b31 │\n",
       "│     ┆     ┆     ┆     ┆     ┆ ber ┆     ┆     ┆     ┆ Kri ┆     ┆ 80  ┆     ┆     ┆     ┆     ┆     ┆     ┆     ┆     ┆     ┆     ┆     ┆     ┆     ┆     ┆     ┆     ┆ cc3 │\n",
       "│     ┆     ┆     ┆     ┆     ┆ 10  ┆     ┆     ┆     ┆ spe ┆     ┆     ┆     ┆     ┆     ┆     ┆     ┆     ┆     ┆     ┆     ┆     ┆     ┆     ┆     ┆     ┆     ┆     ┆ 288 │\n",
       "│     ┆     ┆     ┆     ┆     ┆ 202 ┆     ┆     ┆     ┆ rs, ┆     ┆     ┆     ┆     ┆     ┆     ┆     ┆     ┆     ┆     ┆     ┆     ┆     ┆     ┆     ┆     ┆     ┆     ┆ ab2 │\n",
       "│     ┆     ┆     ┆     ┆     ┆ 4   ┆     ┆     ┆     ┆ 1 x ┆     ┆     ┆     ┆     ┆     ┆     ┆     ┆     ┆     ┆     ┆     ┆     ┆     ┆     ┆     ┆     ┆     ┆     ┆ 0c4 │\n",
       "│     ┆     ┆     ┆     ┆     ┆     ┆     ┆     ┆     ┆ Fr… ┆     ┆     ┆     ┆     ┆     ┆     ┆     ┆     ┆     ┆     ┆     ┆     ┆     ┆     ┆     ┆     ┆     ┆     ┆ ef2 │\n",
       "│     ┆     ┆     ┆     ┆     ┆     ┆     ┆     ┆     ┆     ┆     ┆     ┆     ┆     ┆     ┆     ┆     ┆     ┆     ┆     ┆     ┆     ┆     ┆     ┆     ┆     ┆     ┆     ┆ …   │\n",
       "└─────┴─────┴─────┴─────┴─────┴─────┴─────┴─────┴─────┴─────┴─────┴─────┴─────┴─────┴─────┴─────┴─────┴─────┴─────┴─────┴─────┴─────┴─────┴─────┴─────┴─────┴─────┴─────┴─────┘"
      ]
     },
     "execution_count": 106,
     "metadata": {},
     "output_type": "execute_result"
    }
   ],
   "source": [
    "df_cols_standardized = []\n",
    "for col in df.columns:\n",
    "    col_standardized = col.replace('(', '').replace(')', '').replace('/', '').lower().replace(' ', '_')\n",
    "\n",
    "    # print(col_standardized)\n",
    "\n",
    "    # Manually adjust columns:\n",
    "    if col_standardized == 'cancellation__rejection_reason':\n",
    "        col_standardized = 'cancellation_rejection_reason'\n",
    "    elif col_standardized == 'restaurant_discount_flat_offs,_freebies_&_others':\n",
    "        col_standardized = 'restaurant_discount_others'\n",
    "\n",
    "    df_cols_standardized.append(col_standardized)\n",
    "\n",
    "df.columns = df_cols_standardized\n",
    "\n",
    "print(len(df))\n",
    "df.head()"
   ]
  },
  {
   "cell_type": "markdown",
   "metadata": {},
   "source": [
    "#### 3. Ensure each datatype is consistent with expectation"
   ]
  },
  {
   "cell_type": "code",
   "execution_count": 107,
   "metadata": {},
   "outputs": [
    {
     "data": {
      "text/plain": [
       "{'restaurant_id': Int64,\n",
       " 'restaurant_name': String,\n",
       " 'subzone': String,\n",
       " 'city': String,\n",
       " 'order_id': Int64,\n",
       " 'order_placed_at': String,\n",
       " 'order_status': String,\n",
       " 'delivery': String,\n",
       " 'distance': String,\n",
       " 'items_in_order': String,\n",
       " 'instructions': String,\n",
       " 'discount_construct': String,\n",
       " 'bill_subtotal': Float64,\n",
       " 'packaging_charges': Float64,\n",
       " 'restaurant_discount_promo': Float64,\n",
       " 'restaurant_discount_others': Float64,\n",
       " 'gold_discount': Float64,\n",
       " 'brand_pack_discount': Float64,\n",
       " 'total': Float64,\n",
       " 'rating': Float64,\n",
       " 'review': String,\n",
       " 'cancellation_rejection_reason': String,\n",
       " 'restaurant_compensation_cancellation': Float64,\n",
       " 'restaurant_penalty_rejection': Float64,\n",
       " 'kpt_duration_minutes': Float64,\n",
       " 'rider_wait_time_minutes': Float64,\n",
       " 'order_ready_marked': String,\n",
       " 'customer_complaint_tag': String,\n",
       " 'customer_id': String}"
      ]
     },
     "execution_count": 107,
     "metadata": {},
     "output_type": "execute_result"
    }
   ],
   "source": [
    "dict(df.schema)\n",
    "\n",
    "# Notes:\n",
    "# - Id columns should all be string \n",
    "#   -> (only convert to string, be mindful if downstream stakeholders say that the source data should not be initially parsed as int)\n",
    "#   -> (e.g. '01' ID is different than '1', in which case the initial read_csv() line should be altered)\n",
    "# - order_placed_at should be converted to datetime / timestamp\n",
    "# - distance should be converted to float\n",
    "# - items_in_order to be converted to a list of tuples -> [('Grilled Chicken', 1), ('Peri Peri Fries', 1)] -> pushed to later as mentioned in task 6\n",
    "# - order_ready_marked to be one-hot encoded"
   ]
  },
  {
   "cell_type": "code",
   "execution_count": 160,
   "metadata": {},
   "outputs": [
    {
     "data": {
      "text/plain": [
       "{'Delivered',\n",
       " 'Picked up',\n",
       " 'Rejected',\n",
       " 'Return cancelled',\n",
       " 'Returned',\n",
       " 'Timed out'}"
      ]
     },
     "execution_count": 160,
     "metadata": {},
     "output_type": "execute_result"
    }
   ],
   "source": [
    "set(df.filter(pl.col('order_status').is_not_null())['order_status'])"
   ]
  },
  {
   "cell_type": "code",
   "execution_count": 108,
   "metadata": {},
   "outputs": [
    {
     "data": {
      "text/plain": [
       "{'Correctly', 'Incorrectly', 'Missed'}"
      ]
     },
     "execution_count": 108,
     "metadata": {},
     "output_type": "execute_result"
    }
   ],
   "source": [
    "set(df.filter(pl.col('order_ready_marked').is_not_null())['order_ready_marked'])"
   ]
  },
  {
   "cell_type": "code",
   "execution_count": 109,
   "metadata": {},
   "outputs": [
    {
     "data": {
      "text/plain": [
       "{'Cancelled by Customer',\n",
       " 'Cancelled by Zomato',\n",
       " 'Items out of stock',\n",
       " 'Kitchen is full',\n",
       " 'Merchant device issue'}"
      ]
     },
     "execution_count": 109,
     "metadata": {},
     "output_type": "execute_result"
    }
   ],
   "source": [
    "set(df.filter(pl.col('cancellation_rejection_reason').is_not_null())['cancellation_rejection_reason'])"
   ]
  },
  {
   "cell_type": "code",
   "execution_count": 110,
   "metadata": {},
   "outputs": [
    {
     "data": {
      "text/plain": [
       "{'Absolutely amazing food.. taste was mind-blowing... ordered for the 1st time but definitely not the last time... loved it',\n",
       " 'Always a delight',\n",
       " 'Always a delight to order from this place',\n",
       " 'Amazing',\n",
       " 'Amazing flavours',\n",
       " 'Amazing food and quality always , Highly recommend to all chicken lovers , every dish is delicious and the sauces are also amazing',\n",
       " 'Amazing food. Becoming a regular. Keep it up!',\n",
       " 'Amazing pizza',\n",
       " 'Amazing pizza, really liked the food',\n",
       " 'Amazing pizzas',\n",
       " 'Amazing work and taste.',\n",
       " 'Animal fries are fireee but the burger was soooo disappointing since it felt like a 50rs burger from a street vendor that had little bones in between.',\n",
       " 'As excellent as always. Great to see quality of food being maintained',\n",
       " 'Awesome base great taste',\n",
       " 'Awesome thanks',\n",
       " 'Bestt wings ever!!!',\n",
       " 'Both the Pizza and the Melt had a very weird cardboard like taste to it. Felt as if something is wrong with the dough. I have been a regular customer but was very disappointed with the quality issue in the food this time.',\n",
       " 'Both the dishes were cold. Garlic bread was so hard.',\n",
       " 'Both the pizzas were great.',\n",
       " 'Burger had too much salt in the panner patty.',\n",
       " 'Burger was very average $% Fries were doused in some inescapable sour sauce that ruined them ',\n",
       " 'Can you please add options to exclude certain or all dips with the pizzas? Sometimes they come too many for us to consume or use and that means its a food waste we would rather not have on our consience. Excellent food as always',\n",
       " 'Chicken cooked with utmost perfection!',\n",
       " 'Completely cold food. The chicken was also dry and chewy. It was very difficult to swallow it',\n",
       " 'Completely cold pizza',\n",
       " 'Could have better',\n",
       " 'Crispy fries. Really tasty dips.',\n",
       " 'Delicious',\n",
       " 'Delicious Angara Chicken!',\n",
       " \"Domino's is better\",\n",
       " 'Dry chicken, partially burnt, overall disappointing, fry was decent. ',\n",
       " 'Enjoying delicious fries from Raapchick is a true pleasure. The crispy texture and savory flavor make them a perfect snack.',\n",
       " 'Everything was perfect. ',\n",
       " 'Excellent Tenders & Herbed Potatoes could have had a little more salt and pepper!',\n",
       " 'Excellent food quality. Amazing taste. Havent had a pizza this prime in quality ever in delhi, suggestion:: add pastas, healthy bersion, not maida ones, if possible',\n",
       " 'Excellent. The effort was visible. Exceedingly well made dough and superbly well stuffed. Perhaps the best in town ! Keep it up',\n",
       " 'Extremely tasty pizzas. Very good packaging.',\n",
       " 'Feel like cold as cold  coffee highly derogatory what should I say  itna thandaa',\n",
       " 'Finally a juicy grilled chicken!! The Jamaican flavour was out of the world!',\n",
       " 'Food was cold',\n",
       " 'Food was cold ... but amazing taste',\n",
       " 'Food was cold, and the portions of extra papad pathetic',\n",
       " 'Food was tasty but upset my stomach.',\n",
       " 'For a 10 inch pizza, the contents were far too less. The length was 9inch and width only 5 inch. Not satisfactory experience. Will demand full refund for spoiling our dinner experience.',\n",
       " 'Foul smell is there. Very bad experience',\n",
       " 'Fresh and tasty burger. On time delivery.',\n",
       " 'Fresh very fresh',\n",
       " 'Fried chicken tangdi was super tasty! The chicken was crispy and flavorful, with a nice kick to it. Totally worth it, I’ll be ordering again!',\n",
       " 'Fries are the best... please try!!!',\n",
       " 'Fries were good. They were crispy and tasty. The quantity was also good.',\n",
       " 'Get wrong order instead of bacon they send pepperoni ',\n",
       " 'Good pizza.',\n",
       " 'Good quality and taste',\n",
       " \"Good toppings & sauce and generous cheese. nicely garnished. ONLY THING NEEDS TO WORK ON IS ADDING MORE FLAVOUR & RIGHT TEXTURE TO THE BASE. IT WAS CHEWY & HARD. SOURDOUGH FLAVOUR WAS MISSING. ADD A LITTLE MORE FLAVOUR TO BASE SO DOESN'T TASTE LIKE BLOB OF MAIDA\",\n",
       " 'Got me sick for days,AVOID',\n",
       " 'Great pizza crust and neopolitan style.',\n",
       " 'Great pizza liked the sauces served which gave different taste combinations',\n",
       " 'Great pizza, the pide was out of this world. Might seem expensive at first glance but the portions have great value for money.',\n",
       " 'Great presentation,taste ,packaging and value for money',\n",
       " 'Great taste and well cooked chicken. $%  $% In half Jamaican chicken for two pieces, you should give two dips instead of one which you give for 1 pc.',\n",
       " 'Great taste 😄',\n",
       " 'Hair strand',\n",
       " 'Have ordered this countless times, never disappointed me. 5/5',\n",
       " 'Herbed potato was missing from the order. Rest were good. ',\n",
       " 'Highly overpriced. There should be atlest 2 chicken brests in this amount',\n",
       " 'Hit the spot.',\n",
       " 'Honestly some of the best food I’ve had in India! The grilled chicken was amazing, way better than anything from KFC. It was so flavorful and perfectly cooked. $% The pizza was also a total winner, much better than what you’d get from places like Pizza Hut or Domino’s. Everything tasted super fresh with top quality ingredients. $% If you’re thinking about ordering, just go for it. You won’t regret it!',\n",
       " 'I add extra cheese on it but get',\n",
       " 'I always order my pizza from you but from last 2 times you guys are disappointing me.. there is no taste in pizza',\n",
       " 'I am in love with this joint. Been continuously ordering. Have never been disappointed yet.',\n",
       " \"I can't get enough of their fantastic chicken tenders and mouthwatering burgers! Without a doubt, they serve up the best burgers in all of Delhi NCR. Every bite is a delight!\",\n",
       " 'I felt the dips have become quite watered down... everything tasted like sweet runny sauce.  $% the Bageecha lacked basic salt. $% the triple cheese was decent albeit arrived chilled.',\n",
       " \"I have been ordering from this place for a long time but this time the dough is sour and it doesn't taste fresh at all. \",\n",
       " \"I have literally been throwing up since last night. Stale salad. ( coleslaw). Wouldn't want to order ever again. Pathetic quality.\",\n",
       " 'I ordered salted fries and saucy fries, and they were really tasty! The salted fries were perfectly crispy, and the saucy ones were packed with flavor. Both came hot and fresh, with good portions. Definitely a great snack, and I’ll be ordering again!',\n",
       " \"I really loved the items I've ordered it was mouthwatering n never had such a delicious fries I request everyone to try this full Paisa wasool ❤️it thanks to all about chicken for this.. 😊\",\n",
       " 'I tried the salty and saucy fries, and they were delicious! The salty fries had a nice crunch. The portions were generous, and each bite was satisfying.',\n",
       " \"Incredibly delicious pizza! For a person who skips the crust, the sourdough bread is an absolute gamechanger. The dips provided are excellent as well. They also go the extra mile and add a adhesive tape to the bottom of the dips so that they don't move around during delivery. The packaging is also world class. It shows that the people in charge truly care about the entire experience, regardless of whether you're dining in or getting it delivered. Loved every bite! Will definitely recommend.\",\n",
       " \"It has a generous amount of cheese filled with so many veggies. $% If you like veggies then you must DEFINITELY try this pizza. It won't disappoint you :)\",\n",
       " \"It wasn't cooked well\",\n",
       " \"It's heaven..\",\n",
       " \"It's low calorie, full of protein yumminess in a bowl!! My go to meal when I am not in a mood to cook!\",\n",
       " \"It's really nice .\",\n",
       " 'Its very blend',\n",
       " 'Its very cold',\n",
       " 'Keep it up',\n",
       " 'Khameera should justify its name.. very little khameer in the pizza base and very very chewy.. just a big piece of maida  ! Cant expect authentic pizzas nearby.',\n",
       " 'Korean fried burger is a delight. Mouth watering. A must try for sure. Portion size is also good. Will order again very soon.',\n",
       " 'Looks lime they sent the leftover',\n",
       " 'Loved it! please maintain this quality and quantity. ',\n",
       " 'Loved the food! So filling and so satisfying',\n",
       " 'Mayonnaise daalte hai yeh log hai chew',\n",
       " 'Mid af',\n",
       " 'Nice and tasty',\n",
       " \"Not dry at all  $% Huge in size $% Taste exceeded my expectations  $% You might think it's expensive, but you'll get the value for your money. \",\n",
       " \"Not good this time.. Didn't like it\",\n",
       " 'OMG KFC killer ',\n",
       " 'One of the best Pizzas in NCR with magical dips to accompany, I keep coming back to this!',\n",
       " 'One of the best garlic breads!',\n",
       " 'One of the best pizza ever had',\n",
       " 'One of the few places that doesnt make you feel too heavy or sick. Yummy! Flavourful! Always on point.',\n",
       " 'Ordered 6 pieces of chicken, received 4 only.',\n",
       " 'Ordered for first time and Loved it. Very authentic taste. Cheese quality and veggies very tasty too',\n",
       " 'Ordered from Oombah, and the burgers and fries were really good! 😋 Everything was fresh, tasty, and arrived warm. Will order again for sure! 👍 #Burgers #Fries #Restaurant #Food #Dinner',\n",
       " 'Ordered triple cheese pizza and it was ok nothing special.',\n",
       " 'Outstanding. Hot. Fresh. Juicy. I added more jalapeños and they really added (not like other places when just 2/3 are added and charged so much) loved it.. other restaurants must learn how to serve food from Khameera!',\n",
       " 'Overrated! Bread wasn’t the ‘sourdough’ promised, , cheese was meh, and—surprise!—plastic in the slice. Props for presentation, decent ingredients, but QC, where you at?',\n",
       " 'Paneer was not peri and was very hard',\n",
       " 'Perfect meal for one! Always super flavourful.',\n",
       " 'Pizza and cheese were excellent. Paneer topping was bland and cold. Otherwise it was too good :)',\n",
       " 'Pizza today terrible',\n",
       " \"Please don't order from here.\",\n",
       " 'Poor quality smelly packaging',\n",
       " 'Poor quality!',\n",
       " 'Portion size too small',\n",
       " 'Portion size was small as compared to earlier',\n",
       " 'Pretty average pizzas. Also, when you charge a thousand bucks for a pizza, maybe put more than one piece of pepperoni per slice.',\n",
       " 'Really well made!',\n",
       " 'Scrumptious!',\n",
       " 'Spilled potatoes, nothing left to eat. ',\n",
       " 'Suggest to put more toppings',\n",
       " 'Tasted good and fresh, but for me the quantity was less.',\n",
       " 'Tasty Peri Peri Pizza , I recommend to family and Friends to try .',\n",
       " 'Tasty... But the large amount of spice and lack of fibre is clearly shown in unpleasant ways the next day...',\n",
       " 'Tasty... but there are not many options for a balanced meal and that makes digestion hard...',\n",
       " \"Thank god I found this joint after many many years, was fed up eating the branded pizza's. \",\n",
       " 'The angara flavour is so good that its addictive!',\n",
       " \"The best Italian food I've ever had. I came all the way from Baroda and found out this gem. A big shoutout to the amazing chef and baking it to utmost perfection. The crust, the cheese, the sauce everything was just in perfect quantity.\",\n",
       " 'The best chicken tenders O have ever had. Delicious crunchy, soft inside and no oil on hands. Amazingly delicious.',\n",
       " 'The burger was soft and crisp. On-time delivery. Would like to try it again. ',\n",
       " 'The chicken has unique flavours and great blend. must try!!',\n",
       " 'The chicken was all burnt and the taste was awful same was the angara rice very bad :(',\n",
       " 'The chicken was fresh, juicy and flavorful. the packaging quality is very good.',\n",
       " \"The food was excellent. Quality was great, timely delivery and flavours were unique. I would definitely recommend Khameera to everyone, and I've become a regular here now. \",\n",
       " 'The food was nice and tasty... However, it would be great if you had non spicy versions... Then I could eat this more often...',\n",
       " 'The food was spoiled and box leaking',\n",
       " 'The fried chicken is really good from ur place I would suggest to shake off the excess flour off the chicken as the end product is 60%flour and 40% chicken otherwise really good food',\n",
       " 'The fries were nice.  $% the garlic bread was a mistake, so hard to chew, it had this weird garlic filling inside and in the worst possible way it was a GARLIC ONLY BREAD.  $% This was my first time ordering from this place and has become the last time too. I would suggest you to not order garlic bread from here at all. ',\n",
       " 'The fries were very tasty and delicious.',\n",
       " 'The grilled Jamaican tangdis have become a staple at my home, always very flavourful, and perfectly cooked, every time. The packaging is also super impressive, and the food always makes for an awesome ordering in experience :D',\n",
       " 'The masala fries were delicious. Highly recommend!',\n",
       " 'The peri peri fries were truly so tasty and delicious😋.',\n",
       " 'The peri-peri fries were amazing! They arrived on time, hot, and perfectly crispy. The spicy flavor was just right, and the quantity was great. Everything was well-packed, making it a perfect snack. Highly recommend it!',\n",
       " 'The pizza has been improved from the last time I ordered and tasted very nice. The only problem is that the sauce is not evenly spread across the pizza and mostly accumulated on the sides.',\n",
       " 'The pizza was delicious ! Loved it !',\n",
       " 'The pizza was uncooked but GB was excellent',\n",
       " 'The quality of Cheese is amazing. The dips served along with the bread make this a completely different experience. You must try it once!',\n",
       " 'The restaurant did not follow the instructions on the order and the Indian Salsa feels misrepresented on the menu',\n",
       " 'The sauce was so good!',\n",
       " 'The saucy fries are really good ',\n",
       " \"The slider was seriously amazing, the best I've had in a while. Everyone needs to try these sliders.\",\n",
       " 'The taste is good however I received cold pizza',\n",
       " 'The taste of the place has deteriorated drastically. Would not recommend',\n",
       " \"The taste, the design & the flavoured sides were far better than Pizza Hut , Domino's etc. Reasonable cost & amazing presentation. Great going. thank you \",\n",
       " 'These chicken tenders were fantastic! The breading was perfectly crisp, and the chicken inside was juicy and flavorful. The spice level was spot-on, providing just the right amount of heat without being overwhelming. Highly recommend!',\n",
       " \"They've, very smartly, reduced the size. Not appreciable.\",\n",
       " \"This was my third or fourth time order. It became my fav restaurant by today's order was below average. Both pizzas were so dry and chicken strips was also not good. Why you power down your quality. Didn't expect. I was planning to invite guest and feed them your artisanal pizza but now I am canceling the plan. Sorry for this feedback team.\",\n",
       " 'Thoroughly impressed with the pizzas. no question needed. Worth every damn penny for such good food. Even under BOGO scheme the restaurant didnt skimp on being good cooks. Really impressed. Will definitely order next time and consider doing it regularly if restaurant maintains ethics and quality. Simply amazing.',\n",
       " 'Too good',\n",
       " 'Too good pizza crust. To die for. Lovely pizza and dips',\n",
       " 'Too much oily and chilly flakes and origano was missing. Taste was not good unlike earlier order',\n",
       " 'Too oily',\n",
       " 'Tried it for the first time! Earlier I was just ordering their garlic bread on repeat but this time I thought of trying their pizza.. Mazza aagya boss! ',\n",
       " 'Unbelievably delicious! Huge portions, hygienic preparation and even the condiments are super yummy',\n",
       " 'Unique taste, lavishly garnished, dips are a great addon',\n",
       " 'Usually love the food from here but it was so cold today was not eatable',\n",
       " 'Value for money amzaing',\n",
       " \"Very Average taste, inconsistent cooking. You can see the size of the 'big' piece chicken, and the amount of veggies. At the price of more than a kg of chicken this is extremely low value for money. Skip this branded j*** order a full Tandoori chicken instead.\",\n",
       " 'Very average pizza',\n",
       " 'Very bad packing',\n",
       " 'Very dry and tasteless',\n",
       " 'Very dry, cheese got hard.',\n",
       " 'Very good',\n",
       " 'Very heavy.',\n",
       " 'Very juicy chicken and hungry for more..  $% looking forward to order more.. great packaging too.. ',\n",
       " 'Very little jalapeño added :(',\n",
       " 'Very stiff and flavourless cheese. Very average pizza',\n",
       " 'Very tasty and mouth watering',\n",
       " 'Wanted to try some new place and this was a surprise. Awesome pizzas. The bread base is good and toppings are adequate.',\n",
       " 'We order from khameera regularly but this time pizza was cold not usual taste',\n",
       " 'We ordered the Amritsari Murgh Pizza and the Jamaican Jerk Melt. Both of these were absolutely fantastic!! The portion sizes are good and the taste is even better. The flavours were unique and yummy. The dip they served with it was also really nice. Can really see the effort the restaurant is putting into the food',\n",
       " 'Would be better if there is oregano and chili flakes',\n",
       " 'Would have liked to see more pieces of chicken on the pizza. Just 6 small pieces is too few. $%  $% Otherwise good.',\n",
       " 'Wow',\n",
       " 'Wow !! Taste was really delicious ....in fact much much better than KFC...everything was superb right from packaging to mouth watering taste ...highly recommended..',\n",
       " 'Wow it was so delicious',\n",
       " 'Wow.. Absolutely mind blowing.. I generally do not post reviews but this is really next level.. Hope they maintain the quality and quantity in the future as well! ',\n",
       " 'You guys impressed me with your chicken last time. You did it the second time today. Sending you lots of love 💕😘.',\n",
       " 'Yummiest food always!',\n",
       " 'Yummiestest pizza... 💋👌',\n",
       " 'Yummy food! Delicious food! Lip smacking food! Matlab super se bhi uper tha khaana!!!! Must try! Yeh nhi khaaya toh kuch nhi khaaya! The packaging, bun quality, meat quality everything was 10/10! Highly recommended!',\n",
       " 'Yummy pizzas....nice packing delightful texture and taste.',\n",
       " 'Yummy wummy',\n",
       " 'Yummy, Scrumptious bbq sauce and chicken ',\n",
       " 'add on- extra paneer - not fulfilled ',\n",
       " 'awesome',\n",
       " 'bad quality food',\n",
       " 'base uncooked, even after sharing images to restaurant, they outrightly neglected and talked rudely',\n",
       " 'best chicken ever!! must try!!',\n",
       " 'bland pizza',\n",
       " 'bun was slightly sweet. there should be an option for normal or sweet bun. Overall burger was amazing.',\n",
       " 'can be better.',\n",
       " \"chicken was supposed to be 250gms as asked from restaurant but doesn't look even 150gs\",\n",
       " 'chicken was un cooked and rotten',\n",
       " 'crispy and nice!',\n",
       " 'crunchy, juicy, spicy delicious!',\n",
       " 'cutlery too gab quality ',\n",
       " 'delicious sourdough pizza and garlic brea. the accompanying dips were also very nice.',\n",
       " 'delivery person takes lots of time ',\n",
       " 'everything is perfect $% the food, the packaging. Fantastic experience. $% thank you!',\n",
       " 'everything was good taste wise, packing, sent with good quantity of dip and chutney. ',\n",
       " 'excellent ',\n",
       " \"excellent food...great service...khameera is my family's all time favourite \",\n",
       " 'excellent taste and perfect packaging.. $% Will order more in future.. ',\n",
       " 'excellent taste, will definitely order more',\n",
       " 'food was cold',\n",
       " 'food was too delicious 😋 I loved it ',\n",
       " 'food was very cold .... portion was very less ... 319 rupee me kmse km chicken k portion jda to do yr .... ki ek bnde k pet bhr sake .... please improve your quantity',\n",
       " 'good burgers 😋🍔',\n",
       " 'good quality.',\n",
       " 'great pizza ',\n",
       " 'great pizzas, fantastic taste ',\n",
       " 'horrible mushroom pizza. mayo pizza and greasy.',\n",
       " 'i ordered two different orders thesecond time to see if it was it only one time or food is really good. but i found out that it was good only the first time . this time it was really bad, chicken jamacian was very just like regular peri oeri chicken , it was not juicy, it was burnt mostly. not worth the price. i am done with this restaurant.',\n",
       " 'it was fabulous ',\n",
       " 'it was nice ',\n",
       " \"it's more like Naan not pizzas\",\n",
       " 'last time we ordered the pizzas were great. The problem this time was that the pizza was smelling of the cardboard packaging which really ruined the experience. Something needs to be done about that. Also, the seekh kebabs in the pizza were not tasting right. ',\n",
       " 'loving it ,, ',\n",
       " 'many thanks for delivering the food when no one was due to heavy rains.  $% this is one of the best quality pizza I have eaten in gurgaon. pls keep the rates and quality same .thanks ',\n",
       " 'mushroom pizza was wowwww',\n",
       " 'nice quality ',\n",
       " 'nice 🍟👍',\n",
       " 'no cheese and no value for money',\n",
       " 'no extra cheese onpizza',\n",
       " 'no taste worst Chicken ',\n",
       " 'not a sourdough pizza but a regular one with very less veggies and garnish and cheese',\n",
       " 'not picking calls and not responding and now arguments that I cannot pick calls ..if you want to cancel the order pls go ahead ',\n",
       " 'not worth the price point at all. They should not sell something so basic at such premium prices.',\n",
       " 'one of the best Pizza brand  $% love their food',\n",
       " 'one of the best pizzas in the market.keep it up. ',\n",
       " 'one pizza was sent incorrect. instad of broccoli i recvd onion capsicum',\n",
       " 'packaging is bad. the pizza sticks to the box. ',\n",
       " 'packaging is good but the taste is avg and quantity is less  $% Focus on taste rather than packaging ',\n",
       " 'pizza was awesome',\n",
       " 'pizzas are not nice',\n",
       " 'please keep it up and ill be a regular customer',\n",
       " 'points for pizza that was good when delivered. usually   my experience with delivered pizza is avg at best. ',\n",
       " \"product was cold , dry . didn't enjoy \",\n",
       " 'quantity is less than expected from the box',\n",
       " 'really love pizza  $% maza aa gya ',\n",
       " 'restaurant sent only 1 pide, forgot to send Murg seekh pide',\n",
       " 'sent me the wrong order',\n",
       " 'so good taste!!!',\n",
       " 'tasty pizza and fresh toppings the white dip was amazing .. thank you will be great if u can also open take away so that we can experience your pizza directly out of the oven ..thank you ',\n",
       " 'the bageecha pizza and dips were delicious. $% the crust was amazing with crispy edges.',\n",
       " 'the base was hard, nothing special as a pizza as told by the ratings. Not a sourdough base as expected. Cheese and Tomato spread was also ordinary ',\n",
       " 'the base was so hard and difficult to chew. $% seemed it was not fermented properly.. $%  cheese was also low quality',\n",
       " \"the best chicken strips I've had in a very long time :)\",\n",
       " 'the chicken was with skin and tasted worsttt, we had to waste the entire chicken ',\n",
       " 'the food was lovely, and the packaging is amazing. The team listens to the instructions, and made sure that my order was well prepared',\n",
       " \"the pizzas feel very chewy. the cheese layer is very thick and dense. would suggest using less cheese to let the sauce's flavour shine. the cheeze itself is also feels very plasticy. also would suggest cutting the pizza properly before sending please. \",\n",
       " 'the size of the burger is an absolute joke. 400+ rupees for a burger with a virtually invisible meat patty. Never ordering again.',\n",
       " \"they don't follow your instructions\",\n",
       " \"they have changed their taste and quality. last 2-3 times, it's not tasting the same as before, no consistency.\",\n",
       " 'this is how the dish was delivered. toppings were all thrown off the bread',\n",
       " 'this is what I got! No one is taking the responsibility. neither Zomato nor the restaurant answering calls.',\n",
       " \"though I paid for extra pepperoni it wasn't added except that the food is amazing...I like the pizza bread and how you guys add chutney and papad to the order... different and it tastes amazing \",\n",
       " 'tomato base was absent. ',\n",
       " 'too spicy, but not marked in the menu ',\n",
       " 'too spicy. sounds like you have forgotten the amount of chili 🌶',\n",
       " 'undercooked',\n",
       " 'v good',\n",
       " 'very bad experience $% food portion was so small...even with discount it felt like being robbed...the portion size was like scrapes left of the main dish. $% The details written made it sound so scrumptious when actually it was worst than a toasted thin bread with some dhaniya $% very disappointed  $% ',\n",
       " 'very good',\n",
       " 'very good food!! really enjoyed!!',\n",
       " 'very good taste of Jamaican chicken and very well prepared. ',\n",
       " 'very good 👍😊. recommended.',\n",
       " 'very nice',\n",
       " 'very nice !! enjoyed',\n",
       " 'very nice food. crispy and delicious ',\n",
       " 'very nice sliders!! recommended!',\n",
       " 'very tasty and amazing pizzza we had. ',\n",
       " 'wish the restaurant would pack the pieces in foil, it would help maintain the moisture and the temperature of the food! ',\n",
       " 'wonderful😍',\n",
       " 'worst pizza ever.. not cooked properly.. waste of money',\n",
       " 'worst pizza. i ordered after seeing so many positive reviews and high rating. but it seems that most of the reviews are fake. $%  I ordered Bageecha pizza and Cheese pizza. both pizzas were very bad in taste.  $% This rate just not justify the quality they are providing. I would suggest to avoid ordering from here.',\n",
       " 'worth it best in taste ',\n",
       " 'would have given 5 stars but the non veg topping was not cooked on both sides and was therefore tasting partially uncooked',\n",
       " 'wow..just love it ',\n",
       " 'wrong delivery replaced after delay . pizza is too small for the price ',\n",
       " 'you have decreased the portion size',\n",
       " 'yummiest pizza i have eaten in a while'}"
      ]
     },
     "execution_count": 110,
     "metadata": {},
     "output_type": "execute_result"
    }
   ],
   "source": [
    "set(df.filter(pl.col('review').is_not_null())['review'])"
   ]
  },
  {
   "cell_type": "code",
   "execution_count": 111,
   "metadata": {},
   "outputs": [
    {
     "data": {
      "text/plain": [
       "{'Order: 1. Send extra dips.\\n2. Send extra Napkins.',\n",
       " 'Order: 402 Savitri ke sir. Extra angara sauce dressing side Rakho, khud pick kar lunga aur bahut kam spicy',\n",
       " 'Order: 7 packs of origanno and chilly flakes. Extra cheese. LESS SPICY. send extra cutlery',\n",
       " 'Order: Absolutely no cheese please',\n",
       " 'Order: Add ample marinara sauce in the pizza, it was very dry last time. Also, please add extra peri peri',\n",
       " 'Order: Add extra bbq and peri peri sauce',\n",
       " 'Order: Add extra broccoli and paneer',\n",
       " 'Order: Add extra dips',\n",
       " 'Order: Add extra onions and capsicums. please',\n",
       " 'Order: Add extra peri peri masala on top',\n",
       " \"Order: Add extra seekh. Everything should be fresh. Add all the dips otherwise I won't accept the order.\",\n",
       " 'Order: Add extra vinegar onions',\n",
       " 'Order: Add extra vinegar onions and sliced onions',\n",
       " 'Order: Add for fies extra and cheese dip (ordered 100times',\n",
       " 'Order: Add jalapeños nicely',\n",
       " 'Order: Add large pieces',\n",
       " 'Order: Add lots of vegetables and broccoli in pizza and make potatoes buttery.',\n",
       " 'Order: Add lots of vegetables and make it big in size with lots of mushrooms',\n",
       " 'Order: Add mashrrom in potato pizza please and make it crispy.',\n",
       " 'Order: Add more chicken',\n",
       " 'Order: Add mushrooms and jalapeno',\n",
       " \"Order: Add plastic stands on pizza as in delivery my pizza and pack it so it doesn't always gets destroyed\",\n",
       " 'Order: All BIG BREAST PIECES ONLY. GYM DIET. Thanks. No other pieces.',\n",
       " 'Order: Angara fried tenders',\n",
       " 'Order: Badiya baniyo brother please bohot bhukh hae',\n",
       " 'Order: Base Well Done Cooked Fully Properly',\n",
       " 'Order: Boss, ONLY SEND LEGS & THIGHS PEICES. I HATE Chicken Breast. Send Legs & Thighs ONLY. Dhanywad',\n",
       " 'Order: Both the pieces leg and thigh please.',\n",
       " \"Order: Brother please add extra filling I've paid extra for that.. thanks..\",\n",
       " 'Order: Brother please put extra chicken.. We just love your recipe..',\n",
       " 'Order: Can I get an extra piece pleaseee',\n",
       " \"Order: Can u please send one small coke if it's available there is no option to buy one in the menu. thanks\",\n",
       " 'Order: Can you make one of the peri peri chicken pizzas into a mushroom one',\n",
       " 'Order: Can you please make it more cheesy. and thick dough',\n",
       " 'Order: Can you please pack the pico separate from the rice? Thank you! :)',\n",
       " 'Order: Can you send some peri peri masala with the chicken strips ? Or just make it very spicy please ??',\n",
       " 'Order: Cheese kam mat karna',\n",
       " 'Order: Chicken dishes without skin please.',\n",
       " \"Order: Cook chicken properly.. make it soft..add extra cheese and DON'T add dhaniya on top of pizza\",\n",
       " 'Order: Cook chicken properly..make everything fresh',\n",
       " 'Order: Cook the meat well. LAST TIME IT WAS TOO OILY AND UNDERCOOKED.',\n",
       " 'Order: DO NOT SEND BREAST PIECE. \\nONLY THIGH',\n",
       " 'Order: Deliver hot and Give bigger piece and extra dip',\n",
       " 'Order: Do not add BROCOLLI in veg pizza',\n",
       " 'Order: Do not add baby corn and olives',\n",
       " \"Order: Don't add Mayonnaise in slaw, add curd or yogurt if possible.\",\n",
       " \"Order: Don't add any dips\",\n",
       " \"Order: Don't add bell peppers pleaeeeeee :)\",\n",
       " \"Order: Don't add dips\",\n",
       " \"Order: Don't add oil/butter\",\n",
       " \"Order: Don't add olives\",\n",
       " \"Order: Don't make it spicy\",\n",
       " \"Order: Don't make it spicy, this is for children.\",\n",
       " \"Order: Don't put any capsicum\",\n",
       " \"Order: Don't put any kind of capsicum, fatal allergy\",\n",
       " \"Order: Don't put tomato\",\n",
       " \"Order: Don't send the green chutney\",\n",
       " \"Order: Don't use any oil and butter\",\n",
       " 'Order: Dont send free item',\n",
       " 'Order: EXTRA EXTRA SPICY',\n",
       " 'Order: EXTRA GREEN CHILLIES ON MAKHNI PANEER, EXTRA GREEN CHILLIES EXTRA GREEN CHILLIES ON MAKHNI PANEER',\n",
       " 'Order: EXTRA MARINARA SAUCE IN BOTH PIZZAS PLEASE. THANKS.',\n",
       " 'Order: EXTRA SAUCY PLEASE',\n",
       " 'Order: EXTRA TOMATO SAUCE PLEASE',\n",
       " 'Order: Extra Cripsy , Extra dips',\n",
       " 'Order: Extra Dips',\n",
       " 'Order: Extra Garlic Aioli please.... Its super tasty',\n",
       " 'Order: Extra Spicy',\n",
       " 'Order: Extra cheese',\n",
       " 'Order: Extra garlic',\n",
       " 'Order: Extra marinara sauce',\n",
       " 'Order: Extra salt, cutlery and ketchup, also crispy fries',\n",
       " 'Order: Extra spicy',\n",
       " 'Order: Extra spicy please! Thank you!',\n",
       " 'Order: Extraaa Loaded with CHEESE!! Saucy',\n",
       " 'Order: Extrs Mushroom AND CHEESE. LESS SPICY. extra origanno and chilly flakes.',\n",
       " 'Order: FOOD SHOULD BE LOADED WITH SEEKH,CHEESE,JALAPEÑO',\n",
       " 'Order: Food should be FRESH!!!!',\n",
       " 'Order: Fresh hot pizza please',\n",
       " 'Order: Fresh pls and thank u',\n",
       " 'Order: Fresh pls will give 5 stars',\n",
       " 'Order: Fresh preparation only with good taste.',\n",
       " 'Order: Fresh tender chicken',\n",
       " 'Order: GREEN CHILLIES EXTRA in food. thank you!',\n",
       " 'Order: Get give a thigh piece for peri peri and a breast piece for the other.',\n",
       " 'Order: Give bigger piece',\n",
       " 'Order: Give extra fries and chicken garlic bread to taste (ordered 100times from you',\n",
       " 'Order: Give extra oregano and chilli flakes.',\n",
       " 'Order: Give fries and cheese dip (ordered 100 times and give hot',\n",
       " 'Order: Hello, thank you for the awesome pizzas. Please bake the pizza to well done.',\n",
       " 'Order: Hi, kindly no Breast piece, only thigh. Thank you',\n",
       " 'Order: Hot pizza extra cheese spicy needed',\n",
       " 'Order: I live cheese, please put more cheese, 5 star rating',\n",
       " 'Order: I love cheese, please put more cheese, 5 star rating',\n",
       " 'Order: I love the dips ! Pls add some extra',\n",
       " 'Order: I love your cheese, Do more cheese, 5 star Rating',\n",
       " 'Order: I love your cheese, Please put extra cheese on Pizza for me, 5 star rating',\n",
       " 'Order: If possible, give the leg and thigh quarter.',\n",
       " 'Order: If you can, please give leg piece in both! Thank you, you guys are amazing!',\n",
       " 'Order: Include extra tissues/napkins',\n",
       " 'Order: Include extra tissues/napkins and one disposable plate, if possible',\n",
       " 'Order: Instead of olives and Jalapeños can you please send garlic aioli. Make the bread crispy. Thank you.',\n",
       " 'Order: Jalapeños pl put nicely thanks',\n",
       " 'Order: Keep the base and sides as crispy as possible.',\n",
       " \"Order: Kindly add extra cheese on both the Pide's. thank you in advance!\",\n",
       " 'Order: Kindly add extra cheese on both units for the Kids. thank you!',\n",
       " 'Order: Kindly cook it well with spices. Thanks!',\n",
       " 'Order: Kindly do not add onion toppings in the pizza.',\n",
       " 'Order: Kindly make cheesy and add more veggies pls mushroom n baby corn n sauces',\n",
       " 'Order: Kindly make sure the chicken is fresh and veggies too. Will give 5 stars as always :)',\n",
       " 'Order: Kindly make them fresh loaded with cheese and sufficient for 5 people.  Thank you in advance!',\n",
       " 'Order: Kindly send cutlery and make it cheesy and hot and fresh and more paneer  and less spicy',\n",
       " \"Order: Last time I ordered the pizza it was all spilled. Just ensure it's properly packed and comes good\",\n",
       " 'Order: Last time it was dry.. pls add more cheese',\n",
       " 'Order: Leg piece please',\n",
       " 'Order: Legs only, Angara sauce',\n",
       " 'Order: Less cheese in garlic bread and more toppings',\n",
       " 'Order: Less mayo in Grilled burger plz.... put extra angara sauce in both burgers',\n",
       " 'Order: Less spicy',\n",
       " 'Order: Less spicy as possible..',\n",
       " \"Order: Less spicy or no spice please. And don't add mushroom to veg pizza\",\n",
       " 'Order: Less spicy, send culinary, extra spoon.',\n",
       " 'Order: Less tomato sauce please',\n",
       " 'Order: Lots of paneer and cheese. Thanks//',\n",
       " 'Order: Love jalapeño',\n",
       " 'Order: Make LESS Spicy and add some lemon and onion on side. NO CHILLI or MASALA',\n",
       " 'Order: Make food NONSPICY',\n",
       " 'Order: Make fresh n cheesy',\n",
       " 'Order: Make it cheesy',\n",
       " 'Order: Make it cheesy and hot with extra cheese',\n",
       " 'Order: Make it cheesy pls .and hot and send cutlery',\n",
       " 'Order: Make it extra cheesy, enhance garlic flavour. No onion, no chilli.',\n",
       " 'Order: Make it extra saucy',\n",
       " 'Order: Make it full cheesy',\n",
       " 'Order: Make it good will give 5 star.',\n",
       " 'Order: Make it heavy',\n",
       " 'Order: Make it less spicy',\n",
       " 'Order: Make it soft and juicy',\n",
       " 'Order: Make it spicy',\n",
       " 'Order: Make it spicy and crisp',\n",
       " 'Order: Make my bday special',\n",
       " 'Order: Make pizza Saucy & Cheezy. No Dry Edges. first trial order plz take care\\nwill review in my food blog',\n",
       " 'Order: Make sure there are veggies in good amount and cheese',\n",
       " 'Order: Make the Fries VERY SPICY and fresh',\n",
       " 'Order: Make the base Crisp.',\n",
       " 'Order: Make the pizza crispy, \\nput extra basils',\n",
       " 'Order: Make them extra spicy please',\n",
       " 'Order: NO BELL PEPPER  - NO JALAPEÑOS - NO TOMATO\\nADD CHEESE AND CARAMELISED ONIONS',\n",
       " 'Order: NO JALAPENO (allergic)\\nplease add caramelized onion instead of jalapeno. Thanks!',\n",
       " 'Order: NO LETTUCE AND NO JALAPEÑO IN BURGER PLEASE',\n",
       " 'Order: NO TOMATOES IN THE ANIMAL FRIES',\n",
       " 'Order: Need cutlery',\n",
       " 'Order: No Bell Peppers in Pizza',\n",
       " 'Order: No Chilli',\n",
       " 'Order: No Mustard Sauce in Burger',\n",
       " 'Order: No ONION RINGS in Burger!!!',\n",
       " 'Order: No ONIONS in Burger!!!',\n",
       " 'Order: No Tomato, no cheese please',\n",
       " 'Order: No bell pepper on the pizza',\n",
       " 'Order: No bell peppers',\n",
       " 'Order: No bell peppers on top',\n",
       " 'Order: No broccoli and babycorn',\n",
       " 'Order: No capsicum or bell pepper in all the food. Highly allergic.',\n",
       " 'Order: No chilli please :)',\n",
       " 'Order: No chills & less salt',\n",
       " 'Order: No ghost pepper!',\n",
       " 'Order: No green chillies on the pizza, put it on the side',\n",
       " 'Order: No jalapeños',\n",
       " 'Order: No mushrooms in any pizza',\n",
       " 'Order: No mushrooms, no capsicum',\n",
       " 'Order: No mushrooms. Add extra cheese and vegetables please, last day in this city for another year :)',\n",
       " 'Order: No mushrooms. Extra onions',\n",
       " 'Order: No olives and bell peppers in garlic bread',\n",
       " 'Order: No onion',\n",
       " 'Order: No onions',\n",
       " 'Order: No onions capsicum jalapeños in pizzas please',\n",
       " 'Order: No onions in pizza. thanks',\n",
       " 'Order: No onions please',\n",
       " 'Order: No oregano !!!!! Send oregano satchets',\n",
       " 'Order: No raw onions',\n",
       " 'Order: No raw vegetables please',\n",
       " 'Order: No tomato . No dairy . I  am highly allergic to both',\n",
       " 'Order: No tomato on pizza. Extra Chili flakes',\n",
       " 'Order: No tomatoes in burger number 1; no onions in Burger number 2; no cilantro in fries please',\n",
       " 'Order: No tomatoes in burger number 1;no cilantro in fries pleas',\n",
       " 'Order: No tomatoes in the fires',\n",
       " 'Order: No tomatoes or any veggies except onion in burger. I am allergic to',\n",
       " 'Order: No tomatoes,',\n",
       " 'Order: No tomotoes and lettuce in the burger',\n",
       " 'Order: No vegetables in anything if there is any incase',\n",
       " 'Order: Non spicy please',\n",
       " 'Order: Not spicy',\n",
       " 'Order: Not spicy only with salt',\n",
       " 'Order: Only leg thigh please',\n",
       " 'Order: Ordering first time.Kindly do not disappoint our guest. Please add green chutney.',\n",
       " 'Order: Ordering for the first time. Pls send the chicken hot and fresh. Its for guest.',\n",
       " \"Order: PLEASE DON'T ADD SPICE IN ANYTHING\",\n",
       " 'Order: PLEASE DONT ADD BROCOLI PLEASE',\n",
       " 'Order: PLEASE MAKE IT FRESH',\n",
       " 'Order: PLEASE MAKE SURE ITS A BIG PIECE. SUDDENLY YOU PEOPLE HAVE STOPPED WITH THE IDEAL QUARTER PIECES. :(',\n",
       " 'Order: PLEASE add extra veggies. Thank you',\n",
       " 'Order: PLEASE provide the dips on the side and not on top of the fries or else they will get soggy',\n",
       " 'Order: PLS COOK IN LESS OIL',\n",
       " 'Order: PLS MAKE HOT AND FRESH',\n",
       " 'Order: Please Pack Sauce seperately. Thank You.',\n",
       " 'Order: Please Send Disposable Plates,Oregano & Lots Of Tissues',\n",
       " 'Order: Please acha banakar bhejna extra cheesy',\n",
       " 'Order: Please add extra cheese and olive oil',\n",
       " 'Order: Please add extra cheese. Last time there was No extra cheese',\n",
       " 'Order: Please add extra pepperoni in pizza',\n",
       " 'Order: Please add extra pepperoni in the pide',\n",
       " 'Order: Please add extra vegetables. Thanks.',\n",
       " 'Order: Please add extra veggies on both pizzas. Thank you!!',\n",
       " 'Order: Please add lots of toppings and extra cheese on both the pizzas. Please give ketchup sachets.',\n",
       " 'Order: Please add more cheese!!!!',\n",
       " 'Order: Please add some green leaves',\n",
       " 'Order: Please add some veggies to both pizzas. Thank you!',\n",
       " 'Order: Please add vegetables also in the pizza',\n",
       " 'Order: Please be generous with the chicken and send extra dips',\n",
       " 'Order: Please both make it with less cheese',\n",
       " 'Order: Please cook in very less oil , Please ensure the chicken is cooked well and quantity is good',\n",
       " 'Order: Please cook in very very less oil , keep it healthy .',\n",
       " 'Order: Please cook the chicken with the least possible ghee, oil, butter',\n",
       " 'Order: Please cook thebfarlic breads properly',\n",
       " 'Order: Please cook well. Thankyou',\n",
       " 'Order: Please deliver fast as possible',\n",
       " 'Order: Please deliver it fast as possible',\n",
       " 'Order: Please do not add chilli',\n",
       " 'Order: Please do not add chillies',\n",
       " 'Order: Please do not add corns',\n",
       " 'Order: Please do not add green chillies. Medium spicy',\n",
       " 'Order: Please do not add mushrooms if you do as we are allergic.',\n",
       " 'Order: Please do not add onions and garlic! call 8011811100 if unavoidable. thank you',\n",
       " 'Order: Please do not add raw onion in any of the items.',\n",
       " 'Order: Please do not add salsa.',\n",
       " 'Order: Please do not make it chewy, make it tender and juicy but cooked properly thankyou',\n",
       " \"Order: Please don't add any chilli in the pizza sauce . It's for the kid\",\n",
       " \"Order: Please don't add broccoli to the bageecha pizza\",\n",
       " \"Order: Please don't add capsicum or bell peppers in any pizza. I'm allergic\",\n",
       " \"Order: Please don't add corn in the pizza. Thanks\",\n",
       " \"Order: Please don't add spice\",\n",
       " \"Order: Please don't make it spicy ( NO SPICY)\",\n",
       " \"Order: Please don't put Onions and garlic. If unavoidable plz write a note that it has garlic or Onions\",\n",
       " \"Order: Please don't put the Jamaican sauce\",\n",
       " \"Order: Please don't send the green chutney dip\",\n",
       " 'Order: Please dont add any capsicum have ALLERGY, add extra onion or tomato instead.',\n",
       " 'Order: Please dont put lettuce in the tenderloin burger! Please! :)',\n",
       " 'Order: Please ensure all items are FRESHLY made. Also, please add extra pizza sauce to the pizza base.',\n",
       " 'Order: Please ensure it is sourdough only. I am gluten intolerant and can only eat sourdough odrwise alle',\n",
       " 'Order: Please ensure the pizza and fries are hot',\n",
       " 'Order: Please ensure there are no mushrooms on veg pizza. Also less spicy please',\n",
       " 'Order: Please ensure there is no maida or wheat as i am gluten intolerant. Cornflour is ok.',\n",
       " 'Order: Please give Antara rice without salsa',\n",
       " 'Order: Please give Breast Piece.',\n",
       " 'Order: Please give a thigh and a breast piece',\n",
       " 'Order: Please give big pieces of chicken for both the items.',\n",
       " 'Order: Please give breast piece.',\n",
       " 'Order: Please give breast piece. .',\n",
       " 'Order: Please give cutlery',\n",
       " 'Order: Please give extra garlic dip. Thanks!',\n",
       " 'Order: Please give freshly cooked chicken',\n",
       " 'Order: Please give green chutney and onions',\n",
       " 'Order: Please give hot pizza. Request you to provide hot pizza.',\n",
       " 'Order: Please give leg and thigh piece. Greatly appreciated',\n",
       " 'Order: Please give leg piece quarter, not chicken breast, and grill the vegetables a little more time.',\n",
       " 'Order: Please give leg piece, please DO NOT give breast piece',\n",
       " 'Order: Please give only leg and thigh piece. Greatly appreciated',\n",
       " 'Order: Please give red sauceee and extraa masalaa pleaseee',\n",
       " 'Order: Please give thigh and leg , not breast',\n",
       " 'Order: Please give thigh piece for peri peri and breast piece for the smoky bbq',\n",
       " 'Order: Please give us the leg piece quarter in both properly cooked, Not the chicken breast and wing part.',\n",
       " 'Order: Please give us the leg piece quarter in both, Not the chicken breast and wing part. Thankyou.',\n",
       " 'Order: Please give us the leg piece quarters in both, Not the chicken breast and wing part. Thankyou.',\n",
       " 'Order: Please give us the leg piece quarters in both, not the chicken breast and wing part. Thankyou.',\n",
       " 'Order: Please keep it plain',\n",
       " 'Order: Please keep spice level low',\n",
       " 'Order: Please keep the preparation Fresh and extra spicy \\nthanks',\n",
       " 'Order: Please make Jamaican Pizza LESS Spicy.',\n",
       " 'Order: Please make burger extra spicy',\n",
       " 'Order: Please make fresh',\n",
       " 'Order: Please make fresh and less spicy',\n",
       " 'Order: Please make good pizzas... hope quality remain best irrespective of one plus one offer.',\n",
       " 'Order: Please make it cheesy.',\n",
       " 'Order: Please make it cheesy. And give extra garlic aioli.',\n",
       " 'Order: Please make it extra cheesy and crispy and send dip',\n",
       " 'Order: Please make it extra flavourful and Juciy and send extra condiments if possible thanks:)',\n",
       " 'Order: Please make it extra flavourful and Juciy, send extra condiments if possible thanks:) send cutlery',\n",
       " 'Order: Please make it extra spicy! Thank you!',\n",
       " 'Order: Please make it fresh',\n",
       " 'Order: Please make it fresh and good. Please add cheese. Please add extra cheese!! Please add extra cheese!',\n",
       " 'Order: Please make it fresh and good. Please send fresh. Please add extra cheese and make it soft! Please!!',\n",
       " 'Order: Please make it fresh and send proper quantity',\n",
       " 'Order: Please make it less spicy :)',\n",
       " \"Order: Please make it plain. Don't put any spice powder also on top of it. Order is for child\",\n",
       " 'Order: Please make it really tasty',\n",
       " 'Order: Please make it spicy',\n",
       " 'Order: Please make it spicy and juicy and please send extra origano and chilli flakes.',\n",
       " 'Order: Please make it well as this order is for a food vlog! Thank you :).',\n",
       " 'Order: Please make spicy, no mustard at all. No mustard',\n",
       " 'Order: Please make sure it is freshly prepared',\n",
       " 'Order: Please make sure it is hot and crispy',\n",
       " \"Order: Please make sure it's a leg piece\",\n",
       " \"Order: Please make sure it's fresh and well prepared.\",\n",
       " 'Order: Please make sure the chicken is not dry.',\n",
       " 'Order: Please make sure the chicken is not dry. It has been dry for the last 2 orders',\n",
       " 'Order: Please make sure the chicken is not dry. It has been dry for the last 2 orders.',\n",
       " 'Order: Please make the burger spicy and some extra sauce',\n",
       " 'Order: Please make the experience count. Thank you',\n",
       " 'Order: Please make the food less oil, ghee, butter and less masala',\n",
       " 'Order: Please make the garlic bread fresh',\n",
       " 'Order: Please make the makhani panner as less spicy as possible. No green chilli.',\n",
       " 'Order: Please make the pizza a little more crispy from the crust and give extra tomato sauce if possible',\n",
       " 'Order: Please make the pizzas crispy.',\n",
       " 'Order: Please pack sauce and salsa separately.',\n",
       " \"Order: Please pack the fries and condiments separately so that it doesn't get soggy.\",\n",
       " 'Order: Please pack vegetables in a separate packaging. They get soggy in same package',\n",
       " 'Order: Please please make it NON SPICY. LNo mirchi, no lal mirchi. Please. I have severe reaction to it.',\n",
       " 'Order: Please please make it NON SPICY. No mirchi, no lal mirchi. Please. I have severe reaction to it.',\n",
       " 'Order: Please prepare in White sauce without onion without garlic',\n",
       " 'Order: Please provide both leg piece',\n",
       " 'Order: Please provide garlic aioli dip on the side instead of harissa.',\n",
       " 'Order: Please provide leg piece part',\n",
       " 'Order: Please put a lot of toppings',\n",
       " 'Order: Please put cheese generously :)',\n",
       " 'Order: Please put cheese properly',\n",
       " 'Order: Please put extra peri peri spice mix',\n",
       " 'Order: Please put very less oil',\n",
       " 'Order: Please replace the green sauce with white.',\n",
       " 'Order: Please request the delivery person to keep the boxes straight and not to tilt them. Thanks. :)',\n",
       " 'Order: Please send all dips',\n",
       " 'Order: Please send bigger pieces, the last time food was too less.',\n",
       " 'Order: Please send both leg thigh pieces only  send spicy sauce and cuttlery',\n",
       " 'Order: Please send breast piece',\n",
       " 'Order: Please send breast piece only',\n",
       " 'Order: Please send breast piece. Thanks you!',\n",
       " 'Order: Please send breast pieces only',\n",
       " 'Order: Please send cutlery',\n",
       " 'Order: Please send cutlery (SPOONS AND TISSUE) and dip',\n",
       " 'Order: Please send cutlery and a spoon!',\n",
       " 'Order: Please send extra dip',\n",
       " 'Order: Please send extra dips and condiments',\n",
       " 'Order: Please send extra ketchup or and special in house sauce if you can provide that and extra oregano',\n",
       " 'Order: Please send extra mayo',\n",
       " 'Order: Please send extra peri peri masala',\n",
       " 'Order: Please send extra seasoning and dips',\n",
       " 'Order: Please send extra seasoning.',\n",
       " 'Order: Please send extra tissue',\n",
       " 'Order: Please send extra tissues',\n",
       " 'Order: Please send extra tissues. Thank you.',\n",
       " 'Order: Please send fresh and good food',\n",
       " 'Order: Please send fresh and good garlic bread',\n",
       " 'Order: Please send fresh and good pepperoni',\n",
       " 'Order: Please send fresh chicken',\n",
       " 'Order: Please send fresh made please',\n",
       " 'Order: Please send leg pc and thigh pc only. Thank you',\n",
       " 'Order: Please send leg piece',\n",
       " 'Order: Please send leg pieces',\n",
       " 'Order: Please send leg thigh piece only.',\n",
       " 'Order: Please send mint chutney as well',\n",
       " 'Order: Please send oregano',\n",
       " 'Order: Please send plate spoon tissue',\n",
       " 'Order: Please send some chilie flakes and oregano',\n",
       " 'Order: Please send some extra oregano and chilli flakes',\n",
       " 'Order: Please send the dips along as well!',\n",
       " 'Order: Please send the fries separately from the sauce and non spicy burger please',\n",
       " 'Order: Please send thigh piece and make it more spicy/ masala. Use less oil/ butter.',\n",
       " 'Order: Please send tomato ketchup',\n",
       " 'Order: Please send your bill (restaurant bill) also',\n",
       " 'Order: Please swap the tomatoes with black olives. Please and Thank You',\n",
       " 'Order: Please use fresh items and add cheese generously',\n",
       " 'Order: Pls add enough paneer',\n",
       " 'Order: Pls add extra cheese and pepperoni! Jalapeño were too less last time',\n",
       " 'Order: Pls add extra pepperoni in the pizza',\n",
       " \"Order: Pls add lots of sauce and cheese and pack properly & pls ensure fries doesn't get soggy in transit\",\n",
       " \"Order: Pls don't make it spicy... No spice .. pls get 500 change\",\n",
       " 'Order: Pls ensure extra pepperoni and jalapeño with proper cheese base is there.. last time it was not ther',\n",
       " 'Order: Pls give a leg piece for the Jamaican chicken quarter thanks',\n",
       " 'Order: Pls give fresh and deliver it fast as possible, dont add chopped ginger please. Alergic',\n",
       " 'Order: Pls give leg and thigh piece',\n",
       " 'Order: Pls give leg piece in chicken and pls do not put bell peppers or capsicum in side vegetables thanks',\n",
       " 'Order: Pls make it crispy both of the things no mushroom and pls send some extra origano and flakes',\n",
       " 'Order: Pls make it fresh. Not sweet and not too spicy. Extra cheese',\n",
       " 'Order: Pls make it very tasty.',\n",
       " 'Order: Pls put cheese properly :)',\n",
       " 'Order: Pls send cutlery.',\n",
       " 'Order: Pls send extra lot of seasoning and condiments',\n",
       " 'Order: Plz add extra angara sauce in burger and indian salsa also, i love that too.....',\n",
       " 'Order: Plz give extra your special orange sauce instead of mayo and extra oregano!!',\n",
       " 'Order: Plz make it fresh nd cheesy, last time it was not',\n",
       " 'Order: Plz make sure mutton toppings  are good or else I will return the food back',\n",
       " 'Order: Plz put extra angara sauce and pico de galo in burger.',\n",
       " 'Order: Plz put extra angara sauce in both burgers & plz send some extra angara sauce along,we love it. Plz',\n",
       " 'Order: Plz send extra onion rings and green chutney......',\n",
       " \"Order: Put Happy Birthday Tag + Candle + Knife \\n\\nand please please don't put or stick price or bill\",\n",
       " 'Order: Put cheese properly',\n",
       " 'Order: Put extra sauce on pizza',\n",
       " 'Order: Put extra spice',\n",
       " 'Order: Put lots of cheeze',\n",
       " 'Order: Really excited to try animal fries',\n",
       " 'Order: SEE ADD ONS. Extra cheese and Extra meat',\n",
       " 'Order: SEND CUTLERY. \\n\\nPLS MAKE PANEER SPICY',\n",
       " 'Order: STRICTLY NO ONIONS OR GARLIC PLEASE.',\n",
       " 'Order: Send Hot and Fresh. Garam bhejna.',\n",
       " 'Order: Send Seasonings please',\n",
       " 'Order: Send all the dips',\n",
       " 'Order: Send both big pieces..( dont send leg pieces)',\n",
       " 'Order: Send both breast pieces ( big pieces)',\n",
       " 'Order: Send both breast pieces( big pieces) grilled properly.. send extra BBQ sauce instead of jamaican..',\n",
       " 'Order: Send both breast pieces. ( big pieces) and send extra BBQ sauce',\n",
       " 'Order: Send breast piece only',\n",
       " 'Order: Send breast piece.. big size and extra BBQ sauce',\n",
       " 'Order: Send extra BBQ sauce( full box) . Send thigh piece ( big piece) DO NOT SEND LEG',\n",
       " 'Order: Send extra cutlery',\n",
       " 'Order: Send extra paprika please',\n",
       " 'Order: Send extra red chilli flakes and oregano',\n",
       " 'Order: Send forks and tissues thanks',\n",
       " 'Order: Send hard copy of bill',\n",
       " \"Order: Send ketchup and seasoning .. more veggies and cheese . Cause it's my birthday\",\n",
       " 'Order: Send leg and thigh. Pls DO NOT SEND BREAST.  Any piece but not breast or chest.',\n",
       " 'Order: Send more of paper napkins.',\n",
       " 'Order: Send oregano pouches',\n",
       " 'Order: Serve fresh and hot pizza',\n",
       " 'Order: Serve hot. with chillies flakes and organo on side',\n",
       " 'Order: Strict veg due to medical allergy...pls be very careful with contamination thanks.',\n",
       " 'Order: Swap harissa mayo for cafreal sauce please',\n",
       " 'Order: Thank you :)',\n",
       " 'Order: Use LESS OIL please.',\n",
       " 'Order: Use less oil please',\n",
       " 'Order: VERY VERY LESS CHEESE',\n",
       " 'Order: VIP ORDER- PREPARE FRESH. MAKE CHICKEN CHARRED, JUICY AND TENDER. ENSURE GOOD PORTIONS! EXTRA SAUCES',\n",
       " 'Order: Very cheesy with lots of paneer. Thanks//',\n",
       " 'Order: Very cheesy. Thanks//',\n",
       " 'Order: Well done pizza',\n",
       " 'Order: Zero spice in Jamaican Chicken',\n",
       " 'Order: add extra cheese and pepperoni..make everything fresh',\n",
       " 'Order: add extra paneer',\n",
       " 'Order: add green chilly make SPICY',\n",
       " 'Order: add more vegetables in garlic bread and pide. keep the preparation fresh.',\n",
       " 'Order: add paneer extra',\n",
       " 'Order: add some sirka pyaz in it r normal onion',\n",
       " 'Order: animal fries less spicy',\n",
       " 'Order: breast piece please if possible',\n",
       " \"Order: can i taste coleslaw's\",\n",
       " 'Order: can you send harissa mayo instead of angara sauce with chicken angara tenders?',\n",
       " 'Order: cheese acche se daalna please, and crust pe thodi marinara sauce if possible, new year ke liye, thxx',\n",
       " 'Order: chicken give leg piece please',\n",
       " 'Order: cook chicken properly..make chicken soft.. make everything fresh',\n",
       " \"Order: cook chicken properly..make everything fresh and hot...nd don't add dhaniya on top of pizza\",\n",
       " \"Order: cook chicken properly..make it soft.. make everything fresh..nd don't add dhaniya on top of pizza\",\n",
       " 'Order: crispy and hot',\n",
       " \"Order: don't add any vegetables\",\n",
       " \"Order: don't add bell peppers and garlic, do not add them please\",\n",
       " \"Order: don't add bell peppers, green chillies, garlic, do not add them please\",\n",
       " \"Order: don't add green chillis\",\n",
       " \"Order: don't add green chutney dip in pizza box add one more of any orange or white dip in each pizza box\",\n",
       " \"Order: don't make it spicy\",\n",
       " \"Order: don't put onions\\n(pyaaz mat daalna please)\",\n",
       " \"Order: don't put onions on pizza\\n(pyaaz mat daalna pizza mein please)\",\n",
       " 'Order: dont make it spicy. Do not add jalapeno.',\n",
       " 'Order: extra cheese',\n",
       " 'Order: extra cheese please thank you',\n",
       " 'Order: extra chicken please, need to hit protein goal',\n",
       " \"Order: extra chilli sauce please. it's really good.\",\n",
       " 'Order: extra crispy fries and add garlic aioli please',\n",
       " 'Order: extra extra crispy fries',\n",
       " 'Order: extra marinara sauce on base',\n",
       " 'Order: extra marinara sauce on base and extra makhani sauce on base',\n",
       " 'Order: extra marinara sauce on base for both',\n",
       " 'Order: extra oregano and chilli flakes',\n",
       " 'Order: extra oreganos please',\n",
       " 'Order: extra spicy',\n",
       " 'Order: extra spicy please',\n",
       " 'Order: extra spicy pls. thank you',\n",
       " 'Order: first order from you guys so prepare well and load it with cheese so I will review with pics thanks',\n",
       " 'Order: fresh call',\n",
       " 'Order: fresh call and only leg thigh pls',\n",
       " 'Order: fresh call fresh chicken',\n",
       " 'Order: give extra origano and try to make it more cheezy',\n",
       " 'Order: give fresh pizzas!',\n",
       " 'Order: give green chutney with the potatoes plssss',\n",
       " 'Order: grill, well done',\n",
       " 'Order: i want extra napkins cutlery etc\\n send the order in good quantity properly and not a burnt pizza .',\n",
       " \"Order: it's my birthday & it's my first order with you, hoping for a good experience.\",\n",
       " 'Order: kindly add extra Non-Veg Toppings and extra cheese on the Cheese pide for the kids. Thank you!',\n",
       " 'Order: kindly add extra non-veg toppings on both garlic breads. thank you!',\n",
       " 'Order: kindly make it fresh and nicely.',\n",
       " 'Order: kindly send extra oregano',\n",
       " 'Order: last time cheese bhut kam tha, plz make it cheese burst',\n",
       " 'Order: less oil less spicy',\n",
       " 'Order: less spicy',\n",
       " 'Order: less spicy please.',\n",
       " 'Order: less spicy pls',\n",
       " 'Order: less spicy pls. cook well properly grilled. fresh chicken. less spicy',\n",
       " 'Order: lots of paneer and cheese. Thanks//',\n",
       " 'Order: make burgers less spicy as kids will eat them',\n",
       " 'Order: make everything fresh..and with proper hygiene. thank you',\n",
       " 'Order: make everything spicy and send cutlery.',\n",
       " 'Order: make it cheesey',\n",
       " 'Order: make it extra crunchy',\n",
       " 'Order: make it juice and send extra origeno and chilli flakes send cutlery and bill also',\n",
       " 'Order: make the Fries VERY SPICY and give extra sauces',\n",
       " 'Order: make the chicken burger spicy like you guys made at the Explorer Club event.',\n",
       " 'Order: make.less spicy',\n",
       " 'Order: more malai',\n",
       " 'Order: no capsicum and bell peppers on pizza',\n",
       " 'Order: no capsicum. aka bell peppers',\n",
       " 'Order: no capsicum. aka bell peppers in thepizza\\nno capsicum no capsicum. no zero none. please and ty',\n",
       " 'Order: no cheese please',\n",
       " 'Order: no green chilli on bageecha please.',\n",
       " 'Order: no green chillies',\n",
       " 'Order: no green peppers/capsicum please.',\n",
       " 'Order: no mushroom strictly',\n",
       " 'Order: no mushrooms',\n",
       " 'Order: no tomatoes in the pizza',\n",
       " 'Order: non spicy',\n",
       " 'Order: oregano and chilli flakes extra please',\n",
       " 'Order: paneer should be in good quantity and please give extra dips',\n",
       " 'Order: pizza should be crispy',\n",
       " 'Order: please add MUSHROOM in pizza instead of extra paneer and add marinara/pizza sauce generously please',\n",
       " 'Order: please add angara sauce. if you can... please',\n",
       " 'Order: please add enough cheese and herbs seasoning. last time it was TOO less',\n",
       " 'Order: please add extra Peri Peri masala and make it CRISPY! Thank you!',\n",
       " 'Order: please add extra cheese and garlic in it',\n",
       " 'Order: please add extra vegetables',\n",
       " 'Order: please add generous amount of cheese, I am ordering for the first time, please make it memorable.',\n",
       " 'Order: please add good amount of pepperoni',\n",
       " 'Order: please add good amount of pizza base sauce on the pizza base.',\n",
       " 'Order: please add good big pcs',\n",
       " \"Order: please add mayonnaise with fries please my daughter really likes it please please it's a request\",\n",
       " 'Order: please add more nutella and chocolate chips on top.',\n",
       " 'Order: please add some green veggies',\n",
       " 'Order: please can you put less green chilli',\n",
       " 'Order: please do NOT add the ginger on anything',\n",
       " 'Order: please do not add capsicum and zucchini in any food item.heavily allergic to capscicum and zucchini.',\n",
       " 'Order: please do not send harisa Mayo send garlic aoli instead !!',\n",
       " \"Order: please don't add butter or cheese\",\n",
       " \"Order: please don't add green chilli\",\n",
       " 'Order: please ensure everything is fresh and hot.',\n",
       " 'Order: please ensure food is absolutely fresh. and ensure quantity',\n",
       " 'Order: please give everything fresh\\nand packaging good',\n",
       " 'Order: please give fresh and deliver it fast as possible. please.',\n",
       " 'Order: please give fresh and kindly pack properly... thank you!!',\n",
       " \"Order: please keep cheese and butter less and don't add mayo\",\n",
       " 'Order: please make PIZZA EXTRA CHEESY. some EXTRA GARLIC AIOLI would be much appreciated.',\n",
       " 'Order: please make all pizzas loaded with cheese and meat toppings thanks . trying you for the first time',\n",
       " 'Order: please make chicken very well cooked. I have an allergy.',\n",
       " 'Order: please make chicken well done. I have allergy.',\n",
       " 'Order: please make fresh',\n",
       " 'Order: please make it FRESH, and spicy. Thankyou.  :)',\n",
       " 'Order: please make it cheesy, soft and add more vegetables please',\n",
       " 'Order: please make it crispy',\n",
       " 'Order: please make it crispy and crunchy.',\n",
       " 'Order: please make it extra flavourful and juicy Thanks and send extra condiments if possible thanks:)',\n",
       " 'Order: please make it fresh with extra extra marinara sauce on the base.. and make it good .. thank you',\n",
       " 'Order: please make it spicy',\n",
       " 'Order: please make it well done and crisp. send 2 chilli oil dip please',\n",
       " 'Order: please make sure pizza is well done',\n",
       " 'Order: please make the chicken AS SPICY AS POSSIBLE.',\n",
       " 'Order: please make the order with as less ghee/oil/butter as possible.',\n",
       " 'Order: please pack carefully last time cheese was sticking to the box',\n",
       " 'Order: please pack this order properly',\n",
       " 'Order: please prepare fresh and give good quantity.',\n",
       " 'Order: please properly pack in good packing.\\nand send some cutlery. and disposal plates',\n",
       " 'Order: please provide cutlery',\n",
       " 'Order: please provide extra garlic mayo dip',\n",
       " 'Order: please provide the wing side piece not the leg piece.',\n",
       " 'Order: please put appropriate amount of toppings I am a regular',\n",
       " 'Order: please put less cheese. and send extra sauce.',\n",
       " 'Order: please put less peri peri',\n",
       " 'Order: please send a paper carry bag',\n",
       " 'Order: please send absolutely fresh',\n",
       " 'Order: please send change for 1000/-',\n",
       " \"Order: please send complimentary dip if possible.  I'm a regular customer of your restaurant\",\n",
       " 'Order: please send cutlery',\n",
       " 'Order: please send cutlery and tissues',\n",
       " 'Order: please send cutlery.',\n",
       " 'Order: please send extra chutney and tomato salsa',\n",
       " 'Order: please send extra dipping sauce!!! please',\n",
       " 'Order: please send extra oregano',\n",
       " 'Order: please send extra oregano and tissue',\n",
       " 'Order: please send extra salsa',\n",
       " 'Order: please send extreme hot out of the oven and fresh pizza since it is my birthday',\n",
       " \"Order: please send fresh n crispy and don't send green dip only others\",\n",
       " 'Order: please send hot and fresh pizza .. looking forward for a tasty pizza .. thank you',\n",
       " 'Order: please send in carry bag. it comes open might be hygiene issue',\n",
       " 'Order: please send it hot and extra origano',\n",
       " 'Order: please send lot of oregano and chilli flaxes',\n",
       " 'Order: please send mayonnaise in it. and extra fries I will give you 5 star rating',\n",
       " 'Order: please send one  leg portion  and one breast portion',\n",
       " 'Order: please send oregano',\n",
       " 'Order: please send plain rice nothing on top of it. dont put angara thing in rice plain rice only',\n",
       " 'Order: please send some extra chili flakes and oregano',\n",
       " 'Order: please sir can u give chicken breast piece',\n",
       " 'Order: please this time prepare or packed it in a way that it should be hot.',\n",
       " 'Order: please use FRESH INGREDIENTS ONLY & make PIZZA EXTRA CHEESY.',\n",
       " 'Order: please use fresh chicken. last time it was little smelly',\n",
       " 'Order: please write a letter \"Love you BUBU\" on both pizzas inside the upper layer of the box.\\n\\nThank you.',\n",
       " 'Order: pleasee send oregano and chilli flakes.last time no mushroom was there in the melt. ensure this time',\n",
       " 'Order: pls DONOT PUT OREGANO ON TOP.\\nPizza should ve very juicy and moist.',\n",
       " 'Order: pls ensure all items are fresh. thanks',\n",
       " 'Order: pls give green chutney too along with orange one thank you',\n",
       " 'Order: pls give me extra spoon and make fries crispy',\n",
       " \"Order: pls make sure it's fresh amd packed nicely\",\n",
       " 'Order: pls make the pizza spicy',\n",
       " 'Order: pls send cuttlery. the food should be fresh. nd not too spicy.',\n",
       " 'Order: pls send fries and toppings separately.',\n",
       " \"Order: plz don't burn the garlic bread\",\n",
       " 'Order: provide bell papers and oreganos',\n",
       " 'Order: put extra paneer',\n",
       " 'Order: put paneer extra',\n",
       " 'Order: put some cutlery along with order.',\n",
       " 'Order: send 3 extra plate and spoon',\n",
       " 'Order: send Xtra tissues and plates please!!',\n",
       " 'Order: send big pieces',\n",
       " 'Order: send breast pieces only just like last time',\n",
       " 'Order: send cutlery and send all the items hot n fresh.',\n",
       " 'Order: send extra cheese garlic bread',\n",
       " 'Order: send extra jalapeno and spicy harissa sauce',\n",
       " 'Order: send it fresh and hot to review otherwise no mayonnaise. last time was stale  fries & cold',\n",
       " 'Order: send leg pc pls',\n",
       " 'Order: send spoons',\n",
       " \"Order: send the order in good quantity fresh and don't forget to send extra napkins and cutlery with order.\",\n",
       " 'Order: send tissue and oregano extra',\n",
       " 'Order: send tissue papers, plates and cutlery',\n",
       " 'Order: special guest ke liye order kiya hai.. best bhejna',\n",
       " 'Order: spicy',\n",
       " 'Order: the 1/4 chicken should be a leg quarter.',\n",
       " 'Order: very less salt in the fries',\n",
       " 'Order: we have a mushroom allergy so replace mushroom with any other veggie',\n",
       " 'Order: well done pizza, easy on cheese, more chicken',\n",
       " 'Order: will pick up from the restaurant'}"
      ]
     },
     "execution_count": 111,
     "metadata": {},
     "output_type": "execute_result"
    }
   ],
   "source": [
    "set(df.filter(pl.col('instructions').is_not_null())['instructions'])"
   ]
  },
  {
   "cell_type": "code",
   "execution_count": 125,
   "metadata": {},
   "outputs": [
    {
     "name": "stdout",
     "output_type": "stream",
     "text": [
      "21321\n"
     ]
    },
    {
     "data": {
      "text/html": [
       "<div><style>\n",
       ".dataframe > thead > tr,\n",
       ".dataframe > tbody > tr {\n",
       "  text-align: right;\n",
       "  white-space: pre-wrap;\n",
       "}\n",
       "</style>\n",
       "<small>shape: (5, 29)</small><table border=\"1\" class=\"dataframe\"><thead><tr><th>restaurant_id</th><th>restaurant_name</th><th>subzone</th><th>city</th><th>order_id</th><th>order_placed_at</th><th>order_status</th><th>delivery</th><th>distance</th><th>items_in_order</th><th>instructions</th><th>discount_construct</th><th>bill_subtotal</th><th>packaging_charges</th><th>restaurant_discount_promo</th><th>restaurant_discount_others</th><th>gold_discount</th><th>brand_pack_discount</th><th>total</th><th>rating</th><th>review</th><th>cancellation_rejection_reason</th><th>restaurant_compensation_cancellation</th><th>restaurant_penalty_rejection</th><th>kpt_duration_minutes</th><th>rider_wait_time_minutes</th><th>order_ready_marked</th><th>customer_complaint_tag</th><th>customer_id</th></tr><tr><td>str</td><td>str</td><td>str</td><td>str</td><td>str</td><td>str</td><td>str</td><td>str</td><td>str</td><td>str</td><td>str</td><td>str</td><td>f64</td><td>f64</td><td>f64</td><td>f64</td><td>f64</td><td>f64</td><td>f64</td><td>f64</td><td>str</td><td>str</td><td>f64</td><td>f64</td><td>f64</td><td>f64</td><td>str</td><td>str</td><td>str</td></tr></thead><tbody><tr><td>&quot;20320607&quot;</td><td>&quot;Swaad&quot;</td><td>&quot;Sector 4&quot;</td><td>&quot;Delhi NCR&quot;</td><td>&quot;6168884918&quot;</td><td>&quot;11:38 PM, September 10 2024&quot;</td><td>&quot;Delivered&quot;</td><td>&quot;Zomato Delivery&quot;</td><td>&quot;3km&quot;</td><td>&quot;1 x Grilled Chicken Jamaican T…</td><td>null</td><td>&quot;40% off upto Rs.80&quot;</td><td>715.0</td><td>31.75</td><td>80.0</td><td>0.0</td><td>0.0</td><td>0.0</td><td>666.75</td><td>null</td><td>null</td><td>null</td><td>null</td><td>null</td><td>18.35</td><td>11.6</td><td>&quot;Correctly&quot;</td><td>null</td><td>&quot;5d6c2b96db963098bc69768bea504c…</td></tr><tr><td>&quot;20320607&quot;</td><td>&quot;Swaad&quot;</td><td>&quot;Sector 4&quot;</td><td>&quot;Delhi NCR&quot;</td><td>&quot;6170707559&quot;</td><td>&quot;11:34 PM, September 10 2024&quot;</td><td>&quot;Delivered&quot;</td><td>&quot;Zomato Delivery&quot;</td><td>&quot;2km&quot;</td><td>&quot;1 x Peri Peri Fries, 1 x Fried…</td><td>null</td><td>&quot;Flat Rs.175 off&quot;</td><td>1179.0</td><td>50.2</td><td>175.0</td><td>0.0</td><td>0.0</td><td>0.0</td><td>1054.2</td><td>null</td><td>null</td><td>null</td><td>null</td><td>null</td><td>16.95</td><td>3.6</td><td>&quot;Correctly&quot;</td><td>null</td><td>&quot;0781815deb4a10a574e9fee4fa0b86…</td></tr><tr><td>&quot;20320607&quot;</td><td>&quot;Swaad&quot;</td><td>&quot;Sector 4&quot;</td><td>&quot;Delhi NCR&quot;</td><td>&quot;6169375019&quot;</td><td>&quot;03:52 PM, September 10 2024&quot;</td><td>&quot;Delivered&quot;</td><td>&quot;Zomato Delivery&quot;</td><td>&quot;&lt;1km&quot;</td><td>&quot;1 x Bone in Peri Peri Grilled …</td><td>null</td><td>&quot;40% off upto Rs.80&quot;</td><td>310.0</td><td>11.5</td><td>80.0</td><td>0.0</td><td>0.0</td><td>0.0</td><td>241.5</td><td>null</td><td>null</td><td>null</td><td>null</td><td>null</td><td>14.05</td><td>12.2</td><td>&quot;Correctly&quot;</td><td>null</td><td>&quot;f93362f5ce5382657482d164e36818…</td></tr><tr><td>&quot;20320607&quot;</td><td>&quot;Swaad&quot;</td><td>&quot;Sector 4&quot;</td><td>&quot;Delhi NCR&quot;</td><td>&quot;6151677434&quot;</td><td>&quot;03:45 PM, September 10 2024&quot;</td><td>&quot;Delivered&quot;</td><td>&quot;Zomato Delivery&quot;</td><td>&quot;2km&quot;</td><td>&quot;1 x Fried Chicken Ghostbuster …</td><td>null</td><td>&quot;40% off upto Rs.80&quot;</td><td>620.0</td><td>27.0</td><td>80.0</td><td>0.0</td><td>0.0</td><td>0.0</td><td>567.0</td><td>4.0</td><td>null</td><td>null</td><td>null</td><td>null</td><td>19.0</td><td>3.3</td><td>&quot;Correctly&quot;</td><td>null</td><td>&quot;1ed226d1b8a5f7acee12fc1d667655…</td></tr><tr><td>&quot;20320607&quot;</td><td>&quot;Swaad&quot;</td><td>&quot;Sector 4&quot;</td><td>&quot;Delhi NCR&quot;</td><td>&quot;6167540897&quot;</td><td>&quot;03:04 PM, September 10 2024&quot;</td><td>&quot;Delivered&quot;</td><td>&quot;Zomato Delivery&quot;</td><td>&quot;2km&quot;</td><td>&quot;1 x Peri Peri Krispers, 1 x Fr…</td><td>null</td><td>&quot;40% off upto Rs.80&quot;</td><td>584.0</td><td>25.2</td><td>80.0</td><td>0.0</td><td>0.0</td><td>0.0</td><td>529.2</td><td>null</td><td>null</td><td>null</td><td>null</td><td>null</td><td>15.97</td><td>1.0</td><td>&quot;Correctly&quot;</td><td>null</td><td>&quot;d21a2ac6ea06b31cc3288ab20c4ef2…</td></tr></tbody></table></div>"
      ],
      "text/plain": [
       "shape: (5, 29)\n",
       "┌─────┬─────┬─────┬─────┬─────┬─────┬─────┬─────┬─────┬─────┬─────┬─────┬─────┬─────┬─────┬─────┬─────┬─────┬─────┬─────┬─────┬─────┬─────┬─────┬─────┬─────┬─────┬─────┬─────┐\n",
       "│ res ┆ res ┆ sub ┆ cit ┆ ord ┆ ord ┆ ord ┆ del ┆ dis ┆ ite ┆ ins ┆ dis ┆ bil ┆ pac ┆ res ┆ res ┆ gol ┆ bra ┆ tot ┆ rat ┆ rev ┆ can ┆ res ┆ res ┆ kpt ┆ rid ┆ ord ┆ cus ┆ cus │\n",
       "│ tau ┆ tau ┆ zon ┆ y   ┆ er_ ┆ er_ ┆ er_ ┆ ive ┆ tan ┆ ms_ ┆ tru ┆ cou ┆ l_s ┆ kag ┆ tau ┆ tau ┆ d_d ┆ nd_ ┆ al  ┆ ing ┆ iew ┆ cel ┆ tau ┆ tau ┆ _du ┆ er_ ┆ er_ ┆ tom ┆ tom │\n",
       "│ ran ┆ ran ┆ e   ┆ --- ┆ id  ┆ pla ┆ sta ┆ ry  ┆ ce  ┆ in_ ┆ cti ┆ nt_ ┆ ubt ┆ ing ┆ ran ┆ ran ┆ isc ┆ pac ┆ --- ┆ --- ┆ --- ┆ lat ┆ ran ┆ ran ┆ rat ┆ wai ┆ rea ┆ er_ ┆ er_ │\n",
       "│ t_i ┆ t_n ┆ --- ┆ str ┆ --- ┆ ced ┆ tus ┆ --- ┆ --- ┆ ord ┆ ons ┆ con ┆ ota ┆ _ch ┆ t_d ┆ t_d ┆ oun ┆ k_d ┆ f64 ┆ f64 ┆ str ┆ ion ┆ t_c ┆ t_p ┆ ion ┆ t_t ┆ dy_ ┆ com ┆ id  │\n",
       "│ d   ┆ ame ┆ str ┆     ┆ str ┆ _at ┆ --- ┆ str ┆ str ┆ er  ┆ --- ┆ str ┆ l   ┆ arg ┆ isc ┆ isc ┆ t   ┆ isc ┆     ┆     ┆     ┆ _re ┆ omp ┆ ena ┆ _mi ┆ ime ┆ mar ┆ pla ┆ --- │\n",
       "│ --- ┆ --- ┆     ┆     ┆     ┆ --- ┆ str ┆     ┆     ┆ --- ┆ str ┆ uct ┆ --- ┆ es  ┆ oun ┆ oun ┆ --- ┆ oun ┆     ┆     ┆     ┆ jec ┆ ens ┆ lty ┆ nut ┆ _mi ┆ ked ┆ int ┆ str │\n",
       "│ str ┆ str ┆     ┆     ┆     ┆ str ┆     ┆     ┆     ┆ str ┆     ┆ --- ┆ f64 ┆ --- ┆ t_p ┆ t_o ┆ f64 ┆ t   ┆     ┆     ┆     ┆ tio ┆ ati ┆ _re ┆ es  ┆ nut ┆ --- ┆ _ta ┆     │\n",
       "│     ┆     ┆     ┆     ┆     ┆     ┆     ┆     ┆     ┆     ┆     ┆ str ┆     ┆ f64 ┆ rom ┆ the ┆     ┆ --- ┆     ┆     ┆     ┆ n_r ┆ on_ ┆ jec ┆ --- ┆ es  ┆ str ┆ g   ┆     │\n",
       "│     ┆     ┆     ┆     ┆     ┆     ┆     ┆     ┆     ┆     ┆     ┆     ┆     ┆     ┆ o   ┆ rs  ┆     ┆ f64 ┆     ┆     ┆     ┆ eas ┆ can ┆ tio ┆ f64 ┆ --- ┆     ┆ --- ┆     │\n",
       "│     ┆     ┆     ┆     ┆     ┆     ┆     ┆     ┆     ┆     ┆     ┆     ┆     ┆     ┆ --- ┆ --- ┆     ┆     ┆     ┆     ┆     ┆ on  ┆ cel ┆ n   ┆     ┆ f64 ┆     ┆ str ┆     │\n",
       "│     ┆     ┆     ┆     ┆     ┆     ┆     ┆     ┆     ┆     ┆     ┆     ┆     ┆     ┆ f64 ┆ f64 ┆     ┆     ┆     ┆     ┆     ┆ --- ┆ …   ┆ --- ┆     ┆     ┆     ┆     ┆     │\n",
       "│     ┆     ┆     ┆     ┆     ┆     ┆     ┆     ┆     ┆     ┆     ┆     ┆     ┆     ┆     ┆     ┆     ┆     ┆     ┆     ┆     ┆ str ┆ --- ┆ f64 ┆     ┆     ┆     ┆     ┆     │\n",
       "│     ┆     ┆     ┆     ┆     ┆     ┆     ┆     ┆     ┆     ┆     ┆     ┆     ┆     ┆     ┆     ┆     ┆     ┆     ┆     ┆     ┆     ┆ f64 ┆     ┆     ┆     ┆     ┆     ┆     │\n",
       "╞═════╪═════╪═════╪═════╪═════╪═════╪═════╪═════╪═════╪═════╪═════╪═════╪═════╪═════╪═════╪═════╪═════╪═════╪═════╪═════╪═════╪═════╪═════╪═════╪═════╪═════╪═════╪═════╪═════╡\n",
       "│ 203 ┆ Swa ┆ Sec ┆ Del ┆ 616 ┆ 11: ┆ Del ┆ Zom ┆ 3km ┆ 1 x ┆ nul ┆ 40% ┆ 715 ┆ 31. ┆ 80. ┆ 0.0 ┆ 0.0 ┆ 0.0 ┆ 666 ┆ nul ┆ nul ┆ nul ┆ nul ┆ nul ┆ 18. ┆ 11. ┆ Cor ┆ nul ┆ 5d6 │\n",
       "│ 206 ┆ ad  ┆ tor ┆ hi  ┆ 888 ┆ 38  ┆ ive ┆ ato ┆     ┆ Gri ┆ l   ┆ off ┆ .0  ┆ 75  ┆ 0   ┆     ┆     ┆     ┆ .75 ┆ l   ┆ l   ┆ l   ┆ l   ┆ l   ┆ 35  ┆ 6   ┆ rec ┆ l   ┆ c2b │\n",
       "│ 07  ┆     ┆ 4   ┆ NCR ┆ 491 ┆ PM, ┆ red ┆ Del ┆     ┆ lle ┆     ┆ upt ┆     ┆     ┆     ┆     ┆     ┆     ┆     ┆     ┆     ┆     ┆     ┆     ┆     ┆     ┆ tly ┆     ┆ 96d │\n",
       "│     ┆     ┆     ┆     ┆ 8   ┆ Sep ┆     ┆ ive ┆     ┆ d   ┆     ┆ o   ┆     ┆     ┆     ┆     ┆     ┆     ┆     ┆     ┆     ┆     ┆     ┆     ┆     ┆     ┆     ┆     ┆ b96 │\n",
       "│     ┆     ┆     ┆     ┆     ┆ tem ┆     ┆ ry  ┆     ┆ Chi ┆     ┆ Rs. ┆     ┆     ┆     ┆     ┆     ┆     ┆     ┆     ┆     ┆     ┆     ┆     ┆     ┆     ┆     ┆     ┆ 309 │\n",
       "│     ┆     ┆     ┆     ┆     ┆ ber ┆     ┆     ┆     ┆ cke ┆     ┆ 80  ┆     ┆     ┆     ┆     ┆     ┆     ┆     ┆     ┆     ┆     ┆     ┆     ┆     ┆     ┆     ┆     ┆ 8bc │\n",
       "│     ┆     ┆     ┆     ┆     ┆ 10  ┆     ┆     ┆     ┆ n   ┆     ┆     ┆     ┆     ┆     ┆     ┆     ┆     ┆     ┆     ┆     ┆     ┆     ┆     ┆     ┆     ┆     ┆     ┆ 697 │\n",
       "│     ┆     ┆     ┆     ┆     ┆ 202 ┆     ┆     ┆     ┆ Jam ┆     ┆     ┆     ┆     ┆     ┆     ┆     ┆     ┆     ┆     ┆     ┆     ┆     ┆     ┆     ┆     ┆     ┆     ┆ 68b │\n",
       "│     ┆     ┆     ┆     ┆     ┆ 4   ┆     ┆     ┆     ┆ aic ┆     ┆     ┆     ┆     ┆     ┆     ┆     ┆     ┆     ┆     ┆     ┆     ┆     ┆     ┆     ┆     ┆     ┆     ┆ ea5 │\n",
       "│     ┆     ┆     ┆     ┆     ┆     ┆     ┆     ┆     ┆ an  ┆     ┆     ┆     ┆     ┆     ┆     ┆     ┆     ┆     ┆     ┆     ┆     ┆     ┆     ┆     ┆     ┆     ┆     ┆ 04c │\n",
       "│     ┆     ┆     ┆     ┆     ┆     ┆     ┆     ┆     ┆ T…  ┆     ┆     ┆     ┆     ┆     ┆     ┆     ┆     ┆     ┆     ┆     ┆     ┆     ┆     ┆     ┆     ┆     ┆     ┆ …   │\n",
       "│ 203 ┆ Swa ┆ Sec ┆ Del ┆ 617 ┆ 11: ┆ Del ┆ Zom ┆ 2km ┆ 1 x ┆ nul ┆ Fla ┆ 117 ┆ 50. ┆ 175 ┆ 0.0 ┆ 0.0 ┆ 0.0 ┆ 105 ┆ nul ┆ nul ┆ nul ┆ nul ┆ nul ┆ 16. ┆ 3.6 ┆ Cor ┆ nul ┆ 078 │\n",
       "│ 206 ┆ ad  ┆ tor ┆ hi  ┆ 070 ┆ 34  ┆ ive ┆ ato ┆     ┆ Per ┆ l   ┆ t   ┆ 9.0 ┆ 2   ┆ .0  ┆     ┆     ┆     ┆ 4.2 ┆ l   ┆ l   ┆ l   ┆ l   ┆ l   ┆ 95  ┆     ┆ rec ┆ l   ┆ 181 │\n",
       "│ 07  ┆     ┆ 4   ┆ NCR ┆ 755 ┆ PM, ┆ red ┆ Del ┆     ┆ i   ┆     ┆ Rs. ┆     ┆     ┆     ┆     ┆     ┆     ┆     ┆     ┆     ┆     ┆     ┆     ┆     ┆     ┆ tly ┆     ┆ 5de │\n",
       "│     ┆     ┆     ┆     ┆ 9   ┆ Sep ┆     ┆ ive ┆     ┆ Per ┆     ┆ 175 ┆     ┆     ┆     ┆     ┆     ┆     ┆     ┆     ┆     ┆     ┆     ┆     ┆     ┆     ┆     ┆     ┆ b4a │\n",
       "│     ┆     ┆     ┆     ┆     ┆ tem ┆     ┆ ry  ┆     ┆ i   ┆     ┆ off ┆     ┆     ┆     ┆     ┆     ┆     ┆     ┆     ┆     ┆     ┆     ┆     ┆     ┆     ┆     ┆     ┆ 10a │\n",
       "│     ┆     ┆     ┆     ┆     ┆ ber ┆     ┆     ┆     ┆ Fri ┆     ┆     ┆     ┆     ┆     ┆     ┆     ┆     ┆     ┆     ┆     ┆     ┆     ┆     ┆     ┆     ┆     ┆     ┆ 574 │\n",
       "│     ┆     ┆     ┆     ┆     ┆ 10  ┆     ┆     ┆     ┆ es, ┆     ┆     ┆     ┆     ┆     ┆     ┆     ┆     ┆     ┆     ┆     ┆     ┆     ┆     ┆     ┆     ┆     ┆     ┆ e9f │\n",
       "│     ┆     ┆     ┆     ┆     ┆ 202 ┆     ┆     ┆     ┆ 1 x ┆     ┆     ┆     ┆     ┆     ┆     ┆     ┆     ┆     ┆     ┆     ┆     ┆     ┆     ┆     ┆     ┆     ┆     ┆ ee4 │\n",
       "│     ┆     ┆     ┆     ┆     ┆ 4   ┆     ┆     ┆     ┆ Fri ┆     ┆     ┆     ┆     ┆     ┆     ┆     ┆     ┆     ┆     ┆     ┆     ┆     ┆     ┆     ┆     ┆     ┆     ┆ fa0 │\n",
       "│     ┆     ┆     ┆     ┆     ┆     ┆     ┆     ┆     ┆ ed… ┆     ┆     ┆     ┆     ┆     ┆     ┆     ┆     ┆     ┆     ┆     ┆     ┆     ┆     ┆     ┆     ┆     ┆     ┆ b86 │\n",
       "│     ┆     ┆     ┆     ┆     ┆     ┆     ┆     ┆     ┆     ┆     ┆     ┆     ┆     ┆     ┆     ┆     ┆     ┆     ┆     ┆     ┆     ┆     ┆     ┆     ┆     ┆     ┆     ┆ …   │\n",
       "│ 203 ┆ Swa ┆ Sec ┆ Del ┆ 616 ┆ 03: ┆ Del ┆ Zom ┆ <1k ┆ 1 x ┆ nul ┆ 40% ┆ 310 ┆ 11. ┆ 80. ┆ 0.0 ┆ 0.0 ┆ 0.0 ┆ 241 ┆ nul ┆ nul ┆ nul ┆ nul ┆ nul ┆ 14. ┆ 12. ┆ Cor ┆ nul ┆ f93 │\n",
       "│ 206 ┆ ad  ┆ tor ┆ hi  ┆ 937 ┆ 52  ┆ ive ┆ ato ┆ m   ┆ Bon ┆ l   ┆ off ┆ .0  ┆ 5   ┆ 0   ┆     ┆     ┆     ┆ .5  ┆ l   ┆ l   ┆ l   ┆ l   ┆ l   ┆ 05  ┆ 2   ┆ rec ┆ l   ┆ 362 │\n",
       "│ 07  ┆     ┆ 4   ┆ NCR ┆ 501 ┆ PM, ┆ red ┆ Del ┆     ┆ e   ┆     ┆ upt ┆     ┆     ┆     ┆     ┆     ┆     ┆     ┆     ┆     ┆     ┆     ┆     ┆     ┆     ┆ tly ┆     ┆ f5c │\n",
       "│     ┆     ┆     ┆     ┆ 9   ┆ Sep ┆     ┆ ive ┆     ┆ in  ┆     ┆ o   ┆     ┆     ┆     ┆     ┆     ┆     ┆     ┆     ┆     ┆     ┆     ┆     ┆     ┆     ┆     ┆     ┆ e53 │\n",
       "│     ┆     ┆     ┆     ┆     ┆ tem ┆     ┆ ry  ┆     ┆ Per ┆     ┆ Rs. ┆     ┆     ┆     ┆     ┆     ┆     ┆     ┆     ┆     ┆     ┆     ┆     ┆     ┆     ┆     ┆     ┆ 826 │\n",
       "│     ┆     ┆     ┆     ┆     ┆ ber ┆     ┆     ┆     ┆ i   ┆     ┆ 80  ┆     ┆     ┆     ┆     ┆     ┆     ┆     ┆     ┆     ┆     ┆     ┆     ┆     ┆     ┆     ┆     ┆ 574 │\n",
       "│     ┆     ┆     ┆     ┆     ┆ 10  ┆     ┆     ┆     ┆ Per ┆     ┆     ┆     ┆     ┆     ┆     ┆     ┆     ┆     ┆     ┆     ┆     ┆     ┆     ┆     ┆     ┆     ┆     ┆ 82d │\n",
       "│     ┆     ┆     ┆     ┆     ┆ 202 ┆     ┆     ┆     ┆ i   ┆     ┆     ┆     ┆     ┆     ┆     ┆     ┆     ┆     ┆     ┆     ┆     ┆     ┆     ┆     ┆     ┆     ┆     ┆ 164 │\n",
       "│     ┆     ┆     ┆     ┆     ┆ 4   ┆     ┆     ┆     ┆ Gri ┆     ┆     ┆     ┆     ┆     ┆     ┆     ┆     ┆     ┆     ┆     ┆     ┆     ┆     ┆     ┆     ┆     ┆     ┆ e36 │\n",
       "│     ┆     ┆     ┆     ┆     ┆     ┆     ┆     ┆     ┆ lle ┆     ┆     ┆     ┆     ┆     ┆     ┆     ┆     ┆     ┆     ┆     ┆     ┆     ┆     ┆     ┆     ┆     ┆     ┆ 818 │\n",
       "│     ┆     ┆     ┆     ┆     ┆     ┆     ┆     ┆     ┆ d … ┆     ┆     ┆     ┆     ┆     ┆     ┆     ┆     ┆     ┆     ┆     ┆     ┆     ┆     ┆     ┆     ┆     ┆     ┆ …   │\n",
       "│ 203 ┆ Swa ┆ Sec ┆ Del ┆ 615 ┆ 03: ┆ Del ┆ Zom ┆ 2km ┆ 1 x ┆ nul ┆ 40% ┆ 620 ┆ 27. ┆ 80. ┆ 0.0 ┆ 0.0 ┆ 0.0 ┆ 567 ┆ 4.0 ┆ nul ┆ nul ┆ nul ┆ nul ┆ 19. ┆ 3.3 ┆ Cor ┆ nul ┆ 1ed │\n",
       "│ 206 ┆ ad  ┆ tor ┆ hi  ┆ 167 ┆ 45  ┆ ive ┆ ato ┆     ┆ Fri ┆ l   ┆ off ┆ .0  ┆ 0   ┆ 0   ┆     ┆     ┆     ┆ .0  ┆     ┆ l   ┆ l   ┆ l   ┆ l   ┆ 0   ┆     ┆ rec ┆ l   ┆ 226 │\n",
       "│ 07  ┆     ┆ 4   ┆ NCR ┆ 743 ┆ PM, ┆ red ┆ Del ┆     ┆ ed  ┆     ┆ upt ┆     ┆     ┆     ┆     ┆     ┆     ┆     ┆     ┆     ┆     ┆     ┆     ┆     ┆     ┆ tly ┆     ┆ d1b │\n",
       "│     ┆     ┆     ┆     ┆ 4   ┆ Sep ┆     ┆ ive ┆     ┆ Chi ┆     ┆ o   ┆     ┆     ┆     ┆     ┆     ┆     ┆     ┆     ┆     ┆     ┆     ┆     ┆     ┆     ┆     ┆     ┆ 8a5 │\n",
       "│     ┆     ┆     ┆     ┆     ┆ tem ┆     ┆ ry  ┆     ┆ cke ┆     ┆ Rs. ┆     ┆     ┆     ┆     ┆     ┆     ┆     ┆     ┆     ┆     ┆     ┆     ┆     ┆     ┆     ┆     ┆ f7a │\n",
       "│     ┆     ┆     ┆     ┆     ┆ ber ┆     ┆     ┆     ┆ n   ┆     ┆ 80  ┆     ┆     ┆     ┆     ┆     ┆     ┆     ┆     ┆     ┆     ┆     ┆     ┆     ┆     ┆     ┆     ┆ cee │\n",
       "│     ┆     ┆     ┆     ┆     ┆ 10  ┆     ┆     ┆     ┆ Gho ┆     ┆     ┆     ┆     ┆     ┆     ┆     ┆     ┆     ┆     ┆     ┆     ┆     ┆     ┆     ┆     ┆     ┆     ┆ 12f │\n",
       "│     ┆     ┆     ┆     ┆     ┆ 202 ┆     ┆     ┆     ┆ stb ┆     ┆     ┆     ┆     ┆     ┆     ┆     ┆     ┆     ┆     ┆     ┆     ┆     ┆     ┆     ┆     ┆     ┆     ┆ c1d │\n",
       "│     ┆     ┆     ┆     ┆     ┆ 4   ┆     ┆     ┆     ┆ ust ┆     ┆     ┆     ┆     ┆     ┆     ┆     ┆     ┆     ┆     ┆     ┆     ┆     ┆     ┆     ┆     ┆     ┆     ┆ 667 │\n",
       "│     ┆     ┆     ┆     ┆     ┆     ┆     ┆     ┆     ┆ er  ┆     ┆     ┆     ┆     ┆     ┆     ┆     ┆     ┆     ┆     ┆     ┆     ┆     ┆     ┆     ┆     ┆     ┆     ┆ 655 │\n",
       "│     ┆     ┆     ┆     ┆     ┆     ┆     ┆     ┆     ┆ …   ┆     ┆     ┆     ┆     ┆     ┆     ┆     ┆     ┆     ┆     ┆     ┆     ┆     ┆     ┆     ┆     ┆     ┆     ┆ …   │\n",
       "│ 203 ┆ Swa ┆ Sec ┆ Del ┆ 616 ┆ 03: ┆ Del ┆ Zom ┆ 2km ┆ 1 x ┆ nul ┆ 40% ┆ 584 ┆ 25. ┆ 80. ┆ 0.0 ┆ 0.0 ┆ 0.0 ┆ 529 ┆ nul ┆ nul ┆ nul ┆ nul ┆ nul ┆ 15. ┆ 1.0 ┆ Cor ┆ nul ┆ d21 │\n",
       "│ 206 ┆ ad  ┆ tor ┆ hi  ┆ 754 ┆ 04  ┆ ive ┆ ato ┆     ┆ Per ┆ l   ┆ off ┆ .0  ┆ 2   ┆ 0   ┆     ┆     ┆     ┆ .2  ┆ l   ┆ l   ┆ l   ┆ l   ┆ l   ┆ 97  ┆     ┆ rec ┆ l   ┆ a2a │\n",
       "│ 07  ┆     ┆ 4   ┆ NCR ┆ 089 ┆ PM, ┆ red ┆ Del ┆     ┆ i   ┆     ┆ upt ┆     ┆     ┆     ┆     ┆     ┆     ┆     ┆     ┆     ┆     ┆     ┆     ┆     ┆     ┆ tly ┆     ┆ c6e │\n",
       "│     ┆     ┆     ┆     ┆ 7   ┆ Sep ┆     ┆ ive ┆     ┆ Per ┆     ┆ o   ┆     ┆     ┆     ┆     ┆     ┆     ┆     ┆     ┆     ┆     ┆     ┆     ┆     ┆     ┆     ┆     ┆ a06 │\n",
       "│     ┆     ┆     ┆     ┆     ┆ tem ┆     ┆ ry  ┆     ┆ i   ┆     ┆ Rs. ┆     ┆     ┆     ┆     ┆     ┆     ┆     ┆     ┆     ┆     ┆     ┆     ┆     ┆     ┆     ┆     ┆ b31 │\n",
       "│     ┆     ┆     ┆     ┆     ┆ ber ┆     ┆     ┆     ┆ Kri ┆     ┆ 80  ┆     ┆     ┆     ┆     ┆     ┆     ┆     ┆     ┆     ┆     ┆     ┆     ┆     ┆     ┆     ┆     ┆ cc3 │\n",
       "│     ┆     ┆     ┆     ┆     ┆ 10  ┆     ┆     ┆     ┆ spe ┆     ┆     ┆     ┆     ┆     ┆     ┆     ┆     ┆     ┆     ┆     ┆     ┆     ┆     ┆     ┆     ┆     ┆     ┆ 288 │\n",
       "│     ┆     ┆     ┆     ┆     ┆ 202 ┆     ┆     ┆     ┆ rs, ┆     ┆     ┆     ┆     ┆     ┆     ┆     ┆     ┆     ┆     ┆     ┆     ┆     ┆     ┆     ┆     ┆     ┆     ┆ ab2 │\n",
       "│     ┆     ┆     ┆     ┆     ┆ 4   ┆     ┆     ┆     ┆ 1 x ┆     ┆     ┆     ┆     ┆     ┆     ┆     ┆     ┆     ┆     ┆     ┆     ┆     ┆     ┆     ┆     ┆     ┆     ┆ 0c4 │\n",
       "│     ┆     ┆     ┆     ┆     ┆     ┆     ┆     ┆     ┆ Fr… ┆     ┆     ┆     ┆     ┆     ┆     ┆     ┆     ┆     ┆     ┆     ┆     ┆     ┆     ┆     ┆     ┆     ┆     ┆ ef2 │\n",
       "│     ┆     ┆     ┆     ┆     ┆     ┆     ┆     ┆     ┆     ┆     ┆     ┆     ┆     ┆     ┆     ┆     ┆     ┆     ┆     ┆     ┆     ┆     ┆     ┆     ┆     ┆     ┆     ┆ …   │\n",
       "└─────┴─────┴─────┴─────┴─────┴─────┴─────┴─────┴─────┴─────┴─────┴─────┴─────┴─────┴─────┴─────┴─────┴─────┴─────┴─────┴─────┴─────┴─────┴─────┴─────┴─────┴─────┴─────┴─────┘"
      ]
     },
     "execution_count": 125,
     "metadata": {},
     "output_type": "execute_result"
    }
   ],
   "source": [
    "id_columns = {x for x in df.columns if '_id' in x}\n",
    "\n",
    "# Re-create the df with each id column cast as string\n",
    "df_recast_ids = df.clone()\n",
    "\n",
    "for column in id_columns:\n",
    "    df_recast_ids = df_recast_ids.with_columns(\n",
    "        pl.col(column).cast(pl.Utf8).alias(column)\n",
    "    )\n",
    "\n",
    "assert len(df_recast_ids) == len(df)\n",
    "\n",
    "print(len(df_recast_ids))\n",
    "df_recast_ids.head()"
   ]
  },
  {
   "cell_type": "code",
   "execution_count": 126,
   "metadata": {},
   "outputs": [
    {
     "data": {
      "text/plain": [
       "{'07:36 PM, December 13 2024',\n",
       " '10:01 PM, September 26 2024',\n",
       " '04:09 PM, December 08 2024',\n",
       " '12:12 AM, September 07 2024',\n",
       " '02:46 AM, January 18 2025',\n",
       " '09:51 PM, September 24 2024',\n",
       " '07:20 PM, October 02 2024',\n",
       " '09:24 PM, October 04 2024',\n",
       " '09:08 PM, October 02 2024',\n",
       " '07:17 PM, October 31 2024',\n",
       " '01:09 PM, November 26 2024',\n",
       " '01:47 PM, October 03 2024',\n",
       " '08:56 PM, October 29 2024',\n",
       " '09:53 PM, January 18 2025',\n",
       " '03:35 PM, November 05 2024',\n",
       " '08:48 PM, December 28 2024',\n",
       " '05:54 PM, January 20 2025',\n",
       " '02:54 AM, October 19 2024',\n",
       " '10:21 PM, January 17 2025',\n",
       " '08:02 PM, September 02 2024',\n",
       " '11:02 PM, November 22 2024',\n",
       " '01:22 PM, October 12 2024',\n",
       " '03:12 PM, October 13 2024',\n",
       " '12:31 AM, September 23 2024',\n",
       " '08:31 PM, October 19 2024',\n",
       " '07:16 PM, October 14 2024',\n",
       " '11:01 PM, December 27 2024',\n",
       " '07:45 PM, January 26 2025',\n",
       " '11:52 AM, December 14 2024',\n",
       " '08:10 PM, September 28 2024',\n",
       " '11:05 PM, October 20 2024',\n",
       " '08:00 PM, October 10 2024',\n",
       " '10:11 PM, October 29 2024',\n",
       " '02:58 PM, January 28 2025',\n",
       " '09:02 PM, December 12 2024',\n",
       " '10:26 PM, December 19 2024',\n",
       " '12:42 PM, September 29 2024',\n",
       " '12:33 PM, September 26 2024',\n",
       " '05:12 PM, October 18 2024',\n",
       " '05:16 PM, October 25 2024',\n",
       " '12:40 PM, January 29 2025',\n",
       " '06:24 PM, November 18 2024',\n",
       " '08:07 PM, October 04 2024',\n",
       " '06:37 PM, October 20 2024',\n",
       " '01:17 PM, November 18 2024',\n",
       " '07:08 PM, December 26 2024',\n",
       " '08:06 PM, October 09 2024',\n",
       " '09:42 PM, November 28 2024',\n",
       " '10:11 PM, January 18 2025',\n",
       " '02:35 AM, September 07 2024',\n",
       " '12:20 AM, January 18 2025',\n",
       " '09:37 PM, October 02 2024',\n",
       " '10:38 PM, December 03 2024',\n",
       " '01:07 AM, October 20 2024',\n",
       " '09:54 PM, January 09 2025',\n",
       " '12:20 AM, October 07 2024',\n",
       " '03:50 PM, October 05 2024',\n",
       " '11:36 PM, January 07 2025',\n",
       " '04:46 PM, September 04 2024',\n",
       " '09:37 PM, October 05 2024',\n",
       " '10:36 PM, December 14 2024',\n",
       " '01:32 PM, September 01 2024',\n",
       " '09:07 PM, January 14 2025',\n",
       " '03:36 PM, January 25 2025',\n",
       " '12:41 AM, September 24 2024',\n",
       " '10:21 PM, September 01 2024',\n",
       " '04:32 PM, December 04 2024',\n",
       " '07:52 PM, September 05 2024',\n",
       " '09:18 PM, December 13 2024',\n",
       " '05:19 PM, November 23 2024',\n",
       " '02:31 PM, January 31 2025',\n",
       " '07:02 PM, December 20 2024',\n",
       " '11:27 PM, October 25 2024',\n",
       " '01:13 PM, December 02 2024',\n",
       " '01:49 PM, November 03 2024',\n",
       " '11:23 AM, December 15 2024',\n",
       " '04:08 PM, January 09 2025',\n",
       " '12:44 AM, January 10 2025',\n",
       " '10:21 PM, October 31 2024',\n",
       " '11:48 PM, November 11 2024',\n",
       " '12:33 AM, October 30 2024',\n",
       " '08:14 PM, January 01 2025',\n",
       " '03:44 PM, November 11 2024',\n",
       " '10:16 PM, November 28 2024',\n",
       " '12:21 PM, January 10 2025',\n",
       " '07:27 PM, January 19 2025',\n",
       " '12:41 PM, January 14 2025',\n",
       " '11:32 AM, January 14 2025',\n",
       " '05:47 PM, January 31 2025',\n",
       " '10:16 PM, September 07 2024',\n",
       " '01:54 AM, October 23 2024',\n",
       " '07:16 PM, October 04 2024',\n",
       " '08:20 PM, December 23 2024',\n",
       " '09:46 PM, January 14 2025',\n",
       " '07:06 PM, January 04 2025',\n",
       " '09:32 PM, September 22 2024',\n",
       " '08:22 PM, October 25 2024',\n",
       " '07:46 PM, October 26 2024',\n",
       " '12:35 PM, September 23 2024',\n",
       " '08:13 PM, January 11 2025',\n",
       " '01:42 PM, January 19 2025',\n",
       " '05:37 PM, November 10 2024',\n",
       " '10:53 PM, October 08 2024',\n",
       " '07:11 PM, November 02 2024',\n",
       " '03:01 PM, September 18 2024',\n",
       " '01:59 PM, November 10 2024',\n",
       " '09:11 PM, December 26 2024',\n",
       " '08:22 PM, December 17 2024',\n",
       " '02:06 AM, October 26 2024',\n",
       " '01:10 AM, October 04 2024',\n",
       " '01:34 PM, January 10 2025',\n",
       " '07:35 PM, December 18 2024',\n",
       " '08:39 PM, September 24 2024',\n",
       " '10:56 PM, December 12 2024',\n",
       " '02:48 PM, December 20 2024',\n",
       " '06:36 PM, October 16 2024',\n",
       " '08:43 PM, October 30 2024',\n",
       " '07:48 PM, November 07 2024',\n",
       " '03:14 PM, December 03 2024',\n",
       " '08:28 PM, September 06 2024',\n",
       " '01:34 AM, October 26 2024',\n",
       " '12:27 PM, December 13 2024',\n",
       " '02:31 PM, October 24 2024',\n",
       " '04:26 PM, December 25 2024',\n",
       " '04:46 PM, November 15 2024',\n",
       " '12:59 AM, December 27 2024',\n",
       " '05:04 PM, December 11 2024',\n",
       " '01:34 AM, January 02 2025',\n",
       " '10:01 PM, September 21 2024',\n",
       " '07:32 PM, January 31 2025',\n",
       " '11:10 AM, January 04 2025',\n",
       " '08:15 PM, January 22 2025',\n",
       " '10:00 PM, September 22 2024',\n",
       " '08:18 PM, September 26 2024',\n",
       " '10:27 PM, October 06 2024',\n",
       " '09:29 PM, October 01 2024',\n",
       " '07:38 PM, September 02 2024',\n",
       " '07:22 PM, September 20 2024',\n",
       " '10:32 PM, January 10 2025',\n",
       " '08:04 PM, October 17 2024',\n",
       " '04:57 PM, October 19 2024',\n",
       " '11:38 PM, September 22 2024',\n",
       " '11:08 PM, October 16 2024',\n",
       " '09:27 PM, January 07 2025',\n",
       " '12:01 AM, November 21 2024',\n",
       " '09:46 PM, November 06 2024',\n",
       " '09:29 PM, September 11 2024',\n",
       " '04:28 PM, December 08 2024',\n",
       " '07:27 PM, December 21 2024',\n",
       " '08:24 PM, November 15 2024',\n",
       " '06:23 PM, December 14 2024',\n",
       " '11:25 PM, December 17 2024',\n",
       " '11:04 PM, September 21 2024',\n",
       " '08:56 PM, November 26 2024',\n",
       " '07:51 PM, November 27 2024',\n",
       " '11:29 PM, December 24 2024',\n",
       " '09:55 PM, November 18 2024',\n",
       " '02:09 AM, December 01 2024',\n",
       " '03:18 PM, January 21 2025',\n",
       " '12:34 AM, November 28 2024',\n",
       " '12:06 PM, January 20 2025',\n",
       " '08:47 PM, September 08 2024',\n",
       " '08:19 PM, January 29 2025',\n",
       " '12:12 AM, January 31 2025',\n",
       " '02:58 AM, January 26 2025',\n",
       " '08:29 PM, November 17 2024',\n",
       " '03:43 AM, October 31 2024',\n",
       " '07:38 PM, December 25 2024',\n",
       " '08:39 PM, October 29 2024',\n",
       " '01:02 AM, October 31 2024',\n",
       " '07:38 PM, November 05 2024',\n",
       " '08:06 PM, January 12 2025',\n",
       " '03:29 PM, October 20 2024',\n",
       " '12:57 PM, December 05 2024',\n",
       " '09:01 PM, November 06 2024',\n",
       " '08:11 PM, November 23 2024',\n",
       " '07:31 PM, October 06 2024',\n",
       " '10:13 PM, January 18 2025',\n",
       " '09:48 PM, January 09 2025',\n",
       " '11:37 PM, October 31 2024',\n",
       " '05:19 PM, November 20 2024',\n",
       " '09:41 PM, October 29 2024',\n",
       " '11:09 AM, November 05 2024',\n",
       " '02:45 PM, December 30 2024',\n",
       " '04:11 PM, October 06 2024',\n",
       " '08:20 PM, January 13 2025',\n",
       " '05:20 PM, January 20 2025',\n",
       " '01:49 AM, October 12 2024',\n",
       " '05:23 PM, October 08 2024',\n",
       " '08:46 PM, November 09 2024',\n",
       " '02:20 AM, January 26 2025',\n",
       " '11:21 PM, September 09 2024',\n",
       " '07:59 PM, October 20 2024',\n",
       " '09:06 PM, December 13 2024',\n",
       " '06:32 PM, January 10 2025',\n",
       " '01:56 PM, January 04 2025',\n",
       " '09:18 PM, October 15 2024',\n",
       " '06:54 PM, January 23 2025',\n",
       " '04:46 PM, December 13 2024',\n",
       " '12:57 AM, January 18 2025',\n",
       " '10:45 PM, October 26 2024',\n",
       " '02:17 AM, January 26 2025',\n",
       " '01:44 PM, October 19 2024',\n",
       " '09:14 PM, September 19 2024',\n",
       " '03:44 PM, September 10 2024',\n",
       " '01:43 AM, December 13 2024',\n",
       " '07:29 PM, January 03 2025',\n",
       " '01:38 AM, October 16 2024',\n",
       " '08:56 PM, November 08 2024',\n",
       " '09:16 PM, November 15 2024',\n",
       " '07:53 PM, December 07 2024',\n",
       " '07:50 PM, November 15 2024',\n",
       " '12:57 AM, November 02 2024',\n",
       " '08:12 PM, October 20 2024',\n",
       " '10:35 PM, January 25 2025',\n",
       " '08:19 PM, December 13 2024',\n",
       " '02:28 AM, September 23 2024',\n",
       " '05:34 PM, January 01 2025',\n",
       " '05:28 PM, January 15 2025',\n",
       " '09:38 PM, October 26 2024',\n",
       " '08:46 PM, September 05 2024',\n",
       " '10:02 PM, September 20 2024',\n",
       " '07:00 PM, December 09 2024',\n",
       " '11:41 PM, December 20 2024',\n",
       " '08:19 PM, January 18 2025',\n",
       " '08:32 PM, October 30 2024',\n",
       " '01:14 PM, December 11 2024',\n",
       " '04:22 PM, September 15 2024',\n",
       " '09:36 PM, September 11 2024',\n",
       " '04:53 PM, December 14 2024',\n",
       " '06:49 PM, September 19 2024',\n",
       " '10:59 PM, January 07 2025',\n",
       " '06:46 PM, September 30 2024',\n",
       " '07:45 PM, October 06 2024',\n",
       " '09:09 PM, October 28 2024',\n",
       " '12:54 AM, November 15 2024',\n",
       " '08:10 PM, September 27 2024',\n",
       " '12:12 AM, December 27 2024',\n",
       " '03:05 AM, September 21 2024',\n",
       " '01:56 AM, September 17 2024',\n",
       " '07:00 PM, December 14 2024',\n",
       " '11:04 PM, November 20 2024',\n",
       " '07:44 PM, December 25 2024',\n",
       " '07:44 PM, October 05 2024',\n",
       " '09:16 PM, December 02 2024',\n",
       " '07:51 PM, September 03 2024',\n",
       " '10:07 PM, December 29 2024',\n",
       " '04:08 PM, October 23 2024',\n",
       " '07:43 PM, October 28 2024',\n",
       " '11:31 PM, September 10 2024',\n",
       " '12:37 AM, December 15 2024',\n",
       " '02:19 PM, November 10 2024',\n",
       " '05:47 PM, October 30 2024',\n",
       " '09:05 PM, October 05 2024',\n",
       " '12:23 PM, October 09 2024',\n",
       " '01:24 PM, November 23 2024',\n",
       " '01:24 PM, December 17 2024',\n",
       " '09:05 PM, January 01 2025',\n",
       " '03:31 PM, January 18 2025',\n",
       " '01:17 PM, September 19 2024',\n",
       " '10:12 PM, December 14 2024',\n",
       " '07:43 PM, January 05 2025',\n",
       " '09:43 PM, September 06 2024',\n",
       " '09:33 PM, October 04 2024',\n",
       " '12:43 PM, October 09 2024',\n",
       " '06:36 PM, November 16 2024',\n",
       " '11:09 AM, January 06 2025',\n",
       " '11:56 PM, January 31 2025',\n",
       " '01:24 AM, November 02 2024',\n",
       " '09:21 PM, November 08 2024',\n",
       " '04:29 PM, November 20 2024',\n",
       " '09:57 PM, January 09 2025',\n",
       " '12:40 AM, January 02 2025',\n",
       " '02:36 PM, November 12 2024',\n",
       " '11:39 PM, January 31 2025',\n",
       " '10:20 PM, October 01 2024',\n",
       " '01:34 AM, January 22 2025',\n",
       " '05:06 PM, December 05 2024',\n",
       " '05:14 PM, October 09 2024',\n",
       " '03:24 PM, September 28 2024',\n",
       " '07:25 PM, September 19 2024',\n",
       " '08:13 PM, December 03 2024',\n",
       " '02:41 PM, October 13 2024',\n",
       " '02:08 PM, December 04 2024',\n",
       " '12:52 AM, December 26 2024',\n",
       " '09:45 PM, November 23 2024',\n",
       " '11:01 PM, September 30 2024',\n",
       " '10:08 PM, September 04 2024',\n",
       " '02:29 AM, January 01 2025',\n",
       " '02:03 PM, January 18 2025',\n",
       " '09:25 PM, October 29 2024',\n",
       " '01:19 PM, October 06 2024',\n",
       " '01:10 AM, November 01 2024',\n",
       " '10:35 PM, October 14 2024',\n",
       " '07:32 PM, September 15 2024',\n",
       " '12:24 PM, January 17 2025',\n",
       " '02:26 AM, September 25 2024',\n",
       " '12:19 AM, January 31 2025',\n",
       " '05:16 PM, November 06 2024',\n",
       " '01:53 PM, October 17 2024',\n",
       " '12:35 PM, December 21 2024',\n",
       " '01:47 AM, October 29 2024',\n",
       " '12:42 PM, October 30 2024',\n",
       " '03:26 AM, December 01 2024',\n",
       " '11:53 PM, December 19 2024',\n",
       " '09:34 PM, January 06 2025',\n",
       " '07:35 PM, December 12 2024',\n",
       " '07:37 PM, November 27 2024',\n",
       " '11:27 PM, September 04 2024',\n",
       " '09:57 PM, December 25 2024',\n",
       " '01:21 PM, September 22 2024',\n",
       " '12:26 PM, October 21 2024',\n",
       " '09:09 PM, January 25 2025',\n",
       " '07:56 PM, December 31 2024',\n",
       " '02:17 PM, October 24 2024',\n",
       " '09:06 PM, September 14 2024',\n",
       " '11:04 AM, September 09 2024',\n",
       " '07:38 PM, October 01 2024',\n",
       " '12:17 AM, November 18 2024',\n",
       " '02:14 PM, November 12 2024',\n",
       " '01:29 AM, November 28 2024',\n",
       " '11:37 PM, November 27 2024',\n",
       " '04:16 PM, December 22 2024',\n",
       " '03:06 PM, November 30 2024',\n",
       " '01:46 PM, January 03 2025',\n",
       " '07:56 PM, January 14 2025',\n",
       " '08:23 PM, October 17 2024',\n",
       " '04:17 PM, December 14 2024',\n",
       " '02:38 AM, December 27 2024',\n",
       " '01:24 PM, January 31 2025',\n",
       " '12:54 AM, September 20 2024',\n",
       " '12:13 AM, September 05 2024',\n",
       " '12:47 AM, November 08 2024',\n",
       " '05:55 PM, January 08 2025',\n",
       " '12:57 AM, September 29 2024',\n",
       " '05:17 PM, October 02 2024',\n",
       " '09:06 PM, October 27 2024',\n",
       " '01:18 PM, December 20 2024',\n",
       " '09:39 PM, October 21 2024',\n",
       " '09:30 PM, October 17 2024',\n",
       " '07:52 PM, December 10 2024',\n",
       " '10:10 PM, October 01 2024',\n",
       " '03:06 AM, October 01 2024',\n",
       " '02:44 PM, October 17 2024',\n",
       " '02:54 PM, October 19 2024',\n",
       " '11:23 PM, January 01 2025',\n",
       " '08:11 PM, September 25 2024',\n",
       " '10:26 PM, January 18 2025',\n",
       " '05:28 PM, January 31 2025',\n",
       " '10:11 PM, December 24 2024',\n",
       " '06:22 PM, December 26 2024',\n",
       " '07:11 PM, January 14 2025',\n",
       " '08:10 PM, November 30 2024',\n",
       " '01:08 AM, December 28 2024',\n",
       " '08:30 PM, October 28 2024',\n",
       " '11:19 PM, November 22 2024',\n",
       " '04:15 PM, December 21 2024',\n",
       " '10:16 PM, January 28 2025',\n",
       " '11:07 PM, January 12 2025',\n",
       " '01:49 AM, December 29 2024',\n",
       " '03:04 AM, December 02 2024',\n",
       " '08:41 PM, January 17 2025',\n",
       " '04:02 PM, September 15 2024',\n",
       " '08:18 PM, January 14 2025',\n",
       " '07:45 PM, January 22 2025',\n",
       " '11:52 PM, November 14 2024',\n",
       " '08:12 PM, January 22 2025',\n",
       " '10:07 PM, November 27 2024',\n",
       " '07:04 PM, December 20 2024',\n",
       " '07:37 PM, October 06 2024',\n",
       " '11:31 AM, December 07 2024',\n",
       " '06:46 PM, October 17 2024',\n",
       " '07:35 PM, November 21 2024',\n",
       " '08:40 PM, September 05 2024',\n",
       " '10:51 PM, December 11 2024',\n",
       " '09:22 PM, January 09 2025',\n",
       " '07:21 PM, January 12 2025',\n",
       " '09:39 PM, December 12 2024',\n",
       " '01:55 PM, November 29 2024',\n",
       " '01:42 PM, October 03 2024',\n",
       " '01:59 PM, September 25 2024',\n",
       " '08:03 PM, October 15 2024',\n",
       " '03:46 AM, October 30 2024',\n",
       " '06:29 PM, December 13 2024',\n",
       " '02:17 AM, December 20 2024',\n",
       " '12:50 PM, October 20 2024',\n",
       " '02:43 PM, November 21 2024',\n",
       " '07:53 PM, September 30 2024',\n",
       " '05:25 PM, December 08 2024',\n",
       " '07:28 PM, January 06 2025',\n",
       " '10:27 PM, January 27 2025',\n",
       " '11:07 PM, January 19 2025',\n",
       " '11:17 AM, November 08 2024',\n",
       " '11:26 PM, November 24 2024',\n",
       " '02:16 AM, January 15 2025',\n",
       " '07:54 PM, November 30 2024',\n",
       " '03:36 PM, December 14 2024',\n",
       " '01:20 PM, November 09 2024',\n",
       " '03:23 PM, November 23 2024',\n",
       " '02:37 PM, January 19 2025',\n",
       " '02:02 PM, January 27 2025',\n",
       " '08:00 PM, January 01 2025',\n",
       " '04:16 PM, January 14 2025',\n",
       " '09:22 PM, November 25 2024',\n",
       " '12:21 AM, January 19 2025',\n",
       " '08:33 PM, January 18 2025',\n",
       " '04:12 PM, December 31 2024',\n",
       " '01:20 AM, December 30 2024',\n",
       " '08:32 PM, January 04 2025',\n",
       " '05:22 PM, November 20 2024',\n",
       " '02:08 PM, September 13 2024',\n",
       " '10:45 PM, October 02 2024',\n",
       " '09:05 PM, January 13 2025',\n",
       " '09:07 PM, November 03 2024',\n",
       " '07:16 PM, November 25 2024',\n",
       " '03:56 AM, December 21 2024',\n",
       " '02:46 AM, December 04 2024',\n",
       " '02:06 PM, December 26 2024',\n",
       " '07:44 PM, September 23 2024',\n",
       " '06:45 PM, September 11 2024',\n",
       " '05:24 PM, November 03 2024',\n",
       " '02:27 AM, November 19 2024',\n",
       " '09:21 PM, September 01 2024',\n",
       " '07:18 PM, October 13 2024',\n",
       " '03:35 AM, October 18 2024',\n",
       " '02:46 AM, January 08 2025',\n",
       " '03:18 AM, September 01 2024',\n",
       " '12:05 AM, January 02 2025',\n",
       " '01:31 PM, January 13 2025',\n",
       " '05:52 PM, November 14 2024',\n",
       " '02:59 AM, November 13 2024',\n",
       " '12:32 PM, December 30 2024',\n",
       " '08:22 PM, September 04 2024',\n",
       " '09:09 PM, December 04 2024',\n",
       " '07:42 PM, October 01 2024',\n",
       " '10:20 PM, January 13 2025',\n",
       " '09:18 PM, September 19 2024',\n",
       " '11:55 PM, December 18 2024',\n",
       " '07:07 PM, November 27 2024',\n",
       " '08:43 PM, November 10 2024',\n",
       " '01:18 AM, December 20 2024',\n",
       " '02:07 AM, December 25 2024',\n",
       " '06:36 PM, September 09 2024',\n",
       " '12:40 PM, September 07 2024',\n",
       " '11:46 PM, December 03 2024',\n",
       " '11:11 PM, January 31 2025',\n",
       " '12:38 AM, September 07 2024',\n",
       " '12:03 PM, December 26 2024',\n",
       " '12:39 PM, September 06 2024',\n",
       " '07:59 PM, September 17 2024',\n",
       " '05:27 PM, November 27 2024',\n",
       " '11:02 PM, January 20 2025',\n",
       " '12:36 AM, December 08 2024',\n",
       " '11:10 PM, December 14 2024',\n",
       " '03:51 PM, November 30 2024',\n",
       " '06:46 PM, January 08 2025',\n",
       " '02:57 PM, January 10 2025',\n",
       " '10:20 PM, January 03 2025',\n",
       " '11:22 PM, January 22 2025',\n",
       " '06:08 PM, January 03 2025',\n",
       " '11:25 PM, January 17 2025',\n",
       " '09:54 PM, January 25 2025',\n",
       " '10:51 PM, January 01 2025',\n",
       " '09:15 PM, December 28 2024',\n",
       " '10:34 PM, September 04 2024',\n",
       " '09:48 PM, January 17 2025',\n",
       " '05:30 PM, September 19 2024',\n",
       " '11:00 PM, December 02 2024',\n",
       " '05:20 PM, December 16 2024',\n",
       " '07:43 PM, November 03 2024',\n",
       " '07:20 PM, September 14 2024',\n",
       " '09:16 PM, November 19 2024',\n",
       " '12:46 PM, December 02 2024',\n",
       " '02:52 PM, September 06 2024',\n",
       " '07:39 PM, September 02 2024',\n",
       " '01:11 PM, October 17 2024',\n",
       " '12:13 AM, November 04 2024',\n",
       " '07:10 PM, January 28 2025',\n",
       " '03:16 PM, December 14 2024',\n",
       " '05:18 PM, January 14 2025',\n",
       " '03:19 AM, October 29 2024',\n",
       " '04:06 PM, November 19 2024',\n",
       " '07:11 PM, November 17 2024',\n",
       " '02:25 PM, January 31 2025',\n",
       " '01:54 PM, October 26 2024',\n",
       " '08:01 PM, January 29 2025',\n",
       " '11:05 PM, September 21 2024',\n",
       " '02:57 PM, October 09 2024',\n",
       " '07:22 PM, November 25 2024',\n",
       " '08:20 PM, September 05 2024',\n",
       " '02:46 PM, September 21 2024',\n",
       " '10:20 PM, October 09 2024',\n",
       " '12:36 AM, September 25 2024',\n",
       " '06:31 PM, October 20 2024',\n",
       " '08:10 PM, November 10 2024',\n",
       " '01:42 PM, October 10 2024',\n",
       " '09:11 PM, December 25 2024',\n",
       " '04:40 PM, September 22 2024',\n",
       " '05:23 PM, November 01 2024',\n",
       " '08:39 PM, January 25 2025',\n",
       " '03:07 AM, November 28 2024',\n",
       " '12:38 PM, October 10 2024',\n",
       " '08:43 PM, October 18 2024',\n",
       " '06:24 PM, December 28 2024',\n",
       " '05:35 PM, January 19 2025',\n",
       " '09:34 PM, December 13 2024',\n",
       " '09:32 PM, November 04 2024',\n",
       " '12:25 PM, September 21 2024',\n",
       " '12:11 AM, September 19 2024',\n",
       " '01:16 AM, September 27 2024',\n",
       " '11:48 AM, September 30 2024',\n",
       " '07:42 PM, November 15 2024',\n",
       " '10:25 PM, October 12 2024',\n",
       " '12:19 PM, January 10 2025',\n",
       " '03:03 PM, October 05 2024',\n",
       " '07:17 PM, September 14 2024',\n",
       " '01:07 AM, October 21 2024',\n",
       " '10:22 PM, December 07 2024',\n",
       " '06:23 PM, September 29 2024',\n",
       " '07:32 PM, September 21 2024',\n",
       " '09:19 PM, December 16 2024',\n",
       " '07:50 PM, December 20 2024',\n",
       " '10:27 PM, September 28 2024',\n",
       " '07:16 PM, January 09 2025',\n",
       " '06:31 PM, December 07 2024',\n",
       " '06:06 PM, December 25 2024',\n",
       " '11:47 PM, January 17 2025',\n",
       " '01:47 AM, September 14 2024',\n",
       " '11:57 PM, September 19 2024',\n",
       " '07:22 PM, October 10 2024',\n",
       " '12:20 AM, October 12 2024',\n",
       " '03:54 PM, September 24 2024',\n",
       " '09:16 PM, October 17 2024',\n",
       " '09:52 PM, November 05 2024',\n",
       " '05:52 PM, September 23 2024',\n",
       " '09:28 PM, December 29 2024',\n",
       " '08:16 PM, November 16 2024',\n",
       " '06:04 PM, October 18 2024',\n",
       " '05:33 PM, November 01 2024',\n",
       " '01:33 PM, January 07 2025',\n",
       " '11:00 PM, January 22 2025',\n",
       " '10:22 PM, December 03 2024',\n",
       " '08:57 PM, January 01 2025',\n",
       " '04:05 PM, November 16 2024',\n",
       " '10:13 PM, October 31 2024',\n",
       " '01:16 PM, December 06 2024',\n",
       " '12:02 PM, October 25 2024',\n",
       " '01:58 AM, January 05 2025',\n",
       " '03:02 PM, October 11 2024',\n",
       " '07:17 PM, November 20 2024',\n",
       " '08:46 PM, January 06 2025',\n",
       " '11:14 PM, September 12 2024',\n",
       " '04:17 PM, December 25 2024',\n",
       " '08:45 PM, September 14 2024',\n",
       " '07:00 PM, October 10 2024',\n",
       " '09:13 PM, December 01 2024',\n",
       " '09:11 PM, September 07 2024',\n",
       " '03:57 PM, October 09 2024',\n",
       " '08:38 PM, December 28 2024',\n",
       " '12:34 AM, January 03 2025',\n",
       " '04:39 PM, October 10 2024',\n",
       " '11:28 PM, November 20 2024',\n",
       " '03:11 AM, November 26 2024',\n",
       " '08:22 PM, January 14 2025',\n",
       " '01:29 PM, November 23 2024',\n",
       " '07:45 PM, October 18 2024',\n",
       " '05:31 PM, October 17 2024',\n",
       " '03:53 PM, January 20 2025',\n",
       " '12:45 PM, November 30 2024',\n",
       " '04:04 PM, January 13 2025',\n",
       " '11:20 PM, September 17 2024',\n",
       " '07:24 PM, November 02 2024',\n",
       " '01:41 PM, December 22 2024',\n",
       " '08:59 PM, December 14 2024',\n",
       " '07:22 PM, December 29 2024',\n",
       " '08:36 PM, November 30 2024',\n",
       " '08:52 PM, November 18 2024',\n",
       " '02:37 PM, October 29 2024',\n",
       " '11:55 PM, November 19 2024',\n",
       " '07:09 PM, November 15 2024',\n",
       " '09:51 PM, September 01 2024',\n",
       " '09:03 PM, September 08 2024',\n",
       " '12:51 AM, October 08 2024',\n",
       " '09:15 PM, September 14 2024',\n",
       " '09:07 PM, October 22 2024',\n",
       " '01:36 AM, November 23 2024',\n",
       " '11:02 AM, September 09 2024',\n",
       " '08:33 PM, September 13 2024',\n",
       " '08:44 PM, October 12 2024',\n",
       " '12:51 AM, December 05 2024',\n",
       " '12:51 PM, January 14 2025',\n",
       " '08:16 PM, January 19 2025',\n",
       " '09:54 PM, January 22 2025',\n",
       " '08:18 PM, January 02 2025',\n",
       " '04:06 PM, October 26 2024',\n",
       " '08:40 PM, November 09 2024',\n",
       " '11:20 AM, January 08 2025',\n",
       " '05:22 PM, October 05 2024',\n",
       " '07:15 PM, November 19 2024',\n",
       " '12:59 PM, December 27 2024',\n",
       " '04:29 PM, September 15 2024',\n",
       " '06:15 PM, December 08 2024',\n",
       " '01:54 AM, January 12 2025',\n",
       " '12:08 AM, September 17 2024',\n",
       " '09:57 PM, September 22 2024',\n",
       " '08:40 PM, November 02 2024',\n",
       " '06:36 PM, December 11 2024',\n",
       " '07:48 PM, November 06 2024',\n",
       " '12:21 AM, November 02 2024',\n",
       " '01:28 PM, November 10 2024',\n",
       " '09:16 PM, September 22 2024',\n",
       " '10:12 PM, September 14 2024',\n",
       " '04:34 PM, September 20 2024',\n",
       " '04:12 PM, January 14 2025',\n",
       " '09:16 PM, January 26 2025',\n",
       " '09:01 PM, January 23 2025',\n",
       " '08:21 PM, December 01 2024',\n",
       " '02:20 PM, November 26 2024',\n",
       " '10:58 PM, October 26 2024',\n",
       " '09:42 PM, January 18 2025',\n",
       " '08:58 PM, October 19 2024',\n",
       " '11:36 AM, December 08 2024',\n",
       " '05:59 PM, October 21 2024',\n",
       " '06:25 PM, December 27 2024',\n",
       " '11:58 PM, October 10 2024',\n",
       " '12:52 AM, December 16 2024',\n",
       " '11:41 PM, October 29 2024',\n",
       " '02:19 PM, November 23 2024',\n",
       " '03:51 PM, December 15 2024',\n",
       " '04:16 PM, December 03 2024',\n",
       " '09:01 PM, December 26 2024',\n",
       " '06:27 PM, December 08 2024',\n",
       " '11:31 PM, December 31 2024',\n",
       " '03:16 PM, December 07 2024',\n",
       " '11:03 PM, October 12 2024',\n",
       " '11:54 PM, December 07 2024',\n",
       " '01:35 PM, September 28 2024',\n",
       " '07:11 PM, January 23 2025',\n",
       " '03:12 PM, October 26 2024',\n",
       " '11:24 PM, October 01 2024',\n",
       " '08:32 PM, December 26 2024',\n",
       " '08:06 PM, September 06 2024',\n",
       " '08:10 PM, September 06 2024',\n",
       " '06:24 PM, September 18 2024',\n",
       " '09:47 PM, November 24 2024',\n",
       " '06:28 PM, January 15 2025',\n",
       " '01:12 PM, December 04 2024',\n",
       " '05:38 PM, October 18 2024',\n",
       " '02:11 AM, October 09 2024',\n",
       " '08:21 PM, October 25 2024',\n",
       " '05:11 PM, November 10 2024',\n",
       " '09:21 PM, January 25 2025',\n",
       " '09:05 PM, November 16 2024',\n",
       " '04:31 PM, November 27 2024',\n",
       " '09:37 PM, September 05 2024',\n",
       " '07:18 PM, November 23 2024',\n",
       " '03:30 AM, December 29 2024',\n",
       " '02:06 PM, September 24 2024',\n",
       " '11:00 PM, January 06 2025',\n",
       " '01:58 PM, November 05 2024',\n",
       " '08:45 PM, November 24 2024',\n",
       " '09:51 PM, September 11 2024',\n",
       " '11:30 AM, September 23 2024',\n",
       " '09:13 PM, October 23 2024',\n",
       " '11:05 PM, November 15 2024',\n",
       " '07:32 PM, December 12 2024',\n",
       " '05:44 PM, December 30 2024',\n",
       " '06:14 PM, September 03 2024',\n",
       " '02:22 PM, November 18 2024',\n",
       " '08:00 PM, December 20 2024',\n",
       " '06:15 PM, January 15 2025',\n",
       " '07:43 PM, December 25 2024',\n",
       " '06:40 PM, December 13 2024',\n",
       " '12:20 PM, September 15 2024',\n",
       " '08:40 PM, October 18 2024',\n",
       " '01:45 PM, December 28 2024',\n",
       " '02:28 PM, January 01 2025',\n",
       " '11:41 PM, October 26 2024',\n",
       " '08:26 PM, November 10 2024',\n",
       " '05:41 PM, January 25 2025',\n",
       " '09:55 PM, November 08 2024',\n",
       " '02:45 PM, December 15 2024',\n",
       " '08:23 PM, January 14 2025',\n",
       " '03:41 PM, December 09 2024',\n",
       " '08:49 PM, December 03 2024',\n",
       " '09:48 PM, January 23 2025',\n",
       " '08:45 PM, January 25 2025',\n",
       " '02:12 PM, November 08 2024',\n",
       " '04:43 PM, October 28 2024',\n",
       " '08:29 PM, November 03 2024',\n",
       " '09:09 PM, January 24 2025',\n",
       " '07:17 PM, January 01 2025',\n",
       " '04:15 PM, September 17 2024',\n",
       " '08:01 PM, January 08 2025',\n",
       " '10:57 PM, September 18 2024',\n",
       " '08:13 PM, November 04 2024',\n",
       " '12:54 AM, November 03 2024',\n",
       " '02:10 AM, September 01 2024',\n",
       " '07:44 PM, October 14 2024',\n",
       " '02:17 PM, October 22 2024',\n",
       " '05:53 PM, November 19 2024',\n",
       " '08:13 PM, December 26 2024',\n",
       " '01:21 PM, November 18 2024',\n",
       " '10:12 PM, November 15 2024',\n",
       " '07:15 PM, October 09 2024',\n",
       " '06:53 PM, December 23 2024',\n",
       " '07:30 PM, December 31 2024',\n",
       " '05:23 PM, October 28 2024',\n",
       " '07:03 PM, December 31 2024',\n",
       " '07:13 PM, October 16 2024',\n",
       " '11:50 PM, October 24 2024',\n",
       " '08:40 PM, October 20 2024',\n",
       " '06:31 PM, December 08 2024',\n",
       " '12:23 AM, November 07 2024',\n",
       " '07:14 PM, November 06 2024',\n",
       " '06:10 PM, October 16 2024',\n",
       " '08:11 PM, December 17 2024',\n",
       " '07:42 PM, January 21 2025',\n",
       " '10:32 PM, December 26 2024',\n",
       " '10:31 PM, January 06 2025',\n",
       " '05:37 PM, January 26 2025',\n",
       " '01:52 PM, December 11 2024',\n",
       " '05:04 PM, December 09 2024',\n",
       " '12:11 PM, December 21 2024',\n",
       " '08:44 PM, November 14 2024',\n",
       " '10:21 PM, December 26 2024',\n",
       " '03:56 AM, September 01 2024',\n",
       " '08:32 PM, October 18 2024',\n",
       " '04:30 PM, November 19 2024',\n",
       " '07:07 PM, October 04 2024',\n",
       " '10:50 PM, December 09 2024',\n",
       " '12:24 PM, September 01 2024',\n",
       " '07:15 PM, September 24 2024',\n",
       " '01:13 AM, September 26 2024',\n",
       " '05:47 PM, October 02 2024',\n",
       " '05:42 PM, December 05 2024',\n",
       " '03:21 PM, November 04 2024',\n",
       " '12:33 PM, January 08 2025',\n",
       " '02:34 PM, January 09 2025',\n",
       " '01:28 PM, December 21 2024',\n",
       " '11:56 PM, November 29 2024',\n",
       " '05:22 PM, December 03 2024',\n",
       " '04:56 PM, November 28 2024',\n",
       " '12:47 AM, January 14 2025',\n",
       " '06:26 PM, November 23 2024',\n",
       " '05:21 PM, December 12 2024',\n",
       " '12:32 PM, September 06 2024',\n",
       " '11:13 PM, September 01 2024',\n",
       " '10:50 PM, September 11 2024',\n",
       " '11:43 PM, December 04 2024',\n",
       " '06:06 PM, December 31 2024',\n",
       " '06:49 PM, September 17 2024',\n",
       " '06:38 PM, November 08 2024',\n",
       " '02:23 PM, October 10 2024',\n",
       " '09:00 PM, September 20 2024',\n",
       " '09:32 PM, October 29 2024',\n",
       " '08:34 PM, December 18 2024',\n",
       " '08:09 PM, September 19 2024',\n",
       " '07:57 PM, September 09 2024',\n",
       " '04:55 PM, September 28 2024',\n",
       " '09:44 PM, November 09 2024',\n",
       " '07:52 PM, December 16 2024',\n",
       " '11:02 PM, September 21 2024',\n",
       " '12:33 AM, November 10 2024',\n",
       " '12:37 PM, September 14 2024',\n",
       " '02:06 AM, October 15 2024',\n",
       " '08:32 PM, January 02 2025',\n",
       " '02:04 PM, September 07 2024',\n",
       " '01:21 PM, December 03 2024',\n",
       " '06:58 PM, November 08 2024',\n",
       " '12:30 PM, January 28 2025',\n",
       " '12:10 AM, November 21 2024',\n",
       " '09:35 PM, November 15 2024',\n",
       " '09:45 PM, October 29 2024',\n",
       " '12:28 AM, December 07 2024',\n",
       " '11:39 PM, January 25 2025',\n",
       " '01:20 PM, November 23 2024',\n",
       " '02:08 AM, January 30 2025',\n",
       " '09:41 PM, October 26 2024',\n",
       " '01:31 PM, January 19 2025',\n",
       " '12:32 AM, September 14 2024',\n",
       " '09:21 PM, September 03 2024',\n",
       " '07:09 PM, November 13 2024',\n",
       " '11:38 PM, January 17 2025',\n",
       " '07:13 PM, December 26 2024',\n",
       " '06:31 PM, October 05 2024',\n",
       " '01:21 PM, January 19 2025',\n",
       " '02:14 PM, October 23 2024',\n",
       " '09:10 PM, November 02 2024',\n",
       " '12:52 AM, January 27 2025',\n",
       " '08:59 PM, September 02 2024',\n",
       " '01:09 PM, September 01 2024',\n",
       " '08:01 PM, September 03 2024',\n",
       " '04:11 PM, January 05 2025',\n",
       " '06:10 PM, January 20 2025',\n",
       " '12:05 PM, September 05 2024',\n",
       " '08:48 PM, October 11 2024',\n",
       " '11:53 PM, December 03 2024',\n",
       " '05:14 PM, December 16 2024',\n",
       " '06:33 PM, November 10 2024',\n",
       " '07:38 PM, October 17 2024',\n",
       " '06:30 PM, November 17 2024',\n",
       " '04:59 PM, October 16 2024',\n",
       " '08:02 PM, September 21 2024',\n",
       " '03:27 PM, December 18 2024',\n",
       " '10:58 PM, October 07 2024',\n",
       " '07:22 PM, September 29 2024',\n",
       " '10:07 PM, November 10 2024',\n",
       " '02:12 PM, November 17 2024',\n",
       " '08:53 PM, October 12 2024',\n",
       " '06:38 PM, September 06 2024',\n",
       " '07:47 PM, September 06 2024',\n",
       " '10:34 PM, October 23 2024',\n",
       " '08:51 PM, November 22 2024',\n",
       " '10:19 PM, December 13 2024',\n",
       " '02:50 PM, January 25 2025',\n",
       " '06:02 PM, October 14 2024',\n",
       " '02:34 PM, October 11 2024',\n",
       " '11:29 PM, November 26 2024',\n",
       " '10:24 PM, December 20 2024',\n",
       " '05:23 PM, January 05 2025',\n",
       " '09:33 PM, October 06 2024',\n",
       " '09:26 PM, October 29 2024',\n",
       " '10:30 PM, December 03 2024',\n",
       " '02:08 PM, November 29 2024',\n",
       " '10:50 PM, December 14 2024',\n",
       " '01:43 AM, December 18 2024',\n",
       " '02:54 PM, September 22 2024',\n",
       " '09:30 PM, September 04 2024',\n",
       " '10:21 PM, October 19 2024',\n",
       " '08:22 PM, September 28 2024',\n",
       " '08:28 PM, October 05 2024',\n",
       " '04:31 PM, September 27 2024',\n",
       " '04:29 PM, November 30 2024',\n",
       " '09:35 PM, September 29 2024',\n",
       " '10:20 PM, November 09 2024',\n",
       " '01:44 PM, November 02 2024',\n",
       " '07:33 PM, November 11 2024',\n",
       " '12:55 PM, December 19 2024',\n",
       " '06:40 PM, November 18 2024',\n",
       " '10:31 PM, December 25 2024',\n",
       " '07:38 PM, January 25 2025',\n",
       " '08:40 PM, January 23 2025',\n",
       " '03:51 PM, October 25 2024',\n",
       " '08:57 PM, December 31 2024',\n",
       " '11:48 PM, January 25 2025',\n",
       " '12:17 PM, November 16 2024',\n",
       " '12:38 PM, December 11 2024',\n",
       " '05:51 PM, December 08 2024',\n",
       " '11:49 AM, December 18 2024',\n",
       " '07:43 PM, December 17 2024',\n",
       " '10:17 PM, December 25 2024',\n",
       " '07:53 PM, November 19 2024',\n",
       " '08:29 PM, January 20 2025',\n",
       " '07:12 PM, September 03 2024',\n",
       " '12:53 PM, December 05 2024',\n",
       " '09:52 PM, September 03 2024',\n",
       " '12:04 AM, September 12 2024',\n",
       " '07:10 PM, September 15 2024',\n",
       " '05:03 PM, November 01 2024',\n",
       " '03:54 AM, January 17 2025',\n",
       " '03:34 PM, January 14 2025',\n",
       " '01:24 AM, January 28 2025',\n",
       " '11:27 PM, January 24 2025',\n",
       " '04:02 PM, November 10 2024',\n",
       " '11:39 PM, January 15 2025',\n",
       " '07:25 PM, December 14 2024',\n",
       " '07:15 PM, December 04 2024',\n",
       " '04:42 PM, September 04 2024',\n",
       " '05:14 PM, October 22 2024',\n",
       " '03:41 PM, January 03 2025',\n",
       " '01:00 AM, December 08 2024',\n",
       " '01:27 PM, November 02 2024',\n",
       " '12:06 AM, December 01 2024',\n",
       " '06:33 PM, December 23 2024',\n",
       " '07:48 PM, September 24 2024',\n",
       " '02:06 AM, October 25 2024',\n",
       " '09:19 PM, October 29 2024',\n",
       " '05:41 PM, November 14 2024',\n",
       " '07:11 PM, September 19 2024',\n",
       " '08:17 PM, September 04 2024',\n",
       " '06:30 PM, September 02 2024',\n",
       " '12:35 PM, November 27 2024',\n",
       " '11:07 PM, December 27 2024',\n",
       " '10:44 PM, November 26 2024',\n",
       " '07:39 PM, September 29 2024',\n",
       " '12:10 PM, September 08 2024',\n",
       " '07:13 PM, October 01 2024',\n",
       " '08:59 PM, November 10 2024',\n",
       " '03:22 AM, December 05 2024',\n",
       " '11:07 PM, September 27 2024',\n",
       " '12:42 AM, September 09 2024',\n",
       " '09:12 PM, November 22 2024',\n",
       " '05:21 PM, October 18 2024',\n",
       " '08:59 PM, November 22 2024',\n",
       " '09:48 PM, December 09 2024',\n",
       " '10:58 PM, January 19 2025',\n",
       " '03:08 AM, January 31 2025',\n",
       " '07:03 PM, September 18 2024',\n",
       " '01:08 PM, November 09 2024',\n",
       " '04:34 PM, January 29 2025',\n",
       " '08:20 PM, January 14 2025',\n",
       " '10:17 PM, October 25 2024',\n",
       " '08:46 PM, September 24 2024',\n",
       " '02:42 AM, September 25 2024',\n",
       " '07:41 PM, October 23 2024',\n",
       " '10:51 PM, November 15 2024',\n",
       " '11:36 PM, September 24 2024',\n",
       " '04:16 PM, November 23 2024',\n",
       " '10:33 PM, November 24 2024',\n",
       " '02:10 AM, January 08 2025',\n",
       " '02:24 PM, November 11 2024',\n",
       " '07:53 PM, January 03 2025',\n",
       " '01:10 PM, January 06 2025',\n",
       " '11:35 PM, October 24 2024',\n",
       " '11:02 PM, December 03 2024',\n",
       " '06:29 PM, November 15 2024',\n",
       " '08:10 PM, October 07 2024',\n",
       " '04:04 PM, September 25 2024',\n",
       " '08:50 PM, November 30 2024',\n",
       " '12:58 AM, December 22 2024',\n",
       " '06:45 PM, January 06 2025',\n",
       " '11:39 AM, November 22 2024',\n",
       " '01:32 PM, December 03 2024',\n",
       " '01:35 AM, January 07 2025',\n",
       " '02:50 AM, October 11 2024',\n",
       " '11:22 PM, January 09 2025',\n",
       " '10:55 PM, October 22 2024',\n",
       " '06:15 PM, September 18 2024',\n",
       " '07:40 PM, October 20 2024',\n",
       " '01:16 PM, December 01 2024',\n",
       " '07:41 PM, October 05 2024',\n",
       " '08:19 PM, November 08 2024',\n",
       " '02:05 AM, September 03 2024',\n",
       " '02:42 PM, October 14 2024',\n",
       " '07:08 PM, January 11 2025',\n",
       " '12:07 AM, September 25 2024',\n",
       " '08:40 PM, October 23 2024',\n",
       " '01:25 PM, December 14 2024',\n",
       " '02:37 PM, December 11 2024',\n",
       " '05:20 PM, December 29 2024',\n",
       " '07:52 PM, December 24 2024',\n",
       " '08:44 PM, December 26 2024',\n",
       " '03:19 PM, January 10 2025',\n",
       " '12:35 AM, January 14 2025',\n",
       " '02:38 AM, January 26 2025',\n",
       " '06:00 PM, January 25 2025',\n",
       " '09:39 PM, November 15 2024',\n",
       " '07:26 PM, January 18 2025',\n",
       " '04:42 PM, September 29 2024',\n",
       " '12:49 PM, January 30 2025',\n",
       " '08:08 PM, September 04 2024',\n",
       " '10:56 PM, October 14 2024',\n",
       " '10:14 PM, January 13 2025',\n",
       " '12:12 AM, October 01 2024',\n",
       " '10:29 PM, December 29 2024',\n",
       " '09:45 PM, January 25 2025',\n",
       " '09:12 PM, October 05 2024',\n",
       " '01:24 PM, October 28 2024',\n",
       " '09:14 PM, November 27 2024',\n",
       " '01:12 PM, December 25 2024',\n",
       " '09:28 PM, October 18 2024',\n",
       " '06:25 PM, October 18 2024',\n",
       " '05:46 PM, January 20 2025',\n",
       " '03:24 PM, September 20 2024',\n",
       " '04:04 PM, September 03 2024',\n",
       " '12:34 AM, November 10 2024',\n",
       " '06:25 PM, November 25 2024',\n",
       " '07:26 PM, September 20 2024',\n",
       " '10:46 PM, October 21 2024',\n",
       " '06:15 PM, January 20 2025',\n",
       " '06:21 PM, January 20 2025',\n",
       " '08:26 PM, January 21 2025',\n",
       " '07:35 PM, November 08 2024',\n",
       " '02:24 PM, September 17 2024',\n",
       " '09:44 PM, October 05 2024',\n",
       " '07:48 PM, November 23 2024',\n",
       " '12:14 PM, January 29 2025',\n",
       " '07:54 PM, January 25 2025',\n",
       " '09:46 PM, September 04 2024',\n",
       " '01:17 PM, December 03 2024',\n",
       " '10:07 PM, December 09 2024',\n",
       " '11:12 PM, October 30 2024',\n",
       " '05:06 PM, December 20 2024',\n",
       " '10:08 PM, December 10 2024',\n",
       " '07:58 PM, October 31 2024',\n",
       " '04:32 PM, December 11 2024',\n",
       " '09:14 PM, September 22 2024',\n",
       " '02:54 AM, January 20 2025',\n",
       " '11:23 PM, January 28 2025',\n",
       " '06:16 PM, September 25 2024',\n",
       " '12:33 PM, December 12 2024',\n",
       " '11:13 PM, January 31 2025',\n",
       " '07:23 PM, January 28 2025',\n",
       " '08:43 PM, December 06 2024',\n",
       " '05:00 PM, January 19 2025',\n",
       " '08:40 PM, December 21 2024',\n",
       " '11:06 PM, January 31 2025',\n",
       " '01:02 AM, September 14 2024',\n",
       " '12:12 AM, December 22 2024',\n",
       " ...}"
      ]
     },
     "execution_count": 126,
     "metadata": {},
     "output_type": "execute_result"
    }
   ],
   "source": [
    "set(df_recast_ids['order_placed_at'])"
   ]
  },
  {
   "cell_type": "code",
   "execution_count": 135,
   "metadata": {},
   "outputs": [
    {
     "name": "stdout",
     "output_type": "stream",
     "text": [
      "21321\n"
     ]
    },
    {
     "data": {
      "text/html": [
       "<div><style>\n",
       ".dataframe > thead > tr,\n",
       ".dataframe > tbody > tr {\n",
       "  text-align: right;\n",
       "  white-space: pre-wrap;\n",
       "}\n",
       "</style>\n",
       "<small>shape: (5, 29)</small><table border=\"1\" class=\"dataframe\"><thead><tr><th>restaurant_id</th><th>restaurant_name</th><th>subzone</th><th>city</th><th>order_id</th><th>order_placed_at</th><th>order_status</th><th>delivery</th><th>distance</th><th>items_in_order</th><th>instructions</th><th>discount_construct</th><th>bill_subtotal</th><th>packaging_charges</th><th>restaurant_discount_promo</th><th>restaurant_discount_others</th><th>gold_discount</th><th>brand_pack_discount</th><th>total</th><th>rating</th><th>review</th><th>cancellation_rejection_reason</th><th>restaurant_compensation_cancellation</th><th>restaurant_penalty_rejection</th><th>kpt_duration_minutes</th><th>rider_wait_time_minutes</th><th>order_ready_marked</th><th>customer_complaint_tag</th><th>customer_id</th></tr><tr><td>str</td><td>str</td><td>str</td><td>str</td><td>str</td><td>datetime[μs]</td><td>str</td><td>str</td><td>str</td><td>str</td><td>str</td><td>str</td><td>f64</td><td>f64</td><td>f64</td><td>f64</td><td>f64</td><td>f64</td><td>f64</td><td>f64</td><td>str</td><td>str</td><td>f64</td><td>f64</td><td>f64</td><td>f64</td><td>str</td><td>str</td><td>str</td></tr></thead><tbody><tr><td>&quot;20320607&quot;</td><td>&quot;Swaad&quot;</td><td>&quot;Sector 4&quot;</td><td>&quot;Delhi NCR&quot;</td><td>&quot;6168884918&quot;</td><td>2024-09-10 23:38:00</td><td>&quot;Delivered&quot;</td><td>&quot;Zomato Delivery&quot;</td><td>&quot;3km&quot;</td><td>&quot;1 x Grilled Chicken Jamaican T…</td><td>null</td><td>&quot;40% off upto Rs.80&quot;</td><td>715.0</td><td>31.75</td><td>80.0</td><td>0.0</td><td>0.0</td><td>0.0</td><td>666.75</td><td>null</td><td>null</td><td>null</td><td>null</td><td>null</td><td>18.35</td><td>11.6</td><td>&quot;Correctly&quot;</td><td>null</td><td>&quot;5d6c2b96db963098bc69768bea504c…</td></tr><tr><td>&quot;20320607&quot;</td><td>&quot;Swaad&quot;</td><td>&quot;Sector 4&quot;</td><td>&quot;Delhi NCR&quot;</td><td>&quot;6170707559&quot;</td><td>2024-09-10 23:34:00</td><td>&quot;Delivered&quot;</td><td>&quot;Zomato Delivery&quot;</td><td>&quot;2km&quot;</td><td>&quot;1 x Peri Peri Fries, 1 x Fried…</td><td>null</td><td>&quot;Flat Rs.175 off&quot;</td><td>1179.0</td><td>50.2</td><td>175.0</td><td>0.0</td><td>0.0</td><td>0.0</td><td>1054.2</td><td>null</td><td>null</td><td>null</td><td>null</td><td>null</td><td>16.95</td><td>3.6</td><td>&quot;Correctly&quot;</td><td>null</td><td>&quot;0781815deb4a10a574e9fee4fa0b86…</td></tr><tr><td>&quot;20320607&quot;</td><td>&quot;Swaad&quot;</td><td>&quot;Sector 4&quot;</td><td>&quot;Delhi NCR&quot;</td><td>&quot;6169375019&quot;</td><td>2024-09-10 15:52:00</td><td>&quot;Delivered&quot;</td><td>&quot;Zomato Delivery&quot;</td><td>&quot;&lt;1km&quot;</td><td>&quot;1 x Bone in Peri Peri Grilled …</td><td>null</td><td>&quot;40% off upto Rs.80&quot;</td><td>310.0</td><td>11.5</td><td>80.0</td><td>0.0</td><td>0.0</td><td>0.0</td><td>241.5</td><td>null</td><td>null</td><td>null</td><td>null</td><td>null</td><td>14.05</td><td>12.2</td><td>&quot;Correctly&quot;</td><td>null</td><td>&quot;f93362f5ce5382657482d164e36818…</td></tr><tr><td>&quot;20320607&quot;</td><td>&quot;Swaad&quot;</td><td>&quot;Sector 4&quot;</td><td>&quot;Delhi NCR&quot;</td><td>&quot;6151677434&quot;</td><td>2024-09-10 15:45:00</td><td>&quot;Delivered&quot;</td><td>&quot;Zomato Delivery&quot;</td><td>&quot;2km&quot;</td><td>&quot;1 x Fried Chicken Ghostbuster …</td><td>null</td><td>&quot;40% off upto Rs.80&quot;</td><td>620.0</td><td>27.0</td><td>80.0</td><td>0.0</td><td>0.0</td><td>0.0</td><td>567.0</td><td>4.0</td><td>null</td><td>null</td><td>null</td><td>null</td><td>19.0</td><td>3.3</td><td>&quot;Correctly&quot;</td><td>null</td><td>&quot;1ed226d1b8a5f7acee12fc1d667655…</td></tr><tr><td>&quot;20320607&quot;</td><td>&quot;Swaad&quot;</td><td>&quot;Sector 4&quot;</td><td>&quot;Delhi NCR&quot;</td><td>&quot;6167540897&quot;</td><td>2024-09-10 15:04:00</td><td>&quot;Delivered&quot;</td><td>&quot;Zomato Delivery&quot;</td><td>&quot;2km&quot;</td><td>&quot;1 x Peri Peri Krispers, 1 x Fr…</td><td>null</td><td>&quot;40% off upto Rs.80&quot;</td><td>584.0</td><td>25.2</td><td>80.0</td><td>0.0</td><td>0.0</td><td>0.0</td><td>529.2</td><td>null</td><td>null</td><td>null</td><td>null</td><td>null</td><td>15.97</td><td>1.0</td><td>&quot;Correctly&quot;</td><td>null</td><td>&quot;d21a2ac6ea06b31cc3288ab20c4ef2…</td></tr></tbody></table></div>"
      ],
      "text/plain": [
       "shape: (5, 29)\n",
       "┌─────┬─────┬─────┬─────┬─────┬─────┬─────┬─────┬─────┬─────┬─────┬─────┬─────┬─────┬─────┬─────┬─────┬─────┬─────┬─────┬─────┬─────┬─────┬─────┬─────┬─────┬─────┬─────┬─────┐\n",
       "│ res ┆ res ┆ sub ┆ cit ┆ ord ┆ ord ┆ ord ┆ del ┆ dis ┆ ite ┆ ins ┆ dis ┆ bil ┆ pac ┆ res ┆ res ┆ gol ┆ bra ┆ tot ┆ rat ┆ rev ┆ can ┆ res ┆ res ┆ kpt ┆ rid ┆ ord ┆ cus ┆ cus │\n",
       "│ tau ┆ tau ┆ zon ┆ y   ┆ er_ ┆ er_ ┆ er_ ┆ ive ┆ tan ┆ ms_ ┆ tru ┆ cou ┆ l_s ┆ kag ┆ tau ┆ tau ┆ d_d ┆ nd_ ┆ al  ┆ ing ┆ iew ┆ cel ┆ tau ┆ tau ┆ _du ┆ er_ ┆ er_ ┆ tom ┆ tom │\n",
       "│ ran ┆ ran ┆ e   ┆ --- ┆ id  ┆ pla ┆ sta ┆ ry  ┆ ce  ┆ in_ ┆ cti ┆ nt_ ┆ ubt ┆ ing ┆ ran ┆ ran ┆ isc ┆ pac ┆ --- ┆ --- ┆ --- ┆ lat ┆ ran ┆ ran ┆ rat ┆ wai ┆ rea ┆ er_ ┆ er_ │\n",
       "│ t_i ┆ t_n ┆ --- ┆ str ┆ --- ┆ ced ┆ tus ┆ --- ┆ --- ┆ ord ┆ ons ┆ con ┆ ota ┆ _ch ┆ t_d ┆ t_d ┆ oun ┆ k_d ┆ f64 ┆ f64 ┆ str ┆ ion ┆ t_c ┆ t_p ┆ ion ┆ t_t ┆ dy_ ┆ com ┆ id  │\n",
       "│ d   ┆ ame ┆ str ┆     ┆ str ┆ _at ┆ --- ┆ str ┆ str ┆ er  ┆ --- ┆ str ┆ l   ┆ arg ┆ isc ┆ isc ┆ t   ┆ isc ┆     ┆     ┆     ┆ _re ┆ omp ┆ ena ┆ _mi ┆ ime ┆ mar ┆ pla ┆ --- │\n",
       "│ --- ┆ --- ┆     ┆     ┆     ┆ --- ┆ str ┆     ┆     ┆ --- ┆ str ┆ uct ┆ --- ┆ es  ┆ oun ┆ oun ┆ --- ┆ oun ┆     ┆     ┆     ┆ jec ┆ ens ┆ lty ┆ nut ┆ _mi ┆ ked ┆ int ┆ str │\n",
       "│ str ┆ str ┆     ┆     ┆     ┆ dat ┆     ┆     ┆     ┆ str ┆     ┆ --- ┆ f64 ┆ --- ┆ t_p ┆ t_o ┆ f64 ┆ t   ┆     ┆     ┆     ┆ tio ┆ ati ┆ _re ┆ es  ┆ nut ┆ --- ┆ _ta ┆     │\n",
       "│     ┆     ┆     ┆     ┆     ┆ eti ┆     ┆     ┆     ┆     ┆     ┆ str ┆     ┆ f64 ┆ rom ┆ the ┆     ┆ --- ┆     ┆     ┆     ┆ n_r ┆ on_ ┆ jec ┆ --- ┆ es  ┆ str ┆ g   ┆     │\n",
       "│     ┆     ┆     ┆     ┆     ┆ me[ ┆     ┆     ┆     ┆     ┆     ┆     ┆     ┆     ┆ o   ┆ rs  ┆     ┆ f64 ┆     ┆     ┆     ┆ eas ┆ can ┆ tio ┆ f64 ┆ --- ┆     ┆ --- ┆     │\n",
       "│     ┆     ┆     ┆     ┆     ┆ μs] ┆     ┆     ┆     ┆     ┆     ┆     ┆     ┆     ┆ --- ┆ --- ┆     ┆     ┆     ┆     ┆     ┆ on  ┆ cel ┆ n   ┆     ┆ f64 ┆     ┆ str ┆     │\n",
       "│     ┆     ┆     ┆     ┆     ┆     ┆     ┆     ┆     ┆     ┆     ┆     ┆     ┆     ┆ f64 ┆ f64 ┆     ┆     ┆     ┆     ┆     ┆ --- ┆ …   ┆ --- ┆     ┆     ┆     ┆     ┆     │\n",
       "│     ┆     ┆     ┆     ┆     ┆     ┆     ┆     ┆     ┆     ┆     ┆     ┆     ┆     ┆     ┆     ┆     ┆     ┆     ┆     ┆     ┆ str ┆ --- ┆ f64 ┆     ┆     ┆     ┆     ┆     │\n",
       "│     ┆     ┆     ┆     ┆     ┆     ┆     ┆     ┆     ┆     ┆     ┆     ┆     ┆     ┆     ┆     ┆     ┆     ┆     ┆     ┆     ┆     ┆ f64 ┆     ┆     ┆     ┆     ┆     ┆     │\n",
       "╞═════╪═════╪═════╪═════╪═════╪═════╪═════╪═════╪═════╪═════╪═════╪═════╪═════╪═════╪═════╪═════╪═════╪═════╪═════╪═════╪═════╪═════╪═════╪═════╪═════╪═════╪═════╪═════╪═════╡\n",
       "│ 203 ┆ Swa ┆ Sec ┆ Del ┆ 616 ┆ 202 ┆ Del ┆ Zom ┆ 3km ┆ 1 x ┆ nul ┆ 40% ┆ 715 ┆ 31. ┆ 80. ┆ 0.0 ┆ 0.0 ┆ 0.0 ┆ 666 ┆ nul ┆ nul ┆ nul ┆ nul ┆ nul ┆ 18. ┆ 11. ┆ Cor ┆ nul ┆ 5d6 │\n",
       "│ 206 ┆ ad  ┆ tor ┆ hi  ┆ 888 ┆ 4-0 ┆ ive ┆ ato ┆     ┆ Gri ┆ l   ┆ off ┆ .0  ┆ 75  ┆ 0   ┆     ┆     ┆     ┆ .75 ┆ l   ┆ l   ┆ l   ┆ l   ┆ l   ┆ 35  ┆ 6   ┆ rec ┆ l   ┆ c2b │\n",
       "│ 07  ┆     ┆ 4   ┆ NCR ┆ 491 ┆ 9-1 ┆ red ┆ Del ┆     ┆ lle ┆     ┆ upt ┆     ┆     ┆     ┆     ┆     ┆     ┆     ┆     ┆     ┆     ┆     ┆     ┆     ┆     ┆ tly ┆     ┆ 96d │\n",
       "│     ┆     ┆     ┆     ┆ 8   ┆ 0   ┆     ┆ ive ┆     ┆ d   ┆     ┆ o   ┆     ┆     ┆     ┆     ┆     ┆     ┆     ┆     ┆     ┆     ┆     ┆     ┆     ┆     ┆     ┆     ┆ b96 │\n",
       "│     ┆     ┆     ┆     ┆     ┆ 23: ┆     ┆ ry  ┆     ┆ Chi ┆     ┆ Rs. ┆     ┆     ┆     ┆     ┆     ┆     ┆     ┆     ┆     ┆     ┆     ┆     ┆     ┆     ┆     ┆     ┆ 309 │\n",
       "│     ┆     ┆     ┆     ┆     ┆ 38: ┆     ┆     ┆     ┆ cke ┆     ┆ 80  ┆     ┆     ┆     ┆     ┆     ┆     ┆     ┆     ┆     ┆     ┆     ┆     ┆     ┆     ┆     ┆     ┆ 8bc │\n",
       "│     ┆     ┆     ┆     ┆     ┆ 00  ┆     ┆     ┆     ┆ n   ┆     ┆     ┆     ┆     ┆     ┆     ┆     ┆     ┆     ┆     ┆     ┆     ┆     ┆     ┆     ┆     ┆     ┆     ┆ 697 │\n",
       "│     ┆     ┆     ┆     ┆     ┆     ┆     ┆     ┆     ┆ Jam ┆     ┆     ┆     ┆     ┆     ┆     ┆     ┆     ┆     ┆     ┆     ┆     ┆     ┆     ┆     ┆     ┆     ┆     ┆ 68b │\n",
       "│     ┆     ┆     ┆     ┆     ┆     ┆     ┆     ┆     ┆ aic ┆     ┆     ┆     ┆     ┆     ┆     ┆     ┆     ┆     ┆     ┆     ┆     ┆     ┆     ┆     ┆     ┆     ┆     ┆ ea5 │\n",
       "│     ┆     ┆     ┆     ┆     ┆     ┆     ┆     ┆     ┆ an  ┆     ┆     ┆     ┆     ┆     ┆     ┆     ┆     ┆     ┆     ┆     ┆     ┆     ┆     ┆     ┆     ┆     ┆     ┆ 04c │\n",
       "│     ┆     ┆     ┆     ┆     ┆     ┆     ┆     ┆     ┆ T…  ┆     ┆     ┆     ┆     ┆     ┆     ┆     ┆     ┆     ┆     ┆     ┆     ┆     ┆     ┆     ┆     ┆     ┆     ┆ …   │\n",
       "│ 203 ┆ Swa ┆ Sec ┆ Del ┆ 617 ┆ 202 ┆ Del ┆ Zom ┆ 2km ┆ 1 x ┆ nul ┆ Fla ┆ 117 ┆ 50. ┆ 175 ┆ 0.0 ┆ 0.0 ┆ 0.0 ┆ 105 ┆ nul ┆ nul ┆ nul ┆ nul ┆ nul ┆ 16. ┆ 3.6 ┆ Cor ┆ nul ┆ 078 │\n",
       "│ 206 ┆ ad  ┆ tor ┆ hi  ┆ 070 ┆ 4-0 ┆ ive ┆ ato ┆     ┆ Per ┆ l   ┆ t   ┆ 9.0 ┆ 2   ┆ .0  ┆     ┆     ┆     ┆ 4.2 ┆ l   ┆ l   ┆ l   ┆ l   ┆ l   ┆ 95  ┆     ┆ rec ┆ l   ┆ 181 │\n",
       "│ 07  ┆     ┆ 4   ┆ NCR ┆ 755 ┆ 9-1 ┆ red ┆ Del ┆     ┆ i   ┆     ┆ Rs. ┆     ┆     ┆     ┆     ┆     ┆     ┆     ┆     ┆     ┆     ┆     ┆     ┆     ┆     ┆ tly ┆     ┆ 5de │\n",
       "│     ┆     ┆     ┆     ┆ 9   ┆ 0   ┆     ┆ ive ┆     ┆ Per ┆     ┆ 175 ┆     ┆     ┆     ┆     ┆     ┆     ┆     ┆     ┆     ┆     ┆     ┆     ┆     ┆     ┆     ┆     ┆ b4a │\n",
       "│     ┆     ┆     ┆     ┆     ┆ 23: ┆     ┆ ry  ┆     ┆ i   ┆     ┆ off ┆     ┆     ┆     ┆     ┆     ┆     ┆     ┆     ┆     ┆     ┆     ┆     ┆     ┆     ┆     ┆     ┆ 10a │\n",
       "│     ┆     ┆     ┆     ┆     ┆ 34: ┆     ┆     ┆     ┆ Fri ┆     ┆     ┆     ┆     ┆     ┆     ┆     ┆     ┆     ┆     ┆     ┆     ┆     ┆     ┆     ┆     ┆     ┆     ┆ 574 │\n",
       "│     ┆     ┆     ┆     ┆     ┆ 00  ┆     ┆     ┆     ┆ es, ┆     ┆     ┆     ┆     ┆     ┆     ┆     ┆     ┆     ┆     ┆     ┆     ┆     ┆     ┆     ┆     ┆     ┆     ┆ e9f │\n",
       "│     ┆     ┆     ┆     ┆     ┆     ┆     ┆     ┆     ┆ 1 x ┆     ┆     ┆     ┆     ┆     ┆     ┆     ┆     ┆     ┆     ┆     ┆     ┆     ┆     ┆     ┆     ┆     ┆     ┆ ee4 │\n",
       "│     ┆     ┆     ┆     ┆     ┆     ┆     ┆     ┆     ┆ Fri ┆     ┆     ┆     ┆     ┆     ┆     ┆     ┆     ┆     ┆     ┆     ┆     ┆     ┆     ┆     ┆     ┆     ┆     ┆ fa0 │\n",
       "│     ┆     ┆     ┆     ┆     ┆     ┆     ┆     ┆     ┆ ed… ┆     ┆     ┆     ┆     ┆     ┆     ┆     ┆     ┆     ┆     ┆     ┆     ┆     ┆     ┆     ┆     ┆     ┆     ┆ b86 │\n",
       "│     ┆     ┆     ┆     ┆     ┆     ┆     ┆     ┆     ┆     ┆     ┆     ┆     ┆     ┆     ┆     ┆     ┆     ┆     ┆     ┆     ┆     ┆     ┆     ┆     ┆     ┆     ┆     ┆ …   │\n",
       "│ 203 ┆ Swa ┆ Sec ┆ Del ┆ 616 ┆ 202 ┆ Del ┆ Zom ┆ <1k ┆ 1 x ┆ nul ┆ 40% ┆ 310 ┆ 11. ┆ 80. ┆ 0.0 ┆ 0.0 ┆ 0.0 ┆ 241 ┆ nul ┆ nul ┆ nul ┆ nul ┆ nul ┆ 14. ┆ 12. ┆ Cor ┆ nul ┆ f93 │\n",
       "│ 206 ┆ ad  ┆ tor ┆ hi  ┆ 937 ┆ 4-0 ┆ ive ┆ ato ┆ m   ┆ Bon ┆ l   ┆ off ┆ .0  ┆ 5   ┆ 0   ┆     ┆     ┆     ┆ .5  ┆ l   ┆ l   ┆ l   ┆ l   ┆ l   ┆ 05  ┆ 2   ┆ rec ┆ l   ┆ 362 │\n",
       "│ 07  ┆     ┆ 4   ┆ NCR ┆ 501 ┆ 9-1 ┆ red ┆ Del ┆     ┆ e   ┆     ┆ upt ┆     ┆     ┆     ┆     ┆     ┆     ┆     ┆     ┆     ┆     ┆     ┆     ┆     ┆     ┆ tly ┆     ┆ f5c │\n",
       "│     ┆     ┆     ┆     ┆ 9   ┆ 0   ┆     ┆ ive ┆     ┆ in  ┆     ┆ o   ┆     ┆     ┆     ┆     ┆     ┆     ┆     ┆     ┆     ┆     ┆     ┆     ┆     ┆     ┆     ┆     ┆ e53 │\n",
       "│     ┆     ┆     ┆     ┆     ┆ 15: ┆     ┆ ry  ┆     ┆ Per ┆     ┆ Rs. ┆     ┆     ┆     ┆     ┆     ┆     ┆     ┆     ┆     ┆     ┆     ┆     ┆     ┆     ┆     ┆     ┆ 826 │\n",
       "│     ┆     ┆     ┆     ┆     ┆ 52: ┆     ┆     ┆     ┆ i   ┆     ┆ 80  ┆     ┆     ┆     ┆     ┆     ┆     ┆     ┆     ┆     ┆     ┆     ┆     ┆     ┆     ┆     ┆     ┆ 574 │\n",
       "│     ┆     ┆     ┆     ┆     ┆ 00  ┆     ┆     ┆     ┆ Per ┆     ┆     ┆     ┆     ┆     ┆     ┆     ┆     ┆     ┆     ┆     ┆     ┆     ┆     ┆     ┆     ┆     ┆     ┆ 82d │\n",
       "│     ┆     ┆     ┆     ┆     ┆     ┆     ┆     ┆     ┆ i   ┆     ┆     ┆     ┆     ┆     ┆     ┆     ┆     ┆     ┆     ┆     ┆     ┆     ┆     ┆     ┆     ┆     ┆     ┆ 164 │\n",
       "│     ┆     ┆     ┆     ┆     ┆     ┆     ┆     ┆     ┆ Gri ┆     ┆     ┆     ┆     ┆     ┆     ┆     ┆     ┆     ┆     ┆     ┆     ┆     ┆     ┆     ┆     ┆     ┆     ┆ e36 │\n",
       "│     ┆     ┆     ┆     ┆     ┆     ┆     ┆     ┆     ┆ lle ┆     ┆     ┆     ┆     ┆     ┆     ┆     ┆     ┆     ┆     ┆     ┆     ┆     ┆     ┆     ┆     ┆     ┆     ┆ 818 │\n",
       "│     ┆     ┆     ┆     ┆     ┆     ┆     ┆     ┆     ┆ d … ┆     ┆     ┆     ┆     ┆     ┆     ┆     ┆     ┆     ┆     ┆     ┆     ┆     ┆     ┆     ┆     ┆     ┆     ┆ …   │\n",
       "│ 203 ┆ Swa ┆ Sec ┆ Del ┆ 615 ┆ 202 ┆ Del ┆ Zom ┆ 2km ┆ 1 x ┆ nul ┆ 40% ┆ 620 ┆ 27. ┆ 80. ┆ 0.0 ┆ 0.0 ┆ 0.0 ┆ 567 ┆ 4.0 ┆ nul ┆ nul ┆ nul ┆ nul ┆ 19. ┆ 3.3 ┆ Cor ┆ nul ┆ 1ed │\n",
       "│ 206 ┆ ad  ┆ tor ┆ hi  ┆ 167 ┆ 4-0 ┆ ive ┆ ato ┆     ┆ Fri ┆ l   ┆ off ┆ .0  ┆ 0   ┆ 0   ┆     ┆     ┆     ┆ .0  ┆     ┆ l   ┆ l   ┆ l   ┆ l   ┆ 0   ┆     ┆ rec ┆ l   ┆ 226 │\n",
       "│ 07  ┆     ┆ 4   ┆ NCR ┆ 743 ┆ 9-1 ┆ red ┆ Del ┆     ┆ ed  ┆     ┆ upt ┆     ┆     ┆     ┆     ┆     ┆     ┆     ┆     ┆     ┆     ┆     ┆     ┆     ┆     ┆ tly ┆     ┆ d1b │\n",
       "│     ┆     ┆     ┆     ┆ 4   ┆ 0   ┆     ┆ ive ┆     ┆ Chi ┆     ┆ o   ┆     ┆     ┆     ┆     ┆     ┆     ┆     ┆     ┆     ┆     ┆     ┆     ┆     ┆     ┆     ┆     ┆ 8a5 │\n",
       "│     ┆     ┆     ┆     ┆     ┆ 15: ┆     ┆ ry  ┆     ┆ cke ┆     ┆ Rs. ┆     ┆     ┆     ┆     ┆     ┆     ┆     ┆     ┆     ┆     ┆     ┆     ┆     ┆     ┆     ┆     ┆ f7a │\n",
       "│     ┆     ┆     ┆     ┆     ┆ 45: ┆     ┆     ┆     ┆ n   ┆     ┆ 80  ┆     ┆     ┆     ┆     ┆     ┆     ┆     ┆     ┆     ┆     ┆     ┆     ┆     ┆     ┆     ┆     ┆ cee │\n",
       "│     ┆     ┆     ┆     ┆     ┆ 00  ┆     ┆     ┆     ┆ Gho ┆     ┆     ┆     ┆     ┆     ┆     ┆     ┆     ┆     ┆     ┆     ┆     ┆     ┆     ┆     ┆     ┆     ┆     ┆ 12f │\n",
       "│     ┆     ┆     ┆     ┆     ┆     ┆     ┆     ┆     ┆ stb ┆     ┆     ┆     ┆     ┆     ┆     ┆     ┆     ┆     ┆     ┆     ┆     ┆     ┆     ┆     ┆     ┆     ┆     ┆ c1d │\n",
       "│     ┆     ┆     ┆     ┆     ┆     ┆     ┆     ┆     ┆ ust ┆     ┆     ┆     ┆     ┆     ┆     ┆     ┆     ┆     ┆     ┆     ┆     ┆     ┆     ┆     ┆     ┆     ┆     ┆ 667 │\n",
       "│     ┆     ┆     ┆     ┆     ┆     ┆     ┆     ┆     ┆ er  ┆     ┆     ┆     ┆     ┆     ┆     ┆     ┆     ┆     ┆     ┆     ┆     ┆     ┆     ┆     ┆     ┆     ┆     ┆ 655 │\n",
       "│     ┆     ┆     ┆     ┆     ┆     ┆     ┆     ┆     ┆ …   ┆     ┆     ┆     ┆     ┆     ┆     ┆     ┆     ┆     ┆     ┆     ┆     ┆     ┆     ┆     ┆     ┆     ┆     ┆ …   │\n",
       "│ 203 ┆ Swa ┆ Sec ┆ Del ┆ 616 ┆ 202 ┆ Del ┆ Zom ┆ 2km ┆ 1 x ┆ nul ┆ 40% ┆ 584 ┆ 25. ┆ 80. ┆ 0.0 ┆ 0.0 ┆ 0.0 ┆ 529 ┆ nul ┆ nul ┆ nul ┆ nul ┆ nul ┆ 15. ┆ 1.0 ┆ Cor ┆ nul ┆ d21 │\n",
       "│ 206 ┆ ad  ┆ tor ┆ hi  ┆ 754 ┆ 4-0 ┆ ive ┆ ato ┆     ┆ Per ┆ l   ┆ off ┆ .0  ┆ 2   ┆ 0   ┆     ┆     ┆     ┆ .2  ┆ l   ┆ l   ┆ l   ┆ l   ┆ l   ┆ 97  ┆     ┆ rec ┆ l   ┆ a2a │\n",
       "│ 07  ┆     ┆ 4   ┆ NCR ┆ 089 ┆ 9-1 ┆ red ┆ Del ┆     ┆ i   ┆     ┆ upt ┆     ┆     ┆     ┆     ┆     ┆     ┆     ┆     ┆     ┆     ┆     ┆     ┆     ┆     ┆ tly ┆     ┆ c6e │\n",
       "│     ┆     ┆     ┆     ┆ 7   ┆ 0   ┆     ┆ ive ┆     ┆ Per ┆     ┆ o   ┆     ┆     ┆     ┆     ┆     ┆     ┆     ┆     ┆     ┆     ┆     ┆     ┆     ┆     ┆     ┆     ┆ a06 │\n",
       "│     ┆     ┆     ┆     ┆     ┆ 15: ┆     ┆ ry  ┆     ┆ i   ┆     ┆ Rs. ┆     ┆     ┆     ┆     ┆     ┆     ┆     ┆     ┆     ┆     ┆     ┆     ┆     ┆     ┆     ┆     ┆ b31 │\n",
       "│     ┆     ┆     ┆     ┆     ┆ 04: ┆     ┆     ┆     ┆ Kri ┆     ┆ 80  ┆     ┆     ┆     ┆     ┆     ┆     ┆     ┆     ┆     ┆     ┆     ┆     ┆     ┆     ┆     ┆     ┆ cc3 │\n",
       "│     ┆     ┆     ┆     ┆     ┆ 00  ┆     ┆     ┆     ┆ spe ┆     ┆     ┆     ┆     ┆     ┆     ┆     ┆     ┆     ┆     ┆     ┆     ┆     ┆     ┆     ┆     ┆     ┆     ┆ 288 │\n",
       "│     ┆     ┆     ┆     ┆     ┆     ┆     ┆     ┆     ┆ rs, ┆     ┆     ┆     ┆     ┆     ┆     ┆     ┆     ┆     ┆     ┆     ┆     ┆     ┆     ┆     ┆     ┆     ┆     ┆ ab2 │\n",
       "│     ┆     ┆     ┆     ┆     ┆     ┆     ┆     ┆     ┆ 1 x ┆     ┆     ┆     ┆     ┆     ┆     ┆     ┆     ┆     ┆     ┆     ┆     ┆     ┆     ┆     ┆     ┆     ┆     ┆ 0c4 │\n",
       "│     ┆     ┆     ┆     ┆     ┆     ┆     ┆     ┆     ┆ Fr… ┆     ┆     ┆     ┆     ┆     ┆     ┆     ┆     ┆     ┆     ┆     ┆     ┆     ┆     ┆     ┆     ┆     ┆     ┆ ef2 │\n",
       "│     ┆     ┆     ┆     ┆     ┆     ┆     ┆     ┆     ┆     ┆     ┆     ┆     ┆     ┆     ┆     ┆     ┆     ┆     ┆     ┆     ┆     ┆     ┆     ┆     ┆     ┆     ┆     ┆ …   │\n",
       "└─────┴─────┴─────┴─────┴─────┴─────┴─────┴─────┴─────┴─────┴─────┴─────┴─────┴─────┴─────┴─────┴─────┴─────┴─────┴─────┴─────┴─────┴─────┴─────┴─────┴─────┴─────┴─────┴─────┘"
      ]
     },
     "execution_count": 135,
     "metadata": {},
     "output_type": "execute_result"
    }
   ],
   "source": [
    "# Cast 'order_placed_at' to datetime\n",
    "# Ask Steven if timezones should be considered \n",
    "df_recast_order_time = df_recast_ids.with_columns(\n",
    "    pl.col('order_placed_at').str.strptime(pl.Datetime, format='%I:%M %p, %B %d %Y').alias('order_placed_at')\n",
    ")\n",
    "\n",
    "print(len(df_recast_order_time))\n",
    "df_recast_order_time.head()"
   ]
  },
  {
   "cell_type": "code",
   "execution_count": 137,
   "metadata": {},
   "outputs": [],
   "source": [
    "# Assert re-casting of 'order_placed_at' field did not lead to any new nulls\n",
    "assert df_recast_order_time.null_count()['order_placed_at'].item() == df_recast_ids.null_count()['order_placed_at'].item()"
   ]
  },
  {
   "cell_type": "code",
   "execution_count": null,
   "metadata": {},
   "outputs": [
    {
     "name": "stdout",
     "output_type": "stream",
     "text": [
      "shape: (1,)\n",
      "Series: 'order_placed_at' [str]\n",
      "[\n",
      "\t\"11:38 PM, September 10 2024\"\n",
      "]\n",
      "shape: (1,)\n",
      "Series: 'order_placed_at' [datetime[μs]]\n",
      "[\n",
      "\t2024-09-10 23:38:00\n",
      "]\n"
     ]
    }
   ],
   "source": [
    "# Check if re-casting looks correct based on one example\n",
    "print(df_recast_ids.filter(pl.col('order_id')=='6168884918')['order_placed_at'])\n",
    "\n",
    "print(df_recast_order_time.filter(pl.col('order_id')=='6168884918')['order_placed_at'])"
   ]
  },
  {
   "cell_type": "code",
   "execution_count": 151,
   "metadata": {},
   "outputs": [
    {
     "data": {
      "text/plain": [
       "{'10km',\n",
       " '11km',\n",
       " '12km',\n",
       " '13km',\n",
       " '14km',\n",
       " '15km',\n",
       " '16km',\n",
       " '17km',\n",
       " '18km',\n",
       " '19km',\n",
       " '1km',\n",
       " '20km',\n",
       " '21km',\n",
       " '2km',\n",
       " '3km',\n",
       " '4km',\n",
       " '5km',\n",
       " '6km',\n",
       " '7km',\n",
       " '8km',\n",
       " '9km',\n",
       " '<1km'}"
      ]
     },
     "execution_count": 151,
     "metadata": {},
     "output_type": "execute_result"
    }
   ],
   "source": [
    "set(df_recast_order_time['distance'])"
   ]
  },
  {
   "cell_type": "code",
   "execution_count": 159,
   "metadata": {},
   "outputs": [
    {
     "name": "stdout",
     "output_type": "stream",
     "text": [
      "21321\n"
     ]
    },
    {
     "data": {
      "text/html": [
       "<div><style>\n",
       ".dataframe > thead > tr,\n",
       ".dataframe > tbody > tr {\n",
       "  text-align: right;\n",
       "  white-space: pre-wrap;\n",
       "}\n",
       "</style>\n",
       "<small>shape: (5, 2)</small><table border=\"1\" class=\"dataframe\"><thead><tr><th>distance</th><th>distance_km</th></tr><tr><td>str</td><td>f32</td></tr></thead><tbody><tr><td>&quot;3km&quot;</td><td>3.0</td></tr><tr><td>&quot;2km&quot;</td><td>2.0</td></tr><tr><td>&quot;&lt;1km&quot;</td><td>0.5</td></tr><tr><td>&quot;2km&quot;</td><td>2.0</td></tr><tr><td>&quot;2km&quot;</td><td>2.0</td></tr></tbody></table></div>"
      ],
      "text/plain": [
       "shape: (5, 2)\n",
       "┌──────────┬─────────────┐\n",
       "│ distance ┆ distance_km │\n",
       "│ ---      ┆ ---         │\n",
       "│ str      ┆ f32         │\n",
       "╞══════════╪═════════════╡\n",
       "│ 3km      ┆ 3.0         │\n",
       "│ 2km      ┆ 2.0         │\n",
       "│ <1km     ┆ 0.5         │\n",
       "│ 2km      ┆ 2.0         │\n",
       "│ 2km      ┆ 2.0         │\n",
       "└──────────┴─────────────┘"
      ]
     },
     "execution_count": 159,
     "metadata": {},
     "output_type": "execute_result"
    }
   ],
   "source": [
    "# Remove the km from 'distance' field and re-cast as float\n",
    "# '<1km' value will be changed to 0.5 (ask Steven his thoughts on this) \n",
    "df_recast = df_recast_order_time.with_columns(\n",
    "    pl.when(\n",
    "        pl.col('distance') == '<1km'\n",
    "    ).then(\n",
    "        pl.lit('0.5km')\n",
    "    ).otherwise(\n",
    "        pl.col('distance')\n",
    "    ).str.replace('km', '').cast(pl.Float32).alias('distance_km')\n",
    ")\n",
    "\n",
    "assert len(df_recast) == len(df)\n",
    "assert df_recast.null_count()['distance_km'].item() == df.null_count()['distance'].item()\n",
    "\n",
    "print(len(df_recast))\n",
    "df_recast.select(['distance', 'distance_km']).head()"
   ]
  },
  {
   "cell_type": "markdown",
   "metadata": {},
   "source": [
    "#### 4. Standardize the values in each column"
   ]
  },
  {
   "cell_type": "code",
   "execution_count": 223,
   "metadata": {},
   "outputs": [
    {
     "name": "stderr",
     "output_type": "stream",
     "text": [
      "C:\\Users\\kozha\\AppData\\Local\\Temp\\ipykernel_25796\\3440238218.py:27: DeprecationWarning:\n",
      "\n",
      "Use of `how='outer'` should be replaced with `how='full'`.\n",
      "\n"
     ]
    },
    {
     "data": {
      "text/html": [
       "<div><style>\n",
       ".dataframe > thead > tr,\n",
       ".dataframe > tbody > tr {\n",
       "  text-align: right;\n",
       "  white-space: pre-wrap;\n",
       "}\n",
       "</style>\n",
       "<small>shape: (9, 5)</small><table border=\"1\" class=\"dataframe\"><thead><tr><th>column_name</th><th>unique_values</th><th>null_values</th><th>unique_null_values</th><th>unique_values_non_null</th></tr><tr><td>str</td><td>u32</td><td>u32</td><td>u32</td><td>u32</td></tr></thead><tbody><tr><td>&quot;restaurant_name&quot;</td><td>6</td><td>0</td><td>0</td><td>6</td></tr><tr><td>&quot;city&quot;</td><td>1</td><td>0</td><td>0</td><td>1</td></tr><tr><td>&quot;order_status&quot;</td><td>6</td><td>0</td><td>0</td><td>6</td></tr><tr><td>&quot;delivery&quot;</td><td>1</td><td>0</td><td>0</td><td>1</td></tr><tr><td>&quot;rating&quot;</td><td>6</td><td>18830</td><td>1</td><td>5</td></tr><tr><td>&quot;cancellation_rejection_reason&quot;</td><td>6</td><td>21135</td><td>1</td><td>5</td></tr><tr><td>&quot;restaurant_penalty_rejection&quot;</td><td>2</td><td>21318</td><td>1</td><td>1</td></tr><tr><td>&quot;order_ready_marked&quot;</td><td>3</td><td>0</td><td>0</td><td>3</td></tr><tr><td>&quot;customer_complaint_tag&quot;</td><td>6</td><td>20852</td><td>1</td><td>5</td></tr></tbody></table></div>"
      ],
      "text/plain": [
       "shape: (9, 5)\n",
       "┌───────────────────────┬───────────────┬─────────────┬────────────────────┬───────────────────────┐\n",
       "│ column_name           ┆ unique_values ┆ null_values ┆ unique_null_values ┆ unique_values_non_nul │\n",
       "│ ---                   ┆ ---           ┆ ---         ┆ ---                ┆ l                     │\n",
       "│ str                   ┆ u32           ┆ u32         ┆ u32                ┆ ---                   │\n",
       "│                       ┆               ┆             ┆                    ┆ u32                   │\n",
       "╞═══════════════════════╪═══════════════╪═════════════╪════════════════════╪═══════════════════════╡\n",
       "│ restaurant_name       ┆ 6             ┆ 0           ┆ 0                  ┆ 6                     │\n",
       "│ city                  ┆ 1             ┆ 0           ┆ 0                  ┆ 1                     │\n",
       "│ order_status          ┆ 6             ┆ 0           ┆ 0                  ┆ 6                     │\n",
       "│ delivery              ┆ 1             ┆ 0           ┆ 0                  ┆ 1                     │\n",
       "│ rating                ┆ 6             ┆ 18830       ┆ 1                  ┆ 5                     │\n",
       "│ cancellation_rejectio ┆ 6             ┆ 21135       ┆ 1                  ┆ 5                     │\n",
       "│ n_reason              ┆               ┆             ┆                    ┆                       │\n",
       "│ restaurant_penalty_re ┆ 2             ┆ 21318       ┆ 1                  ┆ 1                     │\n",
       "│ jection               ┆               ┆             ┆                    ┆                       │\n",
       "│ order_ready_marked    ┆ 3             ┆ 0           ┆ 0                  ┆ 3                     │\n",
       "│ customer_complaint_ta ┆ 6             ┆ 20852       ┆ 1                  ┆ 5                     │\n",
       "│ g                     ┆               ┆             ┆                    ┆                       │\n",
       "└───────────────────────┴───────────────┴─────────────┴────────────────────┴───────────────────────┘"
      ]
     },
     "execution_count": 223,
     "metadata": {},
     "output_type": "execute_result"
    }
   ],
   "source": [
    "# Find fields where only a few values exist (potentially to be one hot encoded) \n",
    "\n",
    "unique_vals_df = df_recast.select(\n",
    "    pl.all().n_unique()\n",
    ").unpivot(\n",
    "    variable_name='column_name',\n",
    "    value_name='unique_values'\n",
    ")\n",
    "\n",
    "null_vals_df = df_recast.select(\n",
    "    pl.all().null_count()\n",
    ").unpivot(\n",
    "    variable_name='column_name',\n",
    "    value_name='null_values'\n",
    ").with_columns(\n",
    "    pl.when(\n",
    "        pl.col('null_values') == 0\n",
    "    ).then(\n",
    "        pl.col('null_values')\n",
    "    ).otherwise(\n",
    "        pl.lit(1)\n",
    "    ).alias('unique_null_values')\n",
    ")\n",
    "\n",
    "assert len(null_vals_df) == len(unique_vals_df)\n",
    "\n",
    "unique_vals_non_null_df = unique_vals_df.join(\n",
    "    null_vals_df, \n",
    "    how='outer', \n",
    "    on='column_name', \n",
    "    coalesce=True\n",
    ").with_columns(\n",
    "    (pl.col('unique_values') - pl.col('unique_null_values')).alias('unique_values_non_null')\n",
    ")\n",
    "\n",
    "optimal_category_values = 6 # To discuss with Steven the most-optimal number here\n",
    "\n",
    "potential_encoded_fields = set(unique_vals_non_null_df.filter(pl.col('unique_values_non_null') <= optimal_category_values)['column_name'])\n",
    "\n",
    "unique_vals_non_null_df.filter(\n",
    "    pl.col('unique_values_non_null') <= optimal_category_values \n",
    ")\n",
    "\n",
    "# Notes:\n",
    "# - Some fields need to be checked to see if they are ready to be one-hot encoded"
   ]
  },
  {
   "cell_type": "code",
   "execution_count": 224,
   "metadata": {},
   "outputs": [
    {
     "name": "stdout",
     "output_type": "stream",
     "text": [
      "order_status: ['Picked up', 'Timed out', 'Rejected', 'Returned', 'Return cancelled', 'Delivered']\n",
      "order_ready_marked: ['Correctly', 'Missed', 'Incorrectly']\n",
      "cancellation_rejection_reason: ['Kitchen is full', None, 'Cancelled by Customer', 'Merchant device issue', 'Cancelled by Zomato', 'Items out of stock']\n",
      "customer_complaint_tag: ['Poor taste or quality', 'Non-refunded complaint', None, 'Wrong item(s) delivered', 'Item(s) missing or not delivered', 'Poor packaging or spillage']\n",
      "city: ['Delhi NCR']\n",
      "delivery: ['Zomato Delivery']\n",
      "rating: [None, 3.0, 5.0, 2.0, 1.0, 4.0]\n",
      "restaurant_name: ['Swaad', 'Tandoori Junction', 'Masala Junction', 'The Chicken Junction', 'Aura Pizzas', 'Dilli Burger Adda']\n",
      "restaurant_penalty_rejection: [None, 0.0]\n"
     ]
    }
   ],
   "source": [
    "for column in potential_encoded_fields:\n",
    "    print(f'{column}: {list(df_recast.select(pl.col(column)).unique()[column])}')\n",
    "\n",
    "# Notes: \n",
    "# - 'order_ready_marked' field looks best to be one-hot encoded as it contains fewest unique values and has no nulls\n",
    "# - 'order_status' field looks second-best to be one-hot-encoded\n",
    "\n",
    "# Correction \n",
    "# - However both fields are representative of information collected after order is made and are not known at time of inference\n",
    "# - No fields to one hot encode for v1"
   ]
  },
  {
   "cell_type": "code",
   "execution_count": 419,
   "metadata": {},
   "outputs": [
    {
     "name": "stdout",
     "output_type": "stream",
     "text": [
      "Fields to be dropped : {'delivery', 'city'}\n"
     ]
    }
   ],
   "source": [
    "# Drop 'city' and 'delivery' fields as they have the same value accross all records\n",
    "\n",
    "fields_with_one_value = set(unique_vals_non_null_df.filter(pl.col('unique_values')==1)['column_name'])\n",
    "print(f'Fields to be dropped : {fields_with_one_value}')\n",
    "\n",
    "df_dropped = df_recast.drop(fields_with_one_value)\n",
    "\n",
    "assert len(df_dropped) == len(df_recast)\n",
    "assert len(df_dropped.columns) == len(df_recast.columns) - len(fields_with_one_value)"
   ]
  },
  {
   "cell_type": "code",
   "execution_count": 420,
   "metadata": {},
   "outputs": [
    {
     "name": "stdout",
     "output_type": "stream",
     "text": [
      "New columns generated:\n"
     ]
    },
    {
     "data": {
      "text/html": [
       "<div><style>\n",
       ".dataframe > thead > tr,\n",
       ".dataframe > tbody > tr {\n",
       "  text-align: right;\n",
       "  white-space: pre-wrap;\n",
       "}\n",
       "</style>\n",
       "<small>shape: (0, 0)</small><table border=\"1\" class=\"dataframe\"><thead><tr></tr><tr></tr></thead><tbody></tbody></table></div>"
      ],
      "text/plain": [
       "shape: (0, 0)\n",
       "┌┐\n",
       "╞╡\n",
       "└┘"
      ]
     },
     "execution_count": 420,
     "metadata": {},
     "output_type": "execute_result"
    }
   ],
   "source": [
    "# One-hot encode values from the 'order_status', 'order_ready_marked' fields\n",
    "\n",
    "# fields_to_encode = ['order_status', 'order_ready_marked']\n",
    "fields_to_encode = []\n",
    "\n",
    "df_encoded = df_dropped.to_dummies(fields_to_encode)\n",
    "\n",
    "assert len(df_encoded) == len(raw_df)\n",
    "\n",
    "# Print newly generated columns\n",
    "print(f'New columns generated:')\n",
    "[print(x) for x in sorted(set(df_encoded.columns) - set(df_recast.columns))]\n",
    "\n",
    "# Re-convert all columns to be lower-case after encoding\n",
    "df_encoded.columns = [x.lower().replace(' ', '_') for x in df_encoded.columns]\n",
    "\n",
    "# Assert new encoded columns do not have any nulls (as base column did not contain nulls)\n",
    "for field in fields_to_encode:\n",
    "    assert df_encoded.select(pl.col(column) for column in df_encoded.columns if field in column).null_count().sum_horizontal().item() == 0\n",
    "\n",
    "df_encoded.select(\n",
    "    pl.col(column) for column in set(df_encoded.columns) - set(df_recast.columns)\n",
    ").head()"
   ]
  },
  {
   "cell_type": "markdown",
   "metadata": {},
   "source": [
    "#### 5. Plot distribution of orders across Restaurant, and Restaurant + Subzone"
   ]
  },
  {
   "cell_type": "code",
   "execution_count": 421,
   "metadata": {},
   "outputs": [
    {
     "name": "stdout",
     "output_type": "stream",
     "text": [
      "21321\n"
     ]
    },
    {
     "data": {
      "text/html": [
       "<div><style>\n",
       ".dataframe > thead > tr,\n",
       ".dataframe > tbody > tr {\n",
       "  text-align: right;\n",
       "  white-space: pre-wrap;\n",
       "}\n",
       "</style>\n",
       "<small>shape: (5, 28)</small><table border=\"1\" class=\"dataframe\"><thead><tr><th>restaurant_id</th><th>restaurant_name</th><th>subzone</th><th>order_id</th><th>order_placed_at</th><th>order_status</th><th>distance</th><th>items_in_order</th><th>instructions</th><th>discount_construct</th><th>bill_subtotal</th><th>packaging_charges</th><th>restaurant_discount_promo</th><th>restaurant_discount_others</th><th>gold_discount</th><th>brand_pack_discount</th><th>total</th><th>rating</th><th>review</th><th>cancellation_rejection_reason</th><th>restaurant_compensation_cancellation</th><th>restaurant_penalty_rejection</th><th>kpt_duration_minutes</th><th>rider_wait_time_minutes</th><th>order_ready_marked</th><th>customer_complaint_tag</th><th>customer_id</th><th>distance_km</th></tr><tr><td>str</td><td>str</td><td>str</td><td>str</td><td>datetime[μs]</td><td>str</td><td>str</td><td>str</td><td>str</td><td>str</td><td>f64</td><td>f64</td><td>f64</td><td>f64</td><td>f64</td><td>f64</td><td>f64</td><td>f64</td><td>str</td><td>str</td><td>f64</td><td>f64</td><td>f64</td><td>f64</td><td>str</td><td>str</td><td>str</td><td>f32</td></tr></thead><tbody><tr><td>&quot;20320607&quot;</td><td>&quot;Swaad&quot;</td><td>&quot;Sector 4&quot;</td><td>&quot;6168884918&quot;</td><td>2024-09-10 23:38:00</td><td>&quot;Delivered&quot;</td><td>&quot;3km&quot;</td><td>&quot;1 x Grilled Chicken Jamaican T…</td><td>null</td><td>&quot;40% off upto Rs.80&quot;</td><td>715.0</td><td>31.75</td><td>80.0</td><td>0.0</td><td>0.0</td><td>0.0</td><td>666.75</td><td>null</td><td>null</td><td>null</td><td>null</td><td>null</td><td>18.35</td><td>11.6</td><td>&quot;Correctly&quot;</td><td>null</td><td>&quot;5d6c2b96db963098bc69768bea504c…</td><td>3.0</td></tr><tr><td>&quot;20320607&quot;</td><td>&quot;Swaad&quot;</td><td>&quot;Sector 4&quot;</td><td>&quot;6170707559&quot;</td><td>2024-09-10 23:34:00</td><td>&quot;Delivered&quot;</td><td>&quot;2km&quot;</td><td>&quot;1 x Peri Peri Fries, 1 x Fried…</td><td>null</td><td>&quot;Flat Rs.175 off&quot;</td><td>1179.0</td><td>50.2</td><td>175.0</td><td>0.0</td><td>0.0</td><td>0.0</td><td>1054.2</td><td>null</td><td>null</td><td>null</td><td>null</td><td>null</td><td>16.95</td><td>3.6</td><td>&quot;Correctly&quot;</td><td>null</td><td>&quot;0781815deb4a10a574e9fee4fa0b86…</td><td>2.0</td></tr><tr><td>&quot;20320607&quot;</td><td>&quot;Swaad&quot;</td><td>&quot;Sector 4&quot;</td><td>&quot;6169375019&quot;</td><td>2024-09-10 15:52:00</td><td>&quot;Delivered&quot;</td><td>&quot;&lt;1km&quot;</td><td>&quot;1 x Bone in Peri Peri Grilled …</td><td>null</td><td>&quot;40% off upto Rs.80&quot;</td><td>310.0</td><td>11.5</td><td>80.0</td><td>0.0</td><td>0.0</td><td>0.0</td><td>241.5</td><td>null</td><td>null</td><td>null</td><td>null</td><td>null</td><td>14.05</td><td>12.2</td><td>&quot;Correctly&quot;</td><td>null</td><td>&quot;f93362f5ce5382657482d164e36818…</td><td>0.5</td></tr><tr><td>&quot;20320607&quot;</td><td>&quot;Swaad&quot;</td><td>&quot;Sector 4&quot;</td><td>&quot;6151677434&quot;</td><td>2024-09-10 15:45:00</td><td>&quot;Delivered&quot;</td><td>&quot;2km&quot;</td><td>&quot;1 x Fried Chicken Ghostbuster …</td><td>null</td><td>&quot;40% off upto Rs.80&quot;</td><td>620.0</td><td>27.0</td><td>80.0</td><td>0.0</td><td>0.0</td><td>0.0</td><td>567.0</td><td>4.0</td><td>null</td><td>null</td><td>null</td><td>null</td><td>19.0</td><td>3.3</td><td>&quot;Correctly&quot;</td><td>null</td><td>&quot;1ed226d1b8a5f7acee12fc1d667655…</td><td>2.0</td></tr><tr><td>&quot;20320607&quot;</td><td>&quot;Swaad&quot;</td><td>&quot;Sector 4&quot;</td><td>&quot;6167540897&quot;</td><td>2024-09-10 15:04:00</td><td>&quot;Delivered&quot;</td><td>&quot;2km&quot;</td><td>&quot;1 x Peri Peri Krispers, 1 x Fr…</td><td>null</td><td>&quot;40% off upto Rs.80&quot;</td><td>584.0</td><td>25.2</td><td>80.0</td><td>0.0</td><td>0.0</td><td>0.0</td><td>529.2</td><td>null</td><td>null</td><td>null</td><td>null</td><td>null</td><td>15.97</td><td>1.0</td><td>&quot;Correctly&quot;</td><td>null</td><td>&quot;d21a2ac6ea06b31cc3288ab20c4ef2…</td><td>2.0</td></tr></tbody></table></div>"
      ],
      "text/plain": [
       "shape: (5, 28)\n",
       "┌─────┬─────┬─────┬─────┬─────┬─────┬─────┬─────┬─────┬─────┬─────┬─────┬─────┬─────┬─────┬─────┬─────┬─────┬─────┬─────┬─────┬─────┬─────┬─────┬─────┬─────┬─────┬─────┐\n",
       "│ res ┆ res ┆ sub ┆ ord ┆ ord ┆ ord ┆ dis ┆ ite ┆ ins ┆ dis ┆ bil ┆ pac ┆ res ┆ res ┆ gol ┆ bra ┆ tot ┆ rat ┆ rev ┆ can ┆ res ┆ res ┆ kpt ┆ rid ┆ ord ┆ cus ┆ cus ┆ dis │\n",
       "│ tau ┆ tau ┆ zon ┆ er_ ┆ er_ ┆ er_ ┆ tan ┆ ms_ ┆ tru ┆ cou ┆ l_s ┆ kag ┆ tau ┆ tau ┆ d_d ┆ nd_ ┆ al  ┆ ing ┆ iew ┆ cel ┆ tau ┆ tau ┆ _du ┆ er_ ┆ er_ ┆ tom ┆ tom ┆ tan │\n",
       "│ ran ┆ ran ┆ e   ┆ id  ┆ pla ┆ sta ┆ ce  ┆ in_ ┆ cti ┆ nt_ ┆ ubt ┆ ing ┆ ran ┆ ran ┆ isc ┆ pac ┆ --- ┆ --- ┆ --- ┆ lat ┆ ran ┆ ran ┆ rat ┆ wai ┆ rea ┆ er_ ┆ er_ ┆ ce_ │\n",
       "│ t_i ┆ t_n ┆ --- ┆ --- ┆ ced ┆ tus ┆ --- ┆ ord ┆ ons ┆ con ┆ ota ┆ _ch ┆ t_d ┆ t_d ┆ oun ┆ k_d ┆ f64 ┆ f64 ┆ str ┆ ion ┆ t_c ┆ t_p ┆ ion ┆ t_t ┆ dy_ ┆ com ┆ id  ┆ km  │\n",
       "│ d   ┆ ame ┆ str ┆ str ┆ _at ┆ --- ┆ str ┆ er  ┆ --- ┆ str ┆ l   ┆ arg ┆ isc ┆ isc ┆ t   ┆ isc ┆     ┆     ┆     ┆ _re ┆ omp ┆ ena ┆ _mi ┆ ime ┆ mar ┆ pla ┆ --- ┆ --- │\n",
       "│ --- ┆ --- ┆     ┆     ┆ --- ┆ str ┆     ┆ --- ┆ str ┆ uct ┆ --- ┆ es  ┆ oun ┆ oun ┆ --- ┆ oun ┆     ┆     ┆     ┆ jec ┆ ens ┆ lty ┆ nut ┆ _mi ┆ ked ┆ int ┆ str ┆ f32 │\n",
       "│ str ┆ str ┆     ┆     ┆ dat ┆     ┆     ┆ str ┆     ┆ --- ┆ f64 ┆ --- ┆ t_p ┆ t_o ┆ f64 ┆ t   ┆     ┆     ┆     ┆ tio ┆ ati ┆ _re ┆ es  ┆ nut ┆ --- ┆ _ta ┆     ┆     │\n",
       "│     ┆     ┆     ┆     ┆ eti ┆     ┆     ┆     ┆     ┆ str ┆     ┆ f64 ┆ rom ┆ the ┆     ┆ --- ┆     ┆     ┆     ┆ n_r ┆ on_ ┆ jec ┆ --- ┆ es  ┆ str ┆ g   ┆     ┆     │\n",
       "│     ┆     ┆     ┆     ┆ me[ ┆     ┆     ┆     ┆     ┆     ┆     ┆     ┆ o   ┆ rs  ┆     ┆ f64 ┆     ┆     ┆     ┆ eas ┆ can ┆ tio ┆ f64 ┆ --- ┆     ┆ --- ┆     ┆     │\n",
       "│     ┆     ┆     ┆     ┆ μs] ┆     ┆     ┆     ┆     ┆     ┆     ┆     ┆ --- ┆ --- ┆     ┆     ┆     ┆     ┆     ┆ on  ┆ cel ┆ n   ┆     ┆ f64 ┆     ┆ str ┆     ┆     │\n",
       "│     ┆     ┆     ┆     ┆     ┆     ┆     ┆     ┆     ┆     ┆     ┆     ┆ f64 ┆ f64 ┆     ┆     ┆     ┆     ┆     ┆ --- ┆ …   ┆ --- ┆     ┆     ┆     ┆     ┆     ┆     │\n",
       "│     ┆     ┆     ┆     ┆     ┆     ┆     ┆     ┆     ┆     ┆     ┆     ┆     ┆     ┆     ┆     ┆     ┆     ┆     ┆ str ┆ --- ┆ f64 ┆     ┆     ┆     ┆     ┆     ┆     │\n",
       "│     ┆     ┆     ┆     ┆     ┆     ┆     ┆     ┆     ┆     ┆     ┆     ┆     ┆     ┆     ┆     ┆     ┆     ┆     ┆     ┆ f64 ┆     ┆     ┆     ┆     ┆     ┆     ┆     │\n",
       "╞═════╪═════╪═════╪═════╪═════╪═════╪═════╪═════╪═════╪═════╪═════╪═════╪═════╪═════╪═════╪═════╪═════╪═════╪═════╪═════╪═════╪═════╪═════╪═════╪═════╪═════╪═════╪═════╡\n",
       "│ 203 ┆ Swa ┆ Sec ┆ 616 ┆ 202 ┆ Del ┆ 3km ┆ 1 x ┆ nul ┆ 40% ┆ 715 ┆ 31. ┆ 80. ┆ 0.0 ┆ 0.0 ┆ 0.0 ┆ 666 ┆ nul ┆ nul ┆ nul ┆ nul ┆ nul ┆ 18. ┆ 11. ┆ Cor ┆ nul ┆ 5d6 ┆ 3.0 │\n",
       "│ 206 ┆ ad  ┆ tor ┆ 888 ┆ 4-0 ┆ ive ┆     ┆ Gri ┆ l   ┆ off ┆ .0  ┆ 75  ┆ 0   ┆     ┆     ┆     ┆ .75 ┆ l   ┆ l   ┆ l   ┆ l   ┆ l   ┆ 35  ┆ 6   ┆ rec ┆ l   ┆ c2b ┆     │\n",
       "│ 07  ┆     ┆ 4   ┆ 491 ┆ 9-1 ┆ red ┆     ┆ lle ┆     ┆ upt ┆     ┆     ┆     ┆     ┆     ┆     ┆     ┆     ┆     ┆     ┆     ┆     ┆     ┆     ┆ tly ┆     ┆ 96d ┆     │\n",
       "│     ┆     ┆     ┆ 8   ┆ 0   ┆     ┆     ┆ d   ┆     ┆ o   ┆     ┆     ┆     ┆     ┆     ┆     ┆     ┆     ┆     ┆     ┆     ┆     ┆     ┆     ┆     ┆     ┆ b96 ┆     │\n",
       "│     ┆     ┆     ┆     ┆ 23: ┆     ┆     ┆ Chi ┆     ┆ Rs. ┆     ┆     ┆     ┆     ┆     ┆     ┆     ┆     ┆     ┆     ┆     ┆     ┆     ┆     ┆     ┆     ┆ 309 ┆     │\n",
       "│     ┆     ┆     ┆     ┆ 38: ┆     ┆     ┆ cke ┆     ┆ 80  ┆     ┆     ┆     ┆     ┆     ┆     ┆     ┆     ┆     ┆     ┆     ┆     ┆     ┆     ┆     ┆     ┆ 8bc ┆     │\n",
       "│     ┆     ┆     ┆     ┆ 00  ┆     ┆     ┆ n   ┆     ┆     ┆     ┆     ┆     ┆     ┆     ┆     ┆     ┆     ┆     ┆     ┆     ┆     ┆     ┆     ┆     ┆     ┆ 697 ┆     │\n",
       "│     ┆     ┆     ┆     ┆     ┆     ┆     ┆ Jam ┆     ┆     ┆     ┆     ┆     ┆     ┆     ┆     ┆     ┆     ┆     ┆     ┆     ┆     ┆     ┆     ┆     ┆     ┆ 68b ┆     │\n",
       "│     ┆     ┆     ┆     ┆     ┆     ┆     ┆ aic ┆     ┆     ┆     ┆     ┆     ┆     ┆     ┆     ┆     ┆     ┆     ┆     ┆     ┆     ┆     ┆     ┆     ┆     ┆ ea5 ┆     │\n",
       "│     ┆     ┆     ┆     ┆     ┆     ┆     ┆ an  ┆     ┆     ┆     ┆     ┆     ┆     ┆     ┆     ┆     ┆     ┆     ┆     ┆     ┆     ┆     ┆     ┆     ┆     ┆ 04c ┆     │\n",
       "│     ┆     ┆     ┆     ┆     ┆     ┆     ┆ T…  ┆     ┆     ┆     ┆     ┆     ┆     ┆     ┆     ┆     ┆     ┆     ┆     ┆     ┆     ┆     ┆     ┆     ┆     ┆ …   ┆     │\n",
       "│ 203 ┆ Swa ┆ Sec ┆ 617 ┆ 202 ┆ Del ┆ 2km ┆ 1 x ┆ nul ┆ Fla ┆ 117 ┆ 50. ┆ 175 ┆ 0.0 ┆ 0.0 ┆ 0.0 ┆ 105 ┆ nul ┆ nul ┆ nul ┆ nul ┆ nul ┆ 16. ┆ 3.6 ┆ Cor ┆ nul ┆ 078 ┆ 2.0 │\n",
       "│ 206 ┆ ad  ┆ tor ┆ 070 ┆ 4-0 ┆ ive ┆     ┆ Per ┆ l   ┆ t   ┆ 9.0 ┆ 2   ┆ .0  ┆     ┆     ┆     ┆ 4.2 ┆ l   ┆ l   ┆ l   ┆ l   ┆ l   ┆ 95  ┆     ┆ rec ┆ l   ┆ 181 ┆     │\n",
       "│ 07  ┆     ┆ 4   ┆ 755 ┆ 9-1 ┆ red ┆     ┆ i   ┆     ┆ Rs. ┆     ┆     ┆     ┆     ┆     ┆     ┆     ┆     ┆     ┆     ┆     ┆     ┆     ┆     ┆ tly ┆     ┆ 5de ┆     │\n",
       "│     ┆     ┆     ┆ 9   ┆ 0   ┆     ┆     ┆ Per ┆     ┆ 175 ┆     ┆     ┆     ┆     ┆     ┆     ┆     ┆     ┆     ┆     ┆     ┆     ┆     ┆     ┆     ┆     ┆ b4a ┆     │\n",
       "│     ┆     ┆     ┆     ┆ 23: ┆     ┆     ┆ i   ┆     ┆ off ┆     ┆     ┆     ┆     ┆     ┆     ┆     ┆     ┆     ┆     ┆     ┆     ┆     ┆     ┆     ┆     ┆ 10a ┆     │\n",
       "│     ┆     ┆     ┆     ┆ 34: ┆     ┆     ┆ Fri ┆     ┆     ┆     ┆     ┆     ┆     ┆     ┆     ┆     ┆     ┆     ┆     ┆     ┆     ┆     ┆     ┆     ┆     ┆ 574 ┆     │\n",
       "│     ┆     ┆     ┆     ┆ 00  ┆     ┆     ┆ es, ┆     ┆     ┆     ┆     ┆     ┆     ┆     ┆     ┆     ┆     ┆     ┆     ┆     ┆     ┆     ┆     ┆     ┆     ┆ e9f ┆     │\n",
       "│     ┆     ┆     ┆     ┆     ┆     ┆     ┆ 1 x ┆     ┆     ┆     ┆     ┆     ┆     ┆     ┆     ┆     ┆     ┆     ┆     ┆     ┆     ┆     ┆     ┆     ┆     ┆ ee4 ┆     │\n",
       "│     ┆     ┆     ┆     ┆     ┆     ┆     ┆ Fri ┆     ┆     ┆     ┆     ┆     ┆     ┆     ┆     ┆     ┆     ┆     ┆     ┆     ┆     ┆     ┆     ┆     ┆     ┆ fa0 ┆     │\n",
       "│     ┆     ┆     ┆     ┆     ┆     ┆     ┆ ed… ┆     ┆     ┆     ┆     ┆     ┆     ┆     ┆     ┆     ┆     ┆     ┆     ┆     ┆     ┆     ┆     ┆     ┆     ┆ b86 ┆     │\n",
       "│     ┆     ┆     ┆     ┆     ┆     ┆     ┆     ┆     ┆     ┆     ┆     ┆     ┆     ┆     ┆     ┆     ┆     ┆     ┆     ┆     ┆     ┆     ┆     ┆     ┆     ┆ …   ┆     │\n",
       "│ 203 ┆ Swa ┆ Sec ┆ 616 ┆ 202 ┆ Del ┆ <1k ┆ 1 x ┆ nul ┆ 40% ┆ 310 ┆ 11. ┆ 80. ┆ 0.0 ┆ 0.0 ┆ 0.0 ┆ 241 ┆ nul ┆ nul ┆ nul ┆ nul ┆ nul ┆ 14. ┆ 12. ┆ Cor ┆ nul ┆ f93 ┆ 0.5 │\n",
       "│ 206 ┆ ad  ┆ tor ┆ 937 ┆ 4-0 ┆ ive ┆ m   ┆ Bon ┆ l   ┆ off ┆ .0  ┆ 5   ┆ 0   ┆     ┆     ┆     ┆ .5  ┆ l   ┆ l   ┆ l   ┆ l   ┆ l   ┆ 05  ┆ 2   ┆ rec ┆ l   ┆ 362 ┆     │\n",
       "│ 07  ┆     ┆ 4   ┆ 501 ┆ 9-1 ┆ red ┆     ┆ e   ┆     ┆ upt ┆     ┆     ┆     ┆     ┆     ┆     ┆     ┆     ┆     ┆     ┆     ┆     ┆     ┆     ┆ tly ┆     ┆ f5c ┆     │\n",
       "│     ┆     ┆     ┆ 9   ┆ 0   ┆     ┆     ┆ in  ┆     ┆ o   ┆     ┆     ┆     ┆     ┆     ┆     ┆     ┆     ┆     ┆     ┆     ┆     ┆     ┆     ┆     ┆     ┆ e53 ┆     │\n",
       "│     ┆     ┆     ┆     ┆ 15: ┆     ┆     ┆ Per ┆     ┆ Rs. ┆     ┆     ┆     ┆     ┆     ┆     ┆     ┆     ┆     ┆     ┆     ┆     ┆     ┆     ┆     ┆     ┆ 826 ┆     │\n",
       "│     ┆     ┆     ┆     ┆ 52: ┆     ┆     ┆ i   ┆     ┆ 80  ┆     ┆     ┆     ┆     ┆     ┆     ┆     ┆     ┆     ┆     ┆     ┆     ┆     ┆     ┆     ┆     ┆ 574 ┆     │\n",
       "│     ┆     ┆     ┆     ┆ 00  ┆     ┆     ┆ Per ┆     ┆     ┆     ┆     ┆     ┆     ┆     ┆     ┆     ┆     ┆     ┆     ┆     ┆     ┆     ┆     ┆     ┆     ┆ 82d ┆     │\n",
       "│     ┆     ┆     ┆     ┆     ┆     ┆     ┆ i   ┆     ┆     ┆     ┆     ┆     ┆     ┆     ┆     ┆     ┆     ┆     ┆     ┆     ┆     ┆     ┆     ┆     ┆     ┆ 164 ┆     │\n",
       "│     ┆     ┆     ┆     ┆     ┆     ┆     ┆ Gri ┆     ┆     ┆     ┆     ┆     ┆     ┆     ┆     ┆     ┆     ┆     ┆     ┆     ┆     ┆     ┆     ┆     ┆     ┆ e36 ┆     │\n",
       "│     ┆     ┆     ┆     ┆     ┆     ┆     ┆ lle ┆     ┆     ┆     ┆     ┆     ┆     ┆     ┆     ┆     ┆     ┆     ┆     ┆     ┆     ┆     ┆     ┆     ┆     ┆ 818 ┆     │\n",
       "│     ┆     ┆     ┆     ┆     ┆     ┆     ┆ d … ┆     ┆     ┆     ┆     ┆     ┆     ┆     ┆     ┆     ┆     ┆     ┆     ┆     ┆     ┆     ┆     ┆     ┆     ┆ …   ┆     │\n",
       "│ 203 ┆ Swa ┆ Sec ┆ 615 ┆ 202 ┆ Del ┆ 2km ┆ 1 x ┆ nul ┆ 40% ┆ 620 ┆ 27. ┆ 80. ┆ 0.0 ┆ 0.0 ┆ 0.0 ┆ 567 ┆ 4.0 ┆ nul ┆ nul ┆ nul ┆ nul ┆ 19. ┆ 3.3 ┆ Cor ┆ nul ┆ 1ed ┆ 2.0 │\n",
       "│ 206 ┆ ad  ┆ tor ┆ 167 ┆ 4-0 ┆ ive ┆     ┆ Fri ┆ l   ┆ off ┆ .0  ┆ 0   ┆ 0   ┆     ┆     ┆     ┆ .0  ┆     ┆ l   ┆ l   ┆ l   ┆ l   ┆ 0   ┆     ┆ rec ┆ l   ┆ 226 ┆     │\n",
       "│ 07  ┆     ┆ 4   ┆ 743 ┆ 9-1 ┆ red ┆     ┆ ed  ┆     ┆ upt ┆     ┆     ┆     ┆     ┆     ┆     ┆     ┆     ┆     ┆     ┆     ┆     ┆     ┆     ┆ tly ┆     ┆ d1b ┆     │\n",
       "│     ┆     ┆     ┆ 4   ┆ 0   ┆     ┆     ┆ Chi ┆     ┆ o   ┆     ┆     ┆     ┆     ┆     ┆     ┆     ┆     ┆     ┆     ┆     ┆     ┆     ┆     ┆     ┆     ┆ 8a5 ┆     │\n",
       "│     ┆     ┆     ┆     ┆ 15: ┆     ┆     ┆ cke ┆     ┆ Rs. ┆     ┆     ┆     ┆     ┆     ┆     ┆     ┆     ┆     ┆     ┆     ┆     ┆     ┆     ┆     ┆     ┆ f7a ┆     │\n",
       "│     ┆     ┆     ┆     ┆ 45: ┆     ┆     ┆ n   ┆     ┆ 80  ┆     ┆     ┆     ┆     ┆     ┆     ┆     ┆     ┆     ┆     ┆     ┆     ┆     ┆     ┆     ┆     ┆ cee ┆     │\n",
       "│     ┆     ┆     ┆     ┆ 00  ┆     ┆     ┆ Gho ┆     ┆     ┆     ┆     ┆     ┆     ┆     ┆     ┆     ┆     ┆     ┆     ┆     ┆     ┆     ┆     ┆     ┆     ┆ 12f ┆     │\n",
       "│     ┆     ┆     ┆     ┆     ┆     ┆     ┆ stb ┆     ┆     ┆     ┆     ┆     ┆     ┆     ┆     ┆     ┆     ┆     ┆     ┆     ┆     ┆     ┆     ┆     ┆     ┆ c1d ┆     │\n",
       "│     ┆     ┆     ┆     ┆     ┆     ┆     ┆ ust ┆     ┆     ┆     ┆     ┆     ┆     ┆     ┆     ┆     ┆     ┆     ┆     ┆     ┆     ┆     ┆     ┆     ┆     ┆ 667 ┆     │\n",
       "│     ┆     ┆     ┆     ┆     ┆     ┆     ┆ er  ┆     ┆     ┆     ┆     ┆     ┆     ┆     ┆     ┆     ┆     ┆     ┆     ┆     ┆     ┆     ┆     ┆     ┆     ┆ 655 ┆     │\n",
       "│     ┆     ┆     ┆     ┆     ┆     ┆     ┆ …   ┆     ┆     ┆     ┆     ┆     ┆     ┆     ┆     ┆     ┆     ┆     ┆     ┆     ┆     ┆     ┆     ┆     ┆     ┆ …   ┆     │\n",
       "│ 203 ┆ Swa ┆ Sec ┆ 616 ┆ 202 ┆ Del ┆ 2km ┆ 1 x ┆ nul ┆ 40% ┆ 584 ┆ 25. ┆ 80. ┆ 0.0 ┆ 0.0 ┆ 0.0 ┆ 529 ┆ nul ┆ nul ┆ nul ┆ nul ┆ nul ┆ 15. ┆ 1.0 ┆ Cor ┆ nul ┆ d21 ┆ 2.0 │\n",
       "│ 206 ┆ ad  ┆ tor ┆ 754 ┆ 4-0 ┆ ive ┆     ┆ Per ┆ l   ┆ off ┆ .0  ┆ 2   ┆ 0   ┆     ┆     ┆     ┆ .2  ┆ l   ┆ l   ┆ l   ┆ l   ┆ l   ┆ 97  ┆     ┆ rec ┆ l   ┆ a2a ┆     │\n",
       "│ 07  ┆     ┆ 4   ┆ 089 ┆ 9-1 ┆ red ┆     ┆ i   ┆     ┆ upt ┆     ┆     ┆     ┆     ┆     ┆     ┆     ┆     ┆     ┆     ┆     ┆     ┆     ┆     ┆ tly ┆     ┆ c6e ┆     │\n",
       "│     ┆     ┆     ┆ 7   ┆ 0   ┆     ┆     ┆ Per ┆     ┆ o   ┆     ┆     ┆     ┆     ┆     ┆     ┆     ┆     ┆     ┆     ┆     ┆     ┆     ┆     ┆     ┆     ┆ a06 ┆     │\n",
       "│     ┆     ┆     ┆     ┆ 15: ┆     ┆     ┆ i   ┆     ┆ Rs. ┆     ┆     ┆     ┆     ┆     ┆     ┆     ┆     ┆     ┆     ┆     ┆     ┆     ┆     ┆     ┆     ┆ b31 ┆     │\n",
       "│     ┆     ┆     ┆     ┆ 04: ┆     ┆     ┆ Kri ┆     ┆ 80  ┆     ┆     ┆     ┆     ┆     ┆     ┆     ┆     ┆     ┆     ┆     ┆     ┆     ┆     ┆     ┆     ┆ cc3 ┆     │\n",
       "│     ┆     ┆     ┆     ┆ 00  ┆     ┆     ┆ spe ┆     ┆     ┆     ┆     ┆     ┆     ┆     ┆     ┆     ┆     ┆     ┆     ┆     ┆     ┆     ┆     ┆     ┆     ┆ 288 ┆     │\n",
       "│     ┆     ┆     ┆     ┆     ┆     ┆     ┆ rs, ┆     ┆     ┆     ┆     ┆     ┆     ┆     ┆     ┆     ┆     ┆     ┆     ┆     ┆     ┆     ┆     ┆     ┆     ┆ ab2 ┆     │\n",
       "│     ┆     ┆     ┆     ┆     ┆     ┆     ┆ 1 x ┆     ┆     ┆     ┆     ┆     ┆     ┆     ┆     ┆     ┆     ┆     ┆     ┆     ┆     ┆     ┆     ┆     ┆     ┆ 0c4 ┆     │\n",
       "│     ┆     ┆     ┆     ┆     ┆     ┆     ┆ Fr… ┆     ┆     ┆     ┆     ┆     ┆     ┆     ┆     ┆     ┆     ┆     ┆     ┆     ┆     ┆     ┆     ┆     ┆     ┆ ef2 ┆     │\n",
       "│     ┆     ┆     ┆     ┆     ┆     ┆     ┆     ┆     ┆     ┆     ┆     ┆     ┆     ┆     ┆     ┆     ┆     ┆     ┆     ┆     ┆     ┆     ┆     ┆     ┆     ┆ …   ┆     │\n",
       "└─────┴─────┴─────┴─────┴─────┴─────┴─────┴─────┴─────┴─────┴─────┴─────┴─────┴─────┴─────┴─────┴─────┴─────┴─────┴─────┴─────┴─────┴─────┴─────┴─────┴─────┴─────┴─────┘"
      ]
     },
     "execution_count": 421,
     "metadata": {},
     "output_type": "execute_result"
    }
   ],
   "source": [
    "print(len(df_encoded))\n",
    "df_encoded.head()"
   ]
  },
  {
   "cell_type": "code",
   "execution_count": 422,
   "metadata": {},
   "outputs": [],
   "source": [
    "group_by_cols = ['restaurant_id', 'restaurant_name', 'subzone']\n",
    "\n",
    "# Assert each group by column has no null records \n",
    "assert null_vals_df.filter(pl.col('column_name').is_in(group_by_cols))['null_values'].sum() == 0"
   ]
  },
  {
   "cell_type": "code",
   "execution_count": 423,
   "metadata": {},
   "outputs": [
    {
     "data": {
      "text/plain": [
       "True"
      ]
     },
     "execution_count": 423,
     "metadata": {},
     "output_type": "execute_result"
    }
   ],
   "source": [
    "# Check if order_id field has any duplicates (if order_id is the grain of the dataset)\n",
    "df_encoded.filter(\n",
    "    pl.col('order_id').is_duplicated()\n",
    ").is_empty()"
   ]
  },
  {
   "cell_type": "code",
   "execution_count": 424,
   "metadata": {},
   "outputs": [
    {
     "data": {
      "text/plain": [
       "True"
      ]
     },
     "execution_count": 424,
     "metadata": {},
     "output_type": "execute_result"
    }
   ],
   "source": [
    "# Assert one restaurant name applies per each restaurant id\n",
    "df_encoded.select(\n",
    "    ['restaurant_id', 'restaurant_name']\n",
    ").unique().with_columns(\n",
    "    pl.len().over('restaurant_id').alias('restaurant_id_count')\n",
    ").filter(\n",
    "    pl.col('restaurant_id_count') > 1\n",
    ").is_empty()"
   ]
  },
  {
   "cell_type": "code",
   "execution_count": 425,
   "metadata": {},
   "outputs": [
    {
     "data": {
      "text/html": [
       "<div><style>\n",
       ".dataframe > thead > tr,\n",
       ".dataframe > tbody > tr {\n",
       "  text-align: right;\n",
       "  white-space: pre-wrap;\n",
       "}\n",
       "</style>\n",
       "<small>shape: (24, 4)</small><table border=\"1\" class=\"dataframe\"><thead><tr><th>restaurant_id</th><th>restaurant_name</th><th>subzone</th><th>restaurant_id_count</th></tr><tr><td>str</td><td>str</td><td>str</td><td>u32</td></tr></thead><tbody><tr><td>&quot;20320607&quot;</td><td>&quot;Swaad&quot;</td><td>&quot;Sector 4&quot;</td><td>1</td></tr><tr><td>&quot;20554001&quot;</td><td>&quot;Swaad&quot;</td><td>&quot;Greater Kailash 2 (GK2)&quot;</td><td>1</td></tr><tr><td>&quot;20635699&quot;</td><td>&quot;Aura Pizzas&quot;</td><td>&quot;Greater Kailash 2 (GK2)&quot;</td><td>1</td></tr><tr><td>&quot;20659868&quot;</td><td>&quot;Aura Pizzas&quot;</td><td>&quot;Sector 4&quot;</td><td>1</td></tr><tr><td>&quot;20882652&quot;</td><td>&quot;Aura Pizzas&quot;</td><td>&quot;DLF Phase 1&quot;</td><td>1</td></tr><tr><td>&quot;20882713&quot;</td><td>&quot;Swaad&quot;</td><td>&quot;DLF Phase 1&quot;</td><td>1</td></tr><tr><td>&quot;20968171&quot;</td><td>&quot;Dilli Burger Adda&quot;</td><td>&quot;DLF Phase 1&quot;</td><td>1</td></tr><tr><td>&quot;20968194&quot;</td><td>&quot;Dilli Burger Adda&quot;</td><td>&quot;Sector 4&quot;</td><td>1</td></tr><tr><td>&quot;20968206&quot;</td><td>&quot;Dilli Burger Adda&quot;</td><td>&quot;Greater Kailash 2 (GK2)&quot;</td><td>1</td></tr><tr><td>&quot;21077127&quot;</td><td>&quot;Aura Pizzas&quot;</td><td>&quot;Sector 135&quot;</td><td>1</td></tr><tr><td>&hellip;</td><td>&hellip;</td><td>&hellip;</td><td>&hellip;</td></tr><tr><td>&quot;21173951&quot;</td><td>&quot;Aura Pizzas&quot;</td><td>&quot;Vasant Kunj&quot;</td><td>1</td></tr><tr><td>&quot;21309083&quot;</td><td>&quot;Swaad&quot;</td><td>&quot;Sector 135&quot;</td><td>2</td></tr><tr><td>&quot;21309083&quot;</td><td>&quot;Swaad&quot;</td><td>&quot;Shahdara&quot;</td><td>2</td></tr><tr><td>&quot;21350931&quot;</td><td>&quot;Tandoori Junction&quot;</td><td>&quot;DLF Phase 1&quot;</td><td>1</td></tr><tr><td>&quot;21424296&quot;</td><td>&quot;Tandoori Junction&quot;</td><td>&quot;Sector 135&quot;</td><td>2</td></tr><tr><td>&quot;21424296&quot;</td><td>&quot;Tandoori Junction&quot;</td><td>&quot;Shahdara&quot;</td><td>2</td></tr><tr><td>&quot;21467269&quot;</td><td>&quot;The Chicken Junction&quot;</td><td>&quot;Sector 4&quot;</td><td>1</td></tr><tr><td>&quot;21467440&quot;</td><td>&quot;The Chicken Junction&quot;</td><td>&quot;Chittaranjan Park&quot;</td><td>1</td></tr><tr><td>&quot;21467512&quot;</td><td>&quot;The Chicken Junction&quot;</td><td>&quot;Sikandarpur&quot;</td><td>1</td></tr><tr><td>&quot;21523055&quot;</td><td>&quot;Masala Junction&quot;</td><td>&quot;Sector 4&quot;</td><td>1</td></tr></tbody></table></div>"
      ],
      "text/plain": [
       "shape: (24, 4)\n",
       "┌───────────────┬──────────────────────┬─────────────────────────┬─────────────────────┐\n",
       "│ restaurant_id ┆ restaurant_name      ┆ subzone                 ┆ restaurant_id_count │\n",
       "│ ---           ┆ ---                  ┆ ---                     ┆ ---                 │\n",
       "│ str           ┆ str                  ┆ str                     ┆ u32                 │\n",
       "╞═══════════════╪══════════════════════╪═════════════════════════╪═════════════════════╡\n",
       "│ 20320607      ┆ Swaad                ┆ Sector 4                ┆ 1                   │\n",
       "│ 20554001      ┆ Swaad                ┆ Greater Kailash 2 (GK2) ┆ 1                   │\n",
       "│ 20635699      ┆ Aura Pizzas          ┆ Greater Kailash 2 (GK2) ┆ 1                   │\n",
       "│ 20659868      ┆ Aura Pizzas          ┆ Sector 4                ┆ 1                   │\n",
       "│ 20882652      ┆ Aura Pizzas          ┆ DLF Phase 1             ┆ 1                   │\n",
       "│ 20882713      ┆ Swaad                ┆ DLF Phase 1             ┆ 1                   │\n",
       "│ 20968171      ┆ Dilli Burger Adda    ┆ DLF Phase 1             ┆ 1                   │\n",
       "│ 20968194      ┆ Dilli Burger Adda    ┆ Sector 4                ┆ 1                   │\n",
       "│ 20968206      ┆ Dilli Burger Adda    ┆ Greater Kailash 2 (GK2) ┆ 1                   │\n",
       "│ 21077127      ┆ Aura Pizzas          ┆ Sector 135              ┆ 1                   │\n",
       "│ …             ┆ …                    ┆ …                       ┆ …                   │\n",
       "│ 21173951      ┆ Aura Pizzas          ┆ Vasant Kunj             ┆ 1                   │\n",
       "│ 21309083      ┆ Swaad                ┆ Sector 135              ┆ 2                   │\n",
       "│ 21309083      ┆ Swaad                ┆ Shahdara                ┆ 2                   │\n",
       "│ 21350931      ┆ Tandoori Junction    ┆ DLF Phase 1             ┆ 1                   │\n",
       "│ 21424296      ┆ Tandoori Junction    ┆ Sector 135              ┆ 2                   │\n",
       "│ 21424296      ┆ Tandoori Junction    ┆ Shahdara                ┆ 2                   │\n",
       "│ 21467269      ┆ The Chicken Junction ┆ Sector 4                ┆ 1                   │\n",
       "│ 21467440      ┆ The Chicken Junction ┆ Chittaranjan Park       ┆ 1                   │\n",
       "│ 21467512      ┆ The Chicken Junction ┆ Sikandarpur             ┆ 1                   │\n",
       "│ 21523055      ┆ Masala Junction      ┆ Sector 4                ┆ 1                   │\n",
       "└───────────────┴──────────────────────┴─────────────────────────┴─────────────────────┘"
      ]
     },
     "execution_count": 425,
     "metadata": {},
     "output_type": "execute_result"
    }
   ],
   "source": [
    "# Check restaurant_id, subzone combination\n",
    "df_encoded.select(\n",
    "    group_by_cols\n",
    ").unique().with_columns(\n",
    "    pl.len().over('restaurant_id').alias('restaurant_id_count')\n",
    ").sort(['restaurant_id', 'subzone'])"
   ]
  },
  {
   "cell_type": "code",
   "execution_count": 426,
   "metadata": {},
   "outputs": [
    {
     "data": {
      "text/html": [
       "<div><style>\n",
       ".dataframe > thead > tr,\n",
       ".dataframe > tbody > tr {\n",
       "  text-align: right;\n",
       "  white-space: pre-wrap;\n",
       "}\n",
       "</style>\n",
       "<small>shape: (21, 4)</small><table border=\"1\" class=\"dataframe\"><thead><tr><th>restaurant_id</th><th>restaurant_name</th><th>kpt_duration_minutes</th><th>len</th></tr><tr><td>str</td><td>str</td><td>f64</td><td>u32</td></tr></thead><tbody><tr><td>&quot;20659868&quot;</td><td>&quot;Aura Pizzas&quot;</td><td>16.38072</td><td>4614</td></tr><tr><td>&quot;20635699&quot;</td><td>&quot;Aura Pizzas&quot;</td><td>17.605855</td><td>4418</td></tr><tr><td>&quot;20554001&quot;</td><td>&quot;Swaad&quot;</td><td>18.332039</td><td>2781</td></tr><tr><td>&quot;20882652&quot;</td><td>&quot;Aura Pizzas&quot;</td><td>18.85699</td><td>2545</td></tr><tr><td>&quot;21077127&quot;</td><td>&quot;Aura Pizzas&quot;</td><td>15.159645</td><td>2051</td></tr><tr><td>&quot;20320607&quot;</td><td>&quot;Swaad&quot;</td><td>15.827082</td><td>1774</td></tr><tr><td>&quot;20882713&quot;</td><td>&quot;Swaad&quot;</td><td>18.91015</td><td>1079</td></tr><tr><td>&quot;21173951&quot;</td><td>&quot;Aura Pizzas&quot;</td><td>17.427915</td><td>920</td></tr><tr><td>&quot;21309083&quot;</td><td>&quot;Swaad&quot;</td><td>18.689654</td><td>698</td></tr><tr><td>&quot;20968206&quot;</td><td>&quot;Dilli Burger Adda&quot;</td><td>20.116226</td><td>109</td></tr><tr><td>&hellip;</td><td>&hellip;</td><td>&hellip;</td><td>&hellip;</td></tr><tr><td>&quot;20968194&quot;</td><td>&quot;Dilli Burger Adda&quot;</td><td>19.495333</td><td>47</td></tr><tr><td>&quot;21145152&quot;</td><td>&quot;Tandoori Junction&quot;</td><td>19.508</td><td>38</td></tr><tr><td>&quot;21114574&quot;</td><td>&quot;Dilli Burger Adda&quot;</td><td>18.177027</td><td>37</td></tr><tr><td>&quot;20968171&quot;</td><td>&quot;Dilli Burger Adda&quot;</td><td>18.428485</td><td>34</td></tr><tr><td>&quot;21467269&quot;</td><td>&quot;The Chicken Junction&quot;</td><td>15.583103</td><td>29</td></tr><tr><td>&quot;21523055&quot;</td><td>&quot;Masala Junction&quot;</td><td>13.663846</td><td>28</td></tr><tr><td>&quot;21350931&quot;</td><td>&quot;Tandoori Junction&quot;</td><td>20.817037</td><td>28</td></tr><tr><td>&quot;21424296&quot;</td><td>&quot;Tandoori Junction&quot;</td><td>17.964375</td><td>16</td></tr><tr><td>&quot;21467440&quot;</td><td>&quot;The Chicken Junction&quot;</td><td>14.32</td><td>2</td></tr><tr><td>&quot;21467512&quot;</td><td>&quot;The Chicken Junction&quot;</td><td>15.87</td><td>1</td></tr></tbody></table></div>"
      ],
      "text/plain": [
       "shape: (21, 4)\n",
       "┌───────────────┬──────────────────────┬──────────────────────┬──────┐\n",
       "│ restaurant_id ┆ restaurant_name      ┆ kpt_duration_minutes ┆ len  │\n",
       "│ ---           ┆ ---                  ┆ ---                  ┆ ---  │\n",
       "│ str           ┆ str                  ┆ f64                  ┆ u32  │\n",
       "╞═══════════════╪══════════════════════╪══════════════════════╪══════╡\n",
       "│ 20659868      ┆ Aura Pizzas          ┆ 16.38072             ┆ 4614 │\n",
       "│ 20635699      ┆ Aura Pizzas          ┆ 17.605855            ┆ 4418 │\n",
       "│ 20554001      ┆ Swaad                ┆ 18.332039            ┆ 2781 │\n",
       "│ 20882652      ┆ Aura Pizzas          ┆ 18.85699             ┆ 2545 │\n",
       "│ 21077127      ┆ Aura Pizzas          ┆ 15.159645            ┆ 2051 │\n",
       "│ 20320607      ┆ Swaad                ┆ 15.827082            ┆ 1774 │\n",
       "│ 20882713      ┆ Swaad                ┆ 18.91015             ┆ 1079 │\n",
       "│ 21173951      ┆ Aura Pizzas          ┆ 17.427915            ┆ 920  │\n",
       "│ 21309083      ┆ Swaad                ┆ 18.689654            ┆ 698  │\n",
       "│ 20968206      ┆ Dilli Burger Adda    ┆ 20.116226            ┆ 109  │\n",
       "│ …             ┆ …                    ┆ …                    ┆ …    │\n",
       "│ 20968194      ┆ Dilli Burger Adda    ┆ 19.495333            ┆ 47   │\n",
       "│ 21145152      ┆ Tandoori Junction    ┆ 19.508               ┆ 38   │\n",
       "│ 21114574      ┆ Dilli Burger Adda    ┆ 18.177027            ┆ 37   │\n",
       "│ 20968171      ┆ Dilli Burger Adda    ┆ 18.428485            ┆ 34   │\n",
       "│ 21467269      ┆ The Chicken Junction ┆ 15.583103            ┆ 29   │\n",
       "│ 21523055      ┆ Masala Junction      ┆ 13.663846            ┆ 28   │\n",
       "│ 21350931      ┆ Tandoori Junction    ┆ 20.817037            ┆ 28   │\n",
       "│ 21424296      ┆ Tandoori Junction    ┆ 17.964375            ┆ 16   │\n",
       "│ 21467440      ┆ The Chicken Junction ┆ 14.32                ┆ 2    │\n",
       "│ 21467512      ┆ The Chicken Junction ┆ 15.87                ┆ 1    │\n",
       "└───────────────┴──────────────────────┴──────────────────────┴──────┘"
      ]
     },
     "execution_count": 426,
     "metadata": {},
     "output_type": "execute_result"
    }
   ],
   "source": [
    "df_grouped_restaurant = df_encoded.group_by(['restaurant_id', 'restaurant_name']).agg(\n",
    "    pl.col('kpt_duration_minutes').mean(),\n",
    "    pl.len()\n",
    ").sort('len', descending=True)\n",
    "df_grouped_restaurant\n",
    "\n",
    "# Notes: \n",
    "# - Huge variance in amount of times a restaurant appears in dataframe \n",
    "#   -> If certain restaurants are very slow at preparing food (have a high KPT), KPT inference is skewed"
   ]
  },
  {
   "cell_type": "code",
   "execution_count": 427,
   "metadata": {},
   "outputs": [
    {
     "data": {
      "text/html": [
       "<div><style>\n",
       ".dataframe > thead > tr,\n",
       ".dataframe > tbody > tr {\n",
       "  text-align: right;\n",
       "  white-space: pre-wrap;\n",
       "}\n",
       "</style>\n",
       "<small>shape: (8, 3)</small><table border=\"1\" class=\"dataframe\"><thead><tr><th>subzone</th><th>kpt_duration_minutes</th><th>len</th></tr><tr><td>str</td><td>f64</td><td>u32</td></tr></thead><tbody><tr><td>&quot;Greater Kailash 2 (GK2)&quot;</td><td>17.970375</td><td>7380</td></tr><tr><td>&quot;Sector 4&quot;</td><td>16.255092</td><td>6530</td></tr><tr><td>&quot;DLF Phase 1&quot;</td><td>18.883191</td><td>3686</td></tr><tr><td>&quot;Sector 135&quot;</td><td>15.748051</td><td>2442</td></tr><tr><td>&quot;Vasant Kunj&quot;</td><td>17.427915</td><td>920</td></tr><tr><td>&quot;Shahdara&quot;</td><td>18.466751</td><td>360</td></tr><tr><td>&quot;Chittaranjan Park&quot;</td><td>14.32</td><td>2</td></tr><tr><td>&quot;Sikandarpur&quot;</td><td>15.87</td><td>1</td></tr></tbody></table></div>"
      ],
      "text/plain": [
       "shape: (8, 3)\n",
       "┌─────────────────────────┬──────────────────────┬──────┐\n",
       "│ subzone                 ┆ kpt_duration_minutes ┆ len  │\n",
       "│ ---                     ┆ ---                  ┆ ---  │\n",
       "│ str                     ┆ f64                  ┆ u32  │\n",
       "╞═════════════════════════╪══════════════════════╪══════╡\n",
       "│ Greater Kailash 2 (GK2) ┆ 17.970375            ┆ 7380 │\n",
       "│ Sector 4                ┆ 16.255092            ┆ 6530 │\n",
       "│ DLF Phase 1             ┆ 18.883191            ┆ 3686 │\n",
       "│ Sector 135              ┆ 15.748051            ┆ 2442 │\n",
       "│ Vasant Kunj             ┆ 17.427915            ┆ 920  │\n",
       "│ Shahdara                ┆ 18.466751            ┆ 360  │\n",
       "│ Chittaranjan Park       ┆ 14.32                ┆ 2    │\n",
       "│ Sikandarpur             ┆ 15.87                ┆ 1    │\n",
       "└─────────────────────────┴──────────────────────┴──────┘"
      ]
     },
     "execution_count": 427,
     "metadata": {},
     "output_type": "execute_result"
    }
   ],
   "source": [
    "df_grouped_subzone = df_encoded.group_by(['subzone']).agg(\n",
    "    pl.col('kpt_duration_minutes').mean(),\n",
    "    pl.len()\n",
    ").sort('len', descending=True)\n",
    "df_grouped_subzone\n",
    "\n",
    "# Notes: \n",
    "# - Huge variance in frequency of subzones as well\n",
    "#   -> Data is skewed if certain high-frequency subzones are very slow/fast at preparing food"
   ]
  },
  {
   "cell_type": "code",
   "execution_count": 428,
   "metadata": {},
   "outputs": [
    {
     "data": {
      "text/html": [
       "<div><style>\n",
       ".dataframe > thead > tr,\n",
       ".dataframe > tbody > tr {\n",
       "  text-align: right;\n",
       "  white-space: pre-wrap;\n",
       "}\n",
       "</style>\n",
       "<small>shape: (24, 5)</small><table border=\"1\" class=\"dataframe\"><thead><tr><th>restaurant_id</th><th>restaurant_name</th><th>subzone</th><th>kpt_duration_minutes</th><th>len</th></tr><tr><td>str</td><td>str</td><td>str</td><td>f64</td><td>u32</td></tr></thead><tbody><tr><td>&quot;21077127&quot;</td><td>&quot;Aura Pizzas&quot;</td><td>&quot;Sector 135&quot;</td><td>15.159645</td><td>2051</td></tr><tr><td>&quot;20554001&quot;</td><td>&quot;Swaad&quot;</td><td>&quot;Greater Kailash 2 (GK2)&quot;</td><td>18.332039</td><td>2781</td></tr><tr><td>&quot;21309083&quot;</td><td>&quot;Swaad&quot;</td><td>&quot;Sector 135&quot;</td><td>18.893178</td><td>367</td></tr><tr><td>&quot;21523055&quot;</td><td>&quot;Masala Junction&quot;</td><td>&quot;Sector 4&quot;</td><td>13.663846</td><td>28</td></tr><tr><td>&quot;21114574&quot;</td><td>&quot;Dilli Burger Adda&quot;</td><td>&quot;Sector 135&quot;</td><td>17.31913</td><td>23</td></tr><tr><td>&quot;20882652&quot;</td><td>&quot;Aura Pizzas&quot;</td><td>&quot;DLF Phase 1&quot;</td><td>18.85699</td><td>2545</td></tr><tr><td>&quot;21114574&quot;</td><td>&quot;Dilli Burger Adda&quot;</td><td>&quot;Shahdara&quot;</td><td>19.586429</td><td>14</td></tr><tr><td>&quot;21424296&quot;</td><td>&quot;Tandoori Junction&quot;</td><td>&quot;Shahdara&quot;</td><td>17.5</td><td>15</td></tr><tr><td>&quot;21467512&quot;</td><td>&quot;The Chicken Junction&quot;</td><td>&quot;Sikandarpur&quot;</td><td>15.87</td><td>1</td></tr><tr><td>&quot;21309083&quot;</td><td>&quot;Swaad&quot;</td><td>&quot;Shahdara&quot;</td><td>18.463171</td><td>331</td></tr><tr><td>&hellip;</td><td>&hellip;</td><td>&hellip;</td><td>&hellip;</td><td>&hellip;</td></tr><tr><td>&quot;21145152&quot;</td><td>&quot;Tandoori Junction&quot;</td><td>&quot;Sector 4&quot;</td><td>19.508</td><td>38</td></tr><tr><td>&quot;21424296&quot;</td><td>&quot;Tandoori Junction&quot;</td><td>&quot;Sector 135&quot;</td><td>24.93</td><td>1</td></tr><tr><td>&quot;21467269&quot;</td><td>&quot;The Chicken Junction&quot;</td><td>&quot;Sector 4&quot;</td><td>15.583103</td><td>29</td></tr><tr><td>&quot;20635699&quot;</td><td>&quot;Aura Pizzas&quot;</td><td>&quot;Greater Kailash 2 (GK2)&quot;</td><td>17.605855</td><td>4418</td></tr><tr><td>&quot;20968171&quot;</td><td>&quot;Dilli Burger Adda&quot;</td><td>&quot;DLF Phase 1&quot;</td><td>18.428485</td><td>34</td></tr><tr><td>&quot;21173951&quot;</td><td>&quot;Aura Pizzas&quot;</td><td>&quot;Vasant Kunj&quot;</td><td>17.427915</td><td>920</td></tr><tr><td>&quot;20320607&quot;</td><td>&quot;Swaad&quot;</td><td>&quot;Sector 4&quot;</td><td>15.827082</td><td>1774</td></tr><tr><td>&quot;20659868&quot;</td><td>&quot;Aura Pizzas&quot;</td><td>&quot;Sector 4&quot;</td><td>16.38072</td><td>4614</td></tr><tr><td>&quot;20882713&quot;</td><td>&quot;Swaad&quot;</td><td>&quot;DLF Phase 1&quot;</td><td>18.91015</td><td>1079</td></tr><tr><td>&quot;20968194&quot;</td><td>&quot;Dilli Burger Adda&quot;</td><td>&quot;Sector 4&quot;</td><td>19.495333</td><td>47</td></tr></tbody></table></div>"
      ],
      "text/plain": [
       "shape: (24, 5)\n",
       "┌───────────────┬──────────────────────┬─────────────────────────┬──────────────────────┬──────┐\n",
       "│ restaurant_id ┆ restaurant_name      ┆ subzone                 ┆ kpt_duration_minutes ┆ len  │\n",
       "│ ---           ┆ ---                  ┆ ---                     ┆ ---                  ┆ ---  │\n",
       "│ str           ┆ str                  ┆ str                     ┆ f64                  ┆ u32  │\n",
       "╞═══════════════╪══════════════════════╪═════════════════════════╪══════════════════════╪══════╡\n",
       "│ 21077127      ┆ Aura Pizzas          ┆ Sector 135              ┆ 15.159645            ┆ 2051 │\n",
       "│ 20554001      ┆ Swaad                ┆ Greater Kailash 2 (GK2) ┆ 18.332039            ┆ 2781 │\n",
       "│ 21309083      ┆ Swaad                ┆ Sector 135              ┆ 18.893178            ┆ 367  │\n",
       "│ 21523055      ┆ Masala Junction      ┆ Sector 4                ┆ 13.663846            ┆ 28   │\n",
       "│ 21114574      ┆ Dilli Burger Adda    ┆ Sector 135              ┆ 17.31913             ┆ 23   │\n",
       "│ 20882652      ┆ Aura Pizzas          ┆ DLF Phase 1             ┆ 18.85699             ┆ 2545 │\n",
       "│ 21114574      ┆ Dilli Burger Adda    ┆ Shahdara                ┆ 19.586429            ┆ 14   │\n",
       "│ 21424296      ┆ Tandoori Junction    ┆ Shahdara                ┆ 17.5                 ┆ 15   │\n",
       "│ 21467512      ┆ The Chicken Junction ┆ Sikandarpur             ┆ 15.87                ┆ 1    │\n",
       "│ 21309083      ┆ Swaad                ┆ Shahdara                ┆ 18.463171            ┆ 331  │\n",
       "│ …             ┆ …                    ┆ …                       ┆ …                    ┆ …    │\n",
       "│ 21145152      ┆ Tandoori Junction    ┆ Sector 4                ┆ 19.508               ┆ 38   │\n",
       "│ 21424296      ┆ Tandoori Junction    ┆ Sector 135              ┆ 24.93                ┆ 1    │\n",
       "│ 21467269      ┆ The Chicken Junction ┆ Sector 4                ┆ 15.583103            ┆ 29   │\n",
       "│ 20635699      ┆ Aura Pizzas          ┆ Greater Kailash 2 (GK2) ┆ 17.605855            ┆ 4418 │\n",
       "│ 20968171      ┆ Dilli Burger Adda    ┆ DLF Phase 1             ┆ 18.428485            ┆ 34   │\n",
       "│ 21173951      ┆ Aura Pizzas          ┆ Vasant Kunj             ┆ 17.427915            ┆ 920  │\n",
       "│ 20320607      ┆ Swaad                ┆ Sector 4                ┆ 15.827082            ┆ 1774 │\n",
       "│ 20659868      ┆ Aura Pizzas          ┆ Sector 4                ┆ 16.38072             ┆ 4614 │\n",
       "│ 20882713      ┆ Swaad                ┆ DLF Phase 1             ┆ 18.91015             ┆ 1079 │\n",
       "│ 20968194      ┆ Dilli Burger Adda    ┆ Sector 4                ┆ 19.495333            ┆ 47   │\n",
       "└───────────────┴──────────────────────┴─────────────────────────┴──────────────────────┴──────┘"
      ]
     },
     "execution_count": 428,
     "metadata": {},
     "output_type": "execute_result"
    }
   ],
   "source": [
    "df_grouped_restaurant_subzone = df_encoded.group_by(group_by_cols).agg(\n",
    "    pl.col('kpt_duration_minutes').mean(),\n",
    "    pl.len()\n",
    ")\n",
    "df_grouped_restaurant_subzone"
   ]
  },
  {
   "cell_type": "code",
   "execution_count": 429,
   "metadata": {},
   "outputs": [
    {
     "data": {
      "application/vnd.plotly.v1+json": {
       "config": {
        "plotlyServerURL": "https://plot.ly"
       },
       "data": [
        {
         "hovertemplate": "restaurant_id=%{x}<br>len=%{y}<extra></extra>",
         "legendgroup": "20659868",
         "marker": {
          "color": "#636efa",
          "pattern": {
           "shape": ""
          }
         },
         "name": "20659868",
         "orientation": "v",
         "showlegend": true,
         "textposition": "auto",
         "type": "bar",
         "x": [
          "20659868"
         ],
         "xaxis": "x",
         "y": {
          "bdata": "BhIAAA==",
          "dtype": "u4"
         },
         "yaxis": "y"
        },
        {
         "hovertemplate": "restaurant_id=%{x}<br>len=%{y}<extra></extra>",
         "legendgroup": "20635699",
         "marker": {
          "color": "#EF553B",
          "pattern": {
           "shape": ""
          }
         },
         "name": "20635699",
         "orientation": "v",
         "showlegend": true,
         "textposition": "auto",
         "type": "bar",
         "x": [
          "20635699"
         ],
         "xaxis": "x",
         "y": {
          "bdata": "QhEAAA==",
          "dtype": "u4"
         },
         "yaxis": "y"
        },
        {
         "hovertemplate": "restaurant_id=%{x}<br>len=%{y}<extra></extra>",
         "legendgroup": "20554001",
         "marker": {
          "color": "#00cc96",
          "pattern": {
           "shape": ""
          }
         },
         "name": "20554001",
         "orientation": "v",
         "showlegend": true,
         "textposition": "auto",
         "type": "bar",
         "x": [
          "20554001"
         ],
         "xaxis": "x",
         "y": {
          "bdata": "3QoAAA==",
          "dtype": "u4"
         },
         "yaxis": "y"
        },
        {
         "hovertemplate": "restaurant_id=%{x}<br>len=%{y}<extra></extra>",
         "legendgroup": "20882652",
         "marker": {
          "color": "#ab63fa",
          "pattern": {
           "shape": ""
          }
         },
         "name": "20882652",
         "orientation": "v",
         "showlegend": true,
         "textposition": "auto",
         "type": "bar",
         "x": [
          "20882652"
         ],
         "xaxis": "x",
         "y": {
          "bdata": "8QkAAA==",
          "dtype": "u4"
         },
         "yaxis": "y"
        },
        {
         "hovertemplate": "restaurant_id=%{x}<br>len=%{y}<extra></extra>",
         "legendgroup": "21077127",
         "marker": {
          "color": "#FFA15A",
          "pattern": {
           "shape": ""
          }
         },
         "name": "21077127",
         "orientation": "v",
         "showlegend": true,
         "textposition": "auto",
         "type": "bar",
         "x": [
          "21077127"
         ],
         "xaxis": "x",
         "y": {
          "bdata": "AwgAAA==",
          "dtype": "u4"
         },
         "yaxis": "y"
        },
        {
         "hovertemplate": "restaurant_id=%{x}<br>len=%{y}<extra></extra>",
         "legendgroup": "20320607",
         "marker": {
          "color": "#19d3f3",
          "pattern": {
           "shape": ""
          }
         },
         "name": "20320607",
         "orientation": "v",
         "showlegend": true,
         "textposition": "auto",
         "type": "bar",
         "x": [
          "20320607"
         ],
         "xaxis": "x",
         "y": {
          "bdata": "7gYAAA==",
          "dtype": "u4"
         },
         "yaxis": "y"
        },
        {
         "hovertemplate": "restaurant_id=%{x}<br>len=%{y}<extra></extra>",
         "legendgroup": "20882713",
         "marker": {
          "color": "#FF6692",
          "pattern": {
           "shape": ""
          }
         },
         "name": "20882713",
         "orientation": "v",
         "showlegend": true,
         "textposition": "auto",
         "type": "bar",
         "x": [
          "20882713"
         ],
         "xaxis": "x",
         "y": {
          "bdata": "NwQAAA==",
          "dtype": "u4"
         },
         "yaxis": "y"
        },
        {
         "hovertemplate": "restaurant_id=%{x}<br>len=%{y}<extra></extra>",
         "legendgroup": "21173951",
         "marker": {
          "color": "#B6E880",
          "pattern": {
           "shape": ""
          }
         },
         "name": "21173951",
         "orientation": "v",
         "showlegend": true,
         "textposition": "auto",
         "type": "bar",
         "x": [
          "21173951"
         ],
         "xaxis": "x",
         "y": {
          "bdata": "mAMAAA==",
          "dtype": "u4"
         },
         "yaxis": "y"
        },
        {
         "hovertemplate": "restaurant_id=%{x}<br>len=%{y}<extra></extra>",
         "legendgroup": "21309083",
         "marker": {
          "color": "#FF97FF",
          "pattern": {
           "shape": ""
          }
         },
         "name": "21309083",
         "orientation": "v",
         "showlegend": true,
         "textposition": "auto",
         "type": "bar",
         "x": [
          "21309083"
         ],
         "xaxis": "x",
         "y": {
          "bdata": "ugIAAA==",
          "dtype": "u4"
         },
         "yaxis": "y"
        },
        {
         "hovertemplate": "restaurant_id=%{x}<br>len=%{y}<extra></extra>",
         "legendgroup": "20968206",
         "marker": {
          "color": "#FECB52",
          "pattern": {
           "shape": ""
          }
         },
         "name": "20968206",
         "orientation": "v",
         "showlegend": true,
         "textposition": "auto",
         "type": "bar",
         "x": [
          "20968206"
         ],
         "xaxis": "x",
         "y": {
          "bdata": "bQAAAA==",
          "dtype": "u4"
         },
         "yaxis": "y"
        },
        {
         "hovertemplate": "restaurant_id=%{x}<br>len=%{y}<extra></extra>",
         "legendgroup": "21143186",
         "marker": {
          "color": "#636efa",
          "pattern": {
           "shape": ""
          }
         },
         "name": "21143186",
         "orientation": "v",
         "showlegend": true,
         "textposition": "auto",
         "type": "bar",
         "x": [
          "21143186"
         ],
         "xaxis": "x",
         "y": {
          "bdata": "SAAAAA==",
          "dtype": "u4"
         },
         "yaxis": "y"
        },
        {
         "hovertemplate": "restaurant_id=%{x}<br>len=%{y}<extra></extra>",
         "legendgroup": "20968194",
         "marker": {
          "color": "#EF553B",
          "pattern": {
           "shape": ""
          }
         },
         "name": "20968194",
         "orientation": "v",
         "showlegend": true,
         "textposition": "auto",
         "type": "bar",
         "x": [
          "20968194"
         ],
         "xaxis": "x",
         "y": {
          "bdata": "LwAAAA==",
          "dtype": "u4"
         },
         "yaxis": "y"
        },
        {
         "hovertemplate": "restaurant_id=%{x}<br>len=%{y}<extra></extra>",
         "legendgroup": "21145152",
         "marker": {
          "color": "#00cc96",
          "pattern": {
           "shape": ""
          }
         },
         "name": "21145152",
         "orientation": "v",
         "showlegend": true,
         "textposition": "auto",
         "type": "bar",
         "x": [
          "21145152"
         ],
         "xaxis": "x",
         "y": {
          "bdata": "JgAAAA==",
          "dtype": "u4"
         },
         "yaxis": "y"
        },
        {
         "hovertemplate": "restaurant_id=%{x}<br>len=%{y}<extra></extra>",
         "legendgroup": "21114574",
         "marker": {
          "color": "#ab63fa",
          "pattern": {
           "shape": ""
          }
         },
         "name": "21114574",
         "orientation": "v",
         "showlegend": true,
         "textposition": "auto",
         "type": "bar",
         "x": [
          "21114574"
         ],
         "xaxis": "x",
         "y": {
          "bdata": "JQAAAA==",
          "dtype": "u4"
         },
         "yaxis": "y"
        },
        {
         "hovertemplate": "restaurant_id=%{x}<br>len=%{y}<extra></extra>",
         "legendgroup": "20968171",
         "marker": {
          "color": "#FFA15A",
          "pattern": {
           "shape": ""
          }
         },
         "name": "20968171",
         "orientation": "v",
         "showlegend": true,
         "textposition": "auto",
         "type": "bar",
         "x": [
          "20968171"
         ],
         "xaxis": "x",
         "y": {
          "bdata": "IgAAAA==",
          "dtype": "u4"
         },
         "yaxis": "y"
        },
        {
         "hovertemplate": "restaurant_id=%{x}<br>len=%{y}<extra></extra>",
         "legendgroup": "21467269",
         "marker": {
          "color": "#19d3f3",
          "pattern": {
           "shape": ""
          }
         },
         "name": "21467269",
         "orientation": "v",
         "showlegend": true,
         "textposition": "auto",
         "type": "bar",
         "x": [
          "21467269"
         ],
         "xaxis": "x",
         "y": {
          "bdata": "HQAAAA==",
          "dtype": "u4"
         },
         "yaxis": "y"
        },
        {
         "hovertemplate": "restaurant_id=%{x}<br>len=%{y}<extra></extra>",
         "legendgroup": "21523055",
         "marker": {
          "color": "#FF6692",
          "pattern": {
           "shape": ""
          }
         },
         "name": "21523055",
         "orientation": "v",
         "showlegend": true,
         "textposition": "auto",
         "type": "bar",
         "x": [
          "21523055"
         ],
         "xaxis": "x",
         "y": {
          "bdata": "HAAAAA==",
          "dtype": "u4"
         },
         "yaxis": "y"
        },
        {
         "hovertemplate": "restaurant_id=%{x}<br>len=%{y}<extra></extra>",
         "legendgroup": "21350931",
         "marker": {
          "color": "#B6E880",
          "pattern": {
           "shape": ""
          }
         },
         "name": "21350931",
         "orientation": "v",
         "showlegend": true,
         "textposition": "auto",
         "type": "bar",
         "x": [
          "21350931"
         ],
         "xaxis": "x",
         "y": {
          "bdata": "HAAAAA==",
          "dtype": "u4"
         },
         "yaxis": "y"
        },
        {
         "hovertemplate": "restaurant_id=%{x}<br>len=%{y}<extra></extra>",
         "legendgroup": "21424296",
         "marker": {
          "color": "#FF97FF",
          "pattern": {
           "shape": ""
          }
         },
         "name": "21424296",
         "orientation": "v",
         "showlegend": true,
         "textposition": "auto",
         "type": "bar",
         "x": [
          "21424296"
         ],
         "xaxis": "x",
         "y": {
          "bdata": "EAAAAA==",
          "dtype": "u4"
         },
         "yaxis": "y"
        },
        {
         "hovertemplate": "restaurant_id=%{x}<br>len=%{y}<extra></extra>",
         "legendgroup": "21467440",
         "marker": {
          "color": "#FECB52",
          "pattern": {
           "shape": ""
          }
         },
         "name": "21467440",
         "orientation": "v",
         "showlegend": true,
         "textposition": "auto",
         "type": "bar",
         "x": [
          "21467440"
         ],
         "xaxis": "x",
         "y": {
          "bdata": "AgAAAA==",
          "dtype": "u4"
         },
         "yaxis": "y"
        },
        {
         "hovertemplate": "restaurant_id=%{x}<br>len=%{y}<extra></extra>",
         "legendgroup": "21467512",
         "marker": {
          "color": "#636efa",
          "pattern": {
           "shape": ""
          }
         },
         "name": "21467512",
         "orientation": "v",
         "showlegend": true,
         "textposition": "auto",
         "type": "bar",
         "x": [
          "21467512"
         ],
         "xaxis": "x",
         "y": {
          "bdata": "AQAAAA==",
          "dtype": "u4"
         },
         "yaxis": "y"
        }
       ],
       "layout": {
        "barmode": "relative",
        "legend": {
         "title": {
          "text": "restaurant_id"
         },
         "tracegroupgap": 0
        },
        "margin": {
         "t": 60
        },
        "template": {
         "data": {
          "bar": [
           {
            "error_x": {
             "color": "#2a3f5f"
            },
            "error_y": {
             "color": "#2a3f5f"
            },
            "marker": {
             "line": {
              "color": "#E5ECF6",
              "width": 0.5
             },
             "pattern": {
              "fillmode": "overlay",
              "size": 10,
              "solidity": 0.2
             }
            },
            "type": "bar"
           }
          ],
          "barpolar": [
           {
            "marker": {
             "line": {
              "color": "#E5ECF6",
              "width": 0.5
             },
             "pattern": {
              "fillmode": "overlay",
              "size": 10,
              "solidity": 0.2
             }
            },
            "type": "barpolar"
           }
          ],
          "carpet": [
           {
            "aaxis": {
             "endlinecolor": "#2a3f5f",
             "gridcolor": "white",
             "linecolor": "white",
             "minorgridcolor": "white",
             "startlinecolor": "#2a3f5f"
            },
            "baxis": {
             "endlinecolor": "#2a3f5f",
             "gridcolor": "white",
             "linecolor": "white",
             "minorgridcolor": "white",
             "startlinecolor": "#2a3f5f"
            },
            "type": "carpet"
           }
          ],
          "choropleth": [
           {
            "colorbar": {
             "outlinewidth": 0,
             "ticks": ""
            },
            "type": "choropleth"
           }
          ],
          "contour": [
           {
            "colorbar": {
             "outlinewidth": 0,
             "ticks": ""
            },
            "colorscale": [
             [
              0,
              "#0d0887"
             ],
             [
              0.1111111111111111,
              "#46039f"
             ],
             [
              0.2222222222222222,
              "#7201a8"
             ],
             [
              0.3333333333333333,
              "#9c179e"
             ],
             [
              0.4444444444444444,
              "#bd3786"
             ],
             [
              0.5555555555555556,
              "#d8576b"
             ],
             [
              0.6666666666666666,
              "#ed7953"
             ],
             [
              0.7777777777777778,
              "#fb9f3a"
             ],
             [
              0.8888888888888888,
              "#fdca26"
             ],
             [
              1,
              "#f0f921"
             ]
            ],
            "type": "contour"
           }
          ],
          "contourcarpet": [
           {
            "colorbar": {
             "outlinewidth": 0,
             "ticks": ""
            },
            "type": "contourcarpet"
           }
          ],
          "heatmap": [
           {
            "colorbar": {
             "outlinewidth": 0,
             "ticks": ""
            },
            "colorscale": [
             [
              0,
              "#0d0887"
             ],
             [
              0.1111111111111111,
              "#46039f"
             ],
             [
              0.2222222222222222,
              "#7201a8"
             ],
             [
              0.3333333333333333,
              "#9c179e"
             ],
             [
              0.4444444444444444,
              "#bd3786"
             ],
             [
              0.5555555555555556,
              "#d8576b"
             ],
             [
              0.6666666666666666,
              "#ed7953"
             ],
             [
              0.7777777777777778,
              "#fb9f3a"
             ],
             [
              0.8888888888888888,
              "#fdca26"
             ],
             [
              1,
              "#f0f921"
             ]
            ],
            "type": "heatmap"
           }
          ],
          "histogram": [
           {
            "marker": {
             "pattern": {
              "fillmode": "overlay",
              "size": 10,
              "solidity": 0.2
             }
            },
            "type": "histogram"
           }
          ],
          "histogram2d": [
           {
            "colorbar": {
             "outlinewidth": 0,
             "ticks": ""
            },
            "colorscale": [
             [
              0,
              "#0d0887"
             ],
             [
              0.1111111111111111,
              "#46039f"
             ],
             [
              0.2222222222222222,
              "#7201a8"
             ],
             [
              0.3333333333333333,
              "#9c179e"
             ],
             [
              0.4444444444444444,
              "#bd3786"
             ],
             [
              0.5555555555555556,
              "#d8576b"
             ],
             [
              0.6666666666666666,
              "#ed7953"
             ],
             [
              0.7777777777777778,
              "#fb9f3a"
             ],
             [
              0.8888888888888888,
              "#fdca26"
             ],
             [
              1,
              "#f0f921"
             ]
            ],
            "type": "histogram2d"
           }
          ],
          "histogram2dcontour": [
           {
            "colorbar": {
             "outlinewidth": 0,
             "ticks": ""
            },
            "colorscale": [
             [
              0,
              "#0d0887"
             ],
             [
              0.1111111111111111,
              "#46039f"
             ],
             [
              0.2222222222222222,
              "#7201a8"
             ],
             [
              0.3333333333333333,
              "#9c179e"
             ],
             [
              0.4444444444444444,
              "#bd3786"
             ],
             [
              0.5555555555555556,
              "#d8576b"
             ],
             [
              0.6666666666666666,
              "#ed7953"
             ],
             [
              0.7777777777777778,
              "#fb9f3a"
             ],
             [
              0.8888888888888888,
              "#fdca26"
             ],
             [
              1,
              "#f0f921"
             ]
            ],
            "type": "histogram2dcontour"
           }
          ],
          "mesh3d": [
           {
            "colorbar": {
             "outlinewidth": 0,
             "ticks": ""
            },
            "type": "mesh3d"
           }
          ],
          "parcoords": [
           {
            "line": {
             "colorbar": {
              "outlinewidth": 0,
              "ticks": ""
             }
            },
            "type": "parcoords"
           }
          ],
          "pie": [
           {
            "automargin": true,
            "type": "pie"
           }
          ],
          "scatter": [
           {
            "fillpattern": {
             "fillmode": "overlay",
             "size": 10,
             "solidity": 0.2
            },
            "type": "scatter"
           }
          ],
          "scatter3d": [
           {
            "line": {
             "colorbar": {
              "outlinewidth": 0,
              "ticks": ""
             }
            },
            "marker": {
             "colorbar": {
              "outlinewidth": 0,
              "ticks": ""
             }
            },
            "type": "scatter3d"
           }
          ],
          "scattercarpet": [
           {
            "marker": {
             "colorbar": {
              "outlinewidth": 0,
              "ticks": ""
             }
            },
            "type": "scattercarpet"
           }
          ],
          "scattergeo": [
           {
            "marker": {
             "colorbar": {
              "outlinewidth": 0,
              "ticks": ""
             }
            },
            "type": "scattergeo"
           }
          ],
          "scattergl": [
           {
            "marker": {
             "colorbar": {
              "outlinewidth": 0,
              "ticks": ""
             }
            },
            "type": "scattergl"
           }
          ],
          "scattermap": [
           {
            "marker": {
             "colorbar": {
              "outlinewidth": 0,
              "ticks": ""
             }
            },
            "type": "scattermap"
           }
          ],
          "scattermapbox": [
           {
            "marker": {
             "colorbar": {
              "outlinewidth": 0,
              "ticks": ""
             }
            },
            "type": "scattermapbox"
           }
          ],
          "scatterpolar": [
           {
            "marker": {
             "colorbar": {
              "outlinewidth": 0,
              "ticks": ""
             }
            },
            "type": "scatterpolar"
           }
          ],
          "scatterpolargl": [
           {
            "marker": {
             "colorbar": {
              "outlinewidth": 0,
              "ticks": ""
             }
            },
            "type": "scatterpolargl"
           }
          ],
          "scatterternary": [
           {
            "marker": {
             "colorbar": {
              "outlinewidth": 0,
              "ticks": ""
             }
            },
            "type": "scatterternary"
           }
          ],
          "surface": [
           {
            "colorbar": {
             "outlinewidth": 0,
             "ticks": ""
            },
            "colorscale": [
             [
              0,
              "#0d0887"
             ],
             [
              0.1111111111111111,
              "#46039f"
             ],
             [
              0.2222222222222222,
              "#7201a8"
             ],
             [
              0.3333333333333333,
              "#9c179e"
             ],
             [
              0.4444444444444444,
              "#bd3786"
             ],
             [
              0.5555555555555556,
              "#d8576b"
             ],
             [
              0.6666666666666666,
              "#ed7953"
             ],
             [
              0.7777777777777778,
              "#fb9f3a"
             ],
             [
              0.8888888888888888,
              "#fdca26"
             ],
             [
              1,
              "#f0f921"
             ]
            ],
            "type": "surface"
           }
          ],
          "table": [
           {
            "cells": {
             "fill": {
              "color": "#EBF0F8"
             },
             "line": {
              "color": "white"
             }
            },
            "header": {
             "fill": {
              "color": "#C8D4E3"
             },
             "line": {
              "color": "white"
             }
            },
            "type": "table"
           }
          ]
         },
         "layout": {
          "annotationdefaults": {
           "arrowcolor": "#2a3f5f",
           "arrowhead": 0,
           "arrowwidth": 1
          },
          "autotypenumbers": "strict",
          "coloraxis": {
           "colorbar": {
            "outlinewidth": 0,
            "ticks": ""
           }
          },
          "colorscale": {
           "diverging": [
            [
             0,
             "#8e0152"
            ],
            [
             0.1,
             "#c51b7d"
            ],
            [
             0.2,
             "#de77ae"
            ],
            [
             0.3,
             "#f1b6da"
            ],
            [
             0.4,
             "#fde0ef"
            ],
            [
             0.5,
             "#f7f7f7"
            ],
            [
             0.6,
             "#e6f5d0"
            ],
            [
             0.7,
             "#b8e186"
            ],
            [
             0.8,
             "#7fbc41"
            ],
            [
             0.9,
             "#4d9221"
            ],
            [
             1,
             "#276419"
            ]
           ],
           "sequential": [
            [
             0,
             "#0d0887"
            ],
            [
             0.1111111111111111,
             "#46039f"
            ],
            [
             0.2222222222222222,
             "#7201a8"
            ],
            [
             0.3333333333333333,
             "#9c179e"
            ],
            [
             0.4444444444444444,
             "#bd3786"
            ],
            [
             0.5555555555555556,
             "#d8576b"
            ],
            [
             0.6666666666666666,
             "#ed7953"
            ],
            [
             0.7777777777777778,
             "#fb9f3a"
            ],
            [
             0.8888888888888888,
             "#fdca26"
            ],
            [
             1,
             "#f0f921"
            ]
           ],
           "sequentialminus": [
            [
             0,
             "#0d0887"
            ],
            [
             0.1111111111111111,
             "#46039f"
            ],
            [
             0.2222222222222222,
             "#7201a8"
            ],
            [
             0.3333333333333333,
             "#9c179e"
            ],
            [
             0.4444444444444444,
             "#bd3786"
            ],
            [
             0.5555555555555556,
             "#d8576b"
            ],
            [
             0.6666666666666666,
             "#ed7953"
            ],
            [
             0.7777777777777778,
             "#fb9f3a"
            ],
            [
             0.8888888888888888,
             "#fdca26"
            ],
            [
             1,
             "#f0f921"
            ]
           ]
          },
          "colorway": [
           "#636efa",
           "#EF553B",
           "#00cc96",
           "#ab63fa",
           "#FFA15A",
           "#19d3f3",
           "#FF6692",
           "#B6E880",
           "#FF97FF",
           "#FECB52"
          ],
          "font": {
           "color": "#2a3f5f"
          },
          "geo": {
           "bgcolor": "white",
           "lakecolor": "white",
           "landcolor": "#E5ECF6",
           "showlakes": true,
           "showland": true,
           "subunitcolor": "white"
          },
          "hoverlabel": {
           "align": "left"
          },
          "hovermode": "closest",
          "mapbox": {
           "style": "light"
          },
          "paper_bgcolor": "white",
          "plot_bgcolor": "#E5ECF6",
          "polar": {
           "angularaxis": {
            "gridcolor": "white",
            "linecolor": "white",
            "ticks": ""
           },
           "bgcolor": "#E5ECF6",
           "radialaxis": {
            "gridcolor": "white",
            "linecolor": "white",
            "ticks": ""
           }
          },
          "scene": {
           "xaxis": {
            "backgroundcolor": "#E5ECF6",
            "gridcolor": "white",
            "gridwidth": 2,
            "linecolor": "white",
            "showbackground": true,
            "ticks": "",
            "zerolinecolor": "white"
           },
           "yaxis": {
            "backgroundcolor": "#E5ECF6",
            "gridcolor": "white",
            "gridwidth": 2,
            "linecolor": "white",
            "showbackground": true,
            "ticks": "",
            "zerolinecolor": "white"
           },
           "zaxis": {
            "backgroundcolor": "#E5ECF6",
            "gridcolor": "white",
            "gridwidth": 2,
            "linecolor": "white",
            "showbackground": true,
            "ticks": "",
            "zerolinecolor": "white"
           }
          },
          "shapedefaults": {
           "line": {
            "color": "#2a3f5f"
           }
          },
          "ternary": {
           "aaxis": {
            "gridcolor": "white",
            "linecolor": "white",
            "ticks": ""
           },
           "baxis": {
            "gridcolor": "white",
            "linecolor": "white",
            "ticks": ""
           },
           "bgcolor": "#E5ECF6",
           "caxis": {
            "gridcolor": "white",
            "linecolor": "white",
            "ticks": ""
           }
          },
          "title": {
           "x": 0.05
          },
          "xaxis": {
           "automargin": true,
           "gridcolor": "white",
           "linecolor": "white",
           "ticks": "",
           "title": {
            "standoff": 15
           },
           "zerolinecolor": "white",
           "zerolinewidth": 2
          },
          "yaxis": {
           "automargin": true,
           "gridcolor": "white",
           "linecolor": "white",
           "ticks": "",
           "title": {
            "standoff": 15
           },
           "zerolinecolor": "white",
           "zerolinewidth": 2
          }
         }
        },
        "xaxis": {
         "anchor": "y",
         "categoryarray": [
          "20659868",
          "20635699",
          "20554001",
          "20882652",
          "21077127",
          "20320607",
          "20882713",
          "21173951",
          "21309083",
          "20968206",
          "21143186",
          "20968194",
          "21145152",
          "21114574",
          "20968171",
          "21467269",
          "21523055",
          "21350931",
          "21424296",
          "21467440",
          "21467512"
         ],
         "categoryorder": "array",
         "domain": [
          0,
          1
         ],
         "title": {
          "text": "restaurant_id"
         }
        },
        "yaxis": {
         "anchor": "x",
         "domain": [
          0,
          1
         ],
         "title": {
          "text": "len"
         }
        }
       }
      }
     },
     "metadata": {},
     "output_type": "display_data"
    }
   ],
   "source": [
    "px.bar(\n",
    "    df_grouped_restaurant,\n",
    "    x='restaurant_id',\n",
    "    y='len',\n",
    "    color='restaurant_id'\n",
    ")"
   ]
  },
  {
   "cell_type": "code",
   "execution_count": 430,
   "metadata": {},
   "outputs": [
    {
     "data": {
      "application/vnd.plotly.v1+json": {
       "config": {
        "plotlyServerURL": "https://plot.ly"
       },
       "data": [
        {
         "hovertemplate": "restaurant_id=20659868<br>restaurant_name=%{x}<br>len=%{y}<extra></extra>",
         "legendgroup": "20659868",
         "marker": {
          "color": "#636efa",
          "pattern": {
           "shape": ""
          }
         },
         "name": "20659868",
         "orientation": "v",
         "showlegend": true,
         "textposition": "auto",
         "type": "bar",
         "x": [
          "Aura Pizzas"
         ],
         "xaxis": "x",
         "y": {
          "bdata": "BhIAAA==",
          "dtype": "u4"
         },
         "yaxis": "y"
        },
        {
         "hovertemplate": "restaurant_id=20635699<br>restaurant_name=%{x}<br>len=%{y}<extra></extra>",
         "legendgroup": "20635699",
         "marker": {
          "color": "#EF553B",
          "pattern": {
           "shape": ""
          }
         },
         "name": "20635699",
         "orientation": "v",
         "showlegend": true,
         "textposition": "auto",
         "type": "bar",
         "x": [
          "Aura Pizzas"
         ],
         "xaxis": "x",
         "y": {
          "bdata": "QhEAAA==",
          "dtype": "u4"
         },
         "yaxis": "y"
        },
        {
         "hovertemplate": "restaurant_id=20554001<br>restaurant_name=%{x}<br>len=%{y}<extra></extra>",
         "legendgroup": "20554001",
         "marker": {
          "color": "#00cc96",
          "pattern": {
           "shape": ""
          }
         },
         "name": "20554001",
         "orientation": "v",
         "showlegend": true,
         "textposition": "auto",
         "type": "bar",
         "x": [
          "Swaad"
         ],
         "xaxis": "x",
         "y": {
          "bdata": "3QoAAA==",
          "dtype": "u4"
         },
         "yaxis": "y"
        },
        {
         "hovertemplate": "restaurant_id=20882652<br>restaurant_name=%{x}<br>len=%{y}<extra></extra>",
         "legendgroup": "20882652",
         "marker": {
          "color": "#ab63fa",
          "pattern": {
           "shape": ""
          }
         },
         "name": "20882652",
         "orientation": "v",
         "showlegend": true,
         "textposition": "auto",
         "type": "bar",
         "x": [
          "Aura Pizzas"
         ],
         "xaxis": "x",
         "y": {
          "bdata": "8QkAAA==",
          "dtype": "u4"
         },
         "yaxis": "y"
        },
        {
         "hovertemplate": "restaurant_id=21077127<br>restaurant_name=%{x}<br>len=%{y}<extra></extra>",
         "legendgroup": "21077127",
         "marker": {
          "color": "#FFA15A",
          "pattern": {
           "shape": ""
          }
         },
         "name": "21077127",
         "orientation": "v",
         "showlegend": true,
         "textposition": "auto",
         "type": "bar",
         "x": [
          "Aura Pizzas"
         ],
         "xaxis": "x",
         "y": {
          "bdata": "AwgAAA==",
          "dtype": "u4"
         },
         "yaxis": "y"
        },
        {
         "hovertemplate": "restaurant_id=20320607<br>restaurant_name=%{x}<br>len=%{y}<extra></extra>",
         "legendgroup": "20320607",
         "marker": {
          "color": "#19d3f3",
          "pattern": {
           "shape": ""
          }
         },
         "name": "20320607",
         "orientation": "v",
         "showlegend": true,
         "textposition": "auto",
         "type": "bar",
         "x": [
          "Swaad"
         ],
         "xaxis": "x",
         "y": {
          "bdata": "7gYAAA==",
          "dtype": "u4"
         },
         "yaxis": "y"
        },
        {
         "hovertemplate": "restaurant_id=20882713<br>restaurant_name=%{x}<br>len=%{y}<extra></extra>",
         "legendgroup": "20882713",
         "marker": {
          "color": "#FF6692",
          "pattern": {
           "shape": ""
          }
         },
         "name": "20882713",
         "orientation": "v",
         "showlegend": true,
         "textposition": "auto",
         "type": "bar",
         "x": [
          "Swaad"
         ],
         "xaxis": "x",
         "y": {
          "bdata": "NwQAAA==",
          "dtype": "u4"
         },
         "yaxis": "y"
        },
        {
         "hovertemplate": "restaurant_id=21173951<br>restaurant_name=%{x}<br>len=%{y}<extra></extra>",
         "legendgroup": "21173951",
         "marker": {
          "color": "#B6E880",
          "pattern": {
           "shape": ""
          }
         },
         "name": "21173951",
         "orientation": "v",
         "showlegend": true,
         "textposition": "auto",
         "type": "bar",
         "x": [
          "Aura Pizzas"
         ],
         "xaxis": "x",
         "y": {
          "bdata": "mAMAAA==",
          "dtype": "u4"
         },
         "yaxis": "y"
        },
        {
         "hovertemplate": "restaurant_id=21309083<br>restaurant_name=%{x}<br>len=%{y}<extra></extra>",
         "legendgroup": "21309083",
         "marker": {
          "color": "#FF97FF",
          "pattern": {
           "shape": ""
          }
         },
         "name": "21309083",
         "orientation": "v",
         "showlegend": true,
         "textposition": "auto",
         "type": "bar",
         "x": [
          "Swaad"
         ],
         "xaxis": "x",
         "y": {
          "bdata": "ugIAAA==",
          "dtype": "u4"
         },
         "yaxis": "y"
        },
        {
         "hovertemplate": "restaurant_id=20968206<br>restaurant_name=%{x}<br>len=%{y}<extra></extra>",
         "legendgroup": "20968206",
         "marker": {
          "color": "#FECB52",
          "pattern": {
           "shape": ""
          }
         },
         "name": "20968206",
         "orientation": "v",
         "showlegend": true,
         "textposition": "auto",
         "type": "bar",
         "x": [
          "Dilli Burger Adda"
         ],
         "xaxis": "x",
         "y": {
          "bdata": "bQAAAA==",
          "dtype": "u4"
         },
         "yaxis": "y"
        },
        {
         "hovertemplate": "restaurant_id=21143186<br>restaurant_name=%{x}<br>len=%{y}<extra></extra>",
         "legendgroup": "21143186",
         "marker": {
          "color": "#636efa",
          "pattern": {
           "shape": ""
          }
         },
         "name": "21143186",
         "orientation": "v",
         "showlegend": true,
         "textposition": "auto",
         "type": "bar",
         "x": [
          "Tandoori Junction"
         ],
         "xaxis": "x",
         "y": {
          "bdata": "SAAAAA==",
          "dtype": "u4"
         },
         "yaxis": "y"
        },
        {
         "hovertemplate": "restaurant_id=20968194<br>restaurant_name=%{x}<br>len=%{y}<extra></extra>",
         "legendgroup": "20968194",
         "marker": {
          "color": "#EF553B",
          "pattern": {
           "shape": ""
          }
         },
         "name": "20968194",
         "orientation": "v",
         "showlegend": true,
         "textposition": "auto",
         "type": "bar",
         "x": [
          "Dilli Burger Adda"
         ],
         "xaxis": "x",
         "y": {
          "bdata": "LwAAAA==",
          "dtype": "u4"
         },
         "yaxis": "y"
        },
        {
         "hovertemplate": "restaurant_id=21145152<br>restaurant_name=%{x}<br>len=%{y}<extra></extra>",
         "legendgroup": "21145152",
         "marker": {
          "color": "#00cc96",
          "pattern": {
           "shape": ""
          }
         },
         "name": "21145152",
         "orientation": "v",
         "showlegend": true,
         "textposition": "auto",
         "type": "bar",
         "x": [
          "Tandoori Junction"
         ],
         "xaxis": "x",
         "y": {
          "bdata": "JgAAAA==",
          "dtype": "u4"
         },
         "yaxis": "y"
        },
        {
         "hovertemplate": "restaurant_id=21114574<br>restaurant_name=%{x}<br>len=%{y}<extra></extra>",
         "legendgroup": "21114574",
         "marker": {
          "color": "#ab63fa",
          "pattern": {
           "shape": ""
          }
         },
         "name": "21114574",
         "orientation": "v",
         "showlegend": true,
         "textposition": "auto",
         "type": "bar",
         "x": [
          "Dilli Burger Adda"
         ],
         "xaxis": "x",
         "y": {
          "bdata": "JQAAAA==",
          "dtype": "u4"
         },
         "yaxis": "y"
        },
        {
         "hovertemplate": "restaurant_id=20968171<br>restaurant_name=%{x}<br>len=%{y}<extra></extra>",
         "legendgroup": "20968171",
         "marker": {
          "color": "#FFA15A",
          "pattern": {
           "shape": ""
          }
         },
         "name": "20968171",
         "orientation": "v",
         "showlegend": true,
         "textposition": "auto",
         "type": "bar",
         "x": [
          "Dilli Burger Adda"
         ],
         "xaxis": "x",
         "y": {
          "bdata": "IgAAAA==",
          "dtype": "u4"
         },
         "yaxis": "y"
        },
        {
         "hovertemplate": "restaurant_id=21467269<br>restaurant_name=%{x}<br>len=%{y}<extra></extra>",
         "legendgroup": "21467269",
         "marker": {
          "color": "#19d3f3",
          "pattern": {
           "shape": ""
          }
         },
         "name": "21467269",
         "orientation": "v",
         "showlegend": true,
         "textposition": "auto",
         "type": "bar",
         "x": [
          "The Chicken Junction"
         ],
         "xaxis": "x",
         "y": {
          "bdata": "HQAAAA==",
          "dtype": "u4"
         },
         "yaxis": "y"
        },
        {
         "hovertemplate": "restaurant_id=21523055<br>restaurant_name=%{x}<br>len=%{y}<extra></extra>",
         "legendgroup": "21523055",
         "marker": {
          "color": "#FF6692",
          "pattern": {
           "shape": ""
          }
         },
         "name": "21523055",
         "orientation": "v",
         "showlegend": true,
         "textposition": "auto",
         "type": "bar",
         "x": [
          "Masala Junction"
         ],
         "xaxis": "x",
         "y": {
          "bdata": "HAAAAA==",
          "dtype": "u4"
         },
         "yaxis": "y"
        },
        {
         "hovertemplate": "restaurant_id=21350931<br>restaurant_name=%{x}<br>len=%{y}<extra></extra>",
         "legendgroup": "21350931",
         "marker": {
          "color": "#B6E880",
          "pattern": {
           "shape": ""
          }
         },
         "name": "21350931",
         "orientation": "v",
         "showlegend": true,
         "textposition": "auto",
         "type": "bar",
         "x": [
          "Tandoori Junction"
         ],
         "xaxis": "x",
         "y": {
          "bdata": "HAAAAA==",
          "dtype": "u4"
         },
         "yaxis": "y"
        },
        {
         "hovertemplate": "restaurant_id=21424296<br>restaurant_name=%{x}<br>len=%{y}<extra></extra>",
         "legendgroup": "21424296",
         "marker": {
          "color": "#FF97FF",
          "pattern": {
           "shape": ""
          }
         },
         "name": "21424296",
         "orientation": "v",
         "showlegend": true,
         "textposition": "auto",
         "type": "bar",
         "x": [
          "Tandoori Junction"
         ],
         "xaxis": "x",
         "y": {
          "bdata": "EAAAAA==",
          "dtype": "u4"
         },
         "yaxis": "y"
        },
        {
         "hovertemplate": "restaurant_id=21467440<br>restaurant_name=%{x}<br>len=%{y}<extra></extra>",
         "legendgroup": "21467440",
         "marker": {
          "color": "#FECB52",
          "pattern": {
           "shape": ""
          }
         },
         "name": "21467440",
         "orientation": "v",
         "showlegend": true,
         "textposition": "auto",
         "type": "bar",
         "x": [
          "The Chicken Junction"
         ],
         "xaxis": "x",
         "y": {
          "bdata": "AgAAAA==",
          "dtype": "u4"
         },
         "yaxis": "y"
        },
        {
         "hovertemplate": "restaurant_id=21467512<br>restaurant_name=%{x}<br>len=%{y}<extra></extra>",
         "legendgroup": "21467512",
         "marker": {
          "color": "#636efa",
          "pattern": {
           "shape": ""
          }
         },
         "name": "21467512",
         "orientation": "v",
         "showlegend": true,
         "textposition": "auto",
         "type": "bar",
         "x": [
          "The Chicken Junction"
         ],
         "xaxis": "x",
         "y": {
          "bdata": "AQAAAA==",
          "dtype": "u4"
         },
         "yaxis": "y"
        }
       ],
       "layout": {
        "barmode": "relative",
        "legend": {
         "title": {
          "text": "restaurant_id"
         },
         "tracegroupgap": 0
        },
        "margin": {
         "t": 60
        },
        "template": {
         "data": {
          "bar": [
           {
            "error_x": {
             "color": "#2a3f5f"
            },
            "error_y": {
             "color": "#2a3f5f"
            },
            "marker": {
             "line": {
              "color": "#E5ECF6",
              "width": 0.5
             },
             "pattern": {
              "fillmode": "overlay",
              "size": 10,
              "solidity": 0.2
             }
            },
            "type": "bar"
           }
          ],
          "barpolar": [
           {
            "marker": {
             "line": {
              "color": "#E5ECF6",
              "width": 0.5
             },
             "pattern": {
              "fillmode": "overlay",
              "size": 10,
              "solidity": 0.2
             }
            },
            "type": "barpolar"
           }
          ],
          "carpet": [
           {
            "aaxis": {
             "endlinecolor": "#2a3f5f",
             "gridcolor": "white",
             "linecolor": "white",
             "minorgridcolor": "white",
             "startlinecolor": "#2a3f5f"
            },
            "baxis": {
             "endlinecolor": "#2a3f5f",
             "gridcolor": "white",
             "linecolor": "white",
             "minorgridcolor": "white",
             "startlinecolor": "#2a3f5f"
            },
            "type": "carpet"
           }
          ],
          "choropleth": [
           {
            "colorbar": {
             "outlinewidth": 0,
             "ticks": ""
            },
            "type": "choropleth"
           }
          ],
          "contour": [
           {
            "colorbar": {
             "outlinewidth": 0,
             "ticks": ""
            },
            "colorscale": [
             [
              0,
              "#0d0887"
             ],
             [
              0.1111111111111111,
              "#46039f"
             ],
             [
              0.2222222222222222,
              "#7201a8"
             ],
             [
              0.3333333333333333,
              "#9c179e"
             ],
             [
              0.4444444444444444,
              "#bd3786"
             ],
             [
              0.5555555555555556,
              "#d8576b"
             ],
             [
              0.6666666666666666,
              "#ed7953"
             ],
             [
              0.7777777777777778,
              "#fb9f3a"
             ],
             [
              0.8888888888888888,
              "#fdca26"
             ],
             [
              1,
              "#f0f921"
             ]
            ],
            "type": "contour"
           }
          ],
          "contourcarpet": [
           {
            "colorbar": {
             "outlinewidth": 0,
             "ticks": ""
            },
            "type": "contourcarpet"
           }
          ],
          "heatmap": [
           {
            "colorbar": {
             "outlinewidth": 0,
             "ticks": ""
            },
            "colorscale": [
             [
              0,
              "#0d0887"
             ],
             [
              0.1111111111111111,
              "#46039f"
             ],
             [
              0.2222222222222222,
              "#7201a8"
             ],
             [
              0.3333333333333333,
              "#9c179e"
             ],
             [
              0.4444444444444444,
              "#bd3786"
             ],
             [
              0.5555555555555556,
              "#d8576b"
             ],
             [
              0.6666666666666666,
              "#ed7953"
             ],
             [
              0.7777777777777778,
              "#fb9f3a"
             ],
             [
              0.8888888888888888,
              "#fdca26"
             ],
             [
              1,
              "#f0f921"
             ]
            ],
            "type": "heatmap"
           }
          ],
          "histogram": [
           {
            "marker": {
             "pattern": {
              "fillmode": "overlay",
              "size": 10,
              "solidity": 0.2
             }
            },
            "type": "histogram"
           }
          ],
          "histogram2d": [
           {
            "colorbar": {
             "outlinewidth": 0,
             "ticks": ""
            },
            "colorscale": [
             [
              0,
              "#0d0887"
             ],
             [
              0.1111111111111111,
              "#46039f"
             ],
             [
              0.2222222222222222,
              "#7201a8"
             ],
             [
              0.3333333333333333,
              "#9c179e"
             ],
             [
              0.4444444444444444,
              "#bd3786"
             ],
             [
              0.5555555555555556,
              "#d8576b"
             ],
             [
              0.6666666666666666,
              "#ed7953"
             ],
             [
              0.7777777777777778,
              "#fb9f3a"
             ],
             [
              0.8888888888888888,
              "#fdca26"
             ],
             [
              1,
              "#f0f921"
             ]
            ],
            "type": "histogram2d"
           }
          ],
          "histogram2dcontour": [
           {
            "colorbar": {
             "outlinewidth": 0,
             "ticks": ""
            },
            "colorscale": [
             [
              0,
              "#0d0887"
             ],
             [
              0.1111111111111111,
              "#46039f"
             ],
             [
              0.2222222222222222,
              "#7201a8"
             ],
             [
              0.3333333333333333,
              "#9c179e"
             ],
             [
              0.4444444444444444,
              "#bd3786"
             ],
             [
              0.5555555555555556,
              "#d8576b"
             ],
             [
              0.6666666666666666,
              "#ed7953"
             ],
             [
              0.7777777777777778,
              "#fb9f3a"
             ],
             [
              0.8888888888888888,
              "#fdca26"
             ],
             [
              1,
              "#f0f921"
             ]
            ],
            "type": "histogram2dcontour"
           }
          ],
          "mesh3d": [
           {
            "colorbar": {
             "outlinewidth": 0,
             "ticks": ""
            },
            "type": "mesh3d"
           }
          ],
          "parcoords": [
           {
            "line": {
             "colorbar": {
              "outlinewidth": 0,
              "ticks": ""
             }
            },
            "type": "parcoords"
           }
          ],
          "pie": [
           {
            "automargin": true,
            "type": "pie"
           }
          ],
          "scatter": [
           {
            "fillpattern": {
             "fillmode": "overlay",
             "size": 10,
             "solidity": 0.2
            },
            "type": "scatter"
           }
          ],
          "scatter3d": [
           {
            "line": {
             "colorbar": {
              "outlinewidth": 0,
              "ticks": ""
             }
            },
            "marker": {
             "colorbar": {
              "outlinewidth": 0,
              "ticks": ""
             }
            },
            "type": "scatter3d"
           }
          ],
          "scattercarpet": [
           {
            "marker": {
             "colorbar": {
              "outlinewidth": 0,
              "ticks": ""
             }
            },
            "type": "scattercarpet"
           }
          ],
          "scattergeo": [
           {
            "marker": {
             "colorbar": {
              "outlinewidth": 0,
              "ticks": ""
             }
            },
            "type": "scattergeo"
           }
          ],
          "scattergl": [
           {
            "marker": {
             "colorbar": {
              "outlinewidth": 0,
              "ticks": ""
             }
            },
            "type": "scattergl"
           }
          ],
          "scattermap": [
           {
            "marker": {
             "colorbar": {
              "outlinewidth": 0,
              "ticks": ""
             }
            },
            "type": "scattermap"
           }
          ],
          "scattermapbox": [
           {
            "marker": {
             "colorbar": {
              "outlinewidth": 0,
              "ticks": ""
             }
            },
            "type": "scattermapbox"
           }
          ],
          "scatterpolar": [
           {
            "marker": {
             "colorbar": {
              "outlinewidth": 0,
              "ticks": ""
             }
            },
            "type": "scatterpolar"
           }
          ],
          "scatterpolargl": [
           {
            "marker": {
             "colorbar": {
              "outlinewidth": 0,
              "ticks": ""
             }
            },
            "type": "scatterpolargl"
           }
          ],
          "scatterternary": [
           {
            "marker": {
             "colorbar": {
              "outlinewidth": 0,
              "ticks": ""
             }
            },
            "type": "scatterternary"
           }
          ],
          "surface": [
           {
            "colorbar": {
             "outlinewidth": 0,
             "ticks": ""
            },
            "colorscale": [
             [
              0,
              "#0d0887"
             ],
             [
              0.1111111111111111,
              "#46039f"
             ],
             [
              0.2222222222222222,
              "#7201a8"
             ],
             [
              0.3333333333333333,
              "#9c179e"
             ],
             [
              0.4444444444444444,
              "#bd3786"
             ],
             [
              0.5555555555555556,
              "#d8576b"
             ],
             [
              0.6666666666666666,
              "#ed7953"
             ],
             [
              0.7777777777777778,
              "#fb9f3a"
             ],
             [
              0.8888888888888888,
              "#fdca26"
             ],
             [
              1,
              "#f0f921"
             ]
            ],
            "type": "surface"
           }
          ],
          "table": [
           {
            "cells": {
             "fill": {
              "color": "#EBF0F8"
             },
             "line": {
              "color": "white"
             }
            },
            "header": {
             "fill": {
              "color": "#C8D4E3"
             },
             "line": {
              "color": "white"
             }
            },
            "type": "table"
           }
          ]
         },
         "layout": {
          "annotationdefaults": {
           "arrowcolor": "#2a3f5f",
           "arrowhead": 0,
           "arrowwidth": 1
          },
          "autotypenumbers": "strict",
          "coloraxis": {
           "colorbar": {
            "outlinewidth": 0,
            "ticks": ""
           }
          },
          "colorscale": {
           "diverging": [
            [
             0,
             "#8e0152"
            ],
            [
             0.1,
             "#c51b7d"
            ],
            [
             0.2,
             "#de77ae"
            ],
            [
             0.3,
             "#f1b6da"
            ],
            [
             0.4,
             "#fde0ef"
            ],
            [
             0.5,
             "#f7f7f7"
            ],
            [
             0.6,
             "#e6f5d0"
            ],
            [
             0.7,
             "#b8e186"
            ],
            [
             0.8,
             "#7fbc41"
            ],
            [
             0.9,
             "#4d9221"
            ],
            [
             1,
             "#276419"
            ]
           ],
           "sequential": [
            [
             0,
             "#0d0887"
            ],
            [
             0.1111111111111111,
             "#46039f"
            ],
            [
             0.2222222222222222,
             "#7201a8"
            ],
            [
             0.3333333333333333,
             "#9c179e"
            ],
            [
             0.4444444444444444,
             "#bd3786"
            ],
            [
             0.5555555555555556,
             "#d8576b"
            ],
            [
             0.6666666666666666,
             "#ed7953"
            ],
            [
             0.7777777777777778,
             "#fb9f3a"
            ],
            [
             0.8888888888888888,
             "#fdca26"
            ],
            [
             1,
             "#f0f921"
            ]
           ],
           "sequentialminus": [
            [
             0,
             "#0d0887"
            ],
            [
             0.1111111111111111,
             "#46039f"
            ],
            [
             0.2222222222222222,
             "#7201a8"
            ],
            [
             0.3333333333333333,
             "#9c179e"
            ],
            [
             0.4444444444444444,
             "#bd3786"
            ],
            [
             0.5555555555555556,
             "#d8576b"
            ],
            [
             0.6666666666666666,
             "#ed7953"
            ],
            [
             0.7777777777777778,
             "#fb9f3a"
            ],
            [
             0.8888888888888888,
             "#fdca26"
            ],
            [
             1,
             "#f0f921"
            ]
           ]
          },
          "colorway": [
           "#636efa",
           "#EF553B",
           "#00cc96",
           "#ab63fa",
           "#FFA15A",
           "#19d3f3",
           "#FF6692",
           "#B6E880",
           "#FF97FF",
           "#FECB52"
          ],
          "font": {
           "color": "#2a3f5f"
          },
          "geo": {
           "bgcolor": "white",
           "lakecolor": "white",
           "landcolor": "#E5ECF6",
           "showlakes": true,
           "showland": true,
           "subunitcolor": "white"
          },
          "hoverlabel": {
           "align": "left"
          },
          "hovermode": "closest",
          "mapbox": {
           "style": "light"
          },
          "paper_bgcolor": "white",
          "plot_bgcolor": "#E5ECF6",
          "polar": {
           "angularaxis": {
            "gridcolor": "white",
            "linecolor": "white",
            "ticks": ""
           },
           "bgcolor": "#E5ECF6",
           "radialaxis": {
            "gridcolor": "white",
            "linecolor": "white",
            "ticks": ""
           }
          },
          "scene": {
           "xaxis": {
            "backgroundcolor": "#E5ECF6",
            "gridcolor": "white",
            "gridwidth": 2,
            "linecolor": "white",
            "showbackground": true,
            "ticks": "",
            "zerolinecolor": "white"
           },
           "yaxis": {
            "backgroundcolor": "#E5ECF6",
            "gridcolor": "white",
            "gridwidth": 2,
            "linecolor": "white",
            "showbackground": true,
            "ticks": "",
            "zerolinecolor": "white"
           },
           "zaxis": {
            "backgroundcolor": "#E5ECF6",
            "gridcolor": "white",
            "gridwidth": 2,
            "linecolor": "white",
            "showbackground": true,
            "ticks": "",
            "zerolinecolor": "white"
           }
          },
          "shapedefaults": {
           "line": {
            "color": "#2a3f5f"
           }
          },
          "ternary": {
           "aaxis": {
            "gridcolor": "white",
            "linecolor": "white",
            "ticks": ""
           },
           "baxis": {
            "gridcolor": "white",
            "linecolor": "white",
            "ticks": ""
           },
           "bgcolor": "#E5ECF6",
           "caxis": {
            "gridcolor": "white",
            "linecolor": "white",
            "ticks": ""
           }
          },
          "title": {
           "x": 0.05
          },
          "xaxis": {
           "automargin": true,
           "gridcolor": "white",
           "linecolor": "white",
           "ticks": "",
           "title": {
            "standoff": 15
           },
           "zerolinecolor": "white",
           "zerolinewidth": 2
          },
          "yaxis": {
           "automargin": true,
           "gridcolor": "white",
           "linecolor": "white",
           "ticks": "",
           "title": {
            "standoff": 15
           },
           "zerolinecolor": "white",
           "zerolinewidth": 2
          }
         }
        },
        "xaxis": {
         "anchor": "y",
         "domain": [
          0,
          1
         ],
         "title": {
          "text": "restaurant_name"
         }
        },
        "yaxis": {
         "anchor": "x",
         "domain": [
          0,
          1
         ],
         "title": {
          "text": "len"
         }
        }
       }
      }
     },
     "metadata": {},
     "output_type": "display_data"
    }
   ],
   "source": [
    "px.bar(\n",
    "    df_grouped_restaurant,\n",
    "    x='restaurant_name',\n",
    "    y='len',\n",
    "    color='restaurant_id'\n",
    ")"
   ]
  },
  {
   "cell_type": "code",
   "execution_count": 431,
   "metadata": {},
   "outputs": [
    {
     "data": {
      "application/vnd.plotly.v1+json": {
       "config": {
        "plotlyServerURL": "https://plot.ly"
       },
       "data": [
        {
         "hovertemplate": "subzone=%{x}<br>len=%{y}<extra></extra>",
         "legendgroup": "Greater Kailash 2 (GK2)",
         "marker": {
          "color": "#636efa",
          "pattern": {
           "shape": ""
          }
         },
         "name": "Greater Kailash 2 (GK2)",
         "orientation": "v",
         "showlegend": true,
         "textposition": "auto",
         "type": "bar",
         "x": [
          "Greater Kailash 2 (GK2)"
         ],
         "xaxis": "x",
         "y": {
          "bdata": "1BwAAA==",
          "dtype": "u4"
         },
         "yaxis": "y"
        },
        {
         "hovertemplate": "subzone=%{x}<br>len=%{y}<extra></extra>",
         "legendgroup": "Sector 4",
         "marker": {
          "color": "#EF553B",
          "pattern": {
           "shape": ""
          }
         },
         "name": "Sector 4",
         "orientation": "v",
         "showlegend": true,
         "textposition": "auto",
         "type": "bar",
         "x": [
          "Sector 4"
         ],
         "xaxis": "x",
         "y": {
          "bdata": "ghkAAA==",
          "dtype": "u4"
         },
         "yaxis": "y"
        },
        {
         "hovertemplate": "subzone=%{x}<br>len=%{y}<extra></extra>",
         "legendgroup": "DLF Phase 1",
         "marker": {
          "color": "#00cc96",
          "pattern": {
           "shape": ""
          }
         },
         "name": "DLF Phase 1",
         "orientation": "v",
         "showlegend": true,
         "textposition": "auto",
         "type": "bar",
         "x": [
          "DLF Phase 1"
         ],
         "xaxis": "x",
         "y": {
          "bdata": "Zg4AAA==",
          "dtype": "u4"
         },
         "yaxis": "y"
        },
        {
         "hovertemplate": "subzone=%{x}<br>len=%{y}<extra></extra>",
         "legendgroup": "Sector 135",
         "marker": {
          "color": "#ab63fa",
          "pattern": {
           "shape": ""
          }
         },
         "name": "Sector 135",
         "orientation": "v",
         "showlegend": true,
         "textposition": "auto",
         "type": "bar",
         "x": [
          "Sector 135"
         ],
         "xaxis": "x",
         "y": {
          "bdata": "igkAAA==",
          "dtype": "u4"
         },
         "yaxis": "y"
        },
        {
         "hovertemplate": "subzone=%{x}<br>len=%{y}<extra></extra>",
         "legendgroup": "Vasant Kunj",
         "marker": {
          "color": "#FFA15A",
          "pattern": {
           "shape": ""
          }
         },
         "name": "Vasant Kunj",
         "orientation": "v",
         "showlegend": true,
         "textposition": "auto",
         "type": "bar",
         "x": [
          "Vasant Kunj"
         ],
         "xaxis": "x",
         "y": {
          "bdata": "mAMAAA==",
          "dtype": "u4"
         },
         "yaxis": "y"
        },
        {
         "hovertemplate": "subzone=%{x}<br>len=%{y}<extra></extra>",
         "legendgroup": "Shahdara",
         "marker": {
          "color": "#19d3f3",
          "pattern": {
           "shape": ""
          }
         },
         "name": "Shahdara",
         "orientation": "v",
         "showlegend": true,
         "textposition": "auto",
         "type": "bar",
         "x": [
          "Shahdara"
         ],
         "xaxis": "x",
         "y": {
          "bdata": "aAEAAA==",
          "dtype": "u4"
         },
         "yaxis": "y"
        },
        {
         "hovertemplate": "subzone=%{x}<br>len=%{y}<extra></extra>",
         "legendgroup": "Chittaranjan Park",
         "marker": {
          "color": "#FF6692",
          "pattern": {
           "shape": ""
          }
         },
         "name": "Chittaranjan Park",
         "orientation": "v",
         "showlegend": true,
         "textposition": "auto",
         "type": "bar",
         "x": [
          "Chittaranjan Park"
         ],
         "xaxis": "x",
         "y": {
          "bdata": "AgAAAA==",
          "dtype": "u4"
         },
         "yaxis": "y"
        },
        {
         "hovertemplate": "subzone=%{x}<br>len=%{y}<extra></extra>",
         "legendgroup": "Sikandarpur",
         "marker": {
          "color": "#B6E880",
          "pattern": {
           "shape": ""
          }
         },
         "name": "Sikandarpur",
         "orientation": "v",
         "showlegend": true,
         "textposition": "auto",
         "type": "bar",
         "x": [
          "Sikandarpur"
         ],
         "xaxis": "x",
         "y": {
          "bdata": "AQAAAA==",
          "dtype": "u4"
         },
         "yaxis": "y"
        }
       ],
       "layout": {
        "barmode": "relative",
        "legend": {
         "title": {
          "text": "subzone"
         },
         "tracegroupgap": 0
        },
        "margin": {
         "t": 60
        },
        "template": {
         "data": {
          "bar": [
           {
            "error_x": {
             "color": "#2a3f5f"
            },
            "error_y": {
             "color": "#2a3f5f"
            },
            "marker": {
             "line": {
              "color": "#E5ECF6",
              "width": 0.5
             },
             "pattern": {
              "fillmode": "overlay",
              "size": 10,
              "solidity": 0.2
             }
            },
            "type": "bar"
           }
          ],
          "barpolar": [
           {
            "marker": {
             "line": {
              "color": "#E5ECF6",
              "width": 0.5
             },
             "pattern": {
              "fillmode": "overlay",
              "size": 10,
              "solidity": 0.2
             }
            },
            "type": "barpolar"
           }
          ],
          "carpet": [
           {
            "aaxis": {
             "endlinecolor": "#2a3f5f",
             "gridcolor": "white",
             "linecolor": "white",
             "minorgridcolor": "white",
             "startlinecolor": "#2a3f5f"
            },
            "baxis": {
             "endlinecolor": "#2a3f5f",
             "gridcolor": "white",
             "linecolor": "white",
             "minorgridcolor": "white",
             "startlinecolor": "#2a3f5f"
            },
            "type": "carpet"
           }
          ],
          "choropleth": [
           {
            "colorbar": {
             "outlinewidth": 0,
             "ticks": ""
            },
            "type": "choropleth"
           }
          ],
          "contour": [
           {
            "colorbar": {
             "outlinewidth": 0,
             "ticks": ""
            },
            "colorscale": [
             [
              0,
              "#0d0887"
             ],
             [
              0.1111111111111111,
              "#46039f"
             ],
             [
              0.2222222222222222,
              "#7201a8"
             ],
             [
              0.3333333333333333,
              "#9c179e"
             ],
             [
              0.4444444444444444,
              "#bd3786"
             ],
             [
              0.5555555555555556,
              "#d8576b"
             ],
             [
              0.6666666666666666,
              "#ed7953"
             ],
             [
              0.7777777777777778,
              "#fb9f3a"
             ],
             [
              0.8888888888888888,
              "#fdca26"
             ],
             [
              1,
              "#f0f921"
             ]
            ],
            "type": "contour"
           }
          ],
          "contourcarpet": [
           {
            "colorbar": {
             "outlinewidth": 0,
             "ticks": ""
            },
            "type": "contourcarpet"
           }
          ],
          "heatmap": [
           {
            "colorbar": {
             "outlinewidth": 0,
             "ticks": ""
            },
            "colorscale": [
             [
              0,
              "#0d0887"
             ],
             [
              0.1111111111111111,
              "#46039f"
             ],
             [
              0.2222222222222222,
              "#7201a8"
             ],
             [
              0.3333333333333333,
              "#9c179e"
             ],
             [
              0.4444444444444444,
              "#bd3786"
             ],
             [
              0.5555555555555556,
              "#d8576b"
             ],
             [
              0.6666666666666666,
              "#ed7953"
             ],
             [
              0.7777777777777778,
              "#fb9f3a"
             ],
             [
              0.8888888888888888,
              "#fdca26"
             ],
             [
              1,
              "#f0f921"
             ]
            ],
            "type": "heatmap"
           }
          ],
          "histogram": [
           {
            "marker": {
             "pattern": {
              "fillmode": "overlay",
              "size": 10,
              "solidity": 0.2
             }
            },
            "type": "histogram"
           }
          ],
          "histogram2d": [
           {
            "colorbar": {
             "outlinewidth": 0,
             "ticks": ""
            },
            "colorscale": [
             [
              0,
              "#0d0887"
             ],
             [
              0.1111111111111111,
              "#46039f"
             ],
             [
              0.2222222222222222,
              "#7201a8"
             ],
             [
              0.3333333333333333,
              "#9c179e"
             ],
             [
              0.4444444444444444,
              "#bd3786"
             ],
             [
              0.5555555555555556,
              "#d8576b"
             ],
             [
              0.6666666666666666,
              "#ed7953"
             ],
             [
              0.7777777777777778,
              "#fb9f3a"
             ],
             [
              0.8888888888888888,
              "#fdca26"
             ],
             [
              1,
              "#f0f921"
             ]
            ],
            "type": "histogram2d"
           }
          ],
          "histogram2dcontour": [
           {
            "colorbar": {
             "outlinewidth": 0,
             "ticks": ""
            },
            "colorscale": [
             [
              0,
              "#0d0887"
             ],
             [
              0.1111111111111111,
              "#46039f"
             ],
             [
              0.2222222222222222,
              "#7201a8"
             ],
             [
              0.3333333333333333,
              "#9c179e"
             ],
             [
              0.4444444444444444,
              "#bd3786"
             ],
             [
              0.5555555555555556,
              "#d8576b"
             ],
             [
              0.6666666666666666,
              "#ed7953"
             ],
             [
              0.7777777777777778,
              "#fb9f3a"
             ],
             [
              0.8888888888888888,
              "#fdca26"
             ],
             [
              1,
              "#f0f921"
             ]
            ],
            "type": "histogram2dcontour"
           }
          ],
          "mesh3d": [
           {
            "colorbar": {
             "outlinewidth": 0,
             "ticks": ""
            },
            "type": "mesh3d"
           }
          ],
          "parcoords": [
           {
            "line": {
             "colorbar": {
              "outlinewidth": 0,
              "ticks": ""
             }
            },
            "type": "parcoords"
           }
          ],
          "pie": [
           {
            "automargin": true,
            "type": "pie"
           }
          ],
          "scatter": [
           {
            "fillpattern": {
             "fillmode": "overlay",
             "size": 10,
             "solidity": 0.2
            },
            "type": "scatter"
           }
          ],
          "scatter3d": [
           {
            "line": {
             "colorbar": {
              "outlinewidth": 0,
              "ticks": ""
             }
            },
            "marker": {
             "colorbar": {
              "outlinewidth": 0,
              "ticks": ""
             }
            },
            "type": "scatter3d"
           }
          ],
          "scattercarpet": [
           {
            "marker": {
             "colorbar": {
              "outlinewidth": 0,
              "ticks": ""
             }
            },
            "type": "scattercarpet"
           }
          ],
          "scattergeo": [
           {
            "marker": {
             "colorbar": {
              "outlinewidth": 0,
              "ticks": ""
             }
            },
            "type": "scattergeo"
           }
          ],
          "scattergl": [
           {
            "marker": {
             "colorbar": {
              "outlinewidth": 0,
              "ticks": ""
             }
            },
            "type": "scattergl"
           }
          ],
          "scattermap": [
           {
            "marker": {
             "colorbar": {
              "outlinewidth": 0,
              "ticks": ""
             }
            },
            "type": "scattermap"
           }
          ],
          "scattermapbox": [
           {
            "marker": {
             "colorbar": {
              "outlinewidth": 0,
              "ticks": ""
             }
            },
            "type": "scattermapbox"
           }
          ],
          "scatterpolar": [
           {
            "marker": {
             "colorbar": {
              "outlinewidth": 0,
              "ticks": ""
             }
            },
            "type": "scatterpolar"
           }
          ],
          "scatterpolargl": [
           {
            "marker": {
             "colorbar": {
              "outlinewidth": 0,
              "ticks": ""
             }
            },
            "type": "scatterpolargl"
           }
          ],
          "scatterternary": [
           {
            "marker": {
             "colorbar": {
              "outlinewidth": 0,
              "ticks": ""
             }
            },
            "type": "scatterternary"
           }
          ],
          "surface": [
           {
            "colorbar": {
             "outlinewidth": 0,
             "ticks": ""
            },
            "colorscale": [
             [
              0,
              "#0d0887"
             ],
             [
              0.1111111111111111,
              "#46039f"
             ],
             [
              0.2222222222222222,
              "#7201a8"
             ],
             [
              0.3333333333333333,
              "#9c179e"
             ],
             [
              0.4444444444444444,
              "#bd3786"
             ],
             [
              0.5555555555555556,
              "#d8576b"
             ],
             [
              0.6666666666666666,
              "#ed7953"
             ],
             [
              0.7777777777777778,
              "#fb9f3a"
             ],
             [
              0.8888888888888888,
              "#fdca26"
             ],
             [
              1,
              "#f0f921"
             ]
            ],
            "type": "surface"
           }
          ],
          "table": [
           {
            "cells": {
             "fill": {
              "color": "#EBF0F8"
             },
             "line": {
              "color": "white"
             }
            },
            "header": {
             "fill": {
              "color": "#C8D4E3"
             },
             "line": {
              "color": "white"
             }
            },
            "type": "table"
           }
          ]
         },
         "layout": {
          "annotationdefaults": {
           "arrowcolor": "#2a3f5f",
           "arrowhead": 0,
           "arrowwidth": 1
          },
          "autotypenumbers": "strict",
          "coloraxis": {
           "colorbar": {
            "outlinewidth": 0,
            "ticks": ""
           }
          },
          "colorscale": {
           "diverging": [
            [
             0,
             "#8e0152"
            ],
            [
             0.1,
             "#c51b7d"
            ],
            [
             0.2,
             "#de77ae"
            ],
            [
             0.3,
             "#f1b6da"
            ],
            [
             0.4,
             "#fde0ef"
            ],
            [
             0.5,
             "#f7f7f7"
            ],
            [
             0.6,
             "#e6f5d0"
            ],
            [
             0.7,
             "#b8e186"
            ],
            [
             0.8,
             "#7fbc41"
            ],
            [
             0.9,
             "#4d9221"
            ],
            [
             1,
             "#276419"
            ]
           ],
           "sequential": [
            [
             0,
             "#0d0887"
            ],
            [
             0.1111111111111111,
             "#46039f"
            ],
            [
             0.2222222222222222,
             "#7201a8"
            ],
            [
             0.3333333333333333,
             "#9c179e"
            ],
            [
             0.4444444444444444,
             "#bd3786"
            ],
            [
             0.5555555555555556,
             "#d8576b"
            ],
            [
             0.6666666666666666,
             "#ed7953"
            ],
            [
             0.7777777777777778,
             "#fb9f3a"
            ],
            [
             0.8888888888888888,
             "#fdca26"
            ],
            [
             1,
             "#f0f921"
            ]
           ],
           "sequentialminus": [
            [
             0,
             "#0d0887"
            ],
            [
             0.1111111111111111,
             "#46039f"
            ],
            [
             0.2222222222222222,
             "#7201a8"
            ],
            [
             0.3333333333333333,
             "#9c179e"
            ],
            [
             0.4444444444444444,
             "#bd3786"
            ],
            [
             0.5555555555555556,
             "#d8576b"
            ],
            [
             0.6666666666666666,
             "#ed7953"
            ],
            [
             0.7777777777777778,
             "#fb9f3a"
            ],
            [
             0.8888888888888888,
             "#fdca26"
            ],
            [
             1,
             "#f0f921"
            ]
           ]
          },
          "colorway": [
           "#636efa",
           "#EF553B",
           "#00cc96",
           "#ab63fa",
           "#FFA15A",
           "#19d3f3",
           "#FF6692",
           "#B6E880",
           "#FF97FF",
           "#FECB52"
          ],
          "font": {
           "color": "#2a3f5f"
          },
          "geo": {
           "bgcolor": "white",
           "lakecolor": "white",
           "landcolor": "#E5ECF6",
           "showlakes": true,
           "showland": true,
           "subunitcolor": "white"
          },
          "hoverlabel": {
           "align": "left"
          },
          "hovermode": "closest",
          "mapbox": {
           "style": "light"
          },
          "paper_bgcolor": "white",
          "plot_bgcolor": "#E5ECF6",
          "polar": {
           "angularaxis": {
            "gridcolor": "white",
            "linecolor": "white",
            "ticks": ""
           },
           "bgcolor": "#E5ECF6",
           "radialaxis": {
            "gridcolor": "white",
            "linecolor": "white",
            "ticks": ""
           }
          },
          "scene": {
           "xaxis": {
            "backgroundcolor": "#E5ECF6",
            "gridcolor": "white",
            "gridwidth": 2,
            "linecolor": "white",
            "showbackground": true,
            "ticks": "",
            "zerolinecolor": "white"
           },
           "yaxis": {
            "backgroundcolor": "#E5ECF6",
            "gridcolor": "white",
            "gridwidth": 2,
            "linecolor": "white",
            "showbackground": true,
            "ticks": "",
            "zerolinecolor": "white"
           },
           "zaxis": {
            "backgroundcolor": "#E5ECF6",
            "gridcolor": "white",
            "gridwidth": 2,
            "linecolor": "white",
            "showbackground": true,
            "ticks": "",
            "zerolinecolor": "white"
           }
          },
          "shapedefaults": {
           "line": {
            "color": "#2a3f5f"
           }
          },
          "ternary": {
           "aaxis": {
            "gridcolor": "white",
            "linecolor": "white",
            "ticks": ""
           },
           "baxis": {
            "gridcolor": "white",
            "linecolor": "white",
            "ticks": ""
           },
           "bgcolor": "#E5ECF6",
           "caxis": {
            "gridcolor": "white",
            "linecolor": "white",
            "ticks": ""
           }
          },
          "title": {
           "x": 0.05
          },
          "xaxis": {
           "automargin": true,
           "gridcolor": "white",
           "linecolor": "white",
           "ticks": "",
           "title": {
            "standoff": 15
           },
           "zerolinecolor": "white",
           "zerolinewidth": 2
          },
          "yaxis": {
           "automargin": true,
           "gridcolor": "white",
           "linecolor": "white",
           "ticks": "",
           "title": {
            "standoff": 15
           },
           "zerolinecolor": "white",
           "zerolinewidth": 2
          }
         }
        },
        "xaxis": {
         "anchor": "y",
         "categoryarray": [
          "Greater Kailash 2 (GK2)",
          "Sector 4",
          "DLF Phase 1",
          "Sector 135",
          "Vasant Kunj",
          "Shahdara",
          "Chittaranjan Park",
          "Sikandarpur"
         ],
         "categoryorder": "array",
         "domain": [
          0,
          1
         ],
         "title": {
          "text": "subzone"
         }
        },
        "yaxis": {
         "anchor": "x",
         "domain": [
          0,
          1
         ],
         "title": {
          "text": "len"
         }
        }
       }
      }
     },
     "metadata": {},
     "output_type": "display_data"
    }
   ],
   "source": [
    "px.bar(\n",
    "    df_grouped_subzone,\n",
    "    x='subzone',\n",
    "    y='len',\n",
    "    color='subzone'\n",
    ")"
   ]
  },
  {
   "cell_type": "code",
   "execution_count": 432,
   "metadata": {},
   "outputs": [
    {
     "data": {
      "application/vnd.plotly.v1+json": {
       "config": {
        "plotlyServerURL": "https://plot.ly"
       },
       "data": [
        {
         "hovertemplate": "subzone=Sector 135<br>restaurant_id=%{x}<br>len=%{y}<extra></extra>",
         "legendgroup": "Sector 135",
         "marker": {
          "color": "#636efa",
          "pattern": {
           "shape": ""
          }
         },
         "name": "Sector 135",
         "orientation": "v",
         "showlegend": true,
         "textposition": "auto",
         "type": "bar",
         "x": [
          "21077127",
          "21309083",
          "21114574",
          "21424296"
         ],
         "xaxis": "x",
         "y": {
          "bdata": "AwgAAG8BAAAXAAAAAQAAAA==",
          "dtype": "u4"
         },
         "yaxis": "y"
        },
        {
         "hovertemplate": "subzone=Greater Kailash 2 (GK2)<br>restaurant_id=%{x}<br>len=%{y}<extra></extra>",
         "legendgroup": "Greater Kailash 2 (GK2)",
         "marker": {
          "color": "#EF553B",
          "pattern": {
           "shape": ""
          }
         },
         "name": "Greater Kailash 2 (GK2)",
         "orientation": "v",
         "showlegend": true,
         "textposition": "auto",
         "type": "bar",
         "x": [
          "20554001",
          "20968206",
          "21143186",
          "20635699"
         ],
         "xaxis": "x",
         "y": {
          "bdata": "3QoAAG0AAABIAAAAQhEAAA==",
          "dtype": "u4"
         },
         "yaxis": "y"
        },
        {
         "hovertemplate": "subzone=Sector 4<br>restaurant_id=%{x}<br>len=%{y}<extra></extra>",
         "legendgroup": "Sector 4",
         "marker": {
          "color": "#00cc96",
          "pattern": {
           "shape": ""
          }
         },
         "name": "Sector 4",
         "orientation": "v",
         "showlegend": true,
         "textposition": "auto",
         "type": "bar",
         "x": [
          "21523055",
          "21145152",
          "21467269",
          "20320607",
          "20659868",
          "20968194"
         ],
         "xaxis": "x",
         "y": {
          "bdata": "HAAAACYAAAAdAAAA7gYAAAYSAAAvAAAA",
          "dtype": "u4"
         },
         "yaxis": "y"
        },
        {
         "hovertemplate": "subzone=DLF Phase 1<br>restaurant_id=%{x}<br>len=%{y}<extra></extra>",
         "legendgroup": "DLF Phase 1",
         "marker": {
          "color": "#ab63fa",
          "pattern": {
           "shape": ""
          }
         },
         "name": "DLF Phase 1",
         "orientation": "v",
         "showlegend": true,
         "textposition": "auto",
         "type": "bar",
         "x": [
          "20882652",
          "21350931",
          "20968171",
          "20882713"
         ],
         "xaxis": "x",
         "y": {
          "bdata": "8QkAABwAAAAiAAAANwQAAA==",
          "dtype": "u4"
         },
         "yaxis": "y"
        },
        {
         "hovertemplate": "subzone=Shahdara<br>restaurant_id=%{x}<br>len=%{y}<extra></extra>",
         "legendgroup": "Shahdara",
         "marker": {
          "color": "#FFA15A",
          "pattern": {
           "shape": ""
          }
         },
         "name": "Shahdara",
         "orientation": "v",
         "showlegend": true,
         "textposition": "auto",
         "type": "bar",
         "x": [
          "21114574",
          "21424296",
          "21309083"
         ],
         "xaxis": "x",
         "y": {
          "bdata": "DgAAAA8AAABLAQAA",
          "dtype": "u4"
         },
         "yaxis": "y"
        },
        {
         "hovertemplate": "subzone=Sikandarpur<br>restaurant_id=%{x}<br>len=%{y}<extra></extra>",
         "legendgroup": "Sikandarpur",
         "marker": {
          "color": "#19d3f3",
          "pattern": {
           "shape": ""
          }
         },
         "name": "Sikandarpur",
         "orientation": "v",
         "showlegend": true,
         "textposition": "auto",
         "type": "bar",
         "x": [
          "21467512"
         ],
         "xaxis": "x",
         "y": {
          "bdata": "AQAAAA==",
          "dtype": "u4"
         },
         "yaxis": "y"
        },
        {
         "hovertemplate": "subzone=Chittaranjan Park<br>restaurant_id=%{x}<br>len=%{y}<extra></extra>",
         "legendgroup": "Chittaranjan Park",
         "marker": {
          "color": "#FF6692",
          "pattern": {
           "shape": ""
          }
         },
         "name": "Chittaranjan Park",
         "orientation": "v",
         "showlegend": true,
         "textposition": "auto",
         "type": "bar",
         "x": [
          "21467440"
         ],
         "xaxis": "x",
         "y": {
          "bdata": "AgAAAA==",
          "dtype": "u4"
         },
         "yaxis": "y"
        },
        {
         "hovertemplate": "subzone=Vasant Kunj<br>restaurant_id=%{x}<br>len=%{y}<extra></extra>",
         "legendgroup": "Vasant Kunj",
         "marker": {
          "color": "#B6E880",
          "pattern": {
           "shape": ""
          }
         },
         "name": "Vasant Kunj",
         "orientation": "v",
         "showlegend": true,
         "textposition": "auto",
         "type": "bar",
         "x": [
          "21173951"
         ],
         "xaxis": "x",
         "y": {
          "bdata": "mAMAAA==",
          "dtype": "u4"
         },
         "yaxis": "y"
        }
       ],
       "layout": {
        "barmode": "relative",
        "legend": {
         "title": {
          "text": "subzone"
         },
         "tracegroupgap": 0
        },
        "margin": {
         "t": 60
        },
        "template": {
         "data": {
          "bar": [
           {
            "error_x": {
             "color": "#2a3f5f"
            },
            "error_y": {
             "color": "#2a3f5f"
            },
            "marker": {
             "line": {
              "color": "#E5ECF6",
              "width": 0.5
             },
             "pattern": {
              "fillmode": "overlay",
              "size": 10,
              "solidity": 0.2
             }
            },
            "type": "bar"
           }
          ],
          "barpolar": [
           {
            "marker": {
             "line": {
              "color": "#E5ECF6",
              "width": 0.5
             },
             "pattern": {
              "fillmode": "overlay",
              "size": 10,
              "solidity": 0.2
             }
            },
            "type": "barpolar"
           }
          ],
          "carpet": [
           {
            "aaxis": {
             "endlinecolor": "#2a3f5f",
             "gridcolor": "white",
             "linecolor": "white",
             "minorgridcolor": "white",
             "startlinecolor": "#2a3f5f"
            },
            "baxis": {
             "endlinecolor": "#2a3f5f",
             "gridcolor": "white",
             "linecolor": "white",
             "minorgridcolor": "white",
             "startlinecolor": "#2a3f5f"
            },
            "type": "carpet"
           }
          ],
          "choropleth": [
           {
            "colorbar": {
             "outlinewidth": 0,
             "ticks": ""
            },
            "type": "choropleth"
           }
          ],
          "contour": [
           {
            "colorbar": {
             "outlinewidth": 0,
             "ticks": ""
            },
            "colorscale": [
             [
              0,
              "#0d0887"
             ],
             [
              0.1111111111111111,
              "#46039f"
             ],
             [
              0.2222222222222222,
              "#7201a8"
             ],
             [
              0.3333333333333333,
              "#9c179e"
             ],
             [
              0.4444444444444444,
              "#bd3786"
             ],
             [
              0.5555555555555556,
              "#d8576b"
             ],
             [
              0.6666666666666666,
              "#ed7953"
             ],
             [
              0.7777777777777778,
              "#fb9f3a"
             ],
             [
              0.8888888888888888,
              "#fdca26"
             ],
             [
              1,
              "#f0f921"
             ]
            ],
            "type": "contour"
           }
          ],
          "contourcarpet": [
           {
            "colorbar": {
             "outlinewidth": 0,
             "ticks": ""
            },
            "type": "contourcarpet"
           }
          ],
          "heatmap": [
           {
            "colorbar": {
             "outlinewidth": 0,
             "ticks": ""
            },
            "colorscale": [
             [
              0,
              "#0d0887"
             ],
             [
              0.1111111111111111,
              "#46039f"
             ],
             [
              0.2222222222222222,
              "#7201a8"
             ],
             [
              0.3333333333333333,
              "#9c179e"
             ],
             [
              0.4444444444444444,
              "#bd3786"
             ],
             [
              0.5555555555555556,
              "#d8576b"
             ],
             [
              0.6666666666666666,
              "#ed7953"
             ],
             [
              0.7777777777777778,
              "#fb9f3a"
             ],
             [
              0.8888888888888888,
              "#fdca26"
             ],
             [
              1,
              "#f0f921"
             ]
            ],
            "type": "heatmap"
           }
          ],
          "histogram": [
           {
            "marker": {
             "pattern": {
              "fillmode": "overlay",
              "size": 10,
              "solidity": 0.2
             }
            },
            "type": "histogram"
           }
          ],
          "histogram2d": [
           {
            "colorbar": {
             "outlinewidth": 0,
             "ticks": ""
            },
            "colorscale": [
             [
              0,
              "#0d0887"
             ],
             [
              0.1111111111111111,
              "#46039f"
             ],
             [
              0.2222222222222222,
              "#7201a8"
             ],
             [
              0.3333333333333333,
              "#9c179e"
             ],
             [
              0.4444444444444444,
              "#bd3786"
             ],
             [
              0.5555555555555556,
              "#d8576b"
             ],
             [
              0.6666666666666666,
              "#ed7953"
             ],
             [
              0.7777777777777778,
              "#fb9f3a"
             ],
             [
              0.8888888888888888,
              "#fdca26"
             ],
             [
              1,
              "#f0f921"
             ]
            ],
            "type": "histogram2d"
           }
          ],
          "histogram2dcontour": [
           {
            "colorbar": {
             "outlinewidth": 0,
             "ticks": ""
            },
            "colorscale": [
             [
              0,
              "#0d0887"
             ],
             [
              0.1111111111111111,
              "#46039f"
             ],
             [
              0.2222222222222222,
              "#7201a8"
             ],
             [
              0.3333333333333333,
              "#9c179e"
             ],
             [
              0.4444444444444444,
              "#bd3786"
             ],
             [
              0.5555555555555556,
              "#d8576b"
             ],
             [
              0.6666666666666666,
              "#ed7953"
             ],
             [
              0.7777777777777778,
              "#fb9f3a"
             ],
             [
              0.8888888888888888,
              "#fdca26"
             ],
             [
              1,
              "#f0f921"
             ]
            ],
            "type": "histogram2dcontour"
           }
          ],
          "mesh3d": [
           {
            "colorbar": {
             "outlinewidth": 0,
             "ticks": ""
            },
            "type": "mesh3d"
           }
          ],
          "parcoords": [
           {
            "line": {
             "colorbar": {
              "outlinewidth": 0,
              "ticks": ""
             }
            },
            "type": "parcoords"
           }
          ],
          "pie": [
           {
            "automargin": true,
            "type": "pie"
           }
          ],
          "scatter": [
           {
            "fillpattern": {
             "fillmode": "overlay",
             "size": 10,
             "solidity": 0.2
            },
            "type": "scatter"
           }
          ],
          "scatter3d": [
           {
            "line": {
             "colorbar": {
              "outlinewidth": 0,
              "ticks": ""
             }
            },
            "marker": {
             "colorbar": {
              "outlinewidth": 0,
              "ticks": ""
             }
            },
            "type": "scatter3d"
           }
          ],
          "scattercarpet": [
           {
            "marker": {
             "colorbar": {
              "outlinewidth": 0,
              "ticks": ""
             }
            },
            "type": "scattercarpet"
           }
          ],
          "scattergeo": [
           {
            "marker": {
             "colorbar": {
              "outlinewidth": 0,
              "ticks": ""
             }
            },
            "type": "scattergeo"
           }
          ],
          "scattergl": [
           {
            "marker": {
             "colorbar": {
              "outlinewidth": 0,
              "ticks": ""
             }
            },
            "type": "scattergl"
           }
          ],
          "scattermap": [
           {
            "marker": {
             "colorbar": {
              "outlinewidth": 0,
              "ticks": ""
             }
            },
            "type": "scattermap"
           }
          ],
          "scattermapbox": [
           {
            "marker": {
             "colorbar": {
              "outlinewidth": 0,
              "ticks": ""
             }
            },
            "type": "scattermapbox"
           }
          ],
          "scatterpolar": [
           {
            "marker": {
             "colorbar": {
              "outlinewidth": 0,
              "ticks": ""
             }
            },
            "type": "scatterpolar"
           }
          ],
          "scatterpolargl": [
           {
            "marker": {
             "colorbar": {
              "outlinewidth": 0,
              "ticks": ""
             }
            },
            "type": "scatterpolargl"
           }
          ],
          "scatterternary": [
           {
            "marker": {
             "colorbar": {
              "outlinewidth": 0,
              "ticks": ""
             }
            },
            "type": "scatterternary"
           }
          ],
          "surface": [
           {
            "colorbar": {
             "outlinewidth": 0,
             "ticks": ""
            },
            "colorscale": [
             [
              0,
              "#0d0887"
             ],
             [
              0.1111111111111111,
              "#46039f"
             ],
             [
              0.2222222222222222,
              "#7201a8"
             ],
             [
              0.3333333333333333,
              "#9c179e"
             ],
             [
              0.4444444444444444,
              "#bd3786"
             ],
             [
              0.5555555555555556,
              "#d8576b"
             ],
             [
              0.6666666666666666,
              "#ed7953"
             ],
             [
              0.7777777777777778,
              "#fb9f3a"
             ],
             [
              0.8888888888888888,
              "#fdca26"
             ],
             [
              1,
              "#f0f921"
             ]
            ],
            "type": "surface"
           }
          ],
          "table": [
           {
            "cells": {
             "fill": {
              "color": "#EBF0F8"
             },
             "line": {
              "color": "white"
             }
            },
            "header": {
             "fill": {
              "color": "#C8D4E3"
             },
             "line": {
              "color": "white"
             }
            },
            "type": "table"
           }
          ]
         },
         "layout": {
          "annotationdefaults": {
           "arrowcolor": "#2a3f5f",
           "arrowhead": 0,
           "arrowwidth": 1
          },
          "autotypenumbers": "strict",
          "coloraxis": {
           "colorbar": {
            "outlinewidth": 0,
            "ticks": ""
           }
          },
          "colorscale": {
           "diverging": [
            [
             0,
             "#8e0152"
            ],
            [
             0.1,
             "#c51b7d"
            ],
            [
             0.2,
             "#de77ae"
            ],
            [
             0.3,
             "#f1b6da"
            ],
            [
             0.4,
             "#fde0ef"
            ],
            [
             0.5,
             "#f7f7f7"
            ],
            [
             0.6,
             "#e6f5d0"
            ],
            [
             0.7,
             "#b8e186"
            ],
            [
             0.8,
             "#7fbc41"
            ],
            [
             0.9,
             "#4d9221"
            ],
            [
             1,
             "#276419"
            ]
           ],
           "sequential": [
            [
             0,
             "#0d0887"
            ],
            [
             0.1111111111111111,
             "#46039f"
            ],
            [
             0.2222222222222222,
             "#7201a8"
            ],
            [
             0.3333333333333333,
             "#9c179e"
            ],
            [
             0.4444444444444444,
             "#bd3786"
            ],
            [
             0.5555555555555556,
             "#d8576b"
            ],
            [
             0.6666666666666666,
             "#ed7953"
            ],
            [
             0.7777777777777778,
             "#fb9f3a"
            ],
            [
             0.8888888888888888,
             "#fdca26"
            ],
            [
             1,
             "#f0f921"
            ]
           ],
           "sequentialminus": [
            [
             0,
             "#0d0887"
            ],
            [
             0.1111111111111111,
             "#46039f"
            ],
            [
             0.2222222222222222,
             "#7201a8"
            ],
            [
             0.3333333333333333,
             "#9c179e"
            ],
            [
             0.4444444444444444,
             "#bd3786"
            ],
            [
             0.5555555555555556,
             "#d8576b"
            ],
            [
             0.6666666666666666,
             "#ed7953"
            ],
            [
             0.7777777777777778,
             "#fb9f3a"
            ],
            [
             0.8888888888888888,
             "#fdca26"
            ],
            [
             1,
             "#f0f921"
            ]
           ]
          },
          "colorway": [
           "#636efa",
           "#EF553B",
           "#00cc96",
           "#ab63fa",
           "#FFA15A",
           "#19d3f3",
           "#FF6692",
           "#B6E880",
           "#FF97FF",
           "#FECB52"
          ],
          "font": {
           "color": "#2a3f5f"
          },
          "geo": {
           "bgcolor": "white",
           "lakecolor": "white",
           "landcolor": "#E5ECF6",
           "showlakes": true,
           "showland": true,
           "subunitcolor": "white"
          },
          "hoverlabel": {
           "align": "left"
          },
          "hovermode": "closest",
          "mapbox": {
           "style": "light"
          },
          "paper_bgcolor": "white",
          "plot_bgcolor": "#E5ECF6",
          "polar": {
           "angularaxis": {
            "gridcolor": "white",
            "linecolor": "white",
            "ticks": ""
           },
           "bgcolor": "#E5ECF6",
           "radialaxis": {
            "gridcolor": "white",
            "linecolor": "white",
            "ticks": ""
           }
          },
          "scene": {
           "xaxis": {
            "backgroundcolor": "#E5ECF6",
            "gridcolor": "white",
            "gridwidth": 2,
            "linecolor": "white",
            "showbackground": true,
            "ticks": "",
            "zerolinecolor": "white"
           },
           "yaxis": {
            "backgroundcolor": "#E5ECF6",
            "gridcolor": "white",
            "gridwidth": 2,
            "linecolor": "white",
            "showbackground": true,
            "ticks": "",
            "zerolinecolor": "white"
           },
           "zaxis": {
            "backgroundcolor": "#E5ECF6",
            "gridcolor": "white",
            "gridwidth": 2,
            "linecolor": "white",
            "showbackground": true,
            "ticks": "",
            "zerolinecolor": "white"
           }
          },
          "shapedefaults": {
           "line": {
            "color": "#2a3f5f"
           }
          },
          "ternary": {
           "aaxis": {
            "gridcolor": "white",
            "linecolor": "white",
            "ticks": ""
           },
           "baxis": {
            "gridcolor": "white",
            "linecolor": "white",
            "ticks": ""
           },
           "bgcolor": "#E5ECF6",
           "caxis": {
            "gridcolor": "white",
            "linecolor": "white",
            "ticks": ""
           }
          },
          "title": {
           "x": 0.05
          },
          "xaxis": {
           "automargin": true,
           "gridcolor": "white",
           "linecolor": "white",
           "ticks": "",
           "title": {
            "standoff": 15
           },
           "zerolinecolor": "white",
           "zerolinewidth": 2
          },
          "yaxis": {
           "automargin": true,
           "gridcolor": "white",
           "linecolor": "white",
           "ticks": "",
           "title": {
            "standoff": 15
           },
           "zerolinecolor": "white",
           "zerolinewidth": 2
          }
         }
        },
        "xaxis": {
         "anchor": "y",
         "domain": [
          0,
          1
         ],
         "title": {
          "text": "restaurant_id"
         }
        },
        "yaxis": {
         "anchor": "x",
         "domain": [
          0,
          1
         ],
         "title": {
          "text": "len"
         }
        }
       }
      }
     },
     "metadata": {},
     "output_type": "display_data"
    }
   ],
   "source": [
    "px.bar(\n",
    "    df_grouped_restaurant_subzone,\n",
    "    x='restaurant_id',\n",
    "    y='len',\n",
    "    color='subzone'\n",
    ")"
   ]
  },
  {
   "cell_type": "code",
   "execution_count": 433,
   "metadata": {},
   "outputs": [],
   "source": [
    "# Notes:\n",
    "# - Most data coming from certain restaurants / certain subzones (not equally representative of the total population)\n",
    "# - For V1, train a single model based on all records available -> For V2, think of training separate models for each subcategory? Maybe for some subcategory + restaurant combinations? "
   ]
  },
  {
   "cell_type": "code",
   "execution_count": 434,
   "metadata": {},
   "outputs": [
    {
     "data": {
      "text/html": [
       "<div><style>\n",
       ".dataframe > thead > tr,\n",
       ".dataframe > tbody > tr {\n",
       "  text-align: right;\n",
       "  white-space: pre-wrap;\n",
       "}\n",
       "</style>\n",
       "<small>shape: (24, 7)</small><table border=\"1\" class=\"dataframe\"><thead><tr><th>restaurant_id</th><th>restaurant_name</th><th>subzone</th><th>len</th><th>kpt_duration_sum</th><th>kpt_duration_mean</th><th>kpt_duration_median</th></tr><tr><td>str</td><td>str</td><td>str</td><td>u32</td><td>f64</td><td>f64</td><td>f64</td></tr></thead><tbody><tr><td>&quot;21467269&quot;</td><td>&quot;The Chicken Junction&quot;</td><td>&quot;Sector 4&quot;</td><td>29</td><td>451.91</td><td>15.583103</td><td>14.73</td></tr><tr><td>&quot;21467440&quot;</td><td>&quot;The Chicken Junction&quot;</td><td>&quot;Chittaranjan Park&quot;</td><td>2</td><td>14.32</td><td>14.32</td><td>14.32</td></tr><tr><td>&quot;21424296&quot;</td><td>&quot;Tandoori Junction&quot;</td><td>&quot;Sector 135&quot;</td><td>1</td><td>24.93</td><td>24.93</td><td>24.93</td></tr><tr><td>&quot;21077127&quot;</td><td>&quot;Aura Pizzas&quot;</td><td>&quot;Sector 135&quot;</td><td>2051</td><td>30743.76</td><td>15.159645</td><td>14.61</td></tr><tr><td>&quot;20882652&quot;</td><td>&quot;Aura Pizzas&quot;</td><td>&quot;DLF Phase 1&quot;</td><td>2545</td><td>47481.9</td><td>18.85699</td><td>17.69</td></tr><tr><td>&quot;21350931&quot;</td><td>&quot;Tandoori Junction&quot;</td><td>&quot;DLF Phase 1&quot;</td><td>28</td><td>562.06</td><td>20.817037</td><td>18.33</td></tr><tr><td>&quot;21424296&quot;</td><td>&quot;Tandoori Junction&quot;</td><td>&quot;Shahdara&quot;</td><td>15</td><td>262.5</td><td>17.5</td><td>16.87</td></tr><tr><td>&quot;21173951&quot;</td><td>&quot;Aura Pizzas&quot;</td><td>&quot;Vasant Kunj&quot;</td><td>920</td><td>15963.97</td><td>17.427915</td><td>16.435</td></tr><tr><td>&quot;21309083&quot;</td><td>&quot;Swaad&quot;</td><td>&quot;Sector 135&quot;</td><td>367</td><td>6896.01</td><td>18.893178</td><td>17.97</td></tr><tr><td>&quot;20968171&quot;</td><td>&quot;Dilli Burger Adda&quot;</td><td>&quot;DLF Phase 1&quot;</td><td>34</td><td>608.14</td><td>18.428485</td><td>16.42</td></tr><tr><td>&hellip;</td><td>&hellip;</td><td>&hellip;</td><td>&hellip;</td><td>&hellip;</td><td>&hellip;</td><td>&hellip;</td></tr><tr><td>&quot;20554001&quot;</td><td>&quot;Swaad&quot;</td><td>&quot;Greater Kailash 2 (GK2)&quot;</td><td>2781</td><td>50248.12</td><td>18.332039</td><td>17.73</td></tr><tr><td>&quot;20320607&quot;</td><td>&quot;Swaad&quot;</td><td>&quot;Sector 4&quot;</td><td>1774</td><td>27554.95</td><td>15.827082</td><td>15.27</td></tr><tr><td>&quot;21467512&quot;</td><td>&quot;The Chicken Junction&quot;</td><td>&quot;Sikandarpur&quot;</td><td>1</td><td>15.87</td><td>15.87</td><td>15.87</td></tr><tr><td>&quot;21114574&quot;</td><td>&quot;Dilli Burger Adda&quot;</td><td>&quot;Sector 135&quot;</td><td>23</td><td>398.34</td><td>17.31913</td><td>17.82</td></tr><tr><td>&quot;21145152&quot;</td><td>&quot;Tandoori Junction&quot;</td><td>&quot;Sector 4&quot;</td><td>38</td><td>682.78</td><td>19.508</td><td>17.75</td></tr><tr><td>&quot;21114574&quot;</td><td>&quot;Dilli Burger Adda&quot;</td><td>&quot;Shahdara&quot;</td><td>14</td><td>274.21</td><td>19.586429</td><td>15.31</td></tr><tr><td>&quot;20968194&quot;</td><td>&quot;Dilli Burger Adda&quot;</td><td>&quot;Sector 4&quot;</td><td>47</td><td>877.29</td><td>19.495333</td><td>17.1</td></tr><tr><td>&quot;20882713&quot;</td><td>&quot;Swaad&quot;</td><td>&quot;DLF Phase 1&quot;</td><td>1079</td><td>20177.13</td><td>18.91015</td><td>17.95</td></tr><tr><td>&quot;20635699&quot;</td><td>&quot;Aura Pizzas&quot;</td><td>&quot;Greater Kailash 2 (GK2)&quot;</td><td>4418</td><td>76374.2</td><td>17.605855</td><td>16.27</td></tr><tr><td>&quot;21309083&quot;</td><td>&quot;Swaad&quot;</td><td>&quot;Shahdara&quot;</td><td>331</td><td>6055.92</td><td>18.463171</td><td>17.775</td></tr></tbody></table></div>"
      ],
      "text/plain": [
       "shape: (24, 7)\n",
       "┌───────────────┬───────────────┬──────────────┬──────┬──────────────┬──────────────┬──────────────┐\n",
       "│ restaurant_id ┆ restaurant_na ┆ subzone      ┆ len  ┆ kpt_duration ┆ kpt_duration ┆ kpt_duration │\n",
       "│ ---           ┆ me            ┆ ---          ┆ ---  ┆ _sum         ┆ _mean        ┆ _median      │\n",
       "│ str           ┆ ---           ┆ str          ┆ u32  ┆ ---          ┆ ---          ┆ ---          │\n",
       "│               ┆ str           ┆              ┆      ┆ f64          ┆ f64          ┆ f64          │\n",
       "╞═══════════════╪═══════════════╪══════════════╪══════╪══════════════╪══════════════╪══════════════╡\n",
       "│ 21467269      ┆ The Chicken   ┆ Sector 4     ┆ 29   ┆ 451.91       ┆ 15.583103    ┆ 14.73        │\n",
       "│               ┆ Junction      ┆              ┆      ┆              ┆              ┆              │\n",
       "│ 21467440      ┆ The Chicken   ┆ Chittaranjan ┆ 2    ┆ 14.32        ┆ 14.32        ┆ 14.32        │\n",
       "│               ┆ Junction      ┆ Park         ┆      ┆              ┆              ┆              │\n",
       "│ 21424296      ┆ Tandoori      ┆ Sector 135   ┆ 1    ┆ 24.93        ┆ 24.93        ┆ 24.93        │\n",
       "│               ┆ Junction      ┆              ┆      ┆              ┆              ┆              │\n",
       "│ 21077127      ┆ Aura Pizzas   ┆ Sector 135   ┆ 2051 ┆ 30743.76     ┆ 15.159645    ┆ 14.61        │\n",
       "│ 20882652      ┆ Aura Pizzas   ┆ DLF Phase 1  ┆ 2545 ┆ 47481.9      ┆ 18.85699     ┆ 17.69        │\n",
       "│ 21350931      ┆ Tandoori      ┆ DLF Phase 1  ┆ 28   ┆ 562.06       ┆ 20.817037    ┆ 18.33        │\n",
       "│               ┆ Junction      ┆              ┆      ┆              ┆              ┆              │\n",
       "│ 21424296      ┆ Tandoori      ┆ Shahdara     ┆ 15   ┆ 262.5        ┆ 17.5         ┆ 16.87        │\n",
       "│               ┆ Junction      ┆              ┆      ┆              ┆              ┆              │\n",
       "│ 21173951      ┆ Aura Pizzas   ┆ Vasant Kunj  ┆ 920  ┆ 15963.97     ┆ 17.427915    ┆ 16.435       │\n",
       "│ 21309083      ┆ Swaad         ┆ Sector 135   ┆ 367  ┆ 6896.01      ┆ 18.893178    ┆ 17.97        │\n",
       "│ 20968171      ┆ Dilli Burger  ┆ DLF Phase 1  ┆ 34   ┆ 608.14       ┆ 18.428485    ┆ 16.42        │\n",
       "│               ┆ Adda          ┆              ┆      ┆              ┆              ┆              │\n",
       "│ …             ┆ …             ┆ …            ┆ …    ┆ …            ┆ …            ┆ …            │\n",
       "│ 20554001      ┆ Swaad         ┆ Greater      ┆ 2781 ┆ 50248.12     ┆ 18.332039    ┆ 17.73        │\n",
       "│               ┆               ┆ Kailash 2    ┆      ┆              ┆              ┆              │\n",
       "│               ┆               ┆ (GK2)        ┆      ┆              ┆              ┆              │\n",
       "│ 20320607      ┆ Swaad         ┆ Sector 4     ┆ 1774 ┆ 27554.95     ┆ 15.827082    ┆ 15.27        │\n",
       "│ 21467512      ┆ The Chicken   ┆ Sikandarpur  ┆ 1    ┆ 15.87        ┆ 15.87        ┆ 15.87        │\n",
       "│               ┆ Junction      ┆              ┆      ┆              ┆              ┆              │\n",
       "│ 21114574      ┆ Dilli Burger  ┆ Sector 135   ┆ 23   ┆ 398.34       ┆ 17.31913     ┆ 17.82        │\n",
       "│               ┆ Adda          ┆              ┆      ┆              ┆              ┆              │\n",
       "│ 21145152      ┆ Tandoori      ┆ Sector 4     ┆ 38   ┆ 682.78       ┆ 19.508       ┆ 17.75        │\n",
       "│               ┆ Junction      ┆              ┆      ┆              ┆              ┆              │\n",
       "│ 21114574      ┆ Dilli Burger  ┆ Shahdara     ┆ 14   ┆ 274.21       ┆ 19.586429    ┆ 15.31        │\n",
       "│               ┆ Adda          ┆              ┆      ┆              ┆              ┆              │\n",
       "│ 20968194      ┆ Dilli Burger  ┆ Sector 4     ┆ 47   ┆ 877.29       ┆ 19.495333    ┆ 17.1         │\n",
       "│               ┆ Adda          ┆              ┆      ┆              ┆              ┆              │\n",
       "│ 20882713      ┆ Swaad         ┆ DLF Phase 1  ┆ 1079 ┆ 20177.13     ┆ 18.91015     ┆ 17.95        │\n",
       "│ 20635699      ┆ Aura Pizzas   ┆ Greater      ┆ 4418 ┆ 76374.2      ┆ 17.605855    ┆ 16.27        │\n",
       "│               ┆               ┆ Kailash 2    ┆      ┆              ┆              ┆              │\n",
       "│               ┆               ┆ (GK2)        ┆      ┆              ┆              ┆              │\n",
       "│ 21309083      ┆ Swaad         ┆ Shahdara     ┆ 331  ┆ 6055.92      ┆ 18.463171    ┆ 17.775       │\n",
       "└───────────────┴───────────────┴──────────────┴──────┴──────────────┴──────────────┴──────────────┘"
      ]
     },
     "execution_count": 434,
     "metadata": {},
     "output_type": "execute_result"
    }
   ],
   "source": [
    "# Plot distribution of kpt duration for each restaurant id + subzone combination\n",
    "df_grouped_restaurant_subzone_target = df_encoded.group_by(\n",
    "    group_by_cols\n",
    ").agg(\n",
    "    pl.col('order_id').len().alias('len'),\n",
    "    pl.col('kpt_duration_minutes').sum().alias('kpt_duration_sum'),\n",
    "    pl.col('kpt_duration_minutes').mean().alias('kpt_duration_mean'),\n",
    "    pl.col('kpt_duration_minutes').median().alias('kpt_duration_median'),\n",
    ")\n",
    "df_grouped_restaurant_subzone_target"
   ]
  },
  {
   "cell_type": "code",
   "execution_count": 435,
   "metadata": {},
   "outputs": [
    {
     "data": {
      "application/vnd.plotly.v1+json": {
       "config": {
        "plotlyServerURL": "https://plot.ly"
       },
       "data": [
        {
         "alignmentgroup": "True",
         "hovertemplate": "subzone=Sector 4<br>restaurant_name=%{x}<br>kpt_duration_mean=%{y}<extra></extra>",
         "legendgroup": "Sector 4",
         "marker": {
          "color": "#636efa",
          "pattern": {
           "shape": ""
          }
         },
         "name": "Sector 4",
         "offsetgroup": "Sector 4",
         "orientation": "v",
         "showlegend": true,
         "textposition": "auto",
         "type": "bar",
         "x": [
          "The Chicken Junction",
          "Masala Junction",
          "Aura Pizzas",
          "Swaad",
          "Tandoori Junction",
          "Dilli Burger Adda"
         ],
         "xaxis": "x",
         "y": {
          "bdata": "Lg8BiYwqL0BxsKCk41MrQHVEf9x2YTBApX1QT3enL0A2XrpJDIIzQAtJUyrOfjNA",
          "dtype": "f8"
         },
         "yaxis": "y"
        },
        {
         "alignmentgroup": "True",
         "hovertemplate": "subzone=Chittaranjan Park<br>restaurant_name=%{x}<br>kpt_duration_mean=%{y}<extra></extra>",
         "legendgroup": "Chittaranjan Park",
         "marker": {
          "color": "#EF553B",
          "pattern": {
           "shape": ""
          }
         },
         "name": "Chittaranjan Park",
         "offsetgroup": "Chittaranjan Park",
         "orientation": "v",
         "showlegend": true,
         "textposition": "auto",
         "type": "bar",
         "x": [
          "The Chicken Junction"
         ],
         "xaxis": "x",
         "y": {
          "bdata": "pHA9CtejLEA=",
          "dtype": "f8"
         },
         "yaxis": "y"
        },
        {
         "alignmentgroup": "True",
         "hovertemplate": "subzone=Sector 135<br>restaurant_name=%{x}<br>kpt_duration_mean=%{y}<extra></extra>",
         "legendgroup": "Sector 135",
         "marker": {
          "color": "#00cc96",
          "pattern": {
           "shape": ""
          }
         },
         "name": "Sector 135",
         "offsetgroup": "Sector 135",
         "orientation": "v",
         "showlegend": true,
         "textposition": "auto",
         "type": "bar",
         "x": [
          "Tandoori Junction",
          "Aura Pizzas",
          "Swaad",
          "Dilli Burger Adda"
         ],
         "xaxis": "x",
         "y": {
          "bdata": "rkfhehTuOEC7zE38vFEuQImEnFGn5DJAsYw8iLJRMUA=",
          "dtype": "f8"
         },
         "yaxis": "y"
        },
        {
         "alignmentgroup": "True",
         "hovertemplate": "subzone=DLF Phase 1<br>restaurant_name=%{x}<br>kpt_duration_mean=%{y}<extra></extra>",
         "legendgroup": "DLF Phase 1",
         "marker": {
          "color": "#ab63fa",
          "pattern": {
           "shape": ""
          }
         },
         "name": "DLF Phase 1",
         "offsetgroup": "DLF Phase 1",
         "orientation": "v",
         "showlegend": true,
         "textposition": "auto",
         "type": "bar",
         "x": [
          "Aura Pizzas",
          "Tandoori Junction",
          "Dilli Burger Adda",
          "Swaad"
         ],
         "xaxis": "x",
         "y": {
          "bdata": "CFLgrGPbMkDfsdlWKdE0QO8S2y6xbTJA2TBblv/oMkA=",
          "dtype": "f8"
         },
         "yaxis": "y"
        },
        {
         "alignmentgroup": "True",
         "hovertemplate": "subzone=Shahdara<br>restaurant_name=%{x}<br>kpt_duration_mean=%{y}<extra></extra>",
         "legendgroup": "Shahdara",
         "marker": {
          "color": "#FFA15A",
          "pattern": {
           "shape": ""
          }
         },
         "name": "Shahdara",
         "offsetgroup": "Shahdara",
         "orientation": "v",
         "showlegend": true,
         "textposition": "auto",
         "type": "bar",
         "x": [
          "Tandoori Junction",
          "Dilli Burger Adda",
          "Swaad"
         ],
         "xaxis": "x",
         "y": {
          "bdata": "AAAAAACAMUDJuc8uIJYzQLAlaVuSdjJA",
          "dtype": "f8"
         },
         "yaxis": "y"
        },
        {
         "alignmentgroup": "True",
         "hovertemplate": "subzone=Vasant Kunj<br>restaurant_name=%{x}<br>kpt_duration_mean=%{y}<extra></extra>",
         "legendgroup": "Vasant Kunj",
         "marker": {
          "color": "#19d3f3",
          "pattern": {
           "shape": ""
          }
         },
         "name": "Vasant Kunj",
         "offsetgroup": "Vasant Kunj",
         "orientation": "v",
         "showlegend": true,
         "textposition": "auto",
         "type": "bar",
         "x": [
          "Aura Pizzas"
         ],
         "xaxis": "x",
         "y": {
          "bdata": "JQjS04ttMUA=",
          "dtype": "f8"
         },
         "yaxis": "y"
        },
        {
         "alignmentgroup": "True",
         "hovertemplate": "subzone=Greater Kailash 2 (GK2)<br>restaurant_name=%{x}<br>kpt_duration_mean=%{y}<extra></extra>",
         "legendgroup": "Greater Kailash 2 (GK2)",
         "marker": {
          "color": "#FF6692",
          "pattern": {
           "shape": ""
          }
         },
         "name": "Greater Kailash 2 (GK2)",
         "offsetgroup": "Greater Kailash 2 (GK2)",
         "orientation": "v",
         "showlegend": true,
         "textposition": "auto",
         "type": "bar",
         "x": [
          "Tandoori Junction",
          "Dilli Burger Adda",
          "Swaad",
          "Aura Pizzas"
         ],
         "xaxis": "x",
         "y": {
          "bdata": "MLc/yFABN0DywqsDwR00QPoww4gAVTJAWRkbVBmbMUA=",
          "dtype": "f8"
         },
         "yaxis": "y"
        },
        {
         "alignmentgroup": "True",
         "hovertemplate": "subzone=Sikandarpur<br>restaurant_name=%{x}<br>kpt_duration_mean=%{y}<extra></extra>",
         "legendgroup": "Sikandarpur",
         "marker": {
          "color": "#B6E880",
          "pattern": {
           "shape": ""
          }
         },
         "name": "Sikandarpur",
         "offsetgroup": "Sikandarpur",
         "orientation": "v",
         "showlegend": true,
         "textposition": "auto",
         "type": "bar",
         "x": [
          "The Chicken Junction"
         ],
         "xaxis": "x",
         "y": {
          "bdata": "PQrXo3C9L0A=",
          "dtype": "f8"
         },
         "yaxis": "y"
        }
       ],
       "layout": {
        "barmode": "group",
        "legend": {
         "title": {
          "text": "subzone"
         },
         "tracegroupgap": 0
        },
        "margin": {
         "t": 60
        },
        "template": {
         "data": {
          "bar": [
           {
            "error_x": {
             "color": "#2a3f5f"
            },
            "error_y": {
             "color": "#2a3f5f"
            },
            "marker": {
             "line": {
              "color": "#E5ECF6",
              "width": 0.5
             },
             "pattern": {
              "fillmode": "overlay",
              "size": 10,
              "solidity": 0.2
             }
            },
            "type": "bar"
           }
          ],
          "barpolar": [
           {
            "marker": {
             "line": {
              "color": "#E5ECF6",
              "width": 0.5
             },
             "pattern": {
              "fillmode": "overlay",
              "size": 10,
              "solidity": 0.2
             }
            },
            "type": "barpolar"
           }
          ],
          "carpet": [
           {
            "aaxis": {
             "endlinecolor": "#2a3f5f",
             "gridcolor": "white",
             "linecolor": "white",
             "minorgridcolor": "white",
             "startlinecolor": "#2a3f5f"
            },
            "baxis": {
             "endlinecolor": "#2a3f5f",
             "gridcolor": "white",
             "linecolor": "white",
             "minorgridcolor": "white",
             "startlinecolor": "#2a3f5f"
            },
            "type": "carpet"
           }
          ],
          "choropleth": [
           {
            "colorbar": {
             "outlinewidth": 0,
             "ticks": ""
            },
            "type": "choropleth"
           }
          ],
          "contour": [
           {
            "colorbar": {
             "outlinewidth": 0,
             "ticks": ""
            },
            "colorscale": [
             [
              0,
              "#0d0887"
             ],
             [
              0.1111111111111111,
              "#46039f"
             ],
             [
              0.2222222222222222,
              "#7201a8"
             ],
             [
              0.3333333333333333,
              "#9c179e"
             ],
             [
              0.4444444444444444,
              "#bd3786"
             ],
             [
              0.5555555555555556,
              "#d8576b"
             ],
             [
              0.6666666666666666,
              "#ed7953"
             ],
             [
              0.7777777777777778,
              "#fb9f3a"
             ],
             [
              0.8888888888888888,
              "#fdca26"
             ],
             [
              1,
              "#f0f921"
             ]
            ],
            "type": "contour"
           }
          ],
          "contourcarpet": [
           {
            "colorbar": {
             "outlinewidth": 0,
             "ticks": ""
            },
            "type": "contourcarpet"
           }
          ],
          "heatmap": [
           {
            "colorbar": {
             "outlinewidth": 0,
             "ticks": ""
            },
            "colorscale": [
             [
              0,
              "#0d0887"
             ],
             [
              0.1111111111111111,
              "#46039f"
             ],
             [
              0.2222222222222222,
              "#7201a8"
             ],
             [
              0.3333333333333333,
              "#9c179e"
             ],
             [
              0.4444444444444444,
              "#bd3786"
             ],
             [
              0.5555555555555556,
              "#d8576b"
             ],
             [
              0.6666666666666666,
              "#ed7953"
             ],
             [
              0.7777777777777778,
              "#fb9f3a"
             ],
             [
              0.8888888888888888,
              "#fdca26"
             ],
             [
              1,
              "#f0f921"
             ]
            ],
            "type": "heatmap"
           }
          ],
          "histogram": [
           {
            "marker": {
             "pattern": {
              "fillmode": "overlay",
              "size": 10,
              "solidity": 0.2
             }
            },
            "type": "histogram"
           }
          ],
          "histogram2d": [
           {
            "colorbar": {
             "outlinewidth": 0,
             "ticks": ""
            },
            "colorscale": [
             [
              0,
              "#0d0887"
             ],
             [
              0.1111111111111111,
              "#46039f"
             ],
             [
              0.2222222222222222,
              "#7201a8"
             ],
             [
              0.3333333333333333,
              "#9c179e"
             ],
             [
              0.4444444444444444,
              "#bd3786"
             ],
             [
              0.5555555555555556,
              "#d8576b"
             ],
             [
              0.6666666666666666,
              "#ed7953"
             ],
             [
              0.7777777777777778,
              "#fb9f3a"
             ],
             [
              0.8888888888888888,
              "#fdca26"
             ],
             [
              1,
              "#f0f921"
             ]
            ],
            "type": "histogram2d"
           }
          ],
          "histogram2dcontour": [
           {
            "colorbar": {
             "outlinewidth": 0,
             "ticks": ""
            },
            "colorscale": [
             [
              0,
              "#0d0887"
             ],
             [
              0.1111111111111111,
              "#46039f"
             ],
             [
              0.2222222222222222,
              "#7201a8"
             ],
             [
              0.3333333333333333,
              "#9c179e"
             ],
             [
              0.4444444444444444,
              "#bd3786"
             ],
             [
              0.5555555555555556,
              "#d8576b"
             ],
             [
              0.6666666666666666,
              "#ed7953"
             ],
             [
              0.7777777777777778,
              "#fb9f3a"
             ],
             [
              0.8888888888888888,
              "#fdca26"
             ],
             [
              1,
              "#f0f921"
             ]
            ],
            "type": "histogram2dcontour"
           }
          ],
          "mesh3d": [
           {
            "colorbar": {
             "outlinewidth": 0,
             "ticks": ""
            },
            "type": "mesh3d"
           }
          ],
          "parcoords": [
           {
            "line": {
             "colorbar": {
              "outlinewidth": 0,
              "ticks": ""
             }
            },
            "type": "parcoords"
           }
          ],
          "pie": [
           {
            "automargin": true,
            "type": "pie"
           }
          ],
          "scatter": [
           {
            "fillpattern": {
             "fillmode": "overlay",
             "size": 10,
             "solidity": 0.2
            },
            "type": "scatter"
           }
          ],
          "scatter3d": [
           {
            "line": {
             "colorbar": {
              "outlinewidth": 0,
              "ticks": ""
             }
            },
            "marker": {
             "colorbar": {
              "outlinewidth": 0,
              "ticks": ""
             }
            },
            "type": "scatter3d"
           }
          ],
          "scattercarpet": [
           {
            "marker": {
             "colorbar": {
              "outlinewidth": 0,
              "ticks": ""
             }
            },
            "type": "scattercarpet"
           }
          ],
          "scattergeo": [
           {
            "marker": {
             "colorbar": {
              "outlinewidth": 0,
              "ticks": ""
             }
            },
            "type": "scattergeo"
           }
          ],
          "scattergl": [
           {
            "marker": {
             "colorbar": {
              "outlinewidth": 0,
              "ticks": ""
             }
            },
            "type": "scattergl"
           }
          ],
          "scattermap": [
           {
            "marker": {
             "colorbar": {
              "outlinewidth": 0,
              "ticks": ""
             }
            },
            "type": "scattermap"
           }
          ],
          "scattermapbox": [
           {
            "marker": {
             "colorbar": {
              "outlinewidth": 0,
              "ticks": ""
             }
            },
            "type": "scattermapbox"
           }
          ],
          "scatterpolar": [
           {
            "marker": {
             "colorbar": {
              "outlinewidth": 0,
              "ticks": ""
             }
            },
            "type": "scatterpolar"
           }
          ],
          "scatterpolargl": [
           {
            "marker": {
             "colorbar": {
              "outlinewidth": 0,
              "ticks": ""
             }
            },
            "type": "scatterpolargl"
           }
          ],
          "scatterternary": [
           {
            "marker": {
             "colorbar": {
              "outlinewidth": 0,
              "ticks": ""
             }
            },
            "type": "scatterternary"
           }
          ],
          "surface": [
           {
            "colorbar": {
             "outlinewidth": 0,
             "ticks": ""
            },
            "colorscale": [
             [
              0,
              "#0d0887"
             ],
             [
              0.1111111111111111,
              "#46039f"
             ],
             [
              0.2222222222222222,
              "#7201a8"
             ],
             [
              0.3333333333333333,
              "#9c179e"
             ],
             [
              0.4444444444444444,
              "#bd3786"
             ],
             [
              0.5555555555555556,
              "#d8576b"
             ],
             [
              0.6666666666666666,
              "#ed7953"
             ],
             [
              0.7777777777777778,
              "#fb9f3a"
             ],
             [
              0.8888888888888888,
              "#fdca26"
             ],
             [
              1,
              "#f0f921"
             ]
            ],
            "type": "surface"
           }
          ],
          "table": [
           {
            "cells": {
             "fill": {
              "color": "#EBF0F8"
             },
             "line": {
              "color": "white"
             }
            },
            "header": {
             "fill": {
              "color": "#C8D4E3"
             },
             "line": {
              "color": "white"
             }
            },
            "type": "table"
           }
          ]
         },
         "layout": {
          "annotationdefaults": {
           "arrowcolor": "#2a3f5f",
           "arrowhead": 0,
           "arrowwidth": 1
          },
          "autotypenumbers": "strict",
          "coloraxis": {
           "colorbar": {
            "outlinewidth": 0,
            "ticks": ""
           }
          },
          "colorscale": {
           "diverging": [
            [
             0,
             "#8e0152"
            ],
            [
             0.1,
             "#c51b7d"
            ],
            [
             0.2,
             "#de77ae"
            ],
            [
             0.3,
             "#f1b6da"
            ],
            [
             0.4,
             "#fde0ef"
            ],
            [
             0.5,
             "#f7f7f7"
            ],
            [
             0.6,
             "#e6f5d0"
            ],
            [
             0.7,
             "#b8e186"
            ],
            [
             0.8,
             "#7fbc41"
            ],
            [
             0.9,
             "#4d9221"
            ],
            [
             1,
             "#276419"
            ]
           ],
           "sequential": [
            [
             0,
             "#0d0887"
            ],
            [
             0.1111111111111111,
             "#46039f"
            ],
            [
             0.2222222222222222,
             "#7201a8"
            ],
            [
             0.3333333333333333,
             "#9c179e"
            ],
            [
             0.4444444444444444,
             "#bd3786"
            ],
            [
             0.5555555555555556,
             "#d8576b"
            ],
            [
             0.6666666666666666,
             "#ed7953"
            ],
            [
             0.7777777777777778,
             "#fb9f3a"
            ],
            [
             0.8888888888888888,
             "#fdca26"
            ],
            [
             1,
             "#f0f921"
            ]
           ],
           "sequentialminus": [
            [
             0,
             "#0d0887"
            ],
            [
             0.1111111111111111,
             "#46039f"
            ],
            [
             0.2222222222222222,
             "#7201a8"
            ],
            [
             0.3333333333333333,
             "#9c179e"
            ],
            [
             0.4444444444444444,
             "#bd3786"
            ],
            [
             0.5555555555555556,
             "#d8576b"
            ],
            [
             0.6666666666666666,
             "#ed7953"
            ],
            [
             0.7777777777777778,
             "#fb9f3a"
            ],
            [
             0.8888888888888888,
             "#fdca26"
            ],
            [
             1,
             "#f0f921"
            ]
           ]
          },
          "colorway": [
           "#636efa",
           "#EF553B",
           "#00cc96",
           "#ab63fa",
           "#FFA15A",
           "#19d3f3",
           "#FF6692",
           "#B6E880",
           "#FF97FF",
           "#FECB52"
          ],
          "font": {
           "color": "#2a3f5f"
          },
          "geo": {
           "bgcolor": "white",
           "lakecolor": "white",
           "landcolor": "#E5ECF6",
           "showlakes": true,
           "showland": true,
           "subunitcolor": "white"
          },
          "hoverlabel": {
           "align": "left"
          },
          "hovermode": "closest",
          "mapbox": {
           "style": "light"
          },
          "paper_bgcolor": "white",
          "plot_bgcolor": "#E5ECF6",
          "polar": {
           "angularaxis": {
            "gridcolor": "white",
            "linecolor": "white",
            "ticks": ""
           },
           "bgcolor": "#E5ECF6",
           "radialaxis": {
            "gridcolor": "white",
            "linecolor": "white",
            "ticks": ""
           }
          },
          "scene": {
           "xaxis": {
            "backgroundcolor": "#E5ECF6",
            "gridcolor": "white",
            "gridwidth": 2,
            "linecolor": "white",
            "showbackground": true,
            "ticks": "",
            "zerolinecolor": "white"
           },
           "yaxis": {
            "backgroundcolor": "#E5ECF6",
            "gridcolor": "white",
            "gridwidth": 2,
            "linecolor": "white",
            "showbackground": true,
            "ticks": "",
            "zerolinecolor": "white"
           },
           "zaxis": {
            "backgroundcolor": "#E5ECF6",
            "gridcolor": "white",
            "gridwidth": 2,
            "linecolor": "white",
            "showbackground": true,
            "ticks": "",
            "zerolinecolor": "white"
           }
          },
          "shapedefaults": {
           "line": {
            "color": "#2a3f5f"
           }
          },
          "ternary": {
           "aaxis": {
            "gridcolor": "white",
            "linecolor": "white",
            "ticks": ""
           },
           "baxis": {
            "gridcolor": "white",
            "linecolor": "white",
            "ticks": ""
           },
           "bgcolor": "#E5ECF6",
           "caxis": {
            "gridcolor": "white",
            "linecolor": "white",
            "ticks": ""
           }
          },
          "title": {
           "x": 0.05
          },
          "xaxis": {
           "automargin": true,
           "gridcolor": "white",
           "linecolor": "white",
           "ticks": "",
           "title": {
            "standoff": 15
           },
           "zerolinecolor": "white",
           "zerolinewidth": 2
          },
          "yaxis": {
           "automargin": true,
           "gridcolor": "white",
           "linecolor": "white",
           "ticks": "",
           "title": {
            "standoff": 15
           },
           "zerolinecolor": "white",
           "zerolinewidth": 2
          }
         }
        },
        "xaxis": {
         "anchor": "y",
         "domain": [
          0,
          1
         ],
         "title": {
          "text": "restaurant_name"
         }
        },
        "yaxis": {
         "anchor": "x",
         "domain": [
          0,
          1
         ],
         "title": {
          "text": "kpt_duration_mean"
         }
        }
       }
      }
     },
     "metadata": {},
     "output_type": "display_data"
    }
   ],
   "source": [
    "px.bar(\n",
    "    df_grouped_restaurant_subzone_target,\n",
    "    x='restaurant_name',\n",
    "    y='kpt_duration_mean',\n",
    "    color='subzone',\n",
    "    barmode = 'group',\n",
    ")"
   ]
  },
  {
   "cell_type": "markdown",
   "metadata": {},
   "source": [
    "#### 6. Extract the total number of items from the 'items_in_order' column "
   ]
  },
  {
   "cell_type": "code",
   "execution_count": 436,
   "metadata": {},
   "outputs": [
    {
     "name": "stdout",
     "output_type": "stream",
     "text": [
      "21321\n"
     ]
    },
    {
     "data": {
      "text/html": [
       "<div><style>\n",
       ".dataframe > thead > tr,\n",
       ".dataframe > tbody > tr {\n",
       "  text-align: right;\n",
       "  white-space: pre-wrap;\n",
       "}\n",
       "</style>\n",
       "<small>shape: (5, 28)</small><table border=\"1\" class=\"dataframe\"><thead><tr><th>restaurant_id</th><th>restaurant_name</th><th>subzone</th><th>order_id</th><th>order_placed_at</th><th>order_status</th><th>distance</th><th>items_in_order</th><th>instructions</th><th>discount_construct</th><th>bill_subtotal</th><th>packaging_charges</th><th>restaurant_discount_promo</th><th>restaurant_discount_others</th><th>gold_discount</th><th>brand_pack_discount</th><th>total</th><th>rating</th><th>review</th><th>cancellation_rejection_reason</th><th>restaurant_compensation_cancellation</th><th>restaurant_penalty_rejection</th><th>kpt_duration_minutes</th><th>rider_wait_time_minutes</th><th>order_ready_marked</th><th>customer_complaint_tag</th><th>customer_id</th><th>distance_km</th></tr><tr><td>str</td><td>str</td><td>str</td><td>str</td><td>datetime[μs]</td><td>str</td><td>str</td><td>str</td><td>str</td><td>str</td><td>f64</td><td>f64</td><td>f64</td><td>f64</td><td>f64</td><td>f64</td><td>f64</td><td>f64</td><td>str</td><td>str</td><td>f64</td><td>f64</td><td>f64</td><td>f64</td><td>str</td><td>str</td><td>str</td><td>f32</td></tr></thead><tbody><tr><td>&quot;20320607&quot;</td><td>&quot;Swaad&quot;</td><td>&quot;Sector 4&quot;</td><td>&quot;6168884918&quot;</td><td>2024-09-10 23:38:00</td><td>&quot;Delivered&quot;</td><td>&quot;3km&quot;</td><td>&quot;1 x Grilled Chicken Jamaican T…</td><td>null</td><td>&quot;40% off upto Rs.80&quot;</td><td>715.0</td><td>31.75</td><td>80.0</td><td>0.0</td><td>0.0</td><td>0.0</td><td>666.75</td><td>null</td><td>null</td><td>null</td><td>null</td><td>null</td><td>18.35</td><td>11.6</td><td>&quot;Correctly&quot;</td><td>null</td><td>&quot;5d6c2b96db963098bc69768bea504c…</td><td>3.0</td></tr><tr><td>&quot;20320607&quot;</td><td>&quot;Swaad&quot;</td><td>&quot;Sector 4&quot;</td><td>&quot;6170707559&quot;</td><td>2024-09-10 23:34:00</td><td>&quot;Delivered&quot;</td><td>&quot;2km&quot;</td><td>&quot;1 x Peri Peri Fries, 1 x Fried…</td><td>null</td><td>&quot;Flat Rs.175 off&quot;</td><td>1179.0</td><td>50.2</td><td>175.0</td><td>0.0</td><td>0.0</td><td>0.0</td><td>1054.2</td><td>null</td><td>null</td><td>null</td><td>null</td><td>null</td><td>16.95</td><td>3.6</td><td>&quot;Correctly&quot;</td><td>null</td><td>&quot;0781815deb4a10a574e9fee4fa0b86…</td><td>2.0</td></tr><tr><td>&quot;20320607&quot;</td><td>&quot;Swaad&quot;</td><td>&quot;Sector 4&quot;</td><td>&quot;6169375019&quot;</td><td>2024-09-10 15:52:00</td><td>&quot;Delivered&quot;</td><td>&quot;&lt;1km&quot;</td><td>&quot;1 x Bone in Peri Peri Grilled …</td><td>null</td><td>&quot;40% off upto Rs.80&quot;</td><td>310.0</td><td>11.5</td><td>80.0</td><td>0.0</td><td>0.0</td><td>0.0</td><td>241.5</td><td>null</td><td>null</td><td>null</td><td>null</td><td>null</td><td>14.05</td><td>12.2</td><td>&quot;Correctly&quot;</td><td>null</td><td>&quot;f93362f5ce5382657482d164e36818…</td><td>0.5</td></tr><tr><td>&quot;20320607&quot;</td><td>&quot;Swaad&quot;</td><td>&quot;Sector 4&quot;</td><td>&quot;6151677434&quot;</td><td>2024-09-10 15:45:00</td><td>&quot;Delivered&quot;</td><td>&quot;2km&quot;</td><td>&quot;1 x Fried Chicken Ghostbuster …</td><td>null</td><td>&quot;40% off upto Rs.80&quot;</td><td>620.0</td><td>27.0</td><td>80.0</td><td>0.0</td><td>0.0</td><td>0.0</td><td>567.0</td><td>4.0</td><td>null</td><td>null</td><td>null</td><td>null</td><td>19.0</td><td>3.3</td><td>&quot;Correctly&quot;</td><td>null</td><td>&quot;1ed226d1b8a5f7acee12fc1d667655…</td><td>2.0</td></tr><tr><td>&quot;20320607&quot;</td><td>&quot;Swaad&quot;</td><td>&quot;Sector 4&quot;</td><td>&quot;6167540897&quot;</td><td>2024-09-10 15:04:00</td><td>&quot;Delivered&quot;</td><td>&quot;2km&quot;</td><td>&quot;1 x Peri Peri Krispers, 1 x Fr…</td><td>null</td><td>&quot;40% off upto Rs.80&quot;</td><td>584.0</td><td>25.2</td><td>80.0</td><td>0.0</td><td>0.0</td><td>0.0</td><td>529.2</td><td>null</td><td>null</td><td>null</td><td>null</td><td>null</td><td>15.97</td><td>1.0</td><td>&quot;Correctly&quot;</td><td>null</td><td>&quot;d21a2ac6ea06b31cc3288ab20c4ef2…</td><td>2.0</td></tr></tbody></table></div>"
      ],
      "text/plain": [
       "shape: (5, 28)\n",
       "┌─────┬─────┬─────┬─────┬─────┬─────┬─────┬─────┬─────┬─────┬─────┬─────┬─────┬─────┬─────┬─────┬─────┬─────┬─────┬─────┬─────┬─────┬─────┬─────┬─────┬─────┬─────┬─────┐\n",
       "│ res ┆ res ┆ sub ┆ ord ┆ ord ┆ ord ┆ dis ┆ ite ┆ ins ┆ dis ┆ bil ┆ pac ┆ res ┆ res ┆ gol ┆ bra ┆ tot ┆ rat ┆ rev ┆ can ┆ res ┆ res ┆ kpt ┆ rid ┆ ord ┆ cus ┆ cus ┆ dis │\n",
       "│ tau ┆ tau ┆ zon ┆ er_ ┆ er_ ┆ er_ ┆ tan ┆ ms_ ┆ tru ┆ cou ┆ l_s ┆ kag ┆ tau ┆ tau ┆ d_d ┆ nd_ ┆ al  ┆ ing ┆ iew ┆ cel ┆ tau ┆ tau ┆ _du ┆ er_ ┆ er_ ┆ tom ┆ tom ┆ tan │\n",
       "│ ran ┆ ran ┆ e   ┆ id  ┆ pla ┆ sta ┆ ce  ┆ in_ ┆ cti ┆ nt_ ┆ ubt ┆ ing ┆ ran ┆ ran ┆ isc ┆ pac ┆ --- ┆ --- ┆ --- ┆ lat ┆ ran ┆ ran ┆ rat ┆ wai ┆ rea ┆ er_ ┆ er_ ┆ ce_ │\n",
       "│ t_i ┆ t_n ┆ --- ┆ --- ┆ ced ┆ tus ┆ --- ┆ ord ┆ ons ┆ con ┆ ota ┆ _ch ┆ t_d ┆ t_d ┆ oun ┆ k_d ┆ f64 ┆ f64 ┆ str ┆ ion ┆ t_c ┆ t_p ┆ ion ┆ t_t ┆ dy_ ┆ com ┆ id  ┆ km  │\n",
       "│ d   ┆ ame ┆ str ┆ str ┆ _at ┆ --- ┆ str ┆ er  ┆ --- ┆ str ┆ l   ┆ arg ┆ isc ┆ isc ┆ t   ┆ isc ┆     ┆     ┆     ┆ _re ┆ omp ┆ ena ┆ _mi ┆ ime ┆ mar ┆ pla ┆ --- ┆ --- │\n",
       "│ --- ┆ --- ┆     ┆     ┆ --- ┆ str ┆     ┆ --- ┆ str ┆ uct ┆ --- ┆ es  ┆ oun ┆ oun ┆ --- ┆ oun ┆     ┆     ┆     ┆ jec ┆ ens ┆ lty ┆ nut ┆ _mi ┆ ked ┆ int ┆ str ┆ f32 │\n",
       "│ str ┆ str ┆     ┆     ┆ dat ┆     ┆     ┆ str ┆     ┆ --- ┆ f64 ┆ --- ┆ t_p ┆ t_o ┆ f64 ┆ t   ┆     ┆     ┆     ┆ tio ┆ ati ┆ _re ┆ es  ┆ nut ┆ --- ┆ _ta ┆     ┆     │\n",
       "│     ┆     ┆     ┆     ┆ eti ┆     ┆     ┆     ┆     ┆ str ┆     ┆ f64 ┆ rom ┆ the ┆     ┆ --- ┆     ┆     ┆     ┆ n_r ┆ on_ ┆ jec ┆ --- ┆ es  ┆ str ┆ g   ┆     ┆     │\n",
       "│     ┆     ┆     ┆     ┆ me[ ┆     ┆     ┆     ┆     ┆     ┆     ┆     ┆ o   ┆ rs  ┆     ┆ f64 ┆     ┆     ┆     ┆ eas ┆ can ┆ tio ┆ f64 ┆ --- ┆     ┆ --- ┆     ┆     │\n",
       "│     ┆     ┆     ┆     ┆ μs] ┆     ┆     ┆     ┆     ┆     ┆     ┆     ┆ --- ┆ --- ┆     ┆     ┆     ┆     ┆     ┆ on  ┆ cel ┆ n   ┆     ┆ f64 ┆     ┆ str ┆     ┆     │\n",
       "│     ┆     ┆     ┆     ┆     ┆     ┆     ┆     ┆     ┆     ┆     ┆     ┆ f64 ┆ f64 ┆     ┆     ┆     ┆     ┆     ┆ --- ┆ …   ┆ --- ┆     ┆     ┆     ┆     ┆     ┆     │\n",
       "│     ┆     ┆     ┆     ┆     ┆     ┆     ┆     ┆     ┆     ┆     ┆     ┆     ┆     ┆     ┆     ┆     ┆     ┆     ┆ str ┆ --- ┆ f64 ┆     ┆     ┆     ┆     ┆     ┆     │\n",
       "│     ┆     ┆     ┆     ┆     ┆     ┆     ┆     ┆     ┆     ┆     ┆     ┆     ┆     ┆     ┆     ┆     ┆     ┆     ┆     ┆ f64 ┆     ┆     ┆     ┆     ┆     ┆     ┆     │\n",
       "╞═════╪═════╪═════╪═════╪═════╪═════╪═════╪═════╪═════╪═════╪═════╪═════╪═════╪═════╪═════╪═════╪═════╪═════╪═════╪═════╪═════╪═════╪═════╪═════╪═════╪═════╪═════╪═════╡\n",
       "│ 203 ┆ Swa ┆ Sec ┆ 616 ┆ 202 ┆ Del ┆ 3km ┆ 1 x ┆ nul ┆ 40% ┆ 715 ┆ 31. ┆ 80. ┆ 0.0 ┆ 0.0 ┆ 0.0 ┆ 666 ┆ nul ┆ nul ┆ nul ┆ nul ┆ nul ┆ 18. ┆ 11. ┆ Cor ┆ nul ┆ 5d6 ┆ 3.0 │\n",
       "│ 206 ┆ ad  ┆ tor ┆ 888 ┆ 4-0 ┆ ive ┆     ┆ Gri ┆ l   ┆ off ┆ .0  ┆ 75  ┆ 0   ┆     ┆     ┆     ┆ .75 ┆ l   ┆ l   ┆ l   ┆ l   ┆ l   ┆ 35  ┆ 6   ┆ rec ┆ l   ┆ c2b ┆     │\n",
       "│ 07  ┆     ┆ 4   ┆ 491 ┆ 9-1 ┆ red ┆     ┆ lle ┆     ┆ upt ┆     ┆     ┆     ┆     ┆     ┆     ┆     ┆     ┆     ┆     ┆     ┆     ┆     ┆     ┆ tly ┆     ┆ 96d ┆     │\n",
       "│     ┆     ┆     ┆ 8   ┆ 0   ┆     ┆     ┆ d   ┆     ┆ o   ┆     ┆     ┆     ┆     ┆     ┆     ┆     ┆     ┆     ┆     ┆     ┆     ┆     ┆     ┆     ┆     ┆ b96 ┆     │\n",
       "│     ┆     ┆     ┆     ┆ 23: ┆     ┆     ┆ Chi ┆     ┆ Rs. ┆     ┆     ┆     ┆     ┆     ┆     ┆     ┆     ┆     ┆     ┆     ┆     ┆     ┆     ┆     ┆     ┆ 309 ┆     │\n",
       "│     ┆     ┆     ┆     ┆ 38: ┆     ┆     ┆ cke ┆     ┆ 80  ┆     ┆     ┆     ┆     ┆     ┆     ┆     ┆     ┆     ┆     ┆     ┆     ┆     ┆     ┆     ┆     ┆ 8bc ┆     │\n",
       "│     ┆     ┆     ┆     ┆ 00  ┆     ┆     ┆ n   ┆     ┆     ┆     ┆     ┆     ┆     ┆     ┆     ┆     ┆     ┆     ┆     ┆     ┆     ┆     ┆     ┆     ┆     ┆ 697 ┆     │\n",
       "│     ┆     ┆     ┆     ┆     ┆     ┆     ┆ Jam ┆     ┆     ┆     ┆     ┆     ┆     ┆     ┆     ┆     ┆     ┆     ┆     ┆     ┆     ┆     ┆     ┆     ┆     ┆ 68b ┆     │\n",
       "│     ┆     ┆     ┆     ┆     ┆     ┆     ┆ aic ┆     ┆     ┆     ┆     ┆     ┆     ┆     ┆     ┆     ┆     ┆     ┆     ┆     ┆     ┆     ┆     ┆     ┆     ┆ ea5 ┆     │\n",
       "│     ┆     ┆     ┆     ┆     ┆     ┆     ┆ an  ┆     ┆     ┆     ┆     ┆     ┆     ┆     ┆     ┆     ┆     ┆     ┆     ┆     ┆     ┆     ┆     ┆     ┆     ┆ 04c ┆     │\n",
       "│     ┆     ┆     ┆     ┆     ┆     ┆     ┆ T…  ┆     ┆     ┆     ┆     ┆     ┆     ┆     ┆     ┆     ┆     ┆     ┆     ┆     ┆     ┆     ┆     ┆     ┆     ┆ …   ┆     │\n",
       "│ 203 ┆ Swa ┆ Sec ┆ 617 ┆ 202 ┆ Del ┆ 2km ┆ 1 x ┆ nul ┆ Fla ┆ 117 ┆ 50. ┆ 175 ┆ 0.0 ┆ 0.0 ┆ 0.0 ┆ 105 ┆ nul ┆ nul ┆ nul ┆ nul ┆ nul ┆ 16. ┆ 3.6 ┆ Cor ┆ nul ┆ 078 ┆ 2.0 │\n",
       "│ 206 ┆ ad  ┆ tor ┆ 070 ┆ 4-0 ┆ ive ┆     ┆ Per ┆ l   ┆ t   ┆ 9.0 ┆ 2   ┆ .0  ┆     ┆     ┆     ┆ 4.2 ┆ l   ┆ l   ┆ l   ┆ l   ┆ l   ┆ 95  ┆     ┆ rec ┆ l   ┆ 181 ┆     │\n",
       "│ 07  ┆     ┆ 4   ┆ 755 ┆ 9-1 ┆ red ┆     ┆ i   ┆     ┆ Rs. ┆     ┆     ┆     ┆     ┆     ┆     ┆     ┆     ┆     ┆     ┆     ┆     ┆     ┆     ┆ tly ┆     ┆ 5de ┆     │\n",
       "│     ┆     ┆     ┆ 9   ┆ 0   ┆     ┆     ┆ Per ┆     ┆ 175 ┆     ┆     ┆     ┆     ┆     ┆     ┆     ┆     ┆     ┆     ┆     ┆     ┆     ┆     ┆     ┆     ┆ b4a ┆     │\n",
       "│     ┆     ┆     ┆     ┆ 23: ┆     ┆     ┆ i   ┆     ┆ off ┆     ┆     ┆     ┆     ┆     ┆     ┆     ┆     ┆     ┆     ┆     ┆     ┆     ┆     ┆     ┆     ┆ 10a ┆     │\n",
       "│     ┆     ┆     ┆     ┆ 34: ┆     ┆     ┆ Fri ┆     ┆     ┆     ┆     ┆     ┆     ┆     ┆     ┆     ┆     ┆     ┆     ┆     ┆     ┆     ┆     ┆     ┆     ┆ 574 ┆     │\n",
       "│     ┆     ┆     ┆     ┆ 00  ┆     ┆     ┆ es, ┆     ┆     ┆     ┆     ┆     ┆     ┆     ┆     ┆     ┆     ┆     ┆     ┆     ┆     ┆     ┆     ┆     ┆     ┆ e9f ┆     │\n",
       "│     ┆     ┆     ┆     ┆     ┆     ┆     ┆ 1 x ┆     ┆     ┆     ┆     ┆     ┆     ┆     ┆     ┆     ┆     ┆     ┆     ┆     ┆     ┆     ┆     ┆     ┆     ┆ ee4 ┆     │\n",
       "│     ┆     ┆     ┆     ┆     ┆     ┆     ┆ Fri ┆     ┆     ┆     ┆     ┆     ┆     ┆     ┆     ┆     ┆     ┆     ┆     ┆     ┆     ┆     ┆     ┆     ┆     ┆ fa0 ┆     │\n",
       "│     ┆     ┆     ┆     ┆     ┆     ┆     ┆ ed… ┆     ┆     ┆     ┆     ┆     ┆     ┆     ┆     ┆     ┆     ┆     ┆     ┆     ┆     ┆     ┆     ┆     ┆     ┆ b86 ┆     │\n",
       "│     ┆     ┆     ┆     ┆     ┆     ┆     ┆     ┆     ┆     ┆     ┆     ┆     ┆     ┆     ┆     ┆     ┆     ┆     ┆     ┆     ┆     ┆     ┆     ┆     ┆     ┆ …   ┆     │\n",
       "│ 203 ┆ Swa ┆ Sec ┆ 616 ┆ 202 ┆ Del ┆ <1k ┆ 1 x ┆ nul ┆ 40% ┆ 310 ┆ 11. ┆ 80. ┆ 0.0 ┆ 0.0 ┆ 0.0 ┆ 241 ┆ nul ┆ nul ┆ nul ┆ nul ┆ nul ┆ 14. ┆ 12. ┆ Cor ┆ nul ┆ f93 ┆ 0.5 │\n",
       "│ 206 ┆ ad  ┆ tor ┆ 937 ┆ 4-0 ┆ ive ┆ m   ┆ Bon ┆ l   ┆ off ┆ .0  ┆ 5   ┆ 0   ┆     ┆     ┆     ┆ .5  ┆ l   ┆ l   ┆ l   ┆ l   ┆ l   ┆ 05  ┆ 2   ┆ rec ┆ l   ┆ 362 ┆     │\n",
       "│ 07  ┆     ┆ 4   ┆ 501 ┆ 9-1 ┆ red ┆     ┆ e   ┆     ┆ upt ┆     ┆     ┆     ┆     ┆     ┆     ┆     ┆     ┆     ┆     ┆     ┆     ┆     ┆     ┆ tly ┆     ┆ f5c ┆     │\n",
       "│     ┆     ┆     ┆ 9   ┆ 0   ┆     ┆     ┆ in  ┆     ┆ o   ┆     ┆     ┆     ┆     ┆     ┆     ┆     ┆     ┆     ┆     ┆     ┆     ┆     ┆     ┆     ┆     ┆ e53 ┆     │\n",
       "│     ┆     ┆     ┆     ┆ 15: ┆     ┆     ┆ Per ┆     ┆ Rs. ┆     ┆     ┆     ┆     ┆     ┆     ┆     ┆     ┆     ┆     ┆     ┆     ┆     ┆     ┆     ┆     ┆ 826 ┆     │\n",
       "│     ┆     ┆     ┆     ┆ 52: ┆     ┆     ┆ i   ┆     ┆ 80  ┆     ┆     ┆     ┆     ┆     ┆     ┆     ┆     ┆     ┆     ┆     ┆     ┆     ┆     ┆     ┆     ┆ 574 ┆     │\n",
       "│     ┆     ┆     ┆     ┆ 00  ┆     ┆     ┆ Per ┆     ┆     ┆     ┆     ┆     ┆     ┆     ┆     ┆     ┆     ┆     ┆     ┆     ┆     ┆     ┆     ┆     ┆     ┆ 82d ┆     │\n",
       "│     ┆     ┆     ┆     ┆     ┆     ┆     ┆ i   ┆     ┆     ┆     ┆     ┆     ┆     ┆     ┆     ┆     ┆     ┆     ┆     ┆     ┆     ┆     ┆     ┆     ┆     ┆ 164 ┆     │\n",
       "│     ┆     ┆     ┆     ┆     ┆     ┆     ┆ Gri ┆     ┆     ┆     ┆     ┆     ┆     ┆     ┆     ┆     ┆     ┆     ┆     ┆     ┆     ┆     ┆     ┆     ┆     ┆ e36 ┆     │\n",
       "│     ┆     ┆     ┆     ┆     ┆     ┆     ┆ lle ┆     ┆     ┆     ┆     ┆     ┆     ┆     ┆     ┆     ┆     ┆     ┆     ┆     ┆     ┆     ┆     ┆     ┆     ┆ 818 ┆     │\n",
       "│     ┆     ┆     ┆     ┆     ┆     ┆     ┆ d … ┆     ┆     ┆     ┆     ┆     ┆     ┆     ┆     ┆     ┆     ┆     ┆     ┆     ┆     ┆     ┆     ┆     ┆     ┆ …   ┆     │\n",
       "│ 203 ┆ Swa ┆ Sec ┆ 615 ┆ 202 ┆ Del ┆ 2km ┆ 1 x ┆ nul ┆ 40% ┆ 620 ┆ 27. ┆ 80. ┆ 0.0 ┆ 0.0 ┆ 0.0 ┆ 567 ┆ 4.0 ┆ nul ┆ nul ┆ nul ┆ nul ┆ 19. ┆ 3.3 ┆ Cor ┆ nul ┆ 1ed ┆ 2.0 │\n",
       "│ 206 ┆ ad  ┆ tor ┆ 167 ┆ 4-0 ┆ ive ┆     ┆ Fri ┆ l   ┆ off ┆ .0  ┆ 0   ┆ 0   ┆     ┆     ┆     ┆ .0  ┆     ┆ l   ┆ l   ┆ l   ┆ l   ┆ 0   ┆     ┆ rec ┆ l   ┆ 226 ┆     │\n",
       "│ 07  ┆     ┆ 4   ┆ 743 ┆ 9-1 ┆ red ┆     ┆ ed  ┆     ┆ upt ┆     ┆     ┆     ┆     ┆     ┆     ┆     ┆     ┆     ┆     ┆     ┆     ┆     ┆     ┆ tly ┆     ┆ d1b ┆     │\n",
       "│     ┆     ┆     ┆ 4   ┆ 0   ┆     ┆     ┆ Chi ┆     ┆ o   ┆     ┆     ┆     ┆     ┆     ┆     ┆     ┆     ┆     ┆     ┆     ┆     ┆     ┆     ┆     ┆     ┆ 8a5 ┆     │\n",
       "│     ┆     ┆     ┆     ┆ 15: ┆     ┆     ┆ cke ┆     ┆ Rs. ┆     ┆     ┆     ┆     ┆     ┆     ┆     ┆     ┆     ┆     ┆     ┆     ┆     ┆     ┆     ┆     ┆ f7a ┆     │\n",
       "│     ┆     ┆     ┆     ┆ 45: ┆     ┆     ┆ n   ┆     ┆ 80  ┆     ┆     ┆     ┆     ┆     ┆     ┆     ┆     ┆     ┆     ┆     ┆     ┆     ┆     ┆     ┆     ┆ cee ┆     │\n",
       "│     ┆     ┆     ┆     ┆ 00  ┆     ┆     ┆ Gho ┆     ┆     ┆     ┆     ┆     ┆     ┆     ┆     ┆     ┆     ┆     ┆     ┆     ┆     ┆     ┆     ┆     ┆     ┆ 12f ┆     │\n",
       "│     ┆     ┆     ┆     ┆     ┆     ┆     ┆ stb ┆     ┆     ┆     ┆     ┆     ┆     ┆     ┆     ┆     ┆     ┆     ┆     ┆     ┆     ┆     ┆     ┆     ┆     ┆ c1d ┆     │\n",
       "│     ┆     ┆     ┆     ┆     ┆     ┆     ┆ ust ┆     ┆     ┆     ┆     ┆     ┆     ┆     ┆     ┆     ┆     ┆     ┆     ┆     ┆     ┆     ┆     ┆     ┆     ┆ 667 ┆     │\n",
       "│     ┆     ┆     ┆     ┆     ┆     ┆     ┆ er  ┆     ┆     ┆     ┆     ┆     ┆     ┆     ┆     ┆     ┆     ┆     ┆     ┆     ┆     ┆     ┆     ┆     ┆     ┆ 655 ┆     │\n",
       "│     ┆     ┆     ┆     ┆     ┆     ┆     ┆ …   ┆     ┆     ┆     ┆     ┆     ┆     ┆     ┆     ┆     ┆     ┆     ┆     ┆     ┆     ┆     ┆     ┆     ┆     ┆ …   ┆     │\n",
       "│ 203 ┆ Swa ┆ Sec ┆ 616 ┆ 202 ┆ Del ┆ 2km ┆ 1 x ┆ nul ┆ 40% ┆ 584 ┆ 25. ┆ 80. ┆ 0.0 ┆ 0.0 ┆ 0.0 ┆ 529 ┆ nul ┆ nul ┆ nul ┆ nul ┆ nul ┆ 15. ┆ 1.0 ┆ Cor ┆ nul ┆ d21 ┆ 2.0 │\n",
       "│ 206 ┆ ad  ┆ tor ┆ 754 ┆ 4-0 ┆ ive ┆     ┆ Per ┆ l   ┆ off ┆ .0  ┆ 2   ┆ 0   ┆     ┆     ┆     ┆ .2  ┆ l   ┆ l   ┆ l   ┆ l   ┆ l   ┆ 97  ┆     ┆ rec ┆ l   ┆ a2a ┆     │\n",
       "│ 07  ┆     ┆ 4   ┆ 089 ┆ 9-1 ┆ red ┆     ┆ i   ┆     ┆ upt ┆     ┆     ┆     ┆     ┆     ┆     ┆     ┆     ┆     ┆     ┆     ┆     ┆     ┆     ┆ tly ┆     ┆ c6e ┆     │\n",
       "│     ┆     ┆     ┆ 7   ┆ 0   ┆     ┆     ┆ Per ┆     ┆ o   ┆     ┆     ┆     ┆     ┆     ┆     ┆     ┆     ┆     ┆     ┆     ┆     ┆     ┆     ┆     ┆     ┆ a06 ┆     │\n",
       "│     ┆     ┆     ┆     ┆ 15: ┆     ┆     ┆ i   ┆     ┆ Rs. ┆     ┆     ┆     ┆     ┆     ┆     ┆     ┆     ┆     ┆     ┆     ┆     ┆     ┆     ┆     ┆     ┆ b31 ┆     │\n",
       "│     ┆     ┆     ┆     ┆ 04: ┆     ┆     ┆ Kri ┆     ┆ 80  ┆     ┆     ┆     ┆     ┆     ┆     ┆     ┆     ┆     ┆     ┆     ┆     ┆     ┆     ┆     ┆     ┆ cc3 ┆     │\n",
       "│     ┆     ┆     ┆     ┆ 00  ┆     ┆     ┆ spe ┆     ┆     ┆     ┆     ┆     ┆     ┆     ┆     ┆     ┆     ┆     ┆     ┆     ┆     ┆     ┆     ┆     ┆     ┆ 288 ┆     │\n",
       "│     ┆     ┆     ┆     ┆     ┆     ┆     ┆ rs, ┆     ┆     ┆     ┆     ┆     ┆     ┆     ┆     ┆     ┆     ┆     ┆     ┆     ┆     ┆     ┆     ┆     ┆     ┆ ab2 ┆     │\n",
       "│     ┆     ┆     ┆     ┆     ┆     ┆     ┆ 1 x ┆     ┆     ┆     ┆     ┆     ┆     ┆     ┆     ┆     ┆     ┆     ┆     ┆     ┆     ┆     ┆     ┆     ┆     ┆ 0c4 ┆     │\n",
       "│     ┆     ┆     ┆     ┆     ┆     ┆     ┆ Fr… ┆     ┆     ┆     ┆     ┆     ┆     ┆     ┆     ┆     ┆     ┆     ┆     ┆     ┆     ┆     ┆     ┆     ┆     ┆ ef2 ┆     │\n",
       "│     ┆     ┆     ┆     ┆     ┆     ┆     ┆     ┆     ┆     ┆     ┆     ┆     ┆     ┆     ┆     ┆     ┆     ┆     ┆     ┆     ┆     ┆     ┆     ┆     ┆     ┆ …   ┆     │\n",
       "└─────┴─────┴─────┴─────┴─────┴─────┴─────┴─────┴─────┴─────┴─────┴─────┴─────┴─────┴─────┴─────┴─────┴─────┴─────┴─────┴─────┴─────┴─────┴─────┴─────┴─────┴─────┴─────┘"
      ]
     },
     "execution_count": 436,
     "metadata": {},
     "output_type": "execute_result"
    }
   ],
   "source": [
    "print(len(df_encoded))\n",
    "df_encoded.head()"
   ]
  },
  {
   "cell_type": "code",
   "execution_count": 303,
   "metadata": {},
   "outputs": [
    {
     "data": {
      "text/plain": [
       "{'3 x AAC Grilled Chicken Burger, 1 x Fried Chicken Classic Tender, 1 x Grilled Chicken Peri Peri Tangdi, 1 x Grilled Chicken Peri Peri Tender',\n",
       " '1 x Peri Peri Fries, 1 x Iced Green Tea - Mojito',\n",
       " '1 x Bellpepper Onion Pizza, 1 x Spinach Sumac Pide',\n",
       " '2 x Chilli Cheese Garlic Bread, 1 x Onion Rings, 1 x Salted Crisper Fries',\n",
       " '1 x Chicken Pepperoni Pizza, 2 x Garlic Aioli, 1 x Tripple Cheese Pizza',\n",
       " '1 x Bone in Kabuli Grilled Chicken, 1 x Fried Chicken Ghostbuster Tender',\n",
       " '1 x Peri Peri Crisper Fries, 1 x Herbed Potato, 1 x Masala Paneer Pide',\n",
       " '1 x Bone in Smoky Bbq Grilled Chicken, 2 x Grilled Chicken Jamaican Tangdi, 2 x Angara Rice, 1 x Bone in Kabuli Grilled Chicken',\n",
       " '1 x All About Chicken Pizza, 1 x Tripple Cheese Pizza, 1 x Cheesy Garlic Bread',\n",
       " '1 x Bacon Pepperoni Melt, 1 x Salted Fries, 1 x Mutton Seekh Pide',\n",
       " '1 x Bageecha Pizza, 2 x Grilled Tangdis',\n",
       " '1 x Cheesy Garlic Bread, 2 x Chicken Pepperoni Pizza',\n",
       " '1 x Mushroom Pizza, 1 x Peri Peri Paneer Melt',\n",
       " '1 x Murgh Amritsari Seekh Melt, 1 x Bacon Pepperoni Melt, 2 x Tripple Cheese Pizza',\n",
       " '1 x Peri Peri Crisper Fries, 1 x Herbed Potato',\n",
       " '1 x Murgh Amritsari Seekh Pizza, 1 x Pepperoni Garlic Bread, 1 x Makhani Paneer Pizza, 1 x Chilli Cheese Garlic Bread',\n",
       " '1 x Murgh Amritsari Seekh Pizza, 1 x Jamaican Chicken Melt, 1 x Chilli Cheese Garlic Bread',\n",
       " '1 x Masala Paneer Pide, 1 x Herbed Potato, 1 x Bageecha Pizza, 1 x Peri Peri Paneer Melt',\n",
       " '1 x Peri Peri Grilled Chicken Pizza, 2 x Fried Chicken Strips, 1 x Bageecha Pizza',\n",
       " '2 x Salted Fries',\n",
       " '1 x Bone in Kabuli Grilled Chicken, 1 x Fried Chicken Beast AAC Burger',\n",
       " '1 x Fried Chicken Peri Peri Tenders + Peri Peri Fries, 1 x Fried Chicken Classic Tenders + AAC Signature Fries',\n",
       " '1 x Fried Chicken Kabuli Tender, 1 x Fried Chicken Peri Peri Tender',\n",
       " '1 x Mutton Seekh Pizza, 1 x Peri Peri Grilled Chicken Pizza',\n",
       " '1 x Chilli Cheese Garlic Bread, 1 x Mutton Seekh Pide',\n",
       " '1 x Salted Fries, 1 x Bone in Smoky Bbq Grilled Chicken',\n",
       " '1 x Fried Chicken Beast AAC Burger, 1 x Peri Peri Fries, 1 x Bone in Jamaican Grilled Chicken, 1 x Angara Rice',\n",
       " '1 x Peri Peri Fries, 1 x Chicken 65 Boneless Grilled Chicken Breast',\n",
       " '1 x Angara Rice, 1 x Bone in Smoky Bbq Grilled Chicken',\n",
       " '1 x Fried Chicken Peri Peri Tender, 1 x Grilled Chicken Jamaican Tender, 1 x Peri Peri Fries',\n",
       " '1 x Harisa Mayo, 1 x Cheesy Garlic Bread, 1 x Peri Peri Chicken Melt, 1 x Garlic Aioli, 1 x Murgh Amritsari Seekh Melt, 1 x Margherita Pizza',\n",
       " '1 x Bageecha Pizza, 1 x Chilli Cheese Garlic Bread, 1 x Herbed Potato, 1 x Mushroom Pizza',\n",
       " '1 x Peri Peri Fries, 1 x All About Chicken Pizza',\n",
       " '1 x Tipsy Tiger Fresh Lime Soda, 1 x Tipsy Tiger Ginger Ale, 1 x Angara Paneer Melt',\n",
       " '1 x Herbed Potato, 1 x Loaded Jamaican Grilled Chicken Pizza, 1 x All About Chicken Pizza',\n",
       " '1 x Tripple Cheese Pizza, 1 x Jamaican Chicken Melt, 1 x Cheesy Garlic Bread',\n",
       " '1 x Herbed Potato, 1 x Masala Potato Pide',\n",
       " '1 x Herbed Potato, 1 x Mushroom Mozzarella Melt',\n",
       " '1 x OG Cheese Pide, 1 x Grilled Tangdis',\n",
       " '1 x Jamaican Chicken Melt, 1 x Cheesy Garlic Bread, 1 x Peri Peri Paneer Pizza, 1 x Fried Chicken Strips',\n",
       " '1 x Peri Peri Grilled Chicken Pizza, 1 x Indian Pico De-Gallo',\n",
       " '1 x Dirty Saucy Fries, 2 x Mutton Smashed Burger',\n",
       " '1 x Bageecha Pizza, 1 x Bacon Pepperoni Melt',\n",
       " '1 x Grilled Chicken Jamaican Tangdi, 1 x Fried Chicken Peri Peri Tenders + Peri Peri Fries',\n",
       " '1 x Grilled Chicken Angara Tenders + Salted Fries, 1 x Grilled Chicken Jamaican Tangdi',\n",
       " '1 x Chilli Cheese Garlic Bread, 1 x Indian Masala Cripser Fries, 1 x Raw Masala Lemon Shikanji',\n",
       " '2 x Masala Paneer Pide, 1 x Indian Masala Cripser Fries',\n",
       " '1 x Herbed Potato, 1 x Garlic Aioli, 1 x Chilli Cheese Garlic Bread, 1 x Mayonnaise, 1 x Indian Masala Fries, 1 x Chicken Pepperoni Pizza, 1 x Jamaican Chicken Melt',\n",
       " '1 x Herbed Potato, 1 x Grilled Chicken Angara Tangdi, 1 x Animal Fries',\n",
       " '1 x Murgh Amritsari Seekh Melt, 1 x Tripple Cheese Pizza',\n",
       " '1 x Bellpepper Onion Pizza, 1 x Angara Paneer Melt, 1 x Jamaican Chicken Melt',\n",
       " '1 x Bageecha Pizza, 1 x Chicken Pepperoni Pizza',\n",
       " '1 x Fried Chicken Angara Tender, 1 x Salted Fries, 1 x Fried Chicken Peri Peri Tender',\n",
       " '1 x Tripple Cheese Pizza, 1 x Chicken Pepperoni Pizza',\n",
       " '1 x Indian Masala Fries, 1 x Chilli Cheese Garlic Bread',\n",
       " '2 x Bone in Smoky Bbq Grilled Chicken',\n",
       " '1 x Peri Peri Paneer Pizza, 2 x Tripple Cheese Pizza, 1 x Spinach Sumac Pide, 1 x Onion Rings',\n",
       " '1 x Malai Gud Pide',\n",
       " '1 x Bageecha Pizza, 1 x Tripple Cheese Pizza',\n",
       " '1 x OG Cheese Pide, 1 x Herbed Potato',\n",
       " '1 x Chilli Cheese Garlic Bread, 1 x Cheesy Garlic Bread',\n",
       " '1 x Bone in Jamaican Grilled Chicken, 1 x AAC Special Slaw',\n",
       " '1 x Grilled Chicken Smoky BBQ Tender .',\n",
       " '1 x Angara Paneer Melt, 1 x Chilli Cheese Garlic Bread',\n",
       " '1 x Desi Chicken Pepperoni Pizza, 1 x Jamaican Chicken Melt',\n",
       " '1 x Chicken 65 Boneless Grilled Chicken Breast, 1 x Grlld Masala Fries',\n",
       " '1 x Bageecha Pizza, 1 x Salted Fries, 1 x Peri Peri Fries, 1 x All About Chicken Pizza',\n",
       " '1 x Jamaican Chicken Melt, 1 x Peri Peri Grilled Chicken Pizza, 1 x Murgh Amritsari Seekh Melt',\n",
       " '1 x Cheesy Garlic Bread, 1 x Makhani Paneer Pizza, 1 x Salted Crisper Fries',\n",
       " '1 x Grilled Chicken Peri Peri Tender, 1 x Kabuli Grilled Paneer (8 pcs), 1 x AAC Saucy Fries',\n",
       " '1 x Tipsy Tiger Ginger Ale, 1 x Bone in Angara Grilled Chicken, 1 x Animal Fries',\n",
       " '1 x Murgh Amritsari Garlic Bread, 1 x Grilled Tangdis',\n",
       " '1 x Mutton Seekh Pide, 2 x Masala Paneer Pide, 1 x Murgh Amritsari Seekh Pide',\n",
       " '2 x Loaded Pork Pepperoni Pizza',\n",
       " '2 x Peri Peri Crisper Fries',\n",
       " '1 x Cheesy Garlic Bread, 2 x Fried Chicken Tenders, 1 x Murgh Amritsari Seekh Melt, 1 x Angara Paneer Melt, 1 x Indian Masala Cripser Fries',\n",
       " '1 x Tipsy Tiger Fresh Lime Soda, 1 x Bone in Jamaican Grilled Chicken .',\n",
       " '1 x Carribean Jerk Grilled Chicken Quarter, 1 x Peri Peri Grilled Chicken Tangdi (4pcs)',\n",
       " '1 x Raw Masala Lemon Shikanji, 1 x Bone in Jamaican Grilled Chicken',\n",
       " '1 x Just Pepperoni Pide, 1 x All About Chicken Pizza, 1 x Murgh Amritsari Seekh Pizza, 1 x Tripple Cheese Pizza',\n",
       " '1 x Bageecha Pizza, 1 x Jamaican Chicken Melt, 1 x All About Chicken Pizza, 1 x Murgh Amritsari Seekh Pizza',\n",
       " '1 x Peri Peri Crisper Fries, 1 x Spinach Sumac Pide, 1 x Mushroom Pizza, 3 x Garlic Aioli, 1 x Bageecha Pizza, 1 x Herbed Potato',\n",
       " '1 x Bageecha Pizza, 1 x Makhani Paneer Pizza, 1 x Chilli Cheese Garlic Bread',\n",
       " '1 x Peri Peri Paneer Pizza, 1 x Angara Paneer Melt, 1 x Bageecha Pizza',\n",
       " '1 x Tripple Cheese Pizza, 1 x Murgh Amritsari Seekh Pizza, 1 x Peri Peri Fries',\n",
       " '1 x Cheesy Garlic Bread, 1 x Makhani Paneer Pizza, 1 x Chilli Cheese Garlic Bread, 1 x Bageecha Pizza',\n",
       " '1 x Angara Grilled Chicken Tangdi (4pcs)',\n",
       " '1 x Margherita Pizza, 1 x Just Pepperoni Pizza, 1 x Salted Crisper Fries',\n",
       " '1 x Indian Masala Fries, 1 x Cheesy Garlic Bread',\n",
       " '1 x Loaded Pork Pepperoni Pizza, 1 x Murgh Amritsari Garlic Bread, 1 x Peri Peri Grilled Chicken Pizza',\n",
       " '1 x Salted Fries, 1 x Tripple Cheese Pizza, 1 x Fried Chicken Tenders',\n",
       " '2 x Peri Peri Crisper Fries, 1 x Angara Sauce, 1 x Fried Chicken Peri Peri Tender',\n",
       " '1 x Grilled Chicken Jamaican Tender, 1 x Onion Bombs, 1 x AAC Fried Paneer Burger, 2 x Angara Aloo Tuk Tuki, 1 x Angara Rice',\n",
       " '1 x Grilled Chicken Angara Tender, 1 x Peri Peri Fries',\n",
       " '1 x Fried Chicken Ghostbuster Tender, 1 x Bone in Jamaican Grilled Chicken',\n",
       " '1 x Makhani Paneer Pizza, 1 x Herbed Potato, 1 x Masala Paneer Pide, 1 x Indian Masala Fries',\n",
       " '1 x Tenderloin Smashed Burger, 1 x Classic Bacon Melt Tenderloin Burger, 1 x Salted Fries',\n",
       " '1 x Peri Peri Paneer Melt, 1 x Cheesy Garlic Bread',\n",
       " '1 x Peri Peri Crisper Fries, 1 x Peri Peri Paneer Pizza, 1 x Cheesy Garlic Bread, 1 x Bellpepper Onion Pizza',\n",
       " '1 x Murgh Amritsari Seekh Pizza, 1 x Chilli Cheese Garlic Bread',\n",
       " '1 x Bageecha Pizza, 1 x Angara Paneer Melt, 1 x Chilli Cheese Garlic Bread',\n",
       " '1 x Peri Peri Fries, 1 x Bone in Smoky Bbq Grilled Chicken',\n",
       " '1 x Peri Peri Paneer Melt, 1 x Peanut Butter Chocolate Pide, 1 x Angara Paneer Melt, 1 x Chilli Cheese Garlic Bread',\n",
       " '1 x Masala Potato Pide, 1 x Just Pepperoni Pide',\n",
       " '1 x Animal Fries, 1 x AAC Grilled Chicken Burger, 2 x Fried Chicken Beast AAC Burger',\n",
       " '1 x Makhani Paneer Pizza, 1 x Peri Peri Paneer Pizza',\n",
       " '1 x Margherita Pizza, 1 x All About Chicken Pizza, 1 x Mushroom Pizza',\n",
       " '1 x Mushroom Mozzarella Melt, 1 x Cheesy Garlic Bread',\n",
       " '1 x Peri Peri Crisper Fries, 1 x Fried Chicken Peri Peri Tender, 1 x Grilled Chicken Jamaican Tender',\n",
       " '1 x Garlic Aioli, 1 x Chilli Cheese Garlic Bread, 1 x Harisa Mayo, 1 x Cheesy Garlic Bread',\n",
       " '1 x Grilled Chicken Tangdi Jamaican + Salted Krispers',\n",
       " '1 x Fried Chicken Angara Tender, 1 x Bone in Jamaican Grilled Chicken',\n",
       " '3 x Bone in Jamaican Grilled Chicken',\n",
       " '1 x Grilled Chicken Jamaican Tender, 1 x Fried Chicken Classic Tender, 1 x Grilled Chicken Smoky BBQ Tangdi, 1 x AAC Grilled Chicken Burger, 4 x Iced Green Tea - Peach, 1 x AAC Signature Fries, 1 x Peri Peri Crisper Fries',\n",
       " '1 x Chilli Cheese Garlic Bread, 1 x Margherita Pizza, 1 x Bageecha Pizza, 1 x Cheesy Garlic Bread',\n",
       " '2 x Indian Masala Fries, 1 x Malai Gud Pide, 1 x Chilli Cheese Garlic Bread, 1 x Murgh Amritsari Seekh Pizza, 1 x All About Chicken Pizza',\n",
       " '1 x Mushroom Pizza, 1 x Salted Crisper Fries, 1 x Peri Peri Crisper Fries',\n",
       " '1 x Mutton Smashed Burger, 1 x Grilled Chicken Dirty Burger',\n",
       " '1 x Cheesy Garlic Bread, 1 x Bageecha Pizza, 1 x Makhani Paneer Pizza, 1 x Masala Paneer Pide',\n",
       " '1 x Pepperoni Garlic Bread, 1 x Murgh Amritsari Seekh Pide',\n",
       " '1 x Jamaican Sauce, 1 x Fried Chicken Peri Peri Tender',\n",
       " '1 x Peanut Butter Chocolate Pide, 1 x Tripple Cheese Pizza',\n",
       " '1 x Fried Chicken Peri Peri Tender, 1 x Fried Chicken Peri Peri Tender',\n",
       " '1 x Mutton Seekh Pizza, 4 x Fried Chicken Strips, 1 x Desi Pepperoni Pizza',\n",
       " '1 x Salted Fries, 1 x Jamaican Chicken Melt',\n",
       " '1 x Tripple Cheese Pizza, 1 x Indian Masala Cripser Fries, 1 x Makhani Paneer Pizza',\n",
       " '1 x Just Pepperoni Pizza, 1 x Murgh Amritsari Garlic Bread',\n",
       " '1 x Fried Chicken Tenders, 1 x Fried Chicken Tenders',\n",
       " '1 x Angara Paneer Melt, 1 x Onion Rings',\n",
       " '1 x Masala Paneer Pide, 1 x Bageecha Pizza, 1 x Bellpepper Onion Pizza',\n",
       " '1 x Peri Peri Chicken Melt, 1 x OG Cheese Pide, 1 x Bageecha Pizza',\n",
       " '1 x Herbed Potato, 1 x Just Pepperoni Pizza, 1 x Fried Chicken Tenders',\n",
       " '1 x Jamaican Sauce, 1 x Bone in Jamaican Grilled Chicken, 1 x Peri Peri Crisper Fries, 1 x Fried Chicken Peri Peri Tender',\n",
       " '1 x Animal Fries, 1 x Bone in Jamaican Grilled Chicken, 1 x Grilled Chicken Jamaican Tender',\n",
       " '1 x Herbed Potato, 1 x Angara Paneer Melt',\n",
       " '1 x Chilli Cheese Garlic Bread, 1 x Peri Peri Crisper Fries',\n",
       " '1 x Mutton Seekh Pizza, 1 x Masala Paneer Pide',\n",
       " '1 x Fried Chicken Tenders, 1 x Murgh Amritsari Garlic Bread, 1 x Chilli Cheese Garlic Bread',\n",
       " '1 x Herbed Potato, 1 x Chilli Cheese Garlic Bread, 1 x Mushroom Pizza',\n",
       " '1 x Grilled Chicken Jamaican Tender, 1 x Bone in Jamaican Grilled Chicken Quarter + Angara Rice',\n",
       " '1 x Grilled Chicken Smoky BBQ Tender, 1 x Bone in Smoky Bbq Grilled Chicken',\n",
       " '2 x Angara Boneless Grilled Chicken Breast',\n",
       " '1 x Iced Green Tea - Peach, 1 x Peri Peri Chicken Melt',\n",
       " '1 x Bellpepper Onion Pizza, 1 x Harisa Mayo, 1 x Garlic Aioli, 1 x Murgh Amritsari Seekh Pizza',\n",
       " '1 x Fried Chicken Strips, 1 x Chilli Cheese Garlic Bread, 1 x Jamaican Chicken Melt',\n",
       " '1 x Pepperoni Garlic Bread, 1 x Tripple Cheese Pizza',\n",
       " '1 x AAC Signature Fries, 1 x Bone in Kabuli Grilled Chicken',\n",
       " '1 x Salted Crisper Fries, 2 x AAC Grilled Chicken Burger',\n",
       " '1 x Salted Fries, 1 x Angara Boneless Grilled Chicken Breast',\n",
       " '1 x Grilled Tangdis, 1 x Murgh Amritsari Seekh Melt, 1 x Fried Chicken Strips',\n",
       " '1 x Tipsy Tiger Fresh Lime Soda',\n",
       " '1 x Loaded Pork Pepperoni Pizza',\n",
       " '1 x Fried Chicken Peri Peri Tender, 1 x Bone in Peri Peri Grilled Chicken, 1 x Onion Rings, 1 x Animal Fries',\n",
       " '2 x Fried Chicken Tenders',\n",
       " '1 x Chilli Cheese Garlic Bread, 1 x Bageecha Pizza, 1 x Mushroom Mozzarella Melt',\n",
       " '1 x All About Chicken Pizza, 1 x Chicken Pepperoni Pizza',\n",
       " '1 x Peri Peri Paneer Pizza, 1 x OG Cheese Pide',\n",
       " '1 x Jamaican Chicken Melt, 1 x Murgh Amritsari Seekh Melt',\n",
       " '2 x AAC Grilled Chicken Burger, 2 x Salted Fries',\n",
       " '1 x Desi Pepperoni Pizza, 1 x All About Chicken Pizza, 1 x Mutton Seekh Pizza, 1 x Murgh Amritsari Seekh Pizza',\n",
       " '1 x Peri Peri Paneer Pizza, 2 x Fried Chicken Strips, 1 x Jamaican Chicken Melt',\n",
       " '1 x Jamaican Chicken Melt, 1 x Chilli Cheese Garlic Bread',\n",
       " '1 x All About Chicken Pizza, 1 x Bageecha Pizza, 1 x Chilli Cheese Garlic Bread',\n",
       " '1 x Fried Chicken Tenders, 1 x Herbed Potato',\n",
       " '1 x Grilled Chicken Smoky BBQ Tender, 1 x Angara Rice, 1 x AAC Signature Krispers, 1 x Grilled Chicken Peri Peri Tender',\n",
       " '1 x Onion Bombs, 1 x Animal Fries',\n",
       " '1 x Grilled Chicken Smoky BBQ Tender, 1 x AAC Signature Fries, 1 x Grilled Chicken Smoky Bbq Boneless Breast, 1 x Grilled Chicken Jamaican Boneless Breast',\n",
       " '1 x Bageecha Pizza, 1 x Herbed Potato, 1 x Chilli Cheese Garlic Bread',\n",
       " '1 x Makhani Paneer Pizza, 1 x Desi Chicken Pepperoni Pizza',\n",
       " '1 x Just Pepperoni Pide, 1 x Peri Peri Chicken Melt, 1 x Jamaican Chicken Melt, 1 x Mutton Seekh Pide',\n",
       " '1 x Grilled Chicken Jamaican Tangdi, 1 x Indian Honey Mustard sauce, 1 x Grilled Chicken Angara Tangdi',\n",
       " '1 x Herbed Potato, 1 x Desi Chicken Pepperoni Pizza',\n",
       " '2 x Tipsy Tiger Ginger Ale, 1 x Bone in Jamaican Grilled Chicken, 1 x Bone in Smoky Bbq Grilled Chicken',\n",
       " '1 x Cheesy Garlic Bread, 1 x Angara Paneer Melt, 1 x Masala Paneer Pide',\n",
       " '2 x All About Chicken Pizza, 2 x Pepperoni Garlic Bread, 2 x Garlic Aioli',\n",
       " '1 x Bone in Angara Grilled Chicken, 1 x Grilled Chicken Jamaican Boneless Breast',\n",
       " '1 x Grilled Chicken Smoky BBQ Tender, 1 x Grilled Chicken Peri Peri Tender',\n",
       " '1 x Margherita Pizza, 1 x Margherita Pizza',\n",
       " '1 x Salted Crisper Fries, 1 x Margherita Pizza, 1 x Tipsy Tiger Ginger Ale, 1 x Tipsy Tiger Fresh Lime Soda',\n",
       " '1 x Grilled Tangdis, 1 x All About Chicken Pizza, 1 x Peri Peri Paneer Pizza',\n",
       " '3 x Garlic Aioli, 1 x Murgh Amritsari Seekh Pizza',\n",
       " '1 x Grilled Chicken Dirty Burger, 1 x Mutton Smashed Burger',\n",
       " '1 x Classic Bacon Melt Tenderloin Burger, 2 x Mutton Smashed Burger, 1 x Dirty Saucy Fries',\n",
       " '1 x Animal Fries ., 1 x Fried Chicken Ghostbuster Tender',\n",
       " '1 x Salted Crisper Fries, 1 x Bone in Jamaican Grilled Chicken, 1 x Fried Chicken Angara Tender',\n",
       " '1 x Bone in Peri Peri Grilled Chicken, 1 x Animal Fries',\n",
       " '1 x Chicken Pepperoni Pizza, 1 x Mutton Seekh Pide',\n",
       " '1 x Angara Paneer Melt, 1 x Onion Rings, 1 x Masala Paneer Pide',\n",
       " '1 x Bone in Jamaican Grilled Chicken, 1 x Salted Crisper Fries',\n",
       " '1 x Tripple Cheese Pizza, 1 x Angara Paneer Melt, 1 x Mushroom Mozzarella Melt',\n",
       " '1 x Mutton Seekh Pizza, 2 x Fried Chicken Tenders, 1 x Loaded Pork Pepperoni Pizza',\n",
       " '1 x Murgh Amritsari Seekh Pide, 1 x Desi Pepperoni Pizza, 2 x Chilli Cheese Garlic Bread',\n",
       " '1 x Fried Chicken Peri Peri Tenders + Peri Peri Fries, 1 x Animal Fries, 1 x Angara Rice, 2 x Bone in Peri Peri Grilled Chicken, 1 x Herbed Potato',\n",
       " '1 x Mushroom Pizza, 1 x Bageecha Pizza, 1 x Spinach Sumac Pide, 1 x Margherita Pizza',\n",
       " '1 x Indian Masala Cripser Fries, 1 x Bageecha Pizza, 1 x Chilli Cheese Garlic Bread',\n",
       " '1 x Animal Fries, 1 x AAC Saucy Fries, 2 x Grilled Chicken Peri Peri Tender',\n",
       " '1 x Murgh Amritsari Seekh Pide, 1 x Jamaican Chicken Melt',\n",
       " '1 x Bone in Jamaican Grilled Chicken, 1 x Grilled Chicken Peri Peri Tangdi, 1 x Herbed Potato',\n",
       " '1 x Cheesy Garlic Bread, 1 x Mushroom Pizza',\n",
       " '1 x Herbed Potato, 1 x Crushed Papad, 1 x Bageecha Pizza',\n",
       " '2 x Fried Chicken Beast AAC Burger, 1 x Bone in Kabuli Grilled Chicken',\n",
       " '1 x Bageecha Pizza, 1 x Indian Masala Fries',\n",
       " '1 x Grilled Chicken Peri Peri Tender, 1 x Fried Chicken Peri Peri Tender, 1 x Jamaican Sauce, 1 x Animal Fries',\n",
       " '1 x Mutton Smashed Double Burger',\n",
       " '1 x Peri Peri Chicken Melt, 1 x Peri Peri Paneer Melt',\n",
       " '1 x AAC Grilled Paneer Burger, 1 x AAC Grilled Chicken Burger',\n",
       " '1 x Smoky BBQ Boneless Grilled Chicken Breast, 1 x Carribean Jerk dip, 1 x Angara Boneless Grilled Chicken Breast',\n",
       " '1 x Peri Peri Paneer Melt, 1 x Angara Paneer Melt',\n",
       " '1 x Peri Peri Crisper Fries, 1 x All About Chicken Pizza, 2 x Tipsy Tiger Fresh Lime Soda',\n",
       " '1 x Peri Peri Crisper Fries, 1 x Spinach Sumac Pide, 1 x Masala Paneer Pide',\n",
       " '1 x Chicken Pepperoni Pizza, 1 x Murgh Amritsari Seekh Pizza',\n",
       " '1 x Grilled Tangdis',\n",
       " '1 x All About Chicken Pizza, 1 x Angara Paneer Melt',\n",
       " '1 x Murgh Amritsari Seekh Pizza, 2 x Angara Paneer Melt, 1 x Tripple Cheese Pizza',\n",
       " '1 x Masala Paneer Pide, 1 x Just Pepperoni Pizza, 1 x Peri Peri Paneer Pizza',\n",
       " '1 x Bellpepper Onion Pizza, 3 x Peri Peri Grilled Chicken Pizza, 1 x Makhani Paneer Pizza, 3 x Mushroom Pizza, 2 x Murgh Amritsari Seekh Pizza',\n",
       " '1 x Mushroom Pizza, 1 x Spinach Sumac Pide, 1 x OG Cheese Pide',\n",
       " '1 x Peri Peri Crisper Fries, 1 x Grilled Chicken Jamaican Tender, 1 x Grilled Chicken Smoky BBQ Tangdi',\n",
       " '1 x Onion Rings, 1 x Bone in Smoky Bbq Grilled Chicken, 1 x Honey Mustard sauce',\n",
       " '1 x Mushroom Mozzarella Melt, 1 x Bageecha Pizza, 1 x Chilli Cheese Garlic Bread',\n",
       " '1 x Tipsy Tiger Ginger Ale, 1 x Grilled Chicken Angara Tender .',\n",
       " '1 x Tipsy Tiger Fresh Lime Soda, 1 x Murgh Amritsari Seekh Melt',\n",
       " '1 x Cheesy Garlic Bread, 1 x Makhani Paneer Pizza, 1 x Peri Peri Grilled Chicken Pizza',\n",
       " '1 x Fried Chicken Peri Peri Tenders + Peri Peri Fries, 1 x Peri Peri Sauce, 1 x Harisa Mayo, 1 x Bone in Jamaican Grilled Chicken',\n",
       " '1 x Chilli Cheese Garlic Bread, 1 x Mutton Seekh Pide, 1 x Malai Gud Pide',\n",
       " '1 x Tripple Cheese Pizza, 1 x Chilli Cheese Garlic Bread, 1 x Herbed Potato',\n",
       " '1 x Fried Chicken Strips, 1 x Cheesy Garlic Bread, 2 x Angara Paneer Melt',\n",
       " '1 x Fried Chicken Ghostbuster Tender, 1 x Bone in Peri Peri Grilled Chicken',\n",
       " '1 x Salted Crisper Fries, 1 x Bone in Angara Grilled Chicken',\n",
       " '1 x All About Chicken Pizza, 1 x Tripple Cheese Pizza, 1 x Indian Masala Fries',\n",
       " '1 x Bone in Kabuli Grilled Chicken, 1 x Grilled Chicken Smoky BBQ Tender',\n",
       " '1 x Bacon Pepperoni Melt, 1 x Mushroom Pizza',\n",
       " '1 x Bone in Jamaican Grilled Chicken, 1 x Fried Chicken Angara Tender',\n",
       " '1 x Tipsy Tiger Fresh Lime Soda, 1 x Tipsy Tiger Ginger Ale',\n",
       " '1 x Jamaican Chicken Melt, 3 x Chilli Cheese Garlic Bread, 1 x Bageecha Pizza, 1 x Makhani Paneer Pizza, 1 x Just Pepperoni Pizza, 1 x Mushroom Pizza, 1 x All About Chicken Pizza, 1 x Loaded Korean Grilled Chicken Pizza',\n",
       " '1 x Grilled Chicken Smoky BBQ Tangdi, 1 x Bone in Jamaican Grilled Chicken',\n",
       " '1 x Grilled Chicken Peri Peri Boneless Breast',\n",
       " '1 x Grilled Chicken Jamaican Tender, 1 x Grilled Chicken Peri Peri Tender, 1 x Grilled Chicken Smoky BBQ Tender, 1 x Animal Fries',\n",
       " '1 x Peri Peri Paneer Pizza, 1 x Mushroom Pizza, 1 x Makhani Paneer Pizza, 1 x Tripple Cheese Pizza',\n",
       " '1 x Angara Grilled Chicken Quarter',\n",
       " '2 x Chilli Cheese Garlic Bread, 2 x Masala Paneer Pide, 1 x Mushroom Pizza, 1 x Makhani Paneer Pizza, 2 x Herbed Potato',\n",
       " '1 x Margherita Pizza, 1 x All About Chicken Pizza, 1 x Murgh Amritsari Garlic Bread',\n",
       " '1 x Mushroom Pizza, 1 x Makhani Paneer Pizza, 1 x Just Pepperoni Pizza',\n",
       " '1 x Fried Chicken Classic Tender, 1 x Fried Chicken Kabuli Tender',\n",
       " '1 x Fried Chicken Ghostbuster Tender, 1 x Tipsy Tiger Fresh Lime Soda',\n",
       " '1 x Loaded Jamaican Grilled Chicken Pizza, 1 x Harissa Mayo, 1 x Onion Rings, 1 x Tipsy Tiger Ginger Ale, 1 x Fried Chicken Tenders',\n",
       " '1 x Onion Rings, 1 x Margherita Pizza, 1 x Cheesy Garlic Bread',\n",
       " '1 x Herbed Potato, 1 x All About Chicken Pizza, 1 x Peanut Butter Chocolate Pide',\n",
       " '2 x Mushroom Mozzarella Melt, 2 x Margherita Pizza',\n",
       " '1 x Bageecha Pizza, 1 x Fried Chicken Strips',\n",
       " '1 x Bageecha Pizza, 1 x Makhani Paneer Pizza, 2 x Tipsy Tiger Fresh Lime Soda, 1 x Tipsy Tiger Ginger Ale, 1 x Cheesy Garlic Bread',\n",
       " '2 x Chilli Cheese Garlic Bread, 2 x Desi Pepperoni Pizza',\n",
       " '2 x Spinach Sumac Pide',\n",
       " '1 x Makhani Paneer Pizza, 1 x Cafreal Sauce, 1 x Garlic Aioli, 1 x Masala Paneer Pide',\n",
       " '2 x Murgh Amritsari Seekh Pizza, 2 x Grilled Chicken Tangdi, 2 x Garlic Aioli',\n",
       " '1 x Tipsy Tiger Ginger Ale, 1 x Peri Peri Crisper Fries, 1 x Jamaican Chicken Melt',\n",
       " '1 x Bone in Peri Peri Grilled Chicken',\n",
       " '1 x Salted Crisper Fries, 1 x Just Pepperoni Pizza',\n",
       " '1 x Indian Salsa, 1 x Bone in Jamaican Grilled Chicken Quarter + Angara Rice',\n",
       " '1 x Masala Paneer Pide, 2 x Bageecha Pizza, 1 x OG Cheese Pide',\n",
       " '1 x Peri Peri Paneer Pizza, 1 x Murgh Amritsari Seekh Pizza, 1 x Peri Peri Grilled Chicken Pizza, 1 x Bageecha Pizza',\n",
       " '1 x Peanut Butter Chocolate Pide, 1 x Murgh Amritsari Seekh Melt',\n",
       " '1 x Chicken Pepperoni Pizza, 1 x Desi Chicken Pepperoni Pizza',\n",
       " '1 x Grilled Chicken Jamaican Tender, 1 x Grilled Chicken Angara Tenders + Salted Fries',\n",
       " '1 x Peri Peri Crisper Fries, 1 x Mushroom Pizza, 1 x Crushed Papad',\n",
       " '2 x Peri Peri Fries, 1 x Bageecha Pizza',\n",
       " '1 x Herbed Potato, 1 x Bellpepper Onion Pizza, 1 x Chilli Cheese Garlic Bread',\n",
       " '1 x Garlic Aioli, 1 x Cheesy Garlic Bread, 1 x Cafreal Sauce, 1 x Raw Masala Lemon Shikanji, 1 x Mushroom Mozzarella Melt',\n",
       " '2 x Herbed Potato, 1 x Margherita Pizza, 1 x Cheesy Garlic Bread, 1 x Chilli Cheese Garlic Bread, 1 x Angara Paneer Melt',\n",
       " '1 x Bone in Kabuli Grilled Chicken, 1 x Bone in Jamaican Grilled Chicken, 1 x Fried Chicken Classic Tender .',\n",
       " '1 x Herbed Potato, 1 x Jamaican Chicken Melt, 1 x Peanut Butter Chocolate Pide',\n",
       " '4 x Bageecha Pizza, 1 x Chicken Pepperoni Pizza, 1 x Murgh Amritsari Seekh Pizza',\n",
       " '1 x Fried Chicken Angara Tender, 1 x Bone in Jamaican Grilled Chicken, 1 x Animal Fries',\n",
       " '1 x Mushroom Pizza, 1 x Bageecha Pizza',\n",
       " '1 x Angara Grilled Paneer (8 pcs), 1 x Grilled Chicken Smoky BBQ Tender, 1 x Grilled Chicken Jamaican Tender',\n",
       " '2 x Grilled Chicken Peri Peri Tangdi, 1 x AAC Grilled Paneer Burger',\n",
       " '1 x Bellpepper Onion Pizza, 1 x Peri Peri Paneer Melt, 2 x Angara Paneer Melt',\n",
       " '1 x Bone in Peri Peri Grilled Chicken, 1 x Fried Chicken Classic Tender',\n",
       " '1 x Bone in Smoky Bbq Grilled Chicken, 1 x Fried Chicken Ghostbuster Tender',\n",
       " '1 x Grilled Chicken Jamaican Tender, 1 x Animal Fries',\n",
       " '2 x Salted Crisper Fries, 1 x Indian Masala Cripser Fries',\n",
       " '1 x AAC Grilled Paneer Burger, 1 x Fried Chicken Angara Tender',\n",
       " '1 x Herbed Potato, 1 x Animal Fries, 1 x Tipsy Tiger Fresh Lime Soda, 1 x Grilled Chicken Jamaican Tender',\n",
       " '1 x Grilled Chicken Angara Tangdi, 1 x Angara Rice',\n",
       " '1 x Mayonnaise, 1 x Peri Peri Crisper Fries, 1 x Harisa Mayo, 1 x Chilli Cheese Garlic Bread',\n",
       " '1 x Grilled Chicken Peri Peri Tender',\n",
       " '1 x Grilled Chicken Jamaican Tangdi, 1 x Fried Chicken Peri Peri Tender, 1 x Grilled Chicken Peri Peri Tangdi',\n",
       " '1 x All About Chicken Pizza, 1 x Murgh Amritsari Garlic Bread, 1 x Tripple Cheese Pizza, 1 x Jamaican Chicken Melt, 1 x Peri Peri Paneer Melt, 1 x Chilli Cheese Garlic Bread, 1 x Angara Paneer Melt, 1 x Peri Peri Chicken Melt',\n",
       " '1 x Just Pepperoni Pizza, 1 x Margherita Pizza, 1 x Tripple Cheese Pizza',\n",
       " '1 x Herbed Potato, 1 x Peri Peri Chicken Melt, 1 x Pepperoni Garlic Bread',\n",
       " '1 x Fried Chicken Peri Peri Tender, 3 x AAC Grilled Chicken Burger, 1 x Animal Fries',\n",
       " '1 x Grilled Chicken Smoky Bbq Boneless Breast, 1 x AAC Signature Crisper Fries, 1 x Grilled Chicken Afghani Boneless Breast',\n",
       " '1 x Fried Chicken Tenders, 1 x Tripple Cheese Pizza',\n",
       " '1 x Mushroom Pizza, 1 x Jamaican Chicken Melt, 2 x Bageecha Pizza',\n",
       " '1 x Jamaican Chicken Melt, 1 x All About Chicken Pizza, 1 x Desi Pepperoni Pizza',\n",
       " '1 x Onion Rings, 1 x Herbed Potato, 1 x Peri Peri Paneer Melt',\n",
       " '1 x Fried Chicken Ghostbuster Tender, 1 x Grilled Chicken Smoky BBQ Tangdi, 1 x Grilled Chicken Jamaican Tangdi, 1 x Grilled Chicken Peri Peri Tender',\n",
       " '1 x Murgh Amritsari Seekh Melt, 1 x Pepperoni Garlic Bread, 1 x Jamaican Chicken Melt, 1 x Murgh Amritsari Garlic Bread',\n",
       " '1 x OG Cheese Pide, 1 x Angara Paneer Melt',\n",
       " '1 x Chilli Cheese Garlic Bread, 1 x Iced Green Tea - Peach, 1 x Margherita Pizza, 1 x Spinach Sumac Pide, 1 x Bellpepper Onion Pizza, 1 x Masala Paneer Pide',\n",
       " '2 x Jamaican Chicken Melt, 2 x Just Pepperoni Pizza',\n",
       " '2 x Mutton Smashed Burger',\n",
       " '2 x Grilled Tangdis, 1 x Indian Pico De-Gallo, 2 x Cafreal Sauce',\n",
       " '1 x Bone in Jamaican Grilled Chicken, 1 x Tipsy Tiger Fresh Lime Soda',\n",
       " '1 x Salted Fries, 1 x Murgh Amritsari Seekh Pizza, 1 x Fried Chicken Tenders, 1 x Jamaican Chicken Melt',\n",
       " '1 x Makhani Paneer Pizza, 2 x Peri Peri Paneer Pizza, 1 x Bageecha Pizza',\n",
       " '1 x All About Chicken Pizza, 1 x Cheesy Garlic Bread',\n",
       " '1 x Makhani Paneer Pizza, 1 x Iced Green Tea - Mojito, 1 x Desi Chicken Pepperoni Pizza, 1 x Tipsy Tiger Fresh Lime Soda, 1 x Chilli Cheese Garlic Bread, 1 x Tipsy Tiger Ginger Ale',\n",
       " '1 x Peri Peri Grilled Chicken Pizza, 1 x OG Cheese Pide, 1 x Makhani Paneer Pizza, 1 x Tripple Cheese Pizza, 1 x Desi Chicken Pepperoni Pizza, 1 x Jamaican Chicken Melt',\n",
       " '1 x Pepperoni Garlic Bread, 1 x Murgh Amritsari Garlic Bread',\n",
       " '1 x Fried Chicken Peri Peri Tender, 1 x Fried Chicken Beast AAC Burger',\n",
       " '1 x Chicken Pepperoni Pizza, 1 x Makhani Paneer Pizza',\n",
       " '1 x Just Pepperoni Pizza, 1 x Bageecha Pizza, 1 x All About Chicken Pizza, 2 x Margherita Pizza, 1 x Makhani Paneer Pizza',\n",
       " '1 x Indian Pico De-Gallo, 1 x Harisa Mayo, 1 x Margherita Pizza, 1 x Peri Peri Crisper Fries',\n",
       " '1 x Cheesy Garlic Bread, 1 x Chilli Cheese Garlic Bread',\n",
       " '1 x Grilled Chicken Jamaican Boneless Breast, 1 x Grilled Chicken Smoky BBQ Tangdi',\n",
       " '1 x AAC Saucy Fries, 1 x AAC Fried Paneer Burger',\n",
       " '1 x Bone in Kabuli Grilled Chicken, 1 x Indian Honey Mustard sauce',\n",
       " '1 x Bellpepper Onion Pizza, 2 x Cheesy Garlic Bread',\n",
       " '1 x Masala Paneer Pide, 2 x Chilli Cheese Garlic Bread, 2 x Makhani Paneer Pizza, 2 x Bageecha Pizza',\n",
       " '1 x Angara Aloo Tuk Tuki',\n",
       " '1 x Masala Omelette Pide, 1 x Masala Paneer Pide',\n",
       " '3 x Cheesy Garlic Bread, 1 x Makhani Paneer Pizza, 1 x Bageecha Pizza, 1 x Bellpepper Onion Pizza',\n",
       " '1 x Harisa Mayo, 1 x Jamaican Chicken Melt',\n",
       " '1 x Jamaican Chicken Melt, 2 x Fried Chicken Strips, 1 x Angara Paneer Melt',\n",
       " '1 x Fried Chicken Tenders, 1 x Peri Peri Chicken Melt, 1 x Chilli Cheese Garlic Bread',\n",
       " '1 x Chilli Cheese Garlic Bread, 1 x Tipsy Tiger Ginger Ale, 1 x Bageecha Pizza',\n",
       " '1 x Bone in Jamaican Grilled Chicken, 1 x Bone in Peri Peri Grilled Chicken, 1 x Bone in Smoky Bbq Grilled Chicken, 1 x Bone in Angara Grilled Chicken',\n",
       " '1 x Indian Masala Cripser Fries, 1 x Bageecha Pizza, 1 x Makhani Paneer Pizza',\n",
       " '2 x Makhani Paneer Pizza, 1 x Chilli Cheese Garlic Bread',\n",
       " '1 x Grilled Chicken Tangdi, 1 x Mutton Seekh Pizza, 1 x Mutton Seekh Pide',\n",
       " '2 x Fried Chicken Classic Tender .',\n",
       " '1 x AAC Saucy Fries, 1 x Grilled Chicken Smoky BBQ Tender',\n",
       " '1 x Jamaican Chicken Melt, 1 x Murgh Amritsari Seekh Melt, 1 x All About Chicken Pizza, 1 x Indian Masala Fries',\n",
       " '1 x Garlic Aioli, 1 x Jamaican Chicken Melt, 1 x Cheesy Garlic Bread, 1 x Angara Paneer Melt',\n",
       " '1 x Bone in Jamaican Grilled Chicken Quarter + Angara Rice, 1 x Bone in Smoky Bbq Grilled Chicken',\n",
       " '1 x Peri Peri Crisper Fries, 1 x Peanut Butter Chocolate Pide, 1 x Bageecha Pizza',\n",
       " '1 x Fried Chicken Tenders, 1 x Cheesy Garlic Bread, 1 x All About Chicken Pizza',\n",
       " '1 x Grilled Chicken Angara Tangdi',\n",
       " '1 x Tipsy Tiger Fresh Lime Soda, 1 x Bellpepper Onion Pizza, 1 x Chilli Cheese Garlic Bread',\n",
       " '1 x Paneer 65 Paneer Steak, 1 x Angara Paneer Steak',\n",
       " '1 x Iced Green Tea - Peach, 1 x Cheesy Garlic Bread',\n",
       " '1 x Bellpepper Onion Pizza, 2 x Cheesy Garlic Bread, 1 x Bageecha Pizza',\n",
       " '1 x Garlic Aioli, 1 x All About Chicken Pizza',\n",
       " '1 x Masala Potato Pide, 1 x Angara Paneer Melt',\n",
       " '1 x Herbed Potato, 1 x Masala Potato Pide, 1 x Angara Paneer Melt',\n",
       " '1 x Grilled Chicken Smoky Bbq Boneless Breast, 1 x Grilled Chicken Angara Boneless Breast',\n",
       " '1 x Masala Omelette Pide',\n",
       " '1 x OG Cheese Pide',\n",
       " '1 x Just Pepperoni Pizza, 1 x Jamaican Chicken Melt',\n",
       " '1 x Mushroom Mozzarella Melt, 1 x Peri Peri Paneer Pizza',\n",
       " '1 x Makhani Paneer Pizza, 1 x Tipsy Tiger Fresh Lime Soda, 2 x Iced Green Tea - Mojito',\n",
       " '1 x AAC Saucy Fries, 1 x Fried Chicken Angara Tender',\n",
       " '1 x Cheesy Veg Burger, 1 x Fried Mushroom Burger, 1 x Grilled Paneer Burger',\n",
       " '1 x Peri Peri Chicken Melt, 1 x Pepperoni Garlic Bread, 1 x Herbed Potato',\n",
       " '1 x Chilli Cheese Garlic Bread, 1 x All About Chicken Pizza, 1 x Bageecha Pizza',\n",
       " '1 x Masala Paneer Pide, 1 x Herbed Potato',\n",
       " '1 x Bone in Jamaican Grilled Chicken, 1 x Salted Krispers',\n",
       " '1 x Bone in Smoky Bbq Grilled Chicken, 1 x Grilled Chicken Angara Tangdi',\n",
       " '2 x AAC Special Slaw, 1 x Angara Rice, 1 x Bone in Peri Peri Grilled Chicken, 1 x Animal Fries',\n",
       " '1 x Onion Rings, 1 x Grilled Chicken Peri Peri Tangdi',\n",
       " '2 x Chilli Cheese Garlic Bread, 2 x Cheesy Garlic Bread',\n",
       " '1 x Makhani Paneer Pizza, 1 x Salted Fries, 1 x Bageecha Pizza',\n",
       " '1 x Onion Bombs, 1 x Bone in Jamaican Grilled Chicken, 1 x Grilled Chicken Peri Peri Tender, 1 x AAC Signature Crisper Fries',\n",
       " '1 x Masala Paneer Pide, 1 x Chilli Cheese Garlic Bread',\n",
       " '1 x Fried Chicken Classic Tender ., 1 x Fried Chicken Kabuli Tender ., 1 x Kabuli Grilled Paneer (8 pcs), 4 x Salted Crisper Fries, 2 x Grilled Chicken Angara Tangdi, 1 x Onion Rings',\n",
       " '1 x Bageecha Pizza, 1 x Jamaican Chicken Melt, 1 x Garlic Aioli',\n",
       " '1 x Malai Gud Pide, 1 x Makhani Paneer Pizza',\n",
       " '1 x Fried Chicken Strips, 1 x Jamaican Chicken Melt, 1 x Herbed Potato, 1 x Bacon Pepperoni Melt',\n",
       " '1 x Grilled Chicken Angara Tender, 1 x AAC Grilled Chicken Burger',\n",
       " '1 x Chicken 65 Boneless Grilled Chicken Breast, 1 x Cous Cous',\n",
       " '1 x Grilled Chicken Smoky BBQ Tender, 1 x Grilled Chicken Peri Peri Tender, 1 x Peri Peri Sauce, 1 x Indian Pico De-Gallo',\n",
       " '1 x Fried Chicken Ghostbuster Tender, 1 x Fried Chicken Kabuli Tender, 1 x AAC Signature Fries',\n",
       " '1 x Makhani Paneer Pizza, 1 x All About Chicken Pizza, 1 x Chilli Cheese Garlic Bread, 1 x Murgh Amritsari Garlic Bread',\n",
       " '1 x Cheesy Garlic Bread, 1 x Mushroom Pizza, 1 x Bageecha Pizza, 1 x Chilli Cheese Garlic Bread',\n",
       " '1 x Garlic Aioli, 1 x Salted Crisper Fries, 1 x Margherita Pizza',\n",
       " '1 x Masala Paneer Pide, 1 x Malai Gud Pide, 1 x Makhani Paneer Pizza',\n",
       " '1 x Grilled Chicken Smoky BBQ Tender ., 1 x Fried Chicken Kabuli Tender ., 1 x Grilled Chicken Angara Tender .',\n",
       " '1 x Bone in Jamaican Grilled Chicken, 1 x Animal Fries .',\n",
       " '1 x Mayonnaise',\n",
       " '1 x Onion Rings, 1 x Indian Masala Cripser Fries',\n",
       " '1 x Murgh Amritsari Seekh Pizza, 1 x Pepperoni Garlic Bread, 1 x Jamaican Chicken Melt',\n",
       " '1 x Bageecha Pizza, 1 x Murgh Amritsari Seekh Melt, 1 x Makhani Paneer Pizza, 1 x Peri Peri Paneer Melt',\n",
       " '1 x Bone in Jamaican Grilled Chicken, 1 x Grilled Chicken Tangdi Jamaican + Salted Krispers',\n",
       " '1 x Jamaican Chicken Melt, 1 x Salted Crisper Fries, 1 x Just Pepperoni Pide, 1 x Cheesy Garlic Bread',\n",
       " '2 x Bageecha Pizza, 2 x Cheesy Garlic Bread',\n",
       " '1 x AAC Saucy Fries, 1 x Bone in Angara Grilled Chicken, 1 x AAC Grilled Paneer Burger',\n",
       " '1 x Garlic Aioli, 1 x Herbed Potato',\n",
       " '1 x Bacon Pepperoni Melt, 1 x Chilli Cheese Garlic Bread',\n",
       " '1 x Makhani Paneer Pizza, 1 x Masala Paneer Pide, 1 x Peri Peri Chicken Melt',\n",
       " '1 x Margherita Pizza, 1 x Peri Peri Paneer Melt, 1 x Spinach Sumac Pide',\n",
       " '1 x Harissa Mayo, 1 x Murgh Amritsari Seekh Pide',\n",
       " '1 x Mutton Seekh Pide, 1 x Murgh Amritsari Seekh Pide, 1 x Tripple Cheese Pizza, 1 x Margherita Pizza',\n",
       " '1 x Mushroom Mozzarella Melt, 1 x Peanut Butter Chocolate Pide',\n",
       " '10 x Bageecha Pizza, 5 x Herbed Potato',\n",
       " '1 x Masala Paneer Pide, 1 x Margherita Pizza, 1 x Chilli Cheese Garlic Bread, 1 x Angara Paneer Melt',\n",
       " '2 x Chilli Cheese Garlic Bread',\n",
       " '1 x Fried Chicken Beast AAC Burger, 1 x Bone in Smoky Bbq Grilled Chicken, 1 x Fried Chicken Classic Tender',\n",
       " '2 x Grilled Tangdis, 1 x Mutton Seekh Pizza, 1 x Desi Pepperoni Pizza',\n",
       " '1 x Murgh Amritsari Seekh Pizza, 1 x Bellpepper Onion Pizza, 1 x Just Pepperoni Pide',\n",
       " '1 x Peri Peri Crisper Fries, 1 x Tripple Cheese Pizza, 1 x Cafreal Sauce, 1 x Margherita Pizza',\n",
       " '1 x Chilli Cheese Garlic Bread, 1 x Herbed Potato, 1 x Mushroom Mozzarella Melt, 1 x Makhani Paneer Pizza',\n",
       " '1 x Makhani Paneer Pizza, 1 x Angara Paneer Melt',\n",
       " '1 x Salted Fries, 2 x Fried Chicken Angara Tender, 1 x Peri Peri Fries',\n",
       " '1 x Desi Pepperoni Pizza, 1 x Peri Peri Grilled Chicken Pizza',\n",
       " '1 x Murgh Amritsari Seekh Pide, 2 x Chilli Cheese Garlic Bread, 3 x Grilled Tangdis, 1 x Chicken Pepperoni Pizza, 1 x Mushroom Mozzarella Melt',\n",
       " '1 x All About Chicken Pizza, 1 x Jamaican Chicken Melt, 1 x Chicken Pepperoni Pizza',\n",
       " '1 x Cheesy Garlic Bread, 1 x Just Pepperoni Pizza, 1 x Indian Masala Cripser Fries',\n",
       " '1 x Spinach Sumac Pide, 1 x Chilli Cheese Garlic Bread',\n",
       " '1 x Spinach Sumac Pide, 1 x Mushroom Pizza, 1 x Bageecha Pizza, 1 x Masala Paneer Pide',\n",
       " '1 x Bone in Jamaican Grilled Chicken, 1 x Peri Peri Crisper Fries',\n",
       " '2 x Grilled Tangdis, 1 x All About Chicken Pizza, 1 x Mutton Seekh Pizza',\n",
       " '2 x Mushroom Mozzarella Melt, 1 x Tripple Cheese Pizza, 1 x Angara Paneer Melt',\n",
       " '1 x Bageecha Pizza, 1 x Bellpepper Onion Pizza',\n",
       " '1 x Fried Chicken Tenders, 1 x Mushroom Pizza',\n",
       " '1 x Bageecha Pizza, 1 x Peri Peri Crisper Fries, 1 x Garlic Aioli',\n",
       " '1 x Bageecha Pizza, 1 x Iced Green Tea - Mojito',\n",
       " '1 x Peri Peri Fries, 1 x Bone in Angara Grilled Chicken',\n",
       " '1 x Garlic Aioli, 1 x Cheesy Garlic Bread, 1 x All About Chicken Pizza',\n",
       " '1 x Salted Crisper Fries, 1 x Fried Chicken Classic Tender, 1 x Iced Green Tea - Peach',\n",
       " '1 x Fried Chicken Classic Tender, 2 x AAC Grilled Chicken Burger',\n",
       " '1 x Bone in Angara Grilled Chicken, 1 x Bone in Peri Peri Grilled Chicken, 1 x Bone in Smoky Bbq Grilled Chicken, 1 x Bone in Jamaican Grilled Chicken',\n",
       " '1 x Grilled Chicken Ghostbuster Tangdi, 1 x Grilled Chicken Afghani Boneless Breast',\n",
       " '1 x Spinach Sumac Pide, 1 x OG Cheese Pide',\n",
       " '1 x GhostBuster Sauce, 1 x Bone in Jamaican Grilled Chicken, 1 x Grilled Chicken Peri Peri Tender',\n",
       " '1 x Grilled Chicken Afghani Boneless Breast',\n",
       " '1 x Malai Gud Pide, 1 x All About Chicken Pizza',\n",
       " '1 x Peri Peri Fries, 1 x Bone in Smoky Bbq Grilled Chicken, 1 x Bone in Jamaican Grilled Chicken',\n",
       " '1 x Mutton Seekh Pide, 1 x Jamaican Chicken Melt, 1 x Peri Peri Paneer Pizza, 2 x Mushroom Mozzarella Melt',\n",
       " '1 x Cheesy Garlic Bread, 1 x Angara Paneer Melt, 1 x Chilli Cheese Garlic Bread, 1 x Margherita Pizza',\n",
       " '1 x Grilled Chicken Smoky BBQ Tender, 1 x AAC Grilled Chicken Burger, 1 x Fried Chicken Classic Tender ., 1 x Grilled Chicken Jamaican Tender',\n",
       " '1 x Tipsy Tiger Fresh Lime Soda, 1 x All About Chicken Pizza, 1 x Garlic Aioli',\n",
       " '2 x Animal Fries, 1 x Bone in Jamaican Grilled Chicken, 2 x Fried Chicken Angara Tender',\n",
       " '1 x Herbed Potato, 1 x Malai Gud Pide, 1 x Bageecha Pizza, 1 x Makhani Paneer Pizza',\n",
       " '1 x Onion Rings, 1 x Grilled Chicken Double Dirty Burger',\n",
       " '1 x Mushroom Mozzarella Melt, 1 x Bageecha Pizza',\n",
       " '2 x Makhani Paneer Pizza, 2 x Angara Paneer Melt',\n",
       " '1 x Margherita Pizza, 2 x Just Pepperoni Pide, 1 x All About Chicken Pizza',\n",
       " '1 x Angara Paneer Melt, 1 x OG Cheese Pide',\n",
       " '1 x Murgh Amritsari Garlic Bread, 1 x Murgh Amritsari Seekh Pizza, 1 x Jamaican Chicken Melt',\n",
       " '1 x Peri Peri Grilled Chicken Pizza, 1 x Peri Peri Fries, 1 x Chicken Pepperoni Pizza',\n",
       " '1 x Grilled Chicken Smoky BBQ Tangdi, 1 x Grilled Chicken Jamaican Tangdi, 1 x Peri Peri Crisper Fries',\n",
       " '1 x Peri Peri Chicken Melt, 1 x Desi Pepperoni Pizza',\n",
       " '1 x Grilled Chicken Angara Tender, 1 x Bone in Smoky Bbq Grilled Chicken',\n",
       " '1 x Bone in Kabuli Grilled Chicken, 1 x Grilled Chicken Jamaican Tender',\n",
       " '1 x AAC Signature Fries, 2 x Fried Chicken Beast AAC Burger',\n",
       " '1 x Pepperoni Garlic Bread, 1 x Onion Rings, 1 x Murgh Amritsari Garlic Bread, 1 x Indian Masala Cripser Fries',\n",
       " '1 x Cheesy Garlic Bread, 1 x Herbed Potato, 1 x Bageecha Pizza',\n",
       " '1 x Chilli Cheese Garlic Bread, 1 x Angara Paneer Melt, 1 x Herbed Potato',\n",
       " '2 x Peri Peri Paneer Pizza, 2 x Chilli Cheese Garlic Bread, 2 x Bageecha Pizza',\n",
       " '1 x Peri Peri Grilled Chicken Pizza, 1 x Bageecha Pizza, 1 x Cheesy Garlic Bread',\n",
       " '1 x Margherita Pizza, 1 x Bageecha Pizza, 2 x Tipsy Tiger Fresh Lime Soda',\n",
       " '2 x Cheesy Garlic Bread, 1 x Bellpepper Onion Pizza, 1 x Just Pepperoni Pizza',\n",
       " '1 x Peri Peri Krispers, 1 x Fried Chicken Peri Peri Tender, 1 x Grilled Chicken Angara Tender',\n",
       " '1 x Chilli Cheese Garlic Bread, 1 x Pepperoni Garlic Bread',\n",
       " '1 x Mushroom Pizza, 3 x Tipsy Tiger Fresh Lime Soda, 1 x Bageecha Pizza, 1 x Tipsy Tiger Ginger Ale',\n",
       " '1 x Murgh Amritsari Seekh Melt, 1 x Jamaican Chicken Melt, 1 x Mutton Seekh Pizza, 1 x Desi Pepperoni Pizza',\n",
       " '1 x Bone in Angara Grilled Chicken, 1 x Bone in Kabuli Grilled Chicken',\n",
       " '1 x Makhani Paneer Pizza, 1 x All About Chicken Pizza, 1 x Peanut Butter Chocolate Pide',\n",
       " '2 x Salted Fries, 2 x Bone in Smoky Bbq Grilled Chicken',\n",
       " '1 x Murgh Amritsari Seekh Pizza, 1 x Peri Peri Paneer Pizza',\n",
       " '1 x Fried Chicken Angara Tender, 1 x Grilled Chicken Angara Tender',\n",
       " '1 x Peri Peri Paneer Melt, 1 x Margherita Pizza',\n",
       " '1 x Jamaican Chicken Melt, 1 x Fried Chicken Strips, 1 x Margherita Pizza, 3 x Harisa Mayo',\n",
       " '1 x Fried Chicken Angara Tender',\n",
       " '1 x Tripple Cheese Pizza, 1 x Spinach Sumac Pide, 1 x Herbed Potato',\n",
       " '1 x Peri Peri Fries, 1 x Fried Chicken Angara Tender',\n",
       " '1 x Peri Peri Crisper Fries, 1 x Peri Peri Paneer Pizza',\n",
       " '1 x Peri Peri Fries, 1 x Makhani Paneer Pizza, 1 x Spinach Sumac Pide, 1 x Cheesy Garlic Bread, 1 x Malai Gud Pide, 1 x Margherita Pizza, 1 x Mushroom Mozzarella Melt, 1 x Salted Crisper Fries',\n",
       " '1 x Peri Peri Crisper Fries, 1 x Classic Bacon Melt Tenderloin Burger',\n",
       " '2 x Bone in Angara Grilled Chicken, 2 x Bone in Kabuli Grilled Chicken, 2 x Angara Rice',\n",
       " '1 x Murgh Amritsari Seekh Pide, 1 x Indian Masala Fries',\n",
       " '1 x All About Chicken Pizza, 1 x Cheesy Garlic Bread, 1 x Spinach Sumac Pide',\n",
       " '1 x Peri Peri Fries, 1 x Grilled Chicken Angara Tender, 1 x Garlic Aioli',\n",
       " '1 x Fried Chicken Peri Peri Tender, 1 x Fried Chicken Ghostbuster Tender, 1 x Bone in Jamaican Grilled Chicken',\n",
       " '2 x Dirty Saucy Fries',\n",
       " '1 x Mayonnaise, 1 x Peri Peri Fries, 1 x Harisa Mayo, 1 x Fried Chicken Classic Tender',\n",
       " '1 x Grilled Chicken Smoky BBQ Tender, 1 x Grilled Chicken Jamaican Tender, 1 x Salted Fries, 1 x AAC Special Slaw',\n",
       " '1 x Mutton Seekh Pide, 1 x Margherita Pizza, 1 x Murgh Amritsari Garlic Bread, 1 x Chilli Cheese Garlic Bread',\n",
       " '1 x Pepperoni Garlic Bread, 1 x Peri Peri Crisper Fries',\n",
       " '1 x Bone in Angara Grilled Chicken, 2 x Grilled Chicken Jamaican Tender, 1 x Bone in Jamaican Grilled Chicken',\n",
       " '2 x Bageecha Pizza, 1 x Herbed Potato',\n",
       " '1 x Murgh Amritsari Seekh Pizza, 1 x Peri Peri Grilled Chicken Pizza, 1 x Mutton Seekh Pide, 1 x Just Pepperoni Pide',\n",
       " '1 x Peri Peri Fries, 1 x Cheesy Garlic Bread, 1 x Tripple Cheese Pizza',\n",
       " '1 x Peri Peri Paneer Melt, 1 x Jamaican Chicken Melt, 1 x Murgh Amritsari Seekh Melt, 1 x Makhani Paneer Pizza',\n",
       " '1 x Animal Fries, 2 x Harisa Mayo, 1 x Bone in Jamaican Grilled Chicken',\n",
       " '1 x Cafreal dip, 1 x Animal Fries .',\n",
       " '1 x Jamaican Chicken Melt, 2 x Angara Paneer Melt',\n",
       " '1 x Makhani Paneer Pizza, 1 x Bellpepper Onion Pizza',\n",
       " '1 x Onion Rings, 1 x Bone in Smoky Bbq Grilled Chicken',\n",
       " '1 x Mutton Seekh Pide, 1 x All About Chicken Pizza, 1 x Harissa Mayo',\n",
       " '1 x Bageecha Pizza, 1 x Peanut Butter Chocolate Pide',\n",
       " '1 x Bone in Angara Grilled Chicken, 1 x Angara Grilled Paneer (8 pcs), 1 x Salted Crisper Fries',\n",
       " '1 x Herbed Potato, 1 x Peri Peri Grilled Chicken Pizza',\n",
       " '1 x Fried Chicken Peri Peri Tender, 1 x Harissa Mayo',\n",
       " '1 x Fried Chicken Beast AAC Burger, 1 x Bone in Smoky Bbq Grilled Chicken, 1 x Bone in Peri Peri Grilled Chicken',\n",
       " '1 x Margherita Pizza, 1 x Fried Chicken Strips',\n",
       " '1 x Salted Crisper Fries, 1 x Fried Chicken Classic Tender .',\n",
       " '2 x Grilled Chicken Jamaican Tender, 1 x Grilled Chicken Angara Tender, 1 x Bone in Peri Peri Grilled Chicken',\n",
       " '1 x AAC Fried Paneer Burger, 1 x Kabuli Grilled Paneer (8 pcs)',\n",
       " '1 x Mushroom Mozzarella Melt, 1 x Margherita Pizza, 2 x Makhani Paneer Pizza',\n",
       " '2 x Grilled Chicken Smoky BBQ Tender, 1 x AAC Saucy Fries',\n",
       " '1 x Murgh Amritsari Seekh Pizza, 1 x Peri Peri Crisper Fries, 1 x Margherita Pizza, 1 x Salted Crisper Fries',\n",
       " '1 x Indian Masala Cripser Fries, 1 x Masala Paneer Pide',\n",
       " '1 x Grilled Chicken Tangdi, 1 x Salted Fries, 1 x Makhani Paneer Pizza',\n",
       " '1 x Jamaican Chicken Melt, 1 x Masala Paneer Pide',\n",
       " '1 x Fried Chicken Angara Tender, 1 x Grilled Chicken Jamaican Tender, 1 x Bone in Smoky Bbq Grilled Chicken, 1 x Animal Fries, 1 x Bone in Jamaican Grilled Chicken',\n",
       " '1 x Masala Potato Pide, 1 x Tipsy Tiger Fresh Lime Soda, 1 x Combo For 1 - Veg',\n",
       " '1 x Angara Paneer Melt, 1 x Bageecha Pizza, 1 x Harisa Mayo',\n",
       " '1 x Peri Peri Paneer Pizza, 1 x Murgh Amritsari Seekh Pide, 1 x All About Chicken Pizza, 1 x Chilli Cheese Garlic Bread, 1 x Bageecha Pizza',\n",
       " '1 x AAC Grilled Chicken Burger, 1 x Fried Chicken Kabuli Tender',\n",
       " '1 x Murgh Amritsari Seekh Melt, 1 x Mutton Seekh Pide, 1 x Chicken Pepperoni Pizza',\n",
       " '1 x Peri Peri Paneer Pizza, 1 x Bellpepper Onion Pizza, 1 x All About Chicken Pizza, 1 x Peri Peri Grilled Chicken Pizza, 1 x Bageecha Pizza, 1 x Murgh Amritsari Seekh Pizza',\n",
       " '1 x Grilled Chicken Peri Peri Tender, 1 x Fried Chicken Ghostbuster Tender',\n",
       " '1 x All About Chicken Pizza, 1 x Fried Chicken Strips, 1 x Chilli Cheese Garlic Bread',\n",
       " '1 x Bageecha Pizza, 1 x Malai Gud Pide, 1 x Peanut Butter Chocolate Pide, 1 x Murgh Amritsari Seekh Pizza',\n",
       " '1 x Fried Chicken Classic Tender, 1 x Fried Chicken Angara Tender, 1 x Grilled Chicken Smoky BBQ Tangdi, 1 x Grilled Chicken Peri Peri Tangdi',\n",
       " '2 x Angara Paneer Melt, 2 x Jamaican Chicken Melt',\n",
       " '1 x Animal Fries, 1 x Herbed Potato, 1 x Bone in Peri Peri Grilled Chicken',\n",
       " '1 x Desi Chicken Pepperoni Pizza, 1 x Jamaican Chicken Melt, 1 x Peri Peri Crisper Fries, 1 x Onion Rings',\n",
       " '1 x Bone in Peri Peri Grilled Chicken, 1 x Grilled Chicken Ghostbuster Tangdi, 1 x Bone in Jamaican Grilled Chicken',\n",
       " '1 x Bone in Jamaican Grilled Chicken, 1 x Grilled Chicken Jamaican Tangdi, 1 x Grilled Chicken Smoky BBQ Tender, 1 x Angara Rice',\n",
       " '1 x Mutton Seekh Pizza, 1 x All About Chicken Pizza, 1 x Murgh Amritsari Seekh Pide, 1 x Just Pepperoni Pide',\n",
       " '1 x Crushed Papad, 1 x Indian Salsa',\n",
       " '1 x Tripple Cheese Pizza, 1 x Bellpepper Onion Pizza, 2 x Chilli Cheese Garlic Bread',\n",
       " '1 x Bone in Jamaican Grilled Chicken, 1 x Grilled Chicken Jamaican Tender',\n",
       " '1 x Masala Potato Pide, 1 x All About Chicken Pizza',\n",
       " '1 x Murgh Amritsari Seekh Pide, 1 x Murgh Amritsari Garlic Bread',\n",
       " '1 x All About Chicken Pizza, 1 x Masala Potato Pide',\n",
       " '1 x Masala Potato Pide, 1 x Cheesy Garlic Bread',\n",
       " '1 x Tipsy Tiger Fresh Lime Soda, 1 x Tipsy Tiger Ginger Ale, 1 x Margherita Pizza, 1 x Pepperoni Garlic Bread',\n",
       " '1 x Indian Pico De-Gallo, 1 x Just Pepperoni Pizza',\n",
       " '1 x Grilled Chicken Jamaican Tangdi, 1 x Bone in Kabuli Grilled Chicken',\n",
       " '1 x Fried Chicken Angara Tender, 1 x Angara Rice',\n",
       " '1 x Grilled Chicken Peri Peri Boneless Breast, 1 x Grilled Chicken Jamaican Boneless Breast',\n",
       " '1 x Bone in Jamaican Grilled Chicken, 1 x Bone in Kabuli Grilled Chicken, 2 x Angara Rice',\n",
       " '1 x Jamaican Chicken Melt, 1 x Cheesy Garlic Bread',\n",
       " '1 x Onion Rings, 1 x Mushroom Pizza, 1 x Cheesy Garlic Bread',\n",
       " '1 x Peri Peri Paneer Melt, 1 x Mushroom Pizza',\n",
       " '1 x Grilled Chicken Smoky BBQ Tender, 1 x AAC Saucy Fries',\n",
       " '1 x Grilled Chicken Tangdi, 1 x Mutton Seekh Pide',\n",
       " '1 x Raw Masala Lemon Shikanji, 1 x OG Cheese Pide',\n",
       " '1 x Fried Chicken Peri Peri Tender, 1 x Harisa Mayo',\n",
       " '1 x Margherita Pizza, 2 x Herbed Potato, 1 x Cheesy Garlic Bread',\n",
       " '1 x All About Chicken Pizza, 1 x Herbed Potato',\n",
       " '1 x Bageecha Pizza, 2 x Cheesy Garlic Bread',\n",
       " '1 x Bone in Jamaican Grilled Chicken Quarter + Angara Rice, 2 x Indian Salsa',\n",
       " '1 x Bone in Jamaican Grilled Chicken, 1 x Animal Fries, 1 x Fried Chicken Angara Tender, 1 x Iced Green Tea - Peach',\n",
       " '1 x Makhani Paneer Pizza, 1 x Chilli Cheese Garlic Bread, 1 x Masala Paneer Pide, 1 x Tripple Cheese Pizza',\n",
       " '1 x Grilled Chicken Jamaican Tender, 1 x Salted Fries, 1 x Bone in Jamaican Grilled Chicken',\n",
       " '2 x Fried Chicken Classic Tender, 2 x Grilled Chicken Smoky BBQ Tangdi',\n",
       " '1 x Tripple Cheese Pizza, 1 x Peri Peri Paneer Pizza, 1 x Bageecha Pizza, 1 x Makhani Paneer Pizza',\n",
       " '1 x Bone in Angara Grilled Chicken, 1 x Animal Fries, 1 x Fried Chicken Peri Peri Tender',\n",
       " '1 x Bone in Peri Peri Grilled Chicken, 1 x Angara Sauce, 1 x Grilled Chicken Angara Tender, 1 x Bone in Jamaican Grilled Chicken',\n",
       " '1 x AAC Signature Fries, 1 x Animal Fries, 3 x Fried Chicken Beast AAC Burger',\n",
       " '1 x Makhani Paneer Pizza, 2 x Tipsy Tiger Fresh Lime Soda',\n",
       " '1 x Bellpepper Onion Pizza, 1 x Peri Peri Fries',\n",
       " '1 x Chicken Smashed Burger',\n",
       " '1 x Tripple Cheese Pizza, 1 x Fried Chicken Tenders',\n",
       " '2 x Margherita Pizza, 1 x Bellpepper Onion Pizza, 1 x Mushroom Mozzarella Melt',\n",
       " '1 x Fried Chicken Strips, 1 x All About Chicken Pizza, 1 x Murgh Amritsari Garlic Bread',\n",
       " '1 x Fried Chicken Classic Tender, 1 x Salted Fries',\n",
       " '1 x Chicken 65 Boneless Grilled Chicken Breast, 1 x Peri Peri Boneless Grilled Chicken Breast',\n",
       " '1 x Salted Fries, 1 x AAC Grilled Chicken Burger, 1 x Mayonnaise',\n",
       " '1 x Just Pepperoni Pizza, 1 x Indian Masala Fries',\n",
       " '1 x Fried Chicken Bites (Bone) - 4pcs',\n",
       " '2 x Bone in Angara Grilled Chicken',\n",
       " '1 x Bone in Kabuli Grilled Chicken, 1 x Grilled Chicken Tangdi Jamaican + Salted Krispers, 1 x Bone in Smoky Bbq Grilled Chicken',\n",
       " '1 x Grilled Chicken Peri Peri Tender, 1 x Grilled Chicken Smoky BBQ Tender, 1 x Grilled Chicken Angara Tender, 1 x Grilled Chicken Jamaican Tender',\n",
       " '1 x Animal Fries, 1 x Fried Chicken Kabuli Tender',\n",
       " '1 x Desi Pepperoni Pizza, 1 x Murgh Amritsari Garlic Bread',\n",
       " '1 x Cheesy Garlic Bread, 1 x Margherita Pizza, 1 x Bellpepper Onion Pizza',\n",
       " '1 x Makhani Paneer Pizza, 1 x Peri Peri Fries',\n",
       " '1 x Chilli Cheese Garlic Bread, 1 x Bageecha Pizza, 1 x Peri Peri Paneer Melt, 1 x Onion Rings',\n",
       " '1 x Murgh Amritsari Seekh Pizza, 2 x Chilli Cheese Garlic Bread, 1 x Bageecha Pizza',\n",
       " '1 x Mushroom Pizza, 1 x Bageecha Pizza, 1 x Chilli Cheese Garlic Bread',\n",
       " '1 x Grilled Chicken Smoky BBQ Tender, 1 x Bone in Peri Peri Grilled Chicken, 1 x Bone in Jamaican Grilled Chicken',\n",
       " '1 x Peri Peri Fries, 1 x Mushroom Pizza, 1 x Peri Peri Paneer Pizza, 1 x Bageecha Pizza, 1 x Indian Masala Cripser Fries',\n",
       " '1 x Animal Fries, 1 x Tipsy Tiger Fresh Lime Soda, 1 x AAC Grilled Chicken Burger .',\n",
       " '1 x Fried Chicken Classic Tenders + AAC Signature Fries, 1 x Grilled Chicken Tangdi Jamaican + Salted Krispers',\n",
       " '1 x Peri Peri Chicken Melt, 1 x Masala Paneer Pide',\n",
       " '1 x Makhani Paneer Pizza, 1 x Bageecha Pizza, 2 x Cheesy Garlic Bread',\n",
       " '1 x Murgh Amritsari Seekh Melt, 1 x Murgh Amritsari Seekh Pide, 1 x Chilli Cheese Garlic Bread, 1 x Jamaican Chicken Melt',\n",
       " '1 x Bone in Jamaican Grilled Chicken, 1 x Grilled Chicken Smoky BBQ Tender, 1 x Fried Chicken Peri Peri Tenders + Peri Peri Fries',\n",
       " '2 x Margherita Pizza, 2 x All About Chicken Pizza, 2 x Jamaican Chicken Melt',\n",
       " '1 x Bone in Jamaican Grilled Chicken, 1 x Fried Chicken Classic Tender, 2 x Animal Fries',\n",
       " '1 x Grilled Chicken Ghostbuster Tangdi, 1 x Peri Peri Crisper Fries, 1 x Grilled Chicken Angara Tangdi, 1 x AAC Signature Crisper Fries',\n",
       " '1 x Desi Chicken Pepperoni Pizza, 1 x All About Chicken Pizza, 1 x Cheesy Garlic Bread',\n",
       " '1 x Grilled Chicken Angara Tangdi, 1 x Bone in Smoky Bbq Grilled Chicken',\n",
       " '1 x Grilled Chicken Angara Tender, 1 x Bone in Jamaican Grilled Chicken, 1 x AAC Saucy Fries, 1 x Grilled Chicken Jamaican Tender',\n",
       " '1 x Indian Pico De-Gallo, 1 x Grilled Tangdis, 1 x Garlic Aioli, 1 x Margherita Pizza, 2 x Crushed Papad',\n",
       " '1 x Animal Fries, 1 x Bone in Smoky Bbq Grilled Chicken, 1 x Fried Chicken Ghostbuster Tender, 1 x Bone in Kabuli Grilled Chicken',\n",
       " '1 x Jamaican Chicken Melt, 1 x Peri Peri Crisper Fries',\n",
       " '1 x Masala Paneer Pide, 1 x Bageecha Pizza',\n",
       " '1 x Margherita Pizza, 1 x Makhani Paneer Pizza, 1 x Bageecha Pizza, 1 x Peri Peri Paneer Pizza',\n",
       " '1 x Masala Potato Pide, 1 x Mutton Seekh Pide',\n",
       " '1 x AAC Fried Chicken Burger, 1 x Animal Fries, 1 x Jamaican Sauce, 1 x Fried Chicken Peri Peri Tender ., 1 x GhostBuster Sauce',\n",
       " '1 x Salted Crisper Fries, 1 x Bone in Jamaican Grilled Chicken, 1 x Fried Chicken Classic Tender .',\n",
       " '1 x Mutton Seekh Pide, 1 x Jamaican Chicken Melt',\n",
       " '1 x Bageecha Pizza, 1 x Peri Peri Paneer Pizza',\n",
       " '1 x Tipsy Tiger Ginger Ale, 1 x Salted Fries, 1 x Chicken Smashed Double Burger',\n",
       " '1 x Fried Chicken Beast AAC Burger, 1 x Grilled Chicken Jamaican Tender, 1 x Grilled Chicken Angara Tangdi, 1 x Bone in Peri Peri Grilled Chicken',\n",
       " '1 x Peri Peri Paneer Pizza, 1 x Mutton Seekh Pide, 1 x Mushroom Pizza, 1 x OG Cheese Pide',\n",
       " '1 x Murgh Amritsari Seekh Pide, 1 x Bacon Pepperoni Melt, 1 x Just Pepperoni Pide, 1 x Tripple Cheese Pizza',\n",
       " '1 x Peri Peri Grilled Chicken Pizza, 1 x Peri Peri Paneer Melt, 1 x Mushroom Mozzarella Melt, 1 x Chilli Cheese Garlic Bread',\n",
       " '1 x Mushroom Pizza, 1 x Peri Peri Fries, 1 x Indian Masala Fries, 1 x Murgh Amritsari Seekh Pizza',\n",
       " '1 x Fried Chicken Angara Tender, 1 x AAC Saucy Fries',\n",
       " '1 x Grilled Chicken Smoky BBQ Tender, 1 x Grilled Chicken Jamaican Tender, 1 x AAC Grilled Chicken Burger',\n",
       " '1 x Masala Omelette Pide, 1 x Margherita Pizza',\n",
       " '1 x Garlic Aioli, 1 x Peri Peri Fries, 1 x OG Cheese Pide',\n",
       " '1 x Bacon Pepperoni Melt, 1 x Bageecha Pizza',\n",
       " '1 x Margherita Pizza, 1 x Chilli Cheese Garlic Bread, 1 x Bageecha Pizza',\n",
       " '1 x Tripple Cheese Pizza, 1 x Onion Rings',\n",
       " '1 x Fried Chicken Ghostbuster Tender, 1 x Fried Chicken Peri Peri Tender, 1 x Grilled Chicken Jamaican Tender, 1 x Bone in Smoky Bbq Grilled Chicken',\n",
       " '1 x Bone in Smoky Bbq Grilled Chicken, 1 x AAC Special Slaw',\n",
       " '1 x Murgh Amritsari Seekh Pide',\n",
       " '1 x Margherita Pizza, 1 x Angara Paneer Melt',\n",
       " '1 x Murgh Amritsari Seekh Pide, 2 x Peri Peri Crisper Fries, 1 x Masala Paneer Pide',\n",
       " '1 x Mutton Seekh Pide, 1 x Tipsy Tiger Ginger Ale',\n",
       " '1 x Masala Paneer Pide, 1 x Chilli Cheese Garlic Bread, 1 x Makhani Paneer Pizza, 1 x All About Chicken Pizza, 1 x Onion Rings',\n",
       " '2 x Bone in Smoky Bbq Grilled Chicken, 2 x Fried Chicken Classic Tender, 2 x Fried Chicken Peri Peri Tender',\n",
       " '1 x Grilled Chicken Angara Tender, 1 x Angara Sauce',\n",
       " '2 x Bone in Peri Peri Grilled Chicken',\n",
       " '1 x Grilled Chicken Jamaican Tender, 1 x Grilled Chicken Smoky BBQ Tender, 1 x Animal Fries',\n",
       " '1 x Bacon Pepperoni Melt, 1 x Loaded Pork Pepperoni Pizza',\n",
       " '1 x Raw Mint Mojito Iced Tea, 1 x Tipsy Tiger Ginger Ale, 1 x Raw Peach Iced Tea',\n",
       " '1 x Onion Rings, 1 x Peri Peri Fries, 1 x Tripple Cheese Pizza',\n",
       " '1 x Grilled Chicken Peri Peri Tender, 1 x Angara Rice, 1 x Bone in Jamaican Grilled Chicken',\n",
       " '1 x Bone in Angara Grilled Chicken, 1 x Angara Rice, 1 x Indian Salsa',\n",
       " '1 x Just Pepperoni Pide, 1 x Chilli Cheese Garlic Bread',\n",
       " '1 x Bageecha Pizza, 1 x Murgh Amritsari Seekh Pide',\n",
       " '1 x AAC Grilled Chicken Burger',\n",
       " '1 x Peri Peri Crisper Fries, 1 x Bone in Smoky Bbq Grilled Chicken',\n",
       " '1 x Bone in Angara Grilled Chicken, 1 x Angara Rice',\n",
       " '1 x Fried Chicken Angara Tender, 1 x Onion Bombs, 1 x Grilled Chicken Peri Peri Tender',\n",
       " '1 x Coleslaw, 1 x Smoky BBQ dip',\n",
       " '1 x Angara Paneer Melt, 1 x Indian Masala Fries',\n",
       " '1 x Fried Chicken Peri Peri Tender, 1 x Onion Bombs',\n",
       " '1 x Grilled Tangdis, 1 x Herbed Potato, 1 x Murgh Amritsari Seekh Pide, 1 x Fried Chicken Strips',\n",
       " '1 x Bageecha Pizza, 1 x Chilli Cheese Garlic Bread, 1 x Peri Peri Crisper Fries',\n",
       " '1 x Chilli Cheese Garlic Bread, 1 x Margherita Pizza, 1 x Bageecha Pizza',\n",
       " '1 x Cheesy Garlic Bread, 1 x All About Chicken Pizza, 1 x Makhani Paneer Pizza, 1 x Murgh Amritsari Garlic Bread',\n",
       " '1 x Animal Fries, 1 x Fried Chicken Peri Peri Tender, 1 x AAC Saucy Fries, 1 x Grilled Chicken Jamaican Tender',\n",
       " '1 x Chilli Cheese Garlic Bread, 1 x Makhani Paneer Pizza, 1 x Peri Peri Paneer Pizza',\n",
       " '1 x All About Chicken Pizza, 1 x Peri Peri Crisper Fries, 1 x Bacon Pepperoni Melt',\n",
       " '1 x AAC Signature Crisper Fries, 1 x Bone in Peri Peri Grilled Chicken',\n",
       " '1 x Spinach Sumac Pide, 1 x Bellpepper Onion Pizza, 1 x Herbed Potato',\n",
       " '2 x Iced Green Tea - Mojito, 1 x Chilli Cheese Garlic Bread, 1 x Bageecha Pizza, 1 x Spinach Sumac Pide, 1 x Makhani Paneer Pizza',\n",
       " '1 x Animal Fries, 1 x Jamaican Sauce, 1 x Fried Chicken Angara Tender, 1 x India Dynamite sauce',\n",
       " '1 x Animal Fries, 1 x Angara Aloo Tuk Tuki',\n",
       " '1 x Just Pepperoni Pizza, 1 x Bageecha Pizza, 1 x Margherita Pizza',\n",
       " '1 x Desi Pepperoni Pizza, 1 x Chilli Cheese Garlic Bread',\n",
       " '1 x Chilli Cheese Garlic Bread, 1 x Salted Crisper Fries',\n",
       " '1 x Grilled Tangdis, 2 x Tipsy Tiger Fresh Lime Soda',\n",
       " '1 x Jamaican Chicken Melt, 1 x All About Chicken Pizza, 1 x Margherita Pizza, 1 x Peri Peri Paneer Pizza',\n",
       " '1 x Peri Peri Boneless Grilled Chicken Breast, 1 x Angara Boneless Grilled Chicken Breast, 1 x Smoky BBQ Grilled Chicken Quarter, 1 x Malvani Grilled Chicken Quarter, 1 x Carribean Jerk Boneless Grilled Chicken Breast',\n",
       " '1 x Bone in Jamaican Grilled Chicken, 1 x Grilled Chicken Jamaican Tender, 1 x Bone in Jamaican Grilled Chicken',\n",
       " '2 x Margherita Pizza, 1 x All About Chicken Pizza',\n",
       " '1 x Mushroom Pizza, 1 x Salted Crisper Fries, 1 x Herbed Potato, 1 x Bageecha Pizza',\n",
       " '1 x All About Chicken Pizza, 1 x Spinach Sumac Pide',\n",
       " '1 x Grilled Chicken Jamaican Tender, 1 x AAC Grilled Chicken Burger, 1 x Tipsy Tiger Ginger Ale',\n",
       " '1 x Cheesy Garlic Bread, 1 x Just Pepperoni Pizza',\n",
       " '1 x Peri Peri Grilled Chicken Pizza, 1 x Fried Chicken Strips, 1 x Herbed Potato',\n",
       " '1 x Pepperoni Garlic Bread, 1 x Margherita Pizza',\n",
       " '1 x Malai Gud Pide, 1 x Murgh Amritsari Seekh Pizza, 1 x Jamaican Chicken Melt',\n",
       " '2 x Angara Rice, 1 x Grilled Chicken Smoky BBQ Tangdi, 2 x Fried Chicken Peri Peri Tender',\n",
       " '1 x Fried Chicken Strips, 1 x Desi Pepperoni Pizza',\n",
       " '1 x Bageecha Pizza, 1 x Bellpepper Onion Pizza, 1 x Chilli Cheese Garlic Bread, 1 x Spinach Sumac Pide',\n",
       " '1 x GhostBuster Sauce, 1 x Bone in Jamaican Grilled Chicken',\n",
       " '1 x Fried Chicken Peri Peri Tender, 1 x Bone in Jamaican Grilled Chicken Quarter + Angara Rice, 1 x Animal Fries, 1 x Fried Chicken Angara Tender',\n",
       " '1 x All About Chicken Pizza, 1 x Desi Pepperoni Pizza, 1 x Onion Rings, 1 x Murgh Amritsari Garlic Bread',\n",
       " '1 x Bone in Angara Grilled Chicken',\n",
       " '1 x Makhani Paneer Pizza, 1 x Chilli Cheese Garlic Bread, 1 x Malai Gud Pide, 1 x All About Chicken Pizza',\n",
       " '1 x Angara Paneer Melt, 1 x Mutton Seekh Pide',\n",
       " '1 x Grilled Chicken Angara Boneless Breast, 1 x Grilled Chicken Jamaican Tender',\n",
       " '1 x Dirty Saucy Fries, 1 x Cheesy Veg Burger',\n",
       " '1 x Cheesy Garlic Bread, 1 x Mushroom Mozzarella Melt',\n",
       " '1 x Murgh Amritsari Seekh Pizza, 1 x Cheesy Garlic Bread',\n",
       " '1 x Bageecha Pizza, 1 x Angara Paneer Melt, 2 x Peri Peri Crisper Fries, 2 x Chilli Cheese Garlic Bread',\n",
       " '1 x Mushroom Pizza, 1 x Bageecha Pizza, 1 x Masala Potato Pide',\n",
       " '1 x Fried Chicken Angara Tender, 1 x Fried Chicken Peri Peri Tender .',\n",
       " '2 x Fried Chicken Classic Tender, 1 x Grilled Chicken Smoky BBQ Tender',\n",
       " '2 x Angara Paneer Melt',\n",
       " '1 x Bageecha Pizza, 1 x Peri Peri Grilled Chicken Pizza, 1 x Desi Pepperoni Pizza, 1 x Chilli Cheese Garlic Bread, 2 x Grilled Tangdis',\n",
       " '1 x Murgh Amritsari Seekh Pizza, 1 x Cheesy Garlic Bread, 1 x Bageecha Pizza',\n",
       " '1 x Makhani Paneer Pizza, 1 x Loaded Chicken Pepperoni Pizza',\n",
       " '2 x Garlic Aioli, 1 x Bone in Jamaican Grilled Chicken, 1 x Bone in Smoky Bbq Grilled Chicken',\n",
       " '1 x Tripple Cheese Pizza, 1 x Herbed Potato',\n",
       " '1 x Murgh Amritsari Seekh Pizza, 2 x Grilled Tangdis, 1 x Chilli Cheese Garlic Bread',\n",
       " '1 x Grilled Tangdis, 1 x Herbed Potato, 1 x Cafreal Sauce, 1 x Desi Chicken Pepperoni Pizza',\n",
       " '2 x Animal Fries',\n",
       " '1 x Bageecha Pizza, 1 x Tipsy Tiger Ginger Ale, 1 x Herbed Potato, 1 x Chilli Cheese Garlic Bread',\n",
       " '1 x Jamaican Chicken Melt, 1 x Murgh Amritsari Garlic Bread, 1 x All About Chicken Pizza',\n",
       " '1 x Indian Masala Cripser Fries, 1 x Bageecha Pizza, 1 x Peri Peri Grilled Chicken Pizza',\n",
       " '1 x Loaded Pork Pepperoni Pizza, 1 x Margherita Pizza',\n",
       " '1 x Coleslaw',\n",
       " '1 x Bacon Pepperoni Melt, 1 x Grilled Chicken Tangdi',\n",
       " '2 x Fried Chicken Beast AAC Burger, 2 x Grilled Chicken Smoky BBQ Tender, 1 x AAC Grilled Chicken Burger, 1 x AAC Signature Fries, 1 x Fried Chicken Peri Peri Tender',\n",
       " '1 x Bone in Jamaican Grilled Chicken, 2 x Angara Rice, 1 x Bone in Smoky Bbq Grilled Chicken',\n",
       " '1 x Bageecha Pizza, 1 x Cheesy Garlic Bread, 1 x Peri Peri Fries',\n",
       " '1 x Mushroom Pizza, 1 x Cheesy Garlic Bread, 1 x All About Chicken Pizza',\n",
       " '1 x Grilled Chicken Peri Peri Tangdi, 1 x Animal Fries',\n",
       " '1 x Pepperoni Garlic Bread, 1 x Masala Potato Pide',\n",
       " '1 x Bone in Smoky Bbq Grilled Chicken .',\n",
       " '1 x Onion Rings, 1 x Grilled Chicken Jamaican Tender, 1 x Bone in Angara Grilled Chicken, 1 x Tipsy Tiger Fresh Lime Soda, 1 x Animal Fries, 1 x Fried Chicken Classic Tender',\n",
       " '1 x Grilled Chicken Smoky BBQ Tangdi, 1 x Bone in Smoky Bbq Grilled Chicken, 2 x Peri Peri Krispers',\n",
       " '1 x Fried Chicken Tenders, 1 x Chicken Pepperoni Pizza',\n",
       " '2 x Tipsy Tiger Ginger Ale, 1 x Garlic Aioli, 1 x Bageecha Pizza',\n",
       " '1 x Herbed Potato, 1 x Murgh Amritsari Seekh Pide, 1 x Fried Chicken Strips',\n",
       " '1 x Grilled Chicken Peri Peri Tender, 1 x Grilled Chicken Angara Tender',\n",
       " '1 x Spinach Sumac Pide, 1 x Loaded Korean Grilled Chicken Pizza, 1 x Bageecha Pizza',\n",
       " '1 x Bone in Smoky Bbq Grilled Chicken, 1 x Grilled Chicken Jamaican Tender',\n",
       " '1 x Jamaican Chicken Melt, 1 x Tripple Cheese Pizza, 1 x All About Chicken Pizza, 1 x Just Pepperoni Pizza',\n",
       " '1 x Grilled Chicken Jamaican Tender, 1 x AAC Grilled Chicken Burger, 1 x Bone in Angara Grilled Chicken',\n",
       " '1 x Jamaican Sauce, 1 x Peri Peri Fries ., 1 x Bone in Jamaican Grilled Chicken',\n",
       " '1 x Makhani Paneer Pizza, 1 x Chilli Cheese Garlic Bread, 1 x Malai Gud Pide',\n",
       " '2 x Salted Crisper Fries, 1 x Bageecha Pizza',\n",
       " '1 x Fried Chicken Tenders, 1 x Indian Masala Cripser Fries',\n",
       " '1 x Grilled Chicken Angara Boneless Breast, 1 x Bone in Jamaican Grilled Chicken',\n",
       " '1 x Grilled Chicken Tangdi Jamaican + Salted Krispers, 1 x Bone in Jamaican Grilled Chicken',\n",
       " '1 x Angara Paneer Melt, 1 x Peri Peri Paneer Melt',\n",
       " '1 x Makhani Paneer Pizza, 1 x Chilli Cheese Garlic Bread, 1 x Bageecha Pizza, 1 x Cheesy Garlic Bread',\n",
       " '1 x All About Chicken Pizza, 2 x Bageecha Pizza',\n",
       " '1 x Bageecha Pizza, 1 x Iced Green Tea - Mojito, 1 x Cheesy Garlic Bread, 1 x All About Chicken Pizza, 1 x Murgh Amritsari Garlic Bread',\n",
       " '1 x Spinach Sumac Pide, 1 x Onion Rings, 1 x Peri Peri Grilled Chicken Pizza, 1 x Cheesy Garlic Bread, 1 x Bageecha Pizza',\n",
       " '1 x Margherita Pizza, 1 x Desi Pepperoni Pizza, 1 x Murgh Amritsari Garlic Bread',\n",
       " '3 x Angara Rice, 1 x Grilled Chicken Angara Tender, 1 x Fried Chicken Peri Peri Tender, 1 x Animal Fries, 2 x Angara Aloo Tuk Tuki',\n",
       " '1 x Grilled Chicken Smoky BBQ Tangdi, 1 x Grilled Chicken Peri Peri Tangdi',\n",
       " '1 x Fried Chicken Beast AAC Burger, 1 x AAC Grilled Chicken Burger, 1 x Bone in Jamaican Grilled Chicken',\n",
       " '1 x Animal Fries, 1 x Grilled Chicken Peri Peri Tangdi',\n",
       " '1 x Fried Chicken Ghostbuster Tender, 1 x Grilled Chicken Angara Tender',\n",
       " '3 x Chilli Cheese Garlic Bread',\n",
       " '1 x Peri Peri Crisper Fries, 1 x Peri Peri Paneer Melt, 1 x Indian Masala Cripser Fries',\n",
       " '2 x OG Cheese Pide, 1 x Murgh Amritsari Seekh Pide',\n",
       " '1 x Fried Chicken Tenders, 1 x Murgh Amritsari Seekh Pide, 1 x All About Chicken Pizza',\n",
       " '1 x Peri Peri Fries, 1 x Pepperoni Garlic Bread',\n",
       " '1 x Makhani Paneer Pizza, 1 x Indian Pico De-Gallo, 1 x Cheesy Garlic Bread',\n",
       " '1 x Herbed Potato, 1 x Murgh Amritsari Seekh Pide',\n",
       " '1 x Margherita Pizza, 1 x Cheesy Garlic Bread, 1 x Chilli Cheese Garlic Bread, 1 x Bageecha Pizza',\n",
       " '1 x Fried Chicken Peri Peri Tender, 1 x Grilled Chicken Jamaican Tender, 1 x Dynamite sauce',\n",
       " '1 x Peri Peri Crispers Fries',\n",
       " '26 x Bageecha Pizza',\n",
       " '1 x Grilled Chicken Tangdi, 1 x Murgh Amritsari Seekh Pizza, 1 x Tripple Cheese Pizza',\n",
       " '1 x Peri Peri Grilled Chicken Pizza, 1 x Crushed Papad, 1 x Indian Masala Fries',\n",
       " '1 x Peri Peri Fries, 1 x Bone in Jamaican Grilled Chicken',\n",
       " '1 x All About Chicken Pizza, 1 x Just Pepperoni Pizza, 1 x OG Cheese Pide, 1 x Murgh Amritsari Garlic Bread',\n",
       " '1 x Mutton Seekh Pide, 1 x Fried Chicken Strips',\n",
       " '1 x Makhani Paneer Pizza, 1 x Peri Peri Crisper Fries, 1 x Indian Masala Cripser Fries, 1 x Jamaican Chicken Melt',\n",
       " '1 x Kabuli Grilled Paneer (8 pcs), 1 x Bone in Jamaican Grilled Chicken',\n",
       " '1 x Grilled Chicken Angara Tenders + Salted Fries, 1 x Bone in Jamaican Grilled Chicken, 1 x Grilled Chicken Angara Tangdi, 1 x Fried Chicken Angara Tender',\n",
       " '1 x Salted Crisper Fries, 1 x Tipsy Tiger Fresh Lime Soda, 1 x Bellpepper Onion Pizza',\n",
       " '1 x Just Pepperoni Pide, 1 x Tripple Cheese Pizza',\n",
       " '1 x Bageecha Pizza, 4 x Cheesy Garlic Bread, 1 x Margherita Pizza, 2 x Peri Peri Grilled Chicken Pizza, 1 x Makhani Paneer Pizza',\n",
       " '1 x Bone in Angara Grilled Chicken, 1 x Fried Chicken Beast AAC Burger',\n",
       " '1 x Peri Peri Fries, 1 x Grilled Chicken Angara Tender',\n",
       " '1 x Bone in Jamaican Grilled Chicken, 1 x Grilled Chicken Jamaican Tangdi',\n",
       " '1 x All About Chicken Pizza, 1 x Herbed Potato, 1 x Jamaican Chicken Melt, 1 x Malai Gud Pide',\n",
       " '1 x Peri Peri Fries, 1 x Cheesy Garlic Bread, 1 x Just Pepperoni Pizza, 1 x Jamaican Chicken Melt',\n",
       " '1 x Salted Fries',\n",
       " '1 x Animal Fries, 1 x Fried Chicken Angara Tender, 1 x Garlic Aioli, 1 x India Dynamite sauce',\n",
       " '1 x Fried Chicken Beast AAC Burger, 1 x Bone in Smoky Bbq Grilled Chicken',\n",
       " '1 x Mushroom Mozzarella Melt, 1 x Indian Masala Cripser Fries',\n",
       " '1 x Salted Crisper Fries, 1 x Dirty Saucy Fries',\n",
       " '1 x Jamaican Chicken Melt, 1 x Murgh Amritsari Seekh Melt, 1 x Indian Masala Cripser Fries',\n",
       " '1 x Peanut Butter Chocolate Pide, 1 x Chilli Cheese Garlic Bread, 2 x Onion Rings',\n",
       " '1 x Onion Rings, 1 x Mushroom Pizza, 1 x Herbed Potato',\n",
       " '2 x Grilled Chicken Dirty Burger, 2 x Mutton Smashed Burger',\n",
       " '1 x Bageecha Pizza, 1 x Chilli Cheese Garlic Bread, 1 x Bellpepper Onion Pizza',\n",
       " '1 x Angara Sauce, 1 x Fried Chicken Kabuli Tender, 1 x Fried Chicken Angara Tender, 1 x Angara Grilled Paneer (8 pcs)',\n",
       " '1 x AAC Grilled Chicken Burger, 1 x Animal Fries, 2 x Red Rice',\n",
       " '1 x AAC Grilled Chicken Burger, 1 x Grilled Chicken Jamaican Tender',\n",
       " '2 x Peri Peri Fries, 2 x Grilled Chicken Angara Tender, 2 x Garlic Aioli',\n",
       " '1 x AAC Grilled Paneer Burger, 1 x Bone in Jamaican Grilled Chicken, 1 x Angara Aloo Tuk Tuki, 1 x Onion Bombs',\n",
       " '2 x Margherita Pizza, 2 x Fried Chicken Strips, 2 x Angara Paneer Melt',\n",
       " '1 x Grilled Chicken Jamaican Tender, 1 x Grilled Chicken Smoky BBQ Tangdi',\n",
       " '1 x Onion Rings, 1 x Chilli Cheese Garlic Bread, 1 x Murgh Amritsari Garlic Bread',\n",
       " '1 x Murgh Amritsari Seekh Melt, 1 x All About Chicken Pizza, 1 x Chicken Pepperoni Pizza',\n",
       " '1 x Bageecha Pizza, 1 x Jamaican Chicken Melt, 1 x Fried Chicken Tenders, 1 x Angara Paneer Melt, 1 x Murgh Amritsari Seekh Melt, 2 x Cheesy Garlic Bread',\n",
       " '1 x Tipsy Tiger Ginger Ale, 1 x Grilled Chicken Angara Tenders + Salted Fries',\n",
       " '1 x Fried Chicken Strips, 1 x All About Chicken Pizza, 1 x Crushed Papad',\n",
       " '1 x Makhani Paneer Pizza, 1 x Chilli Cheese Garlic Bread, 1 x Malai Gud Pide, 1 x Bageecha Pizza',\n",
       " '1 x Mutton Seekh Pizza, 1 x Peri Peri Grilled Chicken Pizza, 1 x Herbed Potato',\n",
       " '2 x Grilled Chicken Peri Peri Tangdi',\n",
       " '1 x AAC Grilled Chicken Burger, 1 x Grilled Chicken Jamaican Tangdi, 1 x Animal Fries, 1 x Grilled Chicken Angara Tangdi',\n",
       " '1 x Malai Gud Pide, 1 x Tripple Cheese Pizza',\n",
       " '1 x Desi Chicken Pepperoni Pizza, 1 x Mushroom Mozzarella Melt',\n",
       " '1 x Bageecha Pizza, 1 x Iced Green Tea - Peach, 1 x Chilli Cheese Garlic Bread',\n",
       " '1 x Masala Paneer Pide, 1 x OG Cheese Pide, 1 x Malai Gud Pide, 1 x Onion Rings, 1 x Spinach Sumac Pide, 1 x Angara Paneer Melt',\n",
       " '1 x Jamaican Chicken Melt, 1 x OG Cheese Pide',\n",
       " '1 x Indian Masala Cripser Fries, 1 x Chilli Cheese Garlic Bread',\n",
       " '1 x Bone in Angara Grilled Chicken, 1 x Bone in Smoky Bbq Grilled Chicken ., 1 x Bone in Jamaican Grilled Chicken .',\n",
       " '1 x Indian Masala Fries, 1 x Chilli Cheese Garlic Bread, 1 x All About Chicken Pizza',\n",
       " '1 x Makhani Paneer Pizza, 1 x Bacon Pepperoni Melt, 1 x All About Chicken Pizza, 1 x Murgh Amritsari Seekh Pizza',\n",
       " '1 x Bone in Jamaican Grilled Chicken, 1 x Garlic Aioli, 1 x Bone in Peri Peri Grilled Chicken, 1 x Indian Pico De-Gallo',\n",
       " '1 x Jamaican Chicken Melt, 1 x Herbed Potato, 1 x Iced Green Tea - Peach, 1 x Murgh Amritsari Garlic Bread',\n",
       " '1 x Bone in Jamaican Grilled Chicken Quarter + Angara Rice, 1 x Tipsy Tiger Ginger Ale',\n",
       " '1 x Loaded Pork Pepperoni Pizza, 1 x Indian Masala Fries, 1 x Chilli Cheese Garlic Bread',\n",
       " '1 x Fried Chicken Tenders, 1 x Just Pepperoni Pizza, 1 x Garlic Aioli, 1 x Harissa Mayo',\n",
       " '1 x Peri Peri Crisper Fries, 1 x Fried Chicken Strips',\n",
       " '1 x Peri Peri Crisper Fries, 1 x Fried Chicken Tenders',\n",
       " '1 x Mushroom Pizza, 1 x Chicken Pepperoni Pizza',\n",
       " '1 x Tipsy Tiger Fresh Lime Soda, 1 x Fried Chicken Classic Tenders + AAC Signature Fries',\n",
       " '1 x Onion Rings, 1 x Murgh Amritsari Seekh Melt, 1 x Peri Peri Paneer Melt, 1 x Indian Masala Cripser Fries',\n",
       " '1 x Grilled Chicken Smoky Bbq Boneless Breast, 1 x Grilled Chicken Jamaican Boneless Breast',\n",
       " '1 x Herbed Potato, 1 x Tipsy Tiger Fresh Lime Soda',\n",
       " '1 x Jamaican Chicken Melt, 1 x Tipsy Tiger Fresh Lime Soda, 1 x Cheesy Garlic Bread, 1 x Indian Masala Fries',\n",
       " '1 x Bone in Angara Grilled Chicken, 1 x Angara Grilled Paneer (8 pcs)',\n",
       " '1 x Makhani Paneer Pizza, 1 x Malai Gud Pide, 1 x Mushroom Mozzarella Melt, 1 x Jamaican Chicken Melt, 1 x All About Chicken Pizza, 1 x Angara Paneer Melt, 1 x Murgh Amritsari Seekh Melt, 1 x Peanut Butter Chocolate Pide',\n",
       " '1 x Just Pepperoni Pide, 1 x Peri Peri Chicken Melt, 1 x Peanut Butter Chocolate Pide',\n",
       " '1 x Angara Paneer Melt, 1 x Salted Crisper Fries, 1 x Spinach Sumac Pide',\n",
       " '1 x Peri Peri Chicken Melt, 1 x Herbed Potato, 1 x Loaded Pork Pepperoni Pizza, 1 x Pepperoni Garlic Bread',\n",
       " '1 x Makhani Paneer Pizza, 1 x Garlic Aioli',\n",
       " '2 x Chilli Cheese Garlic Bread, 1 x Margherita Pizza, 1 x Bageecha Pizza',\n",
       " '1 x Bone in Jamaican Grilled Chicken ., 2 x Peri Peri Fries ., 1 x Fried Chicken Ghostbuster Tender',\n",
       " '2 x Herbed Potato, 2 x Bageecha Pizza',\n",
       " '1 x Herbed Potato, 1 x Jamaican Chicken Melt, 1 x Grilled Tangdis',\n",
       " '1 x Cheesy Garlic Bread, 1 x Chilli Cheese Garlic Bread, 1 x Tripple Cheese Pizza, 1 x Mushroom Mozzarella Melt',\n",
       " '1 x Raw Masala Lemon Shikanji, 1 x Tripple Cheese Pizza, 1 x Tipsy Tiger Ginger Ale',\n",
       " '2 x Peri Peri Fries, 1 x Fried Chicken Peri Peri Tender, 1 x Grilled Chicken Angara Tender, 1 x Fried Chicken Ghostbuster Tender, 1 x Grilled Chicken Peri Peri Tender',\n",
       " '1 x Chilli Cheese Garlic Bread, 1 x Indian Salsa, 1 x Herbed Potato, 1 x Mushroom Pizza',\n",
       " '1 x AAC Saucy Fries, 1 x Garlic Aioli, 1 x Onion Rings',\n",
       " '1 x Bone in Smoky Bbq Grilled Chicken, 1 x Grilled Chicken Smoky BBQ Tender, 1 x Bone in Smoky Bbq Grilled Chicken',\n",
       " '1 x Makhani Paneer Pizza, 1 x Bageecha Pizza, 1 x Mushroom Mozzarella Melt, 1 x Peri Peri Paneer Pizza',\n",
       " '1 x Fried Chicken Kabuli Tender, 1 x Animal Fries',\n",
       " '2 x Murgh Amritsari Garlic Bread, 1 x All About Chicken Pizza',\n",
       " '1 x Chilli Cheese Garlic Bread, 1 x Onion Rings, 1 x Garlic Aioli',\n",
       " '1 x Murgh Amritsari Seekh Pide, 1 x Cheesy Garlic Bread',\n",
       " '2 x Animal Fries ., 1 x Grilled Chicken Smoky BBQ Tender',\n",
       " '1 x Fried Chicken Ghostbuster Tender, 1 x Salted Fries, 1 x Grilled Chicken Peri Peri Tender, 1 x Mayonnaise',\n",
       " '1 x Makhani Paneer Pizza, 1 x Peri Peri Fries, 1 x Indian Salsa',\n",
       " '1 x Just Pepperoni Pizza, 1 x Tipsy Tiger Fresh Lime Soda, 1 x Mutton Seekh Pide, 1 x Makhani Paneer Pizza, 2 x Bageecha Pizza',\n",
       " '1 x Herbed Potato, 1 x Bacon Pepperoni Melt',\n",
       " '1 x Makhani Paneer Pizza, 1 x Malai Gud Pide, 1 x Mushroom Pizza',\n",
       " '1 x Murgh Amritsari Seekh Pide, 1 x Murgh Amritsari Seekh Melt',\n",
       " '1 x All About Chicken Pizza, 1 x Mutton Seekh Pizza, 1 x Pepperoni Garlic Bread',\n",
       " '1 x Fried Chicken Peri Peri Tender, 1 x Grilled Chicken Smoky BBQ Tender, 1 x Grilled Chicken Jamaican Tender, 1 x Fried Chicken Classic Tender, 2 x Bone in Jamaican Grilled Chicken',\n",
       " '1 x Grilled Chicken Jamaican Tender, 1 x Grilled Chicken Angara Tender, 1 x Bone in Jamaican Grilled Chicken, 1 x Bone in Angara Grilled Chicken',\n",
       " '2 x Loaded Jamaican Grilled Chicken Pizza',\n",
       " '1 x Peri Peri Fries, 1 x Herbed Potato, 2 x Harisa Mayo',\n",
       " '1 x Fried Chicken Peri Peri Tender, 2 x Animal Fries',\n",
       " '1 x Peri Peri Crisper Fries, 1 x Bellpepper Onion Pizza',\n",
       " '1 x Mutton Seekh Pizza, 1 x Bageecha Pizza, 1 x Chilli Cheese Garlic Bread',\n",
       " '1 x Murgh Amritsari Seekh Melt, 1 x Peri Peri Grilled Chicken Pizza',\n",
       " '1 x Salted Crisper Fries, 1 x Tipsy Tiger Fresh Lime Soda, 1 x All About Chicken Pizza',\n",
       " '1 x Grilled Chicken Jamaican Tangdi, 1 x Grilled Chicken Jamaican Tender, 1 x Bone in Jamaican Grilled Chicken',\n",
       " '1 x Carribean Jerk Grilled Chicken Quarter, 1 x Carribean Jerk Grilled Chicken Tangdi (4pcs)',\n",
       " '1 x Chilli Cheese Garlic Bread, 2 x Murgh Amritsari Seekh Pide, 1 x Peri Peri Crisper Fries',\n",
       " '1 x Bone in Jamaican Grilled Chicken Quarter + Angara Rice, 1 x Fried Chicken Angara Tender',\n",
       " '1 x Chicken Pepperoni Pizza, 1 x Tripple Cheese Pizza',\n",
       " '1 x Just Pepperoni Pide, 1 x Murgh Amritsari Seekh Pizza, 1 x All About Chicken Pizza, 1 x OG Cheese Pide',\n",
       " '1 x Grilled Chicken Tangdi, 1 x Bacon Pepperoni Melt',\n",
       " '1 x AAC Signature Fries, 1 x Grilled Chicken Jamaican Tender',\n",
       " '1 x Onion Rings, 1 x Makhani Paneer Pizza',\n",
       " '1 x Bageecha Pizza, 2 x Grilled Tangdis, 1 x Chicken Pepperoni Pizza, 1 x Peri Peri Grilled Chicken Pizza, 1 x Murgh Amritsari Seekh Pizza',\n",
       " '1 x Murgh Amritsari Seekh Pide, 1 x Tripple Cheese Pizza',\n",
       " '2 x Murgh Amritsari Seekh Pide, 1 x Mutton Seekh Pide, 1 x Peri Peri Chicken Melt',\n",
       " '1 x Fried Chicken Classic Tender ., 1 x Salted Fries, 1 x Smoky BBQ Sauce',\n",
       " '1 x Indian Masala Fries, 1 x Desi Pepperoni Pizza',\n",
       " '1 x Grilled Chicken Jamaican Tangdi, 1 x Animal Fries',\n",
       " '2 x Bone in Jamaican Grilled Chicken, 1 x Salted Fries',\n",
       " '1 x Margherita Pizza, 1 x All About Chicken Pizza, 1 x Bellpepper Onion Pizza, 1 x Peri Peri Fries',\n",
       " '1 x Margherita Pizza, 1 x Peri Peri Chicken Melt',\n",
       " '1 x Mushroom Mozzarella Melt, 2 x Murgh Amritsari Seekh Pizza',\n",
       " '1 x Bone in Jamaican Grilled Chicken, 1 x AAC Special Slaw, 1 x Bone in Peri Peri Grilled Chicken',\n",
       " '1 x Indian Masala Fries, 1 x Peri Peri Fries, 1 x Malai Gud Pide, 1 x All About Chicken Pizza',\n",
       " '1 x Harisa Mayo, 1 x Just Pepperoni Pizza',\n",
       " '1 x Tipsy Tiger Fresh Lime Soda, 1 x All About Chicken Pizza',\n",
       " '1 x Angara Aloo Tuk Tuki, 1 x Fried Chicken Angara Tender',\n",
       " '1 x Cheesy Garlic Bread, 1 x Chilli Cheese Garlic Bread, 1 x All About Chicken Pizza',\n",
       " '1 x Makhani Paneer Pizza, 1 x Salted Crisper Fries, 1 x Herbed Potato',\n",
       " '2 x Salted Crisper Fries, 2 x Bone in Smoky Bbq Grilled Chicken',\n",
       " '1 x Fried Chicken Ghostbuster Tender, 1 x AAC Grilled Chicken Burger',\n",
       " '1 x All About Chicken Pizza, 2 x Herbed Potato',\n",
       " '1 x Bageecha Pizza, 1 x All About Chicken Pizza, 1 x Chilli Cheese Garlic Bread, 1 x Masala Potato Pide',\n",
       " '1 x Bone in Jamaican Grilled Chicken, 1 x AAC Saucy Fries',\n",
       " '1 x All About Chicken Pizza, 1 x Desi Pepperoni Pizza',\n",
       " '1 x Cheesy Garlic Bread, 1 x Makhani Paneer Pizza, 1 x Bageecha Pizza',\n",
       " '1 x Bageecha Pizza, 1 x Chicken Pepperoni Pizza, 1 x Murgh Amritsari Seekh Pizza, 1 x Mushroom Mozzarella Melt',\n",
       " '1 x Korean Fried Chicken Burger, 1 x Dirty Saucy Chicken Loaded Fries',\n",
       " '1 x Just Pepperoni Pizza, 1 x Murgh Amritsari Seekh Pide',\n",
       " '1 x Carribean Jerk Grilled Chicken Quarter',\n",
       " '1 x All About Chicken Pizza, 1 x Peri Peri Grilled Chicken Pizza, 1 x Makhani Paneer Pizza, 1 x Bageecha Pizza',\n",
       " '2 x Bone in Jamaican Grilled Chicken, 1 x Fried Chicken Peri Peri Tender',\n",
       " '1 x Bageecha Pizza, 1 x Makhani Paneer Pizza, 1 x Peri Peri Paneer Pizza',\n",
       " '2 x Bageecha Pizza, 2 x Chilli Cheese Garlic Bread',\n",
       " '1 x Peri Peri Paneer Pizza, 1 x Tipsy Tiger Fresh Lime Soda, 1 x Peri Peri Crisper Fries',\n",
       " '1 x Bageecha Pizza, 1 x Cheesy Garlic Bread, 1 x Spinach Sumac Pide',\n",
       " '1 x Grilled Chicken Double Dirty Burger, 1 x Dirty Saucy Chicken Loaded Fries',\n",
       " '1 x Bone in Kabuli Grilled Chicken, 1 x Animal Fries',\n",
       " '2 x Indian Masala Cripser Fries',\n",
       " '1 x Angara Paneer Melt, 1 x OG Cheese Pide, 1 x Malai Gud Pide, 1 x Margherita Pizza',\n",
       " '1 x Mayonnaise, 1 x Fried Chicken Peri Peri Tender',\n",
       " '1 x All About Chicken Pizza, 1 x Masala Paneer Pide',\n",
       " '1 x Peri Peri Chicken Melt, 1 x Herbed Potato, 1 x Indian Masala Fries',\n",
       " '1 x Salted Crisper Fries, 1 x Bellpepper Onion Pizza',\n",
       " '1 x Cheesy Garlic Bread, 1 x Margherita Pizza, 1 x Bageecha Pizza, 1 x Herbed Potato, 1 x Harisa Mayo, 1 x Indian Pico De-Gallo',\n",
       " '2 x Bone in Kabuli Grilled Chicken',\n",
       " '1 x Peri Peri Crisper Fries, 1 x Chilli Cheese Garlic Bread, 1 x Harisa Mayo',\n",
       " '1 x Fried Chicken Angara Tender, 1 x Animal Fries',\n",
       " '1 x Cheesy Garlic Bread, 1 x Fried Chicken Tenders',\n",
       " '1 x Grilled Chicken Peri Peri Tender, 1 x Fried Chicken Beast AAC Burger',\n",
       " '1 x AAC Saucy Fries, 2 x Animal Fries',\n",
       " '1 x Bone in Peri Peri Grilled Chicken, 1 x Bone in Jamaican Grilled Chicken, 1 x Herbed Potato',\n",
       " '1 x Angara Paneer Melt, 2 x Murgh Amritsari Seekh Pizza, 1 x Mushroom Mozzarella Melt',\n",
       " '1 x Makhani Paneer Pizza, 1 x Bageecha Pizza, 1 x Indian Masala Cripser Fries, 1 x Chilli Cheese Garlic Bread',\n",
       " '1 x Peri Peri Chicken Melt, 1 x Jamaican Chicken Melt',\n",
       " '1 x Chilli Cheese Garlic Bread, 1 x Murgh Amritsari Seekh Pizza, 1 x Peri Peri Grilled Chicken Pizza, 1 x Onion Rings',\n",
       " '1 x Peri Peri Paneer Melt, 1 x Peri Peri Crisper Fries',\n",
       " '1 x Margherita Pizza',\n",
       " '1 x Margherita Pizza, 1 x Cheesy Garlic Bread, 1 x Peri Peri Paneer Pizza, 1 x Bageecha Pizza',\n",
       " '1 x Margherita Pizza, 1 x Bellpepper Onion Pizza, 1 x Chilli Cheese Garlic Bread',\n",
       " '1 x Grilled Chicken Jamaican Tender, 2 x Fried Chicken Classic Tender, 2 x Kabuli Grilled Paneer (8 pcs), 2 x Herbed Potato',\n",
       " '1 x Just Pepperoni Pizza, 1 x Bellpepper Onion Pizza, 1 x Pepperoni Garlic Bread',\n",
       " '1 x Masala Paneer Pide, 1 x Mutton Seekh Pide',\n",
       " '1 x Bageecha Pizza, 1 x Indian Salsa',\n",
       " '1 x Grilled Chicken Dirty Burger, 1 x Dirty Indian Masala Crisper Fries',\n",
       " '1 x Tipsy Tiger Fresh Lime Soda, 1 x Peri Peri Paneer Pizza, 1 x Mayonnaise',\n",
       " '2 x All About Chicken Pizza, 2 x Peri Peri Paneer Pizza, 2 x Cheesy Garlic Bread',\n",
       " '1 x Herbed Potato, 1 x Garlic Aioli',\n",
       " '1 x Mushroom Mozzarella Melt, 1 x Herbed Potato',\n",
       " '1 x Murgh Amritsari Seekh Pizza, 1 x Margherita Pizza',\n",
       " '1 x Angara Rice, 1 x Grilled Chicken Smoky BBQ Tender, 1 x Bone in Kabuli Grilled Chicken',\n",
       " '1 x Jamaican Chicken Melt, 1 x Makhani Paneer Pizza, 1 x Chilli Cheese Garlic Bread',\n",
       " '2 x Masala Paneer Pide, 2 x Salted Fries',\n",
       " '1 x Grilled Chicken Tangdi Jamaican + Salted Krispers, 1 x Fried Chicken Peri Peri Tenders + Peri Peri Fries, 1 x Fried Chicken Peri Peri Tender, 1 x Bone in Kabuli Grilled Chicken',\n",
       " '1 x Makhani Paneer Pizza, 1 x Herbed Potato, 1 x Masala Potato Pide',\n",
       " '2 x Chilli Cheese Garlic Bread, 1 x Garlic Aioli',\n",
       " '1 x Indian Masala Fries, 1 x Peri Peri Paneer Pizza',\n",
       " '1 x Makhani Paneer Pizza, 1 x All About Chicken Pizza, 1 x Malai Gud Pide, 1 x Chilli Cheese Garlic Bread',\n",
       " '3 x Grilled Chicken Jamaican Tender',\n",
       " '1 x Fried Chicken Angara Tender, 1 x AAC Fried Chicken Burger',\n",
       " '1 x Fried Chicken Peri Peri Tender, 1 x Peri Peri Crisper Fries',\n",
       " '1 x Angara Grilled Paneer (8 pcs), 1 x Red Rice',\n",
       " '1 x Fried Chicken Tenders, 1 x Desi Chicken Pepperoni Pizza',\n",
       " '1 x Bageecha Pizza, 1 x Just Pepperoni Pizza, 1 x Cheesy Garlic Bread',\n",
       " '1 x Fried Chicken Beast AAC Burger, 1 x Fried Chicken Ghostbuster Tender, 1 x Animal Fries',\n",
       " '1 x Masala Paneer Pide, 1 x Margherita Pizza',\n",
       " '1 x Just Pepperoni Pide, 1 x Murgh Amritsari Seekh Pizza, 1 x Bellpepper Onion Pizza',\n",
       " '1 x Just Pepperoni Pizza, 1 x Peri Peri Crisper Fries',\n",
       " '1 x Fried Chicken Peri Peri Tender, 1 x Animal Fries',\n",
       " '1 x Masala Paneer Pide, 1 x Makhani Paneer Pizza, 1 x Angara Paneer Melt',\n",
       " '1 x Mushroom Pizza, 1 x Makhani Paneer Pizza',\n",
       " '1 x Fried Chicken Classic Tender .',\n",
       " '1 x Pepperoni Garlic Bread, 1 x Loaded Korean Grilled Chicken Pizza, 1 x Cheesy Garlic Bread, 1 x Loaded Jamaican Grilled Chicken Pizza, 1 x Bageecha Pizza',\n",
       " '1 x Indian Masala Fries, 1 x Grilled Chicken Tangdi, 1 x Salted Fries, 2 x Murgh Amritsari Seekh Pizza, 2 x Garlic Aioli, 1 x Grilled Chicken Tangdi, 1 x Harissa Mayo, 1 x Peri Peri Fries',\n",
       " '1 x Angara Paneer Melt, 1 x Peri Peri Paneer Pizza, 1 x Makhani Paneer Pizza, 1 x Bellpepper Onion Pizza',\n",
       " '1 x Bone in Kabuli Grilled Chicken, 2 x Garlic Aioli, 1 x Bone in Jamaican Grilled Chicken',\n",
       " '2 x Bone in Smoky Bbq Grilled Chicken, 2 x Onion Bombs',\n",
       " '1 x Grilled Chicken Jamaican Tender, 1 x Garlic Aioli, 1 x Jamaican Sauce',\n",
       " '2 x Murgh Amritsari Garlic Bread',\n",
       " '1 x Peri Peri Crisper Fries, 2 x Chilli Cheese Garlic Bread, 2 x Cheesy Garlic Bread',\n",
       " '1 x Mutton Seekh Pizza, 1 x Chicken Pepperoni Pizza, 1 x Murgh Amritsari Seekh Pizza',\n",
       " '1 x Jamaican Chicken Melt, 1 x Chicken Pepperoni Pizza',\n",
       " '1 x Tripple Cheese Pizza, 1 x Indian Masala Cripser Fries',\n",
       " '1 x Bageecha Pizza, 1 x Margherita Pizza',\n",
       " '1 x Murgh Amritsari Seekh Pide, 1 x Jamaican Chicken Melt, 1 x Makhani Paneer Pizza, 1 x Murgh Amritsari Garlic Bread',\n",
       " '1 x Mutton Seekh Pizza, 1 x Pepperoni Garlic Bread, 1 x Peri Peri Chicken Melt',\n",
       " '1 x Jamaican Chicken Melt, 1 x All About Chicken Pizza',\n",
       " '1 x Chilli Cheese Garlic Bread, 1 x Peri Peri Fries, 1 x Peri Peri Grilled Chicken Pizza, 1 x Murgh Amritsari Seekh Pizza',\n",
       " '1 x Jamaican Chicken Melt, 1 x Bellpepper Onion Pizza',\n",
       " '2 x Animal Fries, 1 x Bone in Jamaican Grilled Chicken, 1 x Fried Chicken Classic Tender',\n",
       " '1 x Chilli Cheese Garlic Bread, 2 x Margherita Pizza, 2 x Bageecha Pizza',\n",
       " '1 x Desi Pepperoni Pizza, 1 x Harisa Mayo',\n",
       " '1 x Angara Paneer Melt, 1 x Bageecha Pizza, 1 x Chilli Cheese Garlic Bread',\n",
       " '1 x Desi Chicken Pepperoni Pizza, 1 x Murgh Amritsari Garlic Bread, 1 x All About Chicken Pizza',\n",
       " '1 x All About Chicken Pizza, 1 x Bageecha Pizza',\n",
       " '1 x Bageecha Pizza, 1 x Mushroom Mozzarella Melt, 1 x Murgh Amritsari Seekh Melt, 2 x Onion Rings, 1 x Mutton Seekh Pide',\n",
       " '1 x Dirty Saucy Fries, 1 x Peri Peri Fries .',\n",
       " '1 x Herbed Potato, 1 x Peri Peri Paneer Pizza',\n",
       " '1 x Cheesy Garlic Bread, 1 x Brocolli Onion Pizza',\n",
       " '1 x Mutton Seekh Pizza, 1 x Murgh Amritsari Seekh Pizza, 1 x All About Chicken Pizza, 1 x Desi Pepperoni Pizza',\n",
       " '1 x Salted Fries, 1 x Bone in Jamaican Grilled Chicken Quarter + Angara Rice',\n",
       " '1 x Jamaican Chicken Melt, 1 x All About Chicken Pizza, 1 x Herbed Potato',\n",
       " '1 x Grilled Chicken Jamaican Tangdi, 1 x Fried Chicken Angara Tender, 1 x AAC Special Slaw',\n",
       " '1 x Peri Peri Paneer Melt, 1 x Chilli Cheese Garlic Bread, 1 x Cheesy Garlic Bread, 1 x Makhani Paneer Pizza',\n",
       " '2 x India Dynamite sauce, 2 x Bone in Angara Grilled Chicken, 1 x AAC Special Slaw',\n",
       " '1 x Fried Chicken Ghostbuster Tender, 1 x Grilled Chicken Peri Peri Tender, 1 x Mayonnaise',\n",
       " '1 x Mutton Seekh Pide, 1 x Mutton Seekh Pide',\n",
       " '2 x Angara Rice, 2 x Bone in Jamaican Grilled Chicken',\n",
       " '1 x Makhani Paneer Pizza, 1 x Peri Peri Paneer Pizza, 1 x Angara Paneer Melt, 1 x Mushroom Mozzarella Melt',\n",
       " '1 x Mushroom Pizza, 1 x Cheesy Garlic Bread, 1 x Just Pepperoni Pizza',\n",
       " '1 x Bone in Smoky Bbq Grilled Chicken, 1 x Bone in Jamaican Grilled Chicken, 1 x Bone in Peri Peri Grilled Chicken, 1 x Bone in Angara Grilled Chicken',\n",
       " '1 x All About Chicken Pizza, 1 x Peri Peri Crisper Fries, 1 x Masala Paneer Pide, 1 x Bageecha Pizza',\n",
       " '1 x Masala Potato Pide, 1 x Bageecha Pizza, 1 x Spinach Sumac Pide, 1 x Peri Peri Paneer Pizza',\n",
       " '1 x Fried Chicken Peri Peri Tender, 1 x Grilled Chicken Jamaican Tender, 1 x Angara Aloo Tuk Tuki',\n",
       " '1 x Grilled Chicken Angara Tender, 1 x Animal Fries, 1 x Fried Chicken Peri Peri Tender, 1 x Fried Chicken Kabuli Tender',\n",
       " '1 x Iced Green Tea - Peach, 1 x Murgh Amritsari Garlic Bread',\n",
       " '1 x Grilled Chicken Peri Peri Tender, 1 x Fried Chicken Angara Tender, 1 x Grilled Chicken Jamaican Tangdi',\n",
       " '2 x Mutton Seekh Pide, 2 x Garlic Aioli, 2 x Peri Peri Crisper Fries',\n",
       " '1 x Animal Fries ., 1 x Grilled Chicken Smoky BBQ Tender',\n",
       " '1 x Masala Omelette Pide, 1 x Bageecha Pizza',\n",
       " '1 x Bageecha Pizza, 1 x Mutton Seekh Pizza',\n",
       " '1 x Fried Chicken Angara Tender, 2 x Bone in Jamaican Grilled Chicken, 1 x Animal Fries',\n",
       " '1 x Grilled Chicken Jamaican Tangdi, 1 x Grilled Chicken Peri Peri Tangdi',\n",
       " '1 x Makhani Paneer Pizza, 1 x Spinach Sumac Pide, 1 x Peri Peri Crisper Fries',\n",
       " '1 x Bone in Jamaican Grilled Chicken, 1 x AAC Signature Crisper Fries',\n",
       " '1 x Bone in Jamaican Grilled Chicken, 1 x Grilled Chicken Peri Peri Tender, 2 x Grilled Chicken Ghostbuster Tangdi',\n",
       " '1 x Tripple Cheese Pizza, 1 x Angara Paneer Melt',\n",
       " '1 x Chilli Cheese Garlic Bread, 1 x Pepperoni Garlic Bread, 1 x Mutton Seekh Pizza, 1 x Bageecha Pizza',\n",
       " '2 x AAC Signature Fries, 2 x Garlic Aioli',\n",
       " ...}"
      ]
     },
     "execution_count": 303,
     "metadata": {},
     "output_type": "execute_result"
    }
   ],
   "source": [
    "set(df_encoded['items_in_order'])"
   ]
  },
  {
   "cell_type": "code",
   "execution_count": 443,
   "metadata": {},
   "outputs": [
    {
     "name": "stdout",
     "output_type": "stream",
     "text": [
      "21321\n"
     ]
    },
    {
     "data": {
      "text/html": [
       "<div><style>\n",
       ".dataframe > thead > tr,\n",
       ".dataframe > tbody > tr {\n",
       "  text-align: right;\n",
       "  white-space: pre-wrap;\n",
       "}\n",
       "</style>\n",
       "<small>shape: (5, 33)</small><table border=\"1\" class=\"dataframe\"><thead><tr><th>restaurant_id</th><th>restaurant_name</th><th>subzone</th><th>order_id</th><th>order_placed_at</th><th>order_status</th><th>distance</th><th>items_in_order</th><th>instructions</th><th>discount_construct</th><th>bill_subtotal</th><th>packaging_charges</th><th>restaurant_discount_promo</th><th>restaurant_discount_others</th><th>gold_discount</th><th>brand_pack_discount</th><th>total</th><th>rating</th><th>review</th><th>cancellation_rejection_reason</th><th>restaurant_compensation_cancellation</th><th>restaurant_penalty_rejection</th><th>kpt_duration_minutes</th><th>rider_wait_time_minutes</th><th>order_ready_marked</th><th>customer_complaint_tag</th><th>customer_id</th><th>distance_km</th><th>items_in_order_list</th><th>items_in_order_transformed</th><th>distinct_items</th><th>distinct_amount_items</th><th>total_amount_items</th></tr><tr><td>str</td><td>str</td><td>str</td><td>str</td><td>datetime[μs]</td><td>str</td><td>str</td><td>str</td><td>str</td><td>str</td><td>f64</td><td>f64</td><td>f64</td><td>f64</td><td>f64</td><td>f64</td><td>f64</td><td>f64</td><td>str</td><td>str</td><td>f64</td><td>f64</td><td>f64</td><td>f64</td><td>str</td><td>str</td><td>str</td><td>f32</td><td>list[str]</td><td>list[list[str]]</td><td>list[str]</td><td>u32</td><td>i32</td></tr></thead><tbody><tr><td>&quot;20320607&quot;</td><td>&quot;Swaad&quot;</td><td>&quot;Sector 4&quot;</td><td>&quot;6168884918&quot;</td><td>2024-09-10 23:38:00</td><td>&quot;Delivered&quot;</td><td>&quot;3km&quot;</td><td>&quot;1 x Grilled Chicken Jamaican T…</td><td>null</td><td>&quot;40% off upto Rs.80&quot;</td><td>715.0</td><td>31.75</td><td>80.0</td><td>0.0</td><td>0.0</td><td>0.0</td><td>666.75</td><td>null</td><td>null</td><td>null</td><td>null</td><td>null</td><td>18.35</td><td>11.6</td><td>&quot;Correctly&quot;</td><td>null</td><td>&quot;5d6c2b96db963098bc69768bea504c…</td><td>3.0</td><td>[&quot;1 x Grilled Chicken Jamaican Tender&quot;, &quot; 1 x Grilled Chicken Peri Peri Tangdi&quot;]</td><td>[[&quot;1&quot;, &quot;Grilled Chicken Jamaican Tender&quot;], [&quot;1&quot;, &quot;Grilled Chicken Peri Peri Tangdi&quot;]]</td><td>[&quot;Grilled Chicken Peri Peri Tangdi&quot;, &quot;Grilled Chicken Jamaican Tender&quot;]</td><td>2</td><td>2</td></tr><tr><td>&quot;20320607&quot;</td><td>&quot;Swaad&quot;</td><td>&quot;Sector 4&quot;</td><td>&quot;6170707559&quot;</td><td>2024-09-10 23:34:00</td><td>&quot;Delivered&quot;</td><td>&quot;2km&quot;</td><td>&quot;1 x Peri Peri Fries, 1 x Fried…</td><td>null</td><td>&quot;Flat Rs.175 off&quot;</td><td>1179.0</td><td>50.2</td><td>175.0</td><td>0.0</td><td>0.0</td><td>0.0</td><td>1054.2</td><td>null</td><td>null</td><td>null</td><td>null</td><td>null</td><td>16.95</td><td>3.6</td><td>&quot;Correctly&quot;</td><td>null</td><td>&quot;0781815deb4a10a574e9fee4fa0b86…</td><td>2.0</td><td>[&quot;1 x Peri Peri Fries&quot;, &quot; 1 x Fried Chicken Angara Tender&quot;, &quot; 1 x Grilled Chicken Angara Tender&quot;]</td><td>[[&quot;1&quot;, &quot;Peri Peri Fries&quot;], [&quot;1&quot;, &quot;Fried Chicken Angara Tender&quot;], [&quot;1&quot;, &quot;Grilled Chicken Angara Tender&quot;]]</td><td>[&quot;Fried Chicken Angara Tender&quot;, &quot;Peri Peri Fries&quot;, &quot;Grilled Chicken Angara Tender&quot;]</td><td>3</td><td>3</td></tr><tr><td>&quot;20320607&quot;</td><td>&quot;Swaad&quot;</td><td>&quot;Sector 4&quot;</td><td>&quot;6169375019&quot;</td><td>2024-09-10 15:52:00</td><td>&quot;Delivered&quot;</td><td>&quot;&lt;1km&quot;</td><td>&quot;1 x Bone in Peri Peri Grilled …</td><td>null</td><td>&quot;40% off upto Rs.80&quot;</td><td>310.0</td><td>11.5</td><td>80.0</td><td>0.0</td><td>0.0</td><td>0.0</td><td>241.5</td><td>null</td><td>null</td><td>null</td><td>null</td><td>null</td><td>14.05</td><td>12.2</td><td>&quot;Correctly&quot;</td><td>null</td><td>&quot;f93362f5ce5382657482d164e36818…</td><td>0.5</td><td>[&quot;1 x Bone in Peri Peri Grilled Chicken&quot;]</td><td>[[&quot;1&quot;, &quot;Bone in Peri Peri Grilled Chicken&quot;]]</td><td>[&quot;Bone in Peri Peri Grilled Chicken&quot;]</td><td>1</td><td>1</td></tr><tr><td>&quot;20320607&quot;</td><td>&quot;Swaad&quot;</td><td>&quot;Sector 4&quot;</td><td>&quot;6151677434&quot;</td><td>2024-09-10 15:45:00</td><td>&quot;Delivered&quot;</td><td>&quot;2km&quot;</td><td>&quot;1 x Fried Chicken Ghostbuster …</td><td>null</td><td>&quot;40% off upto Rs.80&quot;</td><td>620.0</td><td>27.0</td><td>80.0</td><td>0.0</td><td>0.0</td><td>0.0</td><td>567.0</td><td>4.0</td><td>null</td><td>null</td><td>null</td><td>null</td><td>19.0</td><td>3.3</td><td>&quot;Correctly&quot;</td><td>null</td><td>&quot;1ed226d1b8a5f7acee12fc1d667655…</td><td>2.0</td><td>[&quot;1 x Fried Chicken Ghostbuster Tender&quot;, &quot; 1 x Angara Grilled Paneer (8 pcs)&quot;]</td><td>[[&quot;1&quot;, &quot;Fried Chicken Ghostbuster Tender&quot;], [&quot;1&quot;, &quot;Angara Grilled Paneer (8 pcs)&quot;]]</td><td>[&quot;Fried Chicken Ghostbuster Tender&quot;, &quot;Angara Grilled Paneer (8 pcs)&quot;]</td><td>2</td><td>2</td></tr><tr><td>&quot;20320607&quot;</td><td>&quot;Swaad&quot;</td><td>&quot;Sector 4&quot;</td><td>&quot;6167540897&quot;</td><td>2024-09-10 15:04:00</td><td>&quot;Delivered&quot;</td><td>&quot;2km&quot;</td><td>&quot;1 x Peri Peri Krispers, 1 x Fr…</td><td>null</td><td>&quot;40% off upto Rs.80&quot;</td><td>584.0</td><td>25.2</td><td>80.0</td><td>0.0</td><td>0.0</td><td>0.0</td><td>529.2</td><td>null</td><td>null</td><td>null</td><td>null</td><td>null</td><td>15.97</td><td>1.0</td><td>&quot;Correctly&quot;</td><td>null</td><td>&quot;d21a2ac6ea06b31cc3288ab20c4ef2…</td><td>2.0</td><td>[&quot;1 x Peri Peri Krispers&quot;, &quot; 1 x Fried Chicken Angara Tender&quot;]</td><td>[[&quot;1&quot;, &quot;Peri Peri Krispers&quot;], [&quot;1&quot;, &quot;Fried Chicken Angara Tender&quot;]]</td><td>[&quot;Peri Peri Krispers&quot;, &quot;Fried Chicken Angara Tender&quot;]</td><td>2</td><td>2</td></tr></tbody></table></div>"
      ],
      "text/plain": [
       "shape: (5, 33)\n",
       "┌─────┬─────┬─────┬─────┬─────┬─────┬─────┬─────┬─────┬─────┬─────┬─────┬─────┬─────┬─────┬─────┬─────┬─────┬─────┬─────┬─────┬─────┬─────┬─────┬─────┬─────┬─────┬─────┬─────┬─────┬─────┬─────┬─────┐\n",
       "│ res ┆ res ┆ sub ┆ ord ┆ ord ┆ ord ┆ dis ┆ ite ┆ ins ┆ dis ┆ bil ┆ pac ┆ res ┆ res ┆ gol ┆ bra ┆ tot ┆ rat ┆ rev ┆ can ┆ res ┆ res ┆ kpt ┆ rid ┆ ord ┆ cus ┆ cus ┆ dis ┆ ite ┆ ite ┆ dis ┆ dis ┆ tot │\n",
       "│ tau ┆ tau ┆ zon ┆ er_ ┆ er_ ┆ er_ ┆ tan ┆ ms_ ┆ tru ┆ cou ┆ l_s ┆ kag ┆ tau ┆ tau ┆ d_d ┆ nd_ ┆ al  ┆ ing ┆ iew ┆ cel ┆ tau ┆ tau ┆ _du ┆ er_ ┆ er_ ┆ tom ┆ tom ┆ tan ┆ ms_ ┆ ms_ ┆ tin ┆ tin ┆ al_ │\n",
       "│ ran ┆ ran ┆ e   ┆ id  ┆ pla ┆ sta ┆ ce  ┆ in_ ┆ cti ┆ nt_ ┆ ubt ┆ ing ┆ ran ┆ ran ┆ isc ┆ pac ┆ --- ┆ --- ┆ --- ┆ lat ┆ ran ┆ ran ┆ rat ┆ wai ┆ rea ┆ er_ ┆ er_ ┆ ce_ ┆ in_ ┆ in_ ┆ ct_ ┆ ct_ ┆ amo │\n",
       "│ t_i ┆ t_n ┆ --- ┆ --- ┆ ced ┆ tus ┆ --- ┆ ord ┆ ons ┆ con ┆ ota ┆ _ch ┆ t_d ┆ t_d ┆ oun ┆ k_d ┆ f64 ┆ f64 ┆ str ┆ ion ┆ t_c ┆ t_p ┆ ion ┆ t_t ┆ dy_ ┆ com ┆ id  ┆ km  ┆ ord ┆ ord ┆ ite ┆ amo ┆ unt │\n",
       "│ d   ┆ ame ┆ str ┆ str ┆ _at ┆ --- ┆ str ┆ er  ┆ --- ┆ str ┆ l   ┆ arg ┆ isc ┆ isc ┆ t   ┆ isc ┆     ┆     ┆     ┆ _re ┆ omp ┆ ena ┆ _mi ┆ ime ┆ mar ┆ pla ┆ --- ┆ --- ┆ er_ ┆ er_ ┆ ms  ┆ unt ┆ _it │\n",
       "│ --- ┆ --- ┆     ┆     ┆ --- ┆ str ┆     ┆ --- ┆ str ┆ uct ┆ --- ┆ es  ┆ oun ┆ oun ┆ --- ┆ oun ┆     ┆     ┆     ┆ jec ┆ ens ┆ lty ┆ nut ┆ _mi ┆ ked ┆ int ┆ str ┆ f32 ┆ lis ┆ tra ┆ --- ┆ _it ┆ ems │\n",
       "│ str ┆ str ┆     ┆     ┆ dat ┆     ┆     ┆ str ┆     ┆ --- ┆ f64 ┆ --- ┆ t_p ┆ t_o ┆ f64 ┆ t   ┆     ┆     ┆     ┆ tio ┆ ati ┆ _re ┆ es  ┆ nut ┆ --- ┆ _ta ┆     ┆     ┆ t   ┆ nsf ┆ lis ┆ ems ┆ --- │\n",
       "│     ┆     ┆     ┆     ┆ eti ┆     ┆     ┆     ┆     ┆ str ┆     ┆ f64 ┆ rom ┆ the ┆     ┆ --- ┆     ┆     ┆     ┆ n_r ┆ on_ ┆ jec ┆ --- ┆ es  ┆ str ┆ g   ┆     ┆     ┆ --- ┆ orm ┆ t[s ┆ --- ┆ i32 │\n",
       "│     ┆     ┆     ┆     ┆ me[ ┆     ┆     ┆     ┆     ┆     ┆     ┆     ┆ o   ┆ rs  ┆     ┆ f64 ┆     ┆     ┆     ┆ eas ┆ can ┆ tio ┆ f64 ┆ --- ┆     ┆ --- ┆     ┆     ┆ lis ┆ ed  ┆ tr] ┆ u32 ┆     │\n",
       "│     ┆     ┆     ┆     ┆ μs] ┆     ┆     ┆     ┆     ┆     ┆     ┆     ┆ --- ┆ --- ┆     ┆     ┆     ┆     ┆     ┆ on  ┆ cel ┆ n   ┆     ┆ f64 ┆     ┆ str ┆     ┆     ┆ t[s ┆ --- ┆     ┆     ┆     │\n",
       "│     ┆     ┆     ┆     ┆     ┆     ┆     ┆     ┆     ┆     ┆     ┆     ┆ f64 ┆ f64 ┆     ┆     ┆     ┆     ┆     ┆ --- ┆ …   ┆ --- ┆     ┆     ┆     ┆     ┆     ┆     ┆ tr] ┆ lis ┆     ┆     ┆     │\n",
       "│     ┆     ┆     ┆     ┆     ┆     ┆     ┆     ┆     ┆     ┆     ┆     ┆     ┆     ┆     ┆     ┆     ┆     ┆     ┆ str ┆ --- ┆ f64 ┆     ┆     ┆     ┆     ┆     ┆     ┆     ┆ t[l ┆     ┆     ┆     │\n",
       "│     ┆     ┆     ┆     ┆     ┆     ┆     ┆     ┆     ┆     ┆     ┆     ┆     ┆     ┆     ┆     ┆     ┆     ┆     ┆     ┆ f64 ┆     ┆     ┆     ┆     ┆     ┆     ┆     ┆     ┆ ist ┆     ┆     ┆     │\n",
       "│     ┆     ┆     ┆     ┆     ┆     ┆     ┆     ┆     ┆     ┆     ┆     ┆     ┆     ┆     ┆     ┆     ┆     ┆     ┆     ┆     ┆     ┆     ┆     ┆     ┆     ┆     ┆     ┆     ┆ [st ┆     ┆     ┆     │\n",
       "│     ┆     ┆     ┆     ┆     ┆     ┆     ┆     ┆     ┆     ┆     ┆     ┆     ┆     ┆     ┆     ┆     ┆     ┆     ┆     ┆     ┆     ┆     ┆     ┆     ┆     ┆     ┆     ┆     ┆ r]] ┆     ┆     ┆     │\n",
       "╞═════╪═════╪═════╪═════╪═════╪═════╪═════╪═════╪═════╪═════╪═════╪═════╪═════╪═════╪═════╪═════╪═════╪═════╪═════╪═════╪═════╪═════╪═════╪═════╪═════╪═════╪═════╪═════╪═════╪═════╪═════╪═════╪═════╡\n",
       "│ 203 ┆ Swa ┆ Sec ┆ 616 ┆ 202 ┆ Del ┆ 3km ┆ 1 x ┆ nul ┆ 40% ┆ 715 ┆ 31. ┆ 80. ┆ 0.0 ┆ 0.0 ┆ 0.0 ┆ 666 ┆ nul ┆ nul ┆ nul ┆ nul ┆ nul ┆ 18. ┆ 11. ┆ Cor ┆ nul ┆ 5d6 ┆ 3.0 ┆ [\"1 ┆ [[\" ┆ [\"G ┆ 2   ┆ 2   │\n",
       "│ 206 ┆ ad  ┆ tor ┆ 888 ┆ 4-0 ┆ ive ┆     ┆ Gri ┆ l   ┆ off ┆ .0  ┆ 75  ┆ 0   ┆     ┆     ┆     ┆ .75 ┆ l   ┆ l   ┆ l   ┆ l   ┆ l   ┆ 35  ┆ 6   ┆ rec ┆ l   ┆ c2b ┆     ┆ x   ┆ 1\", ┆ ril ┆     ┆     │\n",
       "│ 07  ┆     ┆ 4   ┆ 491 ┆ 9-1 ┆ red ┆     ┆ lle ┆     ┆ upt ┆     ┆     ┆     ┆     ┆     ┆     ┆     ┆     ┆     ┆     ┆     ┆     ┆     ┆     ┆ tly ┆     ┆ 96d ┆     ┆ Gri ┆ \"Gr ┆ led ┆     ┆     │\n",
       "│     ┆     ┆     ┆ 8   ┆ 0   ┆     ┆     ┆ d   ┆     ┆ o   ┆     ┆     ┆     ┆     ┆     ┆     ┆     ┆     ┆     ┆     ┆     ┆     ┆     ┆     ┆     ┆     ┆ b96 ┆     ┆ lle ┆ ill ┆ Chi ┆     ┆     │\n",
       "│     ┆     ┆     ┆     ┆ 23: ┆     ┆     ┆ Chi ┆     ┆ Rs. ┆     ┆     ┆     ┆     ┆     ┆     ┆     ┆     ┆     ┆     ┆     ┆     ┆     ┆     ┆     ┆     ┆ 309 ┆     ┆ d   ┆ ed  ┆ cke ┆     ┆     │\n",
       "│     ┆     ┆     ┆     ┆ 38: ┆     ┆     ┆ cke ┆     ┆ 80  ┆     ┆     ┆     ┆     ┆     ┆     ┆     ┆     ┆     ┆     ┆     ┆     ┆     ┆     ┆     ┆     ┆ 8bc ┆     ┆ Chi ┆ Chi ┆ n   ┆     ┆     │\n",
       "│     ┆     ┆     ┆     ┆ 00  ┆     ┆     ┆ n   ┆     ┆     ┆     ┆     ┆     ┆     ┆     ┆     ┆     ┆     ┆     ┆     ┆     ┆     ┆     ┆     ┆     ┆     ┆ 697 ┆     ┆ cke ┆ cke ┆ Per ┆     ┆     │\n",
       "│     ┆     ┆     ┆     ┆     ┆     ┆     ┆ Jam ┆     ┆     ┆     ┆     ┆     ┆     ┆     ┆     ┆     ┆     ┆     ┆     ┆     ┆     ┆     ┆     ┆     ┆     ┆ 68b ┆     ┆ n   ┆ n   ┆ i   ┆     ┆     │\n",
       "│     ┆     ┆     ┆     ┆     ┆     ┆     ┆ aic ┆     ┆     ┆     ┆     ┆     ┆     ┆     ┆     ┆     ┆     ┆     ┆     ┆     ┆     ┆     ┆     ┆     ┆     ┆ ea5 ┆     ┆ Jam ┆ Jam ┆ Per ┆     ┆     │\n",
       "│     ┆     ┆     ┆     ┆     ┆     ┆     ┆ an  ┆     ┆     ┆     ┆     ┆     ┆     ┆     ┆     ┆     ┆     ┆     ┆     ┆     ┆     ┆     ┆     ┆     ┆     ┆ 04c ┆     ┆ aic ┆ aic ┆ i   ┆     ┆     │\n",
       "│     ┆     ┆     ┆     ┆     ┆     ┆     ┆ T…  ┆     ┆     ┆     ┆     ┆     ┆     ┆     ┆     ┆     ┆     ┆     ┆     ┆     ┆     ┆     ┆     ┆     ┆     ┆ …   ┆     ┆ an… ┆ …   ┆ Ta… ┆     ┆     │\n",
       "│ 203 ┆ Swa ┆ Sec ┆ 617 ┆ 202 ┆ Del ┆ 2km ┆ 1 x ┆ nul ┆ Fla ┆ 117 ┆ 50. ┆ 175 ┆ 0.0 ┆ 0.0 ┆ 0.0 ┆ 105 ┆ nul ┆ nul ┆ nul ┆ nul ┆ nul ┆ 16. ┆ 3.6 ┆ Cor ┆ nul ┆ 078 ┆ 2.0 ┆ [\"1 ┆ [[\" ┆ [\"F ┆ 3   ┆ 3   │\n",
       "│ 206 ┆ ad  ┆ tor ┆ 070 ┆ 4-0 ┆ ive ┆     ┆ Per ┆ l   ┆ t   ┆ 9.0 ┆ 2   ┆ .0  ┆     ┆     ┆     ┆ 4.2 ┆ l   ┆ l   ┆ l   ┆ l   ┆ l   ┆ 95  ┆     ┆ rec ┆ l   ┆ 181 ┆     ┆ x   ┆ 1\", ┆ rie ┆     ┆     │\n",
       "│ 07  ┆     ┆ 4   ┆ 755 ┆ 9-1 ┆ red ┆     ┆ i   ┆     ┆ Rs. ┆     ┆     ┆     ┆     ┆     ┆     ┆     ┆     ┆     ┆     ┆     ┆     ┆     ┆     ┆ tly ┆     ┆ 5de ┆     ┆ Per ┆ \"Pe ┆ d   ┆     ┆     │\n",
       "│     ┆     ┆     ┆ 9   ┆ 0   ┆     ┆     ┆ Per ┆     ┆ 175 ┆     ┆     ┆     ┆     ┆     ┆     ┆     ┆     ┆     ┆     ┆     ┆     ┆     ┆     ┆     ┆     ┆ b4a ┆     ┆ i   ┆ ri  ┆ Chi ┆     ┆     │\n",
       "│     ┆     ┆     ┆     ┆ 23: ┆     ┆     ┆ i   ┆     ┆ off ┆     ┆     ┆     ┆     ┆     ┆     ┆     ┆     ┆     ┆     ┆     ┆     ┆     ┆     ┆     ┆     ┆ 10a ┆     ┆ Per ┆ Per ┆ cke ┆     ┆     │\n",
       "│     ┆     ┆     ┆     ┆ 34: ┆     ┆     ┆ Fri ┆     ┆     ┆     ┆     ┆     ┆     ┆     ┆     ┆     ┆     ┆     ┆     ┆     ┆     ┆     ┆     ┆     ┆     ┆ 574 ┆     ┆ i   ┆ i   ┆ n   ┆     ┆     │\n",
       "│     ┆     ┆     ┆     ┆ 00  ┆     ┆     ┆ es, ┆     ┆     ┆     ┆     ┆     ┆     ┆     ┆     ┆     ┆     ┆     ┆     ┆     ┆     ┆     ┆     ┆     ┆     ┆ e9f ┆     ┆ Fri ┆ Fri ┆ Ang ┆     ┆     │\n",
       "│     ┆     ┆     ┆     ┆     ┆     ┆     ┆ 1 x ┆     ┆     ┆     ┆     ┆     ┆     ┆     ┆     ┆     ┆     ┆     ┆     ┆     ┆     ┆     ┆     ┆     ┆     ┆ ee4 ┆     ┆ es\" ┆ es\" ┆ ara ┆     ┆     │\n",
       "│     ┆     ┆     ┆     ┆     ┆     ┆     ┆ Fri ┆     ┆     ┆     ┆     ┆     ┆     ┆     ┆     ┆     ┆     ┆     ┆     ┆     ┆     ┆     ┆     ┆     ┆     ┆ fa0 ┆     ┆ , \" ┆ ],  ┆ Ten ┆     ┆     │\n",
       "│     ┆     ┆     ┆     ┆     ┆     ┆     ┆ ed… ┆     ┆     ┆     ┆     ┆     ┆     ┆     ┆     ┆     ┆     ┆     ┆     ┆     ┆     ┆     ┆     ┆     ┆     ┆ b86 ┆     ┆ 1 x ┆ [\"1 ┆ der ┆     ┆     │\n",
       "│     ┆     ┆     ┆     ┆     ┆     ┆     ┆     ┆     ┆     ┆     ┆     ┆     ┆     ┆     ┆     ┆     ┆     ┆     ┆     ┆     ┆     ┆     ┆     ┆     ┆     ┆ …   ┆     ┆ …   ┆ …   ┆ \"…  ┆     ┆     │\n",
       "│ 203 ┆ Swa ┆ Sec ┆ 616 ┆ 202 ┆ Del ┆ <1k ┆ 1 x ┆ nul ┆ 40% ┆ 310 ┆ 11. ┆ 80. ┆ 0.0 ┆ 0.0 ┆ 0.0 ┆ 241 ┆ nul ┆ nul ┆ nul ┆ nul ┆ nul ┆ 14. ┆ 12. ┆ Cor ┆ nul ┆ f93 ┆ 0.5 ┆ [\"1 ┆ [[\" ┆ [\"B ┆ 1   ┆ 1   │\n",
       "│ 206 ┆ ad  ┆ tor ┆ 937 ┆ 4-0 ┆ ive ┆ m   ┆ Bon ┆ l   ┆ off ┆ .0  ┆ 5   ┆ 0   ┆     ┆     ┆     ┆ .5  ┆ l   ┆ l   ┆ l   ┆ l   ┆ l   ┆ 05  ┆ 2   ┆ rec ┆ l   ┆ 362 ┆     ┆ x   ┆ 1\", ┆ one ┆     ┆     │\n",
       "│ 07  ┆     ┆ 4   ┆ 501 ┆ 9-1 ┆ red ┆     ┆ e   ┆     ┆ upt ┆     ┆     ┆     ┆     ┆     ┆     ┆     ┆     ┆     ┆     ┆     ┆     ┆     ┆     ┆ tly ┆     ┆ f5c ┆     ┆ Bon ┆ \"Bo ┆ in  ┆     ┆     │\n",
       "│     ┆     ┆     ┆ 9   ┆ 0   ┆     ┆     ┆ in  ┆     ┆ o   ┆     ┆     ┆     ┆     ┆     ┆     ┆     ┆     ┆     ┆     ┆     ┆     ┆     ┆     ┆     ┆     ┆ e53 ┆     ┆ e   ┆ ne  ┆ Per ┆     ┆     │\n",
       "│     ┆     ┆     ┆     ┆ 15: ┆     ┆     ┆ Per ┆     ┆ Rs. ┆     ┆     ┆     ┆     ┆     ┆     ┆     ┆     ┆     ┆     ┆     ┆     ┆     ┆     ┆     ┆     ┆ 826 ┆     ┆ in  ┆ in  ┆ i   ┆     ┆     │\n",
       "│     ┆     ┆     ┆     ┆ 52: ┆     ┆     ┆ i   ┆     ┆ 80  ┆     ┆     ┆     ┆     ┆     ┆     ┆     ┆     ┆     ┆     ┆     ┆     ┆     ┆     ┆     ┆     ┆ 574 ┆     ┆ Per ┆ Per ┆ Per ┆     ┆     │\n",
       "│     ┆     ┆     ┆     ┆ 00  ┆     ┆     ┆ Per ┆     ┆     ┆     ┆     ┆     ┆     ┆     ┆     ┆     ┆     ┆     ┆     ┆     ┆     ┆     ┆     ┆     ┆     ┆ 82d ┆     ┆ i   ┆ i   ┆ i   ┆     ┆     │\n",
       "│     ┆     ┆     ┆     ┆     ┆     ┆     ┆ i   ┆     ┆     ┆     ┆     ┆     ┆     ┆     ┆     ┆     ┆     ┆     ┆     ┆     ┆     ┆     ┆     ┆     ┆     ┆ 164 ┆     ┆ Per ┆ Per ┆ Gri ┆     ┆     │\n",
       "│     ┆     ┆     ┆     ┆     ┆     ┆     ┆ Gri ┆     ┆     ┆     ┆     ┆     ┆     ┆     ┆     ┆     ┆     ┆     ┆     ┆     ┆     ┆     ┆     ┆     ┆     ┆ e36 ┆     ┆ i   ┆ i   ┆ lle ┆     ┆     │\n",
       "│     ┆     ┆     ┆     ┆     ┆     ┆     ┆ lle ┆     ┆     ┆     ┆     ┆     ┆     ┆     ┆     ┆     ┆     ┆     ┆     ┆     ┆     ┆     ┆     ┆     ┆     ┆ 818 ┆     ┆ Gri ┆ Gri ┆ d   ┆     ┆     │\n",
       "│     ┆     ┆     ┆     ┆     ┆     ┆     ┆ d … ┆     ┆     ┆     ┆     ┆     ┆     ┆     ┆     ┆     ┆     ┆     ┆     ┆     ┆     ┆     ┆     ┆     ┆     ┆ …   ┆     ┆ lle ┆ l…  ┆ Ch… ┆     ┆     │\n",
       "│     ┆     ┆     ┆     ┆     ┆     ┆     ┆     ┆     ┆     ┆     ┆     ┆     ┆     ┆     ┆     ┆     ┆     ┆     ┆     ┆     ┆     ┆     ┆     ┆     ┆     ┆     ┆     ┆ …   ┆     ┆     ┆     ┆     │\n",
       "│ 203 ┆ Swa ┆ Sec ┆ 615 ┆ 202 ┆ Del ┆ 2km ┆ 1 x ┆ nul ┆ 40% ┆ 620 ┆ 27. ┆ 80. ┆ 0.0 ┆ 0.0 ┆ 0.0 ┆ 567 ┆ 4.0 ┆ nul ┆ nul ┆ nul ┆ nul ┆ 19. ┆ 3.3 ┆ Cor ┆ nul ┆ 1ed ┆ 2.0 ┆ [\"1 ┆ [[\" ┆ [\"F ┆ 2   ┆ 2   │\n",
       "│ 206 ┆ ad  ┆ tor ┆ 167 ┆ 4-0 ┆ ive ┆     ┆ Fri ┆ l   ┆ off ┆ .0  ┆ 0   ┆ 0   ┆     ┆     ┆     ┆ .0  ┆     ┆ l   ┆ l   ┆ l   ┆ l   ┆ 0   ┆     ┆ rec ┆ l   ┆ 226 ┆     ┆ x   ┆ 1\", ┆ rie ┆     ┆     │\n",
       "│ 07  ┆     ┆ 4   ┆ 743 ┆ 9-1 ┆ red ┆     ┆ ed  ┆     ┆ upt ┆     ┆     ┆     ┆     ┆     ┆     ┆     ┆     ┆     ┆     ┆     ┆     ┆     ┆     ┆ tly ┆     ┆ d1b ┆     ┆ Fri ┆ \"Fr ┆ d   ┆     ┆     │\n",
       "│     ┆     ┆     ┆ 4   ┆ 0   ┆     ┆     ┆ Chi ┆     ┆ o   ┆     ┆     ┆     ┆     ┆     ┆     ┆     ┆     ┆     ┆     ┆     ┆     ┆     ┆     ┆     ┆     ┆ 8a5 ┆     ┆ ed  ┆ ied ┆ Chi ┆     ┆     │\n",
       "│     ┆     ┆     ┆     ┆ 15: ┆     ┆     ┆ cke ┆     ┆ Rs. ┆     ┆     ┆     ┆     ┆     ┆     ┆     ┆     ┆     ┆     ┆     ┆     ┆     ┆     ┆     ┆     ┆ f7a ┆     ┆ Chi ┆ Chi ┆ cke ┆     ┆     │\n",
       "│     ┆     ┆     ┆     ┆ 45: ┆     ┆     ┆ n   ┆     ┆ 80  ┆     ┆     ┆     ┆     ┆     ┆     ┆     ┆     ┆     ┆     ┆     ┆     ┆     ┆     ┆     ┆     ┆ cee ┆     ┆ cke ┆ cke ┆ n   ┆     ┆     │\n",
       "│     ┆     ┆     ┆     ┆ 00  ┆     ┆     ┆ Gho ┆     ┆     ┆     ┆     ┆     ┆     ┆     ┆     ┆     ┆     ┆     ┆     ┆     ┆     ┆     ┆     ┆     ┆     ┆ 12f ┆     ┆ n   ┆ n   ┆ Gho ┆     ┆     │\n",
       "│     ┆     ┆     ┆     ┆     ┆     ┆     ┆ stb ┆     ┆     ┆     ┆     ┆     ┆     ┆     ┆     ┆     ┆     ┆     ┆     ┆     ┆     ┆     ┆     ┆     ┆     ┆ c1d ┆     ┆ Gho ┆ Gho ┆ stb ┆     ┆     │\n",
       "│     ┆     ┆     ┆     ┆     ┆     ┆     ┆ ust ┆     ┆     ┆     ┆     ┆     ┆     ┆     ┆     ┆     ┆     ┆     ┆     ┆     ┆     ┆     ┆     ┆     ┆     ┆ 667 ┆     ┆ stb ┆ stb ┆ ust ┆     ┆     │\n",
       "│     ┆     ┆     ┆     ┆     ┆     ┆     ┆ er  ┆     ┆     ┆     ┆     ┆     ┆     ┆     ┆     ┆     ┆     ┆     ┆     ┆     ┆     ┆     ┆     ┆     ┆     ┆ 655 ┆     ┆ ust ┆ us… ┆ er  ┆     ┆     │\n",
       "│     ┆     ┆     ┆     ┆     ┆     ┆     ┆ …   ┆     ┆     ┆     ┆     ┆     ┆     ┆     ┆     ┆     ┆     ┆     ┆     ┆     ┆     ┆     ┆     ┆     ┆     ┆ …   ┆     ┆ e…  ┆     ┆ Te… ┆     ┆     │\n",
       "│ 203 ┆ Swa ┆ Sec ┆ 616 ┆ 202 ┆ Del ┆ 2km ┆ 1 x ┆ nul ┆ 40% ┆ 584 ┆ 25. ┆ 80. ┆ 0.0 ┆ 0.0 ┆ 0.0 ┆ 529 ┆ nul ┆ nul ┆ nul ┆ nul ┆ nul ┆ 15. ┆ 1.0 ┆ Cor ┆ nul ┆ d21 ┆ 2.0 ┆ [\"1 ┆ [[\" ┆ [\"P ┆ 2   ┆ 2   │\n",
       "│ 206 ┆ ad  ┆ tor ┆ 754 ┆ 4-0 ┆ ive ┆     ┆ Per ┆ l   ┆ off ┆ .0  ┆ 2   ┆ 0   ┆     ┆     ┆     ┆ .2  ┆ l   ┆ l   ┆ l   ┆ l   ┆ l   ┆ 97  ┆     ┆ rec ┆ l   ┆ a2a ┆     ┆ x   ┆ 1\", ┆ eri ┆     ┆     │\n",
       "│ 07  ┆     ┆ 4   ┆ 089 ┆ 9-1 ┆ red ┆     ┆ i   ┆     ┆ upt ┆     ┆     ┆     ┆     ┆     ┆     ┆     ┆     ┆     ┆     ┆     ┆     ┆     ┆     ┆ tly ┆     ┆ c6e ┆     ┆ Per ┆ \"Pe ┆ Per ┆     ┆     │\n",
       "│     ┆     ┆     ┆ 7   ┆ 0   ┆     ┆     ┆ Per ┆     ┆ o   ┆     ┆     ┆     ┆     ┆     ┆     ┆     ┆     ┆     ┆     ┆     ┆     ┆     ┆     ┆     ┆     ┆ a06 ┆     ┆ i   ┆ ri  ┆ i   ┆     ┆     │\n",
       "│     ┆     ┆     ┆     ┆ 15: ┆     ┆     ┆ i   ┆     ┆ Rs. ┆     ┆     ┆     ┆     ┆     ┆     ┆     ┆     ┆     ┆     ┆     ┆     ┆     ┆     ┆     ┆     ┆ b31 ┆     ┆ Per ┆ Per ┆ Kri ┆     ┆     │\n",
       "│     ┆     ┆     ┆     ┆ 04: ┆     ┆     ┆ Kri ┆     ┆ 80  ┆     ┆     ┆     ┆     ┆     ┆     ┆     ┆     ┆     ┆     ┆     ┆     ┆     ┆     ┆     ┆     ┆ cc3 ┆     ┆ i   ┆ i   ┆ spe ┆     ┆     │\n",
       "│     ┆     ┆     ┆     ┆ 00  ┆     ┆     ┆ spe ┆     ┆     ┆     ┆     ┆     ┆     ┆     ┆     ┆     ┆     ┆     ┆     ┆     ┆     ┆     ┆     ┆     ┆     ┆ 288 ┆     ┆ Kri ┆ Kri ┆ rs\" ┆     ┆     │\n",
       "│     ┆     ┆     ┆     ┆     ┆     ┆     ┆ rs, ┆     ┆     ┆     ┆     ┆     ┆     ┆     ┆     ┆     ┆     ┆     ┆     ┆     ┆     ┆     ┆     ┆     ┆     ┆ ab2 ┆     ┆ spe ┆ spe ┆ ,   ┆     ┆     │\n",
       "│     ┆     ┆     ┆     ┆     ┆     ┆     ┆ 1 x ┆     ┆     ┆     ┆     ┆     ┆     ┆     ┆     ┆     ┆     ┆     ┆     ┆     ┆     ┆     ┆     ┆     ┆     ┆ 0c4 ┆     ┆ rs\" ┆ rs\" ┆ \"Fr ┆     ┆     │\n",
       "│     ┆     ┆     ┆     ┆     ┆     ┆     ┆ Fr… ┆     ┆     ┆     ┆     ┆     ┆     ┆     ┆     ┆     ┆     ┆     ┆     ┆     ┆     ┆     ┆     ┆     ┆     ┆ ef2 ┆     ┆ , \" ┆ ],  ┆ ied ┆     ┆     │\n",
       "│     ┆     ┆     ┆     ┆     ┆     ┆     ┆     ┆     ┆     ┆     ┆     ┆     ┆     ┆     ┆     ┆     ┆     ┆     ┆     ┆     ┆     ┆     ┆     ┆     ┆     ┆ …   ┆     ┆ 1…  ┆ …   ┆ …   ┆     ┆     │\n",
       "└─────┴─────┴─────┴─────┴─────┴─────┴─────┴─────┴─────┴─────┴─────┴─────┴─────┴─────┴─────┴─────┴─────┴─────┴─────┴─────┴─────┴─────┴─────┴─────┴─────┴─────┴─────┴─────┴─────┴─────┴─────┴─────┴─────┘"
      ]
     },
     "execution_count": 443,
     "metadata": {},
     "output_type": "execute_result"
    }
   ],
   "source": [
    "df_transformed = df_encoded.with_columns(\n",
    "    pl.col('items_in_order').str.split(',').alias('items_in_order_list')\n",
    ").with_columns(\n",
    "    pl.col('items_in_order_list').list.eval(pl.element().str.split('x').list.eval(pl.element().str.strip_chars())).alias('items_in_order_transformed')\n",
    ").with_columns(\n",
    "    # Was not able to make items_in_order_transformed field have first element in each list be a number \n",
    "    # (e.g. [[1, 'Grilled Chicken'], [2, 'Peri Fries']])\n",
    "\n",
    "    pl.col('items_in_order_transformed').list.eval(pl.element().list.last()).list.unique().alias('distinct_items'),\n",
    "    pl.col('items_in_order_transformed').list.len().alias('distinct_amount_items'),\n",
    "    pl.col('items_in_order_transformed').list.eval(pl.element().list.first().cast(pl.Int32)).list.sum().alias('total_amount_items')\n",
    ")\n",
    "\n",
    "assert len(df_transformed) == len(raw_df)\n",
    "assert df_transformed.filter(pl.col('total_amount_items') < pl.col('distinct_amount_items')).is_empty()\n",
    "\n",
    "print(len(df_transformed))\n",
    "df_transformed.head()"
   ]
  },
  {
   "cell_type": "code",
   "execution_count": 465,
   "metadata": {},
   "outputs": [
    {
     "data": {
      "text/html": [
       "<div><style>\n",
       ".dataframe > thead > tr,\n",
       ".dataframe > tbody > tr {\n",
       "  text-align: right;\n",
       "  white-space: pre-wrap;\n",
       "}\n",
       "</style>\n",
       "<small>shape: (12, 5)</small><table border=\"1\" class=\"dataframe\"><thead><tr><th>distinct_amount_items</th><th>kpt_duration_mean</th><th>kpt_duration_median</th><th>count</th><th>count_percentage</th></tr><tr><td>u32</td><td>f64</td><td>f64</td><td>u32</td><td>f64</td></tr></thead><tbody><tr><td>1</td><td>15.317648</td><td>14.58</td><td>9627</td><td>45.15</td></tr><tr><td>2</td><td>18.040804</td><td>17.03</td><td>8388</td><td>39.34</td></tr><tr><td>3</td><td>20.181463</td><td>19.18</td><td>1994</td><td>9.35</td></tr><tr><td>4</td><td>22.355057</td><td>21.02</td><td>971</td><td>4.55</td></tr><tr><td>5</td><td>24.502194</td><td>23.29</td><td>199</td><td>0.93</td></tr><tr><td>6</td><td>25.372529</td><td>24.17</td><td>88</td><td>0.41</td></tr><tr><td>7</td><td>28.58</td><td>27.825</td><td>22</td><td>0.1</td></tr><tr><td>8</td><td>30.284118</td><td>28.58</td><td>17</td><td>0.08</td></tr><tr><td>9</td><td>35.011667</td><td>36.28</td><td>6</td><td>0.03</td></tr><tr><td>10</td><td>29.53</td><td>26.17</td><td>5</td><td>0.02</td></tr><tr><td>11</td><td>37.91</td><td>37.91</td><td>2</td><td>0.01</td></tr><tr><td>12</td><td>39.375</td><td>39.375</td><td>2</td><td>0.01</td></tr></tbody></table></div>"
      ],
      "text/plain": [
       "shape: (12, 5)\n",
       "┌───────────────────────┬───────────────────┬─────────────────────┬───────┬──────────────────┐\n",
       "│ distinct_amount_items ┆ kpt_duration_mean ┆ kpt_duration_median ┆ count ┆ count_percentage │\n",
       "│ ---                   ┆ ---               ┆ ---                 ┆ ---   ┆ ---              │\n",
       "│ u32                   ┆ f64               ┆ f64                 ┆ u32   ┆ f64              │\n",
       "╞═══════════════════════╪═══════════════════╪═════════════════════╪═══════╪══════════════════╡\n",
       "│ 1                     ┆ 15.317648         ┆ 14.58               ┆ 9627  ┆ 45.15            │\n",
       "│ 2                     ┆ 18.040804         ┆ 17.03               ┆ 8388  ┆ 39.34            │\n",
       "│ 3                     ┆ 20.181463         ┆ 19.18               ┆ 1994  ┆ 9.35             │\n",
       "│ 4                     ┆ 22.355057         ┆ 21.02               ┆ 971   ┆ 4.55             │\n",
       "│ 5                     ┆ 24.502194         ┆ 23.29               ┆ 199   ┆ 0.93             │\n",
       "│ 6                     ┆ 25.372529         ┆ 24.17               ┆ 88    ┆ 0.41             │\n",
       "│ 7                     ┆ 28.58             ┆ 27.825              ┆ 22    ┆ 0.1              │\n",
       "│ 8                     ┆ 30.284118         ┆ 28.58               ┆ 17    ┆ 0.08             │\n",
       "│ 9                     ┆ 35.011667         ┆ 36.28               ┆ 6     ┆ 0.03             │\n",
       "│ 10                    ┆ 29.53             ┆ 26.17               ┆ 5     ┆ 0.02             │\n",
       "│ 11                    ┆ 37.91             ┆ 37.91               ┆ 2     ┆ 0.01             │\n",
       "│ 12                    ┆ 39.375            ┆ 39.375              ┆ 2     ┆ 0.01             │\n",
       "└───────────────────────┴───────────────────┴─────────────────────┴───────┴──────────────────┘"
      ]
     },
     "execution_count": 465,
     "metadata": {},
     "output_type": "execute_result"
    }
   ],
   "source": [
    "df_grouped_distinct_items = df_transformed.group_by(\n",
    "    pl.col('distinct_amount_items')\n",
    ").agg(\n",
    "    pl.col('kpt_duration_minutes').mean().alias('kpt_duration_mean'),\n",
    "    pl.col('kpt_duration_minutes').median().alias('kpt_duration_median'),\n",
    "    pl.len().alias('count'),\n",
    "    (pl.len() / len(df_transformed) * 100).round(2).alias('count_percentage'),\n",
    ").sort(pl.col('distinct_amount_items'))\n",
    "\n",
    "df_grouped_distinct_items\n",
    "\n",
    "# Notes: \n",
    "# - kpt_duration mean and median numbers increase as distinct_amount_items increases (as expected)\n",
    "# - Except for a dip from from distinct_amount_items = 9 to 10, possibly because of such small frequencies in these numbers (should be discard)"
   ]
  },
  {
   "cell_type": "code",
   "execution_count": 461,
   "metadata": {},
   "outputs": [
    {
     "data": {
      "application/vnd.plotly.v1+json": {
       "config": {
        "plotlyServerURL": "https://plot.ly"
       },
       "data": [
        {
         "hovertemplate": "distinct_amount_items=%{x}<br>kpt_duration_mean=%{y}<extra></extra>",
         "legendgroup": "",
         "line": {
          "color": "#636efa",
          "dash": "solid"
         },
         "marker": {
          "symbol": "circle"
         },
         "mode": "lines",
         "name": "",
         "orientation": "v",
         "showlegend": false,
         "type": "scatter",
         "x": {
          "bdata": "AQAAAAIAAAADAAAABAAAAAUAAAAGAAAABwAAAAgAAAAJAAAACgAAAAsAAAAMAAAA",
          "dtype": "u4"
         },
         "xaxis": "x",
         "y": {
          "bdata": "jRSH0qKiLkCAV9cgcgoyQBUjb1Z0LjRA70fjC+VaNkBBVSjHj4A4QEdcEAteXzlAFK5H4XqUPECIVSLvu0g+QLHkF0t+gUFASuF6FK6HPUAUrkfhevRCQAAAAAAAsENA",
          "dtype": "f8"
         },
         "yaxis": "y"
        }
       ],
       "layout": {
        "legend": {
         "tracegroupgap": 0
        },
        "margin": {
         "t": 60
        },
        "template": {
         "data": {
          "bar": [
           {
            "error_x": {
             "color": "#2a3f5f"
            },
            "error_y": {
             "color": "#2a3f5f"
            },
            "marker": {
             "line": {
              "color": "#E5ECF6",
              "width": 0.5
             },
             "pattern": {
              "fillmode": "overlay",
              "size": 10,
              "solidity": 0.2
             }
            },
            "type": "bar"
           }
          ],
          "barpolar": [
           {
            "marker": {
             "line": {
              "color": "#E5ECF6",
              "width": 0.5
             },
             "pattern": {
              "fillmode": "overlay",
              "size": 10,
              "solidity": 0.2
             }
            },
            "type": "barpolar"
           }
          ],
          "carpet": [
           {
            "aaxis": {
             "endlinecolor": "#2a3f5f",
             "gridcolor": "white",
             "linecolor": "white",
             "minorgridcolor": "white",
             "startlinecolor": "#2a3f5f"
            },
            "baxis": {
             "endlinecolor": "#2a3f5f",
             "gridcolor": "white",
             "linecolor": "white",
             "minorgridcolor": "white",
             "startlinecolor": "#2a3f5f"
            },
            "type": "carpet"
           }
          ],
          "choropleth": [
           {
            "colorbar": {
             "outlinewidth": 0,
             "ticks": ""
            },
            "type": "choropleth"
           }
          ],
          "contour": [
           {
            "colorbar": {
             "outlinewidth": 0,
             "ticks": ""
            },
            "colorscale": [
             [
              0,
              "#0d0887"
             ],
             [
              0.1111111111111111,
              "#46039f"
             ],
             [
              0.2222222222222222,
              "#7201a8"
             ],
             [
              0.3333333333333333,
              "#9c179e"
             ],
             [
              0.4444444444444444,
              "#bd3786"
             ],
             [
              0.5555555555555556,
              "#d8576b"
             ],
             [
              0.6666666666666666,
              "#ed7953"
             ],
             [
              0.7777777777777778,
              "#fb9f3a"
             ],
             [
              0.8888888888888888,
              "#fdca26"
             ],
             [
              1,
              "#f0f921"
             ]
            ],
            "type": "contour"
           }
          ],
          "contourcarpet": [
           {
            "colorbar": {
             "outlinewidth": 0,
             "ticks": ""
            },
            "type": "contourcarpet"
           }
          ],
          "heatmap": [
           {
            "colorbar": {
             "outlinewidth": 0,
             "ticks": ""
            },
            "colorscale": [
             [
              0,
              "#0d0887"
             ],
             [
              0.1111111111111111,
              "#46039f"
             ],
             [
              0.2222222222222222,
              "#7201a8"
             ],
             [
              0.3333333333333333,
              "#9c179e"
             ],
             [
              0.4444444444444444,
              "#bd3786"
             ],
             [
              0.5555555555555556,
              "#d8576b"
             ],
             [
              0.6666666666666666,
              "#ed7953"
             ],
             [
              0.7777777777777778,
              "#fb9f3a"
             ],
             [
              0.8888888888888888,
              "#fdca26"
             ],
             [
              1,
              "#f0f921"
             ]
            ],
            "type": "heatmap"
           }
          ],
          "histogram": [
           {
            "marker": {
             "pattern": {
              "fillmode": "overlay",
              "size": 10,
              "solidity": 0.2
             }
            },
            "type": "histogram"
           }
          ],
          "histogram2d": [
           {
            "colorbar": {
             "outlinewidth": 0,
             "ticks": ""
            },
            "colorscale": [
             [
              0,
              "#0d0887"
             ],
             [
              0.1111111111111111,
              "#46039f"
             ],
             [
              0.2222222222222222,
              "#7201a8"
             ],
             [
              0.3333333333333333,
              "#9c179e"
             ],
             [
              0.4444444444444444,
              "#bd3786"
             ],
             [
              0.5555555555555556,
              "#d8576b"
             ],
             [
              0.6666666666666666,
              "#ed7953"
             ],
             [
              0.7777777777777778,
              "#fb9f3a"
             ],
             [
              0.8888888888888888,
              "#fdca26"
             ],
             [
              1,
              "#f0f921"
             ]
            ],
            "type": "histogram2d"
           }
          ],
          "histogram2dcontour": [
           {
            "colorbar": {
             "outlinewidth": 0,
             "ticks": ""
            },
            "colorscale": [
             [
              0,
              "#0d0887"
             ],
             [
              0.1111111111111111,
              "#46039f"
             ],
             [
              0.2222222222222222,
              "#7201a8"
             ],
             [
              0.3333333333333333,
              "#9c179e"
             ],
             [
              0.4444444444444444,
              "#bd3786"
             ],
             [
              0.5555555555555556,
              "#d8576b"
             ],
             [
              0.6666666666666666,
              "#ed7953"
             ],
             [
              0.7777777777777778,
              "#fb9f3a"
             ],
             [
              0.8888888888888888,
              "#fdca26"
             ],
             [
              1,
              "#f0f921"
             ]
            ],
            "type": "histogram2dcontour"
           }
          ],
          "mesh3d": [
           {
            "colorbar": {
             "outlinewidth": 0,
             "ticks": ""
            },
            "type": "mesh3d"
           }
          ],
          "parcoords": [
           {
            "line": {
             "colorbar": {
              "outlinewidth": 0,
              "ticks": ""
             }
            },
            "type": "parcoords"
           }
          ],
          "pie": [
           {
            "automargin": true,
            "type": "pie"
           }
          ],
          "scatter": [
           {
            "fillpattern": {
             "fillmode": "overlay",
             "size": 10,
             "solidity": 0.2
            },
            "type": "scatter"
           }
          ],
          "scatter3d": [
           {
            "line": {
             "colorbar": {
              "outlinewidth": 0,
              "ticks": ""
             }
            },
            "marker": {
             "colorbar": {
              "outlinewidth": 0,
              "ticks": ""
             }
            },
            "type": "scatter3d"
           }
          ],
          "scattercarpet": [
           {
            "marker": {
             "colorbar": {
              "outlinewidth": 0,
              "ticks": ""
             }
            },
            "type": "scattercarpet"
           }
          ],
          "scattergeo": [
           {
            "marker": {
             "colorbar": {
              "outlinewidth": 0,
              "ticks": ""
             }
            },
            "type": "scattergeo"
           }
          ],
          "scattergl": [
           {
            "marker": {
             "colorbar": {
              "outlinewidth": 0,
              "ticks": ""
             }
            },
            "type": "scattergl"
           }
          ],
          "scattermap": [
           {
            "marker": {
             "colorbar": {
              "outlinewidth": 0,
              "ticks": ""
             }
            },
            "type": "scattermap"
           }
          ],
          "scattermapbox": [
           {
            "marker": {
             "colorbar": {
              "outlinewidth": 0,
              "ticks": ""
             }
            },
            "type": "scattermapbox"
           }
          ],
          "scatterpolar": [
           {
            "marker": {
             "colorbar": {
              "outlinewidth": 0,
              "ticks": ""
             }
            },
            "type": "scatterpolar"
           }
          ],
          "scatterpolargl": [
           {
            "marker": {
             "colorbar": {
              "outlinewidth": 0,
              "ticks": ""
             }
            },
            "type": "scatterpolargl"
           }
          ],
          "scatterternary": [
           {
            "marker": {
             "colorbar": {
              "outlinewidth": 0,
              "ticks": ""
             }
            },
            "type": "scatterternary"
           }
          ],
          "surface": [
           {
            "colorbar": {
             "outlinewidth": 0,
             "ticks": ""
            },
            "colorscale": [
             [
              0,
              "#0d0887"
             ],
             [
              0.1111111111111111,
              "#46039f"
             ],
             [
              0.2222222222222222,
              "#7201a8"
             ],
             [
              0.3333333333333333,
              "#9c179e"
             ],
             [
              0.4444444444444444,
              "#bd3786"
             ],
             [
              0.5555555555555556,
              "#d8576b"
             ],
             [
              0.6666666666666666,
              "#ed7953"
             ],
             [
              0.7777777777777778,
              "#fb9f3a"
             ],
             [
              0.8888888888888888,
              "#fdca26"
             ],
             [
              1,
              "#f0f921"
             ]
            ],
            "type": "surface"
           }
          ],
          "table": [
           {
            "cells": {
             "fill": {
              "color": "#EBF0F8"
             },
             "line": {
              "color": "white"
             }
            },
            "header": {
             "fill": {
              "color": "#C8D4E3"
             },
             "line": {
              "color": "white"
             }
            },
            "type": "table"
           }
          ]
         },
         "layout": {
          "annotationdefaults": {
           "arrowcolor": "#2a3f5f",
           "arrowhead": 0,
           "arrowwidth": 1
          },
          "autotypenumbers": "strict",
          "coloraxis": {
           "colorbar": {
            "outlinewidth": 0,
            "ticks": ""
           }
          },
          "colorscale": {
           "diverging": [
            [
             0,
             "#8e0152"
            ],
            [
             0.1,
             "#c51b7d"
            ],
            [
             0.2,
             "#de77ae"
            ],
            [
             0.3,
             "#f1b6da"
            ],
            [
             0.4,
             "#fde0ef"
            ],
            [
             0.5,
             "#f7f7f7"
            ],
            [
             0.6,
             "#e6f5d0"
            ],
            [
             0.7,
             "#b8e186"
            ],
            [
             0.8,
             "#7fbc41"
            ],
            [
             0.9,
             "#4d9221"
            ],
            [
             1,
             "#276419"
            ]
           ],
           "sequential": [
            [
             0,
             "#0d0887"
            ],
            [
             0.1111111111111111,
             "#46039f"
            ],
            [
             0.2222222222222222,
             "#7201a8"
            ],
            [
             0.3333333333333333,
             "#9c179e"
            ],
            [
             0.4444444444444444,
             "#bd3786"
            ],
            [
             0.5555555555555556,
             "#d8576b"
            ],
            [
             0.6666666666666666,
             "#ed7953"
            ],
            [
             0.7777777777777778,
             "#fb9f3a"
            ],
            [
             0.8888888888888888,
             "#fdca26"
            ],
            [
             1,
             "#f0f921"
            ]
           ],
           "sequentialminus": [
            [
             0,
             "#0d0887"
            ],
            [
             0.1111111111111111,
             "#46039f"
            ],
            [
             0.2222222222222222,
             "#7201a8"
            ],
            [
             0.3333333333333333,
             "#9c179e"
            ],
            [
             0.4444444444444444,
             "#bd3786"
            ],
            [
             0.5555555555555556,
             "#d8576b"
            ],
            [
             0.6666666666666666,
             "#ed7953"
            ],
            [
             0.7777777777777778,
             "#fb9f3a"
            ],
            [
             0.8888888888888888,
             "#fdca26"
            ],
            [
             1,
             "#f0f921"
            ]
           ]
          },
          "colorway": [
           "#636efa",
           "#EF553B",
           "#00cc96",
           "#ab63fa",
           "#FFA15A",
           "#19d3f3",
           "#FF6692",
           "#B6E880",
           "#FF97FF",
           "#FECB52"
          ],
          "font": {
           "color": "#2a3f5f"
          },
          "geo": {
           "bgcolor": "white",
           "lakecolor": "white",
           "landcolor": "#E5ECF6",
           "showlakes": true,
           "showland": true,
           "subunitcolor": "white"
          },
          "hoverlabel": {
           "align": "left"
          },
          "hovermode": "closest",
          "mapbox": {
           "style": "light"
          },
          "paper_bgcolor": "white",
          "plot_bgcolor": "#E5ECF6",
          "polar": {
           "angularaxis": {
            "gridcolor": "white",
            "linecolor": "white",
            "ticks": ""
           },
           "bgcolor": "#E5ECF6",
           "radialaxis": {
            "gridcolor": "white",
            "linecolor": "white",
            "ticks": ""
           }
          },
          "scene": {
           "xaxis": {
            "backgroundcolor": "#E5ECF6",
            "gridcolor": "white",
            "gridwidth": 2,
            "linecolor": "white",
            "showbackground": true,
            "ticks": "",
            "zerolinecolor": "white"
           },
           "yaxis": {
            "backgroundcolor": "#E5ECF6",
            "gridcolor": "white",
            "gridwidth": 2,
            "linecolor": "white",
            "showbackground": true,
            "ticks": "",
            "zerolinecolor": "white"
           },
           "zaxis": {
            "backgroundcolor": "#E5ECF6",
            "gridcolor": "white",
            "gridwidth": 2,
            "linecolor": "white",
            "showbackground": true,
            "ticks": "",
            "zerolinecolor": "white"
           }
          },
          "shapedefaults": {
           "line": {
            "color": "#2a3f5f"
           }
          },
          "ternary": {
           "aaxis": {
            "gridcolor": "white",
            "linecolor": "white",
            "ticks": ""
           },
           "baxis": {
            "gridcolor": "white",
            "linecolor": "white",
            "ticks": ""
           },
           "bgcolor": "#E5ECF6",
           "caxis": {
            "gridcolor": "white",
            "linecolor": "white",
            "ticks": ""
           }
          },
          "title": {
           "x": 0.05
          },
          "xaxis": {
           "automargin": true,
           "gridcolor": "white",
           "linecolor": "white",
           "ticks": "",
           "title": {
            "standoff": 15
           },
           "zerolinecolor": "white",
           "zerolinewidth": 2
          },
          "yaxis": {
           "automargin": true,
           "gridcolor": "white",
           "linecolor": "white",
           "ticks": "",
           "title": {
            "standoff": 15
           },
           "zerolinecolor": "white",
           "zerolinewidth": 2
          }
         }
        },
        "xaxis": {
         "anchor": "y",
         "domain": [
          0,
          1
         ],
         "title": {
          "text": "distinct_amount_items"
         }
        },
        "yaxis": {
         "anchor": "x",
         "domain": [
          0,
          1
         ],
         "title": {
          "text": "kpt_duration_mean"
         }
        }
       }
      }
     },
     "metadata": {},
     "output_type": "display_data"
    }
   ],
   "source": [
    "px.line(\n",
    "    df_grouped_distinct_items,\n",
    "    x='distinct_amount_items',\n",
    "    y='kpt_duration_mean',\n",
    ")"
   ]
  },
  {
   "cell_type": "code",
   "execution_count": 468,
   "metadata": {},
   "outputs": [
    {
     "data": {
      "text/html": [
       "<div><style>\n",
       ".dataframe > thead > tr,\n",
       ".dataframe > tbody > tr {\n",
       "  text-align: right;\n",
       "  white-space: pre-wrap;\n",
       "}\n",
       "</style>\n",
       "<small>shape: (19, 5)</small><table border=\"1\" class=\"dataframe\"><thead><tr><th>total_amount_items</th><th>kpt_duration_mean</th><th>kpt_duration_median</th><th>count</th><th>count_percentage</th></tr><tr><td>i32</td><td>f64</td><td>f64</td><td>u32</td><td>f64</td></tr></thead><tbody><tr><td>1</td><td>15.018399</td><td>14.35</td><td>8354</td><td>39.18</td></tr><tr><td>2</td><td>17.823321</td><td>16.9</td><td>9242</td><td>43.35</td></tr><tr><td>3</td><td>19.622993</td><td>18.8</td><td>1816</td><td>8.52</td></tr><tr><td>4</td><td>21.711094</td><td>20.66</td><td>1349</td><td>6.33</td></tr><tr><td>5</td><td>22.661731</td><td>21.14</td><td>214</td><td>1.0</td></tr><tr><td>6</td><td>25.240144</td><td>24.66</td><td>210</td><td>0.98</td></tr><tr><td>7</td><td>31.570588</td><td>29.2</td><td>34</td><td>0.16</td></tr><tr><td>8</td><td>26.615319</td><td>25.55</td><td>47</td><td>0.22</td></tr><tr><td>9</td><td>31.120833</td><td>30.13</td><td>12</td><td>0.06</td></tr><tr><td>10</td><td>28.743529</td><td>27.22</td><td>18</td><td>0.08</td></tr><tr><td>11</td><td>32.35</td><td>37.2</td><td>4</td><td>0.02</td></tr><tr><td>12</td><td>32.666667</td><td>31.0</td><td>9</td><td>0.04</td></tr><tr><td>14</td><td>44.2</td><td>44.2</td><td>2</td><td>0.01</td></tr><tr><td>15</td><td>36.773333</td><td>34.52</td><td>3</td><td>0.01</td></tr><tr><td>16</td><td>61.22</td><td>61.22</td><td>1</td><td>0.0</td></tr><tr><td>17</td><td>40.78</td><td>40.78</td><td>1</td><td>0.0</td></tr><tr><td>20</td><td>78.32</td><td>88.57</td><td>3</td><td>0.01</td></tr><tr><td>26</td><td>5.12</td><td>5.12</td><td>1</td><td>0.0</td></tr><tr><td>29</td><td>49.4</td><td>49.4</td><td>1</td><td>0.0</td></tr></tbody></table></div>"
      ],
      "text/plain": [
       "shape: (19, 5)\n",
       "┌────────────────────┬───────────────────┬─────────────────────┬───────┬──────────────────┐\n",
       "│ total_amount_items ┆ kpt_duration_mean ┆ kpt_duration_median ┆ count ┆ count_percentage │\n",
       "│ ---                ┆ ---               ┆ ---                 ┆ ---   ┆ ---              │\n",
       "│ i32                ┆ f64               ┆ f64                 ┆ u32   ┆ f64              │\n",
       "╞════════════════════╪═══════════════════╪═════════════════════╪═══════╪══════════════════╡\n",
       "│ 1                  ┆ 15.018399         ┆ 14.35               ┆ 8354  ┆ 39.18            │\n",
       "│ 2                  ┆ 17.823321         ┆ 16.9                ┆ 9242  ┆ 43.35            │\n",
       "│ 3                  ┆ 19.622993         ┆ 18.8                ┆ 1816  ┆ 8.52             │\n",
       "│ 4                  ┆ 21.711094         ┆ 20.66               ┆ 1349  ┆ 6.33             │\n",
       "│ 5                  ┆ 22.661731         ┆ 21.14               ┆ 214   ┆ 1.0              │\n",
       "│ 6                  ┆ 25.240144         ┆ 24.66               ┆ 210   ┆ 0.98             │\n",
       "│ 7                  ┆ 31.570588         ┆ 29.2                ┆ 34    ┆ 0.16             │\n",
       "│ 8                  ┆ 26.615319         ┆ 25.55               ┆ 47    ┆ 0.22             │\n",
       "│ 9                  ┆ 31.120833         ┆ 30.13               ┆ 12    ┆ 0.06             │\n",
       "│ 10                 ┆ 28.743529         ┆ 27.22               ┆ 18    ┆ 0.08             │\n",
       "│ 11                 ┆ 32.35             ┆ 37.2                ┆ 4     ┆ 0.02             │\n",
       "│ 12                 ┆ 32.666667         ┆ 31.0                ┆ 9     ┆ 0.04             │\n",
       "│ 14                 ┆ 44.2              ┆ 44.2                ┆ 2     ┆ 0.01             │\n",
       "│ 15                 ┆ 36.773333         ┆ 34.52               ┆ 3     ┆ 0.01             │\n",
       "│ 16                 ┆ 61.22             ┆ 61.22               ┆ 1     ┆ 0.0              │\n",
       "│ 17                 ┆ 40.78             ┆ 40.78               ┆ 1     ┆ 0.0              │\n",
       "│ 20                 ┆ 78.32             ┆ 88.57               ┆ 3     ┆ 0.01             │\n",
       "│ 26                 ┆ 5.12              ┆ 5.12                ┆ 1     ┆ 0.0              │\n",
       "│ 29                 ┆ 49.4              ┆ 49.4                ┆ 1     ┆ 0.0              │\n",
       "└────────────────────┴───────────────────┴─────────────────────┴───────┴──────────────────┘"
      ]
     },
     "execution_count": 468,
     "metadata": {},
     "output_type": "execute_result"
    }
   ],
   "source": [
    "df_grouped_total_items = df_transformed.group_by(\n",
    "    pl.col('total_amount_items')\n",
    ").agg(\n",
    "    pl.col('kpt_duration_minutes').mean().alias('kpt_duration_mean'),\n",
    "    pl.col('kpt_duration_minutes').median().alias('kpt_duration_median'),\n",
    "    pl.len().alias('count'),\n",
    "    (pl.len() / len(df_transformed) * 100).round(2).alias('count_percentage'),\n",
    ").sort(pl.col('total_amount_items'))\n",
    "\n",
    "df_grouped_total_items\n",
    "\n",
    "# Notes: \n",
    "# - kpt_duration mean and median numbers increase as total_amount_items increases (as expected) but up to where total_amount_items <= 4, after which numbers oscilate (due to small number of records) "
   ]
  },
  {
   "cell_type": "code",
   "execution_count": 469,
   "metadata": {},
   "outputs": [
    {
     "data": {
      "application/vnd.plotly.v1+json": {
       "config": {
        "plotlyServerURL": "https://plot.ly"
       },
       "data": [
        {
         "hovertemplate": "total_amount_items=%{x}<br>kpt_duration_mean=%{y}<extra></extra>",
         "legendgroup": "",
         "line": {
          "color": "#636efa",
          "dash": "solid"
         },
         "marker": {
          "symbol": "circle"
         },
         "mode": "lines",
         "name": "",
         "orientation": "v",
         "showlegend": false,
         "type": "scatter",
         "x": {
          "bdata": "AQAAAAIAAAADAAAABAAAAAUAAAAGAAAABwAAAAgAAAAJAAAACgAAAAsAAAAMAAAADgAAAA8AAAAQAAAAEQAAABQAAAAaAAAAHQAAAA==",
          "dtype": "i4"
         },
         "xaxis": "x",
         "y": {
          "bdata": "TDtbkmsJLkB1HAQvxdIxQKKHWH18nzNAngc7SQq2NUBfmgwwZ6k2QBp6oRd6PTlAERISEhKSP0CKSEWOhZ06QO/u7u7uHj9AwCSL8Ve+PEDNzMzMzCxAQFVVVVVVVUBAmpmZmZkZRkBjyS+W/GJCQFyPwvUonE5ApHA9CtdjREAVrkfhepRTQHsUrkfhehRAMzMzMzOzSEA=",
          "dtype": "f8"
         },
         "yaxis": "y"
        }
       ],
       "layout": {
        "legend": {
         "tracegroupgap": 0
        },
        "margin": {
         "t": 60
        },
        "template": {
         "data": {
          "bar": [
           {
            "error_x": {
             "color": "#2a3f5f"
            },
            "error_y": {
             "color": "#2a3f5f"
            },
            "marker": {
             "line": {
              "color": "#E5ECF6",
              "width": 0.5
             },
             "pattern": {
              "fillmode": "overlay",
              "size": 10,
              "solidity": 0.2
             }
            },
            "type": "bar"
           }
          ],
          "barpolar": [
           {
            "marker": {
             "line": {
              "color": "#E5ECF6",
              "width": 0.5
             },
             "pattern": {
              "fillmode": "overlay",
              "size": 10,
              "solidity": 0.2
             }
            },
            "type": "barpolar"
           }
          ],
          "carpet": [
           {
            "aaxis": {
             "endlinecolor": "#2a3f5f",
             "gridcolor": "white",
             "linecolor": "white",
             "minorgridcolor": "white",
             "startlinecolor": "#2a3f5f"
            },
            "baxis": {
             "endlinecolor": "#2a3f5f",
             "gridcolor": "white",
             "linecolor": "white",
             "minorgridcolor": "white",
             "startlinecolor": "#2a3f5f"
            },
            "type": "carpet"
           }
          ],
          "choropleth": [
           {
            "colorbar": {
             "outlinewidth": 0,
             "ticks": ""
            },
            "type": "choropleth"
           }
          ],
          "contour": [
           {
            "colorbar": {
             "outlinewidth": 0,
             "ticks": ""
            },
            "colorscale": [
             [
              0,
              "#0d0887"
             ],
             [
              0.1111111111111111,
              "#46039f"
             ],
             [
              0.2222222222222222,
              "#7201a8"
             ],
             [
              0.3333333333333333,
              "#9c179e"
             ],
             [
              0.4444444444444444,
              "#bd3786"
             ],
             [
              0.5555555555555556,
              "#d8576b"
             ],
             [
              0.6666666666666666,
              "#ed7953"
             ],
             [
              0.7777777777777778,
              "#fb9f3a"
             ],
             [
              0.8888888888888888,
              "#fdca26"
             ],
             [
              1,
              "#f0f921"
             ]
            ],
            "type": "contour"
           }
          ],
          "contourcarpet": [
           {
            "colorbar": {
             "outlinewidth": 0,
             "ticks": ""
            },
            "type": "contourcarpet"
           }
          ],
          "heatmap": [
           {
            "colorbar": {
             "outlinewidth": 0,
             "ticks": ""
            },
            "colorscale": [
             [
              0,
              "#0d0887"
             ],
             [
              0.1111111111111111,
              "#46039f"
             ],
             [
              0.2222222222222222,
              "#7201a8"
             ],
             [
              0.3333333333333333,
              "#9c179e"
             ],
             [
              0.4444444444444444,
              "#bd3786"
             ],
             [
              0.5555555555555556,
              "#d8576b"
             ],
             [
              0.6666666666666666,
              "#ed7953"
             ],
             [
              0.7777777777777778,
              "#fb9f3a"
             ],
             [
              0.8888888888888888,
              "#fdca26"
             ],
             [
              1,
              "#f0f921"
             ]
            ],
            "type": "heatmap"
           }
          ],
          "histogram": [
           {
            "marker": {
             "pattern": {
              "fillmode": "overlay",
              "size": 10,
              "solidity": 0.2
             }
            },
            "type": "histogram"
           }
          ],
          "histogram2d": [
           {
            "colorbar": {
             "outlinewidth": 0,
             "ticks": ""
            },
            "colorscale": [
             [
              0,
              "#0d0887"
             ],
             [
              0.1111111111111111,
              "#46039f"
             ],
             [
              0.2222222222222222,
              "#7201a8"
             ],
             [
              0.3333333333333333,
              "#9c179e"
             ],
             [
              0.4444444444444444,
              "#bd3786"
             ],
             [
              0.5555555555555556,
              "#d8576b"
             ],
             [
              0.6666666666666666,
              "#ed7953"
             ],
             [
              0.7777777777777778,
              "#fb9f3a"
             ],
             [
              0.8888888888888888,
              "#fdca26"
             ],
             [
              1,
              "#f0f921"
             ]
            ],
            "type": "histogram2d"
           }
          ],
          "histogram2dcontour": [
           {
            "colorbar": {
             "outlinewidth": 0,
             "ticks": ""
            },
            "colorscale": [
             [
              0,
              "#0d0887"
             ],
             [
              0.1111111111111111,
              "#46039f"
             ],
             [
              0.2222222222222222,
              "#7201a8"
             ],
             [
              0.3333333333333333,
              "#9c179e"
             ],
             [
              0.4444444444444444,
              "#bd3786"
             ],
             [
              0.5555555555555556,
              "#d8576b"
             ],
             [
              0.6666666666666666,
              "#ed7953"
             ],
             [
              0.7777777777777778,
              "#fb9f3a"
             ],
             [
              0.8888888888888888,
              "#fdca26"
             ],
             [
              1,
              "#f0f921"
             ]
            ],
            "type": "histogram2dcontour"
           }
          ],
          "mesh3d": [
           {
            "colorbar": {
             "outlinewidth": 0,
             "ticks": ""
            },
            "type": "mesh3d"
           }
          ],
          "parcoords": [
           {
            "line": {
             "colorbar": {
              "outlinewidth": 0,
              "ticks": ""
             }
            },
            "type": "parcoords"
           }
          ],
          "pie": [
           {
            "automargin": true,
            "type": "pie"
           }
          ],
          "scatter": [
           {
            "fillpattern": {
             "fillmode": "overlay",
             "size": 10,
             "solidity": 0.2
            },
            "type": "scatter"
           }
          ],
          "scatter3d": [
           {
            "line": {
             "colorbar": {
              "outlinewidth": 0,
              "ticks": ""
             }
            },
            "marker": {
             "colorbar": {
              "outlinewidth": 0,
              "ticks": ""
             }
            },
            "type": "scatter3d"
           }
          ],
          "scattercarpet": [
           {
            "marker": {
             "colorbar": {
              "outlinewidth": 0,
              "ticks": ""
             }
            },
            "type": "scattercarpet"
           }
          ],
          "scattergeo": [
           {
            "marker": {
             "colorbar": {
              "outlinewidth": 0,
              "ticks": ""
             }
            },
            "type": "scattergeo"
           }
          ],
          "scattergl": [
           {
            "marker": {
             "colorbar": {
              "outlinewidth": 0,
              "ticks": ""
             }
            },
            "type": "scattergl"
           }
          ],
          "scattermap": [
           {
            "marker": {
             "colorbar": {
              "outlinewidth": 0,
              "ticks": ""
             }
            },
            "type": "scattermap"
           }
          ],
          "scattermapbox": [
           {
            "marker": {
             "colorbar": {
              "outlinewidth": 0,
              "ticks": ""
             }
            },
            "type": "scattermapbox"
           }
          ],
          "scatterpolar": [
           {
            "marker": {
             "colorbar": {
              "outlinewidth": 0,
              "ticks": ""
             }
            },
            "type": "scatterpolar"
           }
          ],
          "scatterpolargl": [
           {
            "marker": {
             "colorbar": {
              "outlinewidth": 0,
              "ticks": ""
             }
            },
            "type": "scatterpolargl"
           }
          ],
          "scatterternary": [
           {
            "marker": {
             "colorbar": {
              "outlinewidth": 0,
              "ticks": ""
             }
            },
            "type": "scatterternary"
           }
          ],
          "surface": [
           {
            "colorbar": {
             "outlinewidth": 0,
             "ticks": ""
            },
            "colorscale": [
             [
              0,
              "#0d0887"
             ],
             [
              0.1111111111111111,
              "#46039f"
             ],
             [
              0.2222222222222222,
              "#7201a8"
             ],
             [
              0.3333333333333333,
              "#9c179e"
             ],
             [
              0.4444444444444444,
              "#bd3786"
             ],
             [
              0.5555555555555556,
              "#d8576b"
             ],
             [
              0.6666666666666666,
              "#ed7953"
             ],
             [
              0.7777777777777778,
              "#fb9f3a"
             ],
             [
              0.8888888888888888,
              "#fdca26"
             ],
             [
              1,
              "#f0f921"
             ]
            ],
            "type": "surface"
           }
          ],
          "table": [
           {
            "cells": {
             "fill": {
              "color": "#EBF0F8"
             },
             "line": {
              "color": "white"
             }
            },
            "header": {
             "fill": {
              "color": "#C8D4E3"
             },
             "line": {
              "color": "white"
             }
            },
            "type": "table"
           }
          ]
         },
         "layout": {
          "annotationdefaults": {
           "arrowcolor": "#2a3f5f",
           "arrowhead": 0,
           "arrowwidth": 1
          },
          "autotypenumbers": "strict",
          "coloraxis": {
           "colorbar": {
            "outlinewidth": 0,
            "ticks": ""
           }
          },
          "colorscale": {
           "diverging": [
            [
             0,
             "#8e0152"
            ],
            [
             0.1,
             "#c51b7d"
            ],
            [
             0.2,
             "#de77ae"
            ],
            [
             0.3,
             "#f1b6da"
            ],
            [
             0.4,
             "#fde0ef"
            ],
            [
             0.5,
             "#f7f7f7"
            ],
            [
             0.6,
             "#e6f5d0"
            ],
            [
             0.7,
             "#b8e186"
            ],
            [
             0.8,
             "#7fbc41"
            ],
            [
             0.9,
             "#4d9221"
            ],
            [
             1,
             "#276419"
            ]
           ],
           "sequential": [
            [
             0,
             "#0d0887"
            ],
            [
             0.1111111111111111,
             "#46039f"
            ],
            [
             0.2222222222222222,
             "#7201a8"
            ],
            [
             0.3333333333333333,
             "#9c179e"
            ],
            [
             0.4444444444444444,
             "#bd3786"
            ],
            [
             0.5555555555555556,
             "#d8576b"
            ],
            [
             0.6666666666666666,
             "#ed7953"
            ],
            [
             0.7777777777777778,
             "#fb9f3a"
            ],
            [
             0.8888888888888888,
             "#fdca26"
            ],
            [
             1,
             "#f0f921"
            ]
           ],
           "sequentialminus": [
            [
             0,
             "#0d0887"
            ],
            [
             0.1111111111111111,
             "#46039f"
            ],
            [
             0.2222222222222222,
             "#7201a8"
            ],
            [
             0.3333333333333333,
             "#9c179e"
            ],
            [
             0.4444444444444444,
             "#bd3786"
            ],
            [
             0.5555555555555556,
             "#d8576b"
            ],
            [
             0.6666666666666666,
             "#ed7953"
            ],
            [
             0.7777777777777778,
             "#fb9f3a"
            ],
            [
             0.8888888888888888,
             "#fdca26"
            ],
            [
             1,
             "#f0f921"
            ]
           ]
          },
          "colorway": [
           "#636efa",
           "#EF553B",
           "#00cc96",
           "#ab63fa",
           "#FFA15A",
           "#19d3f3",
           "#FF6692",
           "#B6E880",
           "#FF97FF",
           "#FECB52"
          ],
          "font": {
           "color": "#2a3f5f"
          },
          "geo": {
           "bgcolor": "white",
           "lakecolor": "white",
           "landcolor": "#E5ECF6",
           "showlakes": true,
           "showland": true,
           "subunitcolor": "white"
          },
          "hoverlabel": {
           "align": "left"
          },
          "hovermode": "closest",
          "mapbox": {
           "style": "light"
          },
          "paper_bgcolor": "white",
          "plot_bgcolor": "#E5ECF6",
          "polar": {
           "angularaxis": {
            "gridcolor": "white",
            "linecolor": "white",
            "ticks": ""
           },
           "bgcolor": "#E5ECF6",
           "radialaxis": {
            "gridcolor": "white",
            "linecolor": "white",
            "ticks": ""
           }
          },
          "scene": {
           "xaxis": {
            "backgroundcolor": "#E5ECF6",
            "gridcolor": "white",
            "gridwidth": 2,
            "linecolor": "white",
            "showbackground": true,
            "ticks": "",
            "zerolinecolor": "white"
           },
           "yaxis": {
            "backgroundcolor": "#E5ECF6",
            "gridcolor": "white",
            "gridwidth": 2,
            "linecolor": "white",
            "showbackground": true,
            "ticks": "",
            "zerolinecolor": "white"
           },
           "zaxis": {
            "backgroundcolor": "#E5ECF6",
            "gridcolor": "white",
            "gridwidth": 2,
            "linecolor": "white",
            "showbackground": true,
            "ticks": "",
            "zerolinecolor": "white"
           }
          },
          "shapedefaults": {
           "line": {
            "color": "#2a3f5f"
           }
          },
          "ternary": {
           "aaxis": {
            "gridcolor": "white",
            "linecolor": "white",
            "ticks": ""
           },
           "baxis": {
            "gridcolor": "white",
            "linecolor": "white",
            "ticks": ""
           },
           "bgcolor": "#E5ECF6",
           "caxis": {
            "gridcolor": "white",
            "linecolor": "white",
            "ticks": ""
           }
          },
          "title": {
           "x": 0.05
          },
          "xaxis": {
           "automargin": true,
           "gridcolor": "white",
           "linecolor": "white",
           "ticks": "",
           "title": {
            "standoff": 15
           },
           "zerolinecolor": "white",
           "zerolinewidth": 2
          },
          "yaxis": {
           "automargin": true,
           "gridcolor": "white",
           "linecolor": "white",
           "ticks": "",
           "title": {
            "standoff": 15
           },
           "zerolinecolor": "white",
           "zerolinewidth": 2
          }
         }
        },
        "xaxis": {
         "anchor": "y",
         "domain": [
          0,
          1
         ],
         "title": {
          "text": "total_amount_items"
         }
        },
        "yaxis": {
         "anchor": "x",
         "domain": [
          0,
          1
         ],
         "title": {
          "text": "kpt_duration_mean"
         }
        }
       }
      }
     },
     "metadata": {},
     "output_type": "display_data"
    }
   ],
   "source": [
    "px.line(\n",
    "    df_grouped_total_items,\n",
    "    x='total_amount_items',\n",
    "    y='kpt_duration_mean'\n",
    ")"
   ]
  },
  {
   "cell_type": "code",
   "execution_count": 448,
   "metadata": {},
   "outputs": [
    {
     "name": "stdout",
     "output_type": "stream",
     "text": [
      "Percentage of multiple order quantity records: 0.1078\n",
      "2299\n"
     ]
    },
    {
     "data": {
      "text/html": [
       "<div><style>\n",
       ".dataframe > thead > tr,\n",
       ".dataframe > tbody > tr {\n",
       "  text-align: right;\n",
       "  white-space: pre-wrap;\n",
       "}\n",
       "</style>\n",
       "<small>shape: (5, 33)</small><table border=\"1\" class=\"dataframe\"><thead><tr><th>restaurant_id</th><th>restaurant_name</th><th>subzone</th><th>order_id</th><th>order_placed_at</th><th>order_status</th><th>distance</th><th>items_in_order</th><th>instructions</th><th>discount_construct</th><th>bill_subtotal</th><th>packaging_charges</th><th>restaurant_discount_promo</th><th>restaurant_discount_others</th><th>gold_discount</th><th>brand_pack_discount</th><th>total</th><th>rating</th><th>review</th><th>cancellation_rejection_reason</th><th>restaurant_compensation_cancellation</th><th>restaurant_penalty_rejection</th><th>kpt_duration_minutes</th><th>rider_wait_time_minutes</th><th>order_ready_marked</th><th>customer_complaint_tag</th><th>customer_id</th><th>distance_km</th><th>items_in_order_list</th><th>items_in_order_transformed</th><th>distinct_items</th><th>distinct_amount_items</th><th>total_amount_items</th></tr><tr><td>str</td><td>str</td><td>str</td><td>str</td><td>datetime[μs]</td><td>str</td><td>str</td><td>str</td><td>str</td><td>str</td><td>f64</td><td>f64</td><td>f64</td><td>f64</td><td>f64</td><td>f64</td><td>f64</td><td>f64</td><td>str</td><td>str</td><td>f64</td><td>f64</td><td>f64</td><td>f64</td><td>str</td><td>str</td><td>str</td><td>f32</td><td>list[str]</td><td>list[list[str]]</td><td>list[str]</td><td>u32</td><td>i32</td></tr></thead><tbody><tr><td>&quot;20320607&quot;</td><td>&quot;Swaad&quot;</td><td>&quot;Sector 4&quot;</td><td>&quot;6153489136&quot;</td><td>2024-09-08 19:21:00</td><td>&quot;Delivered&quot;</td><td>&quot;4km&quot;</td><td>&quot;2 x Tipsy Tiger Ginger Ale, 1 …</td><td>null</td><td>null</td><td>858.1</td><td>42.91</td><td>0.0</td><td>0.0</td><td>0.0</td><td>0.0</td><td>901.01</td><td>null</td><td>null</td><td>null</td><td>null</td><td>null</td><td>20.3</td><td>8.6</td><td>&quot;Correctly&quot;</td><td>null</td><td>&quot;a4fb8d5447830dfa482d20ce3a20bc…</td><td>4.0</td><td>[&quot;2 x Tipsy Tiger Ginger Ale&quot;, &quot; 1 x Bone in Jamaican Grilled Chicken&quot;, &quot; 1 x Bone in Smoky Bbq Grilled Chicken&quot;]</td><td>[[&quot;2&quot;, &quot;Tipsy Tiger Ginger Ale&quot;], [&quot;1&quot;, &quot;Bone in Jamaican Grilled Chicken&quot;], [&quot;1&quot;, &quot;Bone in Smoky Bbq Grilled Chicken&quot;]]</td><td>[&quot;Tipsy Tiger Ginger Ale&quot;, &quot;Bone in Smoky Bbq Grilled Chicken&quot;, &quot;Bone in Jamaican Grilled Chicken&quot;]</td><td>3</td><td>4</td></tr><tr><td>&quot;20320607&quot;</td><td>&quot;Swaad&quot;</td><td>&quot;Sector 4&quot;</td><td>&quot;6157562143&quot;</td><td>2024-09-06 21:23:00</td><td>&quot;Delivered&quot;</td><td>&quot;3km&quot;</td><td>&quot;1 x Jamaican Sauce, 2 x Grille…</td><td>null</td><td>&quot;Flat Rs.80 off&quot;</td><td>680.0</td><td>30.0</td><td>80.0</td><td>0.0</td><td>0.0</td><td>0.0</td><td>630.0</td><td>null</td><td>null</td><td>null</td><td>null</td><td>null</td><td>15.98</td><td>2.4</td><td>&quot;Correctly&quot;</td><td>null</td><td>&quot;a84ab19e1691226e429b3f4495db99…</td><td>3.0</td><td>[&quot;1 x Jamaican Sauce&quot;, &quot; 2 x Grilled Chicken Jamaican Tender&quot;]</td><td>[[&quot;1&quot;, &quot;Jamaican Sauce&quot;], [&quot;2&quot;, &quot;Grilled Chicken Jamaican Tender&quot;]]</td><td>[&quot;Jamaican Sauce&quot;, &quot;Grilled Chicken Jamaican Tender&quot;]</td><td>2</td><td>3</td></tr><tr><td>&quot;20320607&quot;</td><td>&quot;Swaad&quot;</td><td>&quot;Sector 4&quot;</td><td>&quot;6146501186&quot;</td><td>2024-09-05 01:16:00</td><td>&quot;Delivered&quot;</td><td>&quot;8km&quot;</td><td>&quot;2 x Bone in Jamaican Grilled C…</td><td>null</td><td>null</td><td>840.0</td><td>21.0</td><td>0.0</td><td>420.0</td><td>0.0</td><td>0.0</td><td>441.0</td><td>null</td><td>null</td><td>null</td><td>null</td><td>null</td><td>17.03</td><td>1.2</td><td>&quot;Correctly&quot;</td><td>null</td><td>&quot;233304762f6d9e8903e3fd792fa1ab…</td><td>8.0</td><td>[&quot;2 x Bone in Jamaican Grilled Chicken&quot;]</td><td>[[&quot;2&quot;, &quot;Bone in Jamaican Grilled Chicken&quot;]]</td><td>[&quot;Bone in Jamaican Grilled Chicken&quot;]</td><td>1</td><td>2</td></tr><tr><td>&quot;20320607&quot;</td><td>&quot;Swaad&quot;</td><td>&quot;Sector 4&quot;</td><td>&quot;6145930056&quot;</td><td>2024-09-05 00:38:00</td><td>&quot;Delivered&quot;</td><td>&quot;9km&quot;</td><td>&quot;2 x Bone in Kabuli Grilled Chi…</td><td>null</td><td>null</td><td>1170.0</td><td>29.25</td><td>0.0</td><td>585.0</td><td>0.0</td><td>0.0</td><td>614.25</td><td>null</td><td>null</td><td>null</td><td>null</td><td>null</td><td>18.73</td><td>2.8</td><td>&quot;Correctly&quot;</td><td>null</td><td>&quot;cffe01c0be11370e104086d48ca746…</td><td>9.0</td><td>[&quot;2 x Bone in Kabuli Grilled Chicken&quot;]</td><td>[[&quot;2&quot;, &quot;Bone in Kabuli Grilled Chicken&quot;]]</td><td>[&quot;Bone in Kabuli Grilled Chicken&quot;]</td><td>1</td><td>2</td></tr><tr><td>&quot;20320607&quot;</td><td>&quot;Swaad&quot;</td><td>&quot;Sector 4&quot;</td><td>&quot;6145781285&quot;</td><td>2024-09-04 22:34:00</td><td>&quot;Delivered&quot;</td><td>&quot;2km&quot;</td><td>&quot;2 x Bone in Peri Peri Grilled …</td><td>null</td><td>null</td><td>1290.0</td><td>32.25</td><td>0.0</td><td>645.0</td><td>0.0</td><td>0.0</td><td>677.25</td><td>null</td><td>null</td><td>null</td><td>null</td><td>null</td><td>15.92</td><td>5.9</td><td>&quot;Correctly&quot;</td><td>null</td><td>&quot;e1248ba01f5b3ffbab3adde359bfc4…</td><td>2.0</td><td>[&quot;2 x Bone in Peri Peri Grilled Chicken&quot;]</td><td>[[&quot;2&quot;, &quot;Bone in Peri Peri Grilled Chicken&quot;]]</td><td>[&quot;Bone in Peri Peri Grilled Chicken&quot;]</td><td>1</td><td>2</td></tr></tbody></table></div>"
      ],
      "text/plain": [
       "shape: (5, 33)\n",
       "┌─────┬─────┬─────┬─────┬─────┬─────┬─────┬─────┬─────┬─────┬─────┬─────┬─────┬─────┬─────┬─────┬─────┬─────┬─────┬─────┬─────┬─────┬─────┬─────┬─────┬─────┬─────┬─────┬─────┬─────┬─────┬─────┬─────┐\n",
       "│ res ┆ res ┆ sub ┆ ord ┆ ord ┆ ord ┆ dis ┆ ite ┆ ins ┆ dis ┆ bil ┆ pac ┆ res ┆ res ┆ gol ┆ bra ┆ tot ┆ rat ┆ rev ┆ can ┆ res ┆ res ┆ kpt ┆ rid ┆ ord ┆ cus ┆ cus ┆ dis ┆ ite ┆ ite ┆ dis ┆ dis ┆ tot │\n",
       "│ tau ┆ tau ┆ zon ┆ er_ ┆ er_ ┆ er_ ┆ tan ┆ ms_ ┆ tru ┆ cou ┆ l_s ┆ kag ┆ tau ┆ tau ┆ d_d ┆ nd_ ┆ al  ┆ ing ┆ iew ┆ cel ┆ tau ┆ tau ┆ _du ┆ er_ ┆ er_ ┆ tom ┆ tom ┆ tan ┆ ms_ ┆ ms_ ┆ tin ┆ tin ┆ al_ │\n",
       "│ ran ┆ ran ┆ e   ┆ id  ┆ pla ┆ sta ┆ ce  ┆ in_ ┆ cti ┆ nt_ ┆ ubt ┆ ing ┆ ran ┆ ran ┆ isc ┆ pac ┆ --- ┆ --- ┆ --- ┆ lat ┆ ran ┆ ran ┆ rat ┆ wai ┆ rea ┆ er_ ┆ er_ ┆ ce_ ┆ in_ ┆ in_ ┆ ct_ ┆ ct_ ┆ amo │\n",
       "│ t_i ┆ t_n ┆ --- ┆ --- ┆ ced ┆ tus ┆ --- ┆ ord ┆ ons ┆ con ┆ ota ┆ _ch ┆ t_d ┆ t_d ┆ oun ┆ k_d ┆ f64 ┆ f64 ┆ str ┆ ion ┆ t_c ┆ t_p ┆ ion ┆ t_t ┆ dy_ ┆ com ┆ id  ┆ km  ┆ ord ┆ ord ┆ ite ┆ amo ┆ unt │\n",
       "│ d   ┆ ame ┆ str ┆ str ┆ _at ┆ --- ┆ str ┆ er  ┆ --- ┆ str ┆ l   ┆ arg ┆ isc ┆ isc ┆ t   ┆ isc ┆     ┆     ┆     ┆ _re ┆ omp ┆ ena ┆ _mi ┆ ime ┆ mar ┆ pla ┆ --- ┆ --- ┆ er_ ┆ er_ ┆ ms  ┆ unt ┆ _it │\n",
       "│ --- ┆ --- ┆     ┆     ┆ --- ┆ str ┆     ┆ --- ┆ str ┆ uct ┆ --- ┆ es  ┆ oun ┆ oun ┆ --- ┆ oun ┆     ┆     ┆     ┆ jec ┆ ens ┆ lty ┆ nut ┆ _mi ┆ ked ┆ int ┆ str ┆ f32 ┆ lis ┆ tra ┆ --- ┆ _it ┆ ems │\n",
       "│ str ┆ str ┆     ┆     ┆ dat ┆     ┆     ┆ str ┆     ┆ --- ┆ f64 ┆ --- ┆ t_p ┆ t_o ┆ f64 ┆ t   ┆     ┆     ┆     ┆ tio ┆ ati ┆ _re ┆ es  ┆ nut ┆ --- ┆ _ta ┆     ┆     ┆ t   ┆ nsf ┆ lis ┆ ems ┆ --- │\n",
       "│     ┆     ┆     ┆     ┆ eti ┆     ┆     ┆     ┆     ┆ str ┆     ┆ f64 ┆ rom ┆ the ┆     ┆ --- ┆     ┆     ┆     ┆ n_r ┆ on_ ┆ jec ┆ --- ┆ es  ┆ str ┆ g   ┆     ┆     ┆ --- ┆ orm ┆ t[s ┆ --- ┆ i32 │\n",
       "│     ┆     ┆     ┆     ┆ me[ ┆     ┆     ┆     ┆     ┆     ┆     ┆     ┆ o   ┆ rs  ┆     ┆ f64 ┆     ┆     ┆     ┆ eas ┆ can ┆ tio ┆ f64 ┆ --- ┆     ┆ --- ┆     ┆     ┆ lis ┆ ed  ┆ tr] ┆ u32 ┆     │\n",
       "│     ┆     ┆     ┆     ┆ μs] ┆     ┆     ┆     ┆     ┆     ┆     ┆     ┆ --- ┆ --- ┆     ┆     ┆     ┆     ┆     ┆ on  ┆ cel ┆ n   ┆     ┆ f64 ┆     ┆ str ┆     ┆     ┆ t[s ┆ --- ┆     ┆     ┆     │\n",
       "│     ┆     ┆     ┆     ┆     ┆     ┆     ┆     ┆     ┆     ┆     ┆     ┆ f64 ┆ f64 ┆     ┆     ┆     ┆     ┆     ┆ --- ┆ …   ┆ --- ┆     ┆     ┆     ┆     ┆     ┆     ┆ tr] ┆ lis ┆     ┆     ┆     │\n",
       "│     ┆     ┆     ┆     ┆     ┆     ┆     ┆     ┆     ┆     ┆     ┆     ┆     ┆     ┆     ┆     ┆     ┆     ┆     ┆ str ┆ --- ┆ f64 ┆     ┆     ┆     ┆     ┆     ┆     ┆     ┆ t[l ┆     ┆     ┆     │\n",
       "│     ┆     ┆     ┆     ┆     ┆     ┆     ┆     ┆     ┆     ┆     ┆     ┆     ┆     ┆     ┆     ┆     ┆     ┆     ┆     ┆ f64 ┆     ┆     ┆     ┆     ┆     ┆     ┆     ┆     ┆ ist ┆     ┆     ┆     │\n",
       "│     ┆     ┆     ┆     ┆     ┆     ┆     ┆     ┆     ┆     ┆     ┆     ┆     ┆     ┆     ┆     ┆     ┆     ┆     ┆     ┆     ┆     ┆     ┆     ┆     ┆     ┆     ┆     ┆     ┆ [st ┆     ┆     ┆     │\n",
       "│     ┆     ┆     ┆     ┆     ┆     ┆     ┆     ┆     ┆     ┆     ┆     ┆     ┆     ┆     ┆     ┆     ┆     ┆     ┆     ┆     ┆     ┆     ┆     ┆     ┆     ┆     ┆     ┆     ┆ r]] ┆     ┆     ┆     │\n",
       "╞═════╪═════╪═════╪═════╪═════╪═════╪═════╪═════╪═════╪═════╪═════╪═════╪═════╪═════╪═════╪═════╪═════╪═════╪═════╪═════╪═════╪═════╪═════╪═════╪═════╪═════╪═════╪═════╪═════╪═════╪═════╪═════╪═════╡\n",
       "│ 203 ┆ Swa ┆ Sec ┆ 615 ┆ 202 ┆ Del ┆ 4km ┆ 2 x ┆ nul ┆ nul ┆ 858 ┆ 42. ┆ 0.0 ┆ 0.0 ┆ 0.0 ┆ 0.0 ┆ 901 ┆ nul ┆ nul ┆ nul ┆ nul ┆ nul ┆ 20. ┆ 8.6 ┆ Cor ┆ nul ┆ a4f ┆ 4.0 ┆ [\"2 ┆ [[\" ┆ [\"T ┆ 3   ┆ 4   │\n",
       "│ 206 ┆ ad  ┆ tor ┆ 348 ┆ 4-0 ┆ ive ┆     ┆ Tip ┆ l   ┆ l   ┆ .1  ┆ 91  ┆     ┆     ┆     ┆     ┆ .01 ┆ l   ┆ l   ┆ l   ┆ l   ┆ l   ┆ 3   ┆     ┆ rec ┆ l   ┆ b8d ┆     ┆ x   ┆ 2\", ┆ ips ┆     ┆     │\n",
       "│ 07  ┆     ┆ 4   ┆ 913 ┆ 9-0 ┆ red ┆     ┆ sy  ┆     ┆     ┆     ┆     ┆     ┆     ┆     ┆     ┆     ┆     ┆     ┆     ┆     ┆     ┆     ┆     ┆ tly ┆     ┆ 544 ┆     ┆ Tip ┆ \"Ti ┆ y   ┆     ┆     │\n",
       "│     ┆     ┆     ┆ 6   ┆ 8   ┆     ┆     ┆ Tig ┆     ┆     ┆     ┆     ┆     ┆     ┆     ┆     ┆     ┆     ┆     ┆     ┆     ┆     ┆     ┆     ┆     ┆     ┆ 783 ┆     ┆ sy  ┆ psy ┆ Tig ┆     ┆     │\n",
       "│     ┆     ┆     ┆     ┆ 19: ┆     ┆     ┆ er  ┆     ┆     ┆     ┆     ┆     ┆     ┆     ┆     ┆     ┆     ┆     ┆     ┆     ┆     ┆     ┆     ┆     ┆     ┆ 0df ┆     ┆ Tig ┆ Tig ┆ er  ┆     ┆     │\n",
       "│     ┆     ┆     ┆     ┆ 21: ┆     ┆     ┆ Gin ┆     ┆     ┆     ┆     ┆     ┆     ┆     ┆     ┆     ┆     ┆     ┆     ┆     ┆     ┆     ┆     ┆     ┆     ┆ a48 ┆     ┆ er  ┆ er  ┆ Gin ┆     ┆     │\n",
       "│     ┆     ┆     ┆     ┆ 00  ┆     ┆     ┆ ger ┆     ┆     ┆     ┆     ┆     ┆     ┆     ┆     ┆     ┆     ┆     ┆     ┆     ┆     ┆     ┆     ┆     ┆     ┆ 2d2 ┆     ┆ Gin ┆ Gin ┆ ger ┆     ┆     │\n",
       "│     ┆     ┆     ┆     ┆     ┆     ┆     ┆ Ale ┆     ┆     ┆     ┆     ┆     ┆     ┆     ┆     ┆     ┆     ┆     ┆     ┆     ┆     ┆     ┆     ┆     ┆     ┆ 0ce ┆     ┆ ger ┆ ger ┆ Ale ┆     ┆     │\n",
       "│     ┆     ┆     ┆     ┆     ┆     ┆     ┆ , 1 ┆     ┆     ┆     ┆     ┆     ┆     ┆     ┆     ┆     ┆     ┆     ┆     ┆     ┆     ┆     ┆     ┆     ┆     ┆ 3a2 ┆     ┆ Ale ┆ Ale ┆ \",  ┆     ┆     │\n",
       "│     ┆     ┆     ┆     ┆     ┆     ┆     ┆ …   ┆     ┆     ┆     ┆     ┆     ┆     ┆     ┆     ┆     ┆     ┆     ┆     ┆     ┆     ┆     ┆     ┆     ┆     ┆ 0bc ┆     ┆ \",… ┆ …   ┆ \"Bo ┆     ┆     │\n",
       "│     ┆     ┆     ┆     ┆     ┆     ┆     ┆     ┆     ┆     ┆     ┆     ┆     ┆     ┆     ┆     ┆     ┆     ┆     ┆     ┆     ┆     ┆     ┆     ┆     ┆     ┆ …   ┆     ┆     ┆     ┆ …   ┆     ┆     │\n",
       "│ 203 ┆ Swa ┆ Sec ┆ 615 ┆ 202 ┆ Del ┆ 3km ┆ 1 x ┆ nul ┆ Fla ┆ 680 ┆ 30. ┆ 80. ┆ 0.0 ┆ 0.0 ┆ 0.0 ┆ 630 ┆ nul ┆ nul ┆ nul ┆ nul ┆ nul ┆ 15. ┆ 2.4 ┆ Cor ┆ nul ┆ a84 ┆ 3.0 ┆ [\"1 ┆ [[\" ┆ [\"J ┆ 2   ┆ 3   │\n",
       "│ 206 ┆ ad  ┆ tor ┆ 756 ┆ 4-0 ┆ ive ┆     ┆ Jam ┆ l   ┆ t   ┆ .0  ┆ 0   ┆ 0   ┆     ┆     ┆     ┆ .0  ┆ l   ┆ l   ┆ l   ┆ l   ┆ l   ┆ 98  ┆     ┆ rec ┆ l   ┆ ab1 ┆     ┆ x   ┆ 1\", ┆ ama ┆     ┆     │\n",
       "│ 07  ┆     ┆ 4   ┆ 214 ┆ 9-0 ┆ red ┆     ┆ aic ┆     ┆ Rs. ┆     ┆     ┆     ┆     ┆     ┆     ┆     ┆     ┆     ┆     ┆     ┆     ┆     ┆     ┆ tly ┆     ┆ 9e1 ┆     ┆ Jam ┆ \"Ja ┆ ica ┆     ┆     │\n",
       "│     ┆     ┆     ┆ 3   ┆ 6   ┆     ┆     ┆ an  ┆     ┆ 80  ┆     ┆     ┆     ┆     ┆     ┆     ┆     ┆     ┆     ┆     ┆     ┆     ┆     ┆     ┆     ┆     ┆ 691 ┆     ┆ aic ┆ mai ┆ n   ┆     ┆     │\n",
       "│     ┆     ┆     ┆     ┆ 21: ┆     ┆     ┆ Sau ┆     ┆ off ┆     ┆     ┆     ┆     ┆     ┆     ┆     ┆     ┆     ┆     ┆     ┆     ┆     ┆     ┆     ┆     ┆ 226 ┆     ┆ an  ┆ can ┆ Sau ┆     ┆     │\n",
       "│     ┆     ┆     ┆     ┆ 23: ┆     ┆     ┆ ce, ┆     ┆     ┆     ┆     ┆     ┆     ┆     ┆     ┆     ┆     ┆     ┆     ┆     ┆     ┆     ┆     ┆     ┆     ┆ e42 ┆     ┆ Sau ┆ Sau ┆ ce\" ┆     ┆     │\n",
       "│     ┆     ┆     ┆     ┆ 00  ┆     ┆     ┆ 2 x ┆     ┆     ┆     ┆     ┆     ┆     ┆     ┆     ┆     ┆     ┆     ┆     ┆     ┆     ┆     ┆     ┆     ┆     ┆ 9b3 ┆     ┆ ce\" ┆ ce\" ┆ ,   ┆     ┆     │\n",
       "│     ┆     ┆     ┆     ┆     ┆     ┆     ┆ Gri ┆     ┆     ┆     ┆     ┆     ┆     ┆     ┆     ┆     ┆     ┆     ┆     ┆     ┆     ┆     ┆     ┆     ┆     ┆ f44 ┆     ┆ , \" ┆ ],  ┆ \"Gr ┆     ┆     │\n",
       "│     ┆     ┆     ┆     ┆     ┆     ┆     ┆ lle ┆     ┆     ┆     ┆     ┆     ┆     ┆     ┆     ┆     ┆     ┆     ┆     ┆     ┆     ┆     ┆     ┆     ┆     ┆ 95d ┆     ┆ 2 x ┆ [\"2 ┆ ill ┆     ┆     │\n",
       "│     ┆     ┆     ┆     ┆     ┆     ┆     ┆ …   ┆     ┆     ┆     ┆     ┆     ┆     ┆     ┆     ┆     ┆     ┆     ┆     ┆     ┆     ┆     ┆     ┆     ┆     ┆ b99 ┆     ┆ G…  ┆ \"…  ┆ ed  ┆     ┆     │\n",
       "│     ┆     ┆     ┆     ┆     ┆     ┆     ┆     ┆     ┆     ┆     ┆     ┆     ┆     ┆     ┆     ┆     ┆     ┆     ┆     ┆     ┆     ┆     ┆     ┆     ┆     ┆ …   ┆     ┆     ┆     ┆ Ch… ┆     ┆     │\n",
       "│ 203 ┆ Swa ┆ Sec ┆ 614 ┆ 202 ┆ Del ┆ 8km ┆ 2 x ┆ nul ┆ nul ┆ 840 ┆ 21. ┆ 0.0 ┆ 420 ┆ 0.0 ┆ 0.0 ┆ 441 ┆ nul ┆ nul ┆ nul ┆ nul ┆ nul ┆ 17. ┆ 1.2 ┆ Cor ┆ nul ┆ 233 ┆ 8.0 ┆ [\"2 ┆ [[\" ┆ [\"B ┆ 1   ┆ 2   │\n",
       "│ 206 ┆ ad  ┆ tor ┆ 650 ┆ 4-0 ┆ ive ┆     ┆ Bon ┆ l   ┆ l   ┆ .0  ┆ 0   ┆     ┆ .0  ┆     ┆     ┆ .0  ┆ l   ┆ l   ┆ l   ┆ l   ┆ l   ┆ 03  ┆     ┆ rec ┆ l   ┆ 304 ┆     ┆ x   ┆ 2\", ┆ one ┆     ┆     │\n",
       "│ 07  ┆     ┆ 4   ┆ 118 ┆ 9-0 ┆ red ┆     ┆ e   ┆     ┆     ┆     ┆     ┆     ┆     ┆     ┆     ┆     ┆     ┆     ┆     ┆     ┆     ┆     ┆     ┆ tly ┆     ┆ 762 ┆     ┆ Bon ┆ \"Bo ┆ in  ┆     ┆     │\n",
       "│     ┆     ┆     ┆ 6   ┆ 5   ┆     ┆     ┆ in  ┆     ┆     ┆     ┆     ┆     ┆     ┆     ┆     ┆     ┆     ┆     ┆     ┆     ┆     ┆     ┆     ┆     ┆     ┆ f6d ┆     ┆ e   ┆ ne  ┆ Jam ┆     ┆     │\n",
       "│     ┆     ┆     ┆     ┆ 01: ┆     ┆     ┆ Jam ┆     ┆     ┆     ┆     ┆     ┆     ┆     ┆     ┆     ┆     ┆     ┆     ┆     ┆     ┆     ┆     ┆     ┆     ┆ 9e8 ┆     ┆ in  ┆ in  ┆ aic ┆     ┆     │\n",
       "│     ┆     ┆     ┆     ┆ 16: ┆     ┆     ┆ aic ┆     ┆     ┆     ┆     ┆     ┆     ┆     ┆     ┆     ┆     ┆     ┆     ┆     ┆     ┆     ┆     ┆     ┆     ┆ 903 ┆     ┆ Jam ┆ Jam ┆ an  ┆     ┆     │\n",
       "│     ┆     ┆     ┆     ┆ 00  ┆     ┆     ┆ an  ┆     ┆     ┆     ┆     ┆     ┆     ┆     ┆     ┆     ┆     ┆     ┆     ┆     ┆     ┆     ┆     ┆     ┆     ┆ e3f ┆     ┆ aic ┆ aic ┆ Gri ┆     ┆     │\n",
       "│     ┆     ┆     ┆     ┆     ┆     ┆     ┆ Gri ┆     ┆     ┆     ┆     ┆     ┆     ┆     ┆     ┆     ┆     ┆     ┆     ┆     ┆     ┆     ┆     ┆     ┆     ┆ d79 ┆     ┆ an  ┆ an  ┆ lle ┆     ┆     │\n",
       "│     ┆     ┆     ┆     ┆     ┆     ┆     ┆ lle ┆     ┆     ┆     ┆     ┆     ┆     ┆     ┆     ┆     ┆     ┆     ┆     ┆     ┆     ┆     ┆     ┆     ┆     ┆ 2fa ┆     ┆ Gri ┆ Gri ┆ d   ┆     ┆     │\n",
       "│     ┆     ┆     ┆     ┆     ┆     ┆     ┆ d   ┆     ┆     ┆     ┆     ┆     ┆     ┆     ┆     ┆     ┆     ┆     ┆     ┆     ┆     ┆     ┆     ┆     ┆     ┆ 1ab ┆     ┆ lle ┆ ll… ┆ Chi ┆     ┆     │\n",
       "│     ┆     ┆     ┆     ┆     ┆     ┆     ┆ C…  ┆     ┆     ┆     ┆     ┆     ┆     ┆     ┆     ┆     ┆     ┆     ┆     ┆     ┆     ┆     ┆     ┆     ┆     ┆ …   ┆     ┆ d…  ┆     ┆ …   ┆     ┆     │\n",
       "│ 203 ┆ Swa ┆ Sec ┆ 614 ┆ 202 ┆ Del ┆ 9km ┆ 2 x ┆ nul ┆ nul ┆ 117 ┆ 29. ┆ 0.0 ┆ 585 ┆ 0.0 ┆ 0.0 ┆ 614 ┆ nul ┆ nul ┆ nul ┆ nul ┆ nul ┆ 18. ┆ 2.8 ┆ Cor ┆ nul ┆ cff ┆ 9.0 ┆ [\"2 ┆ [[\" ┆ [\"B ┆ 1   ┆ 2   │\n",
       "│ 206 ┆ ad  ┆ tor ┆ 593 ┆ 4-0 ┆ ive ┆     ┆ Bon ┆ l   ┆ l   ┆ 0.0 ┆ 25  ┆     ┆ .0  ┆     ┆     ┆ .25 ┆ l   ┆ l   ┆ l   ┆ l   ┆ l   ┆ 73  ┆     ┆ rec ┆ l   ┆ e01 ┆     ┆ x   ┆ 2\", ┆ one ┆     ┆     │\n",
       "│ 07  ┆     ┆ 4   ┆ 005 ┆ 9-0 ┆ red ┆     ┆ e   ┆     ┆     ┆     ┆     ┆     ┆     ┆     ┆     ┆     ┆     ┆     ┆     ┆     ┆     ┆     ┆     ┆ tly ┆     ┆ c0b ┆     ┆ Bon ┆ \"Bo ┆ in  ┆     ┆     │\n",
       "│     ┆     ┆     ┆ 6   ┆ 5   ┆     ┆     ┆ in  ┆     ┆     ┆     ┆     ┆     ┆     ┆     ┆     ┆     ┆     ┆     ┆     ┆     ┆     ┆     ┆     ┆     ┆     ┆ e11 ┆     ┆ e   ┆ ne  ┆ Kab ┆     ┆     │\n",
       "│     ┆     ┆     ┆     ┆ 00: ┆     ┆     ┆ Kab ┆     ┆     ┆     ┆     ┆     ┆     ┆     ┆     ┆     ┆     ┆     ┆     ┆     ┆     ┆     ┆     ┆     ┆     ┆ 370 ┆     ┆ in  ┆ in  ┆ uli ┆     ┆     │\n",
       "│     ┆     ┆     ┆     ┆ 38: ┆     ┆     ┆ uli ┆     ┆     ┆     ┆     ┆     ┆     ┆     ┆     ┆     ┆     ┆     ┆     ┆     ┆     ┆     ┆     ┆     ┆     ┆ e10 ┆     ┆ Kab ┆ Kab ┆ Gri ┆     ┆     │\n",
       "│     ┆     ┆     ┆     ┆ 00  ┆     ┆     ┆ Gri ┆     ┆     ┆     ┆     ┆     ┆     ┆     ┆     ┆     ┆     ┆     ┆     ┆     ┆     ┆     ┆     ┆     ┆     ┆ 408 ┆     ┆ uli ┆ uli ┆ lle ┆     ┆     │\n",
       "│     ┆     ┆     ┆     ┆     ┆     ┆     ┆ lle ┆     ┆     ┆     ┆     ┆     ┆     ┆     ┆     ┆     ┆     ┆     ┆     ┆     ┆     ┆     ┆     ┆     ┆     ┆ 6d4 ┆     ┆ Gri ┆ Gri ┆ d   ┆     ┆     │\n",
       "│     ┆     ┆     ┆     ┆     ┆     ┆     ┆ d   ┆     ┆     ┆     ┆     ┆     ┆     ┆     ┆     ┆     ┆     ┆     ┆     ┆     ┆     ┆     ┆     ┆     ┆     ┆ 8ca ┆     ┆ lle ┆ lle ┆ Chi ┆     ┆     │\n",
       "│     ┆     ┆     ┆     ┆     ┆     ┆     ┆ Chi ┆     ┆     ┆     ┆     ┆     ┆     ┆     ┆     ┆     ┆     ┆     ┆     ┆     ┆     ┆     ┆     ┆     ┆     ┆ 746 ┆     ┆ d   ┆ d…  ┆ ck… ┆     ┆     │\n",
       "│     ┆     ┆     ┆     ┆     ┆     ┆     ┆ …   ┆     ┆     ┆     ┆     ┆     ┆     ┆     ┆     ┆     ┆     ┆     ┆     ┆     ┆     ┆     ┆     ┆     ┆     ┆ …   ┆     ┆ C…  ┆     ┆     ┆     ┆     │\n",
       "│ 203 ┆ Swa ┆ Sec ┆ 614 ┆ 202 ┆ Del ┆ 2km ┆ 2 x ┆ nul ┆ nul ┆ 129 ┆ 32. ┆ 0.0 ┆ 645 ┆ 0.0 ┆ 0.0 ┆ 677 ┆ nul ┆ nul ┆ nul ┆ nul ┆ nul ┆ 15. ┆ 5.9 ┆ Cor ┆ nul ┆ e12 ┆ 2.0 ┆ [\"2 ┆ [[\" ┆ [\"B ┆ 1   ┆ 2   │\n",
       "│ 206 ┆ ad  ┆ tor ┆ 578 ┆ 4-0 ┆ ive ┆     ┆ Bon ┆ l   ┆ l   ┆ 0.0 ┆ 25  ┆     ┆ .0  ┆     ┆     ┆ .25 ┆ l   ┆ l   ┆ l   ┆ l   ┆ l   ┆ 92  ┆     ┆ rec ┆ l   ┆ 48b ┆     ┆ x   ┆ 2\", ┆ one ┆     ┆     │\n",
       "│ 07  ┆     ┆ 4   ┆ 128 ┆ 9-0 ┆ red ┆     ┆ e   ┆     ┆     ┆     ┆     ┆     ┆     ┆     ┆     ┆     ┆     ┆     ┆     ┆     ┆     ┆     ┆     ┆ tly ┆     ┆ a01 ┆     ┆ Bon ┆ \"Bo ┆ in  ┆     ┆     │\n",
       "│     ┆     ┆     ┆ 5   ┆ 4   ┆     ┆     ┆ in  ┆     ┆     ┆     ┆     ┆     ┆     ┆     ┆     ┆     ┆     ┆     ┆     ┆     ┆     ┆     ┆     ┆     ┆     ┆ f5b ┆     ┆ e   ┆ ne  ┆ Per ┆     ┆     │\n",
       "│     ┆     ┆     ┆     ┆ 22: ┆     ┆     ┆ Per ┆     ┆     ┆     ┆     ┆     ┆     ┆     ┆     ┆     ┆     ┆     ┆     ┆     ┆     ┆     ┆     ┆     ┆     ┆ 3ff ┆     ┆ in  ┆ in  ┆ i   ┆     ┆     │\n",
       "│     ┆     ┆     ┆     ┆ 34: ┆     ┆     ┆ i   ┆     ┆     ┆     ┆     ┆     ┆     ┆     ┆     ┆     ┆     ┆     ┆     ┆     ┆     ┆     ┆     ┆     ┆     ┆ bab ┆     ┆ Per ┆ Per ┆ Per ┆     ┆     │\n",
       "│     ┆     ┆     ┆     ┆ 00  ┆     ┆     ┆ Per ┆     ┆     ┆     ┆     ┆     ┆     ┆     ┆     ┆     ┆     ┆     ┆     ┆     ┆     ┆     ┆     ┆     ┆     ┆ 3ad ┆     ┆ i   ┆ i   ┆ i   ┆     ┆     │\n",
       "│     ┆     ┆     ┆     ┆     ┆     ┆     ┆ i   ┆     ┆     ┆     ┆     ┆     ┆     ┆     ┆     ┆     ┆     ┆     ┆     ┆     ┆     ┆     ┆     ┆     ┆     ┆ de3 ┆     ┆ Per ┆ Per ┆ Gri ┆     ┆     │\n",
       "│     ┆     ┆     ┆     ┆     ┆     ┆     ┆ Gri ┆     ┆     ┆     ┆     ┆     ┆     ┆     ┆     ┆     ┆     ┆     ┆     ┆     ┆     ┆     ┆     ┆     ┆     ┆ 59b ┆     ┆ i   ┆ i   ┆ lle ┆     ┆     │\n",
       "│     ┆     ┆     ┆     ┆     ┆     ┆     ┆ lle ┆     ┆     ┆     ┆     ┆     ┆     ┆     ┆     ┆     ┆     ┆     ┆     ┆     ┆     ┆     ┆     ┆     ┆     ┆ fc4 ┆     ┆ Gri ┆ Gri ┆ d   ┆     ┆     │\n",
       "│     ┆     ┆     ┆     ┆     ┆     ┆     ┆ d … ┆     ┆     ┆     ┆     ┆     ┆     ┆     ┆     ┆     ┆     ┆     ┆     ┆     ┆     ┆     ┆     ┆     ┆     ┆ …   ┆     ┆ lle ┆ l…  ┆ Ch… ┆     ┆     │\n",
       "│     ┆     ┆     ┆     ┆     ┆     ┆     ┆     ┆     ┆     ┆     ┆     ┆     ┆     ┆     ┆     ┆     ┆     ┆     ┆     ┆     ┆     ┆     ┆     ┆     ┆     ┆     ┆     ┆ …   ┆     ┆     ┆     ┆     │\n",
       "└─────┴─────┴─────┴─────┴─────┴─────┴─────┴─────┴─────┴─────┴─────┴─────┴─────┴─────┴─────┴─────┴─────┴─────┴─────┴─────┴─────┴─────┴─────┴─────┴─────┴─────┴─────┴─────┴─────┴─────┴─────┴─────┴─────┘"
      ]
     },
     "execution_count": 448,
     "metadata": {},
     "output_type": "execute_result"
    }
   ],
   "source": [
    "multiple_quantity_orders_df = df_transformed.filter(\n",
    "    pl.col('distinct_amount_items') != pl.col('total_amount_items')\n",
    ")\n",
    "\n",
    "print(f'Percentage of multiple order quantity records: {round(len(multiple_quantity_orders_df) / len(df_transformed), 4)}')\n",
    "\n",
    "print(len(multiple_quantity_orders_df))\n",
    "multiple_quantity_orders_df.head()"
   ]
  },
  {
   "cell_type": "code",
   "execution_count": 483,
   "metadata": {},
   "outputs": [
    {
     "data": {
      "text/html": [
       "<div><style>\n",
       ".dataframe > thead > tr,\n",
       ".dataframe > tbody > tr {\n",
       "  text-align: right;\n",
       "  white-space: pre-wrap;\n",
       "}\n",
       "</style>\n",
       "<small>shape: (20, 3)</small><table border=\"1\" class=\"dataframe\"><thead><tr><th>distinct_items</th><th>count</th><th>count_percentage</th></tr><tr><td>str</td><td>u32</td><td>f64</td></tr></thead><tbody><tr><td>&quot;Bageecha Pizza&quot;</td><td>3116</td><td>14.61</td></tr><tr><td>&quot;Chilli Cheese Garlic Bread&quot;</td><td>1749</td><td>8.2</td></tr><tr><td>&quot;Bone in Jamaican Grilled Chick…</td><td>1631</td><td>7.65</td></tr><tr><td>&quot;All About Chicken Pizza&quot;</td><td>1631</td><td>7.65</td></tr><tr><td>&quot;Makhani Paneer Pizza&quot;</td><td>1451</td><td>6.81</td></tr><tr><td>&quot;Margherita Pizza&quot;</td><td>1340</td><td>6.28</td></tr><tr><td>&quot;Cheesy Garlic Bread&quot;</td><td>1155</td><td>5.42</td></tr><tr><td>&quot;Jamaican Chicken Melt&quot;</td><td>1148</td><td>5.38</td></tr><tr><td>&quot;Tripple Cheese Pizza&quot;</td><td>910</td><td>4.27</td></tr><tr><td>&quot;Herbed Potato&quot;</td><td>880</td><td>4.13</td></tr><tr><td>&quot;Murgh Amritsari Seekh Pizza&quot;</td><td>844</td><td>3.96</td></tr><tr><td>&quot;Animal Fries&quot;</td><td>737</td><td>3.46</td></tr><tr><td>&quot;Bone in Smoky Bbq Grilled Chic…</td><td>735</td><td>3.45</td></tr><tr><td>&quot;Peri Peri Paneer Pizza&quot;</td><td>734</td><td>3.44</td></tr><tr><td>&quot;Murgh Amritsari Garlic Bread&quot;</td><td>686</td><td>3.22</td></tr><tr><td>&quot;Masala Paneer Pide&quot;</td><td>675</td><td>3.17</td></tr><tr><td>&quot;Angara Paneer Melt&quot;</td><td>666</td><td>3.12</td></tr><tr><td>&quot;Bone in Peri Peri Grilled Chic…</td><td>591</td><td>2.77</td></tr><tr><td>&quot;Murgh Amritsari Seekh Pide&quot;</td><td>585</td><td>2.74</td></tr><tr><td>&quot;Grilled Chicken Jamaican Tende…</td><td>579</td><td>2.72</td></tr></tbody></table></div>"
      ],
      "text/plain": [
       "shape: (20, 3)\n",
       "┌─────────────────────────────────┬───────┬──────────────────┐\n",
       "│ distinct_items                  ┆ count ┆ count_percentage │\n",
       "│ ---                             ┆ ---   ┆ ---              │\n",
       "│ str                             ┆ u32   ┆ f64              │\n",
       "╞═════════════════════════════════╪═══════╪══════════════════╡\n",
       "│ Bageecha Pizza                  ┆ 3116  ┆ 14.61            │\n",
       "│ Chilli Cheese Garlic Bread      ┆ 1749  ┆ 8.2              │\n",
       "│ Bone in Jamaican Grilled Chick… ┆ 1631  ┆ 7.65             │\n",
       "│ All About Chicken Pizza         ┆ 1631  ┆ 7.65             │\n",
       "│ Makhani Paneer Pizza            ┆ 1451  ┆ 6.81             │\n",
       "│ Margherita Pizza                ┆ 1340  ┆ 6.28             │\n",
       "│ Cheesy Garlic Bread             ┆ 1155  ┆ 5.42             │\n",
       "│ Jamaican Chicken Melt           ┆ 1148  ┆ 5.38             │\n",
       "│ Tripple Cheese Pizza            ┆ 910   ┆ 4.27             │\n",
       "│ Herbed Potato                   ┆ 880   ┆ 4.13             │\n",
       "│ Murgh Amritsari Seekh Pizza     ┆ 844   ┆ 3.96             │\n",
       "│ Animal Fries                    ┆ 737   ┆ 3.46             │\n",
       "│ Bone in Smoky Bbq Grilled Chic… ┆ 735   ┆ 3.45             │\n",
       "│ Peri Peri Paneer Pizza          ┆ 734   ┆ 3.44             │\n",
       "│ Murgh Amritsari Garlic Bread    ┆ 686   ┆ 3.22             │\n",
       "│ Masala Paneer Pide              ┆ 675   ┆ 3.17             │\n",
       "│ Angara Paneer Melt              ┆ 666   ┆ 3.12             │\n",
       "│ Bone in Peri Peri Grilled Chic… ┆ 591   ┆ 2.77             │\n",
       "│ Murgh Amritsari Seekh Pide      ┆ 585   ┆ 2.74             │\n",
       "│ Grilled Chicken Jamaican Tende… ┆ 579   ┆ 2.72             │\n",
       "└─────────────────────────────────┴───────┴──────────────────┘"
      ]
     },
     "execution_count": 483,
     "metadata": {},
     "output_type": "execute_result"
    }
   ],
   "source": [
    "distinct_items_ordered = df_transformed.select(\n",
    "    pl.col('distinct_items')\n",
    ").explode(\n",
    "    pl.col('distinct_items')\n",
    ").group_by(\n",
    "    'distinct_items'\n",
    ").agg(\n",
    "    pl.len().alias('count'),\n",
    "    ((pl.len() / len(df_transformed)) * 100).round(2).alias('count_percentage')\n",
    ").sort(\n",
    "    'count', \n",
    "    descending=True\n",
    ")\n",
    "\n",
    "distinct_items_ordered.head(20)\n",
    "\n",
    "# Notes: \n",
    "# - Huge frequencies in orders per item\n",
    "# - Items seem to be too specific -> could be categorized \n",
    "# - But worried about 'Pizza' category having too many records (having a high count_percentage)"
   ]
  },
  {
   "cell_type": "code",
   "execution_count": 484,
   "metadata": {},
   "outputs": [
    {
     "data": {
      "application/vnd.plotly.v1+json": {
       "config": {
        "plotlyServerURL": "https://plot.ly"
       },
       "data": [
        {
         "hovertemplate": "distinct_items=%{y}<br>count=%{x}<extra></extra>",
         "legendgroup": "Bageecha Pizza",
         "marker": {
          "color": "#636efa",
          "pattern": {
           "shape": ""
          }
         },
         "name": "Bageecha Pizza",
         "orientation": "h",
         "showlegend": true,
         "textposition": "auto",
         "type": "bar",
         "x": {
          "bdata": "LAwAAA==",
          "dtype": "u4"
         },
         "xaxis": "x",
         "y": [
          "Bageecha Pizza"
         ],
         "yaxis": "y"
        },
        {
         "hovertemplate": "distinct_items=%{y}<br>count=%{x}<extra></extra>",
         "legendgroup": "Chilli Cheese Garlic Bread",
         "marker": {
          "color": "#EF553B",
          "pattern": {
           "shape": ""
          }
         },
         "name": "Chilli Cheese Garlic Bread",
         "orientation": "h",
         "showlegend": true,
         "textposition": "auto",
         "type": "bar",
         "x": {
          "bdata": "1QYAAA==",
          "dtype": "u4"
         },
         "xaxis": "x",
         "y": [
          "Chilli Cheese Garlic Bread"
         ],
         "yaxis": "y"
        },
        {
         "hovertemplate": "distinct_items=%{y}<br>count=%{x}<extra></extra>",
         "legendgroup": "Bone in Jamaican Grilled Chicken",
         "marker": {
          "color": "#00cc96",
          "pattern": {
           "shape": ""
          }
         },
         "name": "Bone in Jamaican Grilled Chicken",
         "orientation": "h",
         "showlegend": true,
         "textposition": "auto",
         "type": "bar",
         "x": {
          "bdata": "XwYAAA==",
          "dtype": "u4"
         },
         "xaxis": "x",
         "y": [
          "Bone in Jamaican Grilled Chicken"
         ],
         "yaxis": "y"
        },
        {
         "hovertemplate": "distinct_items=%{y}<br>count=%{x}<extra></extra>",
         "legendgroup": "All About Chicken Pizza",
         "marker": {
          "color": "#ab63fa",
          "pattern": {
           "shape": ""
          }
         },
         "name": "All About Chicken Pizza",
         "orientation": "h",
         "showlegend": true,
         "textposition": "auto",
         "type": "bar",
         "x": {
          "bdata": "XwYAAA==",
          "dtype": "u4"
         },
         "xaxis": "x",
         "y": [
          "All About Chicken Pizza"
         ],
         "yaxis": "y"
        },
        {
         "hovertemplate": "distinct_items=%{y}<br>count=%{x}<extra></extra>",
         "legendgroup": "Makhani Paneer Pizza",
         "marker": {
          "color": "#FFA15A",
          "pattern": {
           "shape": ""
          }
         },
         "name": "Makhani Paneer Pizza",
         "orientation": "h",
         "showlegend": true,
         "textposition": "auto",
         "type": "bar",
         "x": {
          "bdata": "qwUAAA==",
          "dtype": "u4"
         },
         "xaxis": "x",
         "y": [
          "Makhani Paneer Pizza"
         ],
         "yaxis": "y"
        },
        {
         "hovertemplate": "distinct_items=%{y}<br>count=%{x}<extra></extra>",
         "legendgroup": "Margherita Pizza",
         "marker": {
          "color": "#19d3f3",
          "pattern": {
           "shape": ""
          }
         },
         "name": "Margherita Pizza",
         "orientation": "h",
         "showlegend": true,
         "textposition": "auto",
         "type": "bar",
         "x": {
          "bdata": "PAUAAA==",
          "dtype": "u4"
         },
         "xaxis": "x",
         "y": [
          "Margherita Pizza"
         ],
         "yaxis": "y"
        },
        {
         "hovertemplate": "distinct_items=%{y}<br>count=%{x}<extra></extra>",
         "legendgroup": "Cheesy Garlic Bread",
         "marker": {
          "color": "#FF6692",
          "pattern": {
           "shape": ""
          }
         },
         "name": "Cheesy Garlic Bread",
         "orientation": "h",
         "showlegend": true,
         "textposition": "auto",
         "type": "bar",
         "x": {
          "bdata": "gwQAAA==",
          "dtype": "u4"
         },
         "xaxis": "x",
         "y": [
          "Cheesy Garlic Bread"
         ],
         "yaxis": "y"
        },
        {
         "hovertemplate": "distinct_items=%{y}<br>count=%{x}<extra></extra>",
         "legendgroup": "Jamaican Chicken Melt",
         "marker": {
          "color": "#B6E880",
          "pattern": {
           "shape": ""
          }
         },
         "name": "Jamaican Chicken Melt",
         "orientation": "h",
         "showlegend": true,
         "textposition": "auto",
         "type": "bar",
         "x": {
          "bdata": "fAQAAA==",
          "dtype": "u4"
         },
         "xaxis": "x",
         "y": [
          "Jamaican Chicken Melt"
         ],
         "yaxis": "y"
        },
        {
         "hovertemplate": "distinct_items=%{y}<br>count=%{x}<extra></extra>",
         "legendgroup": "Tripple Cheese Pizza",
         "marker": {
          "color": "#FF97FF",
          "pattern": {
           "shape": ""
          }
         },
         "name": "Tripple Cheese Pizza",
         "orientation": "h",
         "showlegend": true,
         "textposition": "auto",
         "type": "bar",
         "x": {
          "bdata": "jgMAAA==",
          "dtype": "u4"
         },
         "xaxis": "x",
         "y": [
          "Tripple Cheese Pizza"
         ],
         "yaxis": "y"
        },
        {
         "hovertemplate": "distinct_items=%{y}<br>count=%{x}<extra></extra>",
         "legendgroup": "Herbed Potato",
         "marker": {
          "color": "#FECB52",
          "pattern": {
           "shape": ""
          }
         },
         "name": "Herbed Potato",
         "orientation": "h",
         "showlegend": true,
         "textposition": "auto",
         "type": "bar",
         "x": {
          "bdata": "cAMAAA==",
          "dtype": "u4"
         },
         "xaxis": "x",
         "y": [
          "Herbed Potato"
         ],
         "yaxis": "y"
        },
        {
         "hovertemplate": "distinct_items=%{y}<br>count=%{x}<extra></extra>",
         "legendgroup": "Murgh Amritsari Seekh Pizza",
         "marker": {
          "color": "#636efa",
          "pattern": {
           "shape": ""
          }
         },
         "name": "Murgh Amritsari Seekh Pizza",
         "orientation": "h",
         "showlegend": true,
         "textposition": "auto",
         "type": "bar",
         "x": {
          "bdata": "TAMAAA==",
          "dtype": "u4"
         },
         "xaxis": "x",
         "y": [
          "Murgh Amritsari Seekh Pizza"
         ],
         "yaxis": "y"
        },
        {
         "hovertemplate": "distinct_items=%{y}<br>count=%{x}<extra></extra>",
         "legendgroup": "Animal Fries",
         "marker": {
          "color": "#EF553B",
          "pattern": {
           "shape": ""
          }
         },
         "name": "Animal Fries",
         "orientation": "h",
         "showlegend": true,
         "textposition": "auto",
         "type": "bar",
         "x": {
          "bdata": "4QIAAA==",
          "dtype": "u4"
         },
         "xaxis": "x",
         "y": [
          "Animal Fries"
         ],
         "yaxis": "y"
        },
        {
         "hovertemplate": "distinct_items=%{y}<br>count=%{x}<extra></extra>",
         "legendgroup": "Bone in Smoky Bbq Grilled Chicken",
         "marker": {
          "color": "#00cc96",
          "pattern": {
           "shape": ""
          }
         },
         "name": "Bone in Smoky Bbq Grilled Chicken",
         "orientation": "h",
         "showlegend": true,
         "textposition": "auto",
         "type": "bar",
         "x": {
          "bdata": "3wIAAA==",
          "dtype": "u4"
         },
         "xaxis": "x",
         "y": [
          "Bone in Smoky Bbq Grilled Chicken"
         ],
         "yaxis": "y"
        },
        {
         "hovertemplate": "distinct_items=%{y}<br>count=%{x}<extra></extra>",
         "legendgroup": "Peri Peri Paneer Pizza",
         "marker": {
          "color": "#ab63fa",
          "pattern": {
           "shape": ""
          }
         },
         "name": "Peri Peri Paneer Pizza",
         "orientation": "h",
         "showlegend": true,
         "textposition": "auto",
         "type": "bar",
         "x": {
          "bdata": "3gIAAA==",
          "dtype": "u4"
         },
         "xaxis": "x",
         "y": [
          "Peri Peri Paneer Pizza"
         ],
         "yaxis": "y"
        },
        {
         "hovertemplate": "distinct_items=%{y}<br>count=%{x}<extra></extra>",
         "legendgroup": "Murgh Amritsari Garlic Bread",
         "marker": {
          "color": "#FFA15A",
          "pattern": {
           "shape": ""
          }
         },
         "name": "Murgh Amritsari Garlic Bread",
         "orientation": "h",
         "showlegend": true,
         "textposition": "auto",
         "type": "bar",
         "x": {
          "bdata": "rgIAAA==",
          "dtype": "u4"
         },
         "xaxis": "x",
         "y": [
          "Murgh Amritsari Garlic Bread"
         ],
         "yaxis": "y"
        },
        {
         "hovertemplate": "distinct_items=%{y}<br>count=%{x}<extra></extra>",
         "legendgroup": "Masala Paneer Pide",
         "marker": {
          "color": "#19d3f3",
          "pattern": {
           "shape": ""
          }
         },
         "name": "Masala Paneer Pide",
         "orientation": "h",
         "showlegend": true,
         "textposition": "auto",
         "type": "bar",
         "x": {
          "bdata": "owIAAA==",
          "dtype": "u4"
         },
         "xaxis": "x",
         "y": [
          "Masala Paneer Pide"
         ],
         "yaxis": "y"
        },
        {
         "hovertemplate": "distinct_items=%{y}<br>count=%{x}<extra></extra>",
         "legendgroup": "Angara Paneer Melt",
         "marker": {
          "color": "#FF6692",
          "pattern": {
           "shape": ""
          }
         },
         "name": "Angara Paneer Melt",
         "orientation": "h",
         "showlegend": true,
         "textposition": "auto",
         "type": "bar",
         "x": {
          "bdata": "mgIAAA==",
          "dtype": "u4"
         },
         "xaxis": "x",
         "y": [
          "Angara Paneer Melt"
         ],
         "yaxis": "y"
        },
        {
         "hovertemplate": "distinct_items=%{y}<br>count=%{x}<extra></extra>",
         "legendgroup": "Bone in Peri Peri Grilled Chicken",
         "marker": {
          "color": "#B6E880",
          "pattern": {
           "shape": ""
          }
         },
         "name": "Bone in Peri Peri Grilled Chicken",
         "orientation": "h",
         "showlegend": true,
         "textposition": "auto",
         "type": "bar",
         "x": {
          "bdata": "TwIAAA==",
          "dtype": "u4"
         },
         "xaxis": "x",
         "y": [
          "Bone in Peri Peri Grilled Chicken"
         ],
         "yaxis": "y"
        },
        {
         "hovertemplate": "distinct_items=%{y}<br>count=%{x}<extra></extra>",
         "legendgroup": "Murgh Amritsari Seekh Pide",
         "marker": {
          "color": "#FF97FF",
          "pattern": {
           "shape": ""
          }
         },
         "name": "Murgh Amritsari Seekh Pide",
         "orientation": "h",
         "showlegend": true,
         "textposition": "auto",
         "type": "bar",
         "x": {
          "bdata": "SQIAAA==",
          "dtype": "u4"
         },
         "xaxis": "x",
         "y": [
          "Murgh Amritsari Seekh Pide"
         ],
         "yaxis": "y"
        },
        {
         "hovertemplate": "distinct_items=%{y}<br>count=%{x}<extra></extra>",
         "legendgroup": "Grilled Chicken Jamaican Tender",
         "marker": {
          "color": "#FECB52",
          "pattern": {
           "shape": ""
          }
         },
         "name": "Grilled Chicken Jamaican Tender",
         "orientation": "h",
         "showlegend": true,
         "textposition": "auto",
         "type": "bar",
         "x": {
          "bdata": "QwIAAA==",
          "dtype": "u4"
         },
         "xaxis": "x",
         "y": [
          "Grilled Chicken Jamaican Tender"
         ],
         "yaxis": "y"
        },
        {
         "hovertemplate": "distinct_items=%{y}<br>count=%{x}<extra></extra>",
         "legendgroup": "Fried Chicken Peri Peri Tender",
         "marker": {
          "color": "#636efa",
          "pattern": {
           "shape": ""
          }
         },
         "name": "Fried Chicken Peri Peri Tender",
         "orientation": "h",
         "showlegend": true,
         "textposition": "auto",
         "type": "bar",
         "x": {
          "bdata": "LQIAAA==",
          "dtype": "u4"
         },
         "xaxis": "x",
         "y": [
          "Fried Chicken Peri Peri Tender"
         ],
         "yaxis": "y"
        },
        {
         "hovertemplate": "distinct_items=%{y}<br>count=%{x}<extra></extra>",
         "legendgroup": "Just Pepperoni Pizza",
         "marker": {
          "color": "#EF553B",
          "pattern": {
           "shape": ""
          }
         },
         "name": "Just Pepperoni Pizza",
         "orientation": "h",
         "showlegend": true,
         "textposition": "auto",
         "type": "bar",
         "x": {
          "bdata": "GgIAAA==",
          "dtype": "u4"
         },
         "xaxis": "x",
         "y": [
          "Just Pepperoni Pizza"
         ],
         "yaxis": "y"
        },
        {
         "hovertemplate": "distinct_items=%{y}<br>count=%{x}<extra></extra>",
         "legendgroup": "Mushroom Mozzarella Melt",
         "marker": {
          "color": "#00cc96",
          "pattern": {
           "shape": ""
          }
         },
         "name": "Mushroom Mozzarella Melt",
         "orientation": "h",
         "showlegend": true,
         "textposition": "auto",
         "type": "bar",
         "x": {
          "bdata": "FQIAAA==",
          "dtype": "u4"
         },
         "xaxis": "x",
         "y": [
          "Mushroom Mozzarella Melt"
         ],
         "yaxis": "y"
        },
        {
         "hovertemplate": "distinct_items=%{y}<br>count=%{x}<extra></extra>",
         "legendgroup": "Murgh Amritsari Seekh Melt",
         "marker": {
          "color": "#ab63fa",
          "pattern": {
           "shape": ""
          }
         },
         "name": "Murgh Amritsari Seekh Melt",
         "orientation": "h",
         "showlegend": true,
         "textposition": "auto",
         "type": "bar",
         "x": {
          "bdata": "/wEAAA==",
          "dtype": "u4"
         },
         "xaxis": "x",
         "y": [
          "Murgh Amritsari Seekh Melt"
         ],
         "yaxis": "y"
        },
        {
         "hovertemplate": "distinct_items=%{y}<br>count=%{x}<extra></extra>",
         "legendgroup": "Peri Peri Crisper Fries",
         "marker": {
          "color": "#FFA15A",
          "pattern": {
           "shape": ""
          }
         },
         "name": "Peri Peri Crisper Fries",
         "orientation": "h",
         "showlegend": true,
         "textposition": "auto",
         "type": "bar",
         "x": {
          "bdata": "+QEAAA==",
          "dtype": "u4"
         },
         "xaxis": "x",
         "y": [
          "Peri Peri Crisper Fries"
         ],
         "yaxis": "y"
        },
        {
         "hovertemplate": "distinct_items=%{y}<br>count=%{x}<extra></extra>",
         "legendgroup": "Bone in Kabuli Grilled Chicken",
         "marker": {
          "color": "#19d3f3",
          "pattern": {
           "shape": ""
          }
         },
         "name": "Bone in Kabuli Grilled Chicken",
         "orientation": "h",
         "showlegend": true,
         "textposition": "auto",
         "type": "bar",
         "x": {
          "bdata": "6gEAAA==",
          "dtype": "u4"
         },
         "xaxis": "x",
         "y": [
          "Bone in Kabuli Grilled Chicken"
         ],
         "yaxis": "y"
        },
        {
         "hovertemplate": "distinct_items=%{y}<br>count=%{x}<extra></extra>",
         "legendgroup": "Bone in Angara Grilled Chicken",
         "marker": {
          "color": "#FF6692",
          "pattern": {
           "shape": ""
          }
         },
         "name": "Bone in Angara Grilled Chicken",
         "orientation": "h",
         "showlegend": true,
         "textposition": "auto",
         "type": "bar",
         "x": {
          "bdata": "vQEAAA==",
          "dtype": "u4"
         },
         "xaxis": "x",
         "y": [
          "Bone in Angara Grilled Chicken"
         ],
         "yaxis": "y"
        },
        {
         "hovertemplate": "distinct_items=%{y}<br>count=%{x}<extra></extra>",
         "legendgroup": "Mushroom Pizza",
         "marker": {
          "color": "#B6E880",
          "pattern": {
           "shape": ""
          }
         },
         "name": "Mushroom Pizza",
         "orientation": "h",
         "showlegend": true,
         "textposition": "auto",
         "type": "bar",
         "x": {
          "bdata": "rQEAAA==",
          "dtype": "u4"
         },
         "xaxis": "x",
         "y": [
          "Mushroom Pizza"
         ],
         "yaxis": "y"
        },
        {
         "hovertemplate": "distinct_items=%{y}<br>count=%{x}<extra></extra>",
         "legendgroup": "Peri Peri Grilled Chicken Pizza",
         "marker": {
          "color": "#FF97FF",
          "pattern": {
           "shape": ""
          }
         },
         "name": "Peri Peri Grilled Chicken Pizza",
         "orientation": "h",
         "showlegend": true,
         "textposition": "auto",
         "type": "bar",
         "x": {
          "bdata": "nAEAAA==",
          "dtype": "u4"
         },
         "xaxis": "x",
         "y": [
          "Peri Peri Grilled Chicken Pizza"
         ],
         "yaxis": "y"
        },
        {
         "hovertemplate": "distinct_items=%{y}<br>count=%{x}<extra></extra>",
         "legendgroup": "Grilled Chicken Smoky BBQ Tender",
         "marker": {
          "color": "#FECB52",
          "pattern": {
           "shape": ""
          }
         },
         "name": "Grilled Chicken Smoky BBQ Tender",
         "orientation": "h",
         "showlegend": true,
         "textposition": "auto",
         "type": "bar",
         "x": {
          "bdata": "gwEAAA==",
          "dtype": "u4"
         },
         "xaxis": "x",
         "y": [
          "Grilled Chicken Smoky BBQ Tender"
         ],
         "yaxis": "y"
        },
        {
         "hovertemplate": "distinct_items=%{y}<br>count=%{x}<extra></extra>",
         "legendgroup": "Fried Chicken Classic Tender",
         "marker": {
          "color": "#636efa",
          "pattern": {
           "shape": ""
          }
         },
         "name": "Fried Chicken Classic Tender",
         "orientation": "h",
         "showlegend": true,
         "textposition": "auto",
         "type": "bar",
         "x": {
          "bdata": "fQEAAA==",
          "dtype": "u4"
         },
         "xaxis": "x",
         "y": [
          "Fried Chicken Classic Tender"
         ],
         "yaxis": "y"
        },
        {
         "hovertemplate": "distinct_items=%{y}<br>count=%{x}<extra></extra>",
         "legendgroup": "Fried Chicken Angara Tender",
         "marker": {
          "color": "#EF553B",
          "pattern": {
           "shape": ""
          }
         },
         "name": "Fried Chicken Angara Tender",
         "orientation": "h",
         "showlegend": true,
         "textposition": "auto",
         "type": "bar",
         "x": {
          "bdata": "YwEAAA==",
          "dtype": "u4"
         },
         "xaxis": "x",
         "y": [
          "Fried Chicken Angara Tender"
         ],
         "yaxis": "y"
        },
        {
         "hovertemplate": "distinct_items=%{y}<br>count=%{x}<extra></extra>",
         "legendgroup": "Grilled Chicken Peri Peri Tender",
         "marker": {
          "color": "#00cc96",
          "pattern": {
           "shape": ""
          }
         },
         "name": "Grilled Chicken Peri Peri Tender",
         "orientation": "h",
         "showlegend": true,
         "textposition": "auto",
         "type": "bar",
         "x": {
          "bdata": "UgEAAA==",
          "dtype": "u4"
         },
         "xaxis": "x",
         "y": [
          "Grilled Chicken Peri Peri Tender"
         ],
         "yaxis": "y"
        },
        {
         "hovertemplate": "distinct_items=%{y}<br>count=%{x}<extra></extra>",
         "legendgroup": "Peri Peri Chicken Melt",
         "marker": {
          "color": "#ab63fa",
          "pattern": {
           "shape": ""
          }
         },
         "name": "Peri Peri Chicken Melt",
         "orientation": "h",
         "showlegend": true,
         "textposition": "auto",
         "type": "bar",
         "x": {
          "bdata": "QgEAAA==",
          "dtype": "u4"
         },
         "xaxis": "x",
         "y": [
          "Peri Peri Chicken Melt"
         ],
         "yaxis": "y"
        },
        {
         "hovertemplate": "distinct_items=%{y}<br>count=%{x}<extra></extra>",
         "legendgroup": "Pepperoni Garlic Bread",
         "marker": {
          "color": "#FFA15A",
          "pattern": {
           "shape": ""
          }
         },
         "name": "Pepperoni Garlic Bread",
         "orientation": "h",
         "showlegend": true,
         "textposition": "auto",
         "type": "bar",
         "x": {
          "bdata": "MwEAAA==",
          "dtype": "u4"
         },
         "xaxis": "x",
         "y": [
          "Pepperoni Garlic Bread"
         ],
         "yaxis": "y"
        },
        {
         "hovertemplate": "distinct_items=%{y}<br>count=%{x}<extra></extra>",
         "legendgroup": "Bellpepper Onion Pizza",
         "marker": {
          "color": "#19d3f3",
          "pattern": {
           "shape": ""
          }
         },
         "name": "Bellpepper Onion Pizza",
         "orientation": "h",
         "showlegend": true,
         "textposition": "auto",
         "type": "bar",
         "x": {
          "bdata": "MAEAAA==",
          "dtype": "u4"
         },
         "xaxis": "x",
         "y": [
          "Bellpepper Onion Pizza"
         ],
         "yaxis": "y"
        },
        {
         "hovertemplate": "distinct_items=%{y}<br>count=%{x}<extra></extra>",
         "legendgroup": "Peri Peri Fries",
         "marker": {
          "color": "#FF6692",
          "pattern": {
           "shape": ""
          }
         },
         "name": "Peri Peri Fries",
         "orientation": "h",
         "showlegend": true,
         "textposition": "auto",
         "type": "bar",
         "x": {
          "bdata": "IwEAAA==",
          "dtype": "u4"
         },
         "xaxis": "x",
         "y": [
          "Peri Peri Fries"
         ],
         "yaxis": "y"
        },
        {
         "hovertemplate": "distinct_items=%{y}<br>count=%{x}<extra></extra>",
         "legendgroup": "Spinach Sumac Pide",
         "marker": {
          "color": "#B6E880",
          "pattern": {
           "shape": ""
          }
         },
         "name": "Spinach Sumac Pide",
         "orientation": "h",
         "showlegend": true,
         "textposition": "auto",
         "type": "bar",
         "x": {
          "bdata": "IwEAAA==",
          "dtype": "u4"
         },
         "xaxis": "x",
         "y": [
          "Spinach Sumac Pide"
         ],
         "yaxis": "y"
        },
        {
         "hovertemplate": "distinct_items=%{y}<br>count=%{x}<extra></extra>",
         "legendgroup": "Onion Rings",
         "marker": {
          "color": "#FF97FF",
          "pattern": {
           "shape": ""
          }
         },
         "name": "Onion Rings",
         "orientation": "h",
         "showlegend": true,
         "textposition": "auto",
         "type": "bar",
         "x": {
          "bdata": "HgEAAA==",
          "dtype": "u4"
         },
         "xaxis": "x",
         "y": [
          "Onion Rings"
         ],
         "yaxis": "y"
        },
        {
         "hovertemplate": "distinct_items=%{y}<br>count=%{x}<extra></extra>",
         "legendgroup": "Mutton Seekh Pide",
         "marker": {
          "color": "#FECB52",
          "pattern": {
           "shape": ""
          }
         },
         "name": "Mutton Seekh Pide",
         "orientation": "h",
         "showlegend": true,
         "textposition": "auto",
         "type": "bar",
         "x": {
          "bdata": "FgEAAA==",
          "dtype": "u4"
         },
         "xaxis": "x",
         "y": [
          "Mutton Seekh Pide"
         ],
         "yaxis": "y"
        },
        {
         "hovertemplate": "distinct_items=%{y}<br>count=%{x}<extra></extra>",
         "legendgroup": "Chicken Pepperoni Pizza",
         "marker": {
          "color": "#636efa",
          "pattern": {
           "shape": ""
          }
         },
         "name": "Chicken Pepperoni Pizza",
         "orientation": "h",
         "showlegend": true,
         "textposition": "auto",
         "type": "bar",
         "x": {
          "bdata": "EAEAAA==",
          "dtype": "u4"
         },
         "xaxis": "x",
         "y": [
          "Chicken Pepperoni Pizza"
         ],
         "yaxis": "y"
        },
        {
         "hovertemplate": "distinct_items=%{y}<br>count=%{x}<extra></extra>",
         "legendgroup": "OG Cheese Pide",
         "marker": {
          "color": "#EF553B",
          "pattern": {
           "shape": ""
          }
         },
         "name": "OG Cheese Pide",
         "orientation": "h",
         "showlegend": true,
         "textposition": "auto",
         "type": "bar",
         "x": {
          "bdata": "BQEAAA==",
          "dtype": "u4"
         },
         "xaxis": "x",
         "y": [
          "OG Cheese Pide"
         ],
         "yaxis": "y"
        },
        {
         "hovertemplate": "distinct_items=%{y}<br>count=%{x}<extra></extra>",
         "legendgroup": "Mutton Seekh Pizza",
         "marker": {
          "color": "#00cc96",
          "pattern": {
           "shape": ""
          }
         },
         "name": "Mutton Seekh Pizza",
         "orientation": "h",
         "showlegend": true,
         "textposition": "auto",
         "type": "bar",
         "x": {
          "bdata": "AgEAAA==",
          "dtype": "u4"
         },
         "xaxis": "x",
         "y": [
          "Mutton Seekh Pizza"
         ],
         "yaxis": "y"
        },
        {
         "hovertemplate": "distinct_items=%{y}<br>count=%{x}<extra></extra>",
         "legendgroup": "Just Pepperoni Pide",
         "marker": {
          "color": "#ab63fa",
          "pattern": {
           "shape": ""
          }
         },
         "name": "Just Pepperoni Pide",
         "orientation": "h",
         "showlegend": true,
         "textposition": "auto",
         "type": "bar",
         "x": {
          "bdata": "+gAAAA==",
          "dtype": "u4"
         },
         "xaxis": "x",
         "y": [
          "Just Pepperoni Pide"
         ],
         "yaxis": "y"
        },
        {
         "hovertemplate": "distinct_items=%{y}<br>count=%{x}<extra></extra>",
         "legendgroup": "Salted Fries",
         "marker": {
          "color": "#FFA15A",
          "pattern": {
           "shape": ""
          }
         },
         "name": "Salted Fries",
         "orientation": "h",
         "showlegend": true,
         "textposition": "auto",
         "type": "bar",
         "x": {
          "bdata": "+gAAAA==",
          "dtype": "u4"
         },
         "xaxis": "x",
         "y": [
          "Salted Fries"
         ],
         "yaxis": "y"
        },
        {
         "hovertemplate": "distinct_items=%{y}<br>count=%{x}<extra></extra>",
         "legendgroup": "Garlic Aioli",
         "marker": {
          "color": "#19d3f3",
          "pattern": {
           "shape": ""
          }
         },
         "name": "Garlic Aioli",
         "orientation": "h",
         "showlegend": true,
         "textposition": "auto",
         "type": "bar",
         "x": {
          "bdata": "+gAAAA==",
          "dtype": "u4"
         },
         "xaxis": "x",
         "y": [
          "Garlic Aioli"
         ],
         "yaxis": "y"
        },
        {
         "hovertemplate": "distinct_items=%{y}<br>count=%{x}<extra></extra>",
         "legendgroup": "Grilled Chicken Angara Tender",
         "marker": {
          "color": "#FF6692",
          "pattern": {
           "shape": ""
          }
         },
         "name": "Grilled Chicken Angara Tender",
         "orientation": "h",
         "showlegend": true,
         "textposition": "auto",
         "type": "bar",
         "x": {
          "bdata": "8gAAAA==",
          "dtype": "u4"
         },
         "xaxis": "x",
         "y": [
          "Grilled Chicken Angara Tender"
         ],
         "yaxis": "y"
        },
        {
         "hovertemplate": "distinct_items=%{y}<br>count=%{x}<extra></extra>",
         "legendgroup": "Fried Chicken Ghostbuster Tender",
         "marker": {
          "color": "#B6E880",
          "pattern": {
           "shape": ""
          }
         },
         "name": "Fried Chicken Ghostbuster Tender",
         "orientation": "h",
         "showlegend": true,
         "textposition": "auto",
         "type": "bar",
         "x": {
          "bdata": "7wAAAA==",
          "dtype": "u4"
         },
         "xaxis": "x",
         "y": [
          "Fried Chicken Ghostbuster Tender"
         ],
         "yaxis": "y"
        },
        {
         "hovertemplate": "distinct_items=%{y}<br>count=%{x}<extra></extra>",
         "legendgroup": "Fried Chicken Strips",
         "marker": {
          "color": "#FF97FF",
          "pattern": {
           "shape": ""
          }
         },
         "name": "Fried Chicken Strips",
         "orientation": "h",
         "showlegend": true,
         "textposition": "auto",
         "type": "bar",
         "x": {
          "bdata": "7QAAAA==",
          "dtype": "u4"
         },
         "xaxis": "x",
         "y": [
          "Fried Chicken Strips"
         ],
         "yaxis": "y"
        },
        {
         "hovertemplate": "distinct_items=%{y}<br>count=%{x}<extra></extra>",
         "legendgroup": "Tipsy Tiger Fresh Lime Soda",
         "marker": {
          "color": "#FECB52",
          "pattern": {
           "shape": ""
          }
         },
         "name": "Tipsy Tiger Fresh Lime Soda",
         "orientation": "h",
         "showlegend": true,
         "textposition": "auto",
         "type": "bar",
         "x": {
          "bdata": "5wAAAA==",
          "dtype": "u4"
         },
         "xaxis": "x",
         "y": [
          "Tipsy Tiger Fresh Lime Soda"
         ],
         "yaxis": "y"
        },
        {
         "hovertemplate": "distinct_items=%{y}<br>count=%{x}<extra></extra>",
         "legendgroup": "Malai Gud Pide",
         "marker": {
          "color": "#636efa",
          "pattern": {
           "shape": ""
          }
         },
         "name": "Malai Gud Pide",
         "orientation": "h",
         "showlegend": true,
         "textposition": "auto",
         "type": "bar",
         "x": {
          "bdata": "3AAAAA==",
          "dtype": "u4"
         },
         "xaxis": "x",
         "y": [
          "Malai Gud Pide"
         ],
         "yaxis": "y"
        },
        {
         "hovertemplate": "distinct_items=%{y}<br>count=%{x}<extra></extra>",
         "legendgroup": "Masala Potato Pide",
         "marker": {
          "color": "#EF553B",
          "pattern": {
           "shape": ""
          }
         },
         "name": "Masala Potato Pide",
         "orientation": "h",
         "showlegend": true,
         "textposition": "auto",
         "type": "bar",
         "x": {
          "bdata": "2QAAAA==",
          "dtype": "u4"
         },
         "xaxis": "x",
         "y": [
          "Masala Potato Pide"
         ],
         "yaxis": "y"
        },
        {
         "hovertemplate": "distinct_items=%{y}<br>count=%{x}<extra></extra>",
         "legendgroup": "Salted Crisper Fries",
         "marker": {
          "color": "#00cc96",
          "pattern": {
           "shape": ""
          }
         },
         "name": "Salted Crisper Fries",
         "orientation": "h",
         "showlegend": true,
         "textposition": "auto",
         "type": "bar",
         "x": {
          "bdata": "2AAAAA==",
          "dtype": "u4"
         },
         "xaxis": "x",
         "y": [
          "Salted Crisper Fries"
         ],
         "yaxis": "y"
        }
       ],
       "layout": {
        "barmode": "relative",
        "legend": {
         "title": {
          "text": "distinct_items"
         },
         "tracegroupgap": 0
        },
        "margin": {
         "t": 60
        },
        "template": {
         "data": {
          "bar": [
           {
            "error_x": {
             "color": "#2a3f5f"
            },
            "error_y": {
             "color": "#2a3f5f"
            },
            "marker": {
             "line": {
              "color": "#E5ECF6",
              "width": 0.5
             },
             "pattern": {
              "fillmode": "overlay",
              "size": 10,
              "solidity": 0.2
             }
            },
            "type": "bar"
           }
          ],
          "barpolar": [
           {
            "marker": {
             "line": {
              "color": "#E5ECF6",
              "width": 0.5
             },
             "pattern": {
              "fillmode": "overlay",
              "size": 10,
              "solidity": 0.2
             }
            },
            "type": "barpolar"
           }
          ],
          "carpet": [
           {
            "aaxis": {
             "endlinecolor": "#2a3f5f",
             "gridcolor": "white",
             "linecolor": "white",
             "minorgridcolor": "white",
             "startlinecolor": "#2a3f5f"
            },
            "baxis": {
             "endlinecolor": "#2a3f5f",
             "gridcolor": "white",
             "linecolor": "white",
             "minorgridcolor": "white",
             "startlinecolor": "#2a3f5f"
            },
            "type": "carpet"
           }
          ],
          "choropleth": [
           {
            "colorbar": {
             "outlinewidth": 0,
             "ticks": ""
            },
            "type": "choropleth"
           }
          ],
          "contour": [
           {
            "colorbar": {
             "outlinewidth": 0,
             "ticks": ""
            },
            "colorscale": [
             [
              0,
              "#0d0887"
             ],
             [
              0.1111111111111111,
              "#46039f"
             ],
             [
              0.2222222222222222,
              "#7201a8"
             ],
             [
              0.3333333333333333,
              "#9c179e"
             ],
             [
              0.4444444444444444,
              "#bd3786"
             ],
             [
              0.5555555555555556,
              "#d8576b"
             ],
             [
              0.6666666666666666,
              "#ed7953"
             ],
             [
              0.7777777777777778,
              "#fb9f3a"
             ],
             [
              0.8888888888888888,
              "#fdca26"
             ],
             [
              1,
              "#f0f921"
             ]
            ],
            "type": "contour"
           }
          ],
          "contourcarpet": [
           {
            "colorbar": {
             "outlinewidth": 0,
             "ticks": ""
            },
            "type": "contourcarpet"
           }
          ],
          "heatmap": [
           {
            "colorbar": {
             "outlinewidth": 0,
             "ticks": ""
            },
            "colorscale": [
             [
              0,
              "#0d0887"
             ],
             [
              0.1111111111111111,
              "#46039f"
             ],
             [
              0.2222222222222222,
              "#7201a8"
             ],
             [
              0.3333333333333333,
              "#9c179e"
             ],
             [
              0.4444444444444444,
              "#bd3786"
             ],
             [
              0.5555555555555556,
              "#d8576b"
             ],
             [
              0.6666666666666666,
              "#ed7953"
             ],
             [
              0.7777777777777778,
              "#fb9f3a"
             ],
             [
              0.8888888888888888,
              "#fdca26"
             ],
             [
              1,
              "#f0f921"
             ]
            ],
            "type": "heatmap"
           }
          ],
          "histogram": [
           {
            "marker": {
             "pattern": {
              "fillmode": "overlay",
              "size": 10,
              "solidity": 0.2
             }
            },
            "type": "histogram"
           }
          ],
          "histogram2d": [
           {
            "colorbar": {
             "outlinewidth": 0,
             "ticks": ""
            },
            "colorscale": [
             [
              0,
              "#0d0887"
             ],
             [
              0.1111111111111111,
              "#46039f"
             ],
             [
              0.2222222222222222,
              "#7201a8"
             ],
             [
              0.3333333333333333,
              "#9c179e"
             ],
             [
              0.4444444444444444,
              "#bd3786"
             ],
             [
              0.5555555555555556,
              "#d8576b"
             ],
             [
              0.6666666666666666,
              "#ed7953"
             ],
             [
              0.7777777777777778,
              "#fb9f3a"
             ],
             [
              0.8888888888888888,
              "#fdca26"
             ],
             [
              1,
              "#f0f921"
             ]
            ],
            "type": "histogram2d"
           }
          ],
          "histogram2dcontour": [
           {
            "colorbar": {
             "outlinewidth": 0,
             "ticks": ""
            },
            "colorscale": [
             [
              0,
              "#0d0887"
             ],
             [
              0.1111111111111111,
              "#46039f"
             ],
             [
              0.2222222222222222,
              "#7201a8"
             ],
             [
              0.3333333333333333,
              "#9c179e"
             ],
             [
              0.4444444444444444,
              "#bd3786"
             ],
             [
              0.5555555555555556,
              "#d8576b"
             ],
             [
              0.6666666666666666,
              "#ed7953"
             ],
             [
              0.7777777777777778,
              "#fb9f3a"
             ],
             [
              0.8888888888888888,
              "#fdca26"
             ],
             [
              1,
              "#f0f921"
             ]
            ],
            "type": "histogram2dcontour"
           }
          ],
          "mesh3d": [
           {
            "colorbar": {
             "outlinewidth": 0,
             "ticks": ""
            },
            "type": "mesh3d"
           }
          ],
          "parcoords": [
           {
            "line": {
             "colorbar": {
              "outlinewidth": 0,
              "ticks": ""
             }
            },
            "type": "parcoords"
           }
          ],
          "pie": [
           {
            "automargin": true,
            "type": "pie"
           }
          ],
          "scatter": [
           {
            "fillpattern": {
             "fillmode": "overlay",
             "size": 10,
             "solidity": 0.2
            },
            "type": "scatter"
           }
          ],
          "scatter3d": [
           {
            "line": {
             "colorbar": {
              "outlinewidth": 0,
              "ticks": ""
             }
            },
            "marker": {
             "colorbar": {
              "outlinewidth": 0,
              "ticks": ""
             }
            },
            "type": "scatter3d"
           }
          ],
          "scattercarpet": [
           {
            "marker": {
             "colorbar": {
              "outlinewidth": 0,
              "ticks": ""
             }
            },
            "type": "scattercarpet"
           }
          ],
          "scattergeo": [
           {
            "marker": {
             "colorbar": {
              "outlinewidth": 0,
              "ticks": ""
             }
            },
            "type": "scattergeo"
           }
          ],
          "scattergl": [
           {
            "marker": {
             "colorbar": {
              "outlinewidth": 0,
              "ticks": ""
             }
            },
            "type": "scattergl"
           }
          ],
          "scattermap": [
           {
            "marker": {
             "colorbar": {
              "outlinewidth": 0,
              "ticks": ""
             }
            },
            "type": "scattermap"
           }
          ],
          "scattermapbox": [
           {
            "marker": {
             "colorbar": {
              "outlinewidth": 0,
              "ticks": ""
             }
            },
            "type": "scattermapbox"
           }
          ],
          "scatterpolar": [
           {
            "marker": {
             "colorbar": {
              "outlinewidth": 0,
              "ticks": ""
             }
            },
            "type": "scatterpolar"
           }
          ],
          "scatterpolargl": [
           {
            "marker": {
             "colorbar": {
              "outlinewidth": 0,
              "ticks": ""
             }
            },
            "type": "scatterpolargl"
           }
          ],
          "scatterternary": [
           {
            "marker": {
             "colorbar": {
              "outlinewidth": 0,
              "ticks": ""
             }
            },
            "type": "scatterternary"
           }
          ],
          "surface": [
           {
            "colorbar": {
             "outlinewidth": 0,
             "ticks": ""
            },
            "colorscale": [
             [
              0,
              "#0d0887"
             ],
             [
              0.1111111111111111,
              "#46039f"
             ],
             [
              0.2222222222222222,
              "#7201a8"
             ],
             [
              0.3333333333333333,
              "#9c179e"
             ],
             [
              0.4444444444444444,
              "#bd3786"
             ],
             [
              0.5555555555555556,
              "#d8576b"
             ],
             [
              0.6666666666666666,
              "#ed7953"
             ],
             [
              0.7777777777777778,
              "#fb9f3a"
             ],
             [
              0.8888888888888888,
              "#fdca26"
             ],
             [
              1,
              "#f0f921"
             ]
            ],
            "type": "surface"
           }
          ],
          "table": [
           {
            "cells": {
             "fill": {
              "color": "#EBF0F8"
             },
             "line": {
              "color": "white"
             }
            },
            "header": {
             "fill": {
              "color": "#C8D4E3"
             },
             "line": {
              "color": "white"
             }
            },
            "type": "table"
           }
          ]
         },
         "layout": {
          "annotationdefaults": {
           "arrowcolor": "#2a3f5f",
           "arrowhead": 0,
           "arrowwidth": 1
          },
          "autotypenumbers": "strict",
          "coloraxis": {
           "colorbar": {
            "outlinewidth": 0,
            "ticks": ""
           }
          },
          "colorscale": {
           "diverging": [
            [
             0,
             "#8e0152"
            ],
            [
             0.1,
             "#c51b7d"
            ],
            [
             0.2,
             "#de77ae"
            ],
            [
             0.3,
             "#f1b6da"
            ],
            [
             0.4,
             "#fde0ef"
            ],
            [
             0.5,
             "#f7f7f7"
            ],
            [
             0.6,
             "#e6f5d0"
            ],
            [
             0.7,
             "#b8e186"
            ],
            [
             0.8,
             "#7fbc41"
            ],
            [
             0.9,
             "#4d9221"
            ],
            [
             1,
             "#276419"
            ]
           ],
           "sequential": [
            [
             0,
             "#0d0887"
            ],
            [
             0.1111111111111111,
             "#46039f"
            ],
            [
             0.2222222222222222,
             "#7201a8"
            ],
            [
             0.3333333333333333,
             "#9c179e"
            ],
            [
             0.4444444444444444,
             "#bd3786"
            ],
            [
             0.5555555555555556,
             "#d8576b"
            ],
            [
             0.6666666666666666,
             "#ed7953"
            ],
            [
             0.7777777777777778,
             "#fb9f3a"
            ],
            [
             0.8888888888888888,
             "#fdca26"
            ],
            [
             1,
             "#f0f921"
            ]
           ],
           "sequentialminus": [
            [
             0,
             "#0d0887"
            ],
            [
             0.1111111111111111,
             "#46039f"
            ],
            [
             0.2222222222222222,
             "#7201a8"
            ],
            [
             0.3333333333333333,
             "#9c179e"
            ],
            [
             0.4444444444444444,
             "#bd3786"
            ],
            [
             0.5555555555555556,
             "#d8576b"
            ],
            [
             0.6666666666666666,
             "#ed7953"
            ],
            [
             0.7777777777777778,
             "#fb9f3a"
            ],
            [
             0.8888888888888888,
             "#fdca26"
            ],
            [
             1,
             "#f0f921"
            ]
           ]
          },
          "colorway": [
           "#636efa",
           "#EF553B",
           "#00cc96",
           "#ab63fa",
           "#FFA15A",
           "#19d3f3",
           "#FF6692",
           "#B6E880",
           "#FF97FF",
           "#FECB52"
          ],
          "font": {
           "color": "#2a3f5f"
          },
          "geo": {
           "bgcolor": "white",
           "lakecolor": "white",
           "landcolor": "#E5ECF6",
           "showlakes": true,
           "showland": true,
           "subunitcolor": "white"
          },
          "hoverlabel": {
           "align": "left"
          },
          "hovermode": "closest",
          "mapbox": {
           "style": "light"
          },
          "paper_bgcolor": "white",
          "plot_bgcolor": "#E5ECF6",
          "polar": {
           "angularaxis": {
            "gridcolor": "white",
            "linecolor": "white",
            "ticks": ""
           },
           "bgcolor": "#E5ECF6",
           "radialaxis": {
            "gridcolor": "white",
            "linecolor": "white",
            "ticks": ""
           }
          },
          "scene": {
           "xaxis": {
            "backgroundcolor": "#E5ECF6",
            "gridcolor": "white",
            "gridwidth": 2,
            "linecolor": "white",
            "showbackground": true,
            "ticks": "",
            "zerolinecolor": "white"
           },
           "yaxis": {
            "backgroundcolor": "#E5ECF6",
            "gridcolor": "white",
            "gridwidth": 2,
            "linecolor": "white",
            "showbackground": true,
            "ticks": "",
            "zerolinecolor": "white"
           },
           "zaxis": {
            "backgroundcolor": "#E5ECF6",
            "gridcolor": "white",
            "gridwidth": 2,
            "linecolor": "white",
            "showbackground": true,
            "ticks": "",
            "zerolinecolor": "white"
           }
          },
          "shapedefaults": {
           "line": {
            "color": "#2a3f5f"
           }
          },
          "ternary": {
           "aaxis": {
            "gridcolor": "white",
            "linecolor": "white",
            "ticks": ""
           },
           "baxis": {
            "gridcolor": "white",
            "linecolor": "white",
            "ticks": ""
           },
           "bgcolor": "#E5ECF6",
           "caxis": {
            "gridcolor": "white",
            "linecolor": "white",
            "ticks": ""
           }
          },
          "title": {
           "x": 0.05
          },
          "xaxis": {
           "automargin": true,
           "gridcolor": "white",
           "linecolor": "white",
           "ticks": "",
           "title": {
            "standoff": 15
           },
           "zerolinecolor": "white",
           "zerolinewidth": 2
          },
          "yaxis": {
           "automargin": true,
           "gridcolor": "white",
           "linecolor": "white",
           "ticks": "",
           "title": {
            "standoff": 15
           },
           "zerolinecolor": "white",
           "zerolinewidth": 2
          }
         }
        },
        "xaxis": {
         "anchor": "y",
         "domain": [
          0,
          1
         ],
         "title": {
          "text": "count"
         }
        },
        "yaxis": {
         "anchor": "x",
         "categoryarray": [
          "Salted Crisper Fries",
          "Masala Potato Pide",
          "Malai Gud Pide",
          "Tipsy Tiger Fresh Lime Soda",
          "Fried Chicken Strips",
          "Fried Chicken Ghostbuster Tender",
          "Grilled Chicken Angara Tender",
          "Garlic Aioli",
          "Salted Fries",
          "Just Pepperoni Pide",
          "Mutton Seekh Pizza",
          "OG Cheese Pide",
          "Chicken Pepperoni Pizza",
          "Mutton Seekh Pide",
          "Onion Rings",
          "Spinach Sumac Pide",
          "Peri Peri Fries",
          "Bellpepper Onion Pizza",
          "Pepperoni Garlic Bread",
          "Peri Peri Chicken Melt",
          "Grilled Chicken Peri Peri Tender",
          "Fried Chicken Angara Tender",
          "Fried Chicken Classic Tender",
          "Grilled Chicken Smoky BBQ Tender",
          "Peri Peri Grilled Chicken Pizza",
          "Mushroom Pizza",
          "Bone in Angara Grilled Chicken",
          "Bone in Kabuli Grilled Chicken",
          "Peri Peri Crisper Fries",
          "Murgh Amritsari Seekh Melt",
          "Mushroom Mozzarella Melt",
          "Just Pepperoni Pizza",
          "Fried Chicken Peri Peri Tender",
          "Grilled Chicken Jamaican Tender",
          "Murgh Amritsari Seekh Pide",
          "Bone in Peri Peri Grilled Chicken",
          "Angara Paneer Melt",
          "Masala Paneer Pide",
          "Murgh Amritsari Garlic Bread",
          "Peri Peri Paneer Pizza",
          "Bone in Smoky Bbq Grilled Chicken",
          "Animal Fries",
          "Murgh Amritsari Seekh Pizza",
          "Herbed Potato",
          "Tripple Cheese Pizza",
          "Jamaican Chicken Melt",
          "Cheesy Garlic Bread",
          "Margherita Pizza",
          "Makhani Paneer Pizza",
          "All About Chicken Pizza",
          "Bone in Jamaican Grilled Chicken",
          "Chilli Cheese Garlic Bread",
          "Bageecha Pizza"
         ],
         "categoryorder": "array",
         "domain": [
          0,
          1
         ],
         "title": {
          "text": "distinct_items"
         }
        }
       }
      }
     },
     "metadata": {},
     "output_type": "display_data"
    }
   ],
   "source": [
    "px.bar(\n",
    "    distinct_items_ordered.filter(pl.col('count_percentage')>1),\n",
    "    y='distinct_items',\n",
    "    x='count',\n",
    "    color='distinct_items',\n",
    "    orientation='h'\n",
    ")"
   ]
  },
  {
   "cell_type": "code",
   "execution_count": 494,
   "metadata": {},
   "outputs": [
    {
     "name": "stdout",
     "output_type": "stream",
     "text": [
      "916\n"
     ]
    },
    {
     "data": {
      "text/html": [
       "<div><style>\n",
       ".dataframe > thead > tr,\n",
       ".dataframe > tbody > tr {\n",
       "  text-align: right;\n",
       "  white-space: pre-wrap;\n",
       "}\n",
       "</style>\n",
       "<small>shape: (20, 7)</small><table border=\"1\" class=\"dataframe\"><thead><tr><th>restaurant_id</th><th>restaurant_name</th><th>distinct_items</th><th>count_item_orders_per_restaurant</th><th>count_item_orders_across_restaurants</th><th>count_item_per_franchise</th><th>count_item_per_restaurant</th></tr><tr><td>str</td><td>str</td><td>str</td><td>u32</td><td>u32</td><td>u32</td><td>u32</td></tr></thead><tbody><tr><td>&quot;20659868&quot;</td><td>&quot;Aura Pizzas&quot;</td><td>&quot;Bageecha Pizza&quot;</td><td>1026</td><td>3116</td><td>5</td><td>5</td></tr><tr><td>&quot;21077127&quot;</td><td>&quot;Aura Pizzas&quot;</td><td>&quot;Bageecha Pizza&quot;</td><td>562</td><td>3116</td><td>5</td><td>5</td></tr><tr><td>&quot;20635699&quot;</td><td>&quot;Aura Pizzas&quot;</td><td>&quot;Bageecha Pizza&quot;</td><td>726</td><td>3116</td><td>5</td><td>5</td></tr><tr><td>&quot;20882652&quot;</td><td>&quot;Aura Pizzas&quot;</td><td>&quot;Bageecha Pizza&quot;</td><td>570</td><td>3116</td><td>5</td><td>5</td></tr><tr><td>&quot;21173951&quot;</td><td>&quot;Aura Pizzas&quot;</td><td>&quot;Bageecha Pizza&quot;</td><td>232</td><td>3116</td><td>5</td><td>5</td></tr><tr><td>&quot;21173951&quot;</td><td>&quot;Aura Pizzas&quot;</td><td>&quot;Chilli Cheese Garlic Bread&quot;</td><td>99</td><td>1749</td><td>5</td><td>5</td></tr><tr><td>&quot;20635699&quot;</td><td>&quot;Aura Pizzas&quot;</td><td>&quot;Chilli Cheese Garlic Bread&quot;</td><td>507</td><td>1749</td><td>5</td><td>5</td></tr><tr><td>&quot;21077127&quot;</td><td>&quot;Aura Pizzas&quot;</td><td>&quot;Chilli Cheese Garlic Bread&quot;</td><td>311</td><td>1749</td><td>5</td><td>5</td></tr><tr><td>&quot;20882652&quot;</td><td>&quot;Aura Pizzas&quot;</td><td>&quot;Chilli Cheese Garlic Bread&quot;</td><td>287</td><td>1749</td><td>5</td><td>5</td></tr><tr><td>&quot;20659868&quot;</td><td>&quot;Aura Pizzas&quot;</td><td>&quot;Chilli Cheese Garlic Bread&quot;</td><td>545</td><td>1749</td><td>5</td><td>5</td></tr><tr><td>&quot;21309083&quot;</td><td>&quot;Swaad&quot;</td><td>&quot;Bone in Jamaican Grilled Chick…</td><td>199</td><td>1631</td><td>4</td><td>4</td></tr><tr><td>&quot;20554001&quot;</td><td>&quot;Swaad&quot;</td><td>&quot;Bone in Jamaican Grilled Chick…</td><td>665</td><td>1631</td><td>4</td><td>4</td></tr><tr><td>&quot;21077127&quot;</td><td>&quot;Aura Pizzas&quot;</td><td>&quot;All About Chicken Pizza&quot;</td><td>246</td><td>1631</td><td>5</td><td>5</td></tr><tr><td>&quot;20635699&quot;</td><td>&quot;Aura Pizzas&quot;</td><td>&quot;All About Chicken Pizza&quot;</td><td>513</td><td>1631</td><td>5</td><td>5</td></tr><tr><td>&quot;20320607&quot;</td><td>&quot;Swaad&quot;</td><td>&quot;Bone in Jamaican Grilled Chick…</td><td>402</td><td>1631</td><td>4</td><td>4</td></tr><tr><td>&quot;20882652&quot;</td><td>&quot;Aura Pizzas&quot;</td><td>&quot;All About Chicken Pizza&quot;</td><td>239</td><td>1631</td><td>5</td><td>5</td></tr><tr><td>&quot;21173951&quot;</td><td>&quot;Aura Pizzas&quot;</td><td>&quot;All About Chicken Pizza&quot;</td><td>92</td><td>1631</td><td>5</td><td>5</td></tr><tr><td>&quot;20659868&quot;</td><td>&quot;Aura Pizzas&quot;</td><td>&quot;All About Chicken Pizza&quot;</td><td>541</td><td>1631</td><td>5</td><td>5</td></tr><tr><td>&quot;20882713&quot;</td><td>&quot;Swaad&quot;</td><td>&quot;Bone in Jamaican Grilled Chick…</td><td>365</td><td>1631</td><td>4</td><td>4</td></tr><tr><td>&quot;20635699&quot;</td><td>&quot;Aura Pizzas&quot;</td><td>&quot;Makhani Paneer Pizza&quot;</td><td>320</td><td>1451</td><td>5</td><td>5</td></tr></tbody></table></div>"
      ],
      "text/plain": [
       "shape: (20, 7)\n",
       "┌──────────────┬─────────────┬─────────────┬─────────────┬─────────────┬─────────────┬─────────────┐\n",
       "│ restaurant_i ┆ restaurant_ ┆ distinct_it ┆ count_item_ ┆ count_item_ ┆ count_item_ ┆ count_item_ │\n",
       "│ d            ┆ name        ┆ ems         ┆ orders_per_ ┆ orders_acro ┆ per_franchi ┆ per_restaur │\n",
       "│ ---          ┆ ---         ┆ ---         ┆ restaura…   ┆ ss_resta…   ┆ se          ┆ ant         │\n",
       "│ str          ┆ str         ┆ str         ┆ ---         ┆ ---         ┆ ---         ┆ ---         │\n",
       "│              ┆             ┆             ┆ u32         ┆ u32         ┆ u32         ┆ u32         │\n",
       "╞══════════════╪═════════════╪═════════════╪═════════════╪═════════════╪═════════════╪═════════════╡\n",
       "│ 20659868     ┆ Aura Pizzas ┆ Bageecha    ┆ 1026        ┆ 3116        ┆ 5           ┆ 5           │\n",
       "│              ┆             ┆ Pizza       ┆             ┆             ┆             ┆             │\n",
       "│ 21077127     ┆ Aura Pizzas ┆ Bageecha    ┆ 562         ┆ 3116        ┆ 5           ┆ 5           │\n",
       "│              ┆             ┆ Pizza       ┆             ┆             ┆             ┆             │\n",
       "│ 20635699     ┆ Aura Pizzas ┆ Bageecha    ┆ 726         ┆ 3116        ┆ 5           ┆ 5           │\n",
       "│              ┆             ┆ Pizza       ┆             ┆             ┆             ┆             │\n",
       "│ 20882652     ┆ Aura Pizzas ┆ Bageecha    ┆ 570         ┆ 3116        ┆ 5           ┆ 5           │\n",
       "│              ┆             ┆ Pizza       ┆             ┆             ┆             ┆             │\n",
       "│ 21173951     ┆ Aura Pizzas ┆ Bageecha    ┆ 232         ┆ 3116        ┆ 5           ┆ 5           │\n",
       "│              ┆             ┆ Pizza       ┆             ┆             ┆             ┆             │\n",
       "│ 21173951     ┆ Aura Pizzas ┆ Chilli      ┆ 99          ┆ 1749        ┆ 5           ┆ 5           │\n",
       "│              ┆             ┆ Cheese      ┆             ┆             ┆             ┆             │\n",
       "│              ┆             ┆ Garlic      ┆             ┆             ┆             ┆             │\n",
       "│              ┆             ┆ Bread       ┆             ┆             ┆             ┆             │\n",
       "│ 20635699     ┆ Aura Pizzas ┆ Chilli      ┆ 507         ┆ 1749        ┆ 5           ┆ 5           │\n",
       "│              ┆             ┆ Cheese      ┆             ┆             ┆             ┆             │\n",
       "│              ┆             ┆ Garlic      ┆             ┆             ┆             ┆             │\n",
       "│              ┆             ┆ Bread       ┆             ┆             ┆             ┆             │\n",
       "│ 21077127     ┆ Aura Pizzas ┆ Chilli      ┆ 311         ┆ 1749        ┆ 5           ┆ 5           │\n",
       "│              ┆             ┆ Cheese      ┆             ┆             ┆             ┆             │\n",
       "│              ┆             ┆ Garlic      ┆             ┆             ┆             ┆             │\n",
       "│              ┆             ┆ Bread       ┆             ┆             ┆             ┆             │\n",
       "│ 20882652     ┆ Aura Pizzas ┆ Chilli      ┆ 287         ┆ 1749        ┆ 5           ┆ 5           │\n",
       "│              ┆             ┆ Cheese      ┆             ┆             ┆             ┆             │\n",
       "│              ┆             ┆ Garlic      ┆             ┆             ┆             ┆             │\n",
       "│              ┆             ┆ Bread       ┆             ┆             ┆             ┆             │\n",
       "│ 20659868     ┆ Aura Pizzas ┆ Chilli      ┆ 545         ┆ 1749        ┆ 5           ┆ 5           │\n",
       "│              ┆             ┆ Cheese      ┆             ┆             ┆             ┆             │\n",
       "│              ┆             ┆ Garlic      ┆             ┆             ┆             ┆             │\n",
       "│              ┆             ┆ Bread       ┆             ┆             ┆             ┆             │\n",
       "│ 21309083     ┆ Swaad       ┆ Bone in     ┆ 199         ┆ 1631        ┆ 4           ┆ 4           │\n",
       "│              ┆             ┆ Jamaican    ┆             ┆             ┆             ┆             │\n",
       "│              ┆             ┆ Grilled     ┆             ┆             ┆             ┆             │\n",
       "│              ┆             ┆ Chick…      ┆             ┆             ┆             ┆             │\n",
       "│ 20554001     ┆ Swaad       ┆ Bone in     ┆ 665         ┆ 1631        ┆ 4           ┆ 4           │\n",
       "│              ┆             ┆ Jamaican    ┆             ┆             ┆             ┆             │\n",
       "│              ┆             ┆ Grilled     ┆             ┆             ┆             ┆             │\n",
       "│              ┆             ┆ Chick…      ┆             ┆             ┆             ┆             │\n",
       "│ 21077127     ┆ Aura Pizzas ┆ All About   ┆ 246         ┆ 1631        ┆ 5           ┆ 5           │\n",
       "│              ┆             ┆ Chicken     ┆             ┆             ┆             ┆             │\n",
       "│              ┆             ┆ Pizza       ┆             ┆             ┆             ┆             │\n",
       "│ 20635699     ┆ Aura Pizzas ┆ All About   ┆ 513         ┆ 1631        ┆ 5           ┆ 5           │\n",
       "│              ┆             ┆ Chicken     ┆             ┆             ┆             ┆             │\n",
       "│              ┆             ┆ Pizza       ┆             ┆             ┆             ┆             │\n",
       "│ 20320607     ┆ Swaad       ┆ Bone in     ┆ 402         ┆ 1631        ┆ 4           ┆ 4           │\n",
       "│              ┆             ┆ Jamaican    ┆             ┆             ┆             ┆             │\n",
       "│              ┆             ┆ Grilled     ┆             ┆             ┆             ┆             │\n",
       "│              ┆             ┆ Chick…      ┆             ┆             ┆             ┆             │\n",
       "│ 20882652     ┆ Aura Pizzas ┆ All About   ┆ 239         ┆ 1631        ┆ 5           ┆ 5           │\n",
       "│              ┆             ┆ Chicken     ┆             ┆             ┆             ┆             │\n",
       "│              ┆             ┆ Pizza       ┆             ┆             ┆             ┆             │\n",
       "│ 21173951     ┆ Aura Pizzas ┆ All About   ┆ 92          ┆ 1631        ┆ 5           ┆ 5           │\n",
       "│              ┆             ┆ Chicken     ┆             ┆             ┆             ┆             │\n",
       "│              ┆             ┆ Pizza       ┆             ┆             ┆             ┆             │\n",
       "│ 20659868     ┆ Aura Pizzas ┆ All About   ┆ 541         ┆ 1631        ┆ 5           ┆ 5           │\n",
       "│              ┆             ┆ Chicken     ┆             ┆             ┆             ┆             │\n",
       "│              ┆             ┆ Pizza       ┆             ┆             ┆             ┆             │\n",
       "│ 20882713     ┆ Swaad       ┆ Bone in     ┆ 365         ┆ 1631        ┆ 4           ┆ 4           │\n",
       "│              ┆             ┆ Jamaican    ┆             ┆             ┆             ┆             │\n",
       "│              ┆             ┆ Grilled     ┆             ┆             ┆             ┆             │\n",
       "│              ┆             ┆ Chick…      ┆             ┆             ┆             ┆             │\n",
       "│ 20635699     ┆ Aura Pizzas ┆ Makhani     ┆ 320         ┆ 1451        ┆ 5           ┆ 5           │\n",
       "│              ┆             ┆ Paneer      ┆             ┆             ┆             ┆             │\n",
       "│              ┆             ┆ Pizza       ┆             ┆             ┆             ┆             │\n",
       "└──────────────┴─────────────┴─────────────┴─────────────┴─────────────┴─────────────┴─────────────┘"
      ]
     },
     "execution_count": 494,
     "metadata": {},
     "output_type": "execute_result"
    }
   ],
   "source": [
    "items_per_restaurant_fields = ['restaurant_id', 'restaurant_name', 'distinct_items']\n",
    "\n",
    "distinct_items_per_restaurant_df = df_transformed.select(\n",
    "    items_per_restaurant_fields\n",
    ").explode(\n",
    "    pl.col('distinct_items')\n",
    ").group_by(\n",
    "    items_per_restaurant_fields\n",
    ").agg(\n",
    "    pl.len().alias('count_item_orders_per_restaurant'),\n",
    ").with_columns(\n",
    "    pl.col('count_item_orders_per_restaurant').sum().over('distinct_items').alias('count_item_orders_across_restaurants'),\n",
    "    pl.len().over(['distinct_items', 'restaurant_name']).alias('count_item_per_franchise'),\n",
    "    pl.len().over(['distinct_items',]).alias('count_item_per_restaurant'),\n",
    ").sort(\n",
    "    pl.col('count_item_orders_across_restaurants'),\n",
    "    descending=True\n",
    ")\n",
    "\n",
    "print(len(distinct_items_per_restaurant_df))\n",
    "distinct_items_per_restaurant_df.head(20)\n",
    "\n",
    "# Notes: \n",
    "# - Items seem to be coming from same franchise but from different locations (same restaurant_name, different restaurant_id)\n",
    "# - Should the grain be restaurant_id or restaurant_name? (e.g. if wanting to see items that are appearing in multiple franchises)"
   ]
  },
  {
   "cell_type": "code",
   "execution_count": 498,
   "metadata": {},
   "outputs": [
    {
     "data": {
      "text/html": [
       "<div><style>\n",
       ".dataframe > thead > tr,\n",
       ".dataframe > tbody > tr {\n",
       "  text-align: right;\n",
       "  white-space: pre-wrap;\n",
       "}\n",
       "</style>\n",
       "<small>shape: (31,)</small><table border=\"1\" class=\"dataframe\"><thead><tr><th>distinct_items</th></tr><tr><td>str</td></tr></thead><tbody><tr><td>&quot;Peri Peri Crispers Fries&quot;</td></tr><tr><td>&quot;Fried Chicken Tenders&quot;</td></tr><tr><td>&quot;Combo For 1 - Veg&quot;</td></tr><tr><td>&quot;Tipsy Tiger Fresh Lime Soda&quot;</td></tr><tr><td>&quot;Indian Pico De-Gallo&quot;</td></tr><tr><td>&quot;Raw Masala Lemon Shikanji&quot;</td></tr><tr><td>&quot;Tipsy Tiger Ginger Ale&quot;</td></tr><tr><td>&quot;Garlic Aioli&quot;</td></tr><tr><td>&quot;Iced Green Tea - Mojito&quot;</td></tr><tr><td>&quot;Combo For 1 - Non Veg&quot;</td></tr><tr><td>&hellip;</td></tr><tr><td>&quot;Peri Peri Fries&quot;</td></tr><tr><td>&quot;Chocolate Walnut Brownie&quot;</td></tr><tr><td>&quot;Red Rice&quot;</td></tr><tr><td>&quot;Peri Peri Crisper Fries&quot;</td></tr><tr><td>&quot;Salted Crisper Fries&quot;</td></tr><tr><td>&quot;Harisa Mayo&quot;</td></tr><tr><td>&quot;Fried Chicken Strips&quot;</td></tr><tr><td>&quot;Combo for 2 - Non Veg&quot;</td></tr><tr><td>&quot;Angara Rice&quot;</td></tr><tr><td>&quot;Grilled Chicken Tangdi&quot;</td></tr></tbody></table></div>"
      ],
      "text/plain": [
       "shape: (31,)\n",
       "Series: 'distinct_items' [str]\n",
       "[\n",
       "\t\"Peri Peri Crispers Fries\"\n",
       "\t\"Fried Chicken Tenders\"\n",
       "\t\"Combo For 1 - Veg\"\n",
       "\t\"Tipsy Tiger Fresh Lime Soda\"\n",
       "\t\"Indian Pico De-Gallo\"\n",
       "\t\"Raw Masala Lemon Shikanji\"\n",
       "\t\"Tipsy Tiger Ginger Ale\"\n",
       "\t\"Garlic Aioli\"\n",
       "\t\"Iced Green Tea - Mojito\"\n",
       "\t\"Combo For 1 - Non Veg\"\n",
       "\t…\n",
       "\t\"Peri Peri Fries\"\n",
       "\t\"Chocolate Walnut Brownie\"\n",
       "\t\"Red Rice\"\n",
       "\t\"Peri Peri Crisper Fries\"\n",
       "\t\"Salted Crisper Fries\"\n",
       "\t\"Harisa Mayo\"\n",
       "\t\"Fried Chicken Strips\"\n",
       "\t\"Combo for 2 - Non Veg\"\n",
       "\t\"Angara Rice\"\n",
       "\t\"Grilled Chicken Tangdi\"\n",
       "]"
      ]
     },
     "execution_count": 498,
     "metadata": {},
     "output_type": "execute_result"
    }
   ],
   "source": [
    "# Find out which items are spread across multiple franchises\n",
    "distinct_items_per_restaurant_df.filter(\n",
    "    pl.col('count_item_per_franchise') != pl.col('count_item_per_restaurant')\n",
    ")['distinct_items'].unique()"
   ]
  },
  {
   "cell_type": "code",
   "execution_count": 529,
   "metadata": {},
   "outputs": [
    {
     "name": "stdout",
     "output_type": "stream",
     "text": [
      "244\n"
     ]
    },
    {
     "data": {
      "text/html": [
       "<div><style>\n",
       ".dataframe > thead > tr,\n",
       ".dataframe > tbody > tr {\n",
       "  text-align: right;\n",
       "  white-space: pre-wrap;\n",
       "}\n",
       "</style>\n",
       "<small>shape: (20, 4)</small><table border=\"1\" class=\"dataframe\"><thead><tr><th>distinct_items</th><th>count</th><th>count_percentage</th><th>Category</th></tr><tr><td>str</td><td>u32</td><td>f64</td><td>str</td></tr></thead><tbody><tr><td>&quot;Bageecha Pizza&quot;</td><td>3116</td><td>14.61</td><td>&quot;Pizza&quot;</td></tr><tr><td>&quot;Chilli Cheese Garlic Bread&quot;</td><td>1749</td><td>8.2</td><td>&quot;Bread&quot;</td></tr><tr><td>&quot;Bone in Jamaican Grilled Chick…</td><td>1631</td><td>7.65</td><td>&quot;Chicken&quot;</td></tr><tr><td>&quot;All About Chicken Pizza&quot;</td><td>1631</td><td>7.65</td><td>&quot;Chicken&quot;</td></tr><tr><td>&quot;Makhani Paneer Pizza&quot;</td><td>1451</td><td>6.81</td><td>&quot;Pizza&quot;</td></tr><tr><td>&quot;Margherita Pizza&quot;</td><td>1340</td><td>6.28</td><td>&quot;Pizza&quot;</td></tr><tr><td>&quot;Cheesy Garlic Bread&quot;</td><td>1155</td><td>5.42</td><td>&quot;Bread&quot;</td></tr><tr><td>&quot;Jamaican Chicken Melt&quot;</td><td>1148</td><td>5.38</td><td>&quot;Chicken&quot;</td></tr><tr><td>&quot;Tripple Cheese Pizza&quot;</td><td>910</td><td>4.27</td><td>&quot;Pizza&quot;</td></tr><tr><td>&quot;Herbed Potato&quot;</td><td>880</td><td>4.13</td><td>&quot;Potato&quot;</td></tr><tr><td>&quot;Murgh Amritsari Seekh Pizza&quot;</td><td>844</td><td>3.96</td><td>&quot;Pizza&quot;</td></tr><tr><td>&quot;Animal Fries&quot;</td><td>737</td><td>3.46</td><td>&quot;Fries&quot;</td></tr><tr><td>&quot;Bone in Smoky Bbq Grilled Chic…</td><td>735</td><td>3.45</td><td>&quot;Chicken&quot;</td></tr><tr><td>&quot;Peri Peri Paneer Pizza&quot;</td><td>734</td><td>3.44</td><td>&quot;Pizza&quot;</td></tr><tr><td>&quot;Murgh Amritsari Garlic Bread&quot;</td><td>686</td><td>3.22</td><td>&quot;Bread&quot;</td></tr><tr><td>&quot;Masala Paneer Pide&quot;</td><td>675</td><td>3.17</td><td>&quot;Pide&quot;</td></tr><tr><td>&quot;Angara Paneer Melt&quot;</td><td>666</td><td>3.12</td><td>&quot;Melt&quot;</td></tr><tr><td>&quot;Bone in Peri Peri Grilled Chic…</td><td>591</td><td>2.77</td><td>&quot;Chicken&quot;</td></tr><tr><td>&quot;Murgh Amritsari Seekh Pide&quot;</td><td>585</td><td>2.74</td><td>&quot;Pide&quot;</td></tr><tr><td>&quot;Grilled Chicken Jamaican Tende…</td><td>579</td><td>2.72</td><td>&quot;Chicken&quot;</td></tr></tbody></table></div>"
      ],
      "text/plain": [
       "shape: (20, 4)\n",
       "┌─────────────────────────────────┬───────┬──────────────────┬──────────┐\n",
       "│ distinct_items                  ┆ count ┆ count_percentage ┆ Category │\n",
       "│ ---                             ┆ ---   ┆ ---              ┆ ---      │\n",
       "│ str                             ┆ u32   ┆ f64              ┆ str      │\n",
       "╞═════════════════════════════════╪═══════╪══════════════════╪══════════╡\n",
       "│ Bageecha Pizza                  ┆ 3116  ┆ 14.61            ┆ Pizza    │\n",
       "│ Chilli Cheese Garlic Bread      ┆ 1749  ┆ 8.2              ┆ Bread    │\n",
       "│ Bone in Jamaican Grilled Chick… ┆ 1631  ┆ 7.65             ┆ Chicken  │\n",
       "│ All About Chicken Pizza         ┆ 1631  ┆ 7.65             ┆ Chicken  │\n",
       "│ Makhani Paneer Pizza            ┆ 1451  ┆ 6.81             ┆ Pizza    │\n",
       "│ Margherita Pizza                ┆ 1340  ┆ 6.28             ┆ Pizza    │\n",
       "│ Cheesy Garlic Bread             ┆ 1155  ┆ 5.42             ┆ Bread    │\n",
       "│ Jamaican Chicken Melt           ┆ 1148  ┆ 5.38             ┆ Chicken  │\n",
       "│ Tripple Cheese Pizza            ┆ 910   ┆ 4.27             ┆ Pizza    │\n",
       "│ Herbed Potato                   ┆ 880   ┆ 4.13             ┆ Potato   │\n",
       "│ Murgh Amritsari Seekh Pizza     ┆ 844   ┆ 3.96             ┆ Pizza    │\n",
       "│ Animal Fries                    ┆ 737   ┆ 3.46             ┆ Fries    │\n",
       "│ Bone in Smoky Bbq Grilled Chic… ┆ 735   ┆ 3.45             ┆ Chicken  │\n",
       "│ Peri Peri Paneer Pizza          ┆ 734   ┆ 3.44             ┆ Pizza    │\n",
       "│ Murgh Amritsari Garlic Bread    ┆ 686   ┆ 3.22             ┆ Bread    │\n",
       "│ Masala Paneer Pide              ┆ 675   ┆ 3.17             ┆ Pide     │\n",
       "│ Angara Paneer Melt              ┆ 666   ┆ 3.12             ┆ Melt     │\n",
       "│ Bone in Peri Peri Grilled Chic… ┆ 591   ┆ 2.77             ┆ Chicken  │\n",
       "│ Murgh Amritsari Seekh Pide      ┆ 585   ┆ 2.74             ┆ Pide     │\n",
       "│ Grilled Chicken Jamaican Tende… ┆ 579   ┆ 2.72             ┆ Chicken  │\n",
       "└─────────────────────────────────┴───────┴──────────────────┴──────────┘"
      ]
     },
     "execution_count": 529,
     "metadata": {},
     "output_type": "execute_result"
    }
   ],
   "source": [
    "food_category_values = ['Pizza', 'Bread', 'Chicken', 'Potato', 'Fries', 'Slider', 'Steak', 'Pide', 'Melt', 'Tea', 'Soda', 'Rice', 'Burger', 'Sauce', 'Dip',]\n",
    "\n",
    "distinct_items_categorized = distinct_items_ordered.with_columns(\n",
    "    pl.col('distinct_items').str.split(' ').list.eval(pl.element().str.to_titlecase()).list.set_intersection(food_category_values).list.first().alias('Category')\n",
    ")\n",
    "\n",
    "print(len(distinct_items_categorized))\n",
    "distinct_items_categorized.head(20)"
   ]
  },
  {
   "cell_type": "code",
   "execution_count": null,
   "metadata": {},
   "outputs": [],
   "source": []
  }
 ],
 "metadata": {
  "kernelspec": {
   "display_name": "datascience_env",
   "language": "python",
   "name": "python3"
  },
  "language_info": {
   "codemirror_mode": {
    "name": "ipython",
    "version": 3
   },
   "file_extension": ".py",
   "mimetype": "text/x-python",
   "name": "python",
   "nbconvert_exporter": "python",
   "pygments_lexer": "ipython3",
   "version": "3.12.9"
  }
 },
 "nbformat": 4,
 "nbformat_minor": 2
}
